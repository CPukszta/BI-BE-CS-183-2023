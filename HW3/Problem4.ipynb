{
  "nbformat": 4,
  "nbformat_minor": 0,
  "metadata": {
    "colab": {
      "provenance": [],
      "include_colab_link": true
    },
    "kernelspec": {
      "name": "python3",
      "display_name": "Python 3"
    },
    "language_info": {
      "name": "python"
    },
    "widgets": {
      "application/vnd.jupyter.widget-state+json": {
        "7a675b60a7a64d1889ffc25acbfa5738": {
          "model_module": "@jupyter-widgets/controls",
          "model_name": "HBoxModel",
          "model_module_version": "1.5.0",
          "state": {
            "_dom_classes": [],
            "_model_module": "@jupyter-widgets/controls",
            "_model_module_version": "1.5.0",
            "_model_name": "HBoxModel",
            "_view_count": null,
            "_view_module": "@jupyter-widgets/controls",
            "_view_module_version": "1.5.0",
            "_view_name": "HBoxView",
            "box_style": "",
            "children": [
              "IPY_MODEL_b8b51fb651764b34bc6f7f6a1e6ea6e7",
              "IPY_MODEL_800a70f9825a4836ad4335156e353460",
              "IPY_MODEL_2ff06e71999b42738a16cbcd89831ecc"
            ],
            "layout": "IPY_MODEL_db349986a1264e5fa578fdbd71eb2a2f"
          }
        },
        "b8b51fb651764b34bc6f7f6a1e6ea6e7": {
          "model_module": "@jupyter-widgets/controls",
          "model_name": "HTMLModel",
          "model_module_version": "1.5.0",
          "state": {
            "_dom_classes": [],
            "_model_module": "@jupyter-widgets/controls",
            "_model_module_version": "1.5.0",
            "_model_name": "HTMLModel",
            "_view_count": null,
            "_view_module": "@jupyter-widgets/controls",
            "_view_module_version": "1.5.0",
            "_view_name": "HTMLView",
            "description": "",
            "description_tooltip": null,
            "layout": "IPY_MODEL_1bd4328ff2a243658793febbe08a47cf",
            "placeholder": "​",
            "style": "IPY_MODEL_0be3a65021f349ce8b47c83d1c853723",
            "value": ""
          }
        },
        "800a70f9825a4836ad4335156e353460": {
          "model_module": "@jupyter-widgets/controls",
          "model_name": "FloatProgressModel",
          "model_module_version": "1.5.0",
          "state": {
            "_dom_classes": [],
            "_model_module": "@jupyter-widgets/controls",
            "_model_module_version": "1.5.0",
            "_model_name": "FloatProgressModel",
            "_view_count": null,
            "_view_module": "@jupyter-widgets/controls",
            "_view_module_version": "1.5.0",
            "_view_name": "ProgressView",
            "bar_style": "success",
            "description": "",
            "description_tooltip": null,
            "layout": "IPY_MODEL_62d48333c5844e7689c029777279ee97",
            "max": 94578,
            "min": 0,
            "orientation": "horizontal",
            "style": "IPY_MODEL_0d72fdd205b044b9ad7c85ad1e4b75f5",
            "value": 94578
          }
        },
        "2ff06e71999b42738a16cbcd89831ecc": {
          "model_module": "@jupyter-widgets/controls",
          "model_name": "HTMLModel",
          "model_module_version": "1.5.0",
          "state": {
            "_dom_classes": [],
            "_model_module": "@jupyter-widgets/controls",
            "_model_module_version": "1.5.0",
            "_model_name": "HTMLModel",
            "_view_count": null,
            "_view_module": "@jupyter-widgets/controls",
            "_view_module_version": "1.5.0",
            "_view_name": "HTMLView",
            "description": "",
            "description_tooltip": null,
            "layout": "IPY_MODEL_d2421677d4bd423b9b27ae9e48091c06",
            "placeholder": "​",
            "style": "IPY_MODEL_5ba5cc064ffa415e9c8cc2ce5135509e",
            "value": " 94579/? [03:07&lt;00:00, 21863.44B/s]"
          }
        },
        "db349986a1264e5fa578fdbd71eb2a2f": {
          "model_module": "@jupyter-widgets/base",
          "model_name": "LayoutModel",
          "model_module_version": "1.2.0",
          "state": {
            "_model_module": "@jupyter-widgets/base",
            "_model_module_version": "1.2.0",
            "_model_name": "LayoutModel",
            "_view_count": null,
            "_view_module": "@jupyter-widgets/base",
            "_view_module_version": "1.2.0",
            "_view_name": "LayoutView",
            "align_content": null,
            "align_items": null,
            "align_self": null,
            "border": null,
            "bottom": null,
            "display": null,
            "flex": null,
            "flex_flow": null,
            "grid_area": null,
            "grid_auto_columns": null,
            "grid_auto_flow": null,
            "grid_auto_rows": null,
            "grid_column": null,
            "grid_gap": null,
            "grid_row": null,
            "grid_template_areas": null,
            "grid_template_columns": null,
            "grid_template_rows": null,
            "height": null,
            "justify_content": null,
            "justify_items": null,
            "left": null,
            "margin": null,
            "max_height": null,
            "max_width": null,
            "min_height": null,
            "min_width": null,
            "object_fit": null,
            "object_position": null,
            "order": null,
            "overflow": null,
            "overflow_x": null,
            "overflow_y": null,
            "padding": null,
            "right": null,
            "top": null,
            "visibility": null,
            "width": null
          }
        },
        "1bd4328ff2a243658793febbe08a47cf": {
          "model_module": "@jupyter-widgets/base",
          "model_name": "LayoutModel",
          "model_module_version": "1.2.0",
          "state": {
            "_model_module": "@jupyter-widgets/base",
            "_model_module_version": "1.2.0",
            "_model_name": "LayoutModel",
            "_view_count": null,
            "_view_module": "@jupyter-widgets/base",
            "_view_module_version": "1.2.0",
            "_view_name": "LayoutView",
            "align_content": null,
            "align_items": null,
            "align_self": null,
            "border": null,
            "bottom": null,
            "display": null,
            "flex": null,
            "flex_flow": null,
            "grid_area": null,
            "grid_auto_columns": null,
            "grid_auto_flow": null,
            "grid_auto_rows": null,
            "grid_column": null,
            "grid_gap": null,
            "grid_row": null,
            "grid_template_areas": null,
            "grid_template_columns": null,
            "grid_template_rows": null,
            "height": null,
            "justify_content": null,
            "justify_items": null,
            "left": null,
            "margin": null,
            "max_height": null,
            "max_width": null,
            "min_height": null,
            "min_width": null,
            "object_fit": null,
            "object_position": null,
            "order": null,
            "overflow": null,
            "overflow_x": null,
            "overflow_y": null,
            "padding": null,
            "right": null,
            "top": null,
            "visibility": null,
            "width": null
          }
        },
        "0be3a65021f349ce8b47c83d1c853723": {
          "model_module": "@jupyter-widgets/controls",
          "model_name": "DescriptionStyleModel",
          "model_module_version": "1.5.0",
          "state": {
            "_model_module": "@jupyter-widgets/controls",
            "_model_module_version": "1.5.0",
            "_model_name": "DescriptionStyleModel",
            "_view_count": null,
            "_view_module": "@jupyter-widgets/base",
            "_view_module_version": "1.2.0",
            "_view_name": "StyleView",
            "description_width": ""
          }
        },
        "62d48333c5844e7689c029777279ee97": {
          "model_module": "@jupyter-widgets/base",
          "model_name": "LayoutModel",
          "model_module_version": "1.2.0",
          "state": {
            "_model_module": "@jupyter-widgets/base",
            "_model_module_version": "1.2.0",
            "_model_name": "LayoutModel",
            "_view_count": null,
            "_view_module": "@jupyter-widgets/base",
            "_view_module_version": "1.2.0",
            "_view_name": "LayoutView",
            "align_content": null,
            "align_items": null,
            "align_self": null,
            "border": null,
            "bottom": null,
            "display": null,
            "flex": null,
            "flex_flow": null,
            "grid_area": null,
            "grid_auto_columns": null,
            "grid_auto_flow": null,
            "grid_auto_rows": null,
            "grid_column": null,
            "grid_gap": null,
            "grid_row": null,
            "grid_template_areas": null,
            "grid_template_columns": null,
            "grid_template_rows": null,
            "height": null,
            "justify_content": null,
            "justify_items": null,
            "left": null,
            "margin": null,
            "max_height": null,
            "max_width": null,
            "min_height": null,
            "min_width": null,
            "object_fit": null,
            "object_position": null,
            "order": null,
            "overflow": null,
            "overflow_x": null,
            "overflow_y": null,
            "padding": null,
            "right": null,
            "top": null,
            "visibility": null,
            "width": null
          }
        },
        "0d72fdd205b044b9ad7c85ad1e4b75f5": {
          "model_module": "@jupyter-widgets/controls",
          "model_name": "ProgressStyleModel",
          "model_module_version": "1.5.0",
          "state": {
            "_model_module": "@jupyter-widgets/controls",
            "_model_module_version": "1.5.0",
            "_model_name": "ProgressStyleModel",
            "_view_count": null,
            "_view_module": "@jupyter-widgets/base",
            "_view_module_version": "1.2.0",
            "_view_name": "StyleView",
            "bar_color": null,
            "description_width": ""
          }
        },
        "d2421677d4bd423b9b27ae9e48091c06": {
          "model_module": "@jupyter-widgets/base",
          "model_name": "LayoutModel",
          "model_module_version": "1.2.0",
          "state": {
            "_model_module": "@jupyter-widgets/base",
            "_model_module_version": "1.2.0",
            "_model_name": "LayoutModel",
            "_view_count": null,
            "_view_module": "@jupyter-widgets/base",
            "_view_module_version": "1.2.0",
            "_view_name": "LayoutView",
            "align_content": null,
            "align_items": null,
            "align_self": null,
            "border": null,
            "bottom": null,
            "display": null,
            "flex": null,
            "flex_flow": null,
            "grid_area": null,
            "grid_auto_columns": null,
            "grid_auto_flow": null,
            "grid_auto_rows": null,
            "grid_column": null,
            "grid_gap": null,
            "grid_row": null,
            "grid_template_areas": null,
            "grid_template_columns": null,
            "grid_template_rows": null,
            "height": null,
            "justify_content": null,
            "justify_items": null,
            "left": null,
            "margin": null,
            "max_height": null,
            "max_width": null,
            "min_height": null,
            "min_width": null,
            "object_fit": null,
            "object_position": null,
            "order": null,
            "overflow": null,
            "overflow_x": null,
            "overflow_y": null,
            "padding": null,
            "right": null,
            "top": null,
            "visibility": null,
            "width": null
          }
        },
        "5ba5cc064ffa415e9c8cc2ce5135509e": {
          "model_module": "@jupyter-widgets/controls",
          "model_name": "DescriptionStyleModel",
          "model_module_version": "1.5.0",
          "state": {
            "_model_module": "@jupyter-widgets/controls",
            "_model_module_version": "1.5.0",
            "_model_name": "DescriptionStyleModel",
            "_view_count": null,
            "_view_module": "@jupyter-widgets/base",
            "_view_module_version": "1.2.0",
            "_view_name": "StyleView",
            "description_width": ""
          }
        }
      }
    }
  },
  "cells": [
    {
      "cell_type": "markdown",
      "metadata": {
        "id": "view-in-github",
        "colab_type": "text"
      },
      "source": [
        "<a href=\"https://colab.research.google.com/github/CPukszta/BI-BE-CS-183-2023/blob/main/HW3/Problem4.ipynb\" target=\"_parent\"><img src=\"https://colab.research.google.com/assets/colab-badge.svg\" alt=\"Open In Colab\"/></a>"
      ]
    },
    {
      "cell_type": "markdown",
      "metadata": {
        "id": "MozW3XxY8ezr"
      },
      "source": [
        "Bi/Be/Cs 183 2022-2023: Intro to Computational Biology\n",
        "TAs: Meichen Fang, Tara Chari, Zitong (Jerry) Wang\n",
        "\n",
        "**Submit your notebooks by sharing a clickable link with Viewer access. Link must be accessible from submitted assignment document.**\n",
        "\n",
        "Make sure Runtime $\\rightarrow$ Restart and run all works without error"
      ]
    },
    {
      "cell_type": "markdown",
      "source": [
        "**HW 3 Problem 4**\n",
        "\n",
        "In this problem you will compare PCA and SVD, common procedures for dimensionality reduction, on a single-cell dataset. Using the eigenvectors (components) of these factorization procedures we will see how relevant \"directions\" in biological data can be extracted, such as components which distinguish between the various cell types in the data.\n"
      ],
      "metadata": {
        "id": "Mu4obGyqS8fh"
      }
    },
    {
      "cell_type": "markdown",
      "metadata": {
        "id": "5oPRpu328neb"
      },
      "source": [
        "##**Import data and install packages**"
      ]
    },
    {
      "cell_type": "code",
      "metadata": {
        "id": "vYTZEjs9AqwV"
      },
      "source": [
        "import numpy as np\n",
        "import scipy.io as sio\n",
        "import pandas as pd\n",
        "import matplotlib.pyplot as plt #Can use other plotting packages like seaborn"
      ],
      "execution_count": 9,
      "outputs": []
    },
    {
      "cell_type": "code",
      "metadata": {
        "id": "kNFuUFJ78cN5"
      },
      "source": [
        "# ! allows you to run commands in the command line, as you would in your normal terminal/command line interface"
      ],
      "execution_count": 10,
      "outputs": []
    },
    {
      "cell_type": "code",
      "metadata": {
        "id": "yH-EpSmB9Y_x",
        "colab": {
          "base_uri": "https://localhost:8080/",
          "height": 102,
          "referenced_widgets": [
            "7a675b60a7a64d1889ffc25acbfa5738",
            "b8b51fb651764b34bc6f7f6a1e6ea6e7",
            "800a70f9825a4836ad4335156e353460",
            "2ff06e71999b42738a16cbcd89831ecc",
            "db349986a1264e5fa578fdbd71eb2a2f",
            "1bd4328ff2a243658793febbe08a47cf",
            "0be3a65021f349ce8b47c83d1c853723",
            "62d48333c5844e7689c029777279ee97",
            "0d72fdd205b044b9ad7c85ad1e4b75f5",
            "d2421677d4bd423b9b27ae9e48091c06",
            "5ba5cc064ffa415e9c8cc2ce5135509e"
          ]
        },
        "outputId": "6d9b2652-945a-4154-b361-173e09a7f3ac"
      },
      "source": [
        "#Download count matrix of cell by gene counts and metadata files, DOI: 10.22002/D1.2315\n",
        "#tar.gz file which has:\n",
        "#(1) count matrix \n",
        "#(2) metadata for cells (cell type, date of experimental run) \n",
        "#(3) metadata for genes (gene names)\n",
        "\n",
        "import requests\n",
        "from tqdm import tnrange, tqdm_notebook\n",
        "def download_file(doi,ext):\n",
        "    url = 'https://api.datacite.org/dois/'+doi+'/media'\n",
        "    r = requests.get(url).json()\n",
        "    netcdf_url = r['data'][0]['attributes']['url']\n",
        "    r = requests.get(netcdf_url,stream=True)\n",
        "    #Set file name\n",
        "    fname = doi.split('/')[-1]+ext\n",
        "    #Download file with progress bar\n",
        "    if r.status_code == 403:\n",
        "        print(\"File Unavailable\")\n",
        "    if 'content-length' not in r.headers:\n",
        "        print(\"Did not get file\")\n",
        "    else:\n",
        "        with open(fname, 'wb') as f:\n",
        "            total_length = int(r.headers.get('content-length'))\n",
        "            pbar = tnrange(int(total_length/1024), unit=\"B\")\n",
        "            for chunk in r.iter_content(chunk_size=1024):\n",
        "                if chunk:\n",
        "                    pbar.update()\n",
        "                    f.write(chunk)\n",
        "        return fname\n",
        "\n",
        "download_file('10.22002/D1.2315','.gz')\n"
      ],
      "execution_count": 11,
      "outputs": [
        {
          "output_type": "stream",
          "name": "stderr",
          "text": [
            "<ipython-input-11-6c7d4cfd6c14>:24: TqdmDeprecationWarning: Please use `tqdm.notebook.trange` instead of `tqdm.tnrange`\n",
            "  pbar = tnrange(int(total_length/1024), unit=\"B\")\n"
          ]
        },
        {
          "output_type": "display_data",
          "data": {
            "text/plain": [
              "  0%|          | 0/94578 [00:00<?, ?B/s]"
            ],
            "application/vnd.jupyter.widget-view+json": {
              "version_major": 2,
              "version_minor": 0,
              "model_id": "7a675b60a7a64d1889ffc25acbfa5738"
            }
          },
          "metadata": {}
        },
        {
          "output_type": "execute_result",
          "data": {
            "text/plain": [
              "'D1.2315.gz'"
            ],
            "application/vnd.google.colaboratory.intrinsic+json": {
              "type": "string"
            }
          },
          "metadata": {},
          "execution_count": 11
        }
      ]
    },
    {
      "cell_type": "code",
      "source": [
        "!mv D1.2315.gz biccn.tar.gz"
      ],
      "metadata": {
        "id": "7XuMs3sumqSA"
      },
      "execution_count": 12,
      "outputs": []
    },
    {
      "cell_type": "code",
      "source": [
        "!tar -xvf biccn.tar.gz"
      ],
      "metadata": {
        "colab": {
          "base_uri": "https://localhost:8080/"
        },
        "id": "4wXqI72TmVT3",
        "outputId": "edf6ed5a-b1ea-4369-908c-639694737f8b"
      },
      "execution_count": 13,
      "outputs": [
        {
          "output_type": "stream",
          "name": "stdout",
          "text": [
            "biccnGeneMeta.csv\n",
            "biccnMeta.csv\n",
            "biccn.mtx\n"
          ]
        }
      ]
    },
    {
      "cell_type": "markdown",
      "source": [
        "## **Read in data for analysis**"
      ],
      "metadata": {
        "id": "PpeuucqgiDPx"
      }
    },
    {
      "cell_type": "markdown",
      "source": [
        "**The dataset**"
      ],
      "metadata": {
        "id": "swY2nSDukmXg"
      }
    },
    {
      "cell_type": "markdown",
      "source": [
        "This dataset maps the cells in the mouse primary motor cortex (MOp), including neuronal and non-neuronal cell types ([Yao et al., 2021](https://www.nature.com/articles/s41586-021-03500-8)). We will be dealing with the 10x sequenced data only.\n",
        "\n",
        "We will be using PCA and SVD factorization of the gene count matrix to demonstrate how the eigenvectors can represent axes of variation which correspond to cell type designations. Thus these component vectors can be used to represent variation between cells due to their different transcriptomic signatures.\n"
      ],
      "metadata": {
        "id": "NKSN3bu8cQ3O"
      }
    },
    {
      "cell_type": "markdown",
      "source": [
        "**The count matrix**\n",
        "\n",
        "This matrix is 18,744 cells by 5,000 genes, with 10 cell types. The full dataset contains 71,365 cells, however we will work with a randomly subsetted version to facilitate calculations within the Colab environment.\n",
        "\n",
        "1.   For each cell, gene counts were normalized to have the same number of total counts (usually 1e5 or 1e6), with cell-gene counts thus scaled accordingly.\n",
        "\n",
        "2.   Counts were then log-normalized, using the log(1+x), where x is each cell's gene count. The 1 accounts for 0 count genes. (log = ln here).\n",
        "\n",
        "3. The ~5000 genes were selected for those that displayed large variance in expression amongst the cells ('highly variable genes').\n",
        "\n"
      ],
      "metadata": {
        "id": "58nQkH9eko4-"
      }
    },
    {
      "cell_type": "code",
      "metadata": {
        "id": "tZ1h_dME8vJb",
        "colab": {
          "base_uri": "https://localhost:8080/",
          "height": 34
        },
        "outputId": "dee8d5f7-a3c0-4e04-87d1-7e02f8165559"
      },
      "source": [
        "#Get gene count matrix\n",
        "count_mat = sio.mmread('biccn.mtx')\n",
        "\n",
        "count_mat = count_mat.todense() #Make dense since most functions we'll use don't work with sparse matrices\n",
        "count_mat.shape"
      ],
      "execution_count": 14,
      "outputs": [
        {
          "output_type": "execute_result",
          "data": {
            "text/plain": [
              "(18744, 5000)"
            ]
          },
          "metadata": {},
          "execution_count": 14
        }
      ]
    },
    {
      "cell_type": "code",
      "metadata": {
        "id": "NFissu8VB92P",
        "colab": {
          "base_uri": "https://localhost:8080/",
          "height": 238
        },
        "outputId": "d78de5d9-d767-42c8-e24c-ae1c92c65a1b"
      },
      "source": [
        "#Get metadata dataframe for the 18,744 cells (rows of the matrix)\n",
        "meta = pd.read_csv('biccnMeta.csv',index_col = 0)\n",
        "meta.head()"
      ],
      "execution_count": 15,
      "outputs": [
        {
          "output_type": "execute_result",
          "data": {
            "text/plain": [
              "                                         cell_type\n",
              "barcode                                           \n",
              "AAACGAAGTGGATTTC-3L8TX_181211_01_A01       L2/3 IT\n",
              "AAACGCTCAATGCTCA-3L8TX_181211_01_A01       L2/3 IT\n",
              "AAAGTCCGTGTATCCA-3L8TX_181211_01_A01  L6 CT Cpa6_1\n",
              "AAAGTGAGTCGCCACA-3L8TX_181211_01_A01       L2/3 IT\n",
              "AAAGTGATCGTCTACC-3L8TX_181211_01_A01       L2/3 IT"
            ],
            "text/html": [
              "\n",
              "  <div id=\"df-2261d398-bc9b-4c1f-b4e9-2ee0f9149297\">\n",
              "    <div class=\"colab-df-container\">\n",
              "      <div>\n",
              "<style scoped>\n",
              "    .dataframe tbody tr th:only-of-type {\n",
              "        vertical-align: middle;\n",
              "    }\n",
              "\n",
              "    .dataframe tbody tr th {\n",
              "        vertical-align: top;\n",
              "    }\n",
              "\n",
              "    .dataframe thead th {\n",
              "        text-align: right;\n",
              "    }\n",
              "</style>\n",
              "<table border=\"1\" class=\"dataframe\">\n",
              "  <thead>\n",
              "    <tr style=\"text-align: right;\">\n",
              "      <th></th>\n",
              "      <th>cell_type</th>\n",
              "    </tr>\n",
              "    <tr>\n",
              "      <th>barcode</th>\n",
              "      <th></th>\n",
              "    </tr>\n",
              "  </thead>\n",
              "  <tbody>\n",
              "    <tr>\n",
              "      <th>AAACGAAGTGGATTTC-3L8TX_181211_01_A01</th>\n",
              "      <td>L2/3 IT</td>\n",
              "    </tr>\n",
              "    <tr>\n",
              "      <th>AAACGCTCAATGCTCA-3L8TX_181211_01_A01</th>\n",
              "      <td>L2/3 IT</td>\n",
              "    </tr>\n",
              "    <tr>\n",
              "      <th>AAAGTCCGTGTATCCA-3L8TX_181211_01_A01</th>\n",
              "      <td>L6 CT Cpa6_1</td>\n",
              "    </tr>\n",
              "    <tr>\n",
              "      <th>AAAGTGAGTCGCCACA-3L8TX_181211_01_A01</th>\n",
              "      <td>L2/3 IT</td>\n",
              "    </tr>\n",
              "    <tr>\n",
              "      <th>AAAGTGATCGTCTACC-3L8TX_181211_01_A01</th>\n",
              "      <td>L2/3 IT</td>\n",
              "    </tr>\n",
              "  </tbody>\n",
              "</table>\n",
              "</div>\n",
              "      <button class=\"colab-df-convert\" onclick=\"convertToInteractive('df-2261d398-bc9b-4c1f-b4e9-2ee0f9149297')\"\n",
              "              title=\"Convert this dataframe to an interactive table.\"\n",
              "              style=\"display:none;\">\n",
              "        \n",
              "  <svg xmlns=\"http://www.w3.org/2000/svg\" height=\"24px\"viewBox=\"0 0 24 24\"\n",
              "       width=\"24px\">\n",
              "    <path d=\"M0 0h24v24H0V0z\" fill=\"none\"/>\n",
              "    <path d=\"M18.56 5.44l.94 2.06.94-2.06 2.06-.94-2.06-.94-.94-2.06-.94 2.06-2.06.94zm-11 1L8.5 8.5l.94-2.06 2.06-.94-2.06-.94L8.5 2.5l-.94 2.06-2.06.94zm10 10l.94 2.06.94-2.06 2.06-.94-2.06-.94-.94-2.06-.94 2.06-2.06.94z\"/><path d=\"M17.41 7.96l-1.37-1.37c-.4-.4-.92-.59-1.43-.59-.52 0-1.04.2-1.43.59L10.3 9.45l-7.72 7.72c-.78.78-.78 2.05 0 2.83L4 21.41c.39.39.9.59 1.41.59.51 0 1.02-.2 1.41-.59l7.78-7.78 2.81-2.81c.8-.78.8-2.07 0-2.86zM5.41 20L4 18.59l7.72-7.72 1.47 1.35L5.41 20z\"/>\n",
              "  </svg>\n",
              "      </button>\n",
              "      \n",
              "  <style>\n",
              "    .colab-df-container {\n",
              "      display:flex;\n",
              "      flex-wrap:wrap;\n",
              "      gap: 12px;\n",
              "    }\n",
              "\n",
              "    .colab-df-convert {\n",
              "      background-color: #E8F0FE;\n",
              "      border: none;\n",
              "      border-radius: 50%;\n",
              "      cursor: pointer;\n",
              "      display: none;\n",
              "      fill: #1967D2;\n",
              "      height: 32px;\n",
              "      padding: 0 0 0 0;\n",
              "      width: 32px;\n",
              "    }\n",
              "\n",
              "    .colab-df-convert:hover {\n",
              "      background-color: #E2EBFA;\n",
              "      box-shadow: 0px 1px 2px rgba(60, 64, 67, 0.3), 0px 1px 3px 1px rgba(60, 64, 67, 0.15);\n",
              "      fill: #174EA6;\n",
              "    }\n",
              "\n",
              "    [theme=dark] .colab-df-convert {\n",
              "      background-color: #3B4455;\n",
              "      fill: #D2E3FC;\n",
              "    }\n",
              "\n",
              "    [theme=dark] .colab-df-convert:hover {\n",
              "      background-color: #434B5C;\n",
              "      box-shadow: 0px 1px 3px 1px rgba(0, 0, 0, 0.15);\n",
              "      filter: drop-shadow(0px 1px 2px rgba(0, 0, 0, 0.3));\n",
              "      fill: #FFFFFF;\n",
              "    }\n",
              "  </style>\n",
              "\n",
              "      <script>\n",
              "        const buttonEl =\n",
              "          document.querySelector('#df-2261d398-bc9b-4c1f-b4e9-2ee0f9149297 button.colab-df-convert');\n",
              "        buttonEl.style.display =\n",
              "          google.colab.kernel.accessAllowed ? 'block' : 'none';\n",
              "\n",
              "        async function convertToInteractive(key) {\n",
              "          const element = document.querySelector('#df-2261d398-bc9b-4c1f-b4e9-2ee0f9149297');\n",
              "          const dataTable =\n",
              "            await google.colab.kernel.invokeFunction('convertToInteractive',\n",
              "                                                     [key], {});\n",
              "          if (!dataTable) return;\n",
              "\n",
              "          const docLinkHtml = 'Like what you see? Visit the ' +\n",
              "            '<a target=\"_blank\" href=https://colab.research.google.com/notebooks/data_table.ipynb>data table notebook</a>'\n",
              "            + ' to learn more about interactive tables.';\n",
              "          element.innerHTML = '';\n",
              "          dataTable['output_type'] = 'display_data';\n",
              "          await google.colab.output.renderOutput(dataTable, element);\n",
              "          const docLink = document.createElement('div');\n",
              "          docLink.innerHTML = docLinkHtml;\n",
              "          element.appendChild(docLink);\n",
              "        }\n",
              "      </script>\n",
              "    </div>\n",
              "  </div>\n",
              "  "
            ]
          },
          "metadata": {},
          "execution_count": 15
        }
      ]
    },
    {
      "cell_type": "code",
      "metadata": {
        "id": "M5je0CyVN4DN",
        "colab": {
          "base_uri": "https://localhost:8080/",
          "height": 206
        },
        "outputId": "e9db8cc3-8266-4bfd-f284-87973e0d6033"
      },
      "source": [
        "#Get metadata dataframe for the 5,000 genes (columns of the matrix)\n",
        "\n",
        "meta_gene = pd.read_csv('biccnGeneMeta.csv',index_col = 0)\n",
        "meta_gene.head()\n"
      ],
      "execution_count": 16,
      "outputs": [
        {
          "output_type": "execute_result",
          "data": {
            "text/plain": [
              "                                         gene_name\n",
              "Rp1_ENSMUSG00000025900      Rp1_ENSMUSG00000025900\n",
              "Sox17_ENSMUSG00000025902  Sox17_ENSMUSG00000025902\n",
              "Oprk1_ENSMUSG00000025905  Oprk1_ENSMUSG00000025905\n",
              "St18_ENSMUSG00000033740    St18_ENSMUSG00000033740\n",
              "Sntg1_ENSMUSG00000025909  Sntg1_ENSMUSG00000025909"
            ],
            "text/html": [
              "\n",
              "  <div id=\"df-3867e529-1e1b-410e-b91d-99f4b4d63751\">\n",
              "    <div class=\"colab-df-container\">\n",
              "      <div>\n",
              "<style scoped>\n",
              "    .dataframe tbody tr th:only-of-type {\n",
              "        vertical-align: middle;\n",
              "    }\n",
              "\n",
              "    .dataframe tbody tr th {\n",
              "        vertical-align: top;\n",
              "    }\n",
              "\n",
              "    .dataframe thead th {\n",
              "        text-align: right;\n",
              "    }\n",
              "</style>\n",
              "<table border=\"1\" class=\"dataframe\">\n",
              "  <thead>\n",
              "    <tr style=\"text-align: right;\">\n",
              "      <th></th>\n",
              "      <th>gene_name</th>\n",
              "    </tr>\n",
              "  </thead>\n",
              "  <tbody>\n",
              "    <tr>\n",
              "      <th>Rp1_ENSMUSG00000025900</th>\n",
              "      <td>Rp1_ENSMUSG00000025900</td>\n",
              "    </tr>\n",
              "    <tr>\n",
              "      <th>Sox17_ENSMUSG00000025902</th>\n",
              "      <td>Sox17_ENSMUSG00000025902</td>\n",
              "    </tr>\n",
              "    <tr>\n",
              "      <th>Oprk1_ENSMUSG00000025905</th>\n",
              "      <td>Oprk1_ENSMUSG00000025905</td>\n",
              "    </tr>\n",
              "    <tr>\n",
              "      <th>St18_ENSMUSG00000033740</th>\n",
              "      <td>St18_ENSMUSG00000033740</td>\n",
              "    </tr>\n",
              "    <tr>\n",
              "      <th>Sntg1_ENSMUSG00000025909</th>\n",
              "      <td>Sntg1_ENSMUSG00000025909</td>\n",
              "    </tr>\n",
              "  </tbody>\n",
              "</table>\n",
              "</div>\n",
              "      <button class=\"colab-df-convert\" onclick=\"convertToInteractive('df-3867e529-1e1b-410e-b91d-99f4b4d63751')\"\n",
              "              title=\"Convert this dataframe to an interactive table.\"\n",
              "              style=\"display:none;\">\n",
              "        \n",
              "  <svg xmlns=\"http://www.w3.org/2000/svg\" height=\"24px\"viewBox=\"0 0 24 24\"\n",
              "       width=\"24px\">\n",
              "    <path d=\"M0 0h24v24H0V0z\" fill=\"none\"/>\n",
              "    <path d=\"M18.56 5.44l.94 2.06.94-2.06 2.06-.94-2.06-.94-.94-2.06-.94 2.06-2.06.94zm-11 1L8.5 8.5l.94-2.06 2.06-.94-2.06-.94L8.5 2.5l-.94 2.06-2.06.94zm10 10l.94 2.06.94-2.06 2.06-.94-2.06-.94-.94-2.06-.94 2.06-2.06.94z\"/><path d=\"M17.41 7.96l-1.37-1.37c-.4-.4-.92-.59-1.43-.59-.52 0-1.04.2-1.43.59L10.3 9.45l-7.72 7.72c-.78.78-.78 2.05 0 2.83L4 21.41c.39.39.9.59 1.41.59.51 0 1.02-.2 1.41-.59l7.78-7.78 2.81-2.81c.8-.78.8-2.07 0-2.86zM5.41 20L4 18.59l7.72-7.72 1.47 1.35L5.41 20z\"/>\n",
              "  </svg>\n",
              "      </button>\n",
              "      \n",
              "  <style>\n",
              "    .colab-df-container {\n",
              "      display:flex;\n",
              "      flex-wrap:wrap;\n",
              "      gap: 12px;\n",
              "    }\n",
              "\n",
              "    .colab-df-convert {\n",
              "      background-color: #E8F0FE;\n",
              "      border: none;\n",
              "      border-radius: 50%;\n",
              "      cursor: pointer;\n",
              "      display: none;\n",
              "      fill: #1967D2;\n",
              "      height: 32px;\n",
              "      padding: 0 0 0 0;\n",
              "      width: 32px;\n",
              "    }\n",
              "\n",
              "    .colab-df-convert:hover {\n",
              "      background-color: #E2EBFA;\n",
              "      box-shadow: 0px 1px 2px rgba(60, 64, 67, 0.3), 0px 1px 3px 1px rgba(60, 64, 67, 0.15);\n",
              "      fill: #174EA6;\n",
              "    }\n",
              "\n",
              "    [theme=dark] .colab-df-convert {\n",
              "      background-color: #3B4455;\n",
              "      fill: #D2E3FC;\n",
              "    }\n",
              "\n",
              "    [theme=dark] .colab-df-convert:hover {\n",
              "      background-color: #434B5C;\n",
              "      box-shadow: 0px 1px 3px 1px rgba(0, 0, 0, 0.15);\n",
              "      filter: drop-shadow(0px 1px 2px rgba(0, 0, 0, 0.3));\n",
              "      fill: #FFFFFF;\n",
              "    }\n",
              "  </style>\n",
              "\n",
              "      <script>\n",
              "        const buttonEl =\n",
              "          document.querySelector('#df-3867e529-1e1b-410e-b91d-99f4b4d63751 button.colab-df-convert');\n",
              "        buttonEl.style.display =\n",
              "          google.colab.kernel.accessAllowed ? 'block' : 'none';\n",
              "\n",
              "        async function convertToInteractive(key) {\n",
              "          const element = document.querySelector('#df-3867e529-1e1b-410e-b91d-99f4b4d63751');\n",
              "          const dataTable =\n",
              "            await google.colab.kernel.invokeFunction('convertToInteractive',\n",
              "                                                     [key], {});\n",
              "          if (!dataTable) return;\n",
              "\n",
              "          const docLinkHtml = 'Like what you see? Visit the ' +\n",
              "            '<a target=\"_blank\" href=https://colab.research.google.com/notebooks/data_table.ipynb>data table notebook</a>'\n",
              "            + ' to learn more about interactive tables.';\n",
              "          element.innerHTML = '';\n",
              "          dataTable['output_type'] = 'display_data';\n",
              "          await google.colab.output.renderOutput(dataTable, element);\n",
              "          const docLink = document.createElement('div');\n",
              "          docLink.innerHTML = docLinkHtml;\n",
              "          element.appendChild(docLink);\n",
              "        }\n",
              "      </script>\n",
              "    </div>\n",
              "  </div>\n",
              "  "
            ]
          },
          "metadata": {},
          "execution_count": 16
        }
      ]
    },
    {
      "cell_type": "markdown",
      "source": [
        "## **Problem 4** (50 points)"
      ],
      "metadata": {
        "id": "Mbs-kMpKH_xW"
      }
    },
    {
      "cell_type": "markdown",
      "source": [
        "### **a) Find the eigenvectors and values for the covariance matrix of (mean-)centered data (8 points)**\n",
        "Mean-center the columns (gene vectors) of the matrix, find the $X^TX$ covariance matrix, and use the [numpy.linalg.eig](https://numpy.org/doc/stable/reference/generated/numpy.linalg.eig.html) function to obtain the eigenvalues and eigenvectors. $X^TX$ is the covariance matrix for $X^T$, thus we are treating the genes as the features/variables measured.\n",
        "\n",
        "**Report the first 3 eigenvalues and their associated eigenvectors that are returned.**"
      ],
      "metadata": {
        "id": "haXezRsaICf_"
      }
    },
    {
      "cell_type": "code",
      "source": [
        "# lets start by mean centering our count matrix\n",
        "count_mean = np.mean(count_mat,axis=0)\n",
        "mean_cent = count_mat - count_mean\n",
        "\n",
        "#Now we can found the covariance matrix of XTX\n",
        "cov = np.cov(np.matmul(np.transpose(mean_cent), mean_cent))\n",
        "eigval, eigvec = np.linalg.eig(cov)\n",
        "\n",
        "eigval_df = pd.DataFrame(eigval)\n",
        "eigvec_df = pd.DataFrame(eigvec)"
      ],
      "metadata": {
        "id": "fNxBwB4rHxN-"
      },
      "execution_count": 37,
      "outputs": []
    },
    {
      "cell_type": "code",
      "source": [
        "print(\"these are the first 3 eigenvectors\")\n",
        "eigvec_df[0:3]"
      ],
      "metadata": {
        "id": "RbDW6yVzqjuO",
        "colab": {
          "base_uri": "https://localhost:8080/",
          "height": 254
        },
        "outputId": "a95532fa-1e59-4e6d-fdfa-7abb17d12c48"
      },
      "execution_count": 35,
      "outputs": [
        {
          "output_type": "stream",
          "name": "stdout",
          "text": [
            "these are the first 3 eigenvectors\n"
          ]
        },
        {
          "output_type": "execute_result",
          "data": {
            "text/plain": [
              "                 0                   1                   2     \\\n",
              "0  0.000131+0.000000j  0.000103+0.000000j -0.000179+0.000000j   \n",
              "1  0.001487+0.000000j  0.006698+0.000000j -0.006343+0.000000j   \n",
              "2  0.007410+0.000000j -0.006378+0.000000j -0.001343+0.000000j   \n",
              "\n",
              "                 3                   4                   5     \\\n",
              "0 -0.000361+0.000000j  0.000076+0.000000j -0.000023+0.000000j   \n",
              "1 -0.003943+0.000000j -0.003273+0.000000j -0.004931+0.000000j   \n",
              "2 -0.005099+0.000000j -0.003553+0.000000j  0.006012+0.000000j   \n",
              "\n",
              "                 6                   7                   8     \\\n",
              "0  0.000779+0.000000j  0.000019+0.000000j -0.000177+0.000000j   \n",
              "1  0.035294+0.000000j  0.003199+0.000000j  0.000484+0.000000j   \n",
              "2  0.000421+0.000000j -0.003091+0.000000j -0.004759+0.000000j   \n",
              "\n",
              "                 9     ...      4990      4991      4992      4993      4994  \\\n",
              "0 -0.000294+0.000000j  ...  0.0+0.0j  0.0+0.0j  0.0+0.0j  0.0+0.0j  0.0+0.0j   \n",
              "1 -0.007792+0.000000j  ...  0.0+0.0j  0.0+0.0j  0.0+0.0j  0.0+0.0j  0.0+0.0j   \n",
              "2 -0.001440+0.000000j  ...  0.0+0.0j  0.0+0.0j  0.0+0.0j  0.0+0.0j  0.0+0.0j   \n",
              "\n",
              "       4995      4996      4997      4998      4999  \n",
              "0  0.0+0.0j  0.0+0.0j  0.0+0.0j  0.0+0.0j  0.0+0.0j  \n",
              "1  0.0+0.0j  0.0+0.0j  0.0+0.0j  0.0+0.0j  0.0+0.0j  \n",
              "2  0.0+0.0j  0.0+0.0j  0.0+0.0j  0.0+0.0j  0.0+0.0j  \n",
              "\n",
              "[3 rows x 5000 columns]"
            ],
            "text/html": [
              "\n",
              "  <div id=\"df-5aa72118-70d7-45ef-9545-b3edc55f6766\">\n",
              "    <div class=\"colab-df-container\">\n",
              "      <div>\n",
              "<style scoped>\n",
              "    .dataframe tbody tr th:only-of-type {\n",
              "        vertical-align: middle;\n",
              "    }\n",
              "\n",
              "    .dataframe tbody tr th {\n",
              "        vertical-align: top;\n",
              "    }\n",
              "\n",
              "    .dataframe thead th {\n",
              "        text-align: right;\n",
              "    }\n",
              "</style>\n",
              "<table border=\"1\" class=\"dataframe\">\n",
              "  <thead>\n",
              "    <tr style=\"text-align: right;\">\n",
              "      <th></th>\n",
              "      <th>0</th>\n",
              "      <th>1</th>\n",
              "      <th>2</th>\n",
              "      <th>3</th>\n",
              "      <th>4</th>\n",
              "      <th>5</th>\n",
              "      <th>6</th>\n",
              "      <th>7</th>\n",
              "      <th>8</th>\n",
              "      <th>9</th>\n",
              "      <th>...</th>\n",
              "      <th>4990</th>\n",
              "      <th>4991</th>\n",
              "      <th>4992</th>\n",
              "      <th>4993</th>\n",
              "      <th>4994</th>\n",
              "      <th>4995</th>\n",
              "      <th>4996</th>\n",
              "      <th>4997</th>\n",
              "      <th>4998</th>\n",
              "      <th>4999</th>\n",
              "    </tr>\n",
              "  </thead>\n",
              "  <tbody>\n",
              "    <tr>\n",
              "      <th>0</th>\n",
              "      <td>0.000131+0.000000j</td>\n",
              "      <td>0.000103+0.000000j</td>\n",
              "      <td>-0.000179+0.000000j</td>\n",
              "      <td>-0.000361+0.000000j</td>\n",
              "      <td>0.000076+0.000000j</td>\n",
              "      <td>-0.000023+0.000000j</td>\n",
              "      <td>0.000779+0.000000j</td>\n",
              "      <td>0.000019+0.000000j</td>\n",
              "      <td>-0.000177+0.000000j</td>\n",
              "      <td>-0.000294+0.000000j</td>\n",
              "      <td>...</td>\n",
              "      <td>0.0+0.0j</td>\n",
              "      <td>0.0+0.0j</td>\n",
              "      <td>0.0+0.0j</td>\n",
              "      <td>0.0+0.0j</td>\n",
              "      <td>0.0+0.0j</td>\n",
              "      <td>0.0+0.0j</td>\n",
              "      <td>0.0+0.0j</td>\n",
              "      <td>0.0+0.0j</td>\n",
              "      <td>0.0+0.0j</td>\n",
              "      <td>0.0+0.0j</td>\n",
              "    </tr>\n",
              "    <tr>\n",
              "      <th>1</th>\n",
              "      <td>0.001487+0.000000j</td>\n",
              "      <td>0.006698+0.000000j</td>\n",
              "      <td>-0.006343+0.000000j</td>\n",
              "      <td>-0.003943+0.000000j</td>\n",
              "      <td>-0.003273+0.000000j</td>\n",
              "      <td>-0.004931+0.000000j</td>\n",
              "      <td>0.035294+0.000000j</td>\n",
              "      <td>0.003199+0.000000j</td>\n",
              "      <td>0.000484+0.000000j</td>\n",
              "      <td>-0.007792+0.000000j</td>\n",
              "      <td>...</td>\n",
              "      <td>0.0+0.0j</td>\n",
              "      <td>0.0+0.0j</td>\n",
              "      <td>0.0+0.0j</td>\n",
              "      <td>0.0+0.0j</td>\n",
              "      <td>0.0+0.0j</td>\n",
              "      <td>0.0+0.0j</td>\n",
              "      <td>0.0+0.0j</td>\n",
              "      <td>0.0+0.0j</td>\n",
              "      <td>0.0+0.0j</td>\n",
              "      <td>0.0+0.0j</td>\n",
              "    </tr>\n",
              "    <tr>\n",
              "      <th>2</th>\n",
              "      <td>0.007410+0.000000j</td>\n",
              "      <td>-0.006378+0.000000j</td>\n",
              "      <td>-0.001343+0.000000j</td>\n",
              "      <td>-0.005099+0.000000j</td>\n",
              "      <td>-0.003553+0.000000j</td>\n",
              "      <td>0.006012+0.000000j</td>\n",
              "      <td>0.000421+0.000000j</td>\n",
              "      <td>-0.003091+0.000000j</td>\n",
              "      <td>-0.004759+0.000000j</td>\n",
              "      <td>-0.001440+0.000000j</td>\n",
              "      <td>...</td>\n",
              "      <td>0.0+0.0j</td>\n",
              "      <td>0.0+0.0j</td>\n",
              "      <td>0.0+0.0j</td>\n",
              "      <td>0.0+0.0j</td>\n",
              "      <td>0.0+0.0j</td>\n",
              "      <td>0.0+0.0j</td>\n",
              "      <td>0.0+0.0j</td>\n",
              "      <td>0.0+0.0j</td>\n",
              "      <td>0.0+0.0j</td>\n",
              "      <td>0.0+0.0j</td>\n",
              "    </tr>\n",
              "  </tbody>\n",
              "</table>\n",
              "<p>3 rows × 5000 columns</p>\n",
              "</div>\n",
              "      <button class=\"colab-df-convert\" onclick=\"convertToInteractive('df-5aa72118-70d7-45ef-9545-b3edc55f6766')\"\n",
              "              title=\"Convert this dataframe to an interactive table.\"\n",
              "              style=\"display:none;\">\n",
              "        \n",
              "  <svg xmlns=\"http://www.w3.org/2000/svg\" height=\"24px\"viewBox=\"0 0 24 24\"\n",
              "       width=\"24px\">\n",
              "    <path d=\"M0 0h24v24H0V0z\" fill=\"none\"/>\n",
              "    <path d=\"M18.56 5.44l.94 2.06.94-2.06 2.06-.94-2.06-.94-.94-2.06-.94 2.06-2.06.94zm-11 1L8.5 8.5l.94-2.06 2.06-.94-2.06-.94L8.5 2.5l-.94 2.06-2.06.94zm10 10l.94 2.06.94-2.06 2.06-.94-2.06-.94-.94-2.06-.94 2.06-2.06.94z\"/><path d=\"M17.41 7.96l-1.37-1.37c-.4-.4-.92-.59-1.43-.59-.52 0-1.04.2-1.43.59L10.3 9.45l-7.72 7.72c-.78.78-.78 2.05 0 2.83L4 21.41c.39.39.9.59 1.41.59.51 0 1.02-.2 1.41-.59l7.78-7.78 2.81-2.81c.8-.78.8-2.07 0-2.86zM5.41 20L4 18.59l7.72-7.72 1.47 1.35L5.41 20z\"/>\n",
              "  </svg>\n",
              "      </button>\n",
              "      \n",
              "  <style>\n",
              "    .colab-df-container {\n",
              "      display:flex;\n",
              "      flex-wrap:wrap;\n",
              "      gap: 12px;\n",
              "    }\n",
              "\n",
              "    .colab-df-convert {\n",
              "      background-color: #E8F0FE;\n",
              "      border: none;\n",
              "      border-radius: 50%;\n",
              "      cursor: pointer;\n",
              "      display: none;\n",
              "      fill: #1967D2;\n",
              "      height: 32px;\n",
              "      padding: 0 0 0 0;\n",
              "      width: 32px;\n",
              "    }\n",
              "\n",
              "    .colab-df-convert:hover {\n",
              "      background-color: #E2EBFA;\n",
              "      box-shadow: 0px 1px 2px rgba(60, 64, 67, 0.3), 0px 1px 3px 1px rgba(60, 64, 67, 0.15);\n",
              "      fill: #174EA6;\n",
              "    }\n",
              "\n",
              "    [theme=dark] .colab-df-convert {\n",
              "      background-color: #3B4455;\n",
              "      fill: #D2E3FC;\n",
              "    }\n",
              "\n",
              "    [theme=dark] .colab-df-convert:hover {\n",
              "      background-color: #434B5C;\n",
              "      box-shadow: 0px 1px 3px 1px rgba(0, 0, 0, 0.15);\n",
              "      filter: drop-shadow(0px 1px 2px rgba(0, 0, 0, 0.3));\n",
              "      fill: #FFFFFF;\n",
              "    }\n",
              "  </style>\n",
              "\n",
              "      <script>\n",
              "        const buttonEl =\n",
              "          document.querySelector('#df-5aa72118-70d7-45ef-9545-b3edc55f6766 button.colab-df-convert');\n",
              "        buttonEl.style.display =\n",
              "          google.colab.kernel.accessAllowed ? 'block' : 'none';\n",
              "\n",
              "        async function convertToInteractive(key) {\n",
              "          const element = document.querySelector('#df-5aa72118-70d7-45ef-9545-b3edc55f6766');\n",
              "          const dataTable =\n",
              "            await google.colab.kernel.invokeFunction('convertToInteractive',\n",
              "                                                     [key], {});\n",
              "          if (!dataTable) return;\n",
              "\n",
              "          const docLinkHtml = 'Like what you see? Visit the ' +\n",
              "            '<a target=\"_blank\" href=https://colab.research.google.com/notebooks/data_table.ipynb>data table notebook</a>'\n",
              "            + ' to learn more about interactive tables.';\n",
              "          element.innerHTML = '';\n",
              "          dataTable['output_type'] = 'display_data';\n",
              "          await google.colab.output.renderOutput(dataTable, element);\n",
              "          const docLink = document.createElement('div');\n",
              "          docLink.innerHTML = docLinkHtml;\n",
              "          element.appendChild(docLink);\n",
              "        }\n",
              "      </script>\n",
              "    </div>\n",
              "  </div>\n",
              "  "
            ]
          },
          "metadata": {},
          "execution_count": 35
        }
      ]
    },
    {
      "cell_type": "code",
      "source": [
        "print(\"and their eigenvalues are\")\n",
        "eigval_df[0:3]"
      ],
      "metadata": {
        "id": "y7CefwQwqjwv",
        "colab": {
          "base_uri": "https://localhost:8080/",
          "height": 161
        },
        "outputId": "6ac51e8c-4a24-4ca6-f3b5-68c54e26e6b7"
      },
      "execution_count": 36,
      "outputs": [
        {
          "output_type": "stream",
          "name": "stdout",
          "text": [
            "and their eigenvalues are\n"
          ]
        },
        {
          "output_type": "execute_result",
          "data": {
            "text/plain": [
              "                            0\n",
              "0  3.689427e+10+0.000000e+00j\n",
              "1  1.215365e+10+0.000000e+00j\n",
              "2  1.349121e+09+0.000000e+00j"
            ],
            "text/html": [
              "\n",
              "  <div id=\"df-2b6e6f92-0eba-4a11-b0f1-6828402a82b2\">\n",
              "    <div class=\"colab-df-container\">\n",
              "      <div>\n",
              "<style scoped>\n",
              "    .dataframe tbody tr th:only-of-type {\n",
              "        vertical-align: middle;\n",
              "    }\n",
              "\n",
              "    .dataframe tbody tr th {\n",
              "        vertical-align: top;\n",
              "    }\n",
              "\n",
              "    .dataframe thead th {\n",
              "        text-align: right;\n",
              "    }\n",
              "</style>\n",
              "<table border=\"1\" class=\"dataframe\">\n",
              "  <thead>\n",
              "    <tr style=\"text-align: right;\">\n",
              "      <th></th>\n",
              "      <th>0</th>\n",
              "    </tr>\n",
              "  </thead>\n",
              "  <tbody>\n",
              "    <tr>\n",
              "      <th>0</th>\n",
              "      <td>3.689427e+10+0.000000e+00j</td>\n",
              "    </tr>\n",
              "    <tr>\n",
              "      <th>1</th>\n",
              "      <td>1.215365e+10+0.000000e+00j</td>\n",
              "    </tr>\n",
              "    <tr>\n",
              "      <th>2</th>\n",
              "      <td>1.349121e+09+0.000000e+00j</td>\n",
              "    </tr>\n",
              "  </tbody>\n",
              "</table>\n",
              "</div>\n",
              "      <button class=\"colab-df-convert\" onclick=\"convertToInteractive('df-2b6e6f92-0eba-4a11-b0f1-6828402a82b2')\"\n",
              "              title=\"Convert this dataframe to an interactive table.\"\n",
              "              style=\"display:none;\">\n",
              "        \n",
              "  <svg xmlns=\"http://www.w3.org/2000/svg\" height=\"24px\"viewBox=\"0 0 24 24\"\n",
              "       width=\"24px\">\n",
              "    <path d=\"M0 0h24v24H0V0z\" fill=\"none\"/>\n",
              "    <path d=\"M18.56 5.44l.94 2.06.94-2.06 2.06-.94-2.06-.94-.94-2.06-.94 2.06-2.06.94zm-11 1L8.5 8.5l.94-2.06 2.06-.94-2.06-.94L8.5 2.5l-.94 2.06-2.06.94zm10 10l.94 2.06.94-2.06 2.06-.94-2.06-.94-.94-2.06-.94 2.06-2.06.94z\"/><path d=\"M17.41 7.96l-1.37-1.37c-.4-.4-.92-.59-1.43-.59-.52 0-1.04.2-1.43.59L10.3 9.45l-7.72 7.72c-.78.78-.78 2.05 0 2.83L4 21.41c.39.39.9.59 1.41.59.51 0 1.02-.2 1.41-.59l7.78-7.78 2.81-2.81c.8-.78.8-2.07 0-2.86zM5.41 20L4 18.59l7.72-7.72 1.47 1.35L5.41 20z\"/>\n",
              "  </svg>\n",
              "      </button>\n",
              "      \n",
              "  <style>\n",
              "    .colab-df-container {\n",
              "      display:flex;\n",
              "      flex-wrap:wrap;\n",
              "      gap: 12px;\n",
              "    }\n",
              "\n",
              "    .colab-df-convert {\n",
              "      background-color: #E8F0FE;\n",
              "      border: none;\n",
              "      border-radius: 50%;\n",
              "      cursor: pointer;\n",
              "      display: none;\n",
              "      fill: #1967D2;\n",
              "      height: 32px;\n",
              "      padding: 0 0 0 0;\n",
              "      width: 32px;\n",
              "    }\n",
              "\n",
              "    .colab-df-convert:hover {\n",
              "      background-color: #E2EBFA;\n",
              "      box-shadow: 0px 1px 2px rgba(60, 64, 67, 0.3), 0px 1px 3px 1px rgba(60, 64, 67, 0.15);\n",
              "      fill: #174EA6;\n",
              "    }\n",
              "\n",
              "    [theme=dark] .colab-df-convert {\n",
              "      background-color: #3B4455;\n",
              "      fill: #D2E3FC;\n",
              "    }\n",
              "\n",
              "    [theme=dark] .colab-df-convert:hover {\n",
              "      background-color: #434B5C;\n",
              "      box-shadow: 0px 1px 3px 1px rgba(0, 0, 0, 0.15);\n",
              "      filter: drop-shadow(0px 1px 2px rgba(0, 0, 0, 0.3));\n",
              "      fill: #FFFFFF;\n",
              "    }\n",
              "  </style>\n",
              "\n",
              "      <script>\n",
              "        const buttonEl =\n",
              "          document.querySelector('#df-2b6e6f92-0eba-4a11-b0f1-6828402a82b2 button.colab-df-convert');\n",
              "        buttonEl.style.display =\n",
              "          google.colab.kernel.accessAllowed ? 'block' : 'none';\n",
              "\n",
              "        async function convertToInteractive(key) {\n",
              "          const element = document.querySelector('#df-2b6e6f92-0eba-4a11-b0f1-6828402a82b2');\n",
              "          const dataTable =\n",
              "            await google.colab.kernel.invokeFunction('convertToInteractive',\n",
              "                                                     [key], {});\n",
              "          if (!dataTable) return;\n",
              "\n",
              "          const docLinkHtml = 'Like what you see? Visit the ' +\n",
              "            '<a target=\"_blank\" href=https://colab.research.google.com/notebooks/data_table.ipynb>data table notebook</a>'\n",
              "            + ' to learn more about interactive tables.';\n",
              "          element.innerHTML = '';\n",
              "          dataTable['output_type'] = 'display_data';\n",
              "          await google.colab.output.renderOutput(dataTable, element);\n",
              "          const docLink = document.createElement('div');\n",
              "          docLink.innerHTML = docLinkHtml;\n",
              "          element.appendChild(docLink);\n",
              "        }\n",
              "      </script>\n",
              "    </div>\n",
              "  </div>\n",
              "  "
            ]
          },
          "metadata": {},
          "execution_count": 36
        }
      ]
    },
    {
      "cell_type": "markdown",
      "source": [
        "### **b) Plot a Scree plot of the eigenvectors, after ranking by eigenvalue (descending order) and select the top components (eigenvectors) to use to transform the data. (5 points)**\n",
        "A Scree plot will have the eigenvalue for an eigenvector on the y-axis, and the number of the eigenvector on the axis (after ordering the eigenvectors by decreasing eigenvalue). Usually we will see a steep drop in this curve, and a plateau after a certain number of components. Using this plot, we can then select a cutoff to determine how many components to actually keep which still capture a large portion of the variance in the data."
      ],
      "metadata": {
        "id": "JbA65Hj2ISQj"
      }
    },
    {
      "cell_type": "markdown",
      "source": [
        "**Plot a Scree plot for the top 50 eigenvectors and report how many components you would keep i.e. where you would set a cutoff on the number of components necessary to capture a majority of variance in the data.**"
      ],
      "metadata": {
        "id": "93PiiPEXmNk1"
      }
    },
    {
      "cell_type": "code",
      "source": [],
      "metadata": {
        "id": "jfD6j8ktI0qK"
      },
      "execution_count": 17,
      "outputs": []
    },
    {
      "cell_type": "code",
      "source": [],
      "metadata": {
        "id": "W-Kr8YNFqioO"
      },
      "execution_count": 17,
      "outputs": []
    },
    {
      "cell_type": "code",
      "source": [],
      "metadata": {
        "id": "jcc9L3xtqiqm"
      },
      "execution_count": 17,
      "outputs": []
    },
    {
      "cell_type": "markdown",
      "source": [
        "### **c) Transform the original count matrix using the top 2 ranked principal component (eigen) vectors from b) and plot the data in the first two components, colored by 'cell_type'.** (8 points)\n",
        "\n",
        "The 'cell_type' metadata column represents the cell type designation of each cell from the study."
      ],
      "metadata": {
        "id": "MdJilcX0jCW9"
      }
    },
    {
      "cell_type": "code",
      "source": [],
      "metadata": {
        "id": "rXgnGfIjjCmf"
      },
      "execution_count": 17,
      "outputs": []
    },
    {
      "cell_type": "code",
      "source": [],
      "metadata": {
        "id": "2kNJli-Nqhtd"
      },
      "execution_count": 17,
      "outputs": []
    },
    {
      "cell_type": "code",
      "source": [],
      "metadata": {
        "id": "BnTQb-aYqhv1"
      },
      "execution_count": 17,
      "outputs": []
    },
    {
      "cell_type": "markdown",
      "source": [
        "### **d) Plot the same transformed data and color by the total read counts for each cell (counts across all genes). (5 points)**\n",
        "\n",
        "Directions of variance highlighted by the the principal components can correspond to other non-biological facets of the data, such as which cells had more sequenced UMIs.\n",
        "\n",
        "Remember that the counts have been previously log transformed (ln). "
      ],
      "metadata": {
        "id": "KSfo4nxvc9vt"
      }
    },
    {
      "cell_type": "markdown",
      "source": [
        "### **e) Perform SVD on the centered data matrix, construct a Scree plot from $D,V$, and report the number of components chosen for reduction. Plot the points transformed by the top 2 eigenvectors, colored by 'cell_type'. (10 points)**\n",
        "\n",
        "Use the [numpy.linalg.svd](https://numpy.org/doc/stable/reference/generated/numpy.linalg.svd.html) function to find the SVD factorization of the matrix. The Singular Value Decomposition of $X$ provides a factorization of $X$ where $X = U\\Sigma V^T$. Here $\\Sigma$ is a diagonal matrix containing the singular values of $X$. $U,V$ represent, respectively, the left and right singular vectors corresponding to those values. We will use $\\Sigma$ and $V$ as the eigenvalues and (right) eigenvectors, as compared to part a). \n",
        "\n",
        "**Plot a Scree plot for the top 50 singular values/vectors and report the number of components you would select to retain. Transform the data matrix using the top 2 components and plot (as in c) the transformed points colored by 'cell_type'.**"
      ],
      "metadata": {
        "id": "HMfME2AEI094"
      }
    },
    {
      "cell_type": "code",
      "source": [],
      "metadata": {
        "id": "CR21ACojH9Mv"
      },
      "execution_count": 17,
      "outputs": []
    },
    {
      "cell_type": "code",
      "source": [],
      "metadata": {
        "id": "EdVqm8Tlqgzc"
      },
      "execution_count": 17,
      "outputs": []
    },
    {
      "cell_type": "code",
      "source": [],
      "metadata": {
        "id": "0k53D8Xnqg1i"
      },
      "execution_count": 17,
      "outputs": []
    },
    {
      "cell_type": "code",
      "source": [],
      "metadata": {
        "id": "-n7lxddtqg4W"
      },
      "execution_count": 17,
      "outputs": []
    },
    {
      "cell_type": "markdown",
      "source": [
        "### **f) Perform PCA with the [sklearn PCA function](https://scikit-learn.org/stable/modules/generated/sklearn.decomposition.PCA.html) and print the top 2 eigenvectors from the function alongside what you calculated in a) and e) (6 points)**\n",
        "\n",
        "You can set the number of components for the PCA calculation to be the same size as the dataset, and then select the top 2 components from the result. By default this PCA function will use SVD to approximate the solution.\n",
        "\n",
        "**Report the top 2 components (vectors) and print the top 2 components from a) and e).**\n",
        "\n",
        "\n",
        "```\n",
        ">>> pca = PCA(n_components=2, svd_solver='full')\n",
        ">>> pca.fit(X)\n",
        "PCA(n_components=2, svd_solver='full')\n",
        ">>> print(pca.singular_values_)\n",
        "[6.30061... 0.54980...]\n",
        "#Use pca.components_.T to get component vectors\n",
        "```\n",
        "\n"
      ],
      "metadata": {
        "id": "mmJvsNPxJrOi"
      }
    },
    {
      "cell_type": "code",
      "source": [],
      "metadata": {
        "id": "LQ54x93QKQuu"
      },
      "execution_count": 17,
      "outputs": []
    },
    {
      "cell_type": "code",
      "source": [],
      "metadata": {
        "id": "msndOZ0sqRUu"
      },
      "execution_count": 17,
      "outputs": []
    },
    {
      "cell_type": "code",
      "source": [],
      "metadata": {
        "id": "nsVuHm8dqR2Y"
      },
      "execution_count": 17,
      "outputs": []
    },
    {
      "cell_type": "markdown",
      "source": [
        "### **g) Transform the count matrix using the top 2 component vectors from part f) and report the top 5 genes for the first and second principal component (eigen) vectors (8 points)**\n",
        "\n",
        "By looking at the weights/values of each gene in each eigenvector, we can determine which genes have the highest weights for the given vector.\n",
        "\n",
        "**Report the gene names for the top 5 weighted genes in each of the two eigenvectors.**"
      ],
      "metadata": {
        "id": "f1oKdP5JKRGY"
      }
    },
    {
      "cell_type": "code",
      "source": [
        "\n"
      ],
      "metadata": {
        "id": "NWlJlSRVH7SU"
      },
      "execution_count": 17,
      "outputs": []
    },
    {
      "cell_type": "code",
      "source": [],
      "metadata": {
        "id": "usHt2C-fqQ0v"
      },
      "execution_count": 17,
      "outputs": []
    }
  ]
}