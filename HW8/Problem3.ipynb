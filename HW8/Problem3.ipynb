{
  "nbformat": 4,
  "nbformat_minor": 0,
  "metadata": {
    "colab": {
      "provenance": [],
      "include_colab_link": true
    },
    "kernelspec": {
      "name": "python3",
      "display_name": "Python 3"
    },
    "language_info": {
      "name": "python"
    }
  },
  "cells": [
    {
      "cell_type": "markdown",
      "metadata": {
        "id": "view-in-github",
        "colab_type": "text"
      },
      "source": [
        "<a href=\"https://colab.research.google.com/github/CPukszta/BI-BE-CS-183-2023/blob/main/HW8/Problem3.ipynb\" target=\"_parent\"><img src=\"https://colab.research.google.com/assets/colab-badge.svg\" alt=\"Open In Colab\"/></a>"
      ]
    },
    {
      "cell_type": "markdown",
      "metadata": {
        "id": "MozW3XxY8ezr"
      },
      "source": [
        "Bi/Be/Cs 183 2022-2023: Intro to Computational Biology\n",
        "TAs: Meichen Fang, Tara Chari, Zitong (Jerry) Wang\n",
        "\n",
        "**Submit your notebooks by sharing a clickable link with Viewer access. Link must be accessible from submitted assignment document.**\n",
        "\n",
        "Make sure Runtime $\\rightarrow$ Restart and run all works without error"
      ]
    },
    {
      "cell_type": "markdown",
      "source": [
        "# **HW 8 Problem 3**\n",
        "\n",
        "Chimpanzees are the closest living relatives to humans. Here we will be looking at differences between the two genomes. \n",
        "\n",
        "In this problem you will implement the Needleman-Wunsch algorithm for global alignment between a pair of sequences of human and chimpanzee FOXP2 genes [1]. You will be reading in a FASTA file of DNA sequences and run the algorithm to find their optimal alignment given a set of rewards and penalties for the possible nucleotide pairs. This algorithm allows for gaps in the alignment, and constructs the global optimal alignment by iteratively finding the solutions for sets of small subsequences and their alignments.\n",
        "\n",
        "FOXP2 is a gene that has been implicated in speech and language development in humans, where mutations in the gene can inhibit speech. Interestingly, FOXP2s sequence and function are different between chimpanzees and humans, and its mechanism(s) is an area of study for researchers in understanding how we process and develop language.\n",
        "\n",
        "[1] Enard W, Przeworski M, Fisher SE, Lai CS, Wiebe V, Kitano T, Monaco AP, Pääbo S. Molecular evolution of FOXP2, a gene involved in speech and language. Nature. 2002 Aug 22;418(6900):869-72. doi: 10.1038/nature01025. Epub 2002 Aug 14. PMID: 12192408.\n",
        "\n"
      ],
      "metadata": {
        "id": "Mu4obGyqS8fh"
      }
    },
    {
      "cell_type": "markdown",
      "source": [
        "##**Import data and install packages**"
      ],
      "metadata": {
        "id": "fJ8J92ntz2rk"
      }
    },
    {
      "cell_type": "code",
      "execution_count": 1,
      "metadata": {
        "id": "rjy8W5hly24q"
      },
      "outputs": [],
      "source": [
        "import numpy as np\n",
        "import scipy.io as sio\n",
        "import pandas as pd\n",
        "import matplotlib.pyplot as plt #Can use other plotting packages like seaborn"
      ]
    },
    {
      "cell_type": "code",
      "metadata": {
        "id": "yH-EpSmB9Y_x",
        "colab": {
          "base_uri": "https://localhost:8080/"
        },
        "outputId": "b405a66c-0d3f-4b25-fc8f-452b0a893776"
      },
      "source": [
        "#Download the FASTA file with a pair of nucleotide sequences\n",
        "\n",
        "!wget --content-disposition 'https://drive.google.com/uc?export=download&id=1GFYciWTl2Objrplb1XqNa0pWzTBvXbsm'"
      ],
      "execution_count": 2,
      "outputs": [
        {
          "output_type": "stream",
          "name": "stdout",
          "text": [
            "--2023-03-07 03:54:34--  https://drive.google.com/uc?export=download&id=1GFYciWTl2Objrplb1XqNa0pWzTBvXbsm\n",
            "Resolving drive.google.com (drive.google.com)... 173.194.217.138, 173.194.217.100, 173.194.217.139, ...\n",
            "Connecting to drive.google.com (drive.google.com)|173.194.217.138|:443... connected.\n",
            "HTTP request sent, awaiting response... 303 See Other\n",
            "Location: https://doc-0k-3c-docs.googleusercontent.com/docs/securesc/ha0ro937gcuc7l7deffksulhg5h7mbp1/mv7rue7pahq8qd0scmm8ejt6hthk65gn/1678161225000/14515314329444727017/*/1GFYciWTl2Objrplb1XqNa0pWzTBvXbsm?e=download&uuid=5aaf9c26-0a16-44d8-abc7-111385eb3770 [following]\n",
            "Warning: wildcards not supported in HTTP.\n",
            "--2023-03-07 03:54:34--  https://doc-0k-3c-docs.googleusercontent.com/docs/securesc/ha0ro937gcuc7l7deffksulhg5h7mbp1/mv7rue7pahq8qd0scmm8ejt6hthk65gn/1678161225000/14515314329444727017/*/1GFYciWTl2Objrplb1XqNa0pWzTBvXbsm?e=download&uuid=5aaf9c26-0a16-44d8-abc7-111385eb3770\n",
            "Resolving doc-0k-3c-docs.googleusercontent.com (doc-0k-3c-docs.googleusercontent.com)... 142.250.97.132, 2607:f8b0:400c:c18::84\n",
            "Connecting to doc-0k-3c-docs.googleusercontent.com (doc-0k-3c-docs.googleusercontent.com)|142.250.97.132|:443... connected.\n",
            "HTTP request sent, awaiting response... 200 OK\n",
            "Length: 49 [application/octet-stream]\n",
            "Saving to: ‘seqs.fasta.1’\n",
            "\n",
            "seqs.fasta.1        100%[===================>]      49  --.-KB/s    in 0s      \n",
            "\n",
            "2023-03-07 03:54:35 (2.65 MB/s) - ‘seqs.fasta.1’ saved [49/49]\n",
            "\n"
          ]
        }
      ]
    },
    {
      "cell_type": "markdown",
      "source": [
        "## **Read in data for analysis**"
      ],
      "metadata": {
        "id": "PpeuucqgiDPx"
      }
    },
    {
      "cell_type": "markdown",
      "source": [
        "**The data**"
      ],
      "metadata": {
        "id": "swY2nSDukmXg"
      }
    },
    {
      "cell_type": "markdown",
      "source": [
        "Here you will read in  a FASTA file of a pair of DNA sequences. FASTA is a common text file format in which nucleotide sequences are stored. Commonly, the name of the sequence follows a '>'. The following line then has the sequence itself, terminated by an '*'."
      ],
      "metadata": {
        "id": "h9dCxq5twLUk"
      }
    },
    {
      "cell_type": "code",
      "source": [
        "#Print the FASTA file we downloaded\n",
        "!cat seqs.fasta"
      ],
      "metadata": {
        "colab": {
          "base_uri": "https://localhost:8080/"
        },
        "id": "njnLSJehwurt",
        "outputId": "09a9addb-fc6b-4540-8bfa-693537828f8a"
      },
      "execution_count": 3,
      "outputs": [
        {
          "output_type": "stream",
          "name": "stdout",
          "text": [
            ">sequence1\n",
            "ACAACAACAG*\n",
            ">sequence2\n",
            "ACAACAGCAGCAG*\n"
          ]
        }
      ]
    },
    {
      "cell_type": "markdown",
      "source": [
        "## **Problem 3 (40 points)**"
      ],
      "metadata": {
        "id": "BSNL7Tr7g2z_"
      }
    },
    {
      "cell_type": "markdown",
      "source": [
        "In the Needleman-Wunsch (NW) algorithm we will have two matrices: the score matrix and traceback matrix. \n",
        "\n",
        "###Score Matrix\n",
        "\n",
        "We begin by constructing a **score matrix** $\\mathbf{F}$, an $(m+1)\\times(n+1)$ matrix for two sequences $x,y$ of length $m$ and $n$ respectively. Each entry $i,j$ corresponds to the alignment score of the nucleotides in at $x_i \\text{ and } y_j$.\n",
        "\n",
        "Nucleotide pairs can either be aligned to eachother (e.g. $F(1,1)$ = 'G' mapped to 'G') or to a gap (e.g. $F(1,0)$ = 'G' mapped to '-'). Pairs can also be aligned if they do not match (e.g. $F(1,2)$ = 'G' mapped to 'A'). (See below for sequences $x$ = 'GATTACA', $y$ = 'GCATGCT')\n",
        "\n",
        "\n",
        "\n",
        "\n",
        "\n"
      ],
      "metadata": {
        "id": "4SveJ1yfd5Ay"
      }
    },
    {
      "cell_type": "markdown",
      "source": [
        "<center><img src=\"https://drive.google.com/uc?export=view&id=1Qfzs96bRkU2YJwx8Ss9VcjRN2EPUyLY4\" alt=\"exGrid\" width=\"300\" height=\"300\"><center>"
      ],
      "metadata": {
        "id": "w9RtLXVrq07n"
      }
    },
    {
      "cell_type": "markdown",
      "source": [
        "To calculate a score/entry for $F_{i,j}$, we will use the scores of $F_{i-1,j-1},F_{i-1,j}$ and $F_{i,j-1}$. The score for $F_{i,j}$ is defined as the maximum score of (1) $x_i$ being aligned to $y_j$, (2) $x_i$ being aligned to a gap '-', and (3) $y_j$ being aligned to a gap '-'. Thus the score is calculated as:\n",
        "\n",
        "\\begin{align}\n",
        "F_{i,j} = max\\begin{cases} \n",
        "      F_{i-1,j-1} + s(x_i,y_j) & (1) \\\\\n",
        "      F_{i-1,j} - d & (2) \\\\\n",
        "      F_{i,j-1} - d & (3)\n",
        "   \\end{cases}\n",
        "\\end{align}\n",
        "\n",
        "$s()$ denotes a score function, which we will define below, that returns a reward for two matched nucleotides or a penalty for mismatched bases.\n",
        "We will also set a value for the 'gap penalty' $d$."
      ],
      "metadata": {
        "id": "_rfy3lYVq2V5"
      }
    },
    {
      "cell_type": "markdown",
      "source": [
        "We can draw this score calculation as:"
      ],
      "metadata": {
        "id": "A7R6sTansoYU"
      }
    },
    {
      "cell_type": "markdown",
      "source": [
        "<center><img src=\"https://drive.google.com/uc?export=view&id=1MZf_hZ_7Tprj0hV0rpwsBWXBmrmFvWt_\" alt=\"exScore\" width=\"300\" height=\"160\"><center>"
      ],
      "metadata": {
        "id": "Uk_g9dIl1tHT"
      }
    },
    {
      "cell_type": "markdown",
      "source": [
        "###Traceback Matrix\n",
        "\n",
        "After we find out the highest score, the previous cell which gave the highest candidate score must also be recorded. This information is recorded in the **traceback matrix** $\\mathbf{P}$. For example, if $F_{i-1,j-1} + s(x_i,y_j)$ gives the maximum score for $F_{i,j}$, then the corresponding cell of the traceback matrix $\\mathbf{P}_{ij}$ is ”diag”, which means the last cell is $F_{i-1,j-1}$. If it is the above cell $F_{i-1,j}$ that gives the maximum score , then the $\\mathbf{P}_{ij}$ is ”up”. If there are even scores, we can just record one of them for the problem."
      ],
      "metadata": {
        "id": "TXZSWn_JJOyM"
      }
    },
    {
      "cell_type": "markdown",
      "source": [
        "After filling all cells of the score matrix and traceback matrix, the score in the cell on the bottom right represents the alignment score for the best alignment. We then use the traceback matrix to construct the best alignment.\n",
        "\n",
        "The traceback begins with the bottom right cell. One moves according to the traceback value written in the cell. There are three possible moves: diagonally (toward the top-left corner of the matrix), up, or left.\n",
        "The traceback is completed when the first, top-left cell of\n",
        "the matrix is reached.\n",
        "\n",
        "Here is the bottom right corner of an example traceback matrix:\n",
        "<center><img src=\"https://drive.google.com/uc?export=view&id=183LAe4zPt2s8qsyfVmyScoWxyUBVC6uX\" alt=\"exScore\" width=\"250\" height=\"160\"><center>"
      ],
      "metadata": {
        "id": "wmesEKALUnfS"
      }
    },
    {
      "cell_type": "markdown",
      "source": [
        "In summary, the Needleman-Wunsch algorithm consists of three steps:\n",
        "1. Initialisation of the score matrix\n",
        "2. Calculation of scores and filling the traceback matrix\n",
        "3. Deducing the alignment from the traceback matrix\n",
        "\n",
        "We will implement each step below."
      ],
      "metadata": {
        "id": "74oBMwZuRZP-"
      }
    },
    {
      "cell_type": "markdown",
      "source": [
        "### **a) Read in the DNA sequences from the FASTA file. Extract just the sequence strings, *not including* the asterisk at the end, and print the two strings. (2 points)**"
      ],
      "metadata": {
        "id": "49ekjwPBijRu"
      }
    },
    {
      "cell_type": "code",
      "source": [
        "#read the FASTA\n",
        "f=open('seqs.fasta')\n",
        "lines=f.readlines()\n",
        "\n",
        "#get the individual sequences\n",
        "seq1 = lines[1]\n",
        "seq1 = seq1[:-2]\n",
        "\n",
        "seq2 = lines[3]\n",
        "seq2 = seq2[:-2]\n",
        "\n",
        "\n",
        "#print sequences\n",
        "print(\"sequence 1:\",seq1)\n",
        "print(\"sequence 2:\",seq2)\n"
      ],
      "metadata": {
        "id": "OS5HYKVjmeMq",
        "outputId": "4f226853-a293-440e-f0a2-b6f4a47e837c",
        "colab": {
          "base_uri": "https://localhost:8080/"
        }
      },
      "execution_count": 4,
      "outputs": [
        {
          "output_type": "stream",
          "name": "stdout",
          "text": [
            "sequence 1: ACAACAACAG\n",
            "sequence 2: ACAACAGCAGCAG\n"
          ]
        }
      ]
    },
    {
      "cell_type": "markdown",
      "source": [
        "### **b) Initialisation of the score matrix: fill in the boundary conditions of $\\mathbf{F}$. (5 points)**\n",
        "The first column and row denote all bases in that column or row being mapped to gaps '-'. Assuming $F_{0,0} = 0$, fill in row 0 and column 0 accordingly, using a **gap penalty $\\mathbf{d = -1}$**. \n",
        "\n",
        "**Print your $\\mathbf{F}$ matrix after initialization.**"
      ],
      "metadata": {
        "id": "hMGOe1xHhP77"
      }
    },
    {
      "cell_type": "code",
      "source": [
        "f = np.zeros((len(seq1)+1,len(seq2)+1))\n",
        "\n",
        "for i in range((np.shape(f)[0])-1):\n",
        "  f[i+1,0] = f[i,0] -1\n",
        "\n",
        "for i in range((np.shape(f)[1])-1):\n",
        "  f[0,i+1] = f[0,i] -1\n",
        "\n",
        "print(f)"
      ],
      "metadata": {
        "id": "gj37defNaAYP",
        "outputId": "73f38944-3526-46bb-ef8a-5a221152549c",
        "colab": {
          "base_uri": "https://localhost:8080/"
        }
      },
      "execution_count": 5,
      "outputs": [
        {
          "output_type": "stream",
          "name": "stdout",
          "text": [
            "[[  0.  -1.  -2.  -3.  -4.  -5.  -6.  -7.  -8.  -9. -10. -11. -12. -13.]\n",
            " [ -1.   0.   0.   0.   0.   0.   0.   0.   0.   0.   0.   0.   0.   0.]\n",
            " [ -2.   0.   0.   0.   0.   0.   0.   0.   0.   0.   0.   0.   0.   0.]\n",
            " [ -3.   0.   0.   0.   0.   0.   0.   0.   0.   0.   0.   0.   0.   0.]\n",
            " [ -4.   0.   0.   0.   0.   0.   0.   0.   0.   0.   0.   0.   0.   0.]\n",
            " [ -5.   0.   0.   0.   0.   0.   0.   0.   0.   0.   0.   0.   0.   0.]\n",
            " [ -6.   0.   0.   0.   0.   0.   0.   0.   0.   0.   0.   0.   0.   0.]\n",
            " [ -7.   0.   0.   0.   0.   0.   0.   0.   0.   0.   0.   0.   0.   0.]\n",
            " [ -8.   0.   0.   0.   0.   0.   0.   0.   0.   0.   0.   0.   0.   0.]\n",
            " [ -9.   0.   0.   0.   0.   0.   0.   0.   0.   0.   0.   0.   0.   0.]\n",
            " [-10.   0.   0.   0.   0.   0.   0.   0.   0.   0.   0.   0.   0.   0.]]\n"
          ]
        }
      ]
    },
    {
      "cell_type": "markdown",
      "source": [
        "### **c) Implement the s() (score) function. (3 points)**\n",
        "\n",
        "Fill in the s() function below to take in two nucleotide bases and output a **reward of 2** if the bases match, and a **penalty of -2** for mismatched bases."
      ],
      "metadata": {
        "id": "7rbg1mgJhTYx"
      }
    },
    {
      "cell_type": "code",
      "source": [
        "def s(b1,b2):\n",
        "  if b1==b2:\n",
        "    s = 2\n",
        "  else:\n",
        "    s = -2\n",
        "  return s"
      ],
      "metadata": {
        "id": "ZSlLlmSnhS4A"
      },
      "execution_count": 6,
      "outputs": []
    },
    {
      "cell_type": "markdown",
      "source": [
        "### **d) Calculation of scores and filling the traceback matrix: fill in the rest of the $\\mathbf{F}$ matrix, row by row, and store the information in traceback matrix $\\mathbf{P}$. (10 points)**\n",
        "\n",
        "Fill in the $\\mathbf{F}$ matrix using the score function described in the main Problem statement, using the s() function from **c)** and a **gap penalty $\\mathbf{d = -1}$**\n",
        " \n",
        "Remember to store the arrow or the previous cells when we fill in the F. \n",
        "\n",
        "**Print your final $\\mathbf{F}$ matrix and $\\mathbf{P}$ matrix.**"
      ],
      "metadata": {
        "id": "I8VzNwjHlFFf"
      }
    },
    {
      "cell_type": "code",
      "source": [
        "#set the value for d\n",
        "d = -1\n",
        "\n",
        "#create the p matrix\n",
        "p = np.empty((len(seq1)+1,len(seq2)+1),dtype=str)\n",
        "\n",
        "#loop through the matrix\n",
        "for i in range(1, np.shape(f)[0]):\n",
        "  for j in range(1,np.shape(f)[1]):\n",
        "      up = f[i-1,j] + d\n",
        "      left = f[i,j-1] + d\n",
        "      diag = f[i-1,j-1] + s(seq1[i-1],seq2[j-1])\n",
        "      f[i,j] = max(up,left,diag)\n",
        "      if up == max(up,left,diag):\n",
        "        p[i,j] = \"up\"\n",
        "      if left == max(up,left,diag):\n",
        "        p[i,j] = \"left\"\n",
        "      if diag == max(up,left,diag):\n",
        "        p[i,j] = \"diag\"\n",
        "\n",
        "print(\"the P matrix is:\")\n",
        "print(p)\n",
        "print(\"the F matrix is:\")\n",
        "print(f)"
      ],
      "metadata": {
        "id": "5v07XqO34haj",
        "outputId": "a5d69d29-58ea-4413-b10b-f403e3029c26",
        "colab": {
          "base_uri": "https://localhost:8080/"
        }
      },
      "execution_count": 7,
      "outputs": [
        {
          "output_type": "stream",
          "name": "stdout",
          "text": [
            "the P matrix is:\n",
            "[['' '' '' '' '' '' '' '' '' '' '' '' '' '']\n",
            " ['' 'd' 'l' 'd' 'd' 'l' 'd' 'l' 'l' 'd' 'l' 'l' 'd' 'l']\n",
            " ['' 'u' 'd' 'l' 'l' 'd' 'l' 'l' 'd' 'l' 'l' 'd' 'l' 'l']\n",
            " ['' 'd' 'u' 'd' 'd' 'l' 'd' 'l' 'l' 'd' 'l' 'l' 'd' 'l']\n",
            " ['' 'd' 'u' 'd' 'd' 'l' 'd' 'l' 'l' 'd' 'l' 'l' 'd' 'l']\n",
            " ['' 'u' 'd' 'u' 'u' 'd' 'l' 'l' 'd' 'l' 'l' 'd' 'l' 'l']\n",
            " ['' 'd' 'u' 'd' 'd' 'u' 'd' 'l' 'l' 'd' 'l' 'l' 'd' 'l']\n",
            " ['' 'd' 'u' 'd' 'd' 'u' 'd' 'd' 'd' 'd' 'l' 'l' 'd' 'l']\n",
            " ['' 'u' 'd' 'u' 'u' 'd' 'u' 'd' 'd' 'l' 'd' 'd' 'l' 'l']\n",
            " ['' 'd' 'u' 'd' 'd' 'u' 'd' 'd' 'u' 'd' 'l' 'l' 'd' 'l']\n",
            " ['' 'u' 'u' 'u' 'u' 'u' 'u' 'd' 'l' 'u' 'd' 'l' 'l' 'd']]\n",
            "the F matrix is:\n",
            "[[  0.  -1.  -2.  -3.  -4.  -5.  -6.  -7.  -8.  -9. -10. -11. -12. -13.]\n",
            " [ -1.   2.   1.   0.  -1.  -2.  -3.  -4.  -5.  -6.  -7.  -8.  -9. -10.]\n",
            " [ -2.   1.   4.   3.   2.   1.   0.  -1.  -2.  -3.  -4.  -5.  -6.  -7.]\n",
            " [ -3.   0.   3.   6.   5.   4.   3.   2.   1.   0.  -1.  -2.  -3.  -4.]\n",
            " [ -4.  -1.   2.   5.   8.   7.   6.   5.   4.   3.   2.   1.   0.  -1.]\n",
            " [ -5.  -2.   1.   4.   7.  10.   9.   8.   7.   6.   5.   4.   3.   2.]\n",
            " [ -6.  -3.   0.   3.   6.   9.  12.  11.  10.   9.   8.   7.   6.   5.]\n",
            " [ -7.  -4.  -1.   2.   5.   8.  11.  10.   9.  12.  11.  10.   9.   8.]\n",
            " [ -8.  -5.  -2.   1.   4.   7.  10.   9.  12.  11.  10.  13.  12.  11.]\n",
            " [ -9.  -6.  -3.   0.   3.   6.   9.   8.  11.  14.  13.  12.  15.  14.]\n",
            " [-10.  -7.  -4.  -1.   2.   5.   8.  11.  10.  13.  16.  15.  14.  17.]]\n"
          ]
        }
      ]
    },
    {
      "cell_type": "markdown",
      "source": [
        "### **e) Beginning at bottom corner, traceback the alignment and output the final alignment of the two sequences (10 points)**"
      ],
      "metadata": {
        "id": "eEz9p0zOlgSu"
      }
    },
    {
      "cell_type": "markdown",
      "source": [
        "At each step in the traceback we look at the entries of $\\mathbf{P}_{i,j}$ matrix which records which cell (among $F_{i-1,j-1}, F_{i-1,j} and F_{i,j-1}$) $F_{i,j}$ was derived from. We take a 'step' back to the recorded previous entry that gave the max score, and add a pair of symbols/nucleotides to the alignment accordingly.\n",
        "\n",
        "If $\\mathbf{P}_{i,j}$ is diag, the step is to $F_{i-1,j-1}$ (diagonal arrow), $x_i$ and $y_j$ are added to the alignment. \n",
        "\n",
        "If $\\mathbf{P}_{i,j}$ is up, the step is to $F_{i-1,j}$ (vertical arrow), and $x_i$ and '-' (gap character) are added.\n",
        "\n",
        "If $\\mathbf{P}_{i,j}$ is left, the step is to $F_{i,j-1}$ (horizontal arrow), and  '-' and $y_j$ are added."
      ],
      "metadata": {
        "id": "jqRSmq1Ry4Xf"
      }
    },
    {
      "cell_type": "markdown",
      "source": [
        "\n",
        "If there is a tie for the max entry, choose any of the entries in that tie with equal probability. "
      ],
      "metadata": {
        "id": "GFnVPk3Nl_dC"
      }
    },
    {
      "cell_type": "markdown",
      "source": [
        "Example: here we combine the traceback and score matrix for visualization such that the numbers are the scores and the arrows represent the information in the traceback matrix.\n",
        "\n",
        "Starting at the right corner, according to our recorded arrow, this comes from the left cell, thus T from y and a gap '-' are aligned. In the next step, again based on the arrow, the top cell is selected, thus the A from x is aligned to a gap '-'."
      ],
      "metadata": {
        "id": "h8SXsKENV_8X"
      }
    },
    {
      "cell_type": "markdown",
      "source": [
        "<center><img src=\"https://drive.google.com/uc?export=view&id=1mONEIOXBIBhTlYjevItK6dexR6V091cw\" alt=\"exScore\" width=\"450\" height=\"350\"><center>"
      ],
      "metadata": {
        "id": "SvI2J0E6vV_U"
      }
    },
    {
      "cell_type": "markdown",
      "source": [
        "The result alignment is:\n",
        "```\n",
        "G\t-\tA\tT\tT\tA\t-\tC\tA\t-\n",
        "G\tC\tA\tT\t-\t-\tG\tC\t-\tT\n",
        "```\n",
        "\n"
      ],
      "metadata": {
        "id": "QbIQn3eGc_dr"
      }
    },
    {
      "cell_type": "code",
      "source": [
        "def traceback(seq1,seq2,p):\n",
        "  i = np.shape(p)[0]-1\n",
        "  j = np.shape(p)[1]-1\n",
        "  \n",
        "  align_1 = ''\n",
        "  align_2 = ''\n",
        "\n",
        "  while (i > 0) and (j >0):\n",
        "    if p[i,j] == 'l':\n",
        "        align_1 = align_1 + '-'\n",
        "        align_2 = align_2 + seq2[j-1]\n",
        "        j -= 1\n",
        "    if p[i,j] == 'u':\n",
        "        align_1 = align_1 + seq1[i-1]\n",
        "        align_2 = align_2 + '-'\n",
        "        i -= 1\n",
        "    if p[i,j] == 'd':\n",
        "        align_1 = align_1 + seq1[i-1]\n",
        "        align_2 = align_2 + seq2[j-1]\n",
        "        j -= 1\n",
        "        i -= 1\n",
        " \n",
        "  return align_1[::-1],align_2[::-1]"
      ],
      "metadata": {
        "id": "fEGuOQOao6lk"
      },
      "execution_count": 8,
      "outputs": []
    },
    {
      "cell_type": "code",
      "source": [
        "seq1_allign, seq2_allign = traceback(seq1,seq2,p)\n",
        "print(\"the allignment for sequence 1 is:\", seq1_allign)\n",
        "print(\"the allignment for sequence 2 is:\", seq2_allign)"
      ],
      "metadata": {
        "id": "fTg3dkgumraE",
        "colab": {
          "base_uri": "https://localhost:8080/"
        },
        "outputId": "782230d9-1e81-4c66-8a7b-7bd31bc76f31"
      },
      "execution_count": 9,
      "outputs": [
        {
          "output_type": "stream",
          "name": "stdout",
          "text": [
            "the allignment for sequence 1 is: ACAACA--A-CAG\n",
            "the allignment for sequence 2 is: ACAACAGCAGCAG\n"
          ]
        }
      ]
    },
    {
      "cell_type": "markdown",
      "source": [
        "### **f) Change the score function to adapt the mismatch penalties to account for more or less likely nucleotide substitutions. (5 points)**\n",
        "\n",
        "Transitions within the purine class (A <--> G) or within the pyrimidine class (C <--> T) are more likely and thus have a **penalty of -1**. Transversions, across classes (e.g. A --> T) have a **penalty of -2** as they are less likely.\n",
        "\n",
        "**Define a new s() function to implement these penalty changes.**"
      ],
      "metadata": {
        "id": "JdE9-1Ormnw2"
      }
    },
    {
      "cell_type": "code",
      "source": [
        "def s_new(b1,b2):\n",
        "  s = -2\n",
        "  if b1==b2:\n",
        "    s = 2\n",
        "  if (b1 == 'A' and b2 == 'G') or (b1 == 'G' and b2 == 'A'):\n",
        "    s = -1\n",
        "  if (b1 == 'C' and b2 == 'T') or (b1 == 'T' and b2 == 'C'):\n",
        "    s = -1\n",
        "  return s"
      ],
      "metadata": {
        "id": "dms3XZ4zmtHD"
      },
      "execution_count": 10,
      "outputs": []
    },
    {
      "cell_type": "markdown",
      "source": [
        "### **g) Re-run the NW algorithm with new penalties, report your new final alignment with the penalty changes/new score function in f), and print the full (final) $\\mathbf{F}$ matrix. (5 points)**\n",
        "\n",
        "Use the adapted mismatch penalties. If there are multiple possible alignments, you just need to report one of them."
      ],
      "metadata": {
        "id": "vSdXasDvnaTY"
      }
    },
    {
      "cell_type": "code",
      "source": [
        "#initalize the new f matrix\n",
        "f_new = np.zeros((len(seq1)+1,len(seq2)+1))\n",
        "\n",
        "for i in range((np.shape(f_new)[0])-1):\n",
        "  f_new[i+1,0] = f_new[i,0] -1\n",
        "\n",
        "for i in range((np.shape(f_new)[1])-1):\n",
        "  f_new[0,i+1] = f_new[0,i] -1\n",
        "\n",
        "#create the p_new matrix\n",
        "p_new = np.empty((len(seq1)+1,len(seq2)+1),dtype=str)\n",
        "\n",
        "#loop through the matrix\n",
        "for i in range(1, np.shape(f_new)[0]):\n",
        "  for j in range(1,np.shape(f_new)[1]):\n",
        "      up = f_new[i-1,j] + d\n",
        "      left = f_new[i,j-1] + d\n",
        "      diag = f_new[i-1,j-1] + s_new(seq1[i-1],seq2[j-1])\n",
        "      f_new[i,j] = max(up,left,diag)\n",
        "      if up == max(up,left,diag):\n",
        "        p_new[i,j] = \"up\"\n",
        "      if left == max(up,left,diag):\n",
        "        p_new[i,j] = \"left\"\n",
        "      if diag == max(up,left,diag):\n",
        "        p_new[i,j] = \"diag\"\n",
        "\n",
        "print(\"the P matrix is:\")\n",
        "print(p_new)\n",
        "print(\"the F matrix is:\")\n",
        "print(f_new)"
      ],
      "metadata": {
        "id": "u1qC7GUSFwGb",
        "colab": {
          "base_uri": "https://localhost:8080/"
        },
        "outputId": "8716941f-309f-421b-d786-c1ad1de62f18"
      },
      "execution_count": 11,
      "outputs": [
        {
          "output_type": "stream",
          "name": "stdout",
          "text": [
            "the P matrix is:\n",
            "[['' '' '' '' '' '' '' '' '' '' '' '' '' '']\n",
            " ['' 'd' 'l' 'd' 'd' 'l' 'd' 'l' 'l' 'd' 'l' 'l' 'd' 'l']\n",
            " ['' 'u' 'd' 'l' 'l' 'd' 'l' 'l' 'd' 'l' 'l' 'd' 'l' 'l']\n",
            " ['' 'd' 'u' 'd' 'd' 'l' 'd' 'l' 'l' 'd' 'l' 'l' 'd' 'l']\n",
            " ['' 'd' 'u' 'd' 'd' 'l' 'd' 'l' 'l' 'd' 'l' 'l' 'd' 'l']\n",
            " ['' 'u' 'd' 'u' 'u' 'd' 'l' 'l' 'd' 'l' 'l' 'd' 'l' 'l']\n",
            " ['' 'd' 'u' 'd' 'd' 'u' 'd' 'l' 'l' 'd' 'l' 'l' 'd' 'l']\n",
            " ['' 'd' 'u' 'd' 'd' 'u' 'd' 'd' 'l' 'd' 'l' 'l' 'd' 'l']\n",
            " ['' 'u' 'd' 'u' 'u' 'd' 'u' 'u' 'd' 'l' 'l' 'd' 'l' 'l']\n",
            " ['' 'd' 'u' 'd' 'd' 'u' 'd' 'd' 'u' 'd' 'l' 'l' 'd' 'l']\n",
            " ['' 'u' 'u' 'u' 'u' 'u' 'u' 'd' 'u' 'u' 'd' 'l' 'l' 'd']]\n",
            "the F matrix is:\n",
            "[[  0.  -1.  -2.  -3.  -4.  -5.  -6.  -7.  -8.  -9. -10. -11. -12. -13.]\n",
            " [ -1.   2.   1.   0.  -1.  -2.  -3.  -4.  -5.  -6.  -7.  -8.  -9. -10.]\n",
            " [ -2.   1.   4.   3.   2.   1.   0.  -1.  -2.  -3.  -4.  -5.  -6.  -7.]\n",
            " [ -3.   0.   3.   6.   5.   4.   3.   2.   1.   0.  -1.  -2.  -3.  -4.]\n",
            " [ -4.  -1.   2.   5.   8.   7.   6.   5.   4.   3.   2.   1.   0.  -1.]\n",
            " [ -5.  -2.   1.   4.   7.  10.   9.   8.   7.   6.   5.   4.   3.   2.]\n",
            " [ -6.  -3.   0.   3.   6.   9.  12.  11.  10.   9.   8.   7.   6.   5.]\n",
            " [ -7.  -4.  -1.   2.   5.   8.  11.  11.  10.  12.  11.  10.   9.   8.]\n",
            " [ -8.  -5.  -2.   1.   4.   7.  10.  10.  13.  12.  11.  13.  12.  11.]\n",
            " [ -9.  -6.  -3.   0.   3.   6.   9.   9.  12.  15.  14.  13.  15.  14.]\n",
            " [-10.  -7.  -4.  -1.   2.   5.   8.  11.  11.  14.  17.  16.  15.  17.]]\n"
          ]
        }
      ]
    },
    {
      "cell_type": "code",
      "source": [
        "#now lets perform our allignment\n",
        "seq1_allign_new, seq2_allign_new = traceback(seq1,seq2,p_new)\n",
        "print(\"the allignment for sequence 1 is:\", seq1_allign_new)\n",
        "print(\"the allignment for sequence 2 is:\", seq2_allign_new)"
      ],
      "metadata": {
        "id": "CtQsKMtssjkm",
        "outputId": "b9a51c23-975b-43b9-d48f-de172c9a04b4",
        "colab": {
          "base_uri": "https://localhost:8080/"
        }
      },
      "execution_count": 12,
      "outputs": [
        {
          "output_type": "stream",
          "name": "stdout",
          "text": [
            "the allignment for sequence 1 is: ACAACA--A-CAG\n",
            "the allignment for sequence 2 is: ACAACAGCAGCAG\n"
          ]
        }
      ]
    },
    {
      "cell_type": "markdown",
      "source": [
        "It looks like the new base pair switching rules did not change the allignment!"
      ],
      "metadata": {
        "id": "SMndZbszs_3Z"
      }
    }
  ]
}