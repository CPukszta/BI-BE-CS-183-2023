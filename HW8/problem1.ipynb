{
  "nbformat": 4,
  "nbformat_minor": 0,
  "metadata": {
    "colab": {
      "provenance": [],
      "include_colab_link": true
    },
    "kernelspec": {
      "name": "python3",
      "display_name": "Python 3"
    },
    "language_info": {
      "name": "python"
    }
  },
  "cells": [
    {
      "cell_type": "markdown",
      "metadata": {
        "id": "view-in-github",
        "colab_type": "text"
      },
      "source": [
        "<a href=\"https://colab.research.google.com/github/CPukszta/BI-BE-CS-183-2023/blob/main/HW8/problem1.ipynb\" target=\"_parent\"><img src=\"https://colab.research.google.com/assets/colab-badge.svg\" alt=\"Open In Colab\"/></a>"
      ]
    },
    {
      "cell_type": "markdown",
      "source": [
        "This is the notebook for calculating probabiltites for question 1. Code will have some comments but may be more sparse :(\n"
      ],
      "metadata": {
        "id": "LYC_w1OBxVGs"
      }
    },
    {
      "cell_type": "code",
      "execution_count": 1,
      "metadata": {
        "id": "WIJ95RwBxJyV"
      },
      "outputs": [],
      "source": [
        "import numpy as np\n",
        "import scipy.io as sio\n",
        "import pandas as pd\n",
        "import matplotlib.pyplot as plt #Can use other plotting packages like seaborn"
      ]
    },
    {
      "cell_type": "markdown",
      "source": [
        "Lets start by computing the probability of getting the sequence ACG as a result of every possible combination of hidden state"
      ],
      "metadata": {
        "id": "WqUz835wxf4f"
      }
    },
    {
      "cell_type": "code",
      "source": [
        "#define our s and t matrix\n",
        "s = np.array([[0.8,0.2],[0.05,0.95]])\n",
        "t = np.array([[0.2,0.5,0.1,0.2],[0.1,0.25,0.25,0.4]])"
      ],
      "metadata": {
        "id": "MDnyEzrV0aYL"
      },
      "execution_count": 6,
      "outputs": []
    },
    {
      "cell_type": "code",
      "source": [
        "# define a matrix of all the possible combinations of hidden states\n",
        "HS_mat = np.matrix([[0,0,0],[0,0,1],[0,1,1],[1,1,1],[1,1,0],[1,0,0]])\n",
        "print(HS_mat)\n",
        "\n",
        "#lets now compute the probaility of each of these hidden states occuring\n",
        "hidden_state_prob = np.zeros(np.shape(HS_mat))\n",
        "hidden_state_prob[:,0] = 0.5\n",
        "\n",
        "print(hidden_state_prob)"
      ],
      "metadata": {
        "colab": {
          "base_uri": "https://localhost:8080/"
        },
        "id": "g1ty_jtgxeMX",
        "outputId": "03b5b61e-94d2-4b04-d2f3-7c9ac03e957e"
      },
      "execution_count": 43,
      "outputs": [
        {
          "output_type": "stream",
          "name": "stdout",
          "text": [
            "[[0 0 0]\n",
            " [0 0 1]\n",
            " [0 1 1]\n",
            " [1 1 1]\n",
            " [1 1 0]\n",
            " [1 0 0]]\n",
            "[[0.5 0.  0. ]\n",
            " [0.5 0.  0. ]\n",
            " [0.5 0.  0. ]\n",
            " [0.5 0.  0. ]\n",
            " [0.5 0.  0. ]\n",
            " [0.5 0.  0. ]]\n"
          ]
        }
      ]
    },
    {
      "cell_type": "code",
      "source": [
        "#def a function to give the p(state change between t-1 and t)\n",
        "def hiddenstate_step(s,state_old,state_new):\n",
        "  t_prob = np.zeros(np.shape(state_old))\n",
        "  i = 0\n",
        "  while i < len(t_prob):\n",
        "    if (state_old[i] == 0 and state_new[i]== 0):\n",
        "      t_prob[i] = s[0,0]\n",
        "    if (state_old[i] == 0 and state_new[i]==1):\n",
        "      t_prob[i] = s[0,1]\n",
        "    if (state_old[i] == 1 and state_new[i]==0):\n",
        "      t_prob[i] = s[1,0]\n",
        "    if (state_old[i] == 1 and state_new[i]==1):\n",
        "      t_prob[i] = s[1,1]\n",
        "    i += 1\n",
        "\n",
        "  return t_prob[:,0]"
      ],
      "metadata": {
        "id": "-Kb68RezybP3"
      },
      "execution_count": 49,
      "outputs": []
    },
    {
      "cell_type": "code",
      "source": [
        "for i in range(1,np.shape(HS_mat)[1]):\n",
        "  hidden_state_prob[:,i] = hiddenstate_step(s,HS_mat[:,i-1],HS_mat[:,i])\n",
        "\n",
        "print(hidden_state_prob)"
      ],
      "metadata": {
        "colab": {
          "base_uri": "https://localhost:8080/"
        },
        "id": "Cod3lnyc0T4F",
        "outputId": "cd9c5453-34f4-4e5e-f942-a6a2fb67d605"
      },
      "execution_count": 50,
      "outputs": [
        {
          "output_type": "stream",
          "name": "stdout",
          "text": [
            "[[0.5  0.8  0.8 ]\n",
            " [0.5  0.8  0.2 ]\n",
            " [0.5  0.2  0.95]\n",
            " [0.5  0.95 0.95]\n",
            " [0.5  0.95 0.05]\n",
            " [0.5  0.05 0.8 ]]\n"
          ]
        }
      ]
    },
    {
      "cell_type": "code",
      "source": [
        "# now lets def a function to give the p(a given string value given the current state)\n",
        "def p_func(t,curr_state,val):\n",
        "  #order of nucleotides\n",
        "  nuc = 'ACTG'\n",
        "  #index of given nucleotide\n",
        "  val_ind = nuc.index(val)\n",
        "\n",
        "  t_prob = np.zeros(np.shape(curr_state))\n",
        "\n",
        "  i = 0\n",
        "  while i < len(curr_state):\n",
        "    if (curr_state[i] == 0):\n",
        "      t_prob[i] = t[0,val_ind]\n",
        "    if (curr_state[i] == 1):\n",
        "      t_prob[i] = t[1,val_ind]\n",
        "    i += 1\n",
        "\n",
        "  return t_prob[:,0]"
      ],
      "metadata": {
        "id": "StCvJR2t3BTa"
      },
      "execution_count": 60,
      "outputs": []
    },
    {
      "cell_type": "code",
      "source": [
        "#lets run our function to get the probaility of getting the desired nucleotide at each time point\n",
        "observation_prob = np.zeros(np.shape(HS_mat))\n",
        "\n",
        "string = \"ACG\"\n",
        "\n",
        "for i in range(np.shape(HS_mat)[1]):\n",
        "  observation_prob[:,i] = p_func(t,HS_mat[:,i],string[i])\n",
        "\n",
        "print(observation_prob)"
      ],
      "metadata": {
        "colab": {
          "base_uri": "https://localhost:8080/"
        },
        "id": "t6h66bKT3Uj6",
        "outputId": "8bbade97-b059-4ef8-acdc-6e2f247ffdfa"
      },
      "execution_count": 66,
      "outputs": [
        {
          "output_type": "stream",
          "name": "stdout",
          "text": [
            "[[0.2  0.5  0.2 ]\n",
            " [0.2  0.5  0.4 ]\n",
            " [0.2  0.25 0.4 ]\n",
            " [0.1  0.25 0.4 ]\n",
            " [0.1  0.25 0.2 ]\n",
            " [0.1  0.5  0.2 ]]\n"
          ]
        }
      ]
    },
    {
      "cell_type": "code",
      "source": [
        "#now we can calculate the probaility that each sequence of hidden states gave the string ACG\n",
        "#by multiplying everything together!\n",
        "prob_ACG = np.prod(hidden_state_prob*observation_prob,axis=1)\n",
        "\n",
        "print(prob_ACG)\n",
        "\n",
        "max_HSS = HS_mat[np.where(prob_ACG == np.max(prob_ACG)),:]\n",
        "print(\"the sequence of hidden states that gives the highest prob of getting ACG is:\", max_HSS)"
      ],
      "metadata": {
        "colab": {
          "base_uri": "https://localhost:8080/"
        },
        "id": "OO_i3NiP5qKi",
        "outputId": "28042f46-7ecb-47d5-9d54-49fc30a04580"
      },
      "execution_count": 70,
      "outputs": [
        {
          "output_type": "stream",
          "name": "stdout",
          "text": [
            "[0.0064     0.0032     0.0019     0.0045125  0.00011875 0.0002    ]\n",
            "the sequence of hidden states that gives the highest prob of getting ACG is: [[[0 0 0]]]\n"
          ]
        }
      ]
    },
    {
      "cell_type": "code",
      "source": [
        "#the overall prob of getting this sequence is the intersection of these events\n",
        "#thus lets add these probailities\n",
        "#this is the calcualtion for part C\n",
        "\n",
        "p_ACG = np.sum(prob_ACG)\n",
        "\n",
        "print(\"the prob of getting ACG is:\",p_ACG)"
      ],
      "metadata": {
        "colab": {
          "base_uri": "https://localhost:8080/"
        },
        "id": "Bm3LFNWEAYVe",
        "outputId": "5c81043e-36dd-4781-8589-f2826a51ae06"
      },
      "execution_count": 75,
      "outputs": [
        {
          "output_type": "stream",
          "name": "stdout",
          "text": [
            "the prob of getting ACG is: 0.016331250000000005\n"
          ]
        }
      ]
    },
    {
      "cell_type": "markdown",
      "source": [
        "As we can see, all the sequences give a non-zero probability of getting the sequence ACG.\n",
        "\n",
        "Futhurmore, the sequence of hidden states: 0,0,0 gives the highest probability!"
      ],
      "metadata": {
        "id": "-1I97E3j7hyP"
      }
    },
    {
      "cell_type": "code",
      "source": [
        "#lets find the most probable hidden state sequence:\n",
        "prob_HSS_mat = np.prod(hidden_state_prob,axis=1)\n",
        "\n",
        "prob_HSS = HS_mat[np.where(prob_HSS_mat == np.max(prob_HSS_mat)),:]\n",
        "\n",
        "print(\"the most probable hidden state sequence is:\", prob_HSS)\n",
        "print(\"the prob of getting ACG from this hidden state sequence is:\", \n",
        "      np.prod(observation_prob[np.where(prob_HSS_mat == np.max(prob_HSS_mat)),:]) )"
      ],
      "metadata": {
        "colab": {
          "base_uri": "https://localhost:8080/"
        },
        "id": "KoKZiGpv7hYM",
        "outputId": "8c8749b6-5153-461a-e948-d681c3929e97"
      },
      "execution_count": 78,
      "outputs": [
        {
          "output_type": "stream",
          "name": "stdout",
          "text": [
            "the most probable hidden state sequence is: [[[1 1 1]]]\n",
            "the prob of getting ACG from this hidden state sequence is: 0.010000000000000002\n"
          ]
        }
      ]
    },
    {
      "cell_type": "code",
      "source": [],
      "metadata": {
        "id": "95qGiIbG_nM4"
      },
      "execution_count": null,
      "outputs": []
    }
  ]
}