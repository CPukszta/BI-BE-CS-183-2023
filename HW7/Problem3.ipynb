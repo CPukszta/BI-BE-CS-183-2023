{
  "nbformat": 4,
  "nbformat_minor": 0,
  "metadata": {
    "colab": {
      "provenance": [],
      "include_colab_link": true
    },
    "kernelspec": {
      "name": "python3",
      "display_name": "Python 3"
    },
    "language_info": {
      "name": "python"
    },
    "widgets": {
      "application/vnd.jupyter.widget-state+json": {
        "0201f8311e9c4661a2488f31fe866a2a": {
          "model_module": "@jupyter-widgets/controls",
          "model_name": "HBoxModel",
          "model_module_version": "1.5.0",
          "state": {
            "_dom_classes": [],
            "_model_module": "@jupyter-widgets/controls",
            "_model_module_version": "1.5.0",
            "_model_name": "HBoxModel",
            "_view_count": null,
            "_view_module": "@jupyter-widgets/controls",
            "_view_module_version": "1.5.0",
            "_view_name": "HBoxView",
            "box_style": "",
            "children": [
              "IPY_MODEL_f0eb7b67970344318ec38c7a246ebb12",
              "IPY_MODEL_156bacb21939490f90c99f938ed6398f",
              "IPY_MODEL_6a7400ad14e34dfe9e3ae3bfa6bb93e5"
            ],
            "layout": "IPY_MODEL_3347ce509972414fba7a358a7f0ccaff"
          }
        },
        "f0eb7b67970344318ec38c7a246ebb12": {
          "model_module": "@jupyter-widgets/controls",
          "model_name": "HTMLModel",
          "model_module_version": "1.5.0",
          "state": {
            "_dom_classes": [],
            "_model_module": "@jupyter-widgets/controls",
            "_model_module_version": "1.5.0",
            "_model_name": "HTMLModel",
            "_view_count": null,
            "_view_module": "@jupyter-widgets/controls",
            "_view_module_version": "1.5.0",
            "_view_name": "HTMLView",
            "description": "",
            "description_tooltip": null,
            "layout": "IPY_MODEL_cd8032c9712646f298426d33a7fdd3c6",
            "placeholder": "​",
            "style": "IPY_MODEL_20d50673086246e485b8d1b9e6627a00",
            "value": ""
          }
        },
        "156bacb21939490f90c99f938ed6398f": {
          "model_module": "@jupyter-widgets/controls",
          "model_name": "FloatProgressModel",
          "model_module_version": "1.5.0",
          "state": {
            "_dom_classes": [],
            "_model_module": "@jupyter-widgets/controls",
            "_model_module_version": "1.5.0",
            "_model_name": "FloatProgressModel",
            "_view_count": null,
            "_view_module": "@jupyter-widgets/controls",
            "_view_module_version": "1.5.0",
            "_view_name": "ProgressView",
            "bar_style": "success",
            "description": "",
            "description_tooltip": null,
            "layout": "IPY_MODEL_aafb18386f55431aaf41e926781948f5",
            "max": 6617,
            "min": 0,
            "orientation": "horizontal",
            "style": "IPY_MODEL_ac93e0d06c4c4d3aac110e5759d83cdd",
            "value": 6617
          }
        },
        "6a7400ad14e34dfe9e3ae3bfa6bb93e5": {
          "model_module": "@jupyter-widgets/controls",
          "model_name": "HTMLModel",
          "model_module_version": "1.5.0",
          "state": {
            "_dom_classes": [],
            "_model_module": "@jupyter-widgets/controls",
            "_model_module_version": "1.5.0",
            "_model_name": "HTMLModel",
            "_view_count": null,
            "_view_module": "@jupyter-widgets/controls",
            "_view_module_version": "1.5.0",
            "_view_name": "HTMLView",
            "description": "",
            "description_tooltip": null,
            "layout": "IPY_MODEL_713d5d51758f4e7c8a2e210f7c6c10d3",
            "placeholder": "​",
            "style": "IPY_MODEL_9c7a8c5a75324d2e93443651fade5152",
            "value": " 6618/? [00:33&lt;00:00, 11384.36B/s]"
          }
        },
        "3347ce509972414fba7a358a7f0ccaff": {
          "model_module": "@jupyter-widgets/base",
          "model_name": "LayoutModel",
          "model_module_version": "1.2.0",
          "state": {
            "_model_module": "@jupyter-widgets/base",
            "_model_module_version": "1.2.0",
            "_model_name": "LayoutModel",
            "_view_count": null,
            "_view_module": "@jupyter-widgets/base",
            "_view_module_version": "1.2.0",
            "_view_name": "LayoutView",
            "align_content": null,
            "align_items": null,
            "align_self": null,
            "border": null,
            "bottom": null,
            "display": null,
            "flex": null,
            "flex_flow": null,
            "grid_area": null,
            "grid_auto_columns": null,
            "grid_auto_flow": null,
            "grid_auto_rows": null,
            "grid_column": null,
            "grid_gap": null,
            "grid_row": null,
            "grid_template_areas": null,
            "grid_template_columns": null,
            "grid_template_rows": null,
            "height": null,
            "justify_content": null,
            "justify_items": null,
            "left": null,
            "margin": null,
            "max_height": null,
            "max_width": null,
            "min_height": null,
            "min_width": null,
            "object_fit": null,
            "object_position": null,
            "order": null,
            "overflow": null,
            "overflow_x": null,
            "overflow_y": null,
            "padding": null,
            "right": null,
            "top": null,
            "visibility": null,
            "width": null
          }
        },
        "cd8032c9712646f298426d33a7fdd3c6": {
          "model_module": "@jupyter-widgets/base",
          "model_name": "LayoutModel",
          "model_module_version": "1.2.0",
          "state": {
            "_model_module": "@jupyter-widgets/base",
            "_model_module_version": "1.2.0",
            "_model_name": "LayoutModel",
            "_view_count": null,
            "_view_module": "@jupyter-widgets/base",
            "_view_module_version": "1.2.0",
            "_view_name": "LayoutView",
            "align_content": null,
            "align_items": null,
            "align_self": null,
            "border": null,
            "bottom": null,
            "display": null,
            "flex": null,
            "flex_flow": null,
            "grid_area": null,
            "grid_auto_columns": null,
            "grid_auto_flow": null,
            "grid_auto_rows": null,
            "grid_column": null,
            "grid_gap": null,
            "grid_row": null,
            "grid_template_areas": null,
            "grid_template_columns": null,
            "grid_template_rows": null,
            "height": null,
            "justify_content": null,
            "justify_items": null,
            "left": null,
            "margin": null,
            "max_height": null,
            "max_width": null,
            "min_height": null,
            "min_width": null,
            "object_fit": null,
            "object_position": null,
            "order": null,
            "overflow": null,
            "overflow_x": null,
            "overflow_y": null,
            "padding": null,
            "right": null,
            "top": null,
            "visibility": null,
            "width": null
          }
        },
        "20d50673086246e485b8d1b9e6627a00": {
          "model_module": "@jupyter-widgets/controls",
          "model_name": "DescriptionStyleModel",
          "model_module_version": "1.5.0",
          "state": {
            "_model_module": "@jupyter-widgets/controls",
            "_model_module_version": "1.5.0",
            "_model_name": "DescriptionStyleModel",
            "_view_count": null,
            "_view_module": "@jupyter-widgets/base",
            "_view_module_version": "1.2.0",
            "_view_name": "StyleView",
            "description_width": ""
          }
        },
        "aafb18386f55431aaf41e926781948f5": {
          "model_module": "@jupyter-widgets/base",
          "model_name": "LayoutModel",
          "model_module_version": "1.2.0",
          "state": {
            "_model_module": "@jupyter-widgets/base",
            "_model_module_version": "1.2.0",
            "_model_name": "LayoutModel",
            "_view_count": null,
            "_view_module": "@jupyter-widgets/base",
            "_view_module_version": "1.2.0",
            "_view_name": "LayoutView",
            "align_content": null,
            "align_items": null,
            "align_self": null,
            "border": null,
            "bottom": null,
            "display": null,
            "flex": null,
            "flex_flow": null,
            "grid_area": null,
            "grid_auto_columns": null,
            "grid_auto_flow": null,
            "grid_auto_rows": null,
            "grid_column": null,
            "grid_gap": null,
            "grid_row": null,
            "grid_template_areas": null,
            "grid_template_columns": null,
            "grid_template_rows": null,
            "height": null,
            "justify_content": null,
            "justify_items": null,
            "left": null,
            "margin": null,
            "max_height": null,
            "max_width": null,
            "min_height": null,
            "min_width": null,
            "object_fit": null,
            "object_position": null,
            "order": null,
            "overflow": null,
            "overflow_x": null,
            "overflow_y": null,
            "padding": null,
            "right": null,
            "top": null,
            "visibility": null,
            "width": null
          }
        },
        "ac93e0d06c4c4d3aac110e5759d83cdd": {
          "model_module": "@jupyter-widgets/controls",
          "model_name": "ProgressStyleModel",
          "model_module_version": "1.5.0",
          "state": {
            "_model_module": "@jupyter-widgets/controls",
            "_model_module_version": "1.5.0",
            "_model_name": "ProgressStyleModel",
            "_view_count": null,
            "_view_module": "@jupyter-widgets/base",
            "_view_module_version": "1.2.0",
            "_view_name": "StyleView",
            "bar_color": null,
            "description_width": ""
          }
        },
        "713d5d51758f4e7c8a2e210f7c6c10d3": {
          "model_module": "@jupyter-widgets/base",
          "model_name": "LayoutModel",
          "model_module_version": "1.2.0",
          "state": {
            "_model_module": "@jupyter-widgets/base",
            "_model_module_version": "1.2.0",
            "_model_name": "LayoutModel",
            "_view_count": null,
            "_view_module": "@jupyter-widgets/base",
            "_view_module_version": "1.2.0",
            "_view_name": "LayoutView",
            "align_content": null,
            "align_items": null,
            "align_self": null,
            "border": null,
            "bottom": null,
            "display": null,
            "flex": null,
            "flex_flow": null,
            "grid_area": null,
            "grid_auto_columns": null,
            "grid_auto_flow": null,
            "grid_auto_rows": null,
            "grid_column": null,
            "grid_gap": null,
            "grid_row": null,
            "grid_template_areas": null,
            "grid_template_columns": null,
            "grid_template_rows": null,
            "height": null,
            "justify_content": null,
            "justify_items": null,
            "left": null,
            "margin": null,
            "max_height": null,
            "max_width": null,
            "min_height": null,
            "min_width": null,
            "object_fit": null,
            "object_position": null,
            "order": null,
            "overflow": null,
            "overflow_x": null,
            "overflow_y": null,
            "padding": null,
            "right": null,
            "top": null,
            "visibility": null,
            "width": null
          }
        },
        "9c7a8c5a75324d2e93443651fade5152": {
          "model_module": "@jupyter-widgets/controls",
          "model_name": "DescriptionStyleModel",
          "model_module_version": "1.5.0",
          "state": {
            "_model_module": "@jupyter-widgets/controls",
            "_model_module_version": "1.5.0",
            "_model_name": "DescriptionStyleModel",
            "_view_count": null,
            "_view_module": "@jupyter-widgets/base",
            "_view_module_version": "1.2.0",
            "_view_name": "StyleView",
            "description_width": ""
          }
        }
      }
    }
  },
  "cells": [
    {
      "cell_type": "markdown",
      "metadata": {
        "id": "view-in-github",
        "colab_type": "text"
      },
      "source": [
        "<a href=\"https://colab.research.google.com/github/CPukszta/BI-BE-CS-183-2023/blob/main/HW7/Problem3.ipynb\" target=\"_parent\"><img src=\"https://colab.research.google.com/assets/colab-badge.svg\" alt=\"Open In Colab\"/></a>"
      ]
    },
    {
      "cell_type": "markdown",
      "metadata": {
        "id": "MozW3XxY8ezr"
      },
      "source": [
        "Bi/Be/Cs 183 2022-2023: Intro to Computational Biology\n",
        "TAs: Meichen Fang, Tara Chari, Zitong (Jerry) Wang\n",
        "\n",
        "**Submit your notebooks by sharing a clickable link with Viewer access. Link must be accessible from submitted assignment document.**\n",
        "\n",
        "Make sure Runtime $\\rightarrow$ Restart and run all works without error"
      ]
    },
    {
      "cell_type": "markdown",
      "source": [
        "**HW 7 Problem 3**\n",
        "\n",
        "In this problem you will be using various tests to look for differential expression between cells in different cell types. This will involve comparing means between different cell populations across genes, determining gene candidates with 'significant' differences in expression, and gauging how accurate or trustworthy such results are.\n"
      ],
      "metadata": {
        "id": "Mu4obGyqS8fh"
      }
    },
    {
      "cell_type": "markdown",
      "source": [
        "##**Import data and install packages**"
      ],
      "metadata": {
        "id": "fJ8J92ntz2rk"
      }
    },
    {
      "cell_type": "code",
      "execution_count": 1,
      "metadata": {
        "id": "rjy8W5hly24q"
      },
      "outputs": [],
      "source": [
        "import numpy as np\n",
        "import scipy.io as sio\n",
        "import pandas as pd\n",
        "import matplotlib.pyplot as plt #Can use other plotting packages like seaborn\n",
        "\n",
        "\n",
        "import bokeh.io\n",
        "import bokeh.plotting\n",
        "\n",
        "bokeh.io.output_notebook()"
      ]
    },
    {
      "cell_type": "code",
      "metadata": {
        "id": "yH-EpSmB9Y_x",
        "colab": {
          "base_uri": "https://localhost:8080/",
          "height": 215,
          "referenced_widgets": [
            "0201f8311e9c4661a2488f31fe866a2a",
            "f0eb7b67970344318ec38c7a246ebb12",
            "156bacb21939490f90c99f938ed6398f",
            "6a7400ad14e34dfe9e3ae3bfa6bb93e5",
            "3347ce509972414fba7a358a7f0ccaff",
            "cd8032c9712646f298426d33a7fdd3c6",
            "20d50673086246e485b8d1b9e6627a00",
            "aafb18386f55431aaf41e926781948f5",
            "ac93e0d06c4c4d3aac110e5759d83cdd",
            "713d5d51758f4e7c8a2e210f7c6c10d3",
            "9c7a8c5a75324d2e93443651fade5152"
          ]
        },
        "outputId": "9120f8db-45da-4a7d-a92c-b5aae537ebff"
      },
      "source": [
        "#Download count matrix of cell by gene counts and metadata files, DOI: 10.22002/D1.20031\n",
        "\n",
        "import requests\n",
        "from tqdm import tnrange, tqdm_notebook\n",
        "def download_file(doi,ext):\n",
        "    url = 'https://api.datacite.org/dois/'+doi+'/media'\n",
        "    r = requests.get(url).json()\n",
        "    netcdf_url = r['data'][0]['attributes']['url']\n",
        "    r = requests.get(netcdf_url,stream=True)\n",
        "    #Set file name\n",
        "    fname = doi.split('/')[-1]+ext\n",
        "    #Download file with progress bar\n",
        "    if r.status_code == 403:\n",
        "        print(\"File Unavailable\")\n",
        "    if 'content-length' not in r.headers:\n",
        "        print(\"Did not get file\")\n",
        "    else:\n",
        "        with open(fname, 'wb') as f:\n",
        "            total_length = int(r.headers.get('content-length'))\n",
        "            pbar = tnrange(int(total_length/1024), unit=\"B\")\n",
        "            for chunk in r.iter_content(chunk_size=1024):\n",
        "                if chunk:\n",
        "                    pbar.update()\n",
        "                    f.write(chunk)\n",
        "        return fname\n",
        "\n",
        "download_file('10.22002/D1.20031','.tar.gz')\n",
        "\n",
        "!tar -xvf D1.20031.tar.gz"
      ],
      "execution_count": 2,
      "outputs": [
        {
          "output_type": "stream",
          "name": "stderr",
          "text": [
            "<ipython-input-2-07df2730af8c>:20: TqdmDeprecationWarning: Please use `tqdm.notebook.trange` instead of `tqdm.tnrange`\n",
            "  pbar = tnrange(int(total_length/1024), unit=\"B\")\n"
          ]
        },
        {
          "output_type": "display_data",
          "data": {
            "text/plain": [
              "  0%|          | 0/6617 [00:00<?, ?B/s]"
            ],
            "application/vnd.jupyter.widget-view+json": {
              "version_major": 2,
              "version_minor": 0,
              "model_id": "0201f8311e9c4661a2488f31fe866a2a"
            }
          },
          "metadata": {}
        },
        {
          "output_type": "stream",
          "name": "stdout",
          "text": [
            "._cell_metadata.csv\n",
            "cell_metadata.csv\n",
            "._gene_metadata.csv\n",
            "gene_metadata.csv\n",
            "._exutero.mtx\n",
            "exutero.mtx\n"
          ]
        }
      ]
    },
    {
      "cell_type": "markdown",
      "source": [
        "## **Read in data for analysis**"
      ],
      "metadata": {
        "id": "PpeuucqgiDPx"
      }
    },
    {
      "cell_type": "markdown",
      "source": [
        "**The dataset**"
      ],
      "metadata": {
        "id": "swY2nSDukmXg"
      }
    },
    {
      "cell_type": "markdown",
      "source": [
        "Much of mammalian embryo development occurs after the embryo implants in the uterus, however this makes the embryo relatively inaccessible and thus hard to study. In [Aguilera-Castrejon et al., 2021](https://www.nature.com/articles/s41586-021-03416-3#Sec7), a cell culture platform was established to culture post-implantation embryos ex utero (outside the uterus) from pre-gastrulation until himdlimb formation (organogenesis).  Single-cell sequencing was done for both in utero and ex utero cultured mouse embryos, to compare development of the externally cultured cells.\n",
        "\n",
        "<center><img src=\"https://drive.google.com/uc?export=view&id=1b6BM_W5Nk2r31RdGE7-bKDuObQq279qh\" alt=\"EMFigure\" width=\"800\" height=\"350\"><center>\n"
      ],
      "metadata": {
        "id": "NKSN3bu8cQ3O"
      }
    },
    {
      "cell_type": "markdown",
      "source": [
        "**The count matrix**\n",
        "\n",
        "This matrix is 6,205 cells by 2,000 genes. We are only working with the ex-utero cultured mouse embryo cells here.\n",
        "\n",
        "1.   For each cell, gene counts were normalized to have the same number of total counts (usually 1e5 or 1e6), with cell-gene counts thus scaled accordingly.\n",
        "\n",
        "2.   Counts were then log-normalized, using the log(1+x), where x is each cell's gene count. The 1 accounts for 0 count genes. \n",
        "\n",
        "3. The top ~2000 genes were selected for those that displayed large variance in expression amongst the cells ('highly variable genes').\n",
        "\n"
      ],
      "metadata": {
        "id": "58nQkH9eko4-"
      }
    },
    {
      "cell_type": "code",
      "metadata": {
        "id": "tZ1h_dME8vJb",
        "colab": {
          "base_uri": "https://localhost:8080/",
          "height": 35
        },
        "outputId": "49d47a52-9348-4a5c-8f20-830e88cf960b"
      },
      "source": [
        "#Get gene count matrix\n",
        "count_mat = sio.mmread('exutero.mtx')\n",
        "\n",
        "count_mat.shape"
      ],
      "execution_count": 3,
      "outputs": [
        {
          "output_type": "execute_result",
          "data": {
            "text/plain": [
              "(6205, 2000)"
            ]
          },
          "metadata": {},
          "execution_count": 3
        }
      ]
    },
    {
      "cell_type": "code",
      "metadata": {
        "id": "NFissu8VB92P",
        "colab": {
          "base_uri": "https://localhost:8080/",
          "height": 206
        },
        "outputId": "1d7a1069-8215-4aa2-e706-eb2594694d06"
      },
      "source": [
        "#Get metadata dataframe for the 6,205 cells (rows of the matrix)\n",
        "meta = pd.read_csv('cell_metadata.csv')\n",
        "meta.head()"
      ],
      "execution_count": 4,
      "outputs": [
        {
          "output_type": "execute_result",
          "data": {
            "text/plain": [
              "           Unnamed: 0            cell_type\n",
              "0  AAACCCAAGTACAACA-3       Mixed Mesoderm\n",
              "1  AAACCCAGTACACTCA-3                Blood\n",
              "2  AAACCCATCGAAGCAG-3          Neural Tube\n",
              "3  AAACGAAAGGAAACGA-3       Mixed Mesoderm\n",
              "4  AAACGAACACATGGTT-3  Pharyngeal Mesoderm"
            ],
            "text/html": [
              "\n",
              "  <div id=\"df-ca0283a0-7bfa-4aab-a28f-07d9c7c1f4ee\">\n",
              "    <div class=\"colab-df-container\">\n",
              "      <div>\n",
              "<style scoped>\n",
              "    .dataframe tbody tr th:only-of-type {\n",
              "        vertical-align: middle;\n",
              "    }\n",
              "\n",
              "    .dataframe tbody tr th {\n",
              "        vertical-align: top;\n",
              "    }\n",
              "\n",
              "    .dataframe thead th {\n",
              "        text-align: right;\n",
              "    }\n",
              "</style>\n",
              "<table border=\"1\" class=\"dataframe\">\n",
              "  <thead>\n",
              "    <tr style=\"text-align: right;\">\n",
              "      <th></th>\n",
              "      <th>Unnamed: 0</th>\n",
              "      <th>cell_type</th>\n",
              "    </tr>\n",
              "  </thead>\n",
              "  <tbody>\n",
              "    <tr>\n",
              "      <th>0</th>\n",
              "      <td>AAACCCAAGTACAACA-3</td>\n",
              "      <td>Mixed Mesoderm</td>\n",
              "    </tr>\n",
              "    <tr>\n",
              "      <th>1</th>\n",
              "      <td>AAACCCAGTACACTCA-3</td>\n",
              "      <td>Blood</td>\n",
              "    </tr>\n",
              "    <tr>\n",
              "      <th>2</th>\n",
              "      <td>AAACCCATCGAAGCAG-3</td>\n",
              "      <td>Neural Tube</td>\n",
              "    </tr>\n",
              "    <tr>\n",
              "      <th>3</th>\n",
              "      <td>AAACGAAAGGAAACGA-3</td>\n",
              "      <td>Mixed Mesoderm</td>\n",
              "    </tr>\n",
              "    <tr>\n",
              "      <th>4</th>\n",
              "      <td>AAACGAACACATGGTT-3</td>\n",
              "      <td>Pharyngeal Mesoderm</td>\n",
              "    </tr>\n",
              "  </tbody>\n",
              "</table>\n",
              "</div>\n",
              "      <button class=\"colab-df-convert\" onclick=\"convertToInteractive('df-ca0283a0-7bfa-4aab-a28f-07d9c7c1f4ee')\"\n",
              "              title=\"Convert this dataframe to an interactive table.\"\n",
              "              style=\"display:none;\">\n",
              "        \n",
              "  <svg xmlns=\"http://www.w3.org/2000/svg\" height=\"24px\"viewBox=\"0 0 24 24\"\n",
              "       width=\"24px\">\n",
              "    <path d=\"M0 0h24v24H0V0z\" fill=\"none\"/>\n",
              "    <path d=\"M18.56 5.44l.94 2.06.94-2.06 2.06-.94-2.06-.94-.94-2.06-.94 2.06-2.06.94zm-11 1L8.5 8.5l.94-2.06 2.06-.94-2.06-.94L8.5 2.5l-.94 2.06-2.06.94zm10 10l.94 2.06.94-2.06 2.06-.94-2.06-.94-.94-2.06-.94 2.06-2.06.94z\"/><path d=\"M17.41 7.96l-1.37-1.37c-.4-.4-.92-.59-1.43-.59-.52 0-1.04.2-1.43.59L10.3 9.45l-7.72 7.72c-.78.78-.78 2.05 0 2.83L4 21.41c.39.39.9.59 1.41.59.51 0 1.02-.2 1.41-.59l7.78-7.78 2.81-2.81c.8-.78.8-2.07 0-2.86zM5.41 20L4 18.59l7.72-7.72 1.47 1.35L5.41 20z\"/>\n",
              "  </svg>\n",
              "      </button>\n",
              "      \n",
              "  <style>\n",
              "    .colab-df-container {\n",
              "      display:flex;\n",
              "      flex-wrap:wrap;\n",
              "      gap: 12px;\n",
              "    }\n",
              "\n",
              "    .colab-df-convert {\n",
              "      background-color: #E8F0FE;\n",
              "      border: none;\n",
              "      border-radius: 50%;\n",
              "      cursor: pointer;\n",
              "      display: none;\n",
              "      fill: #1967D2;\n",
              "      height: 32px;\n",
              "      padding: 0 0 0 0;\n",
              "      width: 32px;\n",
              "    }\n",
              "\n",
              "    .colab-df-convert:hover {\n",
              "      background-color: #E2EBFA;\n",
              "      box-shadow: 0px 1px 2px rgba(60, 64, 67, 0.3), 0px 1px 3px 1px rgba(60, 64, 67, 0.15);\n",
              "      fill: #174EA6;\n",
              "    }\n",
              "\n",
              "    [theme=dark] .colab-df-convert {\n",
              "      background-color: #3B4455;\n",
              "      fill: #D2E3FC;\n",
              "    }\n",
              "\n",
              "    [theme=dark] .colab-df-convert:hover {\n",
              "      background-color: #434B5C;\n",
              "      box-shadow: 0px 1px 3px 1px rgba(0, 0, 0, 0.15);\n",
              "      filter: drop-shadow(0px 1px 2px rgba(0, 0, 0, 0.3));\n",
              "      fill: #FFFFFF;\n",
              "    }\n",
              "  </style>\n",
              "\n",
              "      <script>\n",
              "        const buttonEl =\n",
              "          document.querySelector('#df-ca0283a0-7bfa-4aab-a28f-07d9c7c1f4ee button.colab-df-convert');\n",
              "        buttonEl.style.display =\n",
              "          google.colab.kernel.accessAllowed ? 'block' : 'none';\n",
              "\n",
              "        async function convertToInteractive(key) {\n",
              "          const element = document.querySelector('#df-ca0283a0-7bfa-4aab-a28f-07d9c7c1f4ee');\n",
              "          const dataTable =\n",
              "            await google.colab.kernel.invokeFunction('convertToInteractive',\n",
              "                                                     [key], {});\n",
              "          if (!dataTable) return;\n",
              "\n",
              "          const docLinkHtml = 'Like what you see? Visit the ' +\n",
              "            '<a target=\"_blank\" href=https://colab.research.google.com/notebooks/data_table.ipynb>data table notebook</a>'\n",
              "            + ' to learn more about interactive tables.';\n",
              "          element.innerHTML = '';\n",
              "          dataTable['output_type'] = 'display_data';\n",
              "          await google.colab.output.renderOutput(dataTable, element);\n",
              "          const docLink = document.createElement('div');\n",
              "          docLink.innerHTML = docLinkHtml;\n",
              "          element.appendChild(docLink);\n",
              "        }\n",
              "      </script>\n",
              "    </div>\n",
              "  </div>\n",
              "  "
            ]
          },
          "metadata": {},
          "execution_count": 4
        }
      ]
    },
    {
      "cell_type": "code",
      "metadata": {
        "id": "M5je0CyVN4DN",
        "colab": {
          "base_uri": "https://localhost:8080/",
          "height": 206
        },
        "outputId": "f96eb337-16ca-4cf9-ccd0-706a247ce25e"
      },
      "source": [
        "#Get metadata dataframe for the 2,000 genes (columns of the matrix)\n",
        "\n",
        "meta_gene = pd.read_csv('gene_metadata.csv',index_col = 0)\n",
        "meta_gene.head()\n"
      ],
      "execution_count": 5,
      "outputs": [
        {
          "output_type": "execute_result",
          "data": {
            "text/plain": [
              "  gene_name\n",
              "0     Sox17\n",
              "1    Lypla1\n",
              "2      Sgk3\n",
              "3      Xkr9\n",
              "4      Bag2"
            ],
            "text/html": [
              "\n",
              "  <div id=\"df-74113871-8dd3-4f5f-ba02-057e093a7ea2\">\n",
              "    <div class=\"colab-df-container\">\n",
              "      <div>\n",
              "<style scoped>\n",
              "    .dataframe tbody tr th:only-of-type {\n",
              "        vertical-align: middle;\n",
              "    }\n",
              "\n",
              "    .dataframe tbody tr th {\n",
              "        vertical-align: top;\n",
              "    }\n",
              "\n",
              "    .dataframe thead th {\n",
              "        text-align: right;\n",
              "    }\n",
              "</style>\n",
              "<table border=\"1\" class=\"dataframe\">\n",
              "  <thead>\n",
              "    <tr style=\"text-align: right;\">\n",
              "      <th></th>\n",
              "      <th>gene_name</th>\n",
              "    </tr>\n",
              "  </thead>\n",
              "  <tbody>\n",
              "    <tr>\n",
              "      <th>0</th>\n",
              "      <td>Sox17</td>\n",
              "    </tr>\n",
              "    <tr>\n",
              "      <th>1</th>\n",
              "      <td>Lypla1</td>\n",
              "    </tr>\n",
              "    <tr>\n",
              "      <th>2</th>\n",
              "      <td>Sgk3</td>\n",
              "    </tr>\n",
              "    <tr>\n",
              "      <th>3</th>\n",
              "      <td>Xkr9</td>\n",
              "    </tr>\n",
              "    <tr>\n",
              "      <th>4</th>\n",
              "      <td>Bag2</td>\n",
              "    </tr>\n",
              "  </tbody>\n",
              "</table>\n",
              "</div>\n",
              "      <button class=\"colab-df-convert\" onclick=\"convertToInteractive('df-74113871-8dd3-4f5f-ba02-057e093a7ea2')\"\n",
              "              title=\"Convert this dataframe to an interactive table.\"\n",
              "              style=\"display:none;\">\n",
              "        \n",
              "  <svg xmlns=\"http://www.w3.org/2000/svg\" height=\"24px\"viewBox=\"0 0 24 24\"\n",
              "       width=\"24px\">\n",
              "    <path d=\"M0 0h24v24H0V0z\" fill=\"none\"/>\n",
              "    <path d=\"M18.56 5.44l.94 2.06.94-2.06 2.06-.94-2.06-.94-.94-2.06-.94 2.06-2.06.94zm-11 1L8.5 8.5l.94-2.06 2.06-.94-2.06-.94L8.5 2.5l-.94 2.06-2.06.94zm10 10l.94 2.06.94-2.06 2.06-.94-2.06-.94-.94-2.06-.94 2.06-2.06.94z\"/><path d=\"M17.41 7.96l-1.37-1.37c-.4-.4-.92-.59-1.43-.59-.52 0-1.04.2-1.43.59L10.3 9.45l-7.72 7.72c-.78.78-.78 2.05 0 2.83L4 21.41c.39.39.9.59 1.41.59.51 0 1.02-.2 1.41-.59l7.78-7.78 2.81-2.81c.8-.78.8-2.07 0-2.86zM5.41 20L4 18.59l7.72-7.72 1.47 1.35L5.41 20z\"/>\n",
              "  </svg>\n",
              "      </button>\n",
              "      \n",
              "  <style>\n",
              "    .colab-df-container {\n",
              "      display:flex;\n",
              "      flex-wrap:wrap;\n",
              "      gap: 12px;\n",
              "    }\n",
              "\n",
              "    .colab-df-convert {\n",
              "      background-color: #E8F0FE;\n",
              "      border: none;\n",
              "      border-radius: 50%;\n",
              "      cursor: pointer;\n",
              "      display: none;\n",
              "      fill: #1967D2;\n",
              "      height: 32px;\n",
              "      padding: 0 0 0 0;\n",
              "      width: 32px;\n",
              "    }\n",
              "\n",
              "    .colab-df-convert:hover {\n",
              "      background-color: #E2EBFA;\n",
              "      box-shadow: 0px 1px 2px rgba(60, 64, 67, 0.3), 0px 1px 3px 1px rgba(60, 64, 67, 0.15);\n",
              "      fill: #174EA6;\n",
              "    }\n",
              "\n",
              "    [theme=dark] .colab-df-convert {\n",
              "      background-color: #3B4455;\n",
              "      fill: #D2E3FC;\n",
              "    }\n",
              "\n",
              "    [theme=dark] .colab-df-convert:hover {\n",
              "      background-color: #434B5C;\n",
              "      box-shadow: 0px 1px 3px 1px rgba(0, 0, 0, 0.15);\n",
              "      filter: drop-shadow(0px 1px 2px rgba(0, 0, 0, 0.3));\n",
              "      fill: #FFFFFF;\n",
              "    }\n",
              "  </style>\n",
              "\n",
              "      <script>\n",
              "        const buttonEl =\n",
              "          document.querySelector('#df-74113871-8dd3-4f5f-ba02-057e093a7ea2 button.colab-df-convert');\n",
              "        buttonEl.style.display =\n",
              "          google.colab.kernel.accessAllowed ? 'block' : 'none';\n",
              "\n",
              "        async function convertToInteractive(key) {\n",
              "          const element = document.querySelector('#df-74113871-8dd3-4f5f-ba02-057e093a7ea2');\n",
              "          const dataTable =\n",
              "            await google.colab.kernel.invokeFunction('convertToInteractive',\n",
              "                                                     [key], {});\n",
              "          if (!dataTable) return;\n",
              "\n",
              "          const docLinkHtml = 'Like what you see? Visit the ' +\n",
              "            '<a target=\"_blank\" href=https://colab.research.google.com/notebooks/data_table.ipynb>data table notebook</a>'\n",
              "            + ' to learn more about interactive tables.';\n",
              "          element.innerHTML = '';\n",
              "          dataTable['output_type'] = 'display_data';\n",
              "          await google.colab.output.renderOutput(dataTable, element);\n",
              "          const docLink = document.createElement('div');\n",
              "          docLink.innerHTML = docLinkHtml;\n",
              "          element.appendChild(docLink);\n",
              "        }\n",
              "      </script>\n",
              "    </div>\n",
              "  </div>\n",
              "  "
            ]
          },
          "metadata": {},
          "execution_count": 5
        }
      ]
    },
    {
      "cell_type": "markdown",
      "source": [
        "## **Problem 3 (40 points)**"
      ],
      "metadata": {
        "id": "BSNL7Tr7g2z_"
      }
    },
    {
      "cell_type": "markdown",
      "source": [
        "### **a) Calculate the $t$ statistic (for two-samples with unequal sizes) for each gene, between cell types 'Cardiac' and 'Neural Tube'. Subset the count matrix for *only genes that have nonzero variances* in the 'Cardiac' or 'Neural Tube' cell types. (This will avoid nan outputs) (10 points)** 'Zero variance genes' are the union of genes with 0 variance in either cell type.\n",
        "\n",
        "**We will be working only with the subsetted genes for the rest of Problem 3. You do not need to exponentiate the counts for filtering as we are now using the variance-stabilized version of the counts.*"
      ],
      "metadata": {
        "id": "49ekjwPBijRu"
      }
    },
    {
      "cell_type": "markdown",
      "source": [
        "Given two cell types (1 and 2), we will denote all expression values of gene $g$ in cell type 1 as $X^g_1$, and likewise $X^g_2$ for cell type 2.\n",
        "\n",
        "We will calculate a two-sample $t^g$ statistic between cell types 1 and 2 for gene $g$:\n",
        "\n",
        "\\begin{align}\n",
        "{\\displaystyle t^g={\\frac {{\\bar {X}}^g_{1}-{\\bar {X}}^g_{2}}{s^g_{p}\\cdot {\\sqrt {{\\frac {1}{n_{1}}}+{\\frac {1}{n_{2}}}}}}}}\n",
        "\\end{align} where\n",
        "\\begin{align}\n",
        "{\\displaystyle s^g_{p}={\\sqrt {\\frac {\\left(n_{1}-1\\right)s_{X^g_{1}}^{2}+\\left(n_{2}-1\\right)s_{X^g_{2}}^{2}}{n_{1}+n_{2}-2}}}}\n",
        "\\end{align} and is comprised of the standard deviations $s$ of $X^g_1$ and $X^g_2$, and the sizes of cell types 1 and 2 ($n_1 , n_2$). $\\bar{X}^g_1$ denotes the average expression for gene $g$ in cell type 1.\n",
        "\n",
        "**Calculate $t$ values for all genes (after subsetting). Report (1) how many genes remain after subsetting and (2) the $t$ values for the genes Sox17, Lypla1, Sgk3, Bag2.**"
      ],
      "metadata": {
        "id": "7xIz6V2NjIK7"
      }
    },
    {
      "cell_type": "code",
      "source": [
        "#define the cell types we are interested in comparing\n",
        "cell_type_1 = \"Cardiac\"\n",
        "cell_type_2 = \"Neural Tube\""
      ],
      "metadata": {
        "id": "nH5fJ6YMqKok"
      },
      "execution_count": 6,
      "outputs": []
    },
    {
      "cell_type": "markdown",
      "source": [
        "Now lets subset our data set to get the cells with non-zero variance in cardiac and neural tube."
      ],
      "metadata": {
        "id": "46-hbiujprDv"
      }
    },
    {
      "cell_type": "code",
      "source": [
        "#get the indicies of caridac and neural tube cells\n",
        "inds_cardiac = meta.loc[(meta['cell_type'] == cell_type_1)].index.to_numpy()\n",
        "inds_tube =  meta.loc[(meta['cell_type'] == cell_type_2)].index.to_numpy()\n",
        "\n",
        "#get count matricies for each cell type\n",
        "countmat_cardiac = count_mat[inds_cardiac,:]\n",
        "countmat_tube = count_mat[inds_tube,:]\n",
        "\n",
        "#compute the variance of each gene for both cell types\n",
        "var_cardiac = np.var(countmat_cardiac,axis =0)\n",
        "var_tube = np.var(countmat_tube,axis =0)\n",
        "\n",
        "#get genes where variance is zero for each cell type\n",
        "inds_zerovar_cardaic  = np.where(var_cardiac == 0)\n",
        "inds_zerovar_tube  = np.where(var_tube == 0)\n",
        "\n",
        "#append the arrays and keeponly unique values\n",
        "inds_zerovar = np.unique(np.append(inds_zerovar_cardaic,inds_zerovar_tube))\n",
        "\n",
        "#remove zero var genes\n",
        "reduced_countmat  = np.delete(count_mat,inds_zerovar,1)\n",
        "\n",
        "#report # of genes remaining\n",
        "print(\"there are now\",np.shape(reduced_countmat)[1],\" genes after removing nonzero variance genes in each cell subtype\")"
      ],
      "metadata": {
        "colab": {
          "base_uri": "https://localhost:8080/"
        },
        "id": "BaSq1HURp1xx",
        "outputId": "6434c785-684f-4ac2-a94c-36c41e44de5e"
      },
      "execution_count": 7,
      "outputs": [
        {
          "output_type": "stream",
          "name": "stdout",
          "text": [
            "there are now 994  genes after removing nonzero variance genes in each cell subtype\n"
          ]
        }
      ]
    },
    {
      "cell_type": "code",
      "source": [
        "#get reduced count matricies for the two cell types\n",
        "reduced_countmat_cardaic = reduced_countmat[inds_cardiac,:]\n",
        "reduced_countmat_tube = reduced_countmat[inds_tube,:]"
      ],
      "metadata": {
        "id": "mdIreXTBIhlo"
      },
      "execution_count": 8,
      "outputs": []
    },
    {
      "cell_type": "code",
      "source": [
        "#define a function to compute the t values for each gene between the two cell types\n",
        "\n",
        "def t_value(x,y):\n",
        "  '''takes in expression matricies for cell type x and y and returns the t values for all genes'''\n",
        "  #compute means\n",
        "  x_mean = np.mean(x,axis=0)\n",
        "  y_mean = np.mean(y,axis=0)\n",
        "\n",
        "  #cell numbers\n",
        "  nx = np.shape(x)[0]\n",
        "  ny = np.shape(y)[0]\n",
        "\n",
        "  #compute s\n",
        "  #compute standard deviations\n",
        "  x_std = np.std(x,axis=0)\n",
        "  y_std = np.std(y,axis=0)\n",
        "  s_num = (nx-1)* x_std**2 + (ny-1)* y_std**2\n",
        "  s_denom = nx+ny+2\n",
        "  s = np.sqrt(s_num/s_denom)\n",
        "\n",
        "  num = x_mean-y_mean\n",
        "  denom = s * np.sqrt(1/nx + 1/ny)\n",
        "  t = num/denom\n",
        "  return t"
      ],
      "metadata": {
        "id": "2aDa7p7lI9A4"
      },
      "execution_count": 9,
      "outputs": []
    },
    {
      "cell_type": "code",
      "source": [
        "#compute the t stastistics for all genes\n",
        "t_vals = t_value(reduced_countmat_cardaic,reduced_countmat_tube)\n",
        "\n",
        "#report t values of desired genes\n",
        "print(\"t values for the genes: Sox17, Lypla1, Sgk3, Bag2:\")\n",
        "print(t_vals[0:4])"
      ],
      "metadata": {
        "colab": {
          "base_uri": "https://localhost:8080/"
        },
        "id": "fPX3XdpNMaP3",
        "outputId": "b52e1a62-c301-4e7e-8daf-ccf53a5d914d"
      },
      "execution_count": 10,
      "outputs": [
        {
          "output_type": "stream",
          "name": "stdout",
          "text": [
            "t values for the genes: Sox17, Lypla1, Sgk3, Bag2:\n",
            "[ 1.33600134 -0.73677926  2.09491592 -2.61413203]\n"
          ]
        }
      ]
    },
    {
      "cell_type": "markdown",
      "source": [
        "### **b) Given the $t$ values in a), find their corresponding *p*-values based on the Student's $t$ distribution. (5 points)**"
      ],
      "metadata": {
        "id": "J23--G3NqLPg"
      }
    },
    {
      "cell_type": "markdown",
      "source": [
        "**To obtain *p*-values:** \n",
        "\n",
        "You are calculating the likelihood (or how unlikely) your $t$ value is given the $t$-distribution (i.e. assuming the groups come from the same population). For this you can use the cdf feature from the [scipy stats t distribution](https://docs.scipy.org/doc/scipy/reference/generated/scipy.stats.t.html).\n",
        "\n",
        "\n",
        "Remember that the CDF calculates the probability of seeing a value less than or equal to your $t$ (or abs($t$)). Thus you will need 1 minus the CDF value to find the likelihood of being more extreme. Likewise, since we are interested in whether the two means are different (meaning smaller *or* greater than the other), we will need a two-tailed test i.e. how likely it is to have a more extreme $t$ in both directions  or **2*(1-CDF)**.\n",
        "\n",
        "\n"
      ],
      "metadata": {
        "id": "Ec2d9JkzlE8b"
      }
    },
    {
      "cell_type": "markdown",
      "source": [
        "For the degrees of freedom of the $t$-statistic note that since $n_i − 1$ is the number of degrees of freedom for each group, the degrees of freedom for the total sample is $n_1 + n_2 − 2$."
      ],
      "metadata": {
        "id": "OG19jQhgrE0d"
      }
    },
    {
      "cell_type": "markdown",
      "source": [
        "**Report the $p$-values for the same genes Sox17, Lypla1, Sgk3, Bag2.**"
      ],
      "metadata": {
        "id": "qqQUdGfKmOEd"
      }
    },
    {
      "cell_type": "code",
      "source": [
        "from scipy.stats import t\n",
        "#compute degrees of freedom\n",
        "df = np.shape(reduced_countmat_cardaic)[0]+np.shape(reduced_countmat_tube)[0]-2\n",
        "\n",
        "#compute p values\n",
        "p_vals = 1-t.cdf(t_vals,df)\n",
        "\n",
        "#report p values of desired genes\n",
        "print(\"p values for the genes: Sox17, Lypla1, Sgk3, Bag2:\")\n",
        "print(p_vals[0:4])"
      ],
      "metadata": {
        "id": "EQBe9_ZizW84",
        "colab": {
          "base_uri": "https://localhost:8080/",
          "height": 54
        },
        "outputId": "77958923-8c51-4f47-92cb-f4ecfb83588c"
      },
      "execution_count": 11,
      "outputs": [
        {
          "output_type": "stream",
          "name": "stdout",
          "text": [
            "p values for the genes: Sox17, Lypla1, Sgk3, Bag2:\n",
            "[0.09106056 0.76920901 0.01832583 0.99540031]\n"
          ]
        }
      ]
    },
    {
      "cell_type": "markdown",
      "source": [
        "### **c) Use the Bonferroni correction method to correct the $p$-values for multiple testing. (5 points)**\n",
        "\n",
        "Since you have calculated $t$-tests for every gene $g$, you will need to correct your $p$-values to adjust for the likelihood of a positive/significant result just by virtue of the number of tests you've done. We can either adjust the $p$-values themselves, or adjust our significance cutoff.\n",
        "\n",
        "Here we will use a significance/$p$-value cutoff of $\\alpha=$0.05 (5%), where $p \\le \\alpha$ when $\\bar{X}^g_1 = \\bar{X}^g_2$ (the null $H_0$) is rejected. \n",
        "\n",
        "The Bonferroni correction adjusts this to $\\alpha/n$ where $n$ is the number of comparisons/tests made."
      ],
      "metadata": {
        "id": "og5Ed6EvriQz"
      }
    },
    {
      "cell_type": "markdown",
      "source": [
        "**Report the corrected $\\alpha$ cutoff and how many genes' $p$-values were below the cutoff *(1) before* and *(2) after* the Bonferroni correction.**"
      ],
      "metadata": {
        "id": "JKWMolcovOKm"
      }
    },
    {
      "cell_type": "code",
      "source": [
        "#we have made a comparison for every gene\n",
        "n = np.shape(reduced_countmat_cardaic)[1]\n",
        "alpha = 0.05\n",
        "correction = alpha/n\n",
        "print(\"the corrected cut off is:\",correction)"
      ],
      "metadata": {
        "id": "-_CEOARhg5v0",
        "colab": {
          "base_uri": "https://localhost:8080/"
        },
        "outputId": "34d34134-90f3-4735-b2ef-c5952cdbfe6b"
      },
      "execution_count": 12,
      "outputs": [
        {
          "output_type": "stream",
          "name": "stdout",
          "text": [
            "the corrected cut off is: 5.030181086519115e-05\n"
          ]
        }
      ]
    },
    {
      "cell_type": "code",
      "source": [
        "#compute genes with p-values below 0.05\n",
        "og_cut = np.where(p_vals < 0.05)\n",
        "print(\"the number of genes below alpha = 0.05 : \", np.size(og_cut))\n",
        "\n",
        "\n",
        "#compute genes with p-values below the corrected cut off\n",
        "corrected_cut = np.where(p_vals < correction)\n",
        "print(\"the number of genes below corrected alpha:\", np.size(corrected_cut))\n"
      ],
      "metadata": {
        "colab": {
          "base_uri": "https://localhost:8080/"
        },
        "id": "E4IFWGDQSqIn",
        "outputId": "a7f7fc56-253e-4d0f-85f7-77589863eb3c"
      },
      "execution_count": 13,
      "outputs": [
        {
          "output_type": "stream",
          "name": "stdout",
          "text": [
            "the number of genes below alpha = 0.05 :  69\n",
            "the number of genes below corrected alpha: 16\n"
          ]
        }
      ]
    },
    {
      "cell_type": "markdown",
      "source": [
        "### **d) Make a volcano plot for all genes (one plot total). A volcano plot has the $p$-values on the y axis and log2(FC) (FC is fold change) on the x axis. (5 points)**\n",
        "\n",
        "Fold change will be the **ratio of the average gene expression in one cell type to the other**. In this case do 'Cardiac'/'Neural Tube' expression.\n",
        "\n",
        "You can also plot -log10($p$-value) for the y-axis instead of the raw $p$-values (which may be very small). After this transformation, larger $p$-values are more significant."
      ],
      "metadata": {
        "id": "rXk28VFGveJr"
      }
    },
    {
      "cell_type": "code",
      "source": [
        "#compute log2(FC)\n",
        "FC = np.mean(reduced_countmat_cardaic,axis=0)/np.mean(reduced_countmat_tube,axis=0)\n",
        "l2FC = np.log2(FC)\n",
        "\n",
        "#volcano plot\n",
        "vol = bokeh.plotting.figure(\n",
        "    height = 400, width=400,\n",
        "    x_axis_label=\"log2(FC)\", y_axis_label=\"-log10(p-values)\",\n",
        "    title=\"volcano plot\"\n",
        ")\n",
        "\n",
        "vol.circle(l2FC,-np.log10(p_vals),color=\"deeppink\")\n",
        "\n",
        "bokeh.io.show(vol)"
      ],
      "metadata": {
        "id": "yz3l_aG5w00O",
        "colab": {
          "base_uri": "https://localhost:8080/",
          "height": 454
        },
        "outputId": "252ba76a-30fa-420e-dd2b-55461d876685"
      },
      "execution_count": 14,
      "outputs": [
        {
          "output_type": "stream",
          "name": "stderr",
          "text": [
            "<ipython-input-14-0aa18ca79a7a>:12: RuntimeWarning: divide by zero encountered in log10\n",
            "  vol.circle(l2FC,-np.log10(p_vals),color=\"deeppink\")\n"
          ]
        },
        {
          "output_type": "display_data",
          "data": {
            "application/javascript": [
              "\n",
              "(function(root) {\n",
              "  function now() {\n",
              "    return new Date();\n",
              "  }\n",
              "\n",
              "  var force = true;\n",
              "\n",
              "  if (typeof root._bokeh_onload_callbacks === \"undefined\" || force === true) {\n",
              "    root._bokeh_onload_callbacks = [];\n",
              "    root._bokeh_is_loading = undefined;\n",
              "  }\n",
              "\n",
              "  var JS_MIME_TYPE = 'application/javascript';\n",
              "  var HTML_MIME_TYPE = 'text/html';\n",
              "  var EXEC_MIME_TYPE = 'application/vnd.bokehjs_exec.v0+json';\n",
              "  var CLASS_NAME = 'output_bokeh rendered_html';\n",
              "\n",
              "  /**\n",
              "   * Render data to the DOM node\n",
              "   */\n",
              "  function render(props, node) {\n",
              "    var script = document.createElement(\"script\");\n",
              "    node.appendChild(script);\n",
              "  }\n",
              "\n",
              "  /**\n",
              "   * Handle when an output is cleared or removed\n",
              "   */\n",
              "  function handleClearOutput(event, handle) {\n",
              "    var cell = handle.cell;\n",
              "\n",
              "    var id = cell.output_area._bokeh_element_id;\n",
              "    var server_id = cell.output_area._bokeh_server_id;\n",
              "    // Clean up Bokeh references\n",
              "    if (id != null && id in Bokeh.index) {\n",
              "      Bokeh.index[id].model.document.clear();\n",
              "      delete Bokeh.index[id];\n",
              "    }\n",
              "\n",
              "    if (server_id !== undefined) {\n",
              "      // Clean up Bokeh references\n",
              "      var cmd = \"from bokeh.io.state import curstate; print(curstate().uuid_to_server['\" + server_id + \"'].get_sessions()[0].document.roots[0]._id)\";\n",
              "      cell.notebook.kernel.execute(cmd, {\n",
              "        iopub: {\n",
              "          output: function(msg) {\n",
              "            var id = msg.content.text.trim();\n",
              "            if (id in Bokeh.index) {\n",
              "              Bokeh.index[id].model.document.clear();\n",
              "              delete Bokeh.index[id];\n",
              "            }\n",
              "          }\n",
              "        }\n",
              "      });\n",
              "      // Destroy server and session\n",
              "      var cmd = \"import bokeh.io.notebook as ion; ion.destroy_server('\" + server_id + \"')\";\n",
              "      cell.notebook.kernel.execute(cmd);\n",
              "    }\n",
              "  }\n",
              "\n",
              "  /**\n",
              "   * Handle when a new output is added\n",
              "   */\n",
              "  function handleAddOutput(event, handle) {\n",
              "    var output_area = handle.output_area;\n",
              "    var output = handle.output;\n",
              "\n",
              "    // limit handleAddOutput to display_data with EXEC_MIME_TYPE content only\n",
              "    if ((output.output_type != \"display_data\") || (!Object.prototype.hasOwnProperty.call(output.data, EXEC_MIME_TYPE))) {\n",
              "      return\n",
              "    }\n",
              "\n",
              "    var toinsert = output_area.element.find(\".\" + CLASS_NAME.split(' ')[0]);\n",
              "\n",
              "    if (output.metadata[EXEC_MIME_TYPE][\"id\"] !== undefined) {\n",
              "      toinsert[toinsert.length - 1].firstChild.textContent = output.data[JS_MIME_TYPE];\n",
              "      // store reference to embed id on output_area\n",
              "      output_area._bokeh_element_id = output.metadata[EXEC_MIME_TYPE][\"id\"];\n",
              "    }\n",
              "    if (output.metadata[EXEC_MIME_TYPE][\"server_id\"] !== undefined) {\n",
              "      var bk_div = document.createElement(\"div\");\n",
              "      bk_div.innerHTML = output.data[HTML_MIME_TYPE];\n",
              "      var script_attrs = bk_div.children[0].attributes;\n",
              "      for (var i = 0; i < script_attrs.length; i++) {\n",
              "        toinsert[toinsert.length - 1].firstChild.setAttribute(script_attrs[i].name, script_attrs[i].value);\n",
              "        toinsert[toinsert.length - 1].firstChild.textContent = bk_div.children[0].textContent\n",
              "      }\n",
              "      // store reference to server id on output_area\n",
              "      output_area._bokeh_server_id = output.metadata[EXEC_MIME_TYPE][\"server_id\"];\n",
              "    }\n",
              "  }\n",
              "\n",
              "  function register_renderer(events, OutputArea) {\n",
              "\n",
              "    function append_mime(data, metadata, element) {\n",
              "      // create a DOM node to render to\n",
              "      var toinsert = this.create_output_subarea(\n",
              "        metadata,\n",
              "        CLASS_NAME,\n",
              "        EXEC_MIME_TYPE\n",
              "      );\n",
              "      this.keyboard_manager.register_events(toinsert);\n",
              "      // Render to node\n",
              "      var props = {data: data, metadata: metadata[EXEC_MIME_TYPE]};\n",
              "      render(props, toinsert[toinsert.length - 1]);\n",
              "      element.append(toinsert);\n",
              "      return toinsert\n",
              "    }\n",
              "\n",
              "    /* Handle when an output is cleared or removed */\n",
              "    events.on('clear_output.CodeCell', handleClearOutput);\n",
              "    events.on('delete.Cell', handleClearOutput);\n",
              "\n",
              "    /* Handle when a new output is added */\n",
              "    events.on('output_added.OutputArea', handleAddOutput);\n",
              "\n",
              "    /**\n",
              "     * Register the mime type and append_mime function with output_area\n",
              "     */\n",
              "    OutputArea.prototype.register_mime_type(EXEC_MIME_TYPE, append_mime, {\n",
              "      /* Is output safe? */\n",
              "      safe: true,\n",
              "      /* Index of renderer in `output_area.display_order` */\n",
              "      index: 0\n",
              "    });\n",
              "  }\n",
              "\n",
              "  // register the mime type if in Jupyter Notebook environment and previously unregistered\n",
              "  if (root.Jupyter !== undefined) {\n",
              "    var events = require('base/js/events');\n",
              "    var OutputArea = require('notebook/js/outputarea').OutputArea;\n",
              "\n",
              "    if (OutputArea.prototype.mime_types().indexOf(EXEC_MIME_TYPE) == -1) {\n",
              "      register_renderer(events, OutputArea);\n",
              "    }\n",
              "  }\n",
              "\n",
              "  \n",
              "  if (typeof (root._bokeh_timeout) === \"undefined\" || force === true) {\n",
              "    root._bokeh_timeout = Date.now() + 5000;\n",
              "    root._bokeh_failed_load = false;\n",
              "  }\n",
              "\n",
              "  var NB_LOAD_WARNING = {'data': {'text/html':\n",
              "     \"<div style='background-color: #fdd'>\\n\"+\n",
              "     \"<p>\\n\"+\n",
              "     \"BokehJS does not appear to have successfully loaded. If loading BokehJS from CDN, this \\n\"+\n",
              "     \"may be due to a slow or bad network connection. Possible fixes:\\n\"+\n",
              "     \"</p>\\n\"+\n",
              "     \"<ul>\\n\"+\n",
              "     \"<li>re-rerun `output_notebook()` to attempt to load from CDN again, or</li>\\n\"+\n",
              "     \"<li>use INLINE resources instead, as so:</li>\\n\"+\n",
              "     \"</ul>\\n\"+\n",
              "     \"<code>\\n\"+\n",
              "     \"from bokeh.resources import INLINE\\n\"+\n",
              "     \"output_notebook(resources=INLINE)\\n\"+\n",
              "     \"</code>\\n\"+\n",
              "     \"</div>\"}};\n",
              "\n",
              "  function display_loaded() {\n",
              "    var el = document.getElementById(null);\n",
              "    if (el != null) {\n",
              "      el.textContent = \"BokehJS is loading...\";\n",
              "    }\n",
              "    if (root.Bokeh !== undefined) {\n",
              "      if (el != null) {\n",
              "        el.textContent = \"BokehJS \" + root.Bokeh.version + \" successfully loaded.\";\n",
              "      }\n",
              "    } else if (Date.now() < root._bokeh_timeout) {\n",
              "      setTimeout(display_loaded, 100)\n",
              "    }\n",
              "  }\n",
              "\n",
              "\n",
              "  function run_callbacks() {\n",
              "    try {\n",
              "      root._bokeh_onload_callbacks.forEach(function(callback) {\n",
              "        if (callback != null)\n",
              "          callback();\n",
              "      });\n",
              "    } finally {\n",
              "      delete root._bokeh_onload_callbacks\n",
              "    }\n",
              "    console.debug(\"Bokeh: all callbacks have finished\");\n",
              "  }\n",
              "\n",
              "  function load_libs(css_urls, js_urls, callback) {\n",
              "    if (css_urls == null) css_urls = [];\n",
              "    if (js_urls == null) js_urls = [];\n",
              "\n",
              "    root._bokeh_onload_callbacks.push(callback);\n",
              "    if (root._bokeh_is_loading > 0) {\n",
              "      console.debug(\"Bokeh: BokehJS is being loaded, scheduling callback at\", now());\n",
              "      return null;\n",
              "    }\n",
              "    if (js_urls == null || js_urls.length === 0) {\n",
              "      run_callbacks();\n",
              "      return null;\n",
              "    }\n",
              "    console.debug(\"Bokeh: BokehJS not loaded, scheduling load and callback at\", now());\n",
              "    root._bokeh_is_loading = css_urls.length + js_urls.length;\n",
              "\n",
              "    function on_load() {\n",
              "      root._bokeh_is_loading--;\n",
              "      if (root._bokeh_is_loading === 0) {\n",
              "        console.debug(\"Bokeh: all BokehJS libraries/stylesheets loaded\");\n",
              "        run_callbacks()\n",
              "      }\n",
              "    }\n",
              "\n",
              "    function on_error(url) {\n",
              "      console.error(\"failed to load \" + url);\n",
              "    }\n",
              "\n",
              "    for (let i = 0; i < css_urls.length; i++) {\n",
              "      const url = css_urls[i];\n",
              "      const element = document.createElement(\"link\");\n",
              "      element.onload = on_load;\n",
              "      element.onerror = on_error.bind(null, url);\n",
              "      element.rel = \"stylesheet\";\n",
              "      element.type = \"text/css\";\n",
              "      element.href = url;\n",
              "      console.debug(\"Bokeh: injecting link tag for BokehJS stylesheet: \", url);\n",
              "      document.body.appendChild(element);\n",
              "    }\n",
              "\n",
              "    const hashes = {\"https://cdn.bokeh.org/bokeh/release/bokeh-2.3.3.min.js\": \"dM3QQsP+wXdHg42wTqW85BjZQdLNNIXqlPw/BgKoExPmTG7ZLML4EGqLMfqHT6ON\", \"https://cdn.bokeh.org/bokeh/release/bokeh-tables-2.3.3.min.js\": \"8x57I4YuIfu8XyZfFo0XVr2WAT8EK4rh/uDe3wF7YuW2FNUSNEpJbsPaB1nJ2fz2\", \"https://cdn.bokeh.org/bokeh/release/bokeh-widgets-2.3.3.min.js\": \"3QTqdz9LyAm2i0sG5XTePsHec3UHWwVsrOL68SYRoAXsafvfAyqtQ+h440+qIBhS\"};\n",
              "\n",
              "    for (let i = 0; i < js_urls.length; i++) {\n",
              "      const url = js_urls[i];\n",
              "      const element = document.createElement('script');\n",
              "      element.onload = on_load;\n",
              "      element.onerror = on_error.bind(null, url);\n",
              "      element.async = false;\n",
              "      element.src = url;\n",
              "      if (url in hashes) {\n",
              "        element.crossOrigin = \"anonymous\";\n",
              "        element.integrity = \"sha384-\" + hashes[url];\n",
              "      }\n",
              "      console.debug(\"Bokeh: injecting script tag for BokehJS library: \", url);\n",
              "      document.head.appendChild(element);\n",
              "    }\n",
              "  };\n",
              "\n",
              "  function inject_raw_css(css) {\n",
              "    const element = document.createElement(\"style\");\n",
              "    element.appendChild(document.createTextNode(css));\n",
              "    document.body.appendChild(element);\n",
              "  }\n",
              "\n",
              "  \n",
              "  var js_urls = [\"https://cdn.bokeh.org/bokeh/release/bokeh-2.3.3.min.js\", \"https://cdn.bokeh.org/bokeh/release/bokeh-widgets-2.3.3.min.js\", \"https://cdn.bokeh.org/bokeh/release/bokeh-tables-2.3.3.min.js\"];\n",
              "  var css_urls = [];\n",
              "  \n",
              "\n",
              "  var inline_js = [\n",
              "    function(Bokeh) {\n",
              "      Bokeh.set_log_level(\"info\");\n",
              "    },\n",
              "    function(Bokeh) {\n",
              "    \n",
              "    \n",
              "    }\n",
              "  ];\n",
              "\n",
              "  function run_inline_js() {\n",
              "    \n",
              "    if (root.Bokeh !== undefined || force === true) {\n",
              "      \n",
              "    for (var i = 0; i < inline_js.length; i++) {\n",
              "      inline_js[i].call(root, root.Bokeh);\n",
              "    }\n",
              "    } else if (Date.now() < root._bokeh_timeout) {\n",
              "      setTimeout(run_inline_js, 100);\n",
              "    } else if (!root._bokeh_failed_load) {\n",
              "      console.log(\"Bokeh: BokehJS failed to load within specified timeout.\");\n",
              "      root._bokeh_failed_load = true;\n",
              "    } else if (force !== true) {\n",
              "      var cell = $(document.getElementById(null)).parents('.cell').data().cell;\n",
              "      cell.output_area.append_execute_result(NB_LOAD_WARNING)\n",
              "    }\n",
              "\n",
              "  }\n",
              "\n",
              "  if (root._bokeh_is_loading === 0) {\n",
              "    console.debug(\"Bokeh: BokehJS loaded, going straight to plotting\");\n",
              "    run_inline_js();\n",
              "  } else {\n",
              "    load_libs(css_urls, js_urls, function() {\n",
              "      console.debug(\"Bokeh: BokehJS plotting callback run at\", now());\n",
              "      run_inline_js();\n",
              "    });\n",
              "  }\n",
              "}(window));"
            ],
            "application/vnd.bokehjs_load.v0+json": "\n(function(root) {\n  function now() {\n    return new Date();\n  }\n\n  var force = true;\n\n  if (typeof root._bokeh_onload_callbacks === \"undefined\" || force === true) {\n    root._bokeh_onload_callbacks = [];\n    root._bokeh_is_loading = undefined;\n  }\n\n  \n\n  \n  if (typeof (root._bokeh_timeout) === \"undefined\" || force === true) {\n    root._bokeh_timeout = Date.now() + 5000;\n    root._bokeh_failed_load = false;\n  }\n\n  var NB_LOAD_WARNING = {'data': {'text/html':\n     \"<div style='background-color: #fdd'>\\n\"+\n     \"<p>\\n\"+\n     \"BokehJS does not appear to have successfully loaded. If loading BokehJS from CDN, this \\n\"+\n     \"may be due to a slow or bad network connection. Possible fixes:\\n\"+\n     \"</p>\\n\"+\n     \"<ul>\\n\"+\n     \"<li>re-rerun `output_notebook()` to attempt to load from CDN again, or</li>\\n\"+\n     \"<li>use INLINE resources instead, as so:</li>\\n\"+\n     \"</ul>\\n\"+\n     \"<code>\\n\"+\n     \"from bokeh.resources import INLINE\\n\"+\n     \"output_notebook(resources=INLINE)\\n\"+\n     \"</code>\\n\"+\n     \"</div>\"}};\n\n  function display_loaded() {\n    var el = document.getElementById(null);\n    if (el != null) {\n      el.textContent = \"BokehJS is loading...\";\n    }\n    if (root.Bokeh !== undefined) {\n      if (el != null) {\n        el.textContent = \"BokehJS \" + root.Bokeh.version + \" successfully loaded.\";\n      }\n    } else if (Date.now() < root._bokeh_timeout) {\n      setTimeout(display_loaded, 100)\n    }\n  }\n\n\n  function run_callbacks() {\n    try {\n      root._bokeh_onload_callbacks.forEach(function(callback) {\n        if (callback != null)\n          callback();\n      });\n    } finally {\n      delete root._bokeh_onload_callbacks\n    }\n    console.debug(\"Bokeh: all callbacks have finished\");\n  }\n\n  function load_libs(css_urls, js_urls, callback) {\n    if (css_urls == null) css_urls = [];\n    if (js_urls == null) js_urls = [];\n\n    root._bokeh_onload_callbacks.push(callback);\n    if (root._bokeh_is_loading > 0) {\n      console.debug(\"Bokeh: BokehJS is being loaded, scheduling callback at\", now());\n      return null;\n    }\n    if (js_urls == null || js_urls.length === 0) {\n      run_callbacks();\n      return null;\n    }\n    console.debug(\"Bokeh: BokehJS not loaded, scheduling load and callback at\", now());\n    root._bokeh_is_loading = css_urls.length + js_urls.length;\n\n    function on_load() {\n      root._bokeh_is_loading--;\n      if (root._bokeh_is_loading === 0) {\n        console.debug(\"Bokeh: all BokehJS libraries/stylesheets loaded\");\n        run_callbacks()\n      }\n    }\n\n    function on_error(url) {\n      console.error(\"failed to load \" + url);\n    }\n\n    for (let i = 0; i < css_urls.length; i++) {\n      const url = css_urls[i];\n      const element = document.createElement(\"link\");\n      element.onload = on_load;\n      element.onerror = on_error.bind(null, url);\n      element.rel = \"stylesheet\";\n      element.type = \"text/css\";\n      element.href = url;\n      console.debug(\"Bokeh: injecting link tag for BokehJS stylesheet: \", url);\n      document.body.appendChild(element);\n    }\n\n    const hashes = {\"https://cdn.bokeh.org/bokeh/release/bokeh-2.3.3.min.js\": \"dM3QQsP+wXdHg42wTqW85BjZQdLNNIXqlPw/BgKoExPmTG7ZLML4EGqLMfqHT6ON\", \"https://cdn.bokeh.org/bokeh/release/bokeh-tables-2.3.3.min.js\": \"8x57I4YuIfu8XyZfFo0XVr2WAT8EK4rh/uDe3wF7YuW2FNUSNEpJbsPaB1nJ2fz2\", \"https://cdn.bokeh.org/bokeh/release/bokeh-widgets-2.3.3.min.js\": \"3QTqdz9LyAm2i0sG5XTePsHec3UHWwVsrOL68SYRoAXsafvfAyqtQ+h440+qIBhS\"};\n\n    for (let i = 0; i < js_urls.length; i++) {\n      const url = js_urls[i];\n      const element = document.createElement('script');\n      element.onload = on_load;\n      element.onerror = on_error.bind(null, url);\n      element.async = false;\n      element.src = url;\n      if (url in hashes) {\n        element.crossOrigin = \"anonymous\";\n        element.integrity = \"sha384-\" + hashes[url];\n      }\n      console.debug(\"Bokeh: injecting script tag for BokehJS library: \", url);\n      document.head.appendChild(element);\n    }\n  };\n\n  function inject_raw_css(css) {\n    const element = document.createElement(\"style\");\n    element.appendChild(document.createTextNode(css));\n    document.body.appendChild(element);\n  }\n\n  \n  var js_urls = [\"https://cdn.bokeh.org/bokeh/release/bokeh-2.3.3.min.js\", \"https://cdn.bokeh.org/bokeh/release/bokeh-widgets-2.3.3.min.js\", \"https://cdn.bokeh.org/bokeh/release/bokeh-tables-2.3.3.min.js\"];\n  var css_urls = [];\n  \n\n  var inline_js = [\n    function(Bokeh) {\n      Bokeh.set_log_level(\"info\");\n    },\n    function(Bokeh) {\n    \n    \n    }\n  ];\n\n  function run_inline_js() {\n    \n    if (root.Bokeh !== undefined || force === true) {\n      \n    for (var i = 0; i < inline_js.length; i++) {\n      inline_js[i].call(root, root.Bokeh);\n    }\n    } else if (Date.now() < root._bokeh_timeout) {\n      setTimeout(run_inline_js, 100);\n    } else if (!root._bokeh_failed_load) {\n      console.log(\"Bokeh: BokehJS failed to load within specified timeout.\");\n      root._bokeh_failed_load = true;\n    } else if (force !== true) {\n      var cell = $(document.getElementById(null)).parents('.cell').data().cell;\n      cell.output_area.append_execute_result(NB_LOAD_WARNING)\n    }\n\n  }\n\n  if (root._bokeh_is_loading === 0) {\n    console.debug(\"Bokeh: BokehJS loaded, going straight to plotting\");\n    run_inline_js();\n  } else {\n    load_libs(css_urls, js_urls, function() {\n      console.debug(\"Bokeh: BokehJS plotting callback run at\", now());\n      run_inline_js();\n    });\n  }\n}(window));"
          },
          "metadata": {}
        },
        {
          "output_type": "display_data",
          "data": {
            "text/html": [
              "\n",
              "\n",
              "\n",
              "\n",
              "\n",
              "\n",
              "  <div class=\"bk-root\" id=\"75d5c833-6b43-49c7-b5fa-2304fb1730c1\" data-root-id=\"1002\"></div>\n"
            ]
          },
          "metadata": {}
        },
        {
          "output_type": "display_data",
          "data": {
            "application/javascript": [
              "(function(root) {\n",
              "  function embed_document(root) {\n",
              "    \n",
              "  var docs_json = {\"68abbc2b-ae96-4278-ae83-735faa4fa8df\":{\"defs\":[],\"roots\":{\"references\":[{\"attributes\":{\"below\":[{\"id\":\"1013\"}],\"center\":[{\"id\":\"1016\"},{\"id\":\"1020\"}],\"height\":400,\"left\":[{\"id\":\"1017\"}],\"renderers\":[{\"id\":\"1038\"}],\"title\":{\"id\":\"1003\"},\"toolbar\":{\"id\":\"1028\"},\"width\":400,\"x_range\":{\"id\":\"1005\"},\"x_scale\":{\"id\":\"1009\"},\"y_range\":{\"id\":\"1007\"},\"y_scale\":{\"id\":\"1011\"}},\"id\":\"1002\",\"subtype\":\"Figure\",\"type\":\"Plot\"},{\"attributes\":{\"source\":{\"id\":\"1035\"}},\"id\":\"1039\",\"type\":\"CDSView\"},{\"attributes\":{},\"id\":\"1047\",\"type\":\"Selection\"},{\"attributes\":{},\"id\":\"1048\",\"type\":\"UnionRenderers\"},{\"attributes\":{\"fill_alpha\":{\"value\":0.1},\"fill_color\":{\"value\":\"deeppink\"},\"line_alpha\":{\"value\":0.1},\"line_color\":{\"value\":\"deeppink\"},\"x\":{\"field\":\"x\"},\"y\":{\"field\":\"y\"}},\"id\":\"1037\",\"type\":\"Circle\"},{\"attributes\":{\"data_source\":{\"id\":\"1035\"},\"glyph\":{\"id\":\"1036\"},\"hover_glyph\":null,\"muted_glyph\":null,\"nonselection_glyph\":{\"id\":\"1037\"},\"view\":{\"id\":\"1039\"}},\"id\":\"1038\",\"type\":\"GlyphRenderer\"},{\"attributes\":{},\"id\":\"1041\",\"type\":\"AllLabels\"},{\"attributes\":{\"axis_label\":\"-log10(p-values)\",\"formatter\":{\"id\":\"1046\"},\"major_label_policy\":{\"id\":\"1044\"},\"ticker\":{\"id\":\"1018\"}},\"id\":\"1017\",\"type\":\"LinearAxis\"},{\"attributes\":{\"bottom_units\":\"screen\",\"fill_alpha\":0.5,\"fill_color\":\"lightgrey\",\"left_units\":\"screen\",\"level\":\"overlay\",\"line_alpha\":1.0,\"line_color\":\"black\",\"line_dash\":[4,4],\"line_width\":2,\"right_units\":\"screen\",\"syncable\":false,\"top_units\":\"screen\"},\"id\":\"1027\",\"type\":\"BoxAnnotation\"},{\"attributes\":{},\"id\":\"1022\",\"type\":\"WheelZoomTool\"},{\"attributes\":{},\"id\":\"1043\",\"type\":\"BasicTickFormatter\"},{\"attributes\":{},\"id\":\"1044\",\"type\":\"AllLabels\"},{\"attributes\":{\"fill_color\":{\"value\":\"deeppink\"},\"line_color\":{\"value\":\"deeppink\"},\"x\":{\"field\":\"x\"},\"y\":{\"field\":\"y\"}},\"id\":\"1036\",\"type\":\"Circle\"},{\"attributes\":{\"overlay\":{\"id\":\"1027\"}},\"id\":\"1023\",\"type\":\"BoxZoomTool\"},{\"attributes\":{},\"id\":\"1046\",\"type\":\"BasicTickFormatter\"},{\"attributes\":{\"axis\":{\"id\":\"1017\"},\"dimension\":1,\"ticker\":null},\"id\":\"1020\",\"type\":\"Grid\"},{\"attributes\":{\"axis_label\":\"log2(FC)\",\"formatter\":{\"id\":\"1043\"},\"major_label_policy\":{\"id\":\"1041\"},\"ticker\":{\"id\":\"1014\"}},\"id\":\"1013\",\"type\":\"LinearAxis\"},{\"attributes\":{\"data\":{\"x\":{\"__ndarray__\":\"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\",\"dtype\":\"float64\",\"order\":\"little\",\"shape\":[994]},\"y\":{\"__ndarray__\":\"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\",\"dtype\":\"float64\",\"order\":\"little\",\"shape\":[994]}},\"selected\":{\"id\":\"1047\"},\"selection_policy\":{\"id\":\"1048\"}},\"id\":\"1035\",\"type\":\"ColumnDataSource\"},{\"attributes\":{\"text\":\"volcano plot\"},\"id\":\"1003\",\"type\":\"Title\"},{\"attributes\":{},\"id\":\"1024\",\"type\":\"SaveTool\"},{\"attributes\":{},\"id\":\"1005\",\"type\":\"DataRange1d\"},{\"attributes\":{},\"id\":\"1026\",\"type\":\"HelpTool\"},{\"attributes\":{},\"id\":\"1011\",\"type\":\"LinearScale\"},{\"attributes\":{},\"id\":\"1021\",\"type\":\"PanTool\"},{\"attributes\":{},\"id\":\"1025\",\"type\":\"ResetTool\"},{\"attributes\":{},\"id\":\"1018\",\"type\":\"BasicTicker\"},{\"attributes\":{},\"id\":\"1007\",\"type\":\"DataRange1d\"},{\"attributes\":{},\"id\":\"1009\",\"type\":\"LinearScale\"},{\"attributes\":{},\"id\":\"1014\",\"type\":\"BasicTicker\"},{\"attributes\":{\"axis\":{\"id\":\"1013\"},\"ticker\":null},\"id\":\"1016\",\"type\":\"Grid\"},{\"attributes\":{\"active_multi\":null,\"tools\":[{\"id\":\"1021\"},{\"id\":\"1022\"},{\"id\":\"1023\"},{\"id\":\"1024\"},{\"id\":\"1025\"},{\"id\":\"1026\"}]},\"id\":\"1028\",\"type\":\"Toolbar\"}],\"root_ids\":[\"1002\"]},\"title\":\"Bokeh Application\",\"version\":\"2.3.3\"}};\n",
              "  var render_items = [{\"docid\":\"68abbc2b-ae96-4278-ae83-735faa4fa8df\",\"root_ids\":[\"1002\"],\"roots\":{\"1002\":\"75d5c833-6b43-49c7-b5fa-2304fb1730c1\"}}];\n",
              "  root.Bokeh.embed.embed_items_notebook(docs_json, render_items);\n",
              "\n",
              "  }\n",
              "  if (root.Bokeh !== undefined) {\n",
              "    embed_document(root);\n",
              "  } else {\n",
              "    var attempts = 0;\n",
              "    var timer = setInterval(function(root) {\n",
              "      if (root.Bokeh !== undefined) {\n",
              "        clearInterval(timer);\n",
              "        embed_document(root);\n",
              "      } else {\n",
              "        attempts++;\n",
              "        if (attempts > 100) {\n",
              "          clearInterval(timer);\n",
              "          console.log(\"Bokeh: ERROR: Unable to run BokehJS code because BokehJS library is missing\");\n",
              "        }\n",
              "      }\n",
              "    }, 10, root)\n",
              "  }\n",
              "})(window);"
            ],
            "application/vnd.bokehjs_exec.v0+json": ""
          },
          "metadata": {
            "application/vnd.bokehjs_exec.v0+json": {
              "id": "1002"
            }
          }
        }
      ]
    },
    {
      "cell_type": "markdown",
      "source": [
        "### **e) Use the Mann-Whitney (non-parametric) $U$-test to find $p$-values for genes with significantly different expression between the two cell types. Report the percent of significant genes from this test that overlap with those from the $t$-test in c) (both after Bonferroni correction). (5 points)**\n",
        "\n",
        "The Mann-Whitney $U$ test is a non-parametric test, which uses the $U$ statistic (as opposed to the $t$ statistic) to essentially count how many pairs of observations between $X^g_1$ and $X^g_2$ have one value greater than, equal to, and less than the other. This tests for whether the probability that a value from $X^g_1$ exceeds a value in $X^g_2$ is the same as the probability that a value from $X^g_2$ exceeds a value in $X^g_1$ i.e. $H_0: P(X^g_1 > X^g_2) = P(X^g_2 > X^g_1)$ and $H_1: P(X^g_1 > X^g_2) ≠ P(X^g_2 > X^g_1)$. Under the null hypothesis, the distribution of $U$ is normal. \n",
        "\n",
        "You can use the scipy package directly for this test, [scipy Mann-Whitney U](https://docs.scipy.org/doc/scipy/reference/generated/scipy.stats.mannwhitneyu.html), which will calculate both the $U$ value and $p$-value for the two sets of observations you input."
      ],
      "metadata": {
        "id": "dg3aKSUCw1nI"
      }
    },
    {
      "cell_type": "code",
      "source": [
        "from scipy.stats import mannwhitneyu\n",
        "U1, p_MW = mannwhitneyu(reduced_countmat_cardaic, reduced_countmat_tube,method='auto')"
      ],
      "metadata": {
        "id": "eFC8bhaGxcnn"
      },
      "execution_count": 15,
      "outputs": []
    },
    {
      "cell_type": "code",
      "source": [
        "MW_corrected_cut = np.where(p_MW < correction)\n",
        "common = np.intersect1d(corrected_cut, MW_corrected_cut)\n",
        "\n",
        "print(\"the % of overlap of significant genes between the two tests is:\",np.size(common)/np.size(MW_corrected_cut)*100)"
      ],
      "metadata": {
        "id": "W0W_odIqaINn",
        "outputId": "fed13d41-5037-4328-d61c-ac7bbbd3ad57",
        "colab": {
          "base_uri": "https://localhost:8080/"
        }
      },
      "execution_count": 27,
      "outputs": [
        {
          "output_type": "stream",
          "name": "stdout",
          "text": [
            "the % of overlap of significant genes between the two tests is: 3.587443946188341\n"
          ]
        }
      ]
    },
    {
      "cell_type": "markdown",
      "source": [
        "### **f) Make a volcano plot for your results in e) ($U$ test, comparison between cell types 'Cardiac' and 'Neural Tube'). Select a gene you believe has a significant $p$-value and substantial fold change (FC).** \n",
        "###**Report the (1) $p$-value and log2FC for the gene, (2) color this gene on your volcano plot, and (3) briefly describe the function of this gene.  (5 points)**"
      ],
      "metadata": {
        "id": "UEZ0du99yR0_"
      }
    },
    {
      "cell_type": "code",
      "source": [],
      "metadata": {
        "id": "4I-93W2tyRI6"
      },
      "execution_count": 17,
      "outputs": []
    },
    {
      "cell_type": "markdown",
      "source": [
        "### **g) As a negative control, randomly sample two groups of cells from cell type 'Cardiac' (each group the size of half of cell type 'Cardiac'). Perform a $t$-test as in a-b on all genes, treating the two groups as two cell types. Report the minimum $p$-value you obtain from this testing. (5 points)**\n",
        "**Re-run the subsetting in a) to remove genes with zero variance in either of the two cell groups (from the set of already subsetted genes).*"
      ],
      "metadata": {
        "id": "7HwOnMukzHvT"
      }
    },
    {
      "cell_type": "code",
      "source": [],
      "metadata": {
        "id": "GEKvDHNI0NbM"
      },
      "execution_count": 17,
      "outputs": []
    }
  ]
}