{
  "nbformat": 4,
  "nbformat_minor": 0,
  "metadata": {
    "colab": {
      "provenance": [],
      "include_colab_link": true
    },
    "kernelspec": {
      "name": "python3",
      "display_name": "Python 3"
    },
    "language_info": {
      "name": "python"
    },
    "widgets": {
      "application/vnd.jupyter.widget-state+json": {
        "39d8d2462556400f94cc655818abfd06": {
          "model_module": "@jupyter-widgets/controls",
          "model_name": "HBoxModel",
          "model_module_version": "1.5.0",
          "state": {
            "_dom_classes": [],
            "_model_module": "@jupyter-widgets/controls",
            "_model_module_version": "1.5.0",
            "_model_name": "HBoxModel",
            "_view_count": null,
            "_view_module": "@jupyter-widgets/controls",
            "_view_module_version": "1.5.0",
            "_view_name": "HBoxView",
            "box_style": "",
            "children": [
              "IPY_MODEL_276bd431372c4958a8e90d5302555e12",
              "IPY_MODEL_baf6df8896f8435db2f5b0226ab6f351",
              "IPY_MODEL_93d00535222244be98f0e0c459cfd43a"
            ],
            "layout": "IPY_MODEL_bbc06abb597645bca4208d5b6fe06a3e"
          }
        },
        "276bd431372c4958a8e90d5302555e12": {
          "model_module": "@jupyter-widgets/controls",
          "model_name": "HTMLModel",
          "model_module_version": "1.5.0",
          "state": {
            "_dom_classes": [],
            "_model_module": "@jupyter-widgets/controls",
            "_model_module_version": "1.5.0",
            "_model_name": "HTMLModel",
            "_view_count": null,
            "_view_module": "@jupyter-widgets/controls",
            "_view_module_version": "1.5.0",
            "_view_name": "HTMLView",
            "description": "",
            "description_tooltip": null,
            "layout": "IPY_MODEL_e681404c900a486897153ec31be8a9de",
            "placeholder": "​",
            "style": "IPY_MODEL_44c03e63bc6a4e2ab0a281d1bee57f6e",
            "value": ""
          }
        },
        "baf6df8896f8435db2f5b0226ab6f351": {
          "model_module": "@jupyter-widgets/controls",
          "model_name": "FloatProgressModel",
          "model_module_version": "1.5.0",
          "state": {
            "_dom_classes": [],
            "_model_module": "@jupyter-widgets/controls",
            "_model_module_version": "1.5.0",
            "_model_name": "FloatProgressModel",
            "_view_count": null,
            "_view_module": "@jupyter-widgets/controls",
            "_view_module_version": "1.5.0",
            "_view_name": "ProgressView",
            "bar_style": "success",
            "description": "",
            "description_tooltip": null,
            "layout": "IPY_MODEL_3d418f3bebb1422487c6e37934805108",
            "max": 6617,
            "min": 0,
            "orientation": "horizontal",
            "style": "IPY_MODEL_58e5bd342776447db9b1323c83d231f2",
            "value": 6617
          }
        },
        "93d00535222244be98f0e0c459cfd43a": {
          "model_module": "@jupyter-widgets/controls",
          "model_name": "HTMLModel",
          "model_module_version": "1.5.0",
          "state": {
            "_dom_classes": [],
            "_model_module": "@jupyter-widgets/controls",
            "_model_module_version": "1.5.0",
            "_model_name": "HTMLModel",
            "_view_count": null,
            "_view_module": "@jupyter-widgets/controls",
            "_view_module_version": "1.5.0",
            "_view_name": "HTMLView",
            "description": "",
            "description_tooltip": null,
            "layout": "IPY_MODEL_f26b7fd2df56455fa4552e72f189f5e3",
            "placeholder": "​",
            "style": "IPY_MODEL_29904428b3f4464e8de811b402cdd9a5",
            "value": " 6618/? [00:20&lt;00:00, 10904.37B/s]"
          }
        },
        "bbc06abb597645bca4208d5b6fe06a3e": {
          "model_module": "@jupyter-widgets/base",
          "model_name": "LayoutModel",
          "model_module_version": "1.2.0",
          "state": {
            "_model_module": "@jupyter-widgets/base",
            "_model_module_version": "1.2.0",
            "_model_name": "LayoutModel",
            "_view_count": null,
            "_view_module": "@jupyter-widgets/base",
            "_view_module_version": "1.2.0",
            "_view_name": "LayoutView",
            "align_content": null,
            "align_items": null,
            "align_self": null,
            "border": null,
            "bottom": null,
            "display": null,
            "flex": null,
            "flex_flow": null,
            "grid_area": null,
            "grid_auto_columns": null,
            "grid_auto_flow": null,
            "grid_auto_rows": null,
            "grid_column": null,
            "grid_gap": null,
            "grid_row": null,
            "grid_template_areas": null,
            "grid_template_columns": null,
            "grid_template_rows": null,
            "height": null,
            "justify_content": null,
            "justify_items": null,
            "left": null,
            "margin": null,
            "max_height": null,
            "max_width": null,
            "min_height": null,
            "min_width": null,
            "object_fit": null,
            "object_position": null,
            "order": null,
            "overflow": null,
            "overflow_x": null,
            "overflow_y": null,
            "padding": null,
            "right": null,
            "top": null,
            "visibility": null,
            "width": null
          }
        },
        "e681404c900a486897153ec31be8a9de": {
          "model_module": "@jupyter-widgets/base",
          "model_name": "LayoutModel",
          "model_module_version": "1.2.0",
          "state": {
            "_model_module": "@jupyter-widgets/base",
            "_model_module_version": "1.2.0",
            "_model_name": "LayoutModel",
            "_view_count": null,
            "_view_module": "@jupyter-widgets/base",
            "_view_module_version": "1.2.0",
            "_view_name": "LayoutView",
            "align_content": null,
            "align_items": null,
            "align_self": null,
            "border": null,
            "bottom": null,
            "display": null,
            "flex": null,
            "flex_flow": null,
            "grid_area": null,
            "grid_auto_columns": null,
            "grid_auto_flow": null,
            "grid_auto_rows": null,
            "grid_column": null,
            "grid_gap": null,
            "grid_row": null,
            "grid_template_areas": null,
            "grid_template_columns": null,
            "grid_template_rows": null,
            "height": null,
            "justify_content": null,
            "justify_items": null,
            "left": null,
            "margin": null,
            "max_height": null,
            "max_width": null,
            "min_height": null,
            "min_width": null,
            "object_fit": null,
            "object_position": null,
            "order": null,
            "overflow": null,
            "overflow_x": null,
            "overflow_y": null,
            "padding": null,
            "right": null,
            "top": null,
            "visibility": null,
            "width": null
          }
        },
        "44c03e63bc6a4e2ab0a281d1bee57f6e": {
          "model_module": "@jupyter-widgets/controls",
          "model_name": "DescriptionStyleModel",
          "model_module_version": "1.5.0",
          "state": {
            "_model_module": "@jupyter-widgets/controls",
            "_model_module_version": "1.5.0",
            "_model_name": "DescriptionStyleModel",
            "_view_count": null,
            "_view_module": "@jupyter-widgets/base",
            "_view_module_version": "1.2.0",
            "_view_name": "StyleView",
            "description_width": ""
          }
        },
        "3d418f3bebb1422487c6e37934805108": {
          "model_module": "@jupyter-widgets/base",
          "model_name": "LayoutModel",
          "model_module_version": "1.2.0",
          "state": {
            "_model_module": "@jupyter-widgets/base",
            "_model_module_version": "1.2.0",
            "_model_name": "LayoutModel",
            "_view_count": null,
            "_view_module": "@jupyter-widgets/base",
            "_view_module_version": "1.2.0",
            "_view_name": "LayoutView",
            "align_content": null,
            "align_items": null,
            "align_self": null,
            "border": null,
            "bottom": null,
            "display": null,
            "flex": null,
            "flex_flow": null,
            "grid_area": null,
            "grid_auto_columns": null,
            "grid_auto_flow": null,
            "grid_auto_rows": null,
            "grid_column": null,
            "grid_gap": null,
            "grid_row": null,
            "grid_template_areas": null,
            "grid_template_columns": null,
            "grid_template_rows": null,
            "height": null,
            "justify_content": null,
            "justify_items": null,
            "left": null,
            "margin": null,
            "max_height": null,
            "max_width": null,
            "min_height": null,
            "min_width": null,
            "object_fit": null,
            "object_position": null,
            "order": null,
            "overflow": null,
            "overflow_x": null,
            "overflow_y": null,
            "padding": null,
            "right": null,
            "top": null,
            "visibility": null,
            "width": null
          }
        },
        "58e5bd342776447db9b1323c83d231f2": {
          "model_module": "@jupyter-widgets/controls",
          "model_name": "ProgressStyleModel",
          "model_module_version": "1.5.0",
          "state": {
            "_model_module": "@jupyter-widgets/controls",
            "_model_module_version": "1.5.0",
            "_model_name": "ProgressStyleModel",
            "_view_count": null,
            "_view_module": "@jupyter-widgets/base",
            "_view_module_version": "1.2.0",
            "_view_name": "StyleView",
            "bar_color": null,
            "description_width": ""
          }
        },
        "f26b7fd2df56455fa4552e72f189f5e3": {
          "model_module": "@jupyter-widgets/base",
          "model_name": "LayoutModel",
          "model_module_version": "1.2.0",
          "state": {
            "_model_module": "@jupyter-widgets/base",
            "_model_module_version": "1.2.0",
            "_model_name": "LayoutModel",
            "_view_count": null,
            "_view_module": "@jupyter-widgets/base",
            "_view_module_version": "1.2.0",
            "_view_name": "LayoutView",
            "align_content": null,
            "align_items": null,
            "align_self": null,
            "border": null,
            "bottom": null,
            "display": null,
            "flex": null,
            "flex_flow": null,
            "grid_area": null,
            "grid_auto_columns": null,
            "grid_auto_flow": null,
            "grid_auto_rows": null,
            "grid_column": null,
            "grid_gap": null,
            "grid_row": null,
            "grid_template_areas": null,
            "grid_template_columns": null,
            "grid_template_rows": null,
            "height": null,
            "justify_content": null,
            "justify_items": null,
            "left": null,
            "margin": null,
            "max_height": null,
            "max_width": null,
            "min_height": null,
            "min_width": null,
            "object_fit": null,
            "object_position": null,
            "order": null,
            "overflow": null,
            "overflow_x": null,
            "overflow_y": null,
            "padding": null,
            "right": null,
            "top": null,
            "visibility": null,
            "width": null
          }
        },
        "29904428b3f4464e8de811b402cdd9a5": {
          "model_module": "@jupyter-widgets/controls",
          "model_name": "DescriptionStyleModel",
          "model_module_version": "1.5.0",
          "state": {
            "_model_module": "@jupyter-widgets/controls",
            "_model_module_version": "1.5.0",
            "_model_name": "DescriptionStyleModel",
            "_view_count": null,
            "_view_module": "@jupyter-widgets/base",
            "_view_module_version": "1.2.0",
            "_view_name": "StyleView",
            "description_width": ""
          }
        }
      }
    }
  },
  "cells": [
    {
      "cell_type": "markdown",
      "metadata": {
        "id": "view-in-github",
        "colab_type": "text"
      },
      "source": [
        "<a href=\"https://colab.research.google.com/github/CPukszta/BI-BE-CS-183-2023/blob/main/HW7/Problem3.ipynb\" target=\"_parent\"><img src=\"https://colab.research.google.com/assets/colab-badge.svg\" alt=\"Open In Colab\"/></a>"
      ]
    },
    {
      "cell_type": "markdown",
      "metadata": {
        "id": "MozW3XxY8ezr"
      },
      "source": [
        "Bi/Be/Cs 183 2022-2023: Intro to Computational Biology\n",
        "TAs: Meichen Fang, Tara Chari, Zitong (Jerry) Wang\n",
        "\n",
        "**Submit your notebooks by sharing a clickable link with Viewer access. Link must be accessible from submitted assignment document.**\n",
        "\n",
        "Make sure Runtime $\\rightarrow$ Restart and run all works without error"
      ]
    },
    {
      "cell_type": "markdown",
      "source": [
        "**HW 7 Problem 3**\n",
        "\n",
        "In this problem you will be using various tests to look for differential expression between cells in different cell types. This will involve comparing means between different cell populations across genes, determining gene candidates with 'significant' differences in expression, and gauging how accurate or trustworthy such results are.\n"
      ],
      "metadata": {
        "id": "Mu4obGyqS8fh"
      }
    },
    {
      "cell_type": "markdown",
      "source": [
        "##**Import data and install packages**"
      ],
      "metadata": {
        "id": "fJ8J92ntz2rk"
      }
    },
    {
      "cell_type": "code",
      "execution_count": null,
      "metadata": {
        "id": "rjy8W5hly24q"
      },
      "outputs": [],
      "source": [
        "import numpy as np\n",
        "import scipy.io as sio\n",
        "import pandas as pd\n",
        "import matplotlib.pyplot as plt #Can use other plotting packages like seaborn"
      ]
    },
    {
      "cell_type": "code",
      "metadata": {
        "id": "yH-EpSmB9Y_x",
        "colab": {
          "base_uri": "https://localhost:8080/",
          "height": 194,
          "referenced_widgets": [
            "39d8d2462556400f94cc655818abfd06",
            "276bd431372c4958a8e90d5302555e12",
            "baf6df8896f8435db2f5b0226ab6f351",
            "93d00535222244be98f0e0c459cfd43a",
            "bbc06abb597645bca4208d5b6fe06a3e",
            "e681404c900a486897153ec31be8a9de",
            "44c03e63bc6a4e2ab0a281d1bee57f6e",
            "3d418f3bebb1422487c6e37934805108",
            "58e5bd342776447db9b1323c83d231f2",
            "f26b7fd2df56455fa4552e72f189f5e3",
            "29904428b3f4464e8de811b402cdd9a5"
          ]
        },
        "outputId": "f6b7566e-df74-4e2b-96a8-defcbbf03ef9"
      },
      "source": [
        "#Download count matrix of cell by gene counts and metadata files, DOI: 10.22002/D1.20031\n",
        "\n",
        "import requests\n",
        "from tqdm import tnrange, tqdm_notebook\n",
        "def download_file(doi,ext):\n",
        "    url = 'https://api.datacite.org/dois/'+doi+'/media'\n",
        "    r = requests.get(url).json()\n",
        "    netcdf_url = r['data'][0]['attributes']['url']\n",
        "    r = requests.get(netcdf_url,stream=True)\n",
        "    #Set file name\n",
        "    fname = doi.split('/')[-1]+ext\n",
        "    #Download file with progress bar\n",
        "    if r.status_code == 403:\n",
        "        print(\"File Unavailable\")\n",
        "    if 'content-length' not in r.headers:\n",
        "        print(\"Did not get file\")\n",
        "    else:\n",
        "        with open(fname, 'wb') as f:\n",
        "            total_length = int(r.headers.get('content-length'))\n",
        "            pbar = tnrange(int(total_length/1024), unit=\"B\")\n",
        "            for chunk in r.iter_content(chunk_size=1024):\n",
        "                if chunk:\n",
        "                    pbar.update()\n",
        "                    f.write(chunk)\n",
        "        return fname\n",
        "\n",
        "download_file('10.22002/D1.20031','.tar.gz')\n",
        "\n",
        "!tar -xvf D1.20031.tar.gz"
      ],
      "execution_count": null,
      "outputs": [
        {
          "output_type": "stream",
          "name": "stderr",
          "text": [
            "/usr/local/lib/python3.7/dist-packages/ipykernel_launcher.py:20: TqdmDeprecationWarning: Please use `tqdm.notebook.trange` instead of `tqdm.tnrange`\n"
          ]
        },
        {
          "output_type": "display_data",
          "data": {
            "text/plain": [
              "  0%|          | 0/6617 [00:00<?, ?B/s]"
            ],
            "application/vnd.jupyter.widget-view+json": {
              "version_major": 2,
              "version_minor": 0,
              "model_id": "39d8d2462556400f94cc655818abfd06"
            }
          },
          "metadata": {}
        },
        {
          "output_type": "stream",
          "name": "stdout",
          "text": [
            "._cell_metadata.csv\n",
            "cell_metadata.csv\n",
            "._gene_metadata.csv\n",
            "gene_metadata.csv\n",
            "._exutero.mtx\n",
            "exutero.mtx\n"
          ]
        }
      ]
    },
    {
      "cell_type": "markdown",
      "source": [
        "## **Read in data for analysis**"
      ],
      "metadata": {
        "id": "PpeuucqgiDPx"
      }
    },
    {
      "cell_type": "markdown",
      "source": [
        "**The dataset**"
      ],
      "metadata": {
        "id": "swY2nSDukmXg"
      }
    },
    {
      "cell_type": "markdown",
      "source": [
        "Much of mammalian embryo development occurs after the embryo implants in the uterus, however this makes the embryo relatively inaccessible and thus hard to study. In [Aguilera-Castrejon et al., 2021](https://www.nature.com/articles/s41586-021-03416-3#Sec7), a cell culture platform was established to culture post-implantation embryos ex utero (outside the uterus) from pre-gastrulation until himdlimb formation (organogenesis).  Single-cell sequencing was done for both in utero and ex utero cultured mouse embryos, to compare development of the externally cultured cells.\n",
        "\n",
        "<center><img src=\"https://drive.google.com/uc?export=view&id=1b6BM_W5Nk2r31RdGE7-bKDuObQq279qh\" alt=\"EMFigure\" width=\"800\" height=\"350\"><center>\n"
      ],
      "metadata": {
        "id": "NKSN3bu8cQ3O"
      }
    },
    {
      "cell_type": "markdown",
      "source": [
        "**The count matrix**\n",
        "\n",
        "This matrix is 6,205 cells by 2,000 genes. We are only working with the ex-utero cultured mouse embryo cells here.\n",
        "\n",
        "1.   For each cell, gene counts were normalized to have the same number of total counts (usually 1e5 or 1e6), with cell-gene counts thus scaled accordingly.\n",
        "\n",
        "2.   Counts were then log-normalized, using the log(1+x), where x is each cell's gene count. The 1 accounts for 0 count genes. \n",
        "\n",
        "3. The top ~2000 genes were selected for those that displayed large variance in expression amongst the cells ('highly variable genes').\n",
        "\n"
      ],
      "metadata": {
        "id": "58nQkH9eko4-"
      }
    },
    {
      "cell_type": "code",
      "metadata": {
        "id": "tZ1h_dME8vJb",
        "colab": {
          "base_uri": "https://localhost:8080/"
        },
        "outputId": "af197519-11ea-4fb5-90d9-9f9740d5dedf"
      },
      "source": [
        "#Get gene count matrix\n",
        "count_mat = sio.mmread('exutero.mtx')\n",
        "\n",
        "count_mat.shape"
      ],
      "execution_count": null,
      "outputs": [
        {
          "output_type": "execute_result",
          "data": {
            "text/plain": [
              "(6205, 2000)"
            ]
          },
          "metadata": {},
          "execution_count": 3
        }
      ]
    },
    {
      "cell_type": "code",
      "metadata": {
        "id": "NFissu8VB92P",
        "colab": {
          "base_uri": "https://localhost:8080/",
          "height": 206
        },
        "outputId": "6c8a75ac-6fbf-426a-d03e-817f3238f265"
      },
      "source": [
        "#Get metadata dataframe for the 6,205 cells (rows of the matrix)\n",
        "meta = pd.read_csv('cell_metadata.csv',index_col = 0)\n",
        "meta.head()"
      ],
      "execution_count": null,
      "outputs": [
        {
          "output_type": "execute_result",
          "data": {
            "text/plain": [
              "                              cell_type\n",
              "AAACCCAAGTACAACA-3       Mixed Mesoderm\n",
              "AAACCCAGTACACTCA-3                Blood\n",
              "AAACCCATCGAAGCAG-3          Neural Tube\n",
              "AAACGAAAGGAAACGA-3       Mixed Mesoderm\n",
              "AAACGAACACATGGTT-3  Pharyngeal Mesoderm"
            ],
            "text/html": [
              "\n",
              "  <div id=\"df-ead4cebb-c6b3-42f3-9def-709877d72bfa\">\n",
              "    <div class=\"colab-df-container\">\n",
              "      <div>\n",
              "<style scoped>\n",
              "    .dataframe tbody tr th:only-of-type {\n",
              "        vertical-align: middle;\n",
              "    }\n",
              "\n",
              "    .dataframe tbody tr th {\n",
              "        vertical-align: top;\n",
              "    }\n",
              "\n",
              "    .dataframe thead th {\n",
              "        text-align: right;\n",
              "    }\n",
              "</style>\n",
              "<table border=\"1\" class=\"dataframe\">\n",
              "  <thead>\n",
              "    <tr style=\"text-align: right;\">\n",
              "      <th></th>\n",
              "      <th>cell_type</th>\n",
              "    </tr>\n",
              "  </thead>\n",
              "  <tbody>\n",
              "    <tr>\n",
              "      <th>AAACCCAAGTACAACA-3</th>\n",
              "      <td>Mixed Mesoderm</td>\n",
              "    </tr>\n",
              "    <tr>\n",
              "      <th>AAACCCAGTACACTCA-3</th>\n",
              "      <td>Blood</td>\n",
              "    </tr>\n",
              "    <tr>\n",
              "      <th>AAACCCATCGAAGCAG-3</th>\n",
              "      <td>Neural Tube</td>\n",
              "    </tr>\n",
              "    <tr>\n",
              "      <th>AAACGAAAGGAAACGA-3</th>\n",
              "      <td>Mixed Mesoderm</td>\n",
              "    </tr>\n",
              "    <tr>\n",
              "      <th>AAACGAACACATGGTT-3</th>\n",
              "      <td>Pharyngeal Mesoderm</td>\n",
              "    </tr>\n",
              "  </tbody>\n",
              "</table>\n",
              "</div>\n",
              "      <button class=\"colab-df-convert\" onclick=\"convertToInteractive('df-ead4cebb-c6b3-42f3-9def-709877d72bfa')\"\n",
              "              title=\"Convert this dataframe to an interactive table.\"\n",
              "              style=\"display:none;\">\n",
              "        \n",
              "  <svg xmlns=\"http://www.w3.org/2000/svg\" height=\"24px\"viewBox=\"0 0 24 24\"\n",
              "       width=\"24px\">\n",
              "    <path d=\"M0 0h24v24H0V0z\" fill=\"none\"/>\n",
              "    <path d=\"M18.56 5.44l.94 2.06.94-2.06 2.06-.94-2.06-.94-.94-2.06-.94 2.06-2.06.94zm-11 1L8.5 8.5l.94-2.06 2.06-.94-2.06-.94L8.5 2.5l-.94 2.06-2.06.94zm10 10l.94 2.06.94-2.06 2.06-.94-2.06-.94-.94-2.06-.94 2.06-2.06.94z\"/><path d=\"M17.41 7.96l-1.37-1.37c-.4-.4-.92-.59-1.43-.59-.52 0-1.04.2-1.43.59L10.3 9.45l-7.72 7.72c-.78.78-.78 2.05 0 2.83L4 21.41c.39.39.9.59 1.41.59.51 0 1.02-.2 1.41-.59l7.78-7.78 2.81-2.81c.8-.78.8-2.07 0-2.86zM5.41 20L4 18.59l7.72-7.72 1.47 1.35L5.41 20z\"/>\n",
              "  </svg>\n",
              "      </button>\n",
              "      \n",
              "  <style>\n",
              "    .colab-df-container {\n",
              "      display:flex;\n",
              "      flex-wrap:wrap;\n",
              "      gap: 12px;\n",
              "    }\n",
              "\n",
              "    .colab-df-convert {\n",
              "      background-color: #E8F0FE;\n",
              "      border: none;\n",
              "      border-radius: 50%;\n",
              "      cursor: pointer;\n",
              "      display: none;\n",
              "      fill: #1967D2;\n",
              "      height: 32px;\n",
              "      padding: 0 0 0 0;\n",
              "      width: 32px;\n",
              "    }\n",
              "\n",
              "    .colab-df-convert:hover {\n",
              "      background-color: #E2EBFA;\n",
              "      box-shadow: 0px 1px 2px rgba(60, 64, 67, 0.3), 0px 1px 3px 1px rgba(60, 64, 67, 0.15);\n",
              "      fill: #174EA6;\n",
              "    }\n",
              "\n",
              "    [theme=dark] .colab-df-convert {\n",
              "      background-color: #3B4455;\n",
              "      fill: #D2E3FC;\n",
              "    }\n",
              "\n",
              "    [theme=dark] .colab-df-convert:hover {\n",
              "      background-color: #434B5C;\n",
              "      box-shadow: 0px 1px 3px 1px rgba(0, 0, 0, 0.15);\n",
              "      filter: drop-shadow(0px 1px 2px rgba(0, 0, 0, 0.3));\n",
              "      fill: #FFFFFF;\n",
              "    }\n",
              "  </style>\n",
              "\n",
              "      <script>\n",
              "        const buttonEl =\n",
              "          document.querySelector('#df-ead4cebb-c6b3-42f3-9def-709877d72bfa button.colab-df-convert');\n",
              "        buttonEl.style.display =\n",
              "          google.colab.kernel.accessAllowed ? 'block' : 'none';\n",
              "\n",
              "        async function convertToInteractive(key) {\n",
              "          const element = document.querySelector('#df-ead4cebb-c6b3-42f3-9def-709877d72bfa');\n",
              "          const dataTable =\n",
              "            await google.colab.kernel.invokeFunction('convertToInteractive',\n",
              "                                                     [key], {});\n",
              "          if (!dataTable) return;\n",
              "\n",
              "          const docLinkHtml = 'Like what you see? Visit the ' +\n",
              "            '<a target=\"_blank\" href=https://colab.research.google.com/notebooks/data_table.ipynb>data table notebook</a>'\n",
              "            + ' to learn more about interactive tables.';\n",
              "          element.innerHTML = '';\n",
              "          dataTable['output_type'] = 'display_data';\n",
              "          await google.colab.output.renderOutput(dataTable, element);\n",
              "          const docLink = document.createElement('div');\n",
              "          docLink.innerHTML = docLinkHtml;\n",
              "          element.appendChild(docLink);\n",
              "        }\n",
              "      </script>\n",
              "    </div>\n",
              "  </div>\n",
              "  "
            ]
          },
          "metadata": {},
          "execution_count": 4
        }
      ]
    },
    {
      "cell_type": "code",
      "metadata": {
        "id": "M5je0CyVN4DN",
        "colab": {
          "base_uri": "https://localhost:8080/",
          "height": 206
        },
        "outputId": "b4384d66-42eb-46d4-adab-517b5940ec42"
      },
      "source": [
        "#Get metadata dataframe for the 2,000 genes (columns of the matrix)\n",
        "\n",
        "meta_gene = pd.read_csv('gene_metadata.csv',index_col = 0)\n",
        "meta_gene.head()\n"
      ],
      "execution_count": null,
      "outputs": [
        {
          "output_type": "execute_result",
          "data": {
            "text/plain": [
              "  gene_name\n",
              "0     Sox17\n",
              "1    Lypla1\n",
              "2      Sgk3\n",
              "3      Xkr9\n",
              "4      Bag2"
            ],
            "text/html": [
              "\n",
              "  <div id=\"df-aa9ed9c4-dcff-4ede-8684-94ce44e0968b\">\n",
              "    <div class=\"colab-df-container\">\n",
              "      <div>\n",
              "<style scoped>\n",
              "    .dataframe tbody tr th:only-of-type {\n",
              "        vertical-align: middle;\n",
              "    }\n",
              "\n",
              "    .dataframe tbody tr th {\n",
              "        vertical-align: top;\n",
              "    }\n",
              "\n",
              "    .dataframe thead th {\n",
              "        text-align: right;\n",
              "    }\n",
              "</style>\n",
              "<table border=\"1\" class=\"dataframe\">\n",
              "  <thead>\n",
              "    <tr style=\"text-align: right;\">\n",
              "      <th></th>\n",
              "      <th>gene_name</th>\n",
              "    </tr>\n",
              "  </thead>\n",
              "  <tbody>\n",
              "    <tr>\n",
              "      <th>0</th>\n",
              "      <td>Sox17</td>\n",
              "    </tr>\n",
              "    <tr>\n",
              "      <th>1</th>\n",
              "      <td>Lypla1</td>\n",
              "    </tr>\n",
              "    <tr>\n",
              "      <th>2</th>\n",
              "      <td>Sgk3</td>\n",
              "    </tr>\n",
              "    <tr>\n",
              "      <th>3</th>\n",
              "      <td>Xkr9</td>\n",
              "    </tr>\n",
              "    <tr>\n",
              "      <th>4</th>\n",
              "      <td>Bag2</td>\n",
              "    </tr>\n",
              "  </tbody>\n",
              "</table>\n",
              "</div>\n",
              "      <button class=\"colab-df-convert\" onclick=\"convertToInteractive('df-aa9ed9c4-dcff-4ede-8684-94ce44e0968b')\"\n",
              "              title=\"Convert this dataframe to an interactive table.\"\n",
              "              style=\"display:none;\">\n",
              "        \n",
              "  <svg xmlns=\"http://www.w3.org/2000/svg\" height=\"24px\"viewBox=\"0 0 24 24\"\n",
              "       width=\"24px\">\n",
              "    <path d=\"M0 0h24v24H0V0z\" fill=\"none\"/>\n",
              "    <path d=\"M18.56 5.44l.94 2.06.94-2.06 2.06-.94-2.06-.94-.94-2.06-.94 2.06-2.06.94zm-11 1L8.5 8.5l.94-2.06 2.06-.94-2.06-.94L8.5 2.5l-.94 2.06-2.06.94zm10 10l.94 2.06.94-2.06 2.06-.94-2.06-.94-.94-2.06-.94 2.06-2.06.94z\"/><path d=\"M17.41 7.96l-1.37-1.37c-.4-.4-.92-.59-1.43-.59-.52 0-1.04.2-1.43.59L10.3 9.45l-7.72 7.72c-.78.78-.78 2.05 0 2.83L4 21.41c.39.39.9.59 1.41.59.51 0 1.02-.2 1.41-.59l7.78-7.78 2.81-2.81c.8-.78.8-2.07 0-2.86zM5.41 20L4 18.59l7.72-7.72 1.47 1.35L5.41 20z\"/>\n",
              "  </svg>\n",
              "      </button>\n",
              "      \n",
              "  <style>\n",
              "    .colab-df-container {\n",
              "      display:flex;\n",
              "      flex-wrap:wrap;\n",
              "      gap: 12px;\n",
              "    }\n",
              "\n",
              "    .colab-df-convert {\n",
              "      background-color: #E8F0FE;\n",
              "      border: none;\n",
              "      border-radius: 50%;\n",
              "      cursor: pointer;\n",
              "      display: none;\n",
              "      fill: #1967D2;\n",
              "      height: 32px;\n",
              "      padding: 0 0 0 0;\n",
              "      width: 32px;\n",
              "    }\n",
              "\n",
              "    .colab-df-convert:hover {\n",
              "      background-color: #E2EBFA;\n",
              "      box-shadow: 0px 1px 2px rgba(60, 64, 67, 0.3), 0px 1px 3px 1px rgba(60, 64, 67, 0.15);\n",
              "      fill: #174EA6;\n",
              "    }\n",
              "\n",
              "    [theme=dark] .colab-df-convert {\n",
              "      background-color: #3B4455;\n",
              "      fill: #D2E3FC;\n",
              "    }\n",
              "\n",
              "    [theme=dark] .colab-df-convert:hover {\n",
              "      background-color: #434B5C;\n",
              "      box-shadow: 0px 1px 3px 1px rgba(0, 0, 0, 0.15);\n",
              "      filter: drop-shadow(0px 1px 2px rgba(0, 0, 0, 0.3));\n",
              "      fill: #FFFFFF;\n",
              "    }\n",
              "  </style>\n",
              "\n",
              "      <script>\n",
              "        const buttonEl =\n",
              "          document.querySelector('#df-aa9ed9c4-dcff-4ede-8684-94ce44e0968b button.colab-df-convert');\n",
              "        buttonEl.style.display =\n",
              "          google.colab.kernel.accessAllowed ? 'block' : 'none';\n",
              "\n",
              "        async function convertToInteractive(key) {\n",
              "          const element = document.querySelector('#df-aa9ed9c4-dcff-4ede-8684-94ce44e0968b');\n",
              "          const dataTable =\n",
              "            await google.colab.kernel.invokeFunction('convertToInteractive',\n",
              "                                                     [key], {});\n",
              "          if (!dataTable) return;\n",
              "\n",
              "          const docLinkHtml = 'Like what you see? Visit the ' +\n",
              "            '<a target=\"_blank\" href=https://colab.research.google.com/notebooks/data_table.ipynb>data table notebook</a>'\n",
              "            + ' to learn more about interactive tables.';\n",
              "          element.innerHTML = '';\n",
              "          dataTable['output_type'] = 'display_data';\n",
              "          await google.colab.output.renderOutput(dataTable, element);\n",
              "          const docLink = document.createElement('div');\n",
              "          docLink.innerHTML = docLinkHtml;\n",
              "          element.appendChild(docLink);\n",
              "        }\n",
              "      </script>\n",
              "    </div>\n",
              "  </div>\n",
              "  "
            ]
          },
          "metadata": {},
          "execution_count": 5
        }
      ]
    },
    {
      "cell_type": "markdown",
      "source": [
        "## **Problem 3 (40 points)**"
      ],
      "metadata": {
        "id": "BSNL7Tr7g2z_"
      }
    },
    {
      "cell_type": "markdown",
      "source": [
        "### **a) Calculate the $t$ statistic (for two-samples with unequal sizes) for each gene, between cell types 'Cardiac' and 'Neural Tube'. Subset the count matrix for *only genes that have nonzero variances* in the 'Cardiac' or 'Neural Tube' cell types. (This will avoid nan outputs) (10 points)** 'Zero variance genes' are the union of genes with 0 variance in either cell type.\n",
        "\n",
        "**We will be working only with the subsetted genes for the rest of Problem 3. You do not need to exponentiate the counts for filtering as we are now using the variance-stabilized version of the counts.*"
      ],
      "metadata": {
        "id": "49ekjwPBijRu"
      }
    },
    {
      "cell_type": "markdown",
      "source": [
        "Given two cell types (1 and 2), we will denote all expression values of gene $g$ in cell type 1 as $X^g_1$, and likewise $X^g_2$ for cell type 2.\n",
        "\n",
        "We will calculate a two-sample $t^g$ statistic between cell types 1 and 2 for gene $g$:\n",
        "\n",
        "\\begin{align}\n",
        "{\\displaystyle t^g={\\frac {{\\bar {X}}^g_{1}-{\\bar {X}}^g_{2}}{s^g_{p}\\cdot {\\sqrt {{\\frac {1}{n_{1}}}+{\\frac {1}{n_{2}}}}}}}}\n",
        "\\end{align} where\n",
        "\\begin{align}\n",
        "{\\displaystyle s^g_{p}={\\sqrt {\\frac {\\left(n_{1}-1\\right)s_{X^g_{1}}^{2}+\\left(n_{2}-1\\right)s_{X^g_{2}}^{2}}{n_{1}+n_{2}-2}}}}\n",
        "\\end{align} and is comprised of the standard deviations $s$ of $X^g_1$ and $X^g_2$, and the sizes of cell types 1 and 2 ($n_1 , n_2$). $\\bar{X}^g_1$ denotes the average expression for gene $g$ in cell type 1.\n",
        "\n",
        "**Calculate $t$ values for all genes (after subsetting). Report (1) how many genes remain after subsetting and (2) the $t$ values for the genes Sox17, Lypla1, Sgk3, Bag2.**"
      ],
      "metadata": {
        "id": "7xIz6V2NjIK7"
      }
    },
    {
      "cell_type": "code",
      "source": [],
      "metadata": {
        "id": "nH5fJ6YMqKok"
      },
      "execution_count": null,
      "outputs": []
    },
    {
      "cell_type": "markdown",
      "source": [
        "### **b) Given the $t$ values in a), find their corresponding *p*-values based on the Student's $t$ distribution. (5 points)**"
      ],
      "metadata": {
        "id": "J23--G3NqLPg"
      }
    },
    {
      "cell_type": "markdown",
      "source": [
        "**To obtain *p*-values:** \n",
        "\n",
        "You are calculating the likelihood (or how unlikely) your $t$ value is given the $t$-distribution (i.e. assuming the groups come from the same population). For this you can use the cdf feature from the [scipy stats t distribution](https://docs.scipy.org/doc/scipy/reference/generated/scipy.stats.t.html).\n",
        "\n",
        "\n",
        "Remember that the CDF calculates the probability of seeing a value less than or equal to your $t$ (or abs($t$)). Thus you will need 1 minus the CDF value to find the likelihood of being more extreme. Likewise, since we are interested in whether the two means are different (meaning smaller *or* greater than the other), we will need a two-tailed test i.e. how likely it is to have a more extreme $t$ in both directions  or **2*(1-CDF)**.\n",
        "\n",
        "\n"
      ],
      "metadata": {
        "id": "Ec2d9JkzlE8b"
      }
    },
    {
      "cell_type": "markdown",
      "source": [
        "For the degrees of freedom of the $t$-statistic note that since $n_i − 1$ is the number of degrees of freedom for each group, the degrees of freedom for the total sample is $n_1 + n_2 − 2$."
      ],
      "metadata": {
        "id": "OG19jQhgrE0d"
      }
    },
    {
      "cell_type": "markdown",
      "source": [
        "**Report the $p$-values for the same genes Sox17, Lypla1, Sgk3, Bag2.**"
      ],
      "metadata": {
        "id": "qqQUdGfKmOEd"
      }
    },
    {
      "cell_type": "code",
      "source": [],
      "metadata": {
        "id": "EQBe9_ZizW84"
      },
      "execution_count": null,
      "outputs": []
    },
    {
      "cell_type": "markdown",
      "source": [
        "### **c) Use the Bonferroni correction method to correct the $p$-values for multiple testing. (5 points)**\n",
        "\n",
        "Since you have calculated $t$-tests for every gene $g$, you will need to correct your $p$-values to adjust for the likelihood of a positive/significant result just by virtue of the number of tests you've done. We can either adjust the $p$-values themselves, or adjust our significance cutoff.\n",
        "\n",
        "Here we will use a significance/$p$-value cutoff of $\\alpha=$0.05 (5%), where $p \\le \\alpha$ when $\\bar{X}^g_1 = \\bar{X}^g_2$ (the null $H_0$) is rejected. \n",
        "\n",
        "The Bonferroni correction adjusts this to $\\alpha/n$ where $n$ is the number of comparisons/tests made."
      ],
      "metadata": {
        "id": "og5Ed6EvriQz"
      }
    },
    {
      "cell_type": "markdown",
      "source": [
        "**Report the corrected $\\alpha$ cutoff and how many genes' $p$-values were below the cutoff *(1) before* and *(2) after* the Bonferroni correction.**"
      ],
      "metadata": {
        "id": "JKWMolcovOKm"
      }
    },
    {
      "cell_type": "code",
      "source": [],
      "metadata": {
        "id": "-_CEOARhg5v0"
      },
      "execution_count": null,
      "outputs": []
    },
    {
      "cell_type": "markdown",
      "source": [
        "### **d) Make a volcano plot for all genes (one plot total). A volcano plot has the $p$-values on the y axis and log2(FC) (FC is fold change) on the x axis. (5 points)**\n",
        "\n",
        "Fold change will be the **ratio of the average gene expression in one cell type to the other**. In this case do 'Cardiac'/'Neural Tube' expression.\n",
        "\n",
        "You can also plot -log10($p$-value) for the y-axis instead of the raw $p$-values (which may be very small). After this transformation, larger $p$-values are more significant."
      ],
      "metadata": {
        "id": "rXk28VFGveJr"
      }
    },
    {
      "cell_type": "code",
      "source": [],
      "metadata": {
        "id": "yz3l_aG5w00O"
      },
      "execution_count": null,
      "outputs": []
    },
    {
      "cell_type": "markdown",
      "source": [
        "### **e) Use the Mann-Whitney (non-parametric) $U$-test to find $p$-values for genes with significantly different expression between the two cell types. Report the percent of significant genes from this test that overlap with those from the $t$-test in c) (both after Bonferroni correction). (5 points)**\n",
        "\n",
        "The Mann-Whitney $U$ test is a non-parametric test, which uses the $U$ statistic (as opposed to the $t$ statistic) to essentially count how many pairs of observations between $X^g_1$ and $X^g_2$ have one value greater than, equal to, and less than the other. This tests for whether the probability that a value from $X^g_1$ exceeds a value in $X^g_2$ is the same as the probability that a value from $X^g_2$ exceeds a value in $X^g_1$ i.e. $H_0: P(X^g_1 > X^g_2) = P(X^g_2 > X^g_1)$ and $H_1: P(X^g_1 > X^g_2) ≠ P(X^g_2 > X^g_1)$. Under the null hypothesis, the distribution of $U$ is normal. \n",
        "\n",
        "You can use the scipy package directly for this test, [scipy Mann-Whitney U](https://docs.scipy.org/doc/scipy/reference/generated/scipy.stats.mannwhitneyu.html), which will calculate both the $U$ value and $p$-value for the two sets of observations you input."
      ],
      "metadata": {
        "id": "dg3aKSUCw1nI"
      }
    },
    {
      "cell_type": "code",
      "source": [],
      "metadata": {
        "id": "eFC8bhaGxcnn"
      },
      "execution_count": null,
      "outputs": []
    },
    {
      "cell_type": "markdown",
      "source": [
        "### **f) Make a volcano plot for your results in e) ($U$ test, comparison between cell types 'Cardiac' and 'Neural Tube'). Select a gene you believe has a significant $p$-value and substantial fold change (FC).** \n",
        "###**Report the (1) $p$-value and log2FC for the gene, (2) color this gene on your volcano plot, and (3) briefly describe the function of this gene.  (5 points)**"
      ],
      "metadata": {
        "id": "UEZ0du99yR0_"
      }
    },
    {
      "cell_type": "code",
      "source": [],
      "metadata": {
        "id": "4I-93W2tyRI6"
      },
      "execution_count": null,
      "outputs": []
    },
    {
      "cell_type": "markdown",
      "source": [
        "### **g) As a negative control, randomly sample two groups of cells from cell type 'Cardiac' (each group the size of half of cell type 'Cardiac'). Perform a $t$-test as in a-b on all genes, treating the two groups as two cell types. Report the minimum $p$-value you obtain from this testing. (5 points)**\n",
        "**Re-run the subsetting in a) to remove genes with zero variance in either of the two cell groups (from the set of already subsetted genes).*"
      ],
      "metadata": {
        "id": "7HwOnMukzHvT"
      }
    },
    {
      "cell_type": "code",
      "source": [],
      "metadata": {
        "id": "GEKvDHNI0NbM"
      },
      "execution_count": null,
      "outputs": []
    }
  ]
}