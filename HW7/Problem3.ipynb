{
  "nbformat": 4,
  "nbformat_minor": 0,
  "metadata": {
    "colab": {
      "provenance": [],
      "include_colab_link": true
    },
    "kernelspec": {
      "name": "python3",
      "display_name": "Python 3"
    },
    "language_info": {
      "name": "python"
    },
    "widgets": {
      "application/vnd.jupyter.widget-state+json": {
        "318fdcfd76a643a1be4b014853128242": {
          "model_module": "@jupyter-widgets/controls",
          "model_name": "HBoxModel",
          "model_module_version": "1.5.0",
          "state": {
            "_dom_classes": [],
            "_model_module": "@jupyter-widgets/controls",
            "_model_module_version": "1.5.0",
            "_model_name": "HBoxModel",
            "_view_count": null,
            "_view_module": "@jupyter-widgets/controls",
            "_view_module_version": "1.5.0",
            "_view_name": "HBoxView",
            "box_style": "",
            "children": [
              "IPY_MODEL_4dbdad973e03470cafbd53afaa70a0e9",
              "IPY_MODEL_4e70852a724e40aca2f1435ee67825a9",
              "IPY_MODEL_1058b9cf1df44863bd6d96370896dc34"
            ],
            "layout": "IPY_MODEL_f52da7f27b3845a79e211a67d0b62dc5"
          }
        },
        "4dbdad973e03470cafbd53afaa70a0e9": {
          "model_module": "@jupyter-widgets/controls",
          "model_name": "HTMLModel",
          "model_module_version": "1.5.0",
          "state": {
            "_dom_classes": [],
            "_model_module": "@jupyter-widgets/controls",
            "_model_module_version": "1.5.0",
            "_model_name": "HTMLModel",
            "_view_count": null,
            "_view_module": "@jupyter-widgets/controls",
            "_view_module_version": "1.5.0",
            "_view_name": "HTMLView",
            "description": "",
            "description_tooltip": null,
            "layout": "IPY_MODEL_78b7434a59b14fda96ceca3a85648432",
            "placeholder": "​",
            "style": "IPY_MODEL_60db239cadbd4a7293e14d90e4bde2fb",
            "value": ""
          }
        },
        "4e70852a724e40aca2f1435ee67825a9": {
          "model_module": "@jupyter-widgets/controls",
          "model_name": "FloatProgressModel",
          "model_module_version": "1.5.0",
          "state": {
            "_dom_classes": [],
            "_model_module": "@jupyter-widgets/controls",
            "_model_module_version": "1.5.0",
            "_model_name": "FloatProgressModel",
            "_view_count": null,
            "_view_module": "@jupyter-widgets/controls",
            "_view_module_version": "1.5.0",
            "_view_name": "ProgressView",
            "bar_style": "success",
            "description": "",
            "description_tooltip": null,
            "layout": "IPY_MODEL_69024fc6da844498a352d8ea160d15e0",
            "max": 6617,
            "min": 0,
            "orientation": "horizontal",
            "style": "IPY_MODEL_950cf9452ad34940ba9abe3f17c272da",
            "value": 6617
          }
        },
        "1058b9cf1df44863bd6d96370896dc34": {
          "model_module": "@jupyter-widgets/controls",
          "model_name": "HTMLModel",
          "model_module_version": "1.5.0",
          "state": {
            "_dom_classes": [],
            "_model_module": "@jupyter-widgets/controls",
            "_model_module_version": "1.5.0",
            "_model_name": "HTMLModel",
            "_view_count": null,
            "_view_module": "@jupyter-widgets/controls",
            "_view_module_version": "1.5.0",
            "_view_name": "HTMLView",
            "description": "",
            "description_tooltip": null,
            "layout": "IPY_MODEL_ab6da60f26d5466d8f3e5659038a13a9",
            "placeholder": "​",
            "style": "IPY_MODEL_bd9e98347bb749c391239a1309fce8b4",
            "value": " 6618/? [00:32&lt;00:00, 14139.57B/s]"
          }
        },
        "f52da7f27b3845a79e211a67d0b62dc5": {
          "model_module": "@jupyter-widgets/base",
          "model_name": "LayoutModel",
          "model_module_version": "1.2.0",
          "state": {
            "_model_module": "@jupyter-widgets/base",
            "_model_module_version": "1.2.0",
            "_model_name": "LayoutModel",
            "_view_count": null,
            "_view_module": "@jupyter-widgets/base",
            "_view_module_version": "1.2.0",
            "_view_name": "LayoutView",
            "align_content": null,
            "align_items": null,
            "align_self": null,
            "border": null,
            "bottom": null,
            "display": null,
            "flex": null,
            "flex_flow": null,
            "grid_area": null,
            "grid_auto_columns": null,
            "grid_auto_flow": null,
            "grid_auto_rows": null,
            "grid_column": null,
            "grid_gap": null,
            "grid_row": null,
            "grid_template_areas": null,
            "grid_template_columns": null,
            "grid_template_rows": null,
            "height": null,
            "justify_content": null,
            "justify_items": null,
            "left": null,
            "margin": null,
            "max_height": null,
            "max_width": null,
            "min_height": null,
            "min_width": null,
            "object_fit": null,
            "object_position": null,
            "order": null,
            "overflow": null,
            "overflow_x": null,
            "overflow_y": null,
            "padding": null,
            "right": null,
            "top": null,
            "visibility": null,
            "width": null
          }
        },
        "78b7434a59b14fda96ceca3a85648432": {
          "model_module": "@jupyter-widgets/base",
          "model_name": "LayoutModel",
          "model_module_version": "1.2.0",
          "state": {
            "_model_module": "@jupyter-widgets/base",
            "_model_module_version": "1.2.0",
            "_model_name": "LayoutModel",
            "_view_count": null,
            "_view_module": "@jupyter-widgets/base",
            "_view_module_version": "1.2.0",
            "_view_name": "LayoutView",
            "align_content": null,
            "align_items": null,
            "align_self": null,
            "border": null,
            "bottom": null,
            "display": null,
            "flex": null,
            "flex_flow": null,
            "grid_area": null,
            "grid_auto_columns": null,
            "grid_auto_flow": null,
            "grid_auto_rows": null,
            "grid_column": null,
            "grid_gap": null,
            "grid_row": null,
            "grid_template_areas": null,
            "grid_template_columns": null,
            "grid_template_rows": null,
            "height": null,
            "justify_content": null,
            "justify_items": null,
            "left": null,
            "margin": null,
            "max_height": null,
            "max_width": null,
            "min_height": null,
            "min_width": null,
            "object_fit": null,
            "object_position": null,
            "order": null,
            "overflow": null,
            "overflow_x": null,
            "overflow_y": null,
            "padding": null,
            "right": null,
            "top": null,
            "visibility": null,
            "width": null
          }
        },
        "60db239cadbd4a7293e14d90e4bde2fb": {
          "model_module": "@jupyter-widgets/controls",
          "model_name": "DescriptionStyleModel",
          "model_module_version": "1.5.0",
          "state": {
            "_model_module": "@jupyter-widgets/controls",
            "_model_module_version": "1.5.0",
            "_model_name": "DescriptionStyleModel",
            "_view_count": null,
            "_view_module": "@jupyter-widgets/base",
            "_view_module_version": "1.2.0",
            "_view_name": "StyleView",
            "description_width": ""
          }
        },
        "69024fc6da844498a352d8ea160d15e0": {
          "model_module": "@jupyter-widgets/base",
          "model_name": "LayoutModel",
          "model_module_version": "1.2.0",
          "state": {
            "_model_module": "@jupyter-widgets/base",
            "_model_module_version": "1.2.0",
            "_model_name": "LayoutModel",
            "_view_count": null,
            "_view_module": "@jupyter-widgets/base",
            "_view_module_version": "1.2.0",
            "_view_name": "LayoutView",
            "align_content": null,
            "align_items": null,
            "align_self": null,
            "border": null,
            "bottom": null,
            "display": null,
            "flex": null,
            "flex_flow": null,
            "grid_area": null,
            "grid_auto_columns": null,
            "grid_auto_flow": null,
            "grid_auto_rows": null,
            "grid_column": null,
            "grid_gap": null,
            "grid_row": null,
            "grid_template_areas": null,
            "grid_template_columns": null,
            "grid_template_rows": null,
            "height": null,
            "justify_content": null,
            "justify_items": null,
            "left": null,
            "margin": null,
            "max_height": null,
            "max_width": null,
            "min_height": null,
            "min_width": null,
            "object_fit": null,
            "object_position": null,
            "order": null,
            "overflow": null,
            "overflow_x": null,
            "overflow_y": null,
            "padding": null,
            "right": null,
            "top": null,
            "visibility": null,
            "width": null
          }
        },
        "950cf9452ad34940ba9abe3f17c272da": {
          "model_module": "@jupyter-widgets/controls",
          "model_name": "ProgressStyleModel",
          "model_module_version": "1.5.0",
          "state": {
            "_model_module": "@jupyter-widgets/controls",
            "_model_module_version": "1.5.0",
            "_model_name": "ProgressStyleModel",
            "_view_count": null,
            "_view_module": "@jupyter-widgets/base",
            "_view_module_version": "1.2.0",
            "_view_name": "StyleView",
            "bar_color": null,
            "description_width": ""
          }
        },
        "ab6da60f26d5466d8f3e5659038a13a9": {
          "model_module": "@jupyter-widgets/base",
          "model_name": "LayoutModel",
          "model_module_version": "1.2.0",
          "state": {
            "_model_module": "@jupyter-widgets/base",
            "_model_module_version": "1.2.0",
            "_model_name": "LayoutModel",
            "_view_count": null,
            "_view_module": "@jupyter-widgets/base",
            "_view_module_version": "1.2.0",
            "_view_name": "LayoutView",
            "align_content": null,
            "align_items": null,
            "align_self": null,
            "border": null,
            "bottom": null,
            "display": null,
            "flex": null,
            "flex_flow": null,
            "grid_area": null,
            "grid_auto_columns": null,
            "grid_auto_flow": null,
            "grid_auto_rows": null,
            "grid_column": null,
            "grid_gap": null,
            "grid_row": null,
            "grid_template_areas": null,
            "grid_template_columns": null,
            "grid_template_rows": null,
            "height": null,
            "justify_content": null,
            "justify_items": null,
            "left": null,
            "margin": null,
            "max_height": null,
            "max_width": null,
            "min_height": null,
            "min_width": null,
            "object_fit": null,
            "object_position": null,
            "order": null,
            "overflow": null,
            "overflow_x": null,
            "overflow_y": null,
            "padding": null,
            "right": null,
            "top": null,
            "visibility": null,
            "width": null
          }
        },
        "bd9e98347bb749c391239a1309fce8b4": {
          "model_module": "@jupyter-widgets/controls",
          "model_name": "DescriptionStyleModel",
          "model_module_version": "1.5.0",
          "state": {
            "_model_module": "@jupyter-widgets/controls",
            "_model_module_version": "1.5.0",
            "_model_name": "DescriptionStyleModel",
            "_view_count": null,
            "_view_module": "@jupyter-widgets/base",
            "_view_module_version": "1.2.0",
            "_view_name": "StyleView",
            "description_width": ""
          }
        }
      }
    }
  },
  "cells": [
    {
      "cell_type": "markdown",
      "metadata": {
        "id": "view-in-github",
        "colab_type": "text"
      },
      "source": [
        "<a href=\"https://colab.research.google.com/github/CPukszta/BI-BE-CS-183-2023/blob/main/HW7/Problem3.ipynb\" target=\"_parent\"><img src=\"https://colab.research.google.com/assets/colab-badge.svg\" alt=\"Open In Colab\"/></a>"
      ]
    },
    {
      "cell_type": "markdown",
      "metadata": {
        "id": "MozW3XxY8ezr"
      },
      "source": [
        "Bi/Be/Cs 183 2022-2023: Intro to Computational Biology\n",
        "TAs: Meichen Fang, Tara Chari, Zitong (Jerry) Wang\n",
        "\n",
        "**Submit your notebooks by sharing a clickable link with Viewer access. Link must be accessible from submitted assignment document.**\n",
        "\n",
        "Make sure Runtime $\\rightarrow$ Restart and run all works without error"
      ]
    },
    {
      "cell_type": "markdown",
      "source": [
        "**HW 7 Problem 3**\n",
        "\n",
        "In this problem you will be using various tests to look for differential expression between cells in different cell types. This will involve comparing means between different cell populations across genes, determining gene candidates with 'significant' differences in expression, and gauging how accurate or trustworthy such results are.\n"
      ],
      "metadata": {
        "id": "Mu4obGyqS8fh"
      }
    },
    {
      "cell_type": "markdown",
      "source": [
        "##**Import data and install packages**"
      ],
      "metadata": {
        "id": "fJ8J92ntz2rk"
      }
    },
    {
      "cell_type": "code",
      "execution_count": 1,
      "metadata": {
        "id": "rjy8W5hly24q"
      },
      "outputs": [],
      "source": [
        "import numpy as np\n",
        "import scipy.io as sio\n",
        "import pandas as pd\n",
        "import matplotlib.pyplot as plt #Can use other plotting packages like seaborn\n",
        "\n",
        "\n",
        "import bokeh.io\n",
        "import bokeh.plotting\n",
        "\n",
        "bokeh.io.output_notebook()"
      ]
    },
    {
      "cell_type": "code",
      "metadata": {
        "id": "yH-EpSmB9Y_x",
        "colab": {
          "base_uri": "https://localhost:8080/",
          "height": 195,
          "referenced_widgets": [
            "318fdcfd76a643a1be4b014853128242",
            "4dbdad973e03470cafbd53afaa70a0e9",
            "4e70852a724e40aca2f1435ee67825a9",
            "1058b9cf1df44863bd6d96370896dc34",
            "f52da7f27b3845a79e211a67d0b62dc5",
            "78b7434a59b14fda96ceca3a85648432",
            "60db239cadbd4a7293e14d90e4bde2fb",
            "69024fc6da844498a352d8ea160d15e0",
            "950cf9452ad34940ba9abe3f17c272da",
            "ab6da60f26d5466d8f3e5659038a13a9",
            "bd9e98347bb749c391239a1309fce8b4"
          ]
        },
        "outputId": "4a3f1817-5272-4228-8c2b-1db41fe0bec9"
      },
      "source": [
        "#Download count matrix of cell by gene counts and metadata files, DOI: 10.22002/D1.20031\n",
        "\n",
        "import requests\n",
        "from tqdm import tnrange, tqdm_notebook\n",
        "def download_file(doi,ext):\n",
        "    url = 'https://api.datacite.org/dois/'+doi+'/media'\n",
        "    r = requests.get(url).json()\n",
        "    netcdf_url = r['data'][0]['attributes']['url']\n",
        "    r = requests.get(netcdf_url,stream=True)\n",
        "    #Set file name\n",
        "    fname = doi.split('/')[-1]+ext\n",
        "    #Download file with progress bar\n",
        "    if r.status_code == 403:\n",
        "        print(\"File Unavailable\")\n",
        "    if 'content-length' not in r.headers:\n",
        "        print(\"Did not get file\")\n",
        "    else:\n",
        "        with open(fname, 'wb') as f:\n",
        "            total_length = int(r.headers.get('content-length'))\n",
        "            pbar = tnrange(int(total_length/1024), unit=\"B\")\n",
        "            for chunk in r.iter_content(chunk_size=1024):\n",
        "                if chunk:\n",
        "                    pbar.update()\n",
        "                    f.write(chunk)\n",
        "        return fname\n",
        "\n",
        "download_file('10.22002/D1.20031','.tar.gz')\n",
        "\n",
        "!tar -xvf D1.20031.tar.gz"
      ],
      "execution_count": 2,
      "outputs": [
        {
          "output_type": "stream",
          "name": "stderr",
          "text": [
            "<ipython-input-2-07df2730af8c>:20: TqdmDeprecationWarning: Please use `tqdm.notebook.trange` instead of `tqdm.tnrange`\n",
            "  pbar = tnrange(int(total_length/1024), unit=\"B\")\n"
          ]
        },
        {
          "output_type": "display_data",
          "data": {
            "text/plain": [
              "  0%|          | 0/6617 [00:00<?, ?B/s]"
            ],
            "application/vnd.jupyter.widget-view+json": {
              "version_major": 2,
              "version_minor": 0,
              "model_id": "318fdcfd76a643a1be4b014853128242"
            }
          },
          "metadata": {}
        },
        {
          "output_type": "stream",
          "name": "stdout",
          "text": [
            "._cell_metadata.csv\n",
            "cell_metadata.csv\n",
            "._gene_metadata.csv\n",
            "gene_metadata.csv\n",
            "._exutero.mtx\n",
            "exutero.mtx\n"
          ]
        }
      ]
    },
    {
      "cell_type": "markdown",
      "source": [
        "## **Read in data for analysis**"
      ],
      "metadata": {
        "id": "PpeuucqgiDPx"
      }
    },
    {
      "cell_type": "markdown",
      "source": [
        "**The dataset**"
      ],
      "metadata": {
        "id": "swY2nSDukmXg"
      }
    },
    {
      "cell_type": "markdown",
      "source": [
        "Much of mammalian embryo development occurs after the embryo implants in the uterus, however this makes the embryo relatively inaccessible and thus hard to study. In [Aguilera-Castrejon et al., 2021](https://www.nature.com/articles/s41586-021-03416-3#Sec7), a cell culture platform was established to culture post-implantation embryos ex utero (outside the uterus) from pre-gastrulation until himdlimb formation (organogenesis).  Single-cell sequencing was done for both in utero and ex utero cultured mouse embryos, to compare development of the externally cultured cells.\n",
        "\n",
        "<center><img src=\"https://drive.google.com/uc?export=view&id=1b6BM_W5Nk2r31RdGE7-bKDuObQq279qh\" alt=\"EMFigure\" width=\"800\" height=\"350\"><center>\n"
      ],
      "metadata": {
        "id": "NKSN3bu8cQ3O"
      }
    },
    {
      "cell_type": "markdown",
      "source": [
        "**The count matrix**\n",
        "\n",
        "This matrix is 6,205 cells by 2,000 genes. We are only working with the ex-utero cultured mouse embryo cells here.\n",
        "\n",
        "1.   For each cell, gene counts were normalized to have the same number of total counts (usually 1e5 or 1e6), with cell-gene counts thus scaled accordingly.\n",
        "\n",
        "2.   Counts were then log-normalized, using the log(1+x), where x is each cell's gene count. The 1 accounts for 0 count genes. \n",
        "\n",
        "3. The top ~2000 genes were selected for those that displayed large variance in expression amongst the cells ('highly variable genes').\n",
        "\n"
      ],
      "metadata": {
        "id": "58nQkH9eko4-"
      }
    },
    {
      "cell_type": "code",
      "metadata": {
        "id": "tZ1h_dME8vJb",
        "colab": {
          "base_uri": "https://localhost:8080/",
          "height": 35
        },
        "outputId": "a7a41b57-503b-4ef3-97b5-bbbde6f92a28"
      },
      "source": [
        "#Get gene count matrix\n",
        "count_mat = sio.mmread('exutero.mtx')\n",
        "\n",
        "count_mat.shape"
      ],
      "execution_count": 3,
      "outputs": [
        {
          "output_type": "execute_result",
          "data": {
            "text/plain": [
              "(6205, 2000)"
            ]
          },
          "metadata": {},
          "execution_count": 3
        }
      ]
    },
    {
      "cell_type": "code",
      "metadata": {
        "id": "NFissu8VB92P",
        "colab": {
          "base_uri": "https://localhost:8080/",
          "height": 206
        },
        "outputId": "76a07fdf-1a92-4ba5-813f-772d876efc72"
      },
      "source": [
        "#Get metadata dataframe for the 6,205 cells (rows of the matrix)\n",
        "meta = pd.read_csv('cell_metadata.csv')\n",
        "meta.head()"
      ],
      "execution_count": 4,
      "outputs": [
        {
          "output_type": "execute_result",
          "data": {
            "text/plain": [
              "           Unnamed: 0            cell_type\n",
              "0  AAACCCAAGTACAACA-3       Mixed Mesoderm\n",
              "1  AAACCCAGTACACTCA-3                Blood\n",
              "2  AAACCCATCGAAGCAG-3          Neural Tube\n",
              "3  AAACGAAAGGAAACGA-3       Mixed Mesoderm\n",
              "4  AAACGAACACATGGTT-3  Pharyngeal Mesoderm"
            ],
            "text/html": [
              "\n",
              "  <div id=\"df-333c0afc-eccd-43d2-b7e4-9cf19d44136c\">\n",
              "    <div class=\"colab-df-container\">\n",
              "      <div>\n",
              "<style scoped>\n",
              "    .dataframe tbody tr th:only-of-type {\n",
              "        vertical-align: middle;\n",
              "    }\n",
              "\n",
              "    .dataframe tbody tr th {\n",
              "        vertical-align: top;\n",
              "    }\n",
              "\n",
              "    .dataframe thead th {\n",
              "        text-align: right;\n",
              "    }\n",
              "</style>\n",
              "<table border=\"1\" class=\"dataframe\">\n",
              "  <thead>\n",
              "    <tr style=\"text-align: right;\">\n",
              "      <th></th>\n",
              "      <th>Unnamed: 0</th>\n",
              "      <th>cell_type</th>\n",
              "    </tr>\n",
              "  </thead>\n",
              "  <tbody>\n",
              "    <tr>\n",
              "      <th>0</th>\n",
              "      <td>AAACCCAAGTACAACA-3</td>\n",
              "      <td>Mixed Mesoderm</td>\n",
              "    </tr>\n",
              "    <tr>\n",
              "      <th>1</th>\n",
              "      <td>AAACCCAGTACACTCA-3</td>\n",
              "      <td>Blood</td>\n",
              "    </tr>\n",
              "    <tr>\n",
              "      <th>2</th>\n",
              "      <td>AAACCCATCGAAGCAG-3</td>\n",
              "      <td>Neural Tube</td>\n",
              "    </tr>\n",
              "    <tr>\n",
              "      <th>3</th>\n",
              "      <td>AAACGAAAGGAAACGA-3</td>\n",
              "      <td>Mixed Mesoderm</td>\n",
              "    </tr>\n",
              "    <tr>\n",
              "      <th>4</th>\n",
              "      <td>AAACGAACACATGGTT-3</td>\n",
              "      <td>Pharyngeal Mesoderm</td>\n",
              "    </tr>\n",
              "  </tbody>\n",
              "</table>\n",
              "</div>\n",
              "      <button class=\"colab-df-convert\" onclick=\"convertToInteractive('df-333c0afc-eccd-43d2-b7e4-9cf19d44136c')\"\n",
              "              title=\"Convert this dataframe to an interactive table.\"\n",
              "              style=\"display:none;\">\n",
              "        \n",
              "  <svg xmlns=\"http://www.w3.org/2000/svg\" height=\"24px\"viewBox=\"0 0 24 24\"\n",
              "       width=\"24px\">\n",
              "    <path d=\"M0 0h24v24H0V0z\" fill=\"none\"/>\n",
              "    <path d=\"M18.56 5.44l.94 2.06.94-2.06 2.06-.94-2.06-.94-.94-2.06-.94 2.06-2.06.94zm-11 1L8.5 8.5l.94-2.06 2.06-.94-2.06-.94L8.5 2.5l-.94 2.06-2.06.94zm10 10l.94 2.06.94-2.06 2.06-.94-2.06-.94-.94-2.06-.94 2.06-2.06.94z\"/><path d=\"M17.41 7.96l-1.37-1.37c-.4-.4-.92-.59-1.43-.59-.52 0-1.04.2-1.43.59L10.3 9.45l-7.72 7.72c-.78.78-.78 2.05 0 2.83L4 21.41c.39.39.9.59 1.41.59.51 0 1.02-.2 1.41-.59l7.78-7.78 2.81-2.81c.8-.78.8-2.07 0-2.86zM5.41 20L4 18.59l7.72-7.72 1.47 1.35L5.41 20z\"/>\n",
              "  </svg>\n",
              "      </button>\n",
              "      \n",
              "  <style>\n",
              "    .colab-df-container {\n",
              "      display:flex;\n",
              "      flex-wrap:wrap;\n",
              "      gap: 12px;\n",
              "    }\n",
              "\n",
              "    .colab-df-convert {\n",
              "      background-color: #E8F0FE;\n",
              "      border: none;\n",
              "      border-radius: 50%;\n",
              "      cursor: pointer;\n",
              "      display: none;\n",
              "      fill: #1967D2;\n",
              "      height: 32px;\n",
              "      padding: 0 0 0 0;\n",
              "      width: 32px;\n",
              "    }\n",
              "\n",
              "    .colab-df-convert:hover {\n",
              "      background-color: #E2EBFA;\n",
              "      box-shadow: 0px 1px 2px rgba(60, 64, 67, 0.3), 0px 1px 3px 1px rgba(60, 64, 67, 0.15);\n",
              "      fill: #174EA6;\n",
              "    }\n",
              "\n",
              "    [theme=dark] .colab-df-convert {\n",
              "      background-color: #3B4455;\n",
              "      fill: #D2E3FC;\n",
              "    }\n",
              "\n",
              "    [theme=dark] .colab-df-convert:hover {\n",
              "      background-color: #434B5C;\n",
              "      box-shadow: 0px 1px 3px 1px rgba(0, 0, 0, 0.15);\n",
              "      filter: drop-shadow(0px 1px 2px rgba(0, 0, 0, 0.3));\n",
              "      fill: #FFFFFF;\n",
              "    }\n",
              "  </style>\n",
              "\n",
              "      <script>\n",
              "        const buttonEl =\n",
              "          document.querySelector('#df-333c0afc-eccd-43d2-b7e4-9cf19d44136c button.colab-df-convert');\n",
              "        buttonEl.style.display =\n",
              "          google.colab.kernel.accessAllowed ? 'block' : 'none';\n",
              "\n",
              "        async function convertToInteractive(key) {\n",
              "          const element = document.querySelector('#df-333c0afc-eccd-43d2-b7e4-9cf19d44136c');\n",
              "          const dataTable =\n",
              "            await google.colab.kernel.invokeFunction('convertToInteractive',\n",
              "                                                     [key], {});\n",
              "          if (!dataTable) return;\n",
              "\n",
              "          const docLinkHtml = 'Like what you see? Visit the ' +\n",
              "            '<a target=\"_blank\" href=https://colab.research.google.com/notebooks/data_table.ipynb>data table notebook</a>'\n",
              "            + ' to learn more about interactive tables.';\n",
              "          element.innerHTML = '';\n",
              "          dataTable['output_type'] = 'display_data';\n",
              "          await google.colab.output.renderOutput(dataTable, element);\n",
              "          const docLink = document.createElement('div');\n",
              "          docLink.innerHTML = docLinkHtml;\n",
              "          element.appendChild(docLink);\n",
              "        }\n",
              "      </script>\n",
              "    </div>\n",
              "  </div>\n",
              "  "
            ]
          },
          "metadata": {},
          "execution_count": 4
        }
      ]
    },
    {
      "cell_type": "code",
      "metadata": {
        "id": "M5je0CyVN4DN",
        "colab": {
          "base_uri": "https://localhost:8080/",
          "height": 206
        },
        "outputId": "84e54fd2-82e0-4f10-ed73-b054831eef74"
      },
      "source": [
        "#Get metadata dataframe for the 2,000 genes (columns of the matrix)\n",
        "\n",
        "meta_gene = pd.read_csv('gene_metadata.csv',index_col = 0)\n",
        "meta_gene.head()\n"
      ],
      "execution_count": 5,
      "outputs": [
        {
          "output_type": "execute_result",
          "data": {
            "text/plain": [
              "  gene_name\n",
              "0     Sox17\n",
              "1    Lypla1\n",
              "2      Sgk3\n",
              "3      Xkr9\n",
              "4      Bag2"
            ],
            "text/html": [
              "\n",
              "  <div id=\"df-f86b79e8-2ad0-4b3f-928d-88426590b72e\">\n",
              "    <div class=\"colab-df-container\">\n",
              "      <div>\n",
              "<style scoped>\n",
              "    .dataframe tbody tr th:only-of-type {\n",
              "        vertical-align: middle;\n",
              "    }\n",
              "\n",
              "    .dataframe tbody tr th {\n",
              "        vertical-align: top;\n",
              "    }\n",
              "\n",
              "    .dataframe thead th {\n",
              "        text-align: right;\n",
              "    }\n",
              "</style>\n",
              "<table border=\"1\" class=\"dataframe\">\n",
              "  <thead>\n",
              "    <tr style=\"text-align: right;\">\n",
              "      <th></th>\n",
              "      <th>gene_name</th>\n",
              "    </tr>\n",
              "  </thead>\n",
              "  <tbody>\n",
              "    <tr>\n",
              "      <th>0</th>\n",
              "      <td>Sox17</td>\n",
              "    </tr>\n",
              "    <tr>\n",
              "      <th>1</th>\n",
              "      <td>Lypla1</td>\n",
              "    </tr>\n",
              "    <tr>\n",
              "      <th>2</th>\n",
              "      <td>Sgk3</td>\n",
              "    </tr>\n",
              "    <tr>\n",
              "      <th>3</th>\n",
              "      <td>Xkr9</td>\n",
              "    </tr>\n",
              "    <tr>\n",
              "      <th>4</th>\n",
              "      <td>Bag2</td>\n",
              "    </tr>\n",
              "  </tbody>\n",
              "</table>\n",
              "</div>\n",
              "      <button class=\"colab-df-convert\" onclick=\"convertToInteractive('df-f86b79e8-2ad0-4b3f-928d-88426590b72e')\"\n",
              "              title=\"Convert this dataframe to an interactive table.\"\n",
              "              style=\"display:none;\">\n",
              "        \n",
              "  <svg xmlns=\"http://www.w3.org/2000/svg\" height=\"24px\"viewBox=\"0 0 24 24\"\n",
              "       width=\"24px\">\n",
              "    <path d=\"M0 0h24v24H0V0z\" fill=\"none\"/>\n",
              "    <path d=\"M18.56 5.44l.94 2.06.94-2.06 2.06-.94-2.06-.94-.94-2.06-.94 2.06-2.06.94zm-11 1L8.5 8.5l.94-2.06 2.06-.94-2.06-.94L8.5 2.5l-.94 2.06-2.06.94zm10 10l.94 2.06.94-2.06 2.06-.94-2.06-.94-.94-2.06-.94 2.06-2.06.94z\"/><path d=\"M17.41 7.96l-1.37-1.37c-.4-.4-.92-.59-1.43-.59-.52 0-1.04.2-1.43.59L10.3 9.45l-7.72 7.72c-.78.78-.78 2.05 0 2.83L4 21.41c.39.39.9.59 1.41.59.51 0 1.02-.2 1.41-.59l7.78-7.78 2.81-2.81c.8-.78.8-2.07 0-2.86zM5.41 20L4 18.59l7.72-7.72 1.47 1.35L5.41 20z\"/>\n",
              "  </svg>\n",
              "      </button>\n",
              "      \n",
              "  <style>\n",
              "    .colab-df-container {\n",
              "      display:flex;\n",
              "      flex-wrap:wrap;\n",
              "      gap: 12px;\n",
              "    }\n",
              "\n",
              "    .colab-df-convert {\n",
              "      background-color: #E8F0FE;\n",
              "      border: none;\n",
              "      border-radius: 50%;\n",
              "      cursor: pointer;\n",
              "      display: none;\n",
              "      fill: #1967D2;\n",
              "      height: 32px;\n",
              "      padding: 0 0 0 0;\n",
              "      width: 32px;\n",
              "    }\n",
              "\n",
              "    .colab-df-convert:hover {\n",
              "      background-color: #E2EBFA;\n",
              "      box-shadow: 0px 1px 2px rgba(60, 64, 67, 0.3), 0px 1px 3px 1px rgba(60, 64, 67, 0.15);\n",
              "      fill: #174EA6;\n",
              "    }\n",
              "\n",
              "    [theme=dark] .colab-df-convert {\n",
              "      background-color: #3B4455;\n",
              "      fill: #D2E3FC;\n",
              "    }\n",
              "\n",
              "    [theme=dark] .colab-df-convert:hover {\n",
              "      background-color: #434B5C;\n",
              "      box-shadow: 0px 1px 3px 1px rgba(0, 0, 0, 0.15);\n",
              "      filter: drop-shadow(0px 1px 2px rgba(0, 0, 0, 0.3));\n",
              "      fill: #FFFFFF;\n",
              "    }\n",
              "  </style>\n",
              "\n",
              "      <script>\n",
              "        const buttonEl =\n",
              "          document.querySelector('#df-f86b79e8-2ad0-4b3f-928d-88426590b72e button.colab-df-convert');\n",
              "        buttonEl.style.display =\n",
              "          google.colab.kernel.accessAllowed ? 'block' : 'none';\n",
              "\n",
              "        async function convertToInteractive(key) {\n",
              "          const element = document.querySelector('#df-f86b79e8-2ad0-4b3f-928d-88426590b72e');\n",
              "          const dataTable =\n",
              "            await google.colab.kernel.invokeFunction('convertToInteractive',\n",
              "                                                     [key], {});\n",
              "          if (!dataTable) return;\n",
              "\n",
              "          const docLinkHtml = 'Like what you see? Visit the ' +\n",
              "            '<a target=\"_blank\" href=https://colab.research.google.com/notebooks/data_table.ipynb>data table notebook</a>'\n",
              "            + ' to learn more about interactive tables.';\n",
              "          element.innerHTML = '';\n",
              "          dataTable['output_type'] = 'display_data';\n",
              "          await google.colab.output.renderOutput(dataTable, element);\n",
              "          const docLink = document.createElement('div');\n",
              "          docLink.innerHTML = docLinkHtml;\n",
              "          element.appendChild(docLink);\n",
              "        }\n",
              "      </script>\n",
              "    </div>\n",
              "  </div>\n",
              "  "
            ]
          },
          "metadata": {},
          "execution_count": 5
        }
      ]
    },
    {
      "cell_type": "markdown",
      "source": [
        "## **Problem 3 (40 points)**"
      ],
      "metadata": {
        "id": "BSNL7Tr7g2z_"
      }
    },
    {
      "cell_type": "markdown",
      "source": [
        "### **a) Calculate the $t$ statistic (for two-samples with unequal sizes) for each gene, between cell types 'Cardiac' and 'Neural Tube'. Subset the count matrix for *only genes that have nonzero variances* in the 'Cardiac' or 'Neural Tube' cell types. (This will avoid nan outputs) (10 points)** 'Zero variance genes' are the union of genes with 0 variance in either cell type.\n",
        "\n",
        "**We will be working only with the subsetted genes for the rest of Problem 3. You do not need to exponentiate the counts for filtering as we are now using the variance-stabilized version of the counts.*"
      ],
      "metadata": {
        "id": "49ekjwPBijRu"
      }
    },
    {
      "cell_type": "markdown",
      "source": [
        "Given two cell types (1 and 2), we will denote all expression values of gene $g$ in cell type 1 as $X^g_1$, and likewise $X^g_2$ for cell type 2.\n",
        "\n",
        "We will calculate a two-sample $t^g$ statistic between cell types 1 and 2 for gene $g$:\n",
        "\n",
        "\\begin{align}\n",
        "{\\displaystyle t^g={\\frac {{\\bar {X}}^g_{1}-{\\bar {X}}^g_{2}}{s^g_{p}\\cdot {\\sqrt {{\\frac {1}{n_{1}}}+{\\frac {1}{n_{2}}}}}}}}\n",
        "\\end{align} where\n",
        "\\begin{align}\n",
        "{\\displaystyle s^g_{p}={\\sqrt {\\frac {\\left(n_{1}-1\\right)s_{X^g_{1}}^{2}+\\left(n_{2}-1\\right)s_{X^g_{2}}^{2}}{n_{1}+n_{2}-2}}}}\n",
        "\\end{align} and is comprised of the standard deviations $s$ of $X^g_1$ and $X^g_2$, and the sizes of cell types 1 and 2 ($n_1 , n_2$). $\\bar{X}^g_1$ denotes the average expression for gene $g$ in cell type 1.\n",
        "\n",
        "**Calculate $t$ values for all genes (after subsetting). Report (1) how many genes remain after subsetting and (2) the $t$ values for the genes Sox17, Lypla1, Sgk3, Bag2.**"
      ],
      "metadata": {
        "id": "7xIz6V2NjIK7"
      }
    },
    {
      "cell_type": "code",
      "source": [
        "#define the cell types we are interested in comparing\n",
        "cell_type_1 = \"Cardiac\"\n",
        "cell_type_2 = \"Neural Tube\""
      ],
      "metadata": {
        "id": "nH5fJ6YMqKok"
      },
      "execution_count": 6,
      "outputs": []
    },
    {
      "cell_type": "markdown",
      "source": [
        "Now lets subset our data set to get the cells with non-zero variance in cardiac and neural tube."
      ],
      "metadata": {
        "id": "46-hbiujprDv"
      }
    },
    {
      "cell_type": "code",
      "source": [
        "#get the indicies of caridac and neural tube cells\n",
        "inds_cardiac = meta.loc[(meta['cell_type'] == cell_type_1)].index.to_numpy()\n",
        "inds_tube =  meta.loc[(meta['cell_type'] == cell_type_2)].index.to_numpy()\n",
        "\n",
        "#get count matricies for each cell type\n",
        "countmat_cardiac = count_mat[inds_cardiac,:]\n",
        "countmat_tube = count_mat[inds_tube,:]\n",
        "\n",
        "#compute the variance of each gene for both cell types\n",
        "var_cardiac = np.var(countmat_cardiac,axis =0)\n",
        "var_tube = np.var(countmat_tube,axis =0)\n",
        "\n",
        "#get genes where variance is zero for each cell type\n",
        "inds_zerovar_cardaic  = np.where(var_cardiac == 0)\n",
        "inds_zerovar_tube  = np.where(var_tube == 0)\n",
        "\n",
        "#append the arrays and keeponly unique values\n",
        "inds_zerovar = np.unique(np.append(inds_zerovar_cardaic,inds_zerovar_tube))\n",
        "\n",
        "#at this time lets also make a reduced gene meta data matrix\n",
        "reduced_meta_gene = meta_gene.drop(inds_zerovar)\n",
        "reduced_meta_gene = reduced_meta_gene.reset_index()\n",
        "\n",
        "#remove zero var genes\n",
        "reduced_countmat  = np.delete(count_mat,inds_zerovar,1)\n",
        "\n",
        "#report # of genes remaining\n",
        "print(\"there are now\",np.shape(reduced_countmat)[1],\"genes after removing nonzero variance genes in each cell subtype\")"
      ],
      "metadata": {
        "colab": {
          "base_uri": "https://localhost:8080/"
        },
        "id": "BaSq1HURp1xx",
        "outputId": "e6cde7db-c075-4732-f6e8-370bdc890936"
      },
      "execution_count": 7,
      "outputs": [
        {
          "output_type": "stream",
          "name": "stdout",
          "text": [
            "there are now 994 genes after removing nonzero variance genes in each cell subtype\n"
          ]
        }
      ]
    },
    {
      "cell_type": "code",
      "source": [
        "#get reduced count matricies for the two cell types\n",
        "reduced_countmat_cardaic = reduced_countmat[inds_cardiac,:]\n",
        "reduced_countmat_tube = reduced_countmat[inds_tube,:]"
      ],
      "metadata": {
        "id": "mdIreXTBIhlo"
      },
      "execution_count": 8,
      "outputs": []
    },
    {
      "cell_type": "code",
      "source": [
        "#define a function to compute the t values for each gene between the two cell types\n",
        "\n",
        "def t_value(x,y):\n",
        "  '''takes in expression matricies for cell type x and y and returns the t values for all genes'''\n",
        "  #compute means\n",
        "  x_mean = np.mean(x,axis=0)\n",
        "  y_mean = np.mean(y,axis=0)\n",
        "\n",
        "  #cell numbers\n",
        "  nx = np.shape(x)[0]\n",
        "  ny = np.shape(y)[0]\n",
        "\n",
        "  #compute s\n",
        "  #compute standard deviations\n",
        "  x_std = np.std(x,axis=0)\n",
        "  y_std = np.std(y,axis=0)\n",
        "  s_num = (nx-1)* x_std**2 + (ny-1)* y_std**2\n",
        "  s_denom = nx+ny-2\n",
        "  s = np.sqrt(s_num/s_denom)\n",
        "\n",
        "  num = x_mean-y_mean\n",
        "  denom = s * np.sqrt(1/nx + 1/ny)\n",
        "  t = num/denom\n",
        "  return t"
      ],
      "metadata": {
        "id": "2aDa7p7lI9A4"
      },
      "execution_count": 9,
      "outputs": []
    },
    {
      "cell_type": "code",
      "source": [
        "#compute the t stastistics for all genes\n",
        "t_vals = t_value(reduced_countmat_cardaic,reduced_countmat_tube)\n",
        "\n",
        "#report t values of desired genes\n",
        "print(\"t values for the genes: Sox17, Lypla1, Sgk3, Bag2:\")\n",
        "print(t_vals[0:4])"
      ],
      "metadata": {
        "colab": {
          "base_uri": "https://localhost:8080/"
        },
        "id": "fPX3XdpNMaP3",
        "outputId": "1c2b8baa-c0fc-4452-ba73-6f7d1b37810f"
      },
      "execution_count": 10,
      "outputs": [
        {
          "output_type": "stream",
          "name": "stdout",
          "text": [
            "t values for the genes: Sox17, Lypla1, Sgk3, Bag2:\n",
            "[ 1.33099757 -0.73401978  2.08706977 -2.60434124]\n"
          ]
        }
      ]
    },
    {
      "cell_type": "markdown",
      "source": [
        "### **b) Given the $t$ values in a), find their corresponding *p*-values based on the Student's $t$ distribution. (5 points)**"
      ],
      "metadata": {
        "id": "J23--G3NqLPg"
      }
    },
    {
      "cell_type": "markdown",
      "source": [
        "**To obtain *p*-values:** \n",
        "\n",
        "You are calculating the likelihood (or how unlikely) your $t$ value is given the $t$-distribution (i.e. assuming the groups come from the same population). For this you can use the cdf feature from the [scipy stats t distribution](https://docs.scipy.org/doc/scipy/reference/generated/scipy.stats.t.html).\n",
        "\n",
        "\n",
        "Remember that the CDF calculates the probability of seeing a value less than or equal to your $t$ (or abs($t$)). Thus you will need 1 minus the CDF value to find the likelihood of being more extreme. Likewise, since we are interested in whether the two means are different (meaning smaller *or* greater than the other), we will need a two-tailed test i.e. how likely it is to have a more extreme $t$ in both directions  or **2*(1-CDF)**.\n",
        "\n",
        "\n"
      ],
      "metadata": {
        "id": "Ec2d9JkzlE8b"
      }
    },
    {
      "cell_type": "markdown",
      "source": [
        "For the degrees of freedom of the $t$-statistic note that since $n_i − 1$ is the number of degrees of freedom for each group, the degrees of freedom for the total sample is $n_1 + n_2 − 2$."
      ],
      "metadata": {
        "id": "OG19jQhgrE0d"
      }
    },
    {
      "cell_type": "markdown",
      "source": [
        "**Report the $p$-values for the same genes Sox17, Lypla1, Sgk3, Bag2.**"
      ],
      "metadata": {
        "id": "qqQUdGfKmOEd"
      }
    },
    {
      "cell_type": "code",
      "source": [
        "from scipy.stats import t\n",
        "#compute degrees of freedom\n",
        "df = np.shape(reduced_countmat_cardaic)[0]+np.shape(reduced_countmat_tube)[0]-2\n",
        "\n",
        "#compute p values\n",
        "p_vals = 2*(1-t.cdf(np.abs(t_vals),df))\n",
        "\n",
        "#report p values of desired genes\n",
        "print(\"p values for the genes: Sox17, Lypla1, Sgk3, Bag2:\")\n",
        "print(p_vals[0:4])"
      ],
      "metadata": {
        "id": "EQBe9_ZizW84",
        "colab": {
          "base_uri": "https://localhost:8080/"
        },
        "outputId": "d0c176db-0806-4dc4-9ee4-31f2fe1bb1c3"
      },
      "execution_count": 21,
      "outputs": [
        {
          "output_type": "stream",
          "name": "stdout",
          "text": [
            "p values for the genes: Sox17, Lypla1, Sgk3, Bag2:\n",
            "[0.18376101 0.46326066 0.03735811 0.00946291]\n"
          ]
        }
      ]
    },
    {
      "cell_type": "markdown",
      "source": [
        "### **c) Use the Bonferroni correction method to correct the $p$-values for multiple testing. (5 points)**\n",
        "\n",
        "Since you have calculated $t$-tests for every gene $g$, you will need to correct your $p$-values to adjust for the likelihood of a positive/significant result just by virtue of the number of tests you've done. We can either adjust the $p$-values themselves, or adjust our significance cutoff.\n",
        "\n",
        "Here we will use a significance/$p$-value cutoff of $\\alpha=$0.05 (5%), where $p \\le \\alpha$ when $\\bar{X}^g_1 = \\bar{X}^g_2$ (the null $H_0$) is rejected. \n",
        "\n",
        "The Bonferroni correction adjusts this to $\\alpha/n$ where $n$ is the number of comparisons/tests made."
      ],
      "metadata": {
        "id": "og5Ed6EvriQz"
      }
    },
    {
      "cell_type": "markdown",
      "source": [
        "**Report the corrected $\\alpha$ cutoff and how many genes' $p$-values were below the cutoff *(1) before* and *(2) after* the Bonferroni correction.**"
      ],
      "metadata": {
        "id": "JKWMolcovOKm"
      }
    },
    {
      "cell_type": "code",
      "source": [
        "#we have made a comparison for every gene\n",
        "n = np.shape(reduced_countmat_cardaic)[1]\n",
        "alpha = 0.05\n",
        "correction = alpha/n\n",
        "print(\"the corrected cut off is:\",correction)"
      ],
      "metadata": {
        "id": "-_CEOARhg5v0",
        "colab": {
          "base_uri": "https://localhost:8080/"
        },
        "outputId": "194dddd0-c4da-4fce-8966-e5ae8952a259"
      },
      "execution_count": 22,
      "outputs": [
        {
          "output_type": "stream",
          "name": "stdout",
          "text": [
            "the corrected cut off is: 5.030181086519115e-05\n"
          ]
        }
      ]
    },
    {
      "cell_type": "code",
      "source": [
        "#compute genes with p-values below 0.05\n",
        "og_cut = np.where(p_vals < 0.05)\n",
        "print(\"the number of genes below alpha = 0.05 : \", np.size(og_cut))\n",
        "\n",
        "\n",
        "#compute genes with p-values below the corrected cut off\n",
        "corrected_cut = np.where(p_vals < correction)\n",
        "print(\"the number of genes below corrected alpha:\", np.size(corrected_cut))\n"
      ],
      "metadata": {
        "colab": {
          "base_uri": "https://localhost:8080/"
        },
        "id": "E4IFWGDQSqIn",
        "outputId": "662a42eb-533f-4ff4-e865-3c6c1ab1c731"
      },
      "execution_count": 23,
      "outputs": [
        {
          "output_type": "stream",
          "name": "stdout",
          "text": [
            "the number of genes below alpha = 0.05 :  260\n",
            "the number of genes below corrected alpha: 112\n"
          ]
        }
      ]
    },
    {
      "cell_type": "markdown",
      "source": [
        "### **d) Make a volcano plot for all genes (one plot total). A volcano plot has the $p$-values on the y axis and log2(FC) (FC is fold change) on the x axis. (5 points)**\n",
        "\n",
        "Fold change will be the **ratio of the average gene expression in one cell type to the other**. In this case do 'Cardiac'/'Neural Tube' expression.\n",
        "\n",
        "You can also plot -log10($p$-value) for the y-axis instead of the raw $p$-values (which may be very small). After this transformation, larger $p$-values are more significant."
      ],
      "metadata": {
        "id": "rXk28VFGveJr"
      }
    },
    {
      "cell_type": "code",
      "source": [
        "#compute log2(FC)\n",
        "FC = np.mean(reduced_countmat_cardaic,axis=0)/np.mean(reduced_countmat_tube,axis=0)\n",
        "l2FC = np.log2(FC)\n",
        "\n",
        "#volcano plot\n",
        "vol = bokeh.plotting.figure(\n",
        "    height = 400, width=600,\n",
        "    x_axis_label=\"-log10(FC)\", y_axis_label=\"-log10(p-values)\",\n",
        "    title=\"volcano plot\"\n",
        ")\n",
        "\n",
        "vol.circle(l2FC,-np.log10(p_vals),color=\"deeppink\")\n",
        "\n",
        "bokeh.io.show(vol)"
      ],
      "metadata": {
        "id": "yz3l_aG5w00O",
        "colab": {
          "base_uri": "https://localhost:8080/",
          "height": 454
        },
        "outputId": "8b4f00e6-0187-4cb1-cd90-610b97145cec"
      },
      "execution_count": 35,
      "outputs": [
        {
          "output_type": "stream",
          "name": "stderr",
          "text": [
            "<ipython-input-35-34a4c40ec960>:12: RuntimeWarning: divide by zero encountered in log10\n",
            "  vol.circle(l2FC,-np.log10(p_vals),color=\"deeppink\")\n"
          ]
        },
        {
          "output_type": "display_data",
          "data": {
            "application/javascript": [
              "\n",
              "(function(root) {\n",
              "  function now() {\n",
              "    return new Date();\n",
              "  }\n",
              "\n",
              "  var force = true;\n",
              "\n",
              "  if (typeof root._bokeh_onload_callbacks === \"undefined\" || force === true) {\n",
              "    root._bokeh_onload_callbacks = [];\n",
              "    root._bokeh_is_loading = undefined;\n",
              "  }\n",
              "\n",
              "  var JS_MIME_TYPE = 'application/javascript';\n",
              "  var HTML_MIME_TYPE = 'text/html';\n",
              "  var EXEC_MIME_TYPE = 'application/vnd.bokehjs_exec.v0+json';\n",
              "  var CLASS_NAME = 'output_bokeh rendered_html';\n",
              "\n",
              "  /**\n",
              "   * Render data to the DOM node\n",
              "   */\n",
              "  function render(props, node) {\n",
              "    var script = document.createElement(\"script\");\n",
              "    node.appendChild(script);\n",
              "  }\n",
              "\n",
              "  /**\n",
              "   * Handle when an output is cleared or removed\n",
              "   */\n",
              "  function handleClearOutput(event, handle) {\n",
              "    var cell = handle.cell;\n",
              "\n",
              "    var id = cell.output_area._bokeh_element_id;\n",
              "    var server_id = cell.output_area._bokeh_server_id;\n",
              "    // Clean up Bokeh references\n",
              "    if (id != null && id in Bokeh.index) {\n",
              "      Bokeh.index[id].model.document.clear();\n",
              "      delete Bokeh.index[id];\n",
              "    }\n",
              "\n",
              "    if (server_id !== undefined) {\n",
              "      // Clean up Bokeh references\n",
              "      var cmd = \"from bokeh.io.state import curstate; print(curstate().uuid_to_server['\" + server_id + \"'].get_sessions()[0].document.roots[0]._id)\";\n",
              "      cell.notebook.kernel.execute(cmd, {\n",
              "        iopub: {\n",
              "          output: function(msg) {\n",
              "            var id = msg.content.text.trim();\n",
              "            if (id in Bokeh.index) {\n",
              "              Bokeh.index[id].model.document.clear();\n",
              "              delete Bokeh.index[id];\n",
              "            }\n",
              "          }\n",
              "        }\n",
              "      });\n",
              "      // Destroy server and session\n",
              "      var cmd = \"import bokeh.io.notebook as ion; ion.destroy_server('\" + server_id + \"')\";\n",
              "      cell.notebook.kernel.execute(cmd);\n",
              "    }\n",
              "  }\n",
              "\n",
              "  /**\n",
              "   * Handle when a new output is added\n",
              "   */\n",
              "  function handleAddOutput(event, handle) {\n",
              "    var output_area = handle.output_area;\n",
              "    var output = handle.output;\n",
              "\n",
              "    // limit handleAddOutput to display_data with EXEC_MIME_TYPE content only\n",
              "    if ((output.output_type != \"display_data\") || (!Object.prototype.hasOwnProperty.call(output.data, EXEC_MIME_TYPE))) {\n",
              "      return\n",
              "    }\n",
              "\n",
              "    var toinsert = output_area.element.find(\".\" + CLASS_NAME.split(' ')[0]);\n",
              "\n",
              "    if (output.metadata[EXEC_MIME_TYPE][\"id\"] !== undefined) {\n",
              "      toinsert[toinsert.length - 1].firstChild.textContent = output.data[JS_MIME_TYPE];\n",
              "      // store reference to embed id on output_area\n",
              "      output_area._bokeh_element_id = output.metadata[EXEC_MIME_TYPE][\"id\"];\n",
              "    }\n",
              "    if (output.metadata[EXEC_MIME_TYPE][\"server_id\"] !== undefined) {\n",
              "      var bk_div = document.createElement(\"div\");\n",
              "      bk_div.innerHTML = output.data[HTML_MIME_TYPE];\n",
              "      var script_attrs = bk_div.children[0].attributes;\n",
              "      for (var i = 0; i < script_attrs.length; i++) {\n",
              "        toinsert[toinsert.length - 1].firstChild.setAttribute(script_attrs[i].name, script_attrs[i].value);\n",
              "        toinsert[toinsert.length - 1].firstChild.textContent = bk_div.children[0].textContent\n",
              "      }\n",
              "      // store reference to server id on output_area\n",
              "      output_area._bokeh_server_id = output.metadata[EXEC_MIME_TYPE][\"server_id\"];\n",
              "    }\n",
              "  }\n",
              "\n",
              "  function register_renderer(events, OutputArea) {\n",
              "\n",
              "    function append_mime(data, metadata, element) {\n",
              "      // create a DOM node to render to\n",
              "      var toinsert = this.create_output_subarea(\n",
              "        metadata,\n",
              "        CLASS_NAME,\n",
              "        EXEC_MIME_TYPE\n",
              "      );\n",
              "      this.keyboard_manager.register_events(toinsert);\n",
              "      // Render to node\n",
              "      var props = {data: data, metadata: metadata[EXEC_MIME_TYPE]};\n",
              "      render(props, toinsert[toinsert.length - 1]);\n",
              "      element.append(toinsert);\n",
              "      return toinsert\n",
              "    }\n",
              "\n",
              "    /* Handle when an output is cleared or removed */\n",
              "    events.on('clear_output.CodeCell', handleClearOutput);\n",
              "    events.on('delete.Cell', handleClearOutput);\n",
              "\n",
              "    /* Handle when a new output is added */\n",
              "    events.on('output_added.OutputArea', handleAddOutput);\n",
              "\n",
              "    /**\n",
              "     * Register the mime type and append_mime function with output_area\n",
              "     */\n",
              "    OutputArea.prototype.register_mime_type(EXEC_MIME_TYPE, append_mime, {\n",
              "      /* Is output safe? */\n",
              "      safe: true,\n",
              "      /* Index of renderer in `output_area.display_order` */\n",
              "      index: 0\n",
              "    });\n",
              "  }\n",
              "\n",
              "  // register the mime type if in Jupyter Notebook environment and previously unregistered\n",
              "  if (root.Jupyter !== undefined) {\n",
              "    var events = require('base/js/events');\n",
              "    var OutputArea = require('notebook/js/outputarea').OutputArea;\n",
              "\n",
              "    if (OutputArea.prototype.mime_types().indexOf(EXEC_MIME_TYPE) == -1) {\n",
              "      register_renderer(events, OutputArea);\n",
              "    }\n",
              "  }\n",
              "\n",
              "  \n",
              "  if (typeof (root._bokeh_timeout) === \"undefined\" || force === true) {\n",
              "    root._bokeh_timeout = Date.now() + 5000;\n",
              "    root._bokeh_failed_load = false;\n",
              "  }\n",
              "\n",
              "  var NB_LOAD_WARNING = {'data': {'text/html':\n",
              "     \"<div style='background-color: #fdd'>\\n\"+\n",
              "     \"<p>\\n\"+\n",
              "     \"BokehJS does not appear to have successfully loaded. If loading BokehJS from CDN, this \\n\"+\n",
              "     \"may be due to a slow or bad network connection. Possible fixes:\\n\"+\n",
              "     \"</p>\\n\"+\n",
              "     \"<ul>\\n\"+\n",
              "     \"<li>re-rerun `output_notebook()` to attempt to load from CDN again, or</li>\\n\"+\n",
              "     \"<li>use INLINE resources instead, as so:</li>\\n\"+\n",
              "     \"</ul>\\n\"+\n",
              "     \"<code>\\n\"+\n",
              "     \"from bokeh.resources import INLINE\\n\"+\n",
              "     \"output_notebook(resources=INLINE)\\n\"+\n",
              "     \"</code>\\n\"+\n",
              "     \"</div>\"}};\n",
              "\n",
              "  function display_loaded() {\n",
              "    var el = document.getElementById(null);\n",
              "    if (el != null) {\n",
              "      el.textContent = \"BokehJS is loading...\";\n",
              "    }\n",
              "    if (root.Bokeh !== undefined) {\n",
              "      if (el != null) {\n",
              "        el.textContent = \"BokehJS \" + root.Bokeh.version + \" successfully loaded.\";\n",
              "      }\n",
              "    } else if (Date.now() < root._bokeh_timeout) {\n",
              "      setTimeout(display_loaded, 100)\n",
              "    }\n",
              "  }\n",
              "\n",
              "\n",
              "  function run_callbacks() {\n",
              "    try {\n",
              "      root._bokeh_onload_callbacks.forEach(function(callback) {\n",
              "        if (callback != null)\n",
              "          callback();\n",
              "      });\n",
              "    } finally {\n",
              "      delete root._bokeh_onload_callbacks\n",
              "    }\n",
              "    console.debug(\"Bokeh: all callbacks have finished\");\n",
              "  }\n",
              "\n",
              "  function load_libs(css_urls, js_urls, callback) {\n",
              "    if (css_urls == null) css_urls = [];\n",
              "    if (js_urls == null) js_urls = [];\n",
              "\n",
              "    root._bokeh_onload_callbacks.push(callback);\n",
              "    if (root._bokeh_is_loading > 0) {\n",
              "      console.debug(\"Bokeh: BokehJS is being loaded, scheduling callback at\", now());\n",
              "      return null;\n",
              "    }\n",
              "    if (js_urls == null || js_urls.length === 0) {\n",
              "      run_callbacks();\n",
              "      return null;\n",
              "    }\n",
              "    console.debug(\"Bokeh: BokehJS not loaded, scheduling load and callback at\", now());\n",
              "    root._bokeh_is_loading = css_urls.length + js_urls.length;\n",
              "\n",
              "    function on_load() {\n",
              "      root._bokeh_is_loading--;\n",
              "      if (root._bokeh_is_loading === 0) {\n",
              "        console.debug(\"Bokeh: all BokehJS libraries/stylesheets loaded\");\n",
              "        run_callbacks()\n",
              "      }\n",
              "    }\n",
              "\n",
              "    function on_error(url) {\n",
              "      console.error(\"failed to load \" + url);\n",
              "    }\n",
              "\n",
              "    for (let i = 0; i < css_urls.length; i++) {\n",
              "      const url = css_urls[i];\n",
              "      const element = document.createElement(\"link\");\n",
              "      element.onload = on_load;\n",
              "      element.onerror = on_error.bind(null, url);\n",
              "      element.rel = \"stylesheet\";\n",
              "      element.type = \"text/css\";\n",
              "      element.href = url;\n",
              "      console.debug(\"Bokeh: injecting link tag for BokehJS stylesheet: \", url);\n",
              "      document.body.appendChild(element);\n",
              "    }\n",
              "\n",
              "    const hashes = {\"https://cdn.bokeh.org/bokeh/release/bokeh-2.3.3.min.js\": \"dM3QQsP+wXdHg42wTqW85BjZQdLNNIXqlPw/BgKoExPmTG7ZLML4EGqLMfqHT6ON\", \"https://cdn.bokeh.org/bokeh/release/bokeh-tables-2.3.3.min.js\": \"8x57I4YuIfu8XyZfFo0XVr2WAT8EK4rh/uDe3wF7YuW2FNUSNEpJbsPaB1nJ2fz2\", \"https://cdn.bokeh.org/bokeh/release/bokeh-widgets-2.3.3.min.js\": \"3QTqdz9LyAm2i0sG5XTePsHec3UHWwVsrOL68SYRoAXsafvfAyqtQ+h440+qIBhS\"};\n",
              "\n",
              "    for (let i = 0; i < js_urls.length; i++) {\n",
              "      const url = js_urls[i];\n",
              "      const element = document.createElement('script');\n",
              "      element.onload = on_load;\n",
              "      element.onerror = on_error.bind(null, url);\n",
              "      element.async = false;\n",
              "      element.src = url;\n",
              "      if (url in hashes) {\n",
              "        element.crossOrigin = \"anonymous\";\n",
              "        element.integrity = \"sha384-\" + hashes[url];\n",
              "      }\n",
              "      console.debug(\"Bokeh: injecting script tag for BokehJS library: \", url);\n",
              "      document.head.appendChild(element);\n",
              "    }\n",
              "  };\n",
              "\n",
              "  function inject_raw_css(css) {\n",
              "    const element = document.createElement(\"style\");\n",
              "    element.appendChild(document.createTextNode(css));\n",
              "    document.body.appendChild(element);\n",
              "  }\n",
              "\n",
              "  \n",
              "  var js_urls = [\"https://cdn.bokeh.org/bokeh/release/bokeh-2.3.3.min.js\", \"https://cdn.bokeh.org/bokeh/release/bokeh-widgets-2.3.3.min.js\", \"https://cdn.bokeh.org/bokeh/release/bokeh-tables-2.3.3.min.js\"];\n",
              "  var css_urls = [];\n",
              "  \n",
              "\n",
              "  var inline_js = [\n",
              "    function(Bokeh) {\n",
              "      Bokeh.set_log_level(\"info\");\n",
              "    },\n",
              "    function(Bokeh) {\n",
              "    \n",
              "    \n",
              "    }\n",
              "  ];\n",
              "\n",
              "  function run_inline_js() {\n",
              "    \n",
              "    if (root.Bokeh !== undefined || force === true) {\n",
              "      \n",
              "    for (var i = 0; i < inline_js.length; i++) {\n",
              "      inline_js[i].call(root, root.Bokeh);\n",
              "    }\n",
              "    } else if (Date.now() < root._bokeh_timeout) {\n",
              "      setTimeout(run_inline_js, 100);\n",
              "    } else if (!root._bokeh_failed_load) {\n",
              "      console.log(\"Bokeh: BokehJS failed to load within specified timeout.\");\n",
              "      root._bokeh_failed_load = true;\n",
              "    } else if (force !== true) {\n",
              "      var cell = $(document.getElementById(null)).parents('.cell').data().cell;\n",
              "      cell.output_area.append_execute_result(NB_LOAD_WARNING)\n",
              "    }\n",
              "\n",
              "  }\n",
              "\n",
              "  if (root._bokeh_is_loading === 0) {\n",
              "    console.debug(\"Bokeh: BokehJS loaded, going straight to plotting\");\n",
              "    run_inline_js();\n",
              "  } else {\n",
              "    load_libs(css_urls, js_urls, function() {\n",
              "      console.debug(\"Bokeh: BokehJS plotting callback run at\", now());\n",
              "      run_inline_js();\n",
              "    });\n",
              "  }\n",
              "}(window));"
            ],
            "application/vnd.bokehjs_load.v0+json": "\n(function(root) {\n  function now() {\n    return new Date();\n  }\n\n  var force = true;\n\n  if (typeof root._bokeh_onload_callbacks === \"undefined\" || force === true) {\n    root._bokeh_onload_callbacks = [];\n    root._bokeh_is_loading = undefined;\n  }\n\n  \n\n  \n  if (typeof (root._bokeh_timeout) === \"undefined\" || force === true) {\n    root._bokeh_timeout = Date.now() + 5000;\n    root._bokeh_failed_load = false;\n  }\n\n  var NB_LOAD_WARNING = {'data': {'text/html':\n     \"<div style='background-color: #fdd'>\\n\"+\n     \"<p>\\n\"+\n     \"BokehJS does not appear to have successfully loaded. If loading BokehJS from CDN, this \\n\"+\n     \"may be due to a slow or bad network connection. Possible fixes:\\n\"+\n     \"</p>\\n\"+\n     \"<ul>\\n\"+\n     \"<li>re-rerun `output_notebook()` to attempt to load from CDN again, or</li>\\n\"+\n     \"<li>use INLINE resources instead, as so:</li>\\n\"+\n     \"</ul>\\n\"+\n     \"<code>\\n\"+\n     \"from bokeh.resources import INLINE\\n\"+\n     \"output_notebook(resources=INLINE)\\n\"+\n     \"</code>\\n\"+\n     \"</div>\"}};\n\n  function display_loaded() {\n    var el = document.getElementById(null);\n    if (el != null) {\n      el.textContent = \"BokehJS is loading...\";\n    }\n    if (root.Bokeh !== undefined) {\n      if (el != null) {\n        el.textContent = \"BokehJS \" + root.Bokeh.version + \" successfully loaded.\";\n      }\n    } else if (Date.now() < root._bokeh_timeout) {\n      setTimeout(display_loaded, 100)\n    }\n  }\n\n\n  function run_callbacks() {\n    try {\n      root._bokeh_onload_callbacks.forEach(function(callback) {\n        if (callback != null)\n          callback();\n      });\n    } finally {\n      delete root._bokeh_onload_callbacks\n    }\n    console.debug(\"Bokeh: all callbacks have finished\");\n  }\n\n  function load_libs(css_urls, js_urls, callback) {\n    if (css_urls == null) css_urls = [];\n    if (js_urls == null) js_urls = [];\n\n    root._bokeh_onload_callbacks.push(callback);\n    if (root._bokeh_is_loading > 0) {\n      console.debug(\"Bokeh: BokehJS is being loaded, scheduling callback at\", now());\n      return null;\n    }\n    if (js_urls == null || js_urls.length === 0) {\n      run_callbacks();\n      return null;\n    }\n    console.debug(\"Bokeh: BokehJS not loaded, scheduling load and callback at\", now());\n    root._bokeh_is_loading = css_urls.length + js_urls.length;\n\n    function on_load() {\n      root._bokeh_is_loading--;\n      if (root._bokeh_is_loading === 0) {\n        console.debug(\"Bokeh: all BokehJS libraries/stylesheets loaded\");\n        run_callbacks()\n      }\n    }\n\n    function on_error(url) {\n      console.error(\"failed to load \" + url);\n    }\n\n    for (let i = 0; i < css_urls.length; i++) {\n      const url = css_urls[i];\n      const element = document.createElement(\"link\");\n      element.onload = on_load;\n      element.onerror = on_error.bind(null, url);\n      element.rel = \"stylesheet\";\n      element.type = \"text/css\";\n      element.href = url;\n      console.debug(\"Bokeh: injecting link tag for BokehJS stylesheet: \", url);\n      document.body.appendChild(element);\n    }\n\n    const hashes = {\"https://cdn.bokeh.org/bokeh/release/bokeh-2.3.3.min.js\": \"dM3QQsP+wXdHg42wTqW85BjZQdLNNIXqlPw/BgKoExPmTG7ZLML4EGqLMfqHT6ON\", \"https://cdn.bokeh.org/bokeh/release/bokeh-tables-2.3.3.min.js\": \"8x57I4YuIfu8XyZfFo0XVr2WAT8EK4rh/uDe3wF7YuW2FNUSNEpJbsPaB1nJ2fz2\", \"https://cdn.bokeh.org/bokeh/release/bokeh-widgets-2.3.3.min.js\": \"3QTqdz9LyAm2i0sG5XTePsHec3UHWwVsrOL68SYRoAXsafvfAyqtQ+h440+qIBhS\"};\n\n    for (let i = 0; i < js_urls.length; i++) {\n      const url = js_urls[i];\n      const element = document.createElement('script');\n      element.onload = on_load;\n      element.onerror = on_error.bind(null, url);\n      element.async = false;\n      element.src = url;\n      if (url in hashes) {\n        element.crossOrigin = \"anonymous\";\n        element.integrity = \"sha384-\" + hashes[url];\n      }\n      console.debug(\"Bokeh: injecting script tag for BokehJS library: \", url);\n      document.head.appendChild(element);\n    }\n  };\n\n  function inject_raw_css(css) {\n    const element = document.createElement(\"style\");\n    element.appendChild(document.createTextNode(css));\n    document.body.appendChild(element);\n  }\n\n  \n  var js_urls = [\"https://cdn.bokeh.org/bokeh/release/bokeh-2.3.3.min.js\", \"https://cdn.bokeh.org/bokeh/release/bokeh-widgets-2.3.3.min.js\", \"https://cdn.bokeh.org/bokeh/release/bokeh-tables-2.3.3.min.js\"];\n  var css_urls = [];\n  \n\n  var inline_js = [\n    function(Bokeh) {\n      Bokeh.set_log_level(\"info\");\n    },\n    function(Bokeh) {\n    \n    \n    }\n  ];\n\n  function run_inline_js() {\n    \n    if (root.Bokeh !== undefined || force === true) {\n      \n    for (var i = 0; i < inline_js.length; i++) {\n      inline_js[i].call(root, root.Bokeh);\n    }\n    } else if (Date.now() < root._bokeh_timeout) {\n      setTimeout(run_inline_js, 100);\n    } else if (!root._bokeh_failed_load) {\n      console.log(\"Bokeh: BokehJS failed to load within specified timeout.\");\n      root._bokeh_failed_load = true;\n    } else if (force !== true) {\n      var cell = $(document.getElementById(null)).parents('.cell').data().cell;\n      cell.output_area.append_execute_result(NB_LOAD_WARNING)\n    }\n\n  }\n\n  if (root._bokeh_is_loading === 0) {\n    console.debug(\"Bokeh: BokehJS loaded, going straight to plotting\");\n    run_inline_js();\n  } else {\n    load_libs(css_urls, js_urls, function() {\n      console.debug(\"Bokeh: BokehJS plotting callback run at\", now());\n      run_inline_js();\n    });\n  }\n}(window));"
          },
          "metadata": {}
        },
        {
          "output_type": "display_data",
          "data": {
            "text/html": [
              "\n",
              "\n",
              "\n",
              "\n",
              "\n",
              "\n",
              "  <div class=\"bk-root\" id=\"a204def3-e2cd-4bf6-a192-c7bfed7c94d9\" data-root-id=\"2134\"></div>\n"
            ]
          },
          "metadata": {}
        },
        {
          "output_type": "display_data",
          "data": {
            "application/javascript": [
              "(function(root) {\n",
              "  function embed_document(root) {\n",
              "    \n",
              "  var docs_json = {\"fc78b070-dc59-409f-955b-6104a27d0046\":{\"defs\":[],\"roots\":{\"references\":[{\"attributes\":{\"below\":[{\"id\":\"2145\"}],\"center\":[{\"id\":\"2148\"},{\"id\":\"2152\"}],\"height\":400,\"left\":[{\"id\":\"2149\"}],\"renderers\":[{\"id\":\"2170\"}],\"title\":{\"id\":\"2135\"},\"toolbar\":{\"id\":\"2160\"},\"x_range\":{\"id\":\"2137\"},\"x_scale\":{\"id\":\"2141\"},\"y_range\":{\"id\":\"2139\"},\"y_scale\":{\"id\":\"2143\"}},\"id\":\"2134\",\"subtype\":\"Figure\",\"type\":\"Plot\"},{\"attributes\":{\"bottom_units\":\"screen\",\"fill_alpha\":0.5,\"fill_color\":\"lightgrey\",\"left_units\":\"screen\",\"level\":\"overlay\",\"line_alpha\":1.0,\"line_color\":\"black\",\"line_dash\":[4,4],\"line_width\":2,\"right_units\":\"screen\",\"syncable\":false,\"top_units\":\"screen\"},\"id\":\"2159\",\"type\":\"BoxAnnotation\"},{\"attributes\":{},\"id\":\"2158\",\"type\":\"HelpTool\"},{\"attributes\":{},\"id\":\"2139\",\"type\":\"DataRange1d\"},{\"attributes\":{},\"id\":\"2141\",\"type\":\"LinearScale\"},{\"attributes\":{\"fill_alpha\":{\"value\":0.1},\"fill_color\":{\"value\":\"deeppink\"},\"line_alpha\":{\"value\":0.1},\"line_color\":{\"value\":\"deeppink\"},\"x\":{\"field\":\"x\"},\"y\":{\"field\":\"y\"}},\"id\":\"2169\",\"type\":\"Circle\"},{\"attributes\":{\"data\":{\"x\":{\"__ndarray__\":\"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\",\"dtype\":\"float64\",\"order\":\"little\",\"shape\":[994]},\"y\":{\"__ndarray__\":\"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\",\"dtype\":\"float64\",\"order\":\"little\",\"shape\":[994]}},\"selected\":{\"id\":\"2254\"},\"selection_policy\":{\"id\":\"2255\"}},\"id\":\"2167\",\"type\":\"ColumnDataSource\"},{\"attributes\":{},\"id\":\"2137\",\"type\":\"DataRange1d\"},{\"attributes\":{\"text\":\"volcano plot\"},\"id\":\"2135\",\"type\":\"Title\"},{\"attributes\":{},\"id\":\"2247\",\"type\":\"BasicTickFormatter\"},{\"attributes\":{},\"id\":\"2249\",\"type\":\"AllLabels\"},{\"attributes\":{},\"id\":\"2250\",\"type\":\"BasicTickFormatter\"},{\"attributes\":{},\"id\":\"2255\",\"type\":\"UnionRenderers\"},{\"attributes\":{},\"id\":\"2252\",\"type\":\"AllLabels\"},{\"attributes\":{\"axis_label\":\"-log10(FC)\",\"formatter\":{\"id\":\"2247\"},\"major_label_policy\":{\"id\":\"2249\"},\"ticker\":{\"id\":\"2146\"}},\"id\":\"2145\",\"type\":\"LinearAxis\"},{\"attributes\":{},\"id\":\"2157\",\"type\":\"ResetTool\"},{\"attributes\":{},\"id\":\"2146\",\"type\":\"BasicTicker\"},{\"attributes\":{},\"id\":\"2143\",\"type\":\"LinearScale\"},{\"attributes\":{\"source\":{\"id\":\"2167\"}},\"id\":\"2171\",\"type\":\"CDSView\"},{\"attributes\":{},\"id\":\"2156\",\"type\":\"SaveTool\"},{\"attributes\":{},\"id\":\"2154\",\"type\":\"WheelZoomTool\"},{\"attributes\":{},\"id\":\"2150\",\"type\":\"BasicTicker\"},{\"attributes\":{\"active_multi\":null,\"tools\":[{\"id\":\"2153\"},{\"id\":\"2154\"},{\"id\":\"2155\"},{\"id\":\"2156\"},{\"id\":\"2157\"},{\"id\":\"2158\"}]},\"id\":\"2160\",\"type\":\"Toolbar\"},{\"attributes\":{\"data_source\":{\"id\":\"2167\"},\"glyph\":{\"id\":\"2168\"},\"hover_glyph\":null,\"muted_glyph\":null,\"nonselection_glyph\":{\"id\":\"2169\"},\"view\":{\"id\":\"2171\"}},\"id\":\"2170\",\"type\":\"GlyphRenderer\"},{\"attributes\":{\"axis_label\":\"-log10(p-values)\",\"formatter\":{\"id\":\"2250\"},\"major_label_policy\":{\"id\":\"2252\"},\"ticker\":{\"id\":\"2150\"}},\"id\":\"2149\",\"type\":\"LinearAxis\"},{\"attributes\":{},\"id\":\"2254\",\"type\":\"Selection\"},{\"attributes\":{\"axis\":{\"id\":\"2145\"},\"ticker\":null},\"id\":\"2148\",\"type\":\"Grid\"},{\"attributes\":{},\"id\":\"2153\",\"type\":\"PanTool\"},{\"attributes\":{\"axis\":{\"id\":\"2149\"},\"dimension\":1,\"ticker\":null},\"id\":\"2152\",\"type\":\"Grid\"},{\"attributes\":{\"fill_color\":{\"value\":\"deeppink\"},\"line_color\":{\"value\":\"deeppink\"},\"x\":{\"field\":\"x\"},\"y\":{\"field\":\"y\"}},\"id\":\"2168\",\"type\":\"Circle\"},{\"attributes\":{\"overlay\":{\"id\":\"2159\"}},\"id\":\"2155\",\"type\":\"BoxZoomTool\"}],\"root_ids\":[\"2134\"]},\"title\":\"Bokeh Application\",\"version\":\"2.3.3\"}};\n",
              "  var render_items = [{\"docid\":\"fc78b070-dc59-409f-955b-6104a27d0046\",\"root_ids\":[\"2134\"],\"roots\":{\"2134\":\"a204def3-e2cd-4bf6-a192-c7bfed7c94d9\"}}];\n",
              "  root.Bokeh.embed.embed_items_notebook(docs_json, render_items);\n",
              "\n",
              "  }\n",
              "  if (root.Bokeh !== undefined) {\n",
              "    embed_document(root);\n",
              "  } else {\n",
              "    var attempts = 0;\n",
              "    var timer = setInterval(function(root) {\n",
              "      if (root.Bokeh !== undefined) {\n",
              "        clearInterval(timer);\n",
              "        embed_document(root);\n",
              "      } else {\n",
              "        attempts++;\n",
              "        if (attempts > 100) {\n",
              "          clearInterval(timer);\n",
              "          console.log(\"Bokeh: ERROR: Unable to run BokehJS code because BokehJS library is missing\");\n",
              "        }\n",
              "      }\n",
              "    }, 10, root)\n",
              "  }\n",
              "})(window);"
            ],
            "application/vnd.bokehjs_exec.v0+json": ""
          },
          "metadata": {
            "application/vnd.bokehjs_exec.v0+json": {
              "id": "2134"
            }
          }
        }
      ]
    },
    {
      "cell_type": "markdown",
      "source": [
        "### **e) Use the Mann-Whitney (non-parametric) $U$-test to find $p$-values for genes with significantly different expression between the two cell types. Report the percent of significant genes from this test that overlap with those from the $t$-test in c) (both after Bonferroni correction). (5 points)**\n",
        "\n",
        "The Mann-Whitney $U$ test is a non-parametric test, which uses the $U$ statistic (as opposed to the $t$ statistic) to essentially count how many pairs of observations between $X^g_1$ and $X^g_2$ have one value greater than, equal to, and less than the other. This tests for whether the probability that a value from $X^g_1$ exceeds a value in $X^g_2$ is the same as the probability that a value from $X^g_2$ exceeds a value in $X^g_1$ i.e. $H_0: P(X^g_1 > X^g_2) = P(X^g_2 > X^g_1)$ and $H_1: P(X^g_1 > X^g_2) ≠ P(X^g_2 > X^g_1)$. Under the null hypothesis, the distribution of $U$ is normal. \n",
        "\n",
        "You can use the scipy package directly for this test, [scipy Mann-Whitney U](https://docs.scipy.org/doc/scipy/reference/generated/scipy.stats.mannwhitneyu.html), which will calculate both the $U$ value and $p$-value for the two sets of observations you input."
      ],
      "metadata": {
        "id": "dg3aKSUCw1nI"
      }
    },
    {
      "cell_type": "code",
      "source": [
        "from scipy.stats import mannwhitneyu\n",
        "U1, p_MW = mannwhitneyu(reduced_countmat_cardaic, reduced_countmat_tube,method='auto')"
      ],
      "metadata": {
        "id": "eFC8bhaGxcnn"
      },
      "execution_count": 28,
      "outputs": []
    },
    {
      "cell_type": "code",
      "source": [
        "MW_corrected_cut = np.where(p_MW < correction)\n",
        "common = np.intersect1d(corrected_cut, MW_corrected_cut)\n",
        "\n",
        "print(\"the % of overlap of significant genes between the two tests is:\",np.size(common)/np.size(MW_corrected_cut)*100)"
      ],
      "metadata": {
        "colab": {
          "base_uri": "https://localhost:8080/"
        },
        "id": "W0W_odIqaINn",
        "outputId": "5c8f6fa3-3897-4e82-d73a-a937c90b11dc"
      },
      "execution_count": 29,
      "outputs": [
        {
          "output_type": "stream",
          "name": "stdout",
          "text": [
            "the % of overlap of significant genes between the two tests is: 47.08520179372198\n"
          ]
        }
      ]
    },
    {
      "cell_type": "markdown",
      "source": [
        "### **f) Make a volcano plot for your results in e) ($U$ test, comparison between cell types 'Cardiac' and 'Neural Tube'). Select a gene you believe has a significant $p$-value and substantial fold change (FC).** \n",
        "###**Report the (1) $p$-value and log2FC for the gene, (2) color this gene on your volcano plot, and (3) briefly describe the function of this gene.  (5 points)**"
      ],
      "metadata": {
        "id": "UEZ0du99yR0_"
      }
    },
    {
      "cell_type": "code",
      "source": [
        "#volcano plot_2\n",
        "vol2 = bokeh.plotting.figure(\n",
        "    height = 400, width=400,\n",
        "    x_axis_label=\"log2(FC)\", y_axis_label=\"-log10(p-values)\",\n",
        "    title=\"Volcano Plot\"\n",
        ")\n",
        "\n",
        "vol2.circle(l2FC,-np.log10(p_MW),color=\"deeppink\")\n",
        "\n",
        "bokeh.io.show(vol2)"
      ],
      "metadata": {
        "id": "4I-93W2tyRI6",
        "colab": {
          "base_uri": "https://localhost:8080/",
          "height": 417
        },
        "outputId": "0c2d24ea-5f5e-48cd-d36b-63509da07415"
      },
      "execution_count": 37,
      "outputs": [
        {
          "output_type": "display_data",
          "data": {
            "application/javascript": [
              "\n",
              "(function(root) {\n",
              "  function now() {\n",
              "    return new Date();\n",
              "  }\n",
              "\n",
              "  var force = true;\n",
              "\n",
              "  if (typeof root._bokeh_onload_callbacks === \"undefined\" || force === true) {\n",
              "    root._bokeh_onload_callbacks = [];\n",
              "    root._bokeh_is_loading = undefined;\n",
              "  }\n",
              "\n",
              "  var JS_MIME_TYPE = 'application/javascript';\n",
              "  var HTML_MIME_TYPE = 'text/html';\n",
              "  var EXEC_MIME_TYPE = 'application/vnd.bokehjs_exec.v0+json';\n",
              "  var CLASS_NAME = 'output_bokeh rendered_html';\n",
              "\n",
              "  /**\n",
              "   * Render data to the DOM node\n",
              "   */\n",
              "  function render(props, node) {\n",
              "    var script = document.createElement(\"script\");\n",
              "    node.appendChild(script);\n",
              "  }\n",
              "\n",
              "  /**\n",
              "   * Handle when an output is cleared or removed\n",
              "   */\n",
              "  function handleClearOutput(event, handle) {\n",
              "    var cell = handle.cell;\n",
              "\n",
              "    var id = cell.output_area._bokeh_element_id;\n",
              "    var server_id = cell.output_area._bokeh_server_id;\n",
              "    // Clean up Bokeh references\n",
              "    if (id != null && id in Bokeh.index) {\n",
              "      Bokeh.index[id].model.document.clear();\n",
              "      delete Bokeh.index[id];\n",
              "    }\n",
              "\n",
              "    if (server_id !== undefined) {\n",
              "      // Clean up Bokeh references\n",
              "      var cmd = \"from bokeh.io.state import curstate; print(curstate().uuid_to_server['\" + server_id + \"'].get_sessions()[0].document.roots[0]._id)\";\n",
              "      cell.notebook.kernel.execute(cmd, {\n",
              "        iopub: {\n",
              "          output: function(msg) {\n",
              "            var id = msg.content.text.trim();\n",
              "            if (id in Bokeh.index) {\n",
              "              Bokeh.index[id].model.document.clear();\n",
              "              delete Bokeh.index[id];\n",
              "            }\n",
              "          }\n",
              "        }\n",
              "      });\n",
              "      // Destroy server and session\n",
              "      var cmd = \"import bokeh.io.notebook as ion; ion.destroy_server('\" + server_id + \"')\";\n",
              "      cell.notebook.kernel.execute(cmd);\n",
              "    }\n",
              "  }\n",
              "\n",
              "  /**\n",
              "   * Handle when a new output is added\n",
              "   */\n",
              "  function handleAddOutput(event, handle) {\n",
              "    var output_area = handle.output_area;\n",
              "    var output = handle.output;\n",
              "\n",
              "    // limit handleAddOutput to display_data with EXEC_MIME_TYPE content only\n",
              "    if ((output.output_type != \"display_data\") || (!Object.prototype.hasOwnProperty.call(output.data, EXEC_MIME_TYPE))) {\n",
              "      return\n",
              "    }\n",
              "\n",
              "    var toinsert = output_area.element.find(\".\" + CLASS_NAME.split(' ')[0]);\n",
              "\n",
              "    if (output.metadata[EXEC_MIME_TYPE][\"id\"] !== undefined) {\n",
              "      toinsert[toinsert.length - 1].firstChild.textContent = output.data[JS_MIME_TYPE];\n",
              "      // store reference to embed id on output_area\n",
              "      output_area._bokeh_element_id = output.metadata[EXEC_MIME_TYPE][\"id\"];\n",
              "    }\n",
              "    if (output.metadata[EXEC_MIME_TYPE][\"server_id\"] !== undefined) {\n",
              "      var bk_div = document.createElement(\"div\");\n",
              "      bk_div.innerHTML = output.data[HTML_MIME_TYPE];\n",
              "      var script_attrs = bk_div.children[0].attributes;\n",
              "      for (var i = 0; i < script_attrs.length; i++) {\n",
              "        toinsert[toinsert.length - 1].firstChild.setAttribute(script_attrs[i].name, script_attrs[i].value);\n",
              "        toinsert[toinsert.length - 1].firstChild.textContent = bk_div.children[0].textContent\n",
              "      }\n",
              "      // store reference to server id on output_area\n",
              "      output_area._bokeh_server_id = output.metadata[EXEC_MIME_TYPE][\"server_id\"];\n",
              "    }\n",
              "  }\n",
              "\n",
              "  function register_renderer(events, OutputArea) {\n",
              "\n",
              "    function append_mime(data, metadata, element) {\n",
              "      // create a DOM node to render to\n",
              "      var toinsert = this.create_output_subarea(\n",
              "        metadata,\n",
              "        CLASS_NAME,\n",
              "        EXEC_MIME_TYPE\n",
              "      );\n",
              "      this.keyboard_manager.register_events(toinsert);\n",
              "      // Render to node\n",
              "      var props = {data: data, metadata: metadata[EXEC_MIME_TYPE]};\n",
              "      render(props, toinsert[toinsert.length - 1]);\n",
              "      element.append(toinsert);\n",
              "      return toinsert\n",
              "    }\n",
              "\n",
              "    /* Handle when an output is cleared or removed */\n",
              "    events.on('clear_output.CodeCell', handleClearOutput);\n",
              "    events.on('delete.Cell', handleClearOutput);\n",
              "\n",
              "    /* Handle when a new output is added */\n",
              "    events.on('output_added.OutputArea', handleAddOutput);\n",
              "\n",
              "    /**\n",
              "     * Register the mime type and append_mime function with output_area\n",
              "     */\n",
              "    OutputArea.prototype.register_mime_type(EXEC_MIME_TYPE, append_mime, {\n",
              "      /* Is output safe? */\n",
              "      safe: true,\n",
              "      /* Index of renderer in `output_area.display_order` */\n",
              "      index: 0\n",
              "    });\n",
              "  }\n",
              "\n",
              "  // register the mime type if in Jupyter Notebook environment and previously unregistered\n",
              "  if (root.Jupyter !== undefined) {\n",
              "    var events = require('base/js/events');\n",
              "    var OutputArea = require('notebook/js/outputarea').OutputArea;\n",
              "\n",
              "    if (OutputArea.prototype.mime_types().indexOf(EXEC_MIME_TYPE) == -1) {\n",
              "      register_renderer(events, OutputArea);\n",
              "    }\n",
              "  }\n",
              "\n",
              "  \n",
              "  if (typeof (root._bokeh_timeout) === \"undefined\" || force === true) {\n",
              "    root._bokeh_timeout = Date.now() + 5000;\n",
              "    root._bokeh_failed_load = false;\n",
              "  }\n",
              "\n",
              "  var NB_LOAD_WARNING = {'data': {'text/html':\n",
              "     \"<div style='background-color: #fdd'>\\n\"+\n",
              "     \"<p>\\n\"+\n",
              "     \"BokehJS does not appear to have successfully loaded. If loading BokehJS from CDN, this \\n\"+\n",
              "     \"may be due to a slow or bad network connection. Possible fixes:\\n\"+\n",
              "     \"</p>\\n\"+\n",
              "     \"<ul>\\n\"+\n",
              "     \"<li>re-rerun `output_notebook()` to attempt to load from CDN again, or</li>\\n\"+\n",
              "     \"<li>use INLINE resources instead, as so:</li>\\n\"+\n",
              "     \"</ul>\\n\"+\n",
              "     \"<code>\\n\"+\n",
              "     \"from bokeh.resources import INLINE\\n\"+\n",
              "     \"output_notebook(resources=INLINE)\\n\"+\n",
              "     \"</code>\\n\"+\n",
              "     \"</div>\"}};\n",
              "\n",
              "  function display_loaded() {\n",
              "    var el = document.getElementById(null);\n",
              "    if (el != null) {\n",
              "      el.textContent = \"BokehJS is loading...\";\n",
              "    }\n",
              "    if (root.Bokeh !== undefined) {\n",
              "      if (el != null) {\n",
              "        el.textContent = \"BokehJS \" + root.Bokeh.version + \" successfully loaded.\";\n",
              "      }\n",
              "    } else if (Date.now() < root._bokeh_timeout) {\n",
              "      setTimeout(display_loaded, 100)\n",
              "    }\n",
              "  }\n",
              "\n",
              "\n",
              "  function run_callbacks() {\n",
              "    try {\n",
              "      root._bokeh_onload_callbacks.forEach(function(callback) {\n",
              "        if (callback != null)\n",
              "          callback();\n",
              "      });\n",
              "    } finally {\n",
              "      delete root._bokeh_onload_callbacks\n",
              "    }\n",
              "    console.debug(\"Bokeh: all callbacks have finished\");\n",
              "  }\n",
              "\n",
              "  function load_libs(css_urls, js_urls, callback) {\n",
              "    if (css_urls == null) css_urls = [];\n",
              "    if (js_urls == null) js_urls = [];\n",
              "\n",
              "    root._bokeh_onload_callbacks.push(callback);\n",
              "    if (root._bokeh_is_loading > 0) {\n",
              "      console.debug(\"Bokeh: BokehJS is being loaded, scheduling callback at\", now());\n",
              "      return null;\n",
              "    }\n",
              "    if (js_urls == null || js_urls.length === 0) {\n",
              "      run_callbacks();\n",
              "      return null;\n",
              "    }\n",
              "    console.debug(\"Bokeh: BokehJS not loaded, scheduling load and callback at\", now());\n",
              "    root._bokeh_is_loading = css_urls.length + js_urls.length;\n",
              "\n",
              "    function on_load() {\n",
              "      root._bokeh_is_loading--;\n",
              "      if (root._bokeh_is_loading === 0) {\n",
              "        console.debug(\"Bokeh: all BokehJS libraries/stylesheets loaded\");\n",
              "        run_callbacks()\n",
              "      }\n",
              "    }\n",
              "\n",
              "    function on_error(url) {\n",
              "      console.error(\"failed to load \" + url);\n",
              "    }\n",
              "\n",
              "    for (let i = 0; i < css_urls.length; i++) {\n",
              "      const url = css_urls[i];\n",
              "      const element = document.createElement(\"link\");\n",
              "      element.onload = on_load;\n",
              "      element.onerror = on_error.bind(null, url);\n",
              "      element.rel = \"stylesheet\";\n",
              "      element.type = \"text/css\";\n",
              "      element.href = url;\n",
              "      console.debug(\"Bokeh: injecting link tag for BokehJS stylesheet: \", url);\n",
              "      document.body.appendChild(element);\n",
              "    }\n",
              "\n",
              "    const hashes = {\"https://cdn.bokeh.org/bokeh/release/bokeh-2.3.3.min.js\": \"dM3QQsP+wXdHg42wTqW85BjZQdLNNIXqlPw/BgKoExPmTG7ZLML4EGqLMfqHT6ON\", \"https://cdn.bokeh.org/bokeh/release/bokeh-tables-2.3.3.min.js\": \"8x57I4YuIfu8XyZfFo0XVr2WAT8EK4rh/uDe3wF7YuW2FNUSNEpJbsPaB1nJ2fz2\", \"https://cdn.bokeh.org/bokeh/release/bokeh-widgets-2.3.3.min.js\": \"3QTqdz9LyAm2i0sG5XTePsHec3UHWwVsrOL68SYRoAXsafvfAyqtQ+h440+qIBhS\"};\n",
              "\n",
              "    for (let i = 0; i < js_urls.length; i++) {\n",
              "      const url = js_urls[i];\n",
              "      const element = document.createElement('script');\n",
              "      element.onload = on_load;\n",
              "      element.onerror = on_error.bind(null, url);\n",
              "      element.async = false;\n",
              "      element.src = url;\n",
              "      if (url in hashes) {\n",
              "        element.crossOrigin = \"anonymous\";\n",
              "        element.integrity = \"sha384-\" + hashes[url];\n",
              "      }\n",
              "      console.debug(\"Bokeh: injecting script tag for BokehJS library: \", url);\n",
              "      document.head.appendChild(element);\n",
              "    }\n",
              "  };\n",
              "\n",
              "  function inject_raw_css(css) {\n",
              "    const element = document.createElement(\"style\");\n",
              "    element.appendChild(document.createTextNode(css));\n",
              "    document.body.appendChild(element);\n",
              "  }\n",
              "\n",
              "  \n",
              "  var js_urls = [\"https://cdn.bokeh.org/bokeh/release/bokeh-2.3.3.min.js\", \"https://cdn.bokeh.org/bokeh/release/bokeh-widgets-2.3.3.min.js\", \"https://cdn.bokeh.org/bokeh/release/bokeh-tables-2.3.3.min.js\"];\n",
              "  var css_urls = [];\n",
              "  \n",
              "\n",
              "  var inline_js = [\n",
              "    function(Bokeh) {\n",
              "      Bokeh.set_log_level(\"info\");\n",
              "    },\n",
              "    function(Bokeh) {\n",
              "    \n",
              "    \n",
              "    }\n",
              "  ];\n",
              "\n",
              "  function run_inline_js() {\n",
              "    \n",
              "    if (root.Bokeh !== undefined || force === true) {\n",
              "      \n",
              "    for (var i = 0; i < inline_js.length; i++) {\n",
              "      inline_js[i].call(root, root.Bokeh);\n",
              "    }\n",
              "    } else if (Date.now() < root._bokeh_timeout) {\n",
              "      setTimeout(run_inline_js, 100);\n",
              "    } else if (!root._bokeh_failed_load) {\n",
              "      console.log(\"Bokeh: BokehJS failed to load within specified timeout.\");\n",
              "      root._bokeh_failed_load = true;\n",
              "    } else if (force !== true) {\n",
              "      var cell = $(document.getElementById(null)).parents('.cell').data().cell;\n",
              "      cell.output_area.append_execute_result(NB_LOAD_WARNING)\n",
              "    }\n",
              "\n",
              "  }\n",
              "\n",
              "  if (root._bokeh_is_loading === 0) {\n",
              "    console.debug(\"Bokeh: BokehJS loaded, going straight to plotting\");\n",
              "    run_inline_js();\n",
              "  } else {\n",
              "    load_libs(css_urls, js_urls, function() {\n",
              "      console.debug(\"Bokeh: BokehJS plotting callback run at\", now());\n",
              "      run_inline_js();\n",
              "    });\n",
              "  }\n",
              "}(window));"
            ],
            "application/vnd.bokehjs_load.v0+json": "\n(function(root) {\n  function now() {\n    return new Date();\n  }\n\n  var force = true;\n\n  if (typeof root._bokeh_onload_callbacks === \"undefined\" || force === true) {\n    root._bokeh_onload_callbacks = [];\n    root._bokeh_is_loading = undefined;\n  }\n\n  \n\n  \n  if (typeof (root._bokeh_timeout) === \"undefined\" || force === true) {\n    root._bokeh_timeout = Date.now() + 5000;\n    root._bokeh_failed_load = false;\n  }\n\n  var NB_LOAD_WARNING = {'data': {'text/html':\n     \"<div style='background-color: #fdd'>\\n\"+\n     \"<p>\\n\"+\n     \"BokehJS does not appear to have successfully loaded. If loading BokehJS from CDN, this \\n\"+\n     \"may be due to a slow or bad network connection. Possible fixes:\\n\"+\n     \"</p>\\n\"+\n     \"<ul>\\n\"+\n     \"<li>re-rerun `output_notebook()` to attempt to load from CDN again, or</li>\\n\"+\n     \"<li>use INLINE resources instead, as so:</li>\\n\"+\n     \"</ul>\\n\"+\n     \"<code>\\n\"+\n     \"from bokeh.resources import INLINE\\n\"+\n     \"output_notebook(resources=INLINE)\\n\"+\n     \"</code>\\n\"+\n     \"</div>\"}};\n\n  function display_loaded() {\n    var el = document.getElementById(null);\n    if (el != null) {\n      el.textContent = \"BokehJS is loading...\";\n    }\n    if (root.Bokeh !== undefined) {\n      if (el != null) {\n        el.textContent = \"BokehJS \" + root.Bokeh.version + \" successfully loaded.\";\n      }\n    } else if (Date.now() < root._bokeh_timeout) {\n      setTimeout(display_loaded, 100)\n    }\n  }\n\n\n  function run_callbacks() {\n    try {\n      root._bokeh_onload_callbacks.forEach(function(callback) {\n        if (callback != null)\n          callback();\n      });\n    } finally {\n      delete root._bokeh_onload_callbacks\n    }\n    console.debug(\"Bokeh: all callbacks have finished\");\n  }\n\n  function load_libs(css_urls, js_urls, callback) {\n    if (css_urls == null) css_urls = [];\n    if (js_urls == null) js_urls = [];\n\n    root._bokeh_onload_callbacks.push(callback);\n    if (root._bokeh_is_loading > 0) {\n      console.debug(\"Bokeh: BokehJS is being loaded, scheduling callback at\", now());\n      return null;\n    }\n    if (js_urls == null || js_urls.length === 0) {\n      run_callbacks();\n      return null;\n    }\n    console.debug(\"Bokeh: BokehJS not loaded, scheduling load and callback at\", now());\n    root._bokeh_is_loading = css_urls.length + js_urls.length;\n\n    function on_load() {\n      root._bokeh_is_loading--;\n      if (root._bokeh_is_loading === 0) {\n        console.debug(\"Bokeh: all BokehJS libraries/stylesheets loaded\");\n        run_callbacks()\n      }\n    }\n\n    function on_error(url) {\n      console.error(\"failed to load \" + url);\n    }\n\n    for (let i = 0; i < css_urls.length; i++) {\n      const url = css_urls[i];\n      const element = document.createElement(\"link\");\n      element.onload = on_load;\n      element.onerror = on_error.bind(null, url);\n      element.rel = \"stylesheet\";\n      element.type = \"text/css\";\n      element.href = url;\n      console.debug(\"Bokeh: injecting link tag for BokehJS stylesheet: \", url);\n      document.body.appendChild(element);\n    }\n\n    const hashes = {\"https://cdn.bokeh.org/bokeh/release/bokeh-2.3.3.min.js\": \"dM3QQsP+wXdHg42wTqW85BjZQdLNNIXqlPw/BgKoExPmTG7ZLML4EGqLMfqHT6ON\", \"https://cdn.bokeh.org/bokeh/release/bokeh-tables-2.3.3.min.js\": \"8x57I4YuIfu8XyZfFo0XVr2WAT8EK4rh/uDe3wF7YuW2FNUSNEpJbsPaB1nJ2fz2\", \"https://cdn.bokeh.org/bokeh/release/bokeh-widgets-2.3.3.min.js\": \"3QTqdz9LyAm2i0sG5XTePsHec3UHWwVsrOL68SYRoAXsafvfAyqtQ+h440+qIBhS\"};\n\n    for (let i = 0; i < js_urls.length; i++) {\n      const url = js_urls[i];\n      const element = document.createElement('script');\n      element.onload = on_load;\n      element.onerror = on_error.bind(null, url);\n      element.async = false;\n      element.src = url;\n      if (url in hashes) {\n        element.crossOrigin = \"anonymous\";\n        element.integrity = \"sha384-\" + hashes[url];\n      }\n      console.debug(\"Bokeh: injecting script tag for BokehJS library: \", url);\n      document.head.appendChild(element);\n    }\n  };\n\n  function inject_raw_css(css) {\n    const element = document.createElement(\"style\");\n    element.appendChild(document.createTextNode(css));\n    document.body.appendChild(element);\n  }\n\n  \n  var js_urls = [\"https://cdn.bokeh.org/bokeh/release/bokeh-2.3.3.min.js\", \"https://cdn.bokeh.org/bokeh/release/bokeh-widgets-2.3.3.min.js\", \"https://cdn.bokeh.org/bokeh/release/bokeh-tables-2.3.3.min.js\"];\n  var css_urls = [];\n  \n\n  var inline_js = [\n    function(Bokeh) {\n      Bokeh.set_log_level(\"info\");\n    },\n    function(Bokeh) {\n    \n    \n    }\n  ];\n\n  function run_inline_js() {\n    \n    if (root.Bokeh !== undefined || force === true) {\n      \n    for (var i = 0; i < inline_js.length; i++) {\n      inline_js[i].call(root, root.Bokeh);\n    }\n    } else if (Date.now() < root._bokeh_timeout) {\n      setTimeout(run_inline_js, 100);\n    } else if (!root._bokeh_failed_load) {\n      console.log(\"Bokeh: BokehJS failed to load within specified timeout.\");\n      root._bokeh_failed_load = true;\n    } else if (force !== true) {\n      var cell = $(document.getElementById(null)).parents('.cell').data().cell;\n      cell.output_area.append_execute_result(NB_LOAD_WARNING)\n    }\n\n  }\n\n  if (root._bokeh_is_loading === 0) {\n    console.debug(\"Bokeh: BokehJS loaded, going straight to plotting\");\n    run_inline_js();\n  } else {\n    load_libs(css_urls, js_urls, function() {\n      console.debug(\"Bokeh: BokehJS plotting callback run at\", now());\n      run_inline_js();\n    });\n  }\n}(window));"
          },
          "metadata": {}
        },
        {
          "output_type": "display_data",
          "data": {
            "text/html": [
              "\n",
              "\n",
              "\n",
              "\n",
              "\n",
              "\n",
              "  <div class=\"bk-root\" id=\"27885fbe-93d5-4b3a-b778-3210b02587a0\" data-root-id=\"2488\"></div>\n"
            ]
          },
          "metadata": {}
        },
        {
          "output_type": "display_data",
          "data": {
            "application/javascript": [
              "(function(root) {\n",
              "  function embed_document(root) {\n",
              "    \n",
              "  var docs_json = {\"0a293285-6dbf-4f97-9638-ff640c1f4f94\":{\"defs\":[],\"roots\":{\"references\":[{\"attributes\":{\"below\":[{\"id\":\"2499\"}],\"center\":[{\"id\":\"2502\"},{\"id\":\"2506\"}],\"height\":400,\"left\":[{\"id\":\"2503\"}],\"renderers\":[{\"id\":\"2524\"}],\"title\":{\"id\":\"2489\"},\"toolbar\":{\"id\":\"2514\"},\"width\":400,\"x_range\":{\"id\":\"2491\"},\"x_scale\":{\"id\":\"2495\"},\"y_range\":{\"id\":\"2493\"},\"y_scale\":{\"id\":\"2497\"}},\"id\":\"2488\",\"subtype\":\"Figure\",\"type\":\"Plot\"},{\"attributes\":{\"fill_color\":{\"value\":\"deeppink\"},\"line_color\":{\"value\":\"deeppink\"},\"x\":{\"field\":\"x\"},\"y\":{\"field\":\"y\"}},\"id\":\"2522\",\"type\":\"Circle\"},{\"attributes\":{},\"id\":\"2508\",\"type\":\"WheelZoomTool\"},{\"attributes\":{\"fill_alpha\":{\"value\":0.1},\"fill_color\":{\"value\":\"deeppink\"},\"line_alpha\":{\"value\":0.1},\"line_color\":{\"value\":\"deeppink\"},\"x\":{\"field\":\"x\"},\"y\":{\"field\":\"y\"}},\"id\":\"2523\",\"type\":\"Circle\"},{\"attributes\":{},\"id\":\"2512\",\"type\":\"HelpTool\"},{\"attributes\":{\"active_multi\":null,\"tools\":[{\"id\":\"2507\"},{\"id\":\"2508\"},{\"id\":\"2509\"},{\"id\":\"2510\"},{\"id\":\"2511\"},{\"id\":\"2512\"}]},\"id\":\"2514\",\"type\":\"Toolbar\"},{\"attributes\":{},\"id\":\"2507\",\"type\":\"PanTool\"},{\"attributes\":{\"overlay\":{\"id\":\"2513\"}},\"id\":\"2509\",\"type\":\"BoxZoomTool\"},{\"attributes\":{},\"id\":\"2628\",\"type\":\"Selection\"},{\"attributes\":{},\"id\":\"2510\",\"type\":\"SaveTool\"},{\"attributes\":{\"axis\":{\"id\":\"2499\"},\"ticker\":null},\"id\":\"2502\",\"type\":\"Grid\"},{\"attributes\":{},\"id\":\"2511\",\"type\":\"ResetTool\"},{\"attributes\":{\"source\":{\"id\":\"2521\"}},\"id\":\"2525\",\"type\":\"CDSView\"},{\"attributes\":{},\"id\":\"2623\",\"type\":\"AllLabels\"},{\"attributes\":{},\"id\":\"2629\",\"type\":\"UnionRenderers\"},{\"attributes\":{},\"id\":\"2493\",\"type\":\"DataRange1d\"},{\"attributes\":{},\"id\":\"2626\",\"type\":\"AllLabels\"},{\"attributes\":{\"data_source\":{\"id\":\"2521\"},\"glyph\":{\"id\":\"2522\"},\"hover_glyph\":null,\"muted_glyph\":null,\"nonselection_glyph\":{\"id\":\"2523\"},\"view\":{\"id\":\"2525\"}},\"id\":\"2524\",\"type\":\"GlyphRenderer\"},{\"attributes\":{},\"id\":\"2624\",\"type\":\"BasicTickFormatter\"},{\"attributes\":{},\"id\":\"2495\",\"type\":\"LinearScale\"},{\"attributes\":{},\"id\":\"2621\",\"type\":\"BasicTickFormatter\"},{\"attributes\":{\"bottom_units\":\"screen\",\"fill_alpha\":0.5,\"fill_color\":\"lightgrey\",\"left_units\":\"screen\",\"level\":\"overlay\",\"line_alpha\":1.0,\"line_color\":\"black\",\"line_dash\":[4,4],\"line_width\":2,\"right_units\":\"screen\",\"syncable\":false,\"top_units\":\"screen\"},\"id\":\"2513\",\"type\":\"BoxAnnotation\"},{\"attributes\":{\"axis_label\":\"-log10(p-values)\",\"formatter\":{\"id\":\"2624\"},\"major_label_policy\":{\"id\":\"2626\"},\"ticker\":{\"id\":\"2504\"}},\"id\":\"2503\",\"type\":\"LinearAxis\"},{\"attributes\":{\"data\":{\"x\":{\"__ndarray__\":\"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\",\"dtype\":\"float64\",\"order\":\"little\",\"shape\":[994]},\"y\":{\"__ndarray__\":\"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\",\"dtype\":\"float64\",\"order\":\"little\",\"shape\":[994]}},\"selected\":{\"id\":\"2628\"},\"selection_policy\":{\"id\":\"2629\"}},\"id\":\"2521\",\"type\":\"ColumnDataSource\"},{\"attributes\":{},\"id\":\"2497\",\"type\":\"LinearScale\"},{\"attributes\":{},\"id\":\"2500\",\"type\":\"BasicTicker\"},{\"attributes\":{\"axis_label\":\"log2(FC)\",\"formatter\":{\"id\":\"2621\"},\"major_label_policy\":{\"id\":\"2623\"},\"ticker\":{\"id\":\"2500\"}},\"id\":\"2499\",\"type\":\"LinearAxis\"},{\"attributes\":{\"text\":\"Volcano Plot\"},\"id\":\"2489\",\"type\":\"Title\"},{\"attributes\":{},\"id\":\"2504\",\"type\":\"BasicTicker\"},{\"attributes\":{\"axis\":{\"id\":\"2503\"},\"dimension\":1,\"ticker\":null},\"id\":\"2506\",\"type\":\"Grid\"},{\"attributes\":{},\"id\":\"2491\",\"type\":\"DataRange1d\"}],\"root_ids\":[\"2488\"]},\"title\":\"Bokeh Application\",\"version\":\"2.3.3\"}};\n",
              "  var render_items = [{\"docid\":\"0a293285-6dbf-4f97-9638-ff640c1f4f94\",\"root_ids\":[\"2488\"],\"roots\":{\"2488\":\"27885fbe-93d5-4b3a-b778-3210b02587a0\"}}];\n",
              "  root.Bokeh.embed.embed_items_notebook(docs_json, render_items);\n",
              "\n",
              "  }\n",
              "  if (root.Bokeh !== undefined) {\n",
              "    embed_document(root);\n",
              "  } else {\n",
              "    var attempts = 0;\n",
              "    var timer = setInterval(function(root) {\n",
              "      if (root.Bokeh !== undefined) {\n",
              "        clearInterval(timer);\n",
              "        embed_document(root);\n",
              "      } else {\n",
              "        attempts++;\n",
              "        if (attempts > 100) {\n",
              "          clearInterval(timer);\n",
              "          console.log(\"Bokeh: ERROR: Unable to run BokehJS code because BokehJS library is missing\");\n",
              "        }\n",
              "      }\n",
              "    }, 10, root)\n",
              "  }\n",
              "})(window);"
            ],
            "application/vnd.bokehjs_exec.v0+json": ""
          },
          "metadata": {
            "application/vnd.bokehjs_exec.v0+json": {
              "id": "2488"
            }
          }
        }
      ]
    },
    {
      "cell_type": "code",
      "source": [
        "#lets choose the gene on the far right with a low p-value and a log2(FC) of about 5.6398 \n",
        "#(found the cut off value by zooming into the point of interest)\n",
        "gene_ind = np.where(l2FC > 5.6398 )\n",
        "\n",
        "#find and print the gene name, log2FC, and p-value\n",
        "gene_name = reduced_meta_gene.iloc[gene_ind[0]]\n",
        "\n",
        "print(\"the index of the gene and name of the gene are:\", gene_name[\"gene_name\"])\n",
        "print(\"the p-value of the gene is:\",p_MW[gene_ind])\n",
        "print(\"the log2(FC) of the gene is:\",l2FC[gene_ind])\n",
        "\n",
        "#color the gene and reprint the plot\n",
        "\n",
        "vol2.circle(l2FC[gene_ind],-np.log10(p_MW[gene_ind]),color=\"blue\")\n",
        "\n",
        "bokeh.io.show(vol2)"
      ],
      "metadata": {
        "colab": {
          "base_uri": "https://localhost:8080/",
          "height": 490
        },
        "id": "siOHfZlGmZGo",
        "outputId": "4560cdaa-ee3a-48fa-a500-1b0591431382"
      },
      "execution_count": 38,
      "outputs": [
        {
          "output_type": "stream",
          "name": "stdout",
          "text": [
            "the index of the gene and name of the gene are: 342    Cdx2\n",
            "Name: gene_name, dtype: object\n",
            "the p-value of the gene is: [1.66654968e-06]\n",
            "the log2(FC) of the gene is: [5.63982454]\n"
          ]
        },
        {
          "output_type": "display_data",
          "data": {
            "application/javascript": [
              "\n",
              "(function(root) {\n",
              "  function now() {\n",
              "    return new Date();\n",
              "  }\n",
              "\n",
              "  var force = true;\n",
              "\n",
              "  if (typeof root._bokeh_onload_callbacks === \"undefined\" || force === true) {\n",
              "    root._bokeh_onload_callbacks = [];\n",
              "    root._bokeh_is_loading = undefined;\n",
              "  }\n",
              "\n",
              "  var JS_MIME_TYPE = 'application/javascript';\n",
              "  var HTML_MIME_TYPE = 'text/html';\n",
              "  var EXEC_MIME_TYPE = 'application/vnd.bokehjs_exec.v0+json';\n",
              "  var CLASS_NAME = 'output_bokeh rendered_html';\n",
              "\n",
              "  /**\n",
              "   * Render data to the DOM node\n",
              "   */\n",
              "  function render(props, node) {\n",
              "    var script = document.createElement(\"script\");\n",
              "    node.appendChild(script);\n",
              "  }\n",
              "\n",
              "  /**\n",
              "   * Handle when an output is cleared or removed\n",
              "   */\n",
              "  function handleClearOutput(event, handle) {\n",
              "    var cell = handle.cell;\n",
              "\n",
              "    var id = cell.output_area._bokeh_element_id;\n",
              "    var server_id = cell.output_area._bokeh_server_id;\n",
              "    // Clean up Bokeh references\n",
              "    if (id != null && id in Bokeh.index) {\n",
              "      Bokeh.index[id].model.document.clear();\n",
              "      delete Bokeh.index[id];\n",
              "    }\n",
              "\n",
              "    if (server_id !== undefined) {\n",
              "      // Clean up Bokeh references\n",
              "      var cmd = \"from bokeh.io.state import curstate; print(curstate().uuid_to_server['\" + server_id + \"'].get_sessions()[0].document.roots[0]._id)\";\n",
              "      cell.notebook.kernel.execute(cmd, {\n",
              "        iopub: {\n",
              "          output: function(msg) {\n",
              "            var id = msg.content.text.trim();\n",
              "            if (id in Bokeh.index) {\n",
              "              Bokeh.index[id].model.document.clear();\n",
              "              delete Bokeh.index[id];\n",
              "            }\n",
              "          }\n",
              "        }\n",
              "      });\n",
              "      // Destroy server and session\n",
              "      var cmd = \"import bokeh.io.notebook as ion; ion.destroy_server('\" + server_id + \"')\";\n",
              "      cell.notebook.kernel.execute(cmd);\n",
              "    }\n",
              "  }\n",
              "\n",
              "  /**\n",
              "   * Handle when a new output is added\n",
              "   */\n",
              "  function handleAddOutput(event, handle) {\n",
              "    var output_area = handle.output_area;\n",
              "    var output = handle.output;\n",
              "\n",
              "    // limit handleAddOutput to display_data with EXEC_MIME_TYPE content only\n",
              "    if ((output.output_type != \"display_data\") || (!Object.prototype.hasOwnProperty.call(output.data, EXEC_MIME_TYPE))) {\n",
              "      return\n",
              "    }\n",
              "\n",
              "    var toinsert = output_area.element.find(\".\" + CLASS_NAME.split(' ')[0]);\n",
              "\n",
              "    if (output.metadata[EXEC_MIME_TYPE][\"id\"] !== undefined) {\n",
              "      toinsert[toinsert.length - 1].firstChild.textContent = output.data[JS_MIME_TYPE];\n",
              "      // store reference to embed id on output_area\n",
              "      output_area._bokeh_element_id = output.metadata[EXEC_MIME_TYPE][\"id\"];\n",
              "    }\n",
              "    if (output.metadata[EXEC_MIME_TYPE][\"server_id\"] !== undefined) {\n",
              "      var bk_div = document.createElement(\"div\");\n",
              "      bk_div.innerHTML = output.data[HTML_MIME_TYPE];\n",
              "      var script_attrs = bk_div.children[0].attributes;\n",
              "      for (var i = 0; i < script_attrs.length; i++) {\n",
              "        toinsert[toinsert.length - 1].firstChild.setAttribute(script_attrs[i].name, script_attrs[i].value);\n",
              "        toinsert[toinsert.length - 1].firstChild.textContent = bk_div.children[0].textContent\n",
              "      }\n",
              "      // store reference to server id on output_area\n",
              "      output_area._bokeh_server_id = output.metadata[EXEC_MIME_TYPE][\"server_id\"];\n",
              "    }\n",
              "  }\n",
              "\n",
              "  function register_renderer(events, OutputArea) {\n",
              "\n",
              "    function append_mime(data, metadata, element) {\n",
              "      // create a DOM node to render to\n",
              "      var toinsert = this.create_output_subarea(\n",
              "        metadata,\n",
              "        CLASS_NAME,\n",
              "        EXEC_MIME_TYPE\n",
              "      );\n",
              "      this.keyboard_manager.register_events(toinsert);\n",
              "      // Render to node\n",
              "      var props = {data: data, metadata: metadata[EXEC_MIME_TYPE]};\n",
              "      render(props, toinsert[toinsert.length - 1]);\n",
              "      element.append(toinsert);\n",
              "      return toinsert\n",
              "    }\n",
              "\n",
              "    /* Handle when an output is cleared or removed */\n",
              "    events.on('clear_output.CodeCell', handleClearOutput);\n",
              "    events.on('delete.Cell', handleClearOutput);\n",
              "\n",
              "    /* Handle when a new output is added */\n",
              "    events.on('output_added.OutputArea', handleAddOutput);\n",
              "\n",
              "    /**\n",
              "     * Register the mime type and append_mime function with output_area\n",
              "     */\n",
              "    OutputArea.prototype.register_mime_type(EXEC_MIME_TYPE, append_mime, {\n",
              "      /* Is output safe? */\n",
              "      safe: true,\n",
              "      /* Index of renderer in `output_area.display_order` */\n",
              "      index: 0\n",
              "    });\n",
              "  }\n",
              "\n",
              "  // register the mime type if in Jupyter Notebook environment and previously unregistered\n",
              "  if (root.Jupyter !== undefined) {\n",
              "    var events = require('base/js/events');\n",
              "    var OutputArea = require('notebook/js/outputarea').OutputArea;\n",
              "\n",
              "    if (OutputArea.prototype.mime_types().indexOf(EXEC_MIME_TYPE) == -1) {\n",
              "      register_renderer(events, OutputArea);\n",
              "    }\n",
              "  }\n",
              "\n",
              "  \n",
              "  if (typeof (root._bokeh_timeout) === \"undefined\" || force === true) {\n",
              "    root._bokeh_timeout = Date.now() + 5000;\n",
              "    root._bokeh_failed_load = false;\n",
              "  }\n",
              "\n",
              "  var NB_LOAD_WARNING = {'data': {'text/html':\n",
              "     \"<div style='background-color: #fdd'>\\n\"+\n",
              "     \"<p>\\n\"+\n",
              "     \"BokehJS does not appear to have successfully loaded. If loading BokehJS from CDN, this \\n\"+\n",
              "     \"may be due to a slow or bad network connection. Possible fixes:\\n\"+\n",
              "     \"</p>\\n\"+\n",
              "     \"<ul>\\n\"+\n",
              "     \"<li>re-rerun `output_notebook()` to attempt to load from CDN again, or</li>\\n\"+\n",
              "     \"<li>use INLINE resources instead, as so:</li>\\n\"+\n",
              "     \"</ul>\\n\"+\n",
              "     \"<code>\\n\"+\n",
              "     \"from bokeh.resources import INLINE\\n\"+\n",
              "     \"output_notebook(resources=INLINE)\\n\"+\n",
              "     \"</code>\\n\"+\n",
              "     \"</div>\"}};\n",
              "\n",
              "  function display_loaded() {\n",
              "    var el = document.getElementById(null);\n",
              "    if (el != null) {\n",
              "      el.textContent = \"BokehJS is loading...\";\n",
              "    }\n",
              "    if (root.Bokeh !== undefined) {\n",
              "      if (el != null) {\n",
              "        el.textContent = \"BokehJS \" + root.Bokeh.version + \" successfully loaded.\";\n",
              "      }\n",
              "    } else if (Date.now() < root._bokeh_timeout) {\n",
              "      setTimeout(display_loaded, 100)\n",
              "    }\n",
              "  }\n",
              "\n",
              "\n",
              "  function run_callbacks() {\n",
              "    try {\n",
              "      root._bokeh_onload_callbacks.forEach(function(callback) {\n",
              "        if (callback != null)\n",
              "          callback();\n",
              "      });\n",
              "    } finally {\n",
              "      delete root._bokeh_onload_callbacks\n",
              "    }\n",
              "    console.debug(\"Bokeh: all callbacks have finished\");\n",
              "  }\n",
              "\n",
              "  function load_libs(css_urls, js_urls, callback) {\n",
              "    if (css_urls == null) css_urls = [];\n",
              "    if (js_urls == null) js_urls = [];\n",
              "\n",
              "    root._bokeh_onload_callbacks.push(callback);\n",
              "    if (root._bokeh_is_loading > 0) {\n",
              "      console.debug(\"Bokeh: BokehJS is being loaded, scheduling callback at\", now());\n",
              "      return null;\n",
              "    }\n",
              "    if (js_urls == null || js_urls.length === 0) {\n",
              "      run_callbacks();\n",
              "      return null;\n",
              "    }\n",
              "    console.debug(\"Bokeh: BokehJS not loaded, scheduling load and callback at\", now());\n",
              "    root._bokeh_is_loading = css_urls.length + js_urls.length;\n",
              "\n",
              "    function on_load() {\n",
              "      root._bokeh_is_loading--;\n",
              "      if (root._bokeh_is_loading === 0) {\n",
              "        console.debug(\"Bokeh: all BokehJS libraries/stylesheets loaded\");\n",
              "        run_callbacks()\n",
              "      }\n",
              "    }\n",
              "\n",
              "    function on_error(url) {\n",
              "      console.error(\"failed to load \" + url);\n",
              "    }\n",
              "\n",
              "    for (let i = 0; i < css_urls.length; i++) {\n",
              "      const url = css_urls[i];\n",
              "      const element = document.createElement(\"link\");\n",
              "      element.onload = on_load;\n",
              "      element.onerror = on_error.bind(null, url);\n",
              "      element.rel = \"stylesheet\";\n",
              "      element.type = \"text/css\";\n",
              "      element.href = url;\n",
              "      console.debug(\"Bokeh: injecting link tag for BokehJS stylesheet: \", url);\n",
              "      document.body.appendChild(element);\n",
              "    }\n",
              "\n",
              "    const hashes = {\"https://cdn.bokeh.org/bokeh/release/bokeh-2.3.3.min.js\": \"dM3QQsP+wXdHg42wTqW85BjZQdLNNIXqlPw/BgKoExPmTG7ZLML4EGqLMfqHT6ON\", \"https://cdn.bokeh.org/bokeh/release/bokeh-tables-2.3.3.min.js\": \"8x57I4YuIfu8XyZfFo0XVr2WAT8EK4rh/uDe3wF7YuW2FNUSNEpJbsPaB1nJ2fz2\", \"https://cdn.bokeh.org/bokeh/release/bokeh-widgets-2.3.3.min.js\": \"3QTqdz9LyAm2i0sG5XTePsHec3UHWwVsrOL68SYRoAXsafvfAyqtQ+h440+qIBhS\"};\n",
              "\n",
              "    for (let i = 0; i < js_urls.length; i++) {\n",
              "      const url = js_urls[i];\n",
              "      const element = document.createElement('script');\n",
              "      element.onload = on_load;\n",
              "      element.onerror = on_error.bind(null, url);\n",
              "      element.async = false;\n",
              "      element.src = url;\n",
              "      if (url in hashes) {\n",
              "        element.crossOrigin = \"anonymous\";\n",
              "        element.integrity = \"sha384-\" + hashes[url];\n",
              "      }\n",
              "      console.debug(\"Bokeh: injecting script tag for BokehJS library: \", url);\n",
              "      document.head.appendChild(element);\n",
              "    }\n",
              "  };\n",
              "\n",
              "  function inject_raw_css(css) {\n",
              "    const element = document.createElement(\"style\");\n",
              "    element.appendChild(document.createTextNode(css));\n",
              "    document.body.appendChild(element);\n",
              "  }\n",
              "\n",
              "  \n",
              "  var js_urls = [\"https://cdn.bokeh.org/bokeh/release/bokeh-2.3.3.min.js\", \"https://cdn.bokeh.org/bokeh/release/bokeh-widgets-2.3.3.min.js\", \"https://cdn.bokeh.org/bokeh/release/bokeh-tables-2.3.3.min.js\"];\n",
              "  var css_urls = [];\n",
              "  \n",
              "\n",
              "  var inline_js = [\n",
              "    function(Bokeh) {\n",
              "      Bokeh.set_log_level(\"info\");\n",
              "    },\n",
              "    function(Bokeh) {\n",
              "    \n",
              "    \n",
              "    }\n",
              "  ];\n",
              "\n",
              "  function run_inline_js() {\n",
              "    \n",
              "    if (root.Bokeh !== undefined || force === true) {\n",
              "      \n",
              "    for (var i = 0; i < inline_js.length; i++) {\n",
              "      inline_js[i].call(root, root.Bokeh);\n",
              "    }\n",
              "    } else if (Date.now() < root._bokeh_timeout) {\n",
              "      setTimeout(run_inline_js, 100);\n",
              "    } else if (!root._bokeh_failed_load) {\n",
              "      console.log(\"Bokeh: BokehJS failed to load within specified timeout.\");\n",
              "      root._bokeh_failed_load = true;\n",
              "    } else if (force !== true) {\n",
              "      var cell = $(document.getElementById(null)).parents('.cell').data().cell;\n",
              "      cell.output_area.append_execute_result(NB_LOAD_WARNING)\n",
              "    }\n",
              "\n",
              "  }\n",
              "\n",
              "  if (root._bokeh_is_loading === 0) {\n",
              "    console.debug(\"Bokeh: BokehJS loaded, going straight to plotting\");\n",
              "    run_inline_js();\n",
              "  } else {\n",
              "    load_libs(css_urls, js_urls, function() {\n",
              "      console.debug(\"Bokeh: BokehJS plotting callback run at\", now());\n",
              "      run_inline_js();\n",
              "    });\n",
              "  }\n",
              "}(window));"
            ],
            "application/vnd.bokehjs_load.v0+json": "\n(function(root) {\n  function now() {\n    return new Date();\n  }\n\n  var force = true;\n\n  if (typeof root._bokeh_onload_callbacks === \"undefined\" || force === true) {\n    root._bokeh_onload_callbacks = [];\n    root._bokeh_is_loading = undefined;\n  }\n\n  \n\n  \n  if (typeof (root._bokeh_timeout) === \"undefined\" || force === true) {\n    root._bokeh_timeout = Date.now() + 5000;\n    root._bokeh_failed_load = false;\n  }\n\n  var NB_LOAD_WARNING = {'data': {'text/html':\n     \"<div style='background-color: #fdd'>\\n\"+\n     \"<p>\\n\"+\n     \"BokehJS does not appear to have successfully loaded. If loading BokehJS from CDN, this \\n\"+\n     \"may be due to a slow or bad network connection. Possible fixes:\\n\"+\n     \"</p>\\n\"+\n     \"<ul>\\n\"+\n     \"<li>re-rerun `output_notebook()` to attempt to load from CDN again, or</li>\\n\"+\n     \"<li>use INLINE resources instead, as so:</li>\\n\"+\n     \"</ul>\\n\"+\n     \"<code>\\n\"+\n     \"from bokeh.resources import INLINE\\n\"+\n     \"output_notebook(resources=INLINE)\\n\"+\n     \"</code>\\n\"+\n     \"</div>\"}};\n\n  function display_loaded() {\n    var el = document.getElementById(null);\n    if (el != null) {\n      el.textContent = \"BokehJS is loading...\";\n    }\n    if (root.Bokeh !== undefined) {\n      if (el != null) {\n        el.textContent = \"BokehJS \" + root.Bokeh.version + \" successfully loaded.\";\n      }\n    } else if (Date.now() < root._bokeh_timeout) {\n      setTimeout(display_loaded, 100)\n    }\n  }\n\n\n  function run_callbacks() {\n    try {\n      root._bokeh_onload_callbacks.forEach(function(callback) {\n        if (callback != null)\n          callback();\n      });\n    } finally {\n      delete root._bokeh_onload_callbacks\n    }\n    console.debug(\"Bokeh: all callbacks have finished\");\n  }\n\n  function load_libs(css_urls, js_urls, callback) {\n    if (css_urls == null) css_urls = [];\n    if (js_urls == null) js_urls = [];\n\n    root._bokeh_onload_callbacks.push(callback);\n    if (root._bokeh_is_loading > 0) {\n      console.debug(\"Bokeh: BokehJS is being loaded, scheduling callback at\", now());\n      return null;\n    }\n    if (js_urls == null || js_urls.length === 0) {\n      run_callbacks();\n      return null;\n    }\n    console.debug(\"Bokeh: BokehJS not loaded, scheduling load and callback at\", now());\n    root._bokeh_is_loading = css_urls.length + js_urls.length;\n\n    function on_load() {\n      root._bokeh_is_loading--;\n      if (root._bokeh_is_loading === 0) {\n        console.debug(\"Bokeh: all BokehJS libraries/stylesheets loaded\");\n        run_callbacks()\n      }\n    }\n\n    function on_error(url) {\n      console.error(\"failed to load \" + url);\n    }\n\n    for (let i = 0; i < css_urls.length; i++) {\n      const url = css_urls[i];\n      const element = document.createElement(\"link\");\n      element.onload = on_load;\n      element.onerror = on_error.bind(null, url);\n      element.rel = \"stylesheet\";\n      element.type = \"text/css\";\n      element.href = url;\n      console.debug(\"Bokeh: injecting link tag for BokehJS stylesheet: \", url);\n      document.body.appendChild(element);\n    }\n\n    const hashes = {\"https://cdn.bokeh.org/bokeh/release/bokeh-2.3.3.min.js\": \"dM3QQsP+wXdHg42wTqW85BjZQdLNNIXqlPw/BgKoExPmTG7ZLML4EGqLMfqHT6ON\", \"https://cdn.bokeh.org/bokeh/release/bokeh-tables-2.3.3.min.js\": \"8x57I4YuIfu8XyZfFo0XVr2WAT8EK4rh/uDe3wF7YuW2FNUSNEpJbsPaB1nJ2fz2\", \"https://cdn.bokeh.org/bokeh/release/bokeh-widgets-2.3.3.min.js\": \"3QTqdz9LyAm2i0sG5XTePsHec3UHWwVsrOL68SYRoAXsafvfAyqtQ+h440+qIBhS\"};\n\n    for (let i = 0; i < js_urls.length; i++) {\n      const url = js_urls[i];\n      const element = document.createElement('script');\n      element.onload = on_load;\n      element.onerror = on_error.bind(null, url);\n      element.async = false;\n      element.src = url;\n      if (url in hashes) {\n        element.crossOrigin = \"anonymous\";\n        element.integrity = \"sha384-\" + hashes[url];\n      }\n      console.debug(\"Bokeh: injecting script tag for BokehJS library: \", url);\n      document.head.appendChild(element);\n    }\n  };\n\n  function inject_raw_css(css) {\n    const element = document.createElement(\"style\");\n    element.appendChild(document.createTextNode(css));\n    document.body.appendChild(element);\n  }\n\n  \n  var js_urls = [\"https://cdn.bokeh.org/bokeh/release/bokeh-2.3.3.min.js\", \"https://cdn.bokeh.org/bokeh/release/bokeh-widgets-2.3.3.min.js\", \"https://cdn.bokeh.org/bokeh/release/bokeh-tables-2.3.3.min.js\"];\n  var css_urls = [];\n  \n\n  var inline_js = [\n    function(Bokeh) {\n      Bokeh.set_log_level(\"info\");\n    },\n    function(Bokeh) {\n    \n    \n    }\n  ];\n\n  function run_inline_js() {\n    \n    if (root.Bokeh !== undefined || force === true) {\n      \n    for (var i = 0; i < inline_js.length; i++) {\n      inline_js[i].call(root, root.Bokeh);\n    }\n    } else if (Date.now() < root._bokeh_timeout) {\n      setTimeout(run_inline_js, 100);\n    } else if (!root._bokeh_failed_load) {\n      console.log(\"Bokeh: BokehJS failed to load within specified timeout.\");\n      root._bokeh_failed_load = true;\n    } else if (force !== true) {\n      var cell = $(document.getElementById(null)).parents('.cell').data().cell;\n      cell.output_area.append_execute_result(NB_LOAD_WARNING)\n    }\n\n  }\n\n  if (root._bokeh_is_loading === 0) {\n    console.debug(\"Bokeh: BokehJS loaded, going straight to plotting\");\n    run_inline_js();\n  } else {\n    load_libs(css_urls, js_urls, function() {\n      console.debug(\"Bokeh: BokehJS plotting callback run at\", now());\n      run_inline_js();\n    });\n  }\n}(window));"
          },
          "metadata": {}
        },
        {
          "output_type": "display_data",
          "data": {
            "text/html": [
              "\n",
              "\n",
              "\n",
              "\n",
              "\n",
              "\n",
              "  <div class=\"bk-root\" id=\"c8e40b98-e76c-4c38-9cc0-77710f69d4cc\" data-root-id=\"2488\"></div>\n"
            ]
          },
          "metadata": {}
        },
        {
          "output_type": "display_data",
          "data": {
            "application/javascript": [
              "(function(root) {\n",
              "  function embed_document(root) {\n",
              "    \n",
              "  var docs_json = {\"b7164440-eaed-49b8-8767-07f5fb69bb97\":{\"defs\":[],\"roots\":{\"references\":[{\"attributes\":{\"below\":[{\"id\":\"2499\"}],\"center\":[{\"id\":\"2502\"},{\"id\":\"2506\"}],\"height\":400,\"left\":[{\"id\":\"2503\"}],\"renderers\":[{\"id\":\"2524\"},{\"id\":\"2683\"}],\"title\":{\"id\":\"2489\"},\"toolbar\":{\"id\":\"2514\"},\"width\":400,\"x_range\":{\"id\":\"2491\"},\"x_scale\":{\"id\":\"2495\"},\"y_range\":{\"id\":\"2493\"},\"y_scale\":{\"id\":\"2497\"}},\"id\":\"2488\",\"subtype\":\"Figure\",\"type\":\"Plot\"},{\"attributes\":{\"fill_color\":{\"value\":\"deeppink\"},\"line_color\":{\"value\":\"deeppink\"},\"x\":{\"field\":\"x\"},\"y\":{\"field\":\"y\"}},\"id\":\"2522\",\"type\":\"Circle\"},{\"attributes\":{},\"id\":\"2508\",\"type\":\"WheelZoomTool\"},{\"attributes\":{\"fill_alpha\":{\"value\":0.1},\"fill_color\":{\"value\":\"deeppink\"},\"line_alpha\":{\"value\":0.1},\"line_color\":{\"value\":\"deeppink\"},\"x\":{\"field\":\"x\"},\"y\":{\"field\":\"y\"}},\"id\":\"2523\",\"type\":\"Circle\"},{\"attributes\":{},\"id\":\"2512\",\"type\":\"HelpTool\"},{\"attributes\":{\"active_multi\":null,\"tools\":[{\"id\":\"2507\"},{\"id\":\"2508\"},{\"id\":\"2509\"},{\"id\":\"2510\"},{\"id\":\"2511\"},{\"id\":\"2512\"}]},\"id\":\"2514\",\"type\":\"Toolbar\"},{\"attributes\":{},\"id\":\"2507\",\"type\":\"PanTool\"},{\"attributes\":{\"overlay\":{\"id\":\"2513\"}},\"id\":\"2509\",\"type\":\"BoxZoomTool\"},{\"attributes\":{},\"id\":\"2628\",\"type\":\"Selection\"},{\"attributes\":{},\"id\":\"2510\",\"type\":\"SaveTool\"},{\"attributes\":{\"axis\":{\"id\":\"2499\"},\"ticker\":null},\"id\":\"2502\",\"type\":\"Grid\"},{\"attributes\":{},\"id\":\"2511\",\"type\":\"ResetTool\"},{\"attributes\":{\"source\":{\"id\":\"2521\"}},\"id\":\"2525\",\"type\":\"CDSView\"},{\"attributes\":{},\"id\":\"2623\",\"type\":\"AllLabels\"},{\"attributes\":{},\"id\":\"2629\",\"type\":\"UnionRenderers\"},{\"attributes\":{},\"id\":\"2493\",\"type\":\"DataRange1d\"},{\"attributes\":{},\"id\":\"2626\",\"type\":\"AllLabels\"},{\"attributes\":{\"data_source\":{\"id\":\"2521\"},\"glyph\":{\"id\":\"2522\"},\"hover_glyph\":null,\"muted_glyph\":null,\"nonselection_glyph\":{\"id\":\"2523\"},\"view\":{\"id\":\"2525\"}},\"id\":\"2524\",\"type\":\"GlyphRenderer\"},{\"attributes\":{\"fill_color\":{\"value\":\"blue\"},\"line_color\":{\"value\":\"blue\"},\"x\":{\"field\":\"x\"},\"y\":{\"field\":\"y\"}},\"id\":\"2681\",\"type\":\"Circle\"},{\"attributes\":{\"data_source\":{\"id\":\"2680\"},\"glyph\":{\"id\":\"2681\"},\"hover_glyph\":null,\"muted_glyph\":null,\"nonselection_glyph\":{\"id\":\"2682\"},\"view\":{\"id\":\"2684\"}},\"id\":\"2683\",\"type\":\"GlyphRenderer\"},{\"attributes\":{},\"id\":\"2495\",\"type\":\"LinearScale\"},{\"attributes\":{},\"id\":\"2624\",\"type\":\"BasicTickFormatter\"},{\"attributes\":{\"data\":{\"x\":{\"__ndarray__\":\"Pp3BKS6PFkA=\",\"dtype\":\"float64\",\"order\":\"little\",\"shape\":[1]},\"y\":{\"__ndarray__\":\"mDZJrNscF0A=\",\"dtype\":\"float64\",\"order\":\"little\",\"shape\":[1]}},\"selected\":{\"id\":\"2789\"},\"selection_policy\":{\"id\":\"2790\"}},\"id\":\"2680\",\"type\":\"ColumnDataSource\"},{\"attributes\":{\"fill_alpha\":{\"value\":0.1},\"fill_color\":{\"value\":\"blue\"},\"line_alpha\":{\"value\":0.1},\"line_color\":{\"value\":\"blue\"},\"x\":{\"field\":\"x\"},\"y\":{\"field\":\"y\"}},\"id\":\"2682\",\"type\":\"Circle\"},{\"attributes\":{},\"id\":\"2621\",\"type\":\"BasicTickFormatter\"},{\"attributes\":{\"source\":{\"id\":\"2680\"}},\"id\":\"2684\",\"type\":\"CDSView\"},{\"attributes\":{\"bottom_units\":\"screen\",\"fill_alpha\":0.5,\"fill_color\":\"lightgrey\",\"left_units\":\"screen\",\"level\":\"overlay\",\"line_alpha\":1.0,\"line_color\":\"black\",\"line_dash\":[4,4],\"line_width\":2,\"right_units\":\"screen\",\"syncable\":false,\"top_units\":\"screen\"},\"id\":\"2513\",\"type\":\"BoxAnnotation\"},{\"attributes\":{\"axis_label\":\"-log10(p-values)\",\"formatter\":{\"id\":\"2624\"},\"major_label_policy\":{\"id\":\"2626\"},\"ticker\":{\"id\":\"2504\"}},\"id\":\"2503\",\"type\":\"LinearAxis\"},{\"attributes\":{},\"id\":\"2789\",\"type\":\"Selection\"},{\"attributes\":{\"data\":{\"x\":{\"__ndarray__\":\"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\",\"dtype\":\"float64\",\"order\":\"little\",\"shape\":[994]},\"y\":{\"__ndarray__\":\"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\",\"dtype\":\"float64\",\"order\":\"little\",\"shape\":[994]}},\"selected\":{\"id\":\"2628\"},\"selection_policy\":{\"id\":\"2629\"}},\"id\":\"2521\",\"type\":\"ColumnDataSource\"},{\"attributes\":{},\"id\":\"2790\",\"type\":\"UnionRenderers\"},{\"attributes\":{},\"id\":\"2497\",\"type\":\"LinearScale\"},{\"attributes\":{},\"id\":\"2500\",\"type\":\"BasicTicker\"},{\"attributes\":{\"axis_label\":\"log2(FC)\",\"formatter\":{\"id\":\"2621\"},\"major_label_policy\":{\"id\":\"2623\"},\"ticker\":{\"id\":\"2500\"}},\"id\":\"2499\",\"type\":\"LinearAxis\"},{\"attributes\":{\"text\":\"Volcano Plot\"},\"id\":\"2489\",\"type\":\"Title\"},{\"attributes\":{},\"id\":\"2504\",\"type\":\"BasicTicker\"},{\"attributes\":{\"axis\":{\"id\":\"2503\"},\"dimension\":1,\"ticker\":null},\"id\":\"2506\",\"type\":\"Grid\"},{\"attributes\":{},\"id\":\"2491\",\"type\":\"DataRange1d\"}],\"root_ids\":[\"2488\"]},\"title\":\"Bokeh Application\",\"version\":\"2.3.3\"}};\n",
              "  var render_items = [{\"docid\":\"b7164440-eaed-49b8-8767-07f5fb69bb97\",\"root_ids\":[\"2488\"],\"roots\":{\"2488\":\"c8e40b98-e76c-4c38-9cc0-77710f69d4cc\"}}];\n",
              "  root.Bokeh.embed.embed_items_notebook(docs_json, render_items);\n",
              "\n",
              "  }\n",
              "  if (root.Bokeh !== undefined) {\n",
              "    embed_document(root);\n",
              "  } else {\n",
              "    var attempts = 0;\n",
              "    var timer = setInterval(function(root) {\n",
              "      if (root.Bokeh !== undefined) {\n",
              "        clearInterval(timer);\n",
              "        embed_document(root);\n",
              "      } else {\n",
              "        attempts++;\n",
              "        if (attempts > 100) {\n",
              "          clearInterval(timer);\n",
              "          console.log(\"Bokeh: ERROR: Unable to run BokehJS code because BokehJS library is missing\");\n",
              "        }\n",
              "      }\n",
              "    }, 10, root)\n",
              "  }\n",
              "})(window);"
            ],
            "application/vnd.bokehjs_exec.v0+json": ""
          },
          "metadata": {
            "application/vnd.bokehjs_exec.v0+json": {
              "id": "2488"
            }
          }
        }
      ]
    },
    {
      "cell_type": "markdown",
      "source": [
        "The gene Cdx2 is a nuclear homeobox transcription factor from the caudal family of CDX homeobox which are vital for enbryonic development. Cdx2 in particular is important for \"axial patterning of the alimentary tract during embryonic development and is involved in the processes of intestinal cell proliferation, differentiation, adhesion, and apoptosis\". \n",
        "\n",
        "This result makes a lot of sense given that we compared neural tube cells which migrate to form the PNS with cardiac cells. Cardaic cells almost certainly do not need to express Cdx2 leading to the large fold change in expression and small p-value.\n",
        "\n",
        "Source: https://www.ncbi.nlm.nih.gov/pmc/articles/PMC3240675/#:~:text=CDX2%20is%20a%20nuclear%20homeobox,control%20of%20normal%20embryonic%20development."
      ],
      "metadata": {
        "id": "q-RlX_YgSaA2"
      }
    },
    {
      "cell_type": "markdown",
      "source": [
        "### **g) As a negative control, randomly sample two groups of cells from cell type 'Cardiac' (each group the size of half of cell type 'Cardiac'). Perform a $t$-test as in a-b on all genes, treating the two groups as two cell types. Report the minimum $p$-value you obtain from this testing. (5 points)**\n",
        "**Re-run the subsetting in a) to remove genes with zero variance in either of the two cell groups (from the set of already subsetted genes).*"
      ],
      "metadata": {
        "id": "7HwOnMukzHvT"
      }
    },
    {
      "cell_type": "code",
      "source": [
        "#draw a sample from the cells by generating values 1 to size(cardiac cells)\n",
        "#and then using the top half for group 1 and the bottom half for group 2\n",
        "np.random.default_rng(seed=48)\n",
        "tot_cells = np.size(countmat_cardiac,axis=0)\n",
        "cells = np.arange(tot_cells)\n",
        "np.random.shuffle(cells)\n",
        "\n",
        "half = np.int_(tot_cells/2)\n",
        "\n",
        "cells_1 = cells[0:half]\n",
        "cells_2 = cells[half:tot_cells]\n",
        "\n",
        "#compute t statistic\n",
        "t_vals_ctrl = t_value(cells_1,cells_2)\n",
        "\n",
        "\n",
        "#compute degrees of freedom\n",
        "df_ctrl = tot_cells-2\n",
        "\n",
        "#compute p values\n",
        "p_vals_ctrl = 1-t.cdf(t_vals_ctrl,df_ctrl)\n",
        "\n",
        "#print the minimum p-value\n",
        "print(\"the minimum p-value obtained is:\", np.min(p_vals_ctrl))"
      ],
      "metadata": {
        "id": "GEKvDHNI0NbM",
        "colab": {
          "base_uri": "https://localhost:8080/"
        },
        "outputId": "6352c274-bfbb-4afc-d552-ffbbc07dadd1"
      },
      "execution_count": 41,
      "outputs": [
        {
          "output_type": "stream",
          "name": "stdout",
          "text": [
            "the minimum p-value obtained is: 0.7469843784422888\n"
          ]
        }
      ]
    },
    {
      "cell_type": "markdown",
      "source": [
        "As expected, none of the genes are significantly different between the two groups meaning our negative control has given us what we want and we can be confident that our procedure worked!"
      ],
      "metadata": {
        "id": "_kCzgyP5ZtXp"
      }
    },
    {
      "cell_type": "code",
      "source": [],
      "metadata": {
        "id": "WBUabFFoZ38O"
      },
      "execution_count": 19,
      "outputs": []
    }
  ]
}