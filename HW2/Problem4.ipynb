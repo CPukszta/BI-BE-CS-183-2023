{
  "nbformat": 4,
  "nbformat_minor": 0,
  "metadata": {
    "colab": {
      "provenance": [],
      "include_colab_link": true
    },
    "kernelspec": {
      "name": "python3",
      "display_name": "Python 3"
    },
    "language_info": {
      "name": "python"
    },
    "widgets": {
      "application/vnd.jupyter.widget-state+json": {
        "31fe09e701004742a78fa1f0af78f4ce": {
          "model_module": "@jupyter-widgets/controls",
          "model_name": "HBoxModel",
          "model_module_version": "1.5.0",
          "state": {
            "_dom_classes": [],
            "_model_module": "@jupyter-widgets/controls",
            "_model_module_version": "1.5.0",
            "_model_name": "HBoxModel",
            "_view_count": null,
            "_view_module": "@jupyter-widgets/controls",
            "_view_module_version": "1.5.0",
            "_view_name": "HBoxView",
            "box_style": "",
            "children": [
              "IPY_MODEL_ece4d4baca7448d7a13d44c3acad24d3",
              "IPY_MODEL_2abe749ead5d490c95bdeeb532af42f7",
              "IPY_MODEL_2730e1ee133d4d95933d121911ed1c8b"
            ],
            "layout": "IPY_MODEL_9c571e3c0542403f851f699b58fbf54a"
          }
        },
        "ece4d4baca7448d7a13d44c3acad24d3": {
          "model_module": "@jupyter-widgets/controls",
          "model_name": "HTMLModel",
          "model_module_version": "1.5.0",
          "state": {
            "_dom_classes": [],
            "_model_module": "@jupyter-widgets/controls",
            "_model_module_version": "1.5.0",
            "_model_name": "HTMLModel",
            "_view_count": null,
            "_view_module": "@jupyter-widgets/controls",
            "_view_module_version": "1.5.0",
            "_view_name": "HTMLView",
            "description": "",
            "description_tooltip": null,
            "layout": "IPY_MODEL_f2982d47ea5b4958a783f925febb3738",
            "placeholder": "​",
            "style": "IPY_MODEL_46c20f3e62224203af7856590ee4f85e",
            "value": ""
          }
        },
        "2abe749ead5d490c95bdeeb532af42f7": {
          "model_module": "@jupyter-widgets/controls",
          "model_name": "FloatProgressModel",
          "model_module_version": "1.5.0",
          "state": {
            "_dom_classes": [],
            "_model_module": "@jupyter-widgets/controls",
            "_model_module_version": "1.5.0",
            "_model_name": "FloatProgressModel",
            "_view_count": null,
            "_view_module": "@jupyter-widgets/controls",
            "_view_module_version": "1.5.0",
            "_view_name": "ProgressView",
            "bar_style": "success",
            "description": "",
            "description_tooltip": null,
            "layout": "IPY_MODEL_b679348951434047b5c4d6d2d2fd46ed",
            "max": 104912,
            "min": 0,
            "orientation": "horizontal",
            "style": "IPY_MODEL_7b488010260b425d94a14182fdc0e3bc",
            "value": 104912
          }
        },
        "2730e1ee133d4d95933d121911ed1c8b": {
          "model_module": "@jupyter-widgets/controls",
          "model_name": "HTMLModel",
          "model_module_version": "1.5.0",
          "state": {
            "_dom_classes": [],
            "_model_module": "@jupyter-widgets/controls",
            "_model_module_version": "1.5.0",
            "_model_name": "HTMLModel",
            "_view_count": null,
            "_view_module": "@jupyter-widgets/controls",
            "_view_module_version": "1.5.0",
            "_view_name": "HTMLView",
            "description": "",
            "description_tooltip": null,
            "layout": "IPY_MODEL_56306f6e98dc47f989509f8178d38583",
            "placeholder": "​",
            "style": "IPY_MODEL_efe9dc04ccc740b4b6edb223da14b7b8",
            "value": " 104913/? [00:07&lt;00:00, 14225.59B/s]"
          }
        },
        "9c571e3c0542403f851f699b58fbf54a": {
          "model_module": "@jupyter-widgets/base",
          "model_name": "LayoutModel",
          "model_module_version": "1.2.0",
          "state": {
            "_model_module": "@jupyter-widgets/base",
            "_model_module_version": "1.2.0",
            "_model_name": "LayoutModel",
            "_view_count": null,
            "_view_module": "@jupyter-widgets/base",
            "_view_module_version": "1.2.0",
            "_view_name": "LayoutView",
            "align_content": null,
            "align_items": null,
            "align_self": null,
            "border": null,
            "bottom": null,
            "display": null,
            "flex": null,
            "flex_flow": null,
            "grid_area": null,
            "grid_auto_columns": null,
            "grid_auto_flow": null,
            "grid_auto_rows": null,
            "grid_column": null,
            "grid_gap": null,
            "grid_row": null,
            "grid_template_areas": null,
            "grid_template_columns": null,
            "grid_template_rows": null,
            "height": null,
            "justify_content": null,
            "justify_items": null,
            "left": null,
            "margin": null,
            "max_height": null,
            "max_width": null,
            "min_height": null,
            "min_width": null,
            "object_fit": null,
            "object_position": null,
            "order": null,
            "overflow": null,
            "overflow_x": null,
            "overflow_y": null,
            "padding": null,
            "right": null,
            "top": null,
            "visibility": null,
            "width": null
          }
        },
        "f2982d47ea5b4958a783f925febb3738": {
          "model_module": "@jupyter-widgets/base",
          "model_name": "LayoutModel",
          "model_module_version": "1.2.0",
          "state": {
            "_model_module": "@jupyter-widgets/base",
            "_model_module_version": "1.2.0",
            "_model_name": "LayoutModel",
            "_view_count": null,
            "_view_module": "@jupyter-widgets/base",
            "_view_module_version": "1.2.0",
            "_view_name": "LayoutView",
            "align_content": null,
            "align_items": null,
            "align_self": null,
            "border": null,
            "bottom": null,
            "display": null,
            "flex": null,
            "flex_flow": null,
            "grid_area": null,
            "grid_auto_columns": null,
            "grid_auto_flow": null,
            "grid_auto_rows": null,
            "grid_column": null,
            "grid_gap": null,
            "grid_row": null,
            "grid_template_areas": null,
            "grid_template_columns": null,
            "grid_template_rows": null,
            "height": null,
            "justify_content": null,
            "justify_items": null,
            "left": null,
            "margin": null,
            "max_height": null,
            "max_width": null,
            "min_height": null,
            "min_width": null,
            "object_fit": null,
            "object_position": null,
            "order": null,
            "overflow": null,
            "overflow_x": null,
            "overflow_y": null,
            "padding": null,
            "right": null,
            "top": null,
            "visibility": null,
            "width": null
          }
        },
        "46c20f3e62224203af7856590ee4f85e": {
          "model_module": "@jupyter-widgets/controls",
          "model_name": "DescriptionStyleModel",
          "model_module_version": "1.5.0",
          "state": {
            "_model_module": "@jupyter-widgets/controls",
            "_model_module_version": "1.5.0",
            "_model_name": "DescriptionStyleModel",
            "_view_count": null,
            "_view_module": "@jupyter-widgets/base",
            "_view_module_version": "1.2.0",
            "_view_name": "StyleView",
            "description_width": ""
          }
        },
        "b679348951434047b5c4d6d2d2fd46ed": {
          "model_module": "@jupyter-widgets/base",
          "model_name": "LayoutModel",
          "model_module_version": "1.2.0",
          "state": {
            "_model_module": "@jupyter-widgets/base",
            "_model_module_version": "1.2.0",
            "_model_name": "LayoutModel",
            "_view_count": null,
            "_view_module": "@jupyter-widgets/base",
            "_view_module_version": "1.2.0",
            "_view_name": "LayoutView",
            "align_content": null,
            "align_items": null,
            "align_self": null,
            "border": null,
            "bottom": null,
            "display": null,
            "flex": null,
            "flex_flow": null,
            "grid_area": null,
            "grid_auto_columns": null,
            "grid_auto_flow": null,
            "grid_auto_rows": null,
            "grid_column": null,
            "grid_gap": null,
            "grid_row": null,
            "grid_template_areas": null,
            "grid_template_columns": null,
            "grid_template_rows": null,
            "height": null,
            "justify_content": null,
            "justify_items": null,
            "left": null,
            "margin": null,
            "max_height": null,
            "max_width": null,
            "min_height": null,
            "min_width": null,
            "object_fit": null,
            "object_position": null,
            "order": null,
            "overflow": null,
            "overflow_x": null,
            "overflow_y": null,
            "padding": null,
            "right": null,
            "top": null,
            "visibility": null,
            "width": null
          }
        },
        "7b488010260b425d94a14182fdc0e3bc": {
          "model_module": "@jupyter-widgets/controls",
          "model_name": "ProgressStyleModel",
          "model_module_version": "1.5.0",
          "state": {
            "_model_module": "@jupyter-widgets/controls",
            "_model_module_version": "1.5.0",
            "_model_name": "ProgressStyleModel",
            "_view_count": null,
            "_view_module": "@jupyter-widgets/base",
            "_view_module_version": "1.2.0",
            "_view_name": "StyleView",
            "bar_color": null,
            "description_width": ""
          }
        },
        "56306f6e98dc47f989509f8178d38583": {
          "model_module": "@jupyter-widgets/base",
          "model_name": "LayoutModel",
          "model_module_version": "1.2.0",
          "state": {
            "_model_module": "@jupyter-widgets/base",
            "_model_module_version": "1.2.0",
            "_model_name": "LayoutModel",
            "_view_count": null,
            "_view_module": "@jupyter-widgets/base",
            "_view_module_version": "1.2.0",
            "_view_name": "LayoutView",
            "align_content": null,
            "align_items": null,
            "align_self": null,
            "border": null,
            "bottom": null,
            "display": null,
            "flex": null,
            "flex_flow": null,
            "grid_area": null,
            "grid_auto_columns": null,
            "grid_auto_flow": null,
            "grid_auto_rows": null,
            "grid_column": null,
            "grid_gap": null,
            "grid_row": null,
            "grid_template_areas": null,
            "grid_template_columns": null,
            "grid_template_rows": null,
            "height": null,
            "justify_content": null,
            "justify_items": null,
            "left": null,
            "margin": null,
            "max_height": null,
            "max_width": null,
            "min_height": null,
            "min_width": null,
            "object_fit": null,
            "object_position": null,
            "order": null,
            "overflow": null,
            "overflow_x": null,
            "overflow_y": null,
            "padding": null,
            "right": null,
            "top": null,
            "visibility": null,
            "width": null
          }
        },
        "efe9dc04ccc740b4b6edb223da14b7b8": {
          "model_module": "@jupyter-widgets/controls",
          "model_name": "DescriptionStyleModel",
          "model_module_version": "1.5.0",
          "state": {
            "_model_module": "@jupyter-widgets/controls",
            "_model_module_version": "1.5.0",
            "_model_name": "DescriptionStyleModel",
            "_view_count": null,
            "_view_module": "@jupyter-widgets/base",
            "_view_module_version": "1.2.0",
            "_view_name": "StyleView",
            "description_width": ""
          }
        },
        "f6aa620a27b2442ba1d617fac099fec7": {
          "model_module": "@jupyter-widgets/controls",
          "model_name": "HBoxModel",
          "model_module_version": "1.5.0",
          "state": {
            "_dom_classes": [],
            "_model_module": "@jupyter-widgets/controls",
            "_model_module_version": "1.5.0",
            "_model_name": "HBoxModel",
            "_view_count": null,
            "_view_module": "@jupyter-widgets/controls",
            "_view_module_version": "1.5.0",
            "_view_name": "HBoxView",
            "box_style": "",
            "children": [
              "IPY_MODEL_afc58c1d1bda4313b7d6d9b4bfa66ce6",
              "IPY_MODEL_1f6811c44dcd49dba7e0d240c170330d",
              "IPY_MODEL_f3937d34ae3341dba2e87e8b55c03ada"
            ],
            "layout": "IPY_MODEL_41819b5c8c7d48cbb5a7030343446ae9"
          }
        },
        "afc58c1d1bda4313b7d6d9b4bfa66ce6": {
          "model_module": "@jupyter-widgets/controls",
          "model_name": "HTMLModel",
          "model_module_version": "1.5.0",
          "state": {
            "_dom_classes": [],
            "_model_module": "@jupyter-widgets/controls",
            "_model_module_version": "1.5.0",
            "_model_name": "HTMLModel",
            "_view_count": null,
            "_view_module": "@jupyter-widgets/controls",
            "_view_module_version": "1.5.0",
            "_view_name": "HTMLView",
            "description": "",
            "description_tooltip": null,
            "layout": "IPY_MODEL_f2a01d5747304ac2946b7dfa60fb60f4",
            "placeholder": "​",
            "style": "IPY_MODEL_32bdfe035db7445f867d9b0f8cbddba8",
            "value": ""
          }
        },
        "1f6811c44dcd49dba7e0d240c170330d": {
          "model_module": "@jupyter-widgets/controls",
          "model_name": "FloatProgressModel",
          "model_module_version": "1.5.0",
          "state": {
            "_dom_classes": [],
            "_model_module": "@jupyter-widgets/controls",
            "_model_module_version": "1.5.0",
            "_model_name": "FloatProgressModel",
            "_view_count": null,
            "_view_module": "@jupyter-widgets/controls",
            "_view_module_version": "1.5.0",
            "_view_name": "ProgressView",
            "bar_style": "success",
            "description": "",
            "description_tooltip": null,
            "layout": "IPY_MODEL_718e102bc15d410ea2c3e4add7bb7538",
            "max": 349,
            "min": 0,
            "orientation": "horizontal",
            "style": "IPY_MODEL_2bb73daed14e473aba0c6d2f688466d0",
            "value": 349
          }
        },
        "f3937d34ae3341dba2e87e8b55c03ada": {
          "model_module": "@jupyter-widgets/controls",
          "model_name": "HTMLModel",
          "model_module_version": "1.5.0",
          "state": {
            "_dom_classes": [],
            "_model_module": "@jupyter-widgets/controls",
            "_model_module_version": "1.5.0",
            "_model_name": "HTMLModel",
            "_view_count": null,
            "_view_module": "@jupyter-widgets/controls",
            "_view_module_version": "1.5.0",
            "_view_name": "HTMLView",
            "description": "",
            "description_tooltip": null,
            "layout": "IPY_MODEL_2fce91faa3444b93b7ae41d38d60e585",
            "placeholder": "​",
            "style": "IPY_MODEL_57a17810b9d94a84907ac551a6b4650c",
            "value": " 350/? [00:28&lt;00:00, 640.48B/s]"
          }
        },
        "41819b5c8c7d48cbb5a7030343446ae9": {
          "model_module": "@jupyter-widgets/base",
          "model_name": "LayoutModel",
          "model_module_version": "1.2.0",
          "state": {
            "_model_module": "@jupyter-widgets/base",
            "_model_module_version": "1.2.0",
            "_model_name": "LayoutModel",
            "_view_count": null,
            "_view_module": "@jupyter-widgets/base",
            "_view_module_version": "1.2.0",
            "_view_name": "LayoutView",
            "align_content": null,
            "align_items": null,
            "align_self": null,
            "border": null,
            "bottom": null,
            "display": null,
            "flex": null,
            "flex_flow": null,
            "grid_area": null,
            "grid_auto_columns": null,
            "grid_auto_flow": null,
            "grid_auto_rows": null,
            "grid_column": null,
            "grid_gap": null,
            "grid_row": null,
            "grid_template_areas": null,
            "grid_template_columns": null,
            "grid_template_rows": null,
            "height": null,
            "justify_content": null,
            "justify_items": null,
            "left": null,
            "margin": null,
            "max_height": null,
            "max_width": null,
            "min_height": null,
            "min_width": null,
            "object_fit": null,
            "object_position": null,
            "order": null,
            "overflow": null,
            "overflow_x": null,
            "overflow_y": null,
            "padding": null,
            "right": null,
            "top": null,
            "visibility": null,
            "width": null
          }
        },
        "f2a01d5747304ac2946b7dfa60fb60f4": {
          "model_module": "@jupyter-widgets/base",
          "model_name": "LayoutModel",
          "model_module_version": "1.2.0",
          "state": {
            "_model_module": "@jupyter-widgets/base",
            "_model_module_version": "1.2.0",
            "_model_name": "LayoutModel",
            "_view_count": null,
            "_view_module": "@jupyter-widgets/base",
            "_view_module_version": "1.2.0",
            "_view_name": "LayoutView",
            "align_content": null,
            "align_items": null,
            "align_self": null,
            "border": null,
            "bottom": null,
            "display": null,
            "flex": null,
            "flex_flow": null,
            "grid_area": null,
            "grid_auto_columns": null,
            "grid_auto_flow": null,
            "grid_auto_rows": null,
            "grid_column": null,
            "grid_gap": null,
            "grid_row": null,
            "grid_template_areas": null,
            "grid_template_columns": null,
            "grid_template_rows": null,
            "height": null,
            "justify_content": null,
            "justify_items": null,
            "left": null,
            "margin": null,
            "max_height": null,
            "max_width": null,
            "min_height": null,
            "min_width": null,
            "object_fit": null,
            "object_position": null,
            "order": null,
            "overflow": null,
            "overflow_x": null,
            "overflow_y": null,
            "padding": null,
            "right": null,
            "top": null,
            "visibility": null,
            "width": null
          }
        },
        "32bdfe035db7445f867d9b0f8cbddba8": {
          "model_module": "@jupyter-widgets/controls",
          "model_name": "DescriptionStyleModel",
          "model_module_version": "1.5.0",
          "state": {
            "_model_module": "@jupyter-widgets/controls",
            "_model_module_version": "1.5.0",
            "_model_name": "DescriptionStyleModel",
            "_view_count": null,
            "_view_module": "@jupyter-widgets/base",
            "_view_module_version": "1.2.0",
            "_view_name": "StyleView",
            "description_width": ""
          }
        },
        "718e102bc15d410ea2c3e4add7bb7538": {
          "model_module": "@jupyter-widgets/base",
          "model_name": "LayoutModel",
          "model_module_version": "1.2.0",
          "state": {
            "_model_module": "@jupyter-widgets/base",
            "_model_module_version": "1.2.0",
            "_model_name": "LayoutModel",
            "_view_count": null,
            "_view_module": "@jupyter-widgets/base",
            "_view_module_version": "1.2.0",
            "_view_name": "LayoutView",
            "align_content": null,
            "align_items": null,
            "align_self": null,
            "border": null,
            "bottom": null,
            "display": null,
            "flex": null,
            "flex_flow": null,
            "grid_area": null,
            "grid_auto_columns": null,
            "grid_auto_flow": null,
            "grid_auto_rows": null,
            "grid_column": null,
            "grid_gap": null,
            "grid_row": null,
            "grid_template_areas": null,
            "grid_template_columns": null,
            "grid_template_rows": null,
            "height": null,
            "justify_content": null,
            "justify_items": null,
            "left": null,
            "margin": null,
            "max_height": null,
            "max_width": null,
            "min_height": null,
            "min_width": null,
            "object_fit": null,
            "object_position": null,
            "order": null,
            "overflow": null,
            "overflow_x": null,
            "overflow_y": null,
            "padding": null,
            "right": null,
            "top": null,
            "visibility": null,
            "width": null
          }
        },
        "2bb73daed14e473aba0c6d2f688466d0": {
          "model_module": "@jupyter-widgets/controls",
          "model_name": "ProgressStyleModel",
          "model_module_version": "1.5.0",
          "state": {
            "_model_module": "@jupyter-widgets/controls",
            "_model_module_version": "1.5.0",
            "_model_name": "ProgressStyleModel",
            "_view_count": null,
            "_view_module": "@jupyter-widgets/base",
            "_view_module_version": "1.2.0",
            "_view_name": "StyleView",
            "bar_color": null,
            "description_width": ""
          }
        },
        "2fce91faa3444b93b7ae41d38d60e585": {
          "model_module": "@jupyter-widgets/base",
          "model_name": "LayoutModel",
          "model_module_version": "1.2.0",
          "state": {
            "_model_module": "@jupyter-widgets/base",
            "_model_module_version": "1.2.0",
            "_model_name": "LayoutModel",
            "_view_count": null,
            "_view_module": "@jupyter-widgets/base",
            "_view_module_version": "1.2.0",
            "_view_name": "LayoutView",
            "align_content": null,
            "align_items": null,
            "align_self": null,
            "border": null,
            "bottom": null,
            "display": null,
            "flex": null,
            "flex_flow": null,
            "grid_area": null,
            "grid_auto_columns": null,
            "grid_auto_flow": null,
            "grid_auto_rows": null,
            "grid_column": null,
            "grid_gap": null,
            "grid_row": null,
            "grid_template_areas": null,
            "grid_template_columns": null,
            "grid_template_rows": null,
            "height": null,
            "justify_content": null,
            "justify_items": null,
            "left": null,
            "margin": null,
            "max_height": null,
            "max_width": null,
            "min_height": null,
            "min_width": null,
            "object_fit": null,
            "object_position": null,
            "order": null,
            "overflow": null,
            "overflow_x": null,
            "overflow_y": null,
            "padding": null,
            "right": null,
            "top": null,
            "visibility": null,
            "width": null
          }
        },
        "57a17810b9d94a84907ac551a6b4650c": {
          "model_module": "@jupyter-widgets/controls",
          "model_name": "DescriptionStyleModel",
          "model_module_version": "1.5.0",
          "state": {
            "_model_module": "@jupyter-widgets/controls",
            "_model_module_version": "1.5.0",
            "_model_name": "DescriptionStyleModel",
            "_view_count": null,
            "_view_module": "@jupyter-widgets/base",
            "_view_module_version": "1.2.0",
            "_view_name": "StyleView",
            "description_width": ""
          }
        },
        "04822a28956a47689d55e1dd6839afd5": {
          "model_module": "@jupyter-widgets/controls",
          "model_name": "HBoxModel",
          "model_module_version": "1.5.0",
          "state": {
            "_dom_classes": [],
            "_model_module": "@jupyter-widgets/controls",
            "_model_module_version": "1.5.0",
            "_model_name": "HBoxModel",
            "_view_count": null,
            "_view_module": "@jupyter-widgets/controls",
            "_view_module_version": "1.5.0",
            "_view_name": "HBoxView",
            "box_style": "",
            "children": [
              "IPY_MODEL_65a9d7be7c1a4770b4a8a15e3a547a49",
              "IPY_MODEL_42e5cb191cb64134a5864bb41182ef2d",
              "IPY_MODEL_478881bd5e7847f2848abf3235290b83"
            ],
            "layout": "IPY_MODEL_2f3d38d41a494f748d377c5aabe9f7ec"
          }
        },
        "65a9d7be7c1a4770b4a8a15e3a547a49": {
          "model_module": "@jupyter-widgets/controls",
          "model_name": "HTMLModel",
          "model_module_version": "1.5.0",
          "state": {
            "_dom_classes": [],
            "_model_module": "@jupyter-widgets/controls",
            "_model_module_version": "1.5.0",
            "_model_name": "HTMLModel",
            "_view_count": null,
            "_view_module": "@jupyter-widgets/controls",
            "_view_module_version": "1.5.0",
            "_view_name": "HTMLView",
            "description": "",
            "description_tooltip": null,
            "layout": "IPY_MODEL_2c8730343f4c43429b3a3e2ba3c877b1",
            "placeholder": "​",
            "style": "IPY_MODEL_e74b93c8d46641a7a78bd4a9d82bedff",
            "value": ""
          }
        },
        "42e5cb191cb64134a5864bb41182ef2d": {
          "model_module": "@jupyter-widgets/controls",
          "model_name": "FloatProgressModel",
          "model_module_version": "1.5.0",
          "state": {
            "_dom_classes": [],
            "_model_module": "@jupyter-widgets/controls",
            "_model_module_version": "1.5.0",
            "_model_name": "FloatProgressModel",
            "_view_count": null,
            "_view_module": "@jupyter-widgets/controls",
            "_view_module_version": "1.5.0",
            "_view_name": "ProgressView",
            "bar_style": "success",
            "description": "",
            "description_tooltip": null,
            "layout": "IPY_MODEL_8b5a565037e04797ad118c4b785e78ad",
            "max": 12,
            "min": 0,
            "orientation": "horizontal",
            "style": "IPY_MODEL_6d37002a91744500b9156931fd2bc792",
            "value": 12
          }
        },
        "478881bd5e7847f2848abf3235290b83": {
          "model_module": "@jupyter-widgets/controls",
          "model_name": "HTMLModel",
          "model_module_version": "1.5.0",
          "state": {
            "_dom_classes": [],
            "_model_module": "@jupyter-widgets/controls",
            "_model_module_version": "1.5.0",
            "_model_name": "HTMLModel",
            "_view_count": null,
            "_view_module": "@jupyter-widgets/controls",
            "_view_module_version": "1.5.0",
            "_view_name": "HTMLView",
            "description": "",
            "description_tooltip": null,
            "layout": "IPY_MODEL_d754e02ff343495f9e4bb50c7d252671",
            "placeholder": "​",
            "style": "IPY_MODEL_0222f03172134b56b9ca5aaa3b61aa61",
            "value": " 13/? [00:23&lt;00:00,  1.81s/B]"
          }
        },
        "2f3d38d41a494f748d377c5aabe9f7ec": {
          "model_module": "@jupyter-widgets/base",
          "model_name": "LayoutModel",
          "model_module_version": "1.2.0",
          "state": {
            "_model_module": "@jupyter-widgets/base",
            "_model_module_version": "1.2.0",
            "_model_name": "LayoutModel",
            "_view_count": null,
            "_view_module": "@jupyter-widgets/base",
            "_view_module_version": "1.2.0",
            "_view_name": "LayoutView",
            "align_content": null,
            "align_items": null,
            "align_self": null,
            "border": null,
            "bottom": null,
            "display": null,
            "flex": null,
            "flex_flow": null,
            "grid_area": null,
            "grid_auto_columns": null,
            "grid_auto_flow": null,
            "grid_auto_rows": null,
            "grid_column": null,
            "grid_gap": null,
            "grid_row": null,
            "grid_template_areas": null,
            "grid_template_columns": null,
            "grid_template_rows": null,
            "height": null,
            "justify_content": null,
            "justify_items": null,
            "left": null,
            "margin": null,
            "max_height": null,
            "max_width": null,
            "min_height": null,
            "min_width": null,
            "object_fit": null,
            "object_position": null,
            "order": null,
            "overflow": null,
            "overflow_x": null,
            "overflow_y": null,
            "padding": null,
            "right": null,
            "top": null,
            "visibility": null,
            "width": null
          }
        },
        "2c8730343f4c43429b3a3e2ba3c877b1": {
          "model_module": "@jupyter-widgets/base",
          "model_name": "LayoutModel",
          "model_module_version": "1.2.0",
          "state": {
            "_model_module": "@jupyter-widgets/base",
            "_model_module_version": "1.2.0",
            "_model_name": "LayoutModel",
            "_view_count": null,
            "_view_module": "@jupyter-widgets/base",
            "_view_module_version": "1.2.0",
            "_view_name": "LayoutView",
            "align_content": null,
            "align_items": null,
            "align_self": null,
            "border": null,
            "bottom": null,
            "display": null,
            "flex": null,
            "flex_flow": null,
            "grid_area": null,
            "grid_auto_columns": null,
            "grid_auto_flow": null,
            "grid_auto_rows": null,
            "grid_column": null,
            "grid_gap": null,
            "grid_row": null,
            "grid_template_areas": null,
            "grid_template_columns": null,
            "grid_template_rows": null,
            "height": null,
            "justify_content": null,
            "justify_items": null,
            "left": null,
            "margin": null,
            "max_height": null,
            "max_width": null,
            "min_height": null,
            "min_width": null,
            "object_fit": null,
            "object_position": null,
            "order": null,
            "overflow": null,
            "overflow_x": null,
            "overflow_y": null,
            "padding": null,
            "right": null,
            "top": null,
            "visibility": null,
            "width": null
          }
        },
        "e74b93c8d46641a7a78bd4a9d82bedff": {
          "model_module": "@jupyter-widgets/controls",
          "model_name": "DescriptionStyleModel",
          "model_module_version": "1.5.0",
          "state": {
            "_model_module": "@jupyter-widgets/controls",
            "_model_module_version": "1.5.0",
            "_model_name": "DescriptionStyleModel",
            "_view_count": null,
            "_view_module": "@jupyter-widgets/base",
            "_view_module_version": "1.2.0",
            "_view_name": "StyleView",
            "description_width": ""
          }
        },
        "8b5a565037e04797ad118c4b785e78ad": {
          "model_module": "@jupyter-widgets/base",
          "model_name": "LayoutModel",
          "model_module_version": "1.2.0",
          "state": {
            "_model_module": "@jupyter-widgets/base",
            "_model_module_version": "1.2.0",
            "_model_name": "LayoutModel",
            "_view_count": null,
            "_view_module": "@jupyter-widgets/base",
            "_view_module_version": "1.2.0",
            "_view_name": "LayoutView",
            "align_content": null,
            "align_items": null,
            "align_self": null,
            "border": null,
            "bottom": null,
            "display": null,
            "flex": null,
            "flex_flow": null,
            "grid_area": null,
            "grid_auto_columns": null,
            "grid_auto_flow": null,
            "grid_auto_rows": null,
            "grid_column": null,
            "grid_gap": null,
            "grid_row": null,
            "grid_template_areas": null,
            "grid_template_columns": null,
            "grid_template_rows": null,
            "height": null,
            "justify_content": null,
            "justify_items": null,
            "left": null,
            "margin": null,
            "max_height": null,
            "max_width": null,
            "min_height": null,
            "min_width": null,
            "object_fit": null,
            "object_position": null,
            "order": null,
            "overflow": null,
            "overflow_x": null,
            "overflow_y": null,
            "padding": null,
            "right": null,
            "top": null,
            "visibility": null,
            "width": null
          }
        },
        "6d37002a91744500b9156931fd2bc792": {
          "model_module": "@jupyter-widgets/controls",
          "model_name": "ProgressStyleModel",
          "model_module_version": "1.5.0",
          "state": {
            "_model_module": "@jupyter-widgets/controls",
            "_model_module_version": "1.5.0",
            "_model_name": "ProgressStyleModel",
            "_view_count": null,
            "_view_module": "@jupyter-widgets/base",
            "_view_module_version": "1.2.0",
            "_view_name": "StyleView",
            "bar_color": null,
            "description_width": ""
          }
        },
        "d754e02ff343495f9e4bb50c7d252671": {
          "model_module": "@jupyter-widgets/base",
          "model_name": "LayoutModel",
          "model_module_version": "1.2.0",
          "state": {
            "_model_module": "@jupyter-widgets/base",
            "_model_module_version": "1.2.0",
            "_model_name": "LayoutModel",
            "_view_count": null,
            "_view_module": "@jupyter-widgets/base",
            "_view_module_version": "1.2.0",
            "_view_name": "LayoutView",
            "align_content": null,
            "align_items": null,
            "align_self": null,
            "border": null,
            "bottom": null,
            "display": null,
            "flex": null,
            "flex_flow": null,
            "grid_area": null,
            "grid_auto_columns": null,
            "grid_auto_flow": null,
            "grid_auto_rows": null,
            "grid_column": null,
            "grid_gap": null,
            "grid_row": null,
            "grid_template_areas": null,
            "grid_template_columns": null,
            "grid_template_rows": null,
            "height": null,
            "justify_content": null,
            "justify_items": null,
            "left": null,
            "margin": null,
            "max_height": null,
            "max_width": null,
            "min_height": null,
            "min_width": null,
            "object_fit": null,
            "object_position": null,
            "order": null,
            "overflow": null,
            "overflow_x": null,
            "overflow_y": null,
            "padding": null,
            "right": null,
            "top": null,
            "visibility": null,
            "width": null
          }
        },
        "0222f03172134b56b9ca5aaa3b61aa61": {
          "model_module": "@jupyter-widgets/controls",
          "model_name": "DescriptionStyleModel",
          "model_module_version": "1.5.0",
          "state": {
            "_model_module": "@jupyter-widgets/controls",
            "_model_module_version": "1.5.0",
            "_model_name": "DescriptionStyleModel",
            "_view_count": null,
            "_view_module": "@jupyter-widgets/base",
            "_view_module_version": "1.2.0",
            "_view_name": "StyleView",
            "description_width": ""
          }
        }
      }
    }
  },
  "cells": [
    {
      "cell_type": "markdown",
      "metadata": {
        "id": "view-in-github",
        "colab_type": "text"
      },
      "source": [
        "<a href=\"https://colab.research.google.com/github/pachterlab/BI-BE-CS-183-2023/blob/main/HW2/Problem4.ipynb\" target=\"_parent\"><img src=\"https://colab.research.google.com/assets/colab-badge.svg\" alt=\"Open In Colab\"/></a>"
      ]
    },
    {
      "cell_type": "markdown",
      "metadata": {
        "id": "MozW3XxY8ezr"
      },
      "source": [
        "Bi/Be/Cs 183 2022-2023: Intro to Computational Biology\n",
        "TAs: Meichen Fang, Tara Chari, Zitong (Jerry) Wang\n",
        "\n",
        "**Submit your notebooks by sharing a clickable link with Viewer access. Link must be accessible from submitted assignment document.**\n",
        "\n",
        "Make sure Runtime $\\rightarrow$ Restart and run all works without error"
      ]
    },
    {
      "cell_type": "markdown",
      "source": [
        "**HW 2 Problem 4**\n",
        "\n",
        "Here you will explore how to use (1) linear regression to model gene count relationships, and investigate the assumptions these models will make. Utilizing the metadata from single-cell datasets, you will also apply (2) partial correlations to remove the influence of possibly confounding variables from your calculations of correlation between genes and their expression profiles."
      ],
      "metadata": {
        "id": "P_iWpBOotaza"
      }
    },
    {
      "cell_type": "markdown",
      "metadata": {
        "id": "5oPRpu328neb"
      },
      "source": [
        "##**Import data and install packages**"
      ]
    },
    {
      "cell_type": "code",
      "metadata": {
        "id": "vYTZEjs9AqwV"
      },
      "source": [
        "import numpy as np\n",
        "import scipy.io as sio\n",
        "import pandas as pd\n",
        "import matplotlib.pyplot as plt #Can use other plotting packages like seaborn"
      ],
      "execution_count": null,
      "outputs": []
    },
    {
      "cell_type": "code",
      "metadata": {
        "id": "kNFuUFJ78cN5"
      },
      "source": [
        "# ! allows you to run commands in the command line, as you would in your normal terminal/command line interface"
      ],
      "execution_count": null,
      "outputs": []
    },
    {
      "cell_type": "code",
      "metadata": {
        "id": "yH-EpSmB9Y_x",
        "colab": {
          "base_uri": "https://localhost:8080/",
          "height": 105,
          "referenced_widgets": [
            "31fe09e701004742a78fa1f0af78f4ce",
            "ece4d4baca7448d7a13d44c3acad24d3",
            "2abe749ead5d490c95bdeeb532af42f7",
            "2730e1ee133d4d95933d121911ed1c8b",
            "9c571e3c0542403f851f699b58fbf54a",
            "f2982d47ea5b4958a783f925febb3738",
            "46c20f3e62224203af7856590ee4f85e",
            "b679348951434047b5c4d6d2d2fd46ed",
            "7b488010260b425d94a14182fdc0e3bc",
            "56306f6e98dc47f989509f8178d38583",
            "efe9dc04ccc740b4b6edb223da14b7b8"
          ]
        },
        "outputId": "1d728208-9b48-43d3-86a8-7f0a243aed53"
      },
      "source": [
        "#Download count matrix of cell by gene counts\n",
        "#Cells are 10x sequenced neurons from the mouse hypothalamus (Kim et al. 2019)\n",
        "\n",
        "import requests\n",
        "from tqdm import tnrange, tqdm_notebook\n",
        "def download_file(doi,ext):\n",
        "    url = 'https://api.datacite.org/dois/'+doi+'/media'\n",
        "    r = requests.get(url).json()\n",
        "    netcdf_url = r['data'][0]['attributes']['url']\n",
        "    r = requests.get(netcdf_url,stream=True)\n",
        "    #Set file name\n",
        "    fname = doi.split('/')[-1]+ext\n",
        "    #Download file with progress bar\n",
        "    if r.status_code == 403:\n",
        "        print(\"File Unavailable\")\n",
        "    if 'content-length' not in r.headers:\n",
        "        print(\"Did not get file\")\n",
        "    else:\n",
        "        with open(fname, 'wb') as f:\n",
        "            total_length = int(r.headers.get('content-length'))\n",
        "            pbar = tnrange(int(total_length/1024), unit=\"B\")\n",
        "            for chunk in r.iter_content(chunk_size=1024):\n",
        "                if chunk:\n",
        "                    pbar.update()\n",
        "                    f.write(chunk)\n",
        "        return fname\n",
        "\n",
        "download_file('10.22002/D1.2072','.gz')"
      ],
      "execution_count": null,
      "outputs": [
        {
          "output_type": "stream",
          "name": "stderr",
          "text": [
            "/usr/local/lib/python3.7/dist-packages/ipykernel_launcher.py:21: TqdmDeprecationWarning: Please use `tqdm.notebook.trange` instead of `tqdm.tnrange`\n"
          ]
        },
        {
          "output_type": "display_data",
          "data": {
            "text/plain": [
              "  0%|          | 0/104912 [00:00<?, ?B/s]"
            ],
            "application/vnd.jupyter.widget-view+json": {
              "version_major": 2,
              "version_minor": 0,
              "model_id": "31fe09e701004742a78fa1f0af78f4ce"
            }
          },
          "metadata": {}
        },
        {
          "output_type": "execute_result",
          "data": {
            "text/plain": [
              "'D1.2072.gz'"
            ],
            "application/vnd.google.colaboratory.intrinsic+json": {
              "type": "string"
            }
          },
          "metadata": {},
          "execution_count": 1
        }
      ]
    },
    {
      "cell_type": "code",
      "metadata": {
        "id": "lBDp8sjR_fsQ",
        "colab": {
          "base_uri": "https://localhost:8080/",
          "height": 105,
          "referenced_widgets": [
            "f6aa620a27b2442ba1d617fac099fec7",
            "afc58c1d1bda4313b7d6d9b4bfa66ce6",
            "1f6811c44dcd49dba7e0d240c170330d",
            "f3937d34ae3341dba2e87e8b55c03ada",
            "41819b5c8c7d48cbb5a7030343446ae9",
            "f2a01d5747304ac2946b7dfa60fb60f4",
            "32bdfe035db7445f867d9b0f8cbddba8",
            "718e102bc15d410ea2c3e4add7bb7538",
            "2bb73daed14e473aba0c6d2f688466d0",
            "2fce91faa3444b93b7ae41d38d60e585",
            "57a17810b9d94a84907ac551a6b4650c"
          ]
        },
        "outputId": "8d898ae6-4f49-4fc7-ce7e-5779b1c63783"
      },
      "source": [
        "#Download csv of metadata for cells (cell type classification, sex of mouse)\n",
        "\n",
        "download_file('10.22002/D1.8969','.gz')"
      ],
      "execution_count": null,
      "outputs": [
        {
          "output_type": "stream",
          "name": "stderr",
          "text": [
            "/usr/local/lib/python3.7/dist-packages/ipykernel_launcher.py:21: TqdmDeprecationWarning: Please use `tqdm.notebook.trange` instead of `tqdm.tnrange`\n"
          ]
        },
        {
          "output_type": "display_data",
          "data": {
            "text/plain": [
              "  0%|          | 0/349 [00:00<?, ?B/s]"
            ],
            "application/vnd.jupyter.widget-view+json": {
              "version_major": 2,
              "version_minor": 0,
              "model_id": "f6aa620a27b2442ba1d617fac099fec7"
            }
          },
          "metadata": {}
        },
        {
          "output_type": "execute_result",
          "data": {
            "text/plain": [
              "'D1.8969.gz'"
            ],
            "application/vnd.google.colaboratory.intrinsic+json": {
              "type": "string"
            }
          },
          "metadata": {},
          "execution_count": 14
        }
      ]
    },
    {
      "cell_type": "code",
      "metadata": {
        "id": "khusZj08PuxC",
        "colab": {
          "base_uri": "https://localhost:8080/",
          "height": 105,
          "referenced_widgets": [
            "04822a28956a47689d55e1dd6839afd5",
            "65a9d7be7c1a4770b4a8a15e3a547a49",
            "42e5cb191cb64134a5864bb41182ef2d",
            "478881bd5e7847f2848abf3235290b83",
            "2f3d38d41a494f748d377c5aabe9f7ec",
            "2c8730343f4c43429b3a3e2ba3c877b1",
            "e74b93c8d46641a7a78bd4a9d82bedff",
            "8b5a565037e04797ad118c4b785e78ad",
            "6d37002a91744500b9156931fd2bc792",
            "d754e02ff343495f9e4bb50c7d252671",
            "0222f03172134b56b9ca5aaa3b61aa61"
          ]
        },
        "outputId": "bbeb84e6-1385-40bf-c45b-a6855fadcf38"
      },
      "source": [
        "#Download csv of metadata for genes (gene names)\n",
        "download_file('10.22002/D1.2066','.gz')"
      ],
      "execution_count": null,
      "outputs": [
        {
          "output_type": "stream",
          "name": "stderr",
          "text": [
            "/usr/local/lib/python3.7/dist-packages/ipykernel_launcher.py:21: TqdmDeprecationWarning: Please use `tqdm.notebook.trange` instead of `tqdm.tnrange`\n"
          ]
        },
        {
          "output_type": "display_data",
          "data": {
            "text/plain": [
              "  0%|          | 0/12 [00:00<?, ?B/s]"
            ],
            "application/vnd.jupyter.widget-view+json": {
              "version_major": 2,
              "version_minor": 0,
              "model_id": "04822a28956a47689d55e1dd6839afd5"
            }
          },
          "metadata": {}
        },
        {
          "output_type": "execute_result",
          "data": {
            "text/plain": [
              "'D1.2066.gz'"
            ],
            "application/vnd.google.colaboratory.intrinsic+json": {
              "type": "string"
            }
          },
          "metadata": {},
          "execution_count": 4
        }
      ]
    },
    {
      "cell_type": "code",
      "metadata": {
        "id": "xrGNmEHwAKAF"
      },
      "source": [
        "#Gunzip the files we downloaded\n",
        "!gunzip *.gz"
      ],
      "execution_count": null,
      "outputs": []
    },
    {
      "cell_type": "code",
      "source": [
        "!mv D1.2072 tenx.mtx\n",
        "!mv D1.8969 tenx_obs.csv\n",
        "!mv D1.2066 var.csv"
      ],
      "metadata": {
        "id": "anQLd5Rrj83Q"
      },
      "execution_count": null,
      "outputs": []
    },
    {
      "cell_type": "markdown",
      "metadata": {
        "id": "PPv4FIlm8rtQ"
      },
      "source": [
        "## **Read in data for analysis**"
      ]
    },
    {
      "cell_type": "markdown",
      "metadata": {
        "id": "bldcPDtroHZ_"
      },
      "source": [
        "**The dataset**\n",
        "\n",
        "This dataset is taken from [Kim et al. 2019](https://www.sciencedirect.com/science/article/pii/S0092867419310712). The goal of this study was to discern the various neuronal cell types present in the mouse ventromedial hypothalamus (VMH), a region whose neurons control/influence social behaviors e.g. mounting and aggression. \n",
        "\n",
        "This dataset comprises neurons from *male and female* mice in different behavioral states, covering *30 distinct neuron populations or cell types*.\n",
        "\n",
        "Here we are analyzing only the 10x sequenced samples.\n",
        "\n",
        "<img src=\"https://ars.els-cdn.com/content/image/1-s2.0-S0092867419310712-fx1_lrg.jpg\" alt=\"AbstractFigure\" width=\"500\" height=\"500\">\n",
        "\n",
        "\n"
      ]
    },
    {
      "cell_type": "markdown",
      "metadata": {
        "id": "2qq9TO5V97Vr"
      },
      "source": [
        "**The Count matrix**\n",
        "\n",
        "This matrix is 41,580 cells by 1,999 genes. We will use the full dataset to fit these models.\n",
        "\n",
        "1.   For each cell, gene counts were normalized to have the same number of total counts (usually 1e5 or 1e6), with cell-gene counts thus scaled accordingly.\n",
        "\n",
        "2.   Counts were then log-normalized, using the log(1+x), where x is each cell's gene count. The 1 accounts for 0 count genes. \n",
        "\n",
        "3. The ~2000 genes were selected for those that displayed large variance in expression amongst the cells ('highly variable genes').\n",
        "\n",
        "\n",
        " \n"
      ]
    },
    {
      "cell_type": "code",
      "metadata": {
        "id": "tZ1h_dME8vJb",
        "colab": {
          "base_uri": "https://localhost:8080/"
        },
        "outputId": "f6796597-1f19-4376-8835-16d157845d47"
      },
      "source": [
        "#Get gene count matrix\n",
        "count_mat = sio.mmread('tenx.mtx')\n",
        "count_mat.shape"
      ],
      "execution_count": null,
      "outputs": [
        {
          "output_type": "execute_result",
          "data": {
            "text/plain": [
              "(41580, 1999)"
            ]
          },
          "metadata": {},
          "execution_count": 7
        }
      ]
    },
    {
      "cell_type": "code",
      "metadata": {
        "id": "NFissu8VB92P",
        "colab": {
          "base_uri": "https://localhost:8080/",
          "height": 206
        },
        "outputId": "0b912774-6adb-45f0-9c23-3510af19f03b"
      },
      "source": [
        "#Get metadata dataframe for the 41,580 cells (rows of the matrix)\n",
        "meta = pd.read_csv('tenx_obs.csv',index_col = 0)\n",
        "meta.head()"
      ],
      "execution_count": null,
      "outputs": [
        {
          "output_type": "execute_result",
          "data": {
            "text/plain": [
              "         cell_barcode sex_label    cell_type\n",
              "0  4_AAACCTGAGCGCCTCA         F      Nr5a1_4\n",
              "1  4_AAACCTGCACAGTCGC         F  Tsix_Esr1_1\n",
              "2  4_AAACCTGCAGATTGCT         F       Dlk1_3\n",
              "3  4_AAACCTGCATACTCTT         F  Tsix_Esr1_1\n",
              "4  4_AAACCTGGTCCGTTAA         F         Scgn"
            ],
            "text/html": [
              "\n",
              "  <div id=\"df-4b2363b3-4abe-419c-98a1-e7c71342989d\">\n",
              "    <div class=\"colab-df-container\">\n",
              "      <div>\n",
              "<style scoped>\n",
              "    .dataframe tbody tr th:only-of-type {\n",
              "        vertical-align: middle;\n",
              "    }\n",
              "\n",
              "    .dataframe tbody tr th {\n",
              "        vertical-align: top;\n",
              "    }\n",
              "\n",
              "    .dataframe thead th {\n",
              "        text-align: right;\n",
              "    }\n",
              "</style>\n",
              "<table border=\"1\" class=\"dataframe\">\n",
              "  <thead>\n",
              "    <tr style=\"text-align: right;\">\n",
              "      <th></th>\n",
              "      <th>cell_barcode</th>\n",
              "      <th>sex_label</th>\n",
              "      <th>cell_type</th>\n",
              "    </tr>\n",
              "  </thead>\n",
              "  <tbody>\n",
              "    <tr>\n",
              "      <th>0</th>\n",
              "      <td>4_AAACCTGAGCGCCTCA</td>\n",
              "      <td>F</td>\n",
              "      <td>Nr5a1_4</td>\n",
              "    </tr>\n",
              "    <tr>\n",
              "      <th>1</th>\n",
              "      <td>4_AAACCTGCACAGTCGC</td>\n",
              "      <td>F</td>\n",
              "      <td>Tsix_Esr1_1</td>\n",
              "    </tr>\n",
              "    <tr>\n",
              "      <th>2</th>\n",
              "      <td>4_AAACCTGCAGATTGCT</td>\n",
              "      <td>F</td>\n",
              "      <td>Dlk1_3</td>\n",
              "    </tr>\n",
              "    <tr>\n",
              "      <th>3</th>\n",
              "      <td>4_AAACCTGCATACTCTT</td>\n",
              "      <td>F</td>\n",
              "      <td>Tsix_Esr1_1</td>\n",
              "    </tr>\n",
              "    <tr>\n",
              "      <th>4</th>\n",
              "      <td>4_AAACCTGGTCCGTTAA</td>\n",
              "      <td>F</td>\n",
              "      <td>Scgn</td>\n",
              "    </tr>\n",
              "  </tbody>\n",
              "</table>\n",
              "</div>\n",
              "      <button class=\"colab-df-convert\" onclick=\"convertToInteractive('df-4b2363b3-4abe-419c-98a1-e7c71342989d')\"\n",
              "              title=\"Convert this dataframe to an interactive table.\"\n",
              "              style=\"display:none;\">\n",
              "        \n",
              "  <svg xmlns=\"http://www.w3.org/2000/svg\" height=\"24px\"viewBox=\"0 0 24 24\"\n",
              "       width=\"24px\">\n",
              "    <path d=\"M0 0h24v24H0V0z\" fill=\"none\"/>\n",
              "    <path d=\"M18.56 5.44l.94 2.06.94-2.06 2.06-.94-2.06-.94-.94-2.06-.94 2.06-2.06.94zm-11 1L8.5 8.5l.94-2.06 2.06-.94-2.06-.94L8.5 2.5l-.94 2.06-2.06.94zm10 10l.94 2.06.94-2.06 2.06-.94-2.06-.94-.94-2.06-.94 2.06-2.06.94z\"/><path d=\"M17.41 7.96l-1.37-1.37c-.4-.4-.92-.59-1.43-.59-.52 0-1.04.2-1.43.59L10.3 9.45l-7.72 7.72c-.78.78-.78 2.05 0 2.83L4 21.41c.39.39.9.59 1.41.59.51 0 1.02-.2 1.41-.59l7.78-7.78 2.81-2.81c.8-.78.8-2.07 0-2.86zM5.41 20L4 18.59l7.72-7.72 1.47 1.35L5.41 20z\"/>\n",
              "  </svg>\n",
              "      </button>\n",
              "      \n",
              "  <style>\n",
              "    .colab-df-container {\n",
              "      display:flex;\n",
              "      flex-wrap:wrap;\n",
              "      gap: 12px;\n",
              "    }\n",
              "\n",
              "    .colab-df-convert {\n",
              "      background-color: #E8F0FE;\n",
              "      border: none;\n",
              "      border-radius: 50%;\n",
              "      cursor: pointer;\n",
              "      display: none;\n",
              "      fill: #1967D2;\n",
              "      height: 32px;\n",
              "      padding: 0 0 0 0;\n",
              "      width: 32px;\n",
              "    }\n",
              "\n",
              "    .colab-df-convert:hover {\n",
              "      background-color: #E2EBFA;\n",
              "      box-shadow: 0px 1px 2px rgba(60, 64, 67, 0.3), 0px 1px 3px 1px rgba(60, 64, 67, 0.15);\n",
              "      fill: #174EA6;\n",
              "    }\n",
              "\n",
              "    [theme=dark] .colab-df-convert {\n",
              "      background-color: #3B4455;\n",
              "      fill: #D2E3FC;\n",
              "    }\n",
              "\n",
              "    [theme=dark] .colab-df-convert:hover {\n",
              "      background-color: #434B5C;\n",
              "      box-shadow: 0px 1px 3px 1px rgba(0, 0, 0, 0.15);\n",
              "      filter: drop-shadow(0px 1px 2px rgba(0, 0, 0, 0.3));\n",
              "      fill: #FFFFFF;\n",
              "    }\n",
              "  </style>\n",
              "\n",
              "      <script>\n",
              "        const buttonEl =\n",
              "          document.querySelector('#df-4b2363b3-4abe-419c-98a1-e7c71342989d button.colab-df-convert');\n",
              "        buttonEl.style.display =\n",
              "          google.colab.kernel.accessAllowed ? 'block' : 'none';\n",
              "\n",
              "        async function convertToInteractive(key) {\n",
              "          const element = document.querySelector('#df-4b2363b3-4abe-419c-98a1-e7c71342989d');\n",
              "          const dataTable =\n",
              "            await google.colab.kernel.invokeFunction('convertToInteractive',\n",
              "                                                     [key], {});\n",
              "          if (!dataTable) return;\n",
              "\n",
              "          const docLinkHtml = 'Like what you see? Visit the ' +\n",
              "            '<a target=\"_blank\" href=https://colab.research.google.com/notebooks/data_table.ipynb>data table notebook</a>'\n",
              "            + ' to learn more about interactive tables.';\n",
              "          element.innerHTML = '';\n",
              "          dataTable['output_type'] = 'display_data';\n",
              "          await google.colab.output.renderOutput(dataTable, element);\n",
              "          const docLink = document.createElement('div');\n",
              "          docLink.innerHTML = docLinkHtml;\n",
              "          element.appendChild(docLink);\n",
              "        }\n",
              "      </script>\n",
              "    </div>\n",
              "  </div>\n",
              "  "
            ]
          },
          "metadata": {},
          "execution_count": 17
        }
      ]
    },
    {
      "cell_type": "code",
      "metadata": {
        "id": "M5je0CyVN4DN",
        "colab": {
          "base_uri": "https://localhost:8080/",
          "height": 206
        },
        "outputId": "7044840f-fd86-4ca0-f127-d1f9caaf1a62"
      },
      "source": [
        "#Get metadata dataframe for the 1,999 genes (columns of the matrix)\n",
        "\n",
        "meta_gene = pd.read_csv('var.csv',index_col = 0)\n",
        "meta_gene.head()\n"
      ],
      "execution_count": null,
      "outputs": [
        {
          "output_type": "execute_result",
          "data": {
            "text/plain": [
              "                   gene_name\n",
              "Gm1992                Gm1992\n",
              "Lypla1                Lypla1\n",
              "Npbwr1                Npbwr1\n",
              "Sntg1                  Sntg1\n",
              "1700034P13Rik  1700034P13Rik"
            ],
            "text/html": [
              "\n",
              "  <div id=\"df-a6a18135-9ab2-44fa-b65f-e016bc9daa19\">\n",
              "    <div class=\"colab-df-container\">\n",
              "      <div>\n",
              "<style scoped>\n",
              "    .dataframe tbody tr th:only-of-type {\n",
              "        vertical-align: middle;\n",
              "    }\n",
              "\n",
              "    .dataframe tbody tr th {\n",
              "        vertical-align: top;\n",
              "    }\n",
              "\n",
              "    .dataframe thead th {\n",
              "        text-align: right;\n",
              "    }\n",
              "</style>\n",
              "<table border=\"1\" class=\"dataframe\">\n",
              "  <thead>\n",
              "    <tr style=\"text-align: right;\">\n",
              "      <th></th>\n",
              "      <th>gene_name</th>\n",
              "    </tr>\n",
              "  </thead>\n",
              "  <tbody>\n",
              "    <tr>\n",
              "      <th>Gm1992</th>\n",
              "      <td>Gm1992</td>\n",
              "    </tr>\n",
              "    <tr>\n",
              "      <th>Lypla1</th>\n",
              "      <td>Lypla1</td>\n",
              "    </tr>\n",
              "    <tr>\n",
              "      <th>Npbwr1</th>\n",
              "      <td>Npbwr1</td>\n",
              "    </tr>\n",
              "    <tr>\n",
              "      <th>Sntg1</th>\n",
              "      <td>Sntg1</td>\n",
              "    </tr>\n",
              "    <tr>\n",
              "      <th>1700034P13Rik</th>\n",
              "      <td>1700034P13Rik</td>\n",
              "    </tr>\n",
              "  </tbody>\n",
              "</table>\n",
              "</div>\n",
              "      <button class=\"colab-df-convert\" onclick=\"convertToInteractive('df-a6a18135-9ab2-44fa-b65f-e016bc9daa19')\"\n",
              "              title=\"Convert this dataframe to an interactive table.\"\n",
              "              style=\"display:none;\">\n",
              "        \n",
              "  <svg xmlns=\"http://www.w3.org/2000/svg\" height=\"24px\"viewBox=\"0 0 24 24\"\n",
              "       width=\"24px\">\n",
              "    <path d=\"M0 0h24v24H0V0z\" fill=\"none\"/>\n",
              "    <path d=\"M18.56 5.44l.94 2.06.94-2.06 2.06-.94-2.06-.94-.94-2.06-.94 2.06-2.06.94zm-11 1L8.5 8.5l.94-2.06 2.06-.94-2.06-.94L8.5 2.5l-.94 2.06-2.06.94zm10 10l.94 2.06.94-2.06 2.06-.94-2.06-.94-.94-2.06-.94 2.06-2.06.94z\"/><path d=\"M17.41 7.96l-1.37-1.37c-.4-.4-.92-.59-1.43-.59-.52 0-1.04.2-1.43.59L10.3 9.45l-7.72 7.72c-.78.78-.78 2.05 0 2.83L4 21.41c.39.39.9.59 1.41.59.51 0 1.02-.2 1.41-.59l7.78-7.78 2.81-2.81c.8-.78.8-2.07 0-2.86zM5.41 20L4 18.59l7.72-7.72 1.47 1.35L5.41 20z\"/>\n",
              "  </svg>\n",
              "      </button>\n",
              "      \n",
              "  <style>\n",
              "    .colab-df-container {\n",
              "      display:flex;\n",
              "      flex-wrap:wrap;\n",
              "      gap: 12px;\n",
              "    }\n",
              "\n",
              "    .colab-df-convert {\n",
              "      background-color: #E8F0FE;\n",
              "      border: none;\n",
              "      border-radius: 50%;\n",
              "      cursor: pointer;\n",
              "      display: none;\n",
              "      fill: #1967D2;\n",
              "      height: 32px;\n",
              "      padding: 0 0 0 0;\n",
              "      width: 32px;\n",
              "    }\n",
              "\n",
              "    .colab-df-convert:hover {\n",
              "      background-color: #E2EBFA;\n",
              "      box-shadow: 0px 1px 2px rgba(60, 64, 67, 0.3), 0px 1px 3px 1px rgba(60, 64, 67, 0.15);\n",
              "      fill: #174EA6;\n",
              "    }\n",
              "\n",
              "    [theme=dark] .colab-df-convert {\n",
              "      background-color: #3B4455;\n",
              "      fill: #D2E3FC;\n",
              "    }\n",
              "\n",
              "    [theme=dark] .colab-df-convert:hover {\n",
              "      background-color: #434B5C;\n",
              "      box-shadow: 0px 1px 3px 1px rgba(0, 0, 0, 0.15);\n",
              "      filter: drop-shadow(0px 1px 2px rgba(0, 0, 0, 0.3));\n",
              "      fill: #FFFFFF;\n",
              "    }\n",
              "  </style>\n",
              "\n",
              "      <script>\n",
              "        const buttonEl =\n",
              "          document.querySelector('#df-a6a18135-9ab2-44fa-b65f-e016bc9daa19 button.colab-df-convert');\n",
              "        buttonEl.style.display =\n",
              "          google.colab.kernel.accessAllowed ? 'block' : 'none';\n",
              "\n",
              "        async function convertToInteractive(key) {\n",
              "          const element = document.querySelector('#df-a6a18135-9ab2-44fa-b65f-e016bc9daa19');\n",
              "          const dataTable =\n",
              "            await google.colab.kernel.invokeFunction('convertToInteractive',\n",
              "                                                     [key], {});\n",
              "          if (!dataTable) return;\n",
              "\n",
              "          const docLinkHtml = 'Like what you see? Visit the ' +\n",
              "            '<a target=\"_blank\" href=https://colab.research.google.com/notebooks/data_table.ipynb>data table notebook</a>'\n",
              "            + ' to learn more about interactive tables.';\n",
              "          element.innerHTML = '';\n",
              "          dataTable['output_type'] = 'display_data';\n",
              "          await google.colab.output.renderOutput(dataTable, element);\n",
              "          const docLink = document.createElement('div');\n",
              "          docLink.innerHTML = docLinkHtml;\n",
              "          element.appendChild(docLink);\n",
              "        }\n",
              "      </script>\n",
              "    </div>\n",
              "  </div>\n",
              "  "
            ]
          },
          "metadata": {},
          "execution_count": 19
        }
      ]
    },
    {
      "cell_type": "code",
      "metadata": {
        "id": "xzz-5cVyCsS4",
        "colab": {
          "base_uri": "https://localhost:8080/"
        },
        "outputId": "e8787438-6a39-481b-f15c-17736c542f24"
      },
      "source": [
        "#Access the list in each column by meta['name_of_col']\n",
        "cell_types = meta['cell_type']\n",
        "cell_types[0:5]"
      ],
      "execution_count": null,
      "outputs": [
        {
          "output_type": "execute_result",
          "data": {
            "text/plain": [
              "0        Nr5a1_4\n",
              "1    Tsix_Esr1_1\n",
              "2         Dlk1_3\n",
              "3    Tsix_Esr1_1\n",
              "4           Scgn\n",
              "Name: cell_type, dtype: object"
            ]
          },
          "metadata": {},
          "execution_count": 11
        }
      ]
    },
    {
      "cell_type": "code",
      "metadata": {
        "id": "plqTILR-DdnC",
        "colab": {
          "base_uri": "https://localhost:8080/"
        },
        "outputId": "5cf45d8d-6f9a-4320-cfcb-1c1fc4880b4c"
      },
      "source": [
        "#See all the cell type categories\n",
        "np.unique(meta['cell_type']) #Cell populations are marked by the genes they express (as comparec to other cell populations)"
      ],
      "execution_count": null,
      "outputs": [
        {
          "output_type": "execute_result",
          "data": {
            "text/plain": [
              "array(['Dlk1_1', 'Dlk1_2', 'Dlk1_3', 'Dlk1_4', 'Dlk1_5', 'Dlk1_6',\n",
              "       'Esr1_1', 'Esr1_2', 'Esr1_3', 'Esr1_4', 'Esr1_5', 'Esr1_6',\n",
              "       'Nr5a1_1', 'Nr5a1_10', 'Nr5a1_2', 'Nr5a1_3', 'Nr5a1_4', 'Nr5a1_5',\n",
              "       'Nr5a1_6', 'Nr5a1_7', 'Nr5a1_8', 'Nr5a1_9', 'Nr5a1_Foxp2_1',\n",
              "       'Nr5a1_Foxp2_2', 'Nup62cl', 'Satb2_1', 'Satb2_2', 'Satb2_3',\n",
              "       'Scgn', 'Tsix_Esr1_1'], dtype=object)"
            ]
          },
          "metadata": {},
          "execution_count": 12
        }
      ]
    },
    {
      "cell_type": "code",
      "metadata": {
        "id": "-kcBQFk_p3bC",
        "colab": {
          "base_uri": "https://localhost:8080/"
        },
        "outputId": "d4982ead-f324-4898-9d95-336778930ee9"
      },
      "source": [
        "#Filter the count matrix for a particular cell type (across all genes)\n",
        "\n",
        "#Remember! Cells are ROWS and Genes are COLUMNS\n",
        "\n",
        "indices = meta['cell_type'].isin(['Tsix_Esr1_1']) #Get indices for where the cell_type is Tsix_Esr1_1 only\n",
        "\n",
        "count_sub = count_mat[indices,:] #Filter rows (cells) of matrix\n",
        "count_sub.shape"
      ],
      "execution_count": null,
      "outputs": [
        {
          "output_type": "execute_result",
          "data": {
            "text/plain": [
              "(1659, 1999)"
            ]
          },
          "metadata": {},
          "execution_count": 13
        }
      ]
    },
    {
      "cell_type": "code",
      "metadata": {
        "id": "xRCYW1VVErG1",
        "colab": {
          "base_uri": "https://localhost:8080/"
        },
        "outputId": "3138f843-3506-46ad-bf9f-04e1d8324d00"
      },
      "source": [
        "#The sexes\n",
        "np.unique(meta['sex_label'])"
      ],
      "execution_count": null,
      "outputs": [
        {
          "output_type": "execute_result",
          "data": {
            "text/plain": [
              "array(['F', 'M'], dtype=object)"
            ]
          },
          "metadata": {},
          "execution_count": 14
        }
      ]
    },
    {
      "cell_type": "markdown",
      "source": [
        "## **Problem 4 (28 points)**\n",
        "Here we will explore how to use (1) linear regression to model gene count relationships, and investigate the assumptions these models will make.\n",
        "\n",
        "Given the multiple categories of metadata we have for these cells, we will also utilize (2) partial correlations to remove the influence of possibly confounding variables from our calculations of correlation between genes and their expression profiles."
      ],
      "metadata": {
        "id": "vOCNwfTzRn6M"
      }
    },
    {
      "cell_type": "markdown",
      "source": [
        "***Linear Regression***"
      ],
      "metadata": {
        "id": "5CsRl1eaXI91"
      }
    },
    {
      "cell_type": "markdown",
      "source": [
        "How to use linear regression functions from sklearn:\n",
        "https://scikit-learn.org/stable/modules/generated/sklearn.linear_model.LinearRegression.html \n",
        "```\n",
        ">>> import numpy as np\n",
        ">>> from sklearn.linear_model import LinearRegression\n",
        ">>> X = np.array([[1, 1], [1, 2], [2, 2], [2, 3]])\n",
        ">>> # y = 1 * x_0 + 2 * x_1 + 3\n",
        ">>> y = np.dot(X, np.array([1, 2])) + 3\n",
        ">>> reg = LinearRegression().fit(X, y)\n",
        ">>> reg.score(X, y)\n",
        "1.0\n",
        ">>> reg.coef_\n",
        "array([1., 2.])\n",
        ">>> reg.intercept_\n",
        "3.0...\n",
        "```\n",
        "\n"
      ],
      "metadata": {
        "id": "_0S8CxwBQoCO"
      }
    },
    {
      "cell_type": "markdown",
      "source": [
        "### **a) Find x ~ y and y ~ x regression model coefficients for a pair of genes and plot x versus y in each case. ( 4 points)** \n",
        "\n",
        "By regressing y (gene 2) on x (gene 1) written as y ~ x, or vice versa, we are modeling how gene 2's expression changes as a function of gene 1. Specifically, the $\\beta$ parameter from the fit $y = \\alpha + \\beta x$ represents the change in the value of dependent variable (y here) corresponding to unit change in the value of independent variable (x here). \n",
        "\n",
        "**Using the given gene pair (below), report the intercept and coefficient values for each of the two models.**"
      ],
      "metadata": {
        "id": "Rsc39i5zRr0Q"
      }
    },
    {
      "cell_type": "code",
      "source": [
        "#Set genes\n",
        "gene1 = 'Nr4a3' # Steroid-thyroid hormone-retinoid receptor\n",
        "gene2 = 'Gm31363' # Non-coding RNA \n",
        "\n",
        "#Do regression x ~ y and y ~ x\n",
        "\n",
        "\n",
        "\n",
        "#Print coefficients and intercepts\n",
        "\n"
      ],
      "metadata": {
        "id": "bAaRsWVlwvDV"
      },
      "execution_count": null,
      "outputs": []
    },
    {
      "cell_type": "code",
      "source": [],
      "metadata": {
        "id": "csYcuaQnSLqo"
      },
      "execution_count": null,
      "outputs": []
    },
    {
      "cell_type": "markdown",
      "source": [
        "### **b) Calculate the $R^2$ and the Pearson correlation coefficient for the gene pair, given each regression model ( 4 points)** \n",
        "\n",
        "The  $R^2$ coefficient of determination is defined as 1 - (sum of squares of the residuals)/(sum of total squares). Here the numerator represents deviation from the model predictions, and the denominator represents the variance of the given dataset (observations). $R^2 = 1 - \\frac{SS_{res}}{SS_{tot}} = 1 - \\frac{\\sum_i (y_i - y_{pred})^2}{\\sum_i (y_i - \\bar{y})^2} $ (where $\\bar{y}$ is the mean). This measures the proportion of the variation in y that is predictable from x.\n"
      ],
      "metadata": {
        "id": "5S1p_kUJSMuH"
      }
    },
    {
      "cell_type": "markdown",
      "source": [
        "Pearson correlation (Pearson's r) is defined as $\\frac{\\sum_i (x_i - \\bar{x})(y_i - \\bar{y})}{\\sqrt{\\sum_i (x_i - \\bar{x})^2\\sum_i (y_i - \\bar{y})^2}}$. This represents the covariance of two variables divided by the product of their standard deviations i.e. a normalized representation of covariance to measure the linear correlation between the variables.\n",
        "\n"
      ],
      "metadata": {
        "id": "RMCHl3ZFR54F"
      }
    },
    {
      "cell_type": "markdown",
      "source": [
        "**Report the $R^2$ for each model and the Pearson correlation calculations (you will only need to calculate one Pearson correlation value). Calculate these values directly using the formulas given. Additionally, print the 'score' for each regression model and check that this matches your $R^2$ calculation.**"
      ],
      "metadata": {
        "id": "bOf45te0TlDj"
      }
    },
    {
      "cell_type": "code",
      "source": [
        "#Report values\n",
        "\n"
      ],
      "metadata": {
        "id": "5orzxAEESLyV"
      },
      "execution_count": null,
      "outputs": []
    },
    {
      "cell_type": "code",
      "source": [],
      "metadata": {
        "id": "dB_tWBmZSn_S"
      },
      "execution_count": null,
      "outputs": []
    },
    {
      "cell_type": "markdown",
      "source": [
        "### **c) Show that if the data is mean-centered and scaled, then $r = \\beta$ ($r$ is Pearson's r, and $\\beta$ is the coefficient or slope of the model). ( 4 points)** \n",
        "\n",
        "The slope of the regression line (for y ~ x) can be written as $\\beta = \\frac{\\sum_i (x_i - \\bar{x})(y_i - \\bar{y})}{\\sum_i (x_i - \\bar{x})^2}$ or equivalently $r\\frac{\\sigma_y}{\\sigma_x}$ where $r$ is Pearson's r. $\\sigma$ represents standard deviation. \n",
        "\n",
        "If x and y are standardized, $x_{std} = \\frac{x - \\bar{x}}{\\sigma_x}$ and $y_{std} = \\frac{y - \\bar{y}}{\\sigma_x}$, to have a 0 mean and a standard deviation of 1, the regression fit is $\\hat{y} = \\beta x$ ($\\alpha = 0$) and $\\beta = r$.\n",
        "\n",
        "**Report the Pearson's r value and the $\\beta$ coefficient for the two models after data standardization.**\n"
      ],
      "metadata": {
        "id": "sukY82uxilBX"
      }
    },
    {
      "cell_type": "code",
      "source": [],
      "metadata": {
        "id": "5Voa3tzfrx8z"
      },
      "execution_count": null,
      "outputs": []
    },
    {
      "cell_type": "code",
      "source": [],
      "metadata": {
        "id": "2XyY68hPryAg"
      },
      "execution_count": null,
      "outputs": []
    },
    {
      "cell_type": "markdown",
      "source": [
        "### **d) Plot model residuals to check homoscedascity assumption for the gene pair ( 4 points)**\n",
        "\n",
        "OLS (ordinary least squares) assumes that the error term (“noise” in the relationship between the independent and the dependent variable) is the same across all values of the independent variable. If this is true for our dataset, we would expect a random distribution of residuals (deviations from the prediction) about the zero line.\n",
        "\n",
        "**Plot the residuals (predicted - observed) values for each model. The plots will have the residuals on the y-axis versus the independent (input) variable values (x). Report if you think the homoscedascity assumption is met.**"
      ],
      "metadata": {
        "id": "_K5_xbs1Rlfo"
      }
    },
    {
      "cell_type": "code",
      "source": [
        "#Example for uing matplotlib to plot\n",
        "import numpy as np\n",
        "import matplotlib.pyplot as plt \n",
        "\n",
        "xs = np.random.randint(100, size=10)\n",
        "ys = xs*3 + 2\n",
        "plt.scatter(xs,ys)"
      ],
      "metadata": {
        "colab": {
          "base_uri": "https://localhost:8080/",
          "height": 282
        },
        "id": "6klRDuJh7Ipg",
        "outputId": "9c6249a6-6386-4f66-ada1-f90e45c77608"
      },
      "execution_count": null,
      "outputs": [
        {
          "output_type": "execute_result",
          "data": {
            "text/plain": [
              "<matplotlib.collections.PathCollection at 0x7efe4343a6d0>"
            ]
          },
          "metadata": {},
          "execution_count": 9
        },
        {
          "output_type": "display_data",
          "data": {
            "image/png": "[encoded data removed]",
            "text/plain": [
              "<Figure size 432x288 with 1 Axes>"
            ]
          },
          "metadata": {
            "needs_background": "light"
          }
        }
      ]
    },
    {
      "cell_type": "code",
      "source": [
        "#Plot residuals for the predicted y's (for both models) and describe if you believe the assumption holds\n",
        "\n",
        "\n"
      ],
      "metadata": {
        "id": "Gk9wztnr6Bh1"
      },
      "execution_count": null,
      "outputs": []
    },
    {
      "cell_type": "markdown",
      "source": [
        "--- Your comments here ---"
      ],
      "metadata": {
        "id": "A2vF36K4-OmD"
      }
    },
    {
      "cell_type": "markdown",
      "source": [
        "***Partial Correlations***"
      ],
      "metadata": {
        "id": "5baFDcEWXdz5"
      }
    },
    {
      "cell_type": "markdown",
      "source": [
        "Partial correlation is a measure of association between two variables, after controlling for the effect of a third random variable. As a general example, one may want to measure correlation between age and memory performance, but may want to remove the effect of education level from this correlation.\n",
        "\n",
        "Partial correlation can be framed as correlation of the residuals from two regression problems: (1) X ~ Z and (2) Y ~ Z. The partial correlation between X and Y is then the pearson correlation of the residuals of (1) and (2).\n",
        "\n",
        "Below we will go through the steps of calculating the partial correlation for the gene pair in parts a-d."
      ],
      "metadata": {
        "id": "Dc2eAWytRfO-"
      }
    },
    {
      "cell_type": "markdown",
      "source": [
        "### **e) Find linear regression fits of each gene's expression profile (for the gene pair in a-d) against the sex of cells. Report the coefficient and intercept for each model. ( 4 points)**\n",
        "\n",
        "Fit linear regression models of (1) gene 1 expression against sex (binary 0 or 1 for Male or Female) and (2) gene 2 expression against sex (binary 0 or 1 for Male or Female). This is done across all cells (the count matrix with both sexes and all cell types). Convert the 'M' and 'F' to binary values, (0 or 1), for the regression models.\n"
      ],
      "metadata": {
        "id": "QTrI3Q8YThtj"
      }
    },
    {
      "cell_type": "code",
      "source": [
        "#Set up regression models\n",
        "\n",
        "\n",
        "#Print coefficients and intercepts\n"
      ],
      "metadata": {
        "id": "TF6Q3qD99ydp"
      },
      "execution_count": null,
      "outputs": []
    },
    {
      "cell_type": "markdown",
      "source": [
        "### **f) Report the residuals from each regression fit ( 4 points)**\n",
        "Residuals are defined as predicted - observed values, for each model.\n",
        "\n",
        "**Report the first 5 residual values for each model.**"
      ],
      "metadata": {
        "id": "XTjolzJ1UoR2"
      }
    },
    {
      "cell_type": "code",
      "source": [
        "#Get residuals\n"
      ],
      "metadata": {
        "id": "FgwkxqywUtJG"
      },
      "execution_count": null,
      "outputs": []
    },
    {
      "cell_type": "markdown",
      "source": [
        "### **g) Now find and report the partial correlation between the genes in pair. This is the Pearson correlation coefficient, as defined in b, between the residuals. ( 4 points)**"
      ],
      "metadata": {
        "id": "T3gBo2a3Ut07"
      }
    },
    {
      "cell_type": "code",
      "source": [
        "#Get correlation\n"
      ],
      "metadata": {
        "id": "bhN_g33uU06j"
      },
      "execution_count": null,
      "outputs": []
    },
    {
      "cell_type": "code",
      "source": [],
      "metadata": {
        "id": "g0mj0r7NdGXD"
      },
      "execution_count": null,
      "outputs": []
    }
  ]
}