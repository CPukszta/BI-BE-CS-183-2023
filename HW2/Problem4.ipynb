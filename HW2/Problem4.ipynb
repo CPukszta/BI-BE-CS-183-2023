{
  "nbformat": 4,
  "nbformat_minor": 0,
  "metadata": {
    "colab": {
      "provenance": [],
      "include_colab_link": true
    },
    "kernelspec": {
      "name": "python3",
      "display_name": "Python 3"
    },
    "language_info": {
      "name": "python"
    },
    "widgets": {
      "application/vnd.jupyter.widget-state+json": {
        "eb90b97e72bd4a00b247ba793d2e4060": {
          "model_module": "@jupyter-widgets/controls",
          "model_name": "HBoxModel",
          "model_module_version": "1.5.0",
          "state": {
            "_dom_classes": [],
            "_model_module": "@jupyter-widgets/controls",
            "_model_module_version": "1.5.0",
            "_model_name": "HBoxModel",
            "_view_count": null,
            "_view_module": "@jupyter-widgets/controls",
            "_view_module_version": "1.5.0",
            "_view_name": "HBoxView",
            "box_style": "",
            "children": [
              "IPY_MODEL_6ed3285c3d8946c5a4079eb25e370f08",
              "IPY_MODEL_f87b570e63484de8ba03a3f430e73551",
              "IPY_MODEL_e68d5bc633a64ff6985a2ebfb8df9824"
            ],
            "layout": "IPY_MODEL_17f57b0603c3433ea953ac5b0c1abb11"
          }
        },
        "6ed3285c3d8946c5a4079eb25e370f08": {
          "model_module": "@jupyter-widgets/controls",
          "model_name": "HTMLModel",
          "model_module_version": "1.5.0",
          "state": {
            "_dom_classes": [],
            "_model_module": "@jupyter-widgets/controls",
            "_model_module_version": "1.5.0",
            "_model_name": "HTMLModel",
            "_view_count": null,
            "_view_module": "@jupyter-widgets/controls",
            "_view_module_version": "1.5.0",
            "_view_name": "HTMLView",
            "description": "",
            "description_tooltip": null,
            "layout": "IPY_MODEL_9eae2915544d4908aaae1499ac0d5705",
            "placeholder": "​",
            "style": "IPY_MODEL_3bf0219323ee4c57bfa8be512d400008",
            "value": ""
          }
        },
        "f87b570e63484de8ba03a3f430e73551": {
          "model_module": "@jupyter-widgets/controls",
          "model_name": "FloatProgressModel",
          "model_module_version": "1.5.0",
          "state": {
            "_dom_classes": [],
            "_model_module": "@jupyter-widgets/controls",
            "_model_module_version": "1.5.0",
            "_model_name": "FloatProgressModel",
            "_view_count": null,
            "_view_module": "@jupyter-widgets/controls",
            "_view_module_version": "1.5.0",
            "_view_name": "ProgressView",
            "bar_style": "success",
            "description": "",
            "description_tooltip": null,
            "layout": "IPY_MODEL_04ccee541f2645c9acb537db13cb8469",
            "max": 104912,
            "min": 0,
            "orientation": "horizontal",
            "style": "IPY_MODEL_1f5c327a2eef46a9ae89400439c1534b",
            "value": 104912
          }
        },
        "e68d5bc633a64ff6985a2ebfb8df9824": {
          "model_module": "@jupyter-widgets/controls",
          "model_name": "HTMLModel",
          "model_module_version": "1.5.0",
          "state": {
            "_dom_classes": [],
            "_model_module": "@jupyter-widgets/controls",
            "_model_module_version": "1.5.0",
            "_model_name": "HTMLModel",
            "_view_count": null,
            "_view_module": "@jupyter-widgets/controls",
            "_view_module_version": "1.5.0",
            "_view_name": "HTMLView",
            "description": "",
            "description_tooltip": null,
            "layout": "IPY_MODEL_4ecb843f9a9e4f068d95242995373800",
            "placeholder": "​",
            "style": "IPY_MODEL_00a150c96a0741dab4aafbbef322c7fc",
            "value": " 104913/? [02:26&lt;00:00, 31697.57B/s]"
          }
        },
        "17f57b0603c3433ea953ac5b0c1abb11": {
          "model_module": "@jupyter-widgets/base",
          "model_name": "LayoutModel",
          "model_module_version": "1.2.0",
          "state": {
            "_model_module": "@jupyter-widgets/base",
            "_model_module_version": "1.2.0",
            "_model_name": "LayoutModel",
            "_view_count": null,
            "_view_module": "@jupyter-widgets/base",
            "_view_module_version": "1.2.0",
            "_view_name": "LayoutView",
            "align_content": null,
            "align_items": null,
            "align_self": null,
            "border": null,
            "bottom": null,
            "display": null,
            "flex": null,
            "flex_flow": null,
            "grid_area": null,
            "grid_auto_columns": null,
            "grid_auto_flow": null,
            "grid_auto_rows": null,
            "grid_column": null,
            "grid_gap": null,
            "grid_row": null,
            "grid_template_areas": null,
            "grid_template_columns": null,
            "grid_template_rows": null,
            "height": null,
            "justify_content": null,
            "justify_items": null,
            "left": null,
            "margin": null,
            "max_height": null,
            "max_width": null,
            "min_height": null,
            "min_width": null,
            "object_fit": null,
            "object_position": null,
            "order": null,
            "overflow": null,
            "overflow_x": null,
            "overflow_y": null,
            "padding": null,
            "right": null,
            "top": null,
            "visibility": null,
            "width": null
          }
        },
        "9eae2915544d4908aaae1499ac0d5705": {
          "model_module": "@jupyter-widgets/base",
          "model_name": "LayoutModel",
          "model_module_version": "1.2.0",
          "state": {
            "_model_module": "@jupyter-widgets/base",
            "_model_module_version": "1.2.0",
            "_model_name": "LayoutModel",
            "_view_count": null,
            "_view_module": "@jupyter-widgets/base",
            "_view_module_version": "1.2.0",
            "_view_name": "LayoutView",
            "align_content": null,
            "align_items": null,
            "align_self": null,
            "border": null,
            "bottom": null,
            "display": null,
            "flex": null,
            "flex_flow": null,
            "grid_area": null,
            "grid_auto_columns": null,
            "grid_auto_flow": null,
            "grid_auto_rows": null,
            "grid_column": null,
            "grid_gap": null,
            "grid_row": null,
            "grid_template_areas": null,
            "grid_template_columns": null,
            "grid_template_rows": null,
            "height": null,
            "justify_content": null,
            "justify_items": null,
            "left": null,
            "margin": null,
            "max_height": null,
            "max_width": null,
            "min_height": null,
            "min_width": null,
            "object_fit": null,
            "object_position": null,
            "order": null,
            "overflow": null,
            "overflow_x": null,
            "overflow_y": null,
            "padding": null,
            "right": null,
            "top": null,
            "visibility": null,
            "width": null
          }
        },
        "3bf0219323ee4c57bfa8be512d400008": {
          "model_module": "@jupyter-widgets/controls",
          "model_name": "DescriptionStyleModel",
          "model_module_version": "1.5.0",
          "state": {
            "_model_module": "@jupyter-widgets/controls",
            "_model_module_version": "1.5.0",
            "_model_name": "DescriptionStyleModel",
            "_view_count": null,
            "_view_module": "@jupyter-widgets/base",
            "_view_module_version": "1.2.0",
            "_view_name": "StyleView",
            "description_width": ""
          }
        },
        "04ccee541f2645c9acb537db13cb8469": {
          "model_module": "@jupyter-widgets/base",
          "model_name": "LayoutModel",
          "model_module_version": "1.2.0",
          "state": {
            "_model_module": "@jupyter-widgets/base",
            "_model_module_version": "1.2.0",
            "_model_name": "LayoutModel",
            "_view_count": null,
            "_view_module": "@jupyter-widgets/base",
            "_view_module_version": "1.2.0",
            "_view_name": "LayoutView",
            "align_content": null,
            "align_items": null,
            "align_self": null,
            "border": null,
            "bottom": null,
            "display": null,
            "flex": null,
            "flex_flow": null,
            "grid_area": null,
            "grid_auto_columns": null,
            "grid_auto_flow": null,
            "grid_auto_rows": null,
            "grid_column": null,
            "grid_gap": null,
            "grid_row": null,
            "grid_template_areas": null,
            "grid_template_columns": null,
            "grid_template_rows": null,
            "height": null,
            "justify_content": null,
            "justify_items": null,
            "left": null,
            "margin": null,
            "max_height": null,
            "max_width": null,
            "min_height": null,
            "min_width": null,
            "object_fit": null,
            "object_position": null,
            "order": null,
            "overflow": null,
            "overflow_x": null,
            "overflow_y": null,
            "padding": null,
            "right": null,
            "top": null,
            "visibility": null,
            "width": null
          }
        },
        "1f5c327a2eef46a9ae89400439c1534b": {
          "model_module": "@jupyter-widgets/controls",
          "model_name": "ProgressStyleModel",
          "model_module_version": "1.5.0",
          "state": {
            "_model_module": "@jupyter-widgets/controls",
            "_model_module_version": "1.5.0",
            "_model_name": "ProgressStyleModel",
            "_view_count": null,
            "_view_module": "@jupyter-widgets/base",
            "_view_module_version": "1.2.0",
            "_view_name": "StyleView",
            "bar_color": null,
            "description_width": ""
          }
        },
        "4ecb843f9a9e4f068d95242995373800": {
          "model_module": "@jupyter-widgets/base",
          "model_name": "LayoutModel",
          "model_module_version": "1.2.0",
          "state": {
            "_model_module": "@jupyter-widgets/base",
            "_model_module_version": "1.2.0",
            "_model_name": "LayoutModel",
            "_view_count": null,
            "_view_module": "@jupyter-widgets/base",
            "_view_module_version": "1.2.0",
            "_view_name": "LayoutView",
            "align_content": null,
            "align_items": null,
            "align_self": null,
            "border": null,
            "bottom": null,
            "display": null,
            "flex": null,
            "flex_flow": null,
            "grid_area": null,
            "grid_auto_columns": null,
            "grid_auto_flow": null,
            "grid_auto_rows": null,
            "grid_column": null,
            "grid_gap": null,
            "grid_row": null,
            "grid_template_areas": null,
            "grid_template_columns": null,
            "grid_template_rows": null,
            "height": null,
            "justify_content": null,
            "justify_items": null,
            "left": null,
            "margin": null,
            "max_height": null,
            "max_width": null,
            "min_height": null,
            "min_width": null,
            "object_fit": null,
            "object_position": null,
            "order": null,
            "overflow": null,
            "overflow_x": null,
            "overflow_y": null,
            "padding": null,
            "right": null,
            "top": null,
            "visibility": null,
            "width": null
          }
        },
        "00a150c96a0741dab4aafbbef322c7fc": {
          "model_module": "@jupyter-widgets/controls",
          "model_name": "DescriptionStyleModel",
          "model_module_version": "1.5.0",
          "state": {
            "_model_module": "@jupyter-widgets/controls",
            "_model_module_version": "1.5.0",
            "_model_name": "DescriptionStyleModel",
            "_view_count": null,
            "_view_module": "@jupyter-widgets/base",
            "_view_module_version": "1.2.0",
            "_view_name": "StyleView",
            "description_width": ""
          }
        },
        "b2af7aff4d9c4421a066c9f30b36575b": {
          "model_module": "@jupyter-widgets/controls",
          "model_name": "HBoxModel",
          "model_module_version": "1.5.0",
          "state": {
            "_dom_classes": [],
            "_model_module": "@jupyter-widgets/controls",
            "_model_module_version": "1.5.0",
            "_model_name": "HBoxModel",
            "_view_count": null,
            "_view_module": "@jupyter-widgets/controls",
            "_view_module_version": "1.5.0",
            "_view_name": "HBoxView",
            "box_style": "",
            "children": [
              "IPY_MODEL_49e46bd8ee484bf6a331e3710d3f9304",
              "IPY_MODEL_84ef28ebf3af4225b7eebe2d7b7dc360",
              "IPY_MODEL_8c5f7ff16b8f44d697ae51718a77568f"
            ],
            "layout": "IPY_MODEL_6a75e829cb00441094cbe74a0f1974cd"
          }
        },
        "49e46bd8ee484bf6a331e3710d3f9304": {
          "model_module": "@jupyter-widgets/controls",
          "model_name": "HTMLModel",
          "model_module_version": "1.5.0",
          "state": {
            "_dom_classes": [],
            "_model_module": "@jupyter-widgets/controls",
            "_model_module_version": "1.5.0",
            "_model_name": "HTMLModel",
            "_view_count": null,
            "_view_module": "@jupyter-widgets/controls",
            "_view_module_version": "1.5.0",
            "_view_name": "HTMLView",
            "description": "",
            "description_tooltip": null,
            "layout": "IPY_MODEL_f27e297c433c448286e7c4a75ab762ec",
            "placeholder": "​",
            "style": "IPY_MODEL_5d0291703306443fb91b62fb15c48f8d",
            "value": ""
          }
        },
        "84ef28ebf3af4225b7eebe2d7b7dc360": {
          "model_module": "@jupyter-widgets/controls",
          "model_name": "FloatProgressModel",
          "model_module_version": "1.5.0",
          "state": {
            "_dom_classes": [],
            "_model_module": "@jupyter-widgets/controls",
            "_model_module_version": "1.5.0",
            "_model_name": "FloatProgressModel",
            "_view_count": null,
            "_view_module": "@jupyter-widgets/controls",
            "_view_module_version": "1.5.0",
            "_view_name": "ProgressView",
            "bar_style": "success",
            "description": "",
            "description_tooltip": null,
            "layout": "IPY_MODEL_22ba9dc79ae04be7967dc67e109124a5",
            "max": 349,
            "min": 0,
            "orientation": "horizontal",
            "style": "IPY_MODEL_cba76470250f41aea987ae51fabd958d",
            "value": 349
          }
        },
        "8c5f7ff16b8f44d697ae51718a77568f": {
          "model_module": "@jupyter-widgets/controls",
          "model_name": "HTMLModel",
          "model_module_version": "1.5.0",
          "state": {
            "_dom_classes": [],
            "_model_module": "@jupyter-widgets/controls",
            "_model_module_version": "1.5.0",
            "_model_name": "HTMLModel",
            "_view_count": null,
            "_view_module": "@jupyter-widgets/controls",
            "_view_module_version": "1.5.0",
            "_view_name": "HTMLView",
            "description": "",
            "description_tooltip": null,
            "layout": "IPY_MODEL_2c3277f906dd425ca71bddfc5c0e7c83",
            "placeholder": "​",
            "style": "IPY_MODEL_5c9bf7495cf641f486708a283a2ae8e2",
            "value": " 350/? [00:02&lt;00:00, 1018.70B/s]"
          }
        },
        "6a75e829cb00441094cbe74a0f1974cd": {
          "model_module": "@jupyter-widgets/base",
          "model_name": "LayoutModel",
          "model_module_version": "1.2.0",
          "state": {
            "_model_module": "@jupyter-widgets/base",
            "_model_module_version": "1.2.0",
            "_model_name": "LayoutModel",
            "_view_count": null,
            "_view_module": "@jupyter-widgets/base",
            "_view_module_version": "1.2.0",
            "_view_name": "LayoutView",
            "align_content": null,
            "align_items": null,
            "align_self": null,
            "border": null,
            "bottom": null,
            "display": null,
            "flex": null,
            "flex_flow": null,
            "grid_area": null,
            "grid_auto_columns": null,
            "grid_auto_flow": null,
            "grid_auto_rows": null,
            "grid_column": null,
            "grid_gap": null,
            "grid_row": null,
            "grid_template_areas": null,
            "grid_template_columns": null,
            "grid_template_rows": null,
            "height": null,
            "justify_content": null,
            "justify_items": null,
            "left": null,
            "margin": null,
            "max_height": null,
            "max_width": null,
            "min_height": null,
            "min_width": null,
            "object_fit": null,
            "object_position": null,
            "order": null,
            "overflow": null,
            "overflow_x": null,
            "overflow_y": null,
            "padding": null,
            "right": null,
            "top": null,
            "visibility": null,
            "width": null
          }
        },
        "f27e297c433c448286e7c4a75ab762ec": {
          "model_module": "@jupyter-widgets/base",
          "model_name": "LayoutModel",
          "model_module_version": "1.2.0",
          "state": {
            "_model_module": "@jupyter-widgets/base",
            "_model_module_version": "1.2.0",
            "_model_name": "LayoutModel",
            "_view_count": null,
            "_view_module": "@jupyter-widgets/base",
            "_view_module_version": "1.2.0",
            "_view_name": "LayoutView",
            "align_content": null,
            "align_items": null,
            "align_self": null,
            "border": null,
            "bottom": null,
            "display": null,
            "flex": null,
            "flex_flow": null,
            "grid_area": null,
            "grid_auto_columns": null,
            "grid_auto_flow": null,
            "grid_auto_rows": null,
            "grid_column": null,
            "grid_gap": null,
            "grid_row": null,
            "grid_template_areas": null,
            "grid_template_columns": null,
            "grid_template_rows": null,
            "height": null,
            "justify_content": null,
            "justify_items": null,
            "left": null,
            "margin": null,
            "max_height": null,
            "max_width": null,
            "min_height": null,
            "min_width": null,
            "object_fit": null,
            "object_position": null,
            "order": null,
            "overflow": null,
            "overflow_x": null,
            "overflow_y": null,
            "padding": null,
            "right": null,
            "top": null,
            "visibility": null,
            "width": null
          }
        },
        "5d0291703306443fb91b62fb15c48f8d": {
          "model_module": "@jupyter-widgets/controls",
          "model_name": "DescriptionStyleModel",
          "model_module_version": "1.5.0",
          "state": {
            "_model_module": "@jupyter-widgets/controls",
            "_model_module_version": "1.5.0",
            "_model_name": "DescriptionStyleModel",
            "_view_count": null,
            "_view_module": "@jupyter-widgets/base",
            "_view_module_version": "1.2.0",
            "_view_name": "StyleView",
            "description_width": ""
          }
        },
        "22ba9dc79ae04be7967dc67e109124a5": {
          "model_module": "@jupyter-widgets/base",
          "model_name": "LayoutModel",
          "model_module_version": "1.2.0",
          "state": {
            "_model_module": "@jupyter-widgets/base",
            "_model_module_version": "1.2.0",
            "_model_name": "LayoutModel",
            "_view_count": null,
            "_view_module": "@jupyter-widgets/base",
            "_view_module_version": "1.2.0",
            "_view_name": "LayoutView",
            "align_content": null,
            "align_items": null,
            "align_self": null,
            "border": null,
            "bottom": null,
            "display": null,
            "flex": null,
            "flex_flow": null,
            "grid_area": null,
            "grid_auto_columns": null,
            "grid_auto_flow": null,
            "grid_auto_rows": null,
            "grid_column": null,
            "grid_gap": null,
            "grid_row": null,
            "grid_template_areas": null,
            "grid_template_columns": null,
            "grid_template_rows": null,
            "height": null,
            "justify_content": null,
            "justify_items": null,
            "left": null,
            "margin": null,
            "max_height": null,
            "max_width": null,
            "min_height": null,
            "min_width": null,
            "object_fit": null,
            "object_position": null,
            "order": null,
            "overflow": null,
            "overflow_x": null,
            "overflow_y": null,
            "padding": null,
            "right": null,
            "top": null,
            "visibility": null,
            "width": null
          }
        },
        "cba76470250f41aea987ae51fabd958d": {
          "model_module": "@jupyter-widgets/controls",
          "model_name": "ProgressStyleModel",
          "model_module_version": "1.5.0",
          "state": {
            "_model_module": "@jupyter-widgets/controls",
            "_model_module_version": "1.5.0",
            "_model_name": "ProgressStyleModel",
            "_view_count": null,
            "_view_module": "@jupyter-widgets/base",
            "_view_module_version": "1.2.0",
            "_view_name": "StyleView",
            "bar_color": null,
            "description_width": ""
          }
        },
        "2c3277f906dd425ca71bddfc5c0e7c83": {
          "model_module": "@jupyter-widgets/base",
          "model_name": "LayoutModel",
          "model_module_version": "1.2.0",
          "state": {
            "_model_module": "@jupyter-widgets/base",
            "_model_module_version": "1.2.0",
            "_model_name": "LayoutModel",
            "_view_count": null,
            "_view_module": "@jupyter-widgets/base",
            "_view_module_version": "1.2.0",
            "_view_name": "LayoutView",
            "align_content": null,
            "align_items": null,
            "align_self": null,
            "border": null,
            "bottom": null,
            "display": null,
            "flex": null,
            "flex_flow": null,
            "grid_area": null,
            "grid_auto_columns": null,
            "grid_auto_flow": null,
            "grid_auto_rows": null,
            "grid_column": null,
            "grid_gap": null,
            "grid_row": null,
            "grid_template_areas": null,
            "grid_template_columns": null,
            "grid_template_rows": null,
            "height": null,
            "justify_content": null,
            "justify_items": null,
            "left": null,
            "margin": null,
            "max_height": null,
            "max_width": null,
            "min_height": null,
            "min_width": null,
            "object_fit": null,
            "object_position": null,
            "order": null,
            "overflow": null,
            "overflow_x": null,
            "overflow_y": null,
            "padding": null,
            "right": null,
            "top": null,
            "visibility": null,
            "width": null
          }
        },
        "5c9bf7495cf641f486708a283a2ae8e2": {
          "model_module": "@jupyter-widgets/controls",
          "model_name": "DescriptionStyleModel",
          "model_module_version": "1.5.0",
          "state": {
            "_model_module": "@jupyter-widgets/controls",
            "_model_module_version": "1.5.0",
            "_model_name": "DescriptionStyleModel",
            "_view_count": null,
            "_view_module": "@jupyter-widgets/base",
            "_view_module_version": "1.2.0",
            "_view_name": "StyleView",
            "description_width": ""
          }
        },
        "d7cc92de4ccd4676a8107a624a91bd09": {
          "model_module": "@jupyter-widgets/controls",
          "model_name": "HBoxModel",
          "model_module_version": "1.5.0",
          "state": {
            "_dom_classes": [],
            "_model_module": "@jupyter-widgets/controls",
            "_model_module_version": "1.5.0",
            "_model_name": "HBoxModel",
            "_view_count": null,
            "_view_module": "@jupyter-widgets/controls",
            "_view_module_version": "1.5.0",
            "_view_name": "HBoxView",
            "box_style": "",
            "children": [
              "IPY_MODEL_6752c2318fcf4492ac6d9e5f24534d99",
              "IPY_MODEL_9cf25b6b060b4d029263730acbf4af20",
              "IPY_MODEL_771724ec66c54275a4f5eea1e4f965f6"
            ],
            "layout": "IPY_MODEL_1dda7ba033c140d39a97b0973ccfb5bc"
          }
        },
        "6752c2318fcf4492ac6d9e5f24534d99": {
          "model_module": "@jupyter-widgets/controls",
          "model_name": "HTMLModel",
          "model_module_version": "1.5.0",
          "state": {
            "_dom_classes": [],
            "_model_module": "@jupyter-widgets/controls",
            "_model_module_version": "1.5.0",
            "_model_name": "HTMLModel",
            "_view_count": null,
            "_view_module": "@jupyter-widgets/controls",
            "_view_module_version": "1.5.0",
            "_view_name": "HTMLView",
            "description": "",
            "description_tooltip": null,
            "layout": "IPY_MODEL_4015efc827384dcc884e692c5dbb6b6c",
            "placeholder": "​",
            "style": "IPY_MODEL_ec610456d1994578a91182800543a10f",
            "value": ""
          }
        },
        "9cf25b6b060b4d029263730acbf4af20": {
          "model_module": "@jupyter-widgets/controls",
          "model_name": "FloatProgressModel",
          "model_module_version": "1.5.0",
          "state": {
            "_dom_classes": [],
            "_model_module": "@jupyter-widgets/controls",
            "_model_module_version": "1.5.0",
            "_model_name": "FloatProgressModel",
            "_view_count": null,
            "_view_module": "@jupyter-widgets/controls",
            "_view_module_version": "1.5.0",
            "_view_name": "ProgressView",
            "bar_style": "success",
            "description": "",
            "description_tooltip": null,
            "layout": "IPY_MODEL_66b1ac2782ee4b51938514fcee28c109",
            "max": 12,
            "min": 0,
            "orientation": "horizontal",
            "style": "IPY_MODEL_6820b6778d10435694bba220d2096178",
            "value": 12
          }
        },
        "771724ec66c54275a4f5eea1e4f965f6": {
          "model_module": "@jupyter-widgets/controls",
          "model_name": "HTMLModel",
          "model_module_version": "1.5.0",
          "state": {
            "_dom_classes": [],
            "_model_module": "@jupyter-widgets/controls",
            "_model_module_version": "1.5.0",
            "_model_name": "HTMLModel",
            "_view_count": null,
            "_view_module": "@jupyter-widgets/controls",
            "_view_module_version": "1.5.0",
            "_view_name": "HTMLView",
            "description": "",
            "description_tooltip": null,
            "layout": "IPY_MODEL_0256ea6b512940ec8d6976249108f2b1",
            "placeholder": "​",
            "style": "IPY_MODEL_748bbe78c90b48babb140e2beac4752e",
            "value": " 13/? [02:18&lt;00:00, 10.62s/B]"
          }
        },
        "1dda7ba033c140d39a97b0973ccfb5bc": {
          "model_module": "@jupyter-widgets/base",
          "model_name": "LayoutModel",
          "model_module_version": "1.2.0",
          "state": {
            "_model_module": "@jupyter-widgets/base",
            "_model_module_version": "1.2.0",
            "_model_name": "LayoutModel",
            "_view_count": null,
            "_view_module": "@jupyter-widgets/base",
            "_view_module_version": "1.2.0",
            "_view_name": "LayoutView",
            "align_content": null,
            "align_items": null,
            "align_self": null,
            "border": null,
            "bottom": null,
            "display": null,
            "flex": null,
            "flex_flow": null,
            "grid_area": null,
            "grid_auto_columns": null,
            "grid_auto_flow": null,
            "grid_auto_rows": null,
            "grid_column": null,
            "grid_gap": null,
            "grid_row": null,
            "grid_template_areas": null,
            "grid_template_columns": null,
            "grid_template_rows": null,
            "height": null,
            "justify_content": null,
            "justify_items": null,
            "left": null,
            "margin": null,
            "max_height": null,
            "max_width": null,
            "min_height": null,
            "min_width": null,
            "object_fit": null,
            "object_position": null,
            "order": null,
            "overflow": null,
            "overflow_x": null,
            "overflow_y": null,
            "padding": null,
            "right": null,
            "top": null,
            "visibility": null,
            "width": null
          }
        },
        "4015efc827384dcc884e692c5dbb6b6c": {
          "model_module": "@jupyter-widgets/base",
          "model_name": "LayoutModel",
          "model_module_version": "1.2.0",
          "state": {
            "_model_module": "@jupyter-widgets/base",
            "_model_module_version": "1.2.0",
            "_model_name": "LayoutModel",
            "_view_count": null,
            "_view_module": "@jupyter-widgets/base",
            "_view_module_version": "1.2.0",
            "_view_name": "LayoutView",
            "align_content": null,
            "align_items": null,
            "align_self": null,
            "border": null,
            "bottom": null,
            "display": null,
            "flex": null,
            "flex_flow": null,
            "grid_area": null,
            "grid_auto_columns": null,
            "grid_auto_flow": null,
            "grid_auto_rows": null,
            "grid_column": null,
            "grid_gap": null,
            "grid_row": null,
            "grid_template_areas": null,
            "grid_template_columns": null,
            "grid_template_rows": null,
            "height": null,
            "justify_content": null,
            "justify_items": null,
            "left": null,
            "margin": null,
            "max_height": null,
            "max_width": null,
            "min_height": null,
            "min_width": null,
            "object_fit": null,
            "object_position": null,
            "order": null,
            "overflow": null,
            "overflow_x": null,
            "overflow_y": null,
            "padding": null,
            "right": null,
            "top": null,
            "visibility": null,
            "width": null
          }
        },
        "ec610456d1994578a91182800543a10f": {
          "model_module": "@jupyter-widgets/controls",
          "model_name": "DescriptionStyleModel",
          "model_module_version": "1.5.0",
          "state": {
            "_model_module": "@jupyter-widgets/controls",
            "_model_module_version": "1.5.0",
            "_model_name": "DescriptionStyleModel",
            "_view_count": null,
            "_view_module": "@jupyter-widgets/base",
            "_view_module_version": "1.2.0",
            "_view_name": "StyleView",
            "description_width": ""
          }
        },
        "66b1ac2782ee4b51938514fcee28c109": {
          "model_module": "@jupyter-widgets/base",
          "model_name": "LayoutModel",
          "model_module_version": "1.2.0",
          "state": {
            "_model_module": "@jupyter-widgets/base",
            "_model_module_version": "1.2.0",
            "_model_name": "LayoutModel",
            "_view_count": null,
            "_view_module": "@jupyter-widgets/base",
            "_view_module_version": "1.2.0",
            "_view_name": "LayoutView",
            "align_content": null,
            "align_items": null,
            "align_self": null,
            "border": null,
            "bottom": null,
            "display": null,
            "flex": null,
            "flex_flow": null,
            "grid_area": null,
            "grid_auto_columns": null,
            "grid_auto_flow": null,
            "grid_auto_rows": null,
            "grid_column": null,
            "grid_gap": null,
            "grid_row": null,
            "grid_template_areas": null,
            "grid_template_columns": null,
            "grid_template_rows": null,
            "height": null,
            "justify_content": null,
            "justify_items": null,
            "left": null,
            "margin": null,
            "max_height": null,
            "max_width": null,
            "min_height": null,
            "min_width": null,
            "object_fit": null,
            "object_position": null,
            "order": null,
            "overflow": null,
            "overflow_x": null,
            "overflow_y": null,
            "padding": null,
            "right": null,
            "top": null,
            "visibility": null,
            "width": null
          }
        },
        "6820b6778d10435694bba220d2096178": {
          "model_module": "@jupyter-widgets/controls",
          "model_name": "ProgressStyleModel",
          "model_module_version": "1.5.0",
          "state": {
            "_model_module": "@jupyter-widgets/controls",
            "_model_module_version": "1.5.0",
            "_model_name": "ProgressStyleModel",
            "_view_count": null,
            "_view_module": "@jupyter-widgets/base",
            "_view_module_version": "1.2.0",
            "_view_name": "StyleView",
            "bar_color": null,
            "description_width": ""
          }
        },
        "0256ea6b512940ec8d6976249108f2b1": {
          "model_module": "@jupyter-widgets/base",
          "model_name": "LayoutModel",
          "model_module_version": "1.2.0",
          "state": {
            "_model_module": "@jupyter-widgets/base",
            "_model_module_version": "1.2.0",
            "_model_name": "LayoutModel",
            "_view_count": null,
            "_view_module": "@jupyter-widgets/base",
            "_view_module_version": "1.2.0",
            "_view_name": "LayoutView",
            "align_content": null,
            "align_items": null,
            "align_self": null,
            "border": null,
            "bottom": null,
            "display": null,
            "flex": null,
            "flex_flow": null,
            "grid_area": null,
            "grid_auto_columns": null,
            "grid_auto_flow": null,
            "grid_auto_rows": null,
            "grid_column": null,
            "grid_gap": null,
            "grid_row": null,
            "grid_template_areas": null,
            "grid_template_columns": null,
            "grid_template_rows": null,
            "height": null,
            "justify_content": null,
            "justify_items": null,
            "left": null,
            "margin": null,
            "max_height": null,
            "max_width": null,
            "min_height": null,
            "min_width": null,
            "object_fit": null,
            "object_position": null,
            "order": null,
            "overflow": null,
            "overflow_x": null,
            "overflow_y": null,
            "padding": null,
            "right": null,
            "top": null,
            "visibility": null,
            "width": null
          }
        },
        "748bbe78c90b48babb140e2beac4752e": {
          "model_module": "@jupyter-widgets/controls",
          "model_name": "DescriptionStyleModel",
          "model_module_version": "1.5.0",
          "state": {
            "_model_module": "@jupyter-widgets/controls",
            "_model_module_version": "1.5.0",
            "_model_name": "DescriptionStyleModel",
            "_view_count": null,
            "_view_module": "@jupyter-widgets/base",
            "_view_module_version": "1.2.0",
            "_view_name": "StyleView",
            "description_width": ""
          }
        }
      }
    }
  },
  "cells": [
    {
      "cell_type": "markdown",
      "metadata": {
        "id": "view-in-github",
        "colab_type": "text"
      },
      "source": [
        "<a href=\"https://colab.research.google.com/github/CPukszta/BI-BE-CS-183-2023/blob/main/HW2/Problem4.ipynb\" target=\"_parent\"><img src=\"https://colab.research.google.com/assets/colab-badge.svg\" alt=\"Open In Colab\"/></a>"
      ]
    },
    {
      "cell_type": "markdown",
      "metadata": {
        "id": "MozW3XxY8ezr"
      },
      "source": [
        "Bi/Be/Cs 183 2022-2023: Intro to Computational Biology\n",
        "TAs: Meichen Fang, Tara Chari, Zitong (Jerry) Wang\n",
        "\n",
        "**Submit your notebooks by sharing a clickable link with Viewer access. Link must be accessible from submitted assignment document.**\n",
        "\n",
        "Make sure Runtime $\\rightarrow$ Restart and run all works without error"
      ]
    },
    {
      "cell_type": "markdown",
      "source": [
        "**HW 2 Problem 4**\n",
        "\n",
        "Here you will explore how to use (1) linear regression to model gene count relationships, and investigate the assumptions these models will make. Utilizing the metadata from single-cell datasets, you will also apply (2) partial correlations to remove the influence of possibly confounding variables from your calculations of correlation between genes and their expression profiles."
      ],
      "metadata": {
        "id": "P_iWpBOotaza"
      }
    },
    {
      "cell_type": "markdown",
      "metadata": {
        "id": "5oPRpu328neb"
      },
      "source": [
        "##**Import data and install packages**"
      ]
    },
    {
      "cell_type": "code",
      "metadata": {
        "id": "vYTZEjs9AqwV"
      },
      "source": [
        "import numpy as np\n",
        "import scipy.io as sio\n",
        "import pandas as pd\n",
        "import matplotlib.pyplot as plt #Can use other plotting packages like seaborn\n",
        "\n",
        "import bokeh.io\n",
        "import bokeh.plotting\n",
        "\n",
        "bokeh.io.output_notebook()"
      ],
      "execution_count": 2,
      "outputs": []
    },
    {
      "cell_type": "code",
      "metadata": {
        "id": "kNFuUFJ78cN5"
      },
      "source": [
        "# ! allows you to run commands in the command line, as you would in your normal terminal/command line interface"
      ],
      "execution_count": 3,
      "outputs": []
    },
    {
      "cell_type": "code",
      "metadata": {
        "id": "yH-EpSmB9Y_x",
        "colab": {
          "base_uri": "https://localhost:8080/",
          "height": 102,
          "referenced_widgets": [
            "eb90b97e72bd4a00b247ba793d2e4060",
            "6ed3285c3d8946c5a4079eb25e370f08",
            "f87b570e63484de8ba03a3f430e73551",
            "e68d5bc633a64ff6985a2ebfb8df9824",
            "17f57b0603c3433ea953ac5b0c1abb11",
            "9eae2915544d4908aaae1499ac0d5705",
            "3bf0219323ee4c57bfa8be512d400008",
            "04ccee541f2645c9acb537db13cb8469",
            "1f5c327a2eef46a9ae89400439c1534b",
            "4ecb843f9a9e4f068d95242995373800",
            "00a150c96a0741dab4aafbbef322c7fc"
          ]
        },
        "outputId": "9e2ef18c-f846-4ee3-c2e2-8b8d567c82bc"
      },
      "source": [
        "#Download count matrix of cell by gene counts\n",
        "#Cells are 10x sequenced neurons from the mouse hypothalamus (Kim et al. 2019)\n",
        "\n",
        "import requests\n",
        "from tqdm import tnrange, tqdm_notebook\n",
        "def download_file(doi,ext):\n",
        "    url = 'https://api.datacite.org/dois/'+doi+'/media'\n",
        "    r = requests.get(url).json()\n",
        "    netcdf_url = r['data'][0]['attributes']['url']\n",
        "    r = requests.get(netcdf_url,stream=True)\n",
        "    #Set file name\n",
        "    fname = doi.split('/')[-1]+ext\n",
        "    #Download file with progress bar\n",
        "    if r.status_code == 403:\n",
        "        print(\"File Unavailable\")\n",
        "    if 'content-length' not in r.headers:\n",
        "        print(\"Did not get file\")\n",
        "    else:\n",
        "        with open(fname, 'wb') as f:\n",
        "            total_length = int(r.headers.get('content-length'))\n",
        "            pbar = tnrange(int(total_length/1024), unit=\"B\")\n",
        "            for chunk in r.iter_content(chunk_size=1024):\n",
        "                if chunk:\n",
        "                    pbar.update()\n",
        "                    f.write(chunk)\n",
        "        return fname\n",
        "\n",
        "download_file('10.22002/D1.2072','.gz')"
      ],
      "execution_count": 4,
      "outputs": [
        {
          "output_type": "stream",
          "name": "stderr",
          "text": [
            "<ipython-input-4-3ec706f16f67>:21: TqdmDeprecationWarning: Please use `tqdm.notebook.trange` instead of `tqdm.tnrange`\n",
            "  pbar = tnrange(int(total_length/1024), unit=\"B\")\n"
          ]
        },
        {
          "output_type": "display_data",
          "data": {
            "text/plain": [
              "  0%|          | 0/104912 [00:00<?, ?B/s]"
            ],
            "application/vnd.jupyter.widget-view+json": {
              "version_major": 2,
              "version_minor": 0,
              "model_id": "eb90b97e72bd4a00b247ba793d2e4060"
            }
          },
          "metadata": {}
        },
        {
          "output_type": "execute_result",
          "data": {
            "text/plain": [
              "'D1.2072.gz'"
            ],
            "application/vnd.google.colaboratory.intrinsic+json": {
              "type": "string"
            }
          },
          "metadata": {},
          "execution_count": 4
        }
      ]
    },
    {
      "cell_type": "code",
      "metadata": {
        "id": "lBDp8sjR_fsQ",
        "colab": {
          "base_uri": "https://localhost:8080/",
          "height": 102,
          "referenced_widgets": [
            "b2af7aff4d9c4421a066c9f30b36575b",
            "49e46bd8ee484bf6a331e3710d3f9304",
            "84ef28ebf3af4225b7eebe2d7b7dc360",
            "8c5f7ff16b8f44d697ae51718a77568f",
            "6a75e829cb00441094cbe74a0f1974cd",
            "f27e297c433c448286e7c4a75ab762ec",
            "5d0291703306443fb91b62fb15c48f8d",
            "22ba9dc79ae04be7967dc67e109124a5",
            "cba76470250f41aea987ae51fabd958d",
            "2c3277f906dd425ca71bddfc5c0e7c83",
            "5c9bf7495cf641f486708a283a2ae8e2"
          ]
        },
        "outputId": "fbc5ab62-a7d9-4b27-ab91-69fd5b05d2d8"
      },
      "source": [
        "#Download csv of metadata for cells (cell type classification, sex of mouse)\n",
        "\n",
        "download_file('10.22002/D1.8969','.gz')"
      ],
      "execution_count": 5,
      "outputs": [
        {
          "output_type": "stream",
          "name": "stderr",
          "text": [
            "<ipython-input-4-3ec706f16f67>:21: TqdmDeprecationWarning: Please use `tqdm.notebook.trange` instead of `tqdm.tnrange`\n",
            "  pbar = tnrange(int(total_length/1024), unit=\"B\")\n"
          ]
        },
        {
          "output_type": "display_data",
          "data": {
            "text/plain": [
              "  0%|          | 0/349 [00:00<?, ?B/s]"
            ],
            "application/vnd.jupyter.widget-view+json": {
              "version_major": 2,
              "version_minor": 0,
              "model_id": "b2af7aff4d9c4421a066c9f30b36575b"
            }
          },
          "metadata": {}
        },
        {
          "output_type": "execute_result",
          "data": {
            "text/plain": [
              "'D1.8969.gz'"
            ],
            "application/vnd.google.colaboratory.intrinsic+json": {
              "type": "string"
            }
          },
          "metadata": {},
          "execution_count": 5
        }
      ]
    },
    {
      "cell_type": "code",
      "metadata": {
        "id": "khusZj08PuxC",
        "colab": {
          "base_uri": "https://localhost:8080/",
          "height": 102,
          "referenced_widgets": [
            "d7cc92de4ccd4676a8107a624a91bd09",
            "6752c2318fcf4492ac6d9e5f24534d99",
            "9cf25b6b060b4d029263730acbf4af20",
            "771724ec66c54275a4f5eea1e4f965f6",
            "1dda7ba033c140d39a97b0973ccfb5bc",
            "4015efc827384dcc884e692c5dbb6b6c",
            "ec610456d1994578a91182800543a10f",
            "66b1ac2782ee4b51938514fcee28c109",
            "6820b6778d10435694bba220d2096178",
            "0256ea6b512940ec8d6976249108f2b1",
            "748bbe78c90b48babb140e2beac4752e"
          ]
        },
        "outputId": "a3591909-f32d-46dd-ded5-8b687a0bdd64"
      },
      "source": [
        "#Download csv of metadata for genes (gene names)\n",
        "download_file('10.22002/D1.2066','.gz')"
      ],
      "execution_count": 6,
      "outputs": [
        {
          "output_type": "stream",
          "name": "stderr",
          "text": [
            "<ipython-input-4-3ec706f16f67>:21: TqdmDeprecationWarning: Please use `tqdm.notebook.trange` instead of `tqdm.tnrange`\n",
            "  pbar = tnrange(int(total_length/1024), unit=\"B\")\n"
          ]
        },
        {
          "output_type": "display_data",
          "data": {
            "text/plain": [
              "  0%|          | 0/12 [00:00<?, ?B/s]"
            ],
            "application/vnd.jupyter.widget-view+json": {
              "version_major": 2,
              "version_minor": 0,
              "model_id": "d7cc92de4ccd4676a8107a624a91bd09"
            }
          },
          "metadata": {}
        },
        {
          "output_type": "execute_result",
          "data": {
            "text/plain": [
              "'D1.2066.gz'"
            ],
            "application/vnd.google.colaboratory.intrinsic+json": {
              "type": "string"
            }
          },
          "metadata": {},
          "execution_count": 6
        }
      ]
    },
    {
      "cell_type": "code",
      "metadata": {
        "id": "xrGNmEHwAKAF"
      },
      "source": [
        "#Gunzip the files we downloaded\n",
        "!gunzip *.gz"
      ],
      "execution_count": 7,
      "outputs": []
    },
    {
      "cell_type": "code",
      "source": [
        "!mv D1.2072 tenx.mtx\n",
        "!mv D1.8969 tenx_obs.csv\n",
        "!mv D1.2066 var.csv"
      ],
      "metadata": {
        "id": "anQLd5Rrj83Q"
      },
      "execution_count": 8,
      "outputs": []
    },
    {
      "cell_type": "markdown",
      "metadata": {
        "id": "PPv4FIlm8rtQ"
      },
      "source": [
        "## **Read in data for analysis**"
      ]
    },
    {
      "cell_type": "markdown",
      "metadata": {
        "id": "bldcPDtroHZ_"
      },
      "source": [
        "**The dataset**\n",
        "\n",
        "This dataset is taken from [Kim et al. 2019](https://www.sciencedirect.com/science/article/pii/S0092867419310712). The goal of this study was to discern the various neuronal cell types present in the mouse ventromedial hypothalamus (VMH), a region whose neurons control/influence social behaviors e.g. mounting and aggression. \n",
        "\n",
        "This dataset comprises neurons from *male and female* mice in different behavioral states, covering *30 distinct neuron populations or cell types*.\n",
        "\n",
        "Here we are analyzing only the 10x sequenced samples.\n",
        "\n",
        "<img src=\"https://ars.els-cdn.com/content/image/1-s2.0-S0092867419310712-fx1_lrg.jpg\" alt=\"AbstractFigure\" width=\"500\" height=\"500\">\n",
        "\n",
        "\n"
      ]
    },
    {
      "cell_type": "markdown",
      "metadata": {
        "id": "2qq9TO5V97Vr"
      },
      "source": [
        "**The Count matrix**\n",
        "\n",
        "This matrix is 41,580 cells by 1,999 genes. We will use the full dataset to fit these models.\n",
        "\n",
        "1.   For each cell, gene counts were normalized to have the same number of total counts (usually 1e5 or 1e6), with cell-gene counts thus scaled accordingly.\n",
        "\n",
        "2.   Counts were then log-normalized, using the log(1+x), where x is each cell's gene count. The 1 accounts for 0 count genes. \n",
        "\n",
        "3. The ~2000 genes were selected for those that displayed large variance in expression amongst the cells ('highly variable genes').\n",
        "\n",
        "\n",
        " \n"
      ]
    },
    {
      "cell_type": "code",
      "metadata": {
        "id": "tZ1h_dME8vJb",
        "colab": {
          "base_uri": "https://localhost:8080/"
        },
        "outputId": "36d82d83-f6ea-4f39-e4f4-3724a329ebc4"
      },
      "source": [
        "#Get gene count matrix\n",
        "count_mat = sio.mmread('tenx.mtx')\n",
        "count_mat.shape"
      ],
      "execution_count": 9,
      "outputs": [
        {
          "output_type": "execute_result",
          "data": {
            "text/plain": [
              "(41580, 1999)"
            ]
          },
          "metadata": {},
          "execution_count": 9
        }
      ]
    },
    {
      "cell_type": "code",
      "metadata": {
        "id": "NFissu8VB92P",
        "colab": {
          "base_uri": "https://localhost:8080/",
          "height": 206
        },
        "outputId": "8d439bec-b645-40eb-bd30-52457734187a"
      },
      "source": [
        "#Get metadata dataframe for the 41,580 cells (rows of the matrix)\n",
        "meta = pd.read_csv('tenx_obs.csv',index_col = 0)\n",
        "meta.head()"
      ],
      "execution_count": 10,
      "outputs": [
        {
          "output_type": "execute_result",
          "data": {
            "text/plain": [
              "         cell_barcode sex_label    cell_type\n",
              "0  4_AAACCTGAGCGCCTCA         F      Nr5a1_4\n",
              "1  4_AAACCTGCACAGTCGC         F  Tsix_Esr1_1\n",
              "2  4_AAACCTGCAGATTGCT         F       Dlk1_3\n",
              "3  4_AAACCTGCATACTCTT         F  Tsix_Esr1_1\n",
              "4  4_AAACCTGGTCCGTTAA         F         Scgn"
            ],
            "text/html": [
              "\n",
              "  <div id=\"df-a0a4110d-cc62-4531-a35a-d63c62c10dfb\">\n",
              "    <div class=\"colab-df-container\">\n",
              "      <div>\n",
              "<style scoped>\n",
              "    .dataframe tbody tr th:only-of-type {\n",
              "        vertical-align: middle;\n",
              "    }\n",
              "\n",
              "    .dataframe tbody tr th {\n",
              "        vertical-align: top;\n",
              "    }\n",
              "\n",
              "    .dataframe thead th {\n",
              "        text-align: right;\n",
              "    }\n",
              "</style>\n",
              "<table border=\"1\" class=\"dataframe\">\n",
              "  <thead>\n",
              "    <tr style=\"text-align: right;\">\n",
              "      <th></th>\n",
              "      <th>cell_barcode</th>\n",
              "      <th>sex_label</th>\n",
              "      <th>cell_type</th>\n",
              "    </tr>\n",
              "  </thead>\n",
              "  <tbody>\n",
              "    <tr>\n",
              "      <th>0</th>\n",
              "      <td>4_AAACCTGAGCGCCTCA</td>\n",
              "      <td>F</td>\n",
              "      <td>Nr5a1_4</td>\n",
              "    </tr>\n",
              "    <tr>\n",
              "      <th>1</th>\n",
              "      <td>4_AAACCTGCACAGTCGC</td>\n",
              "      <td>F</td>\n",
              "      <td>Tsix_Esr1_1</td>\n",
              "    </tr>\n",
              "    <tr>\n",
              "      <th>2</th>\n",
              "      <td>4_AAACCTGCAGATTGCT</td>\n",
              "      <td>F</td>\n",
              "      <td>Dlk1_3</td>\n",
              "    </tr>\n",
              "    <tr>\n",
              "      <th>3</th>\n",
              "      <td>4_AAACCTGCATACTCTT</td>\n",
              "      <td>F</td>\n",
              "      <td>Tsix_Esr1_1</td>\n",
              "    </tr>\n",
              "    <tr>\n",
              "      <th>4</th>\n",
              "      <td>4_AAACCTGGTCCGTTAA</td>\n",
              "      <td>F</td>\n",
              "      <td>Scgn</td>\n",
              "    </tr>\n",
              "  </tbody>\n",
              "</table>\n",
              "</div>\n",
              "      <button class=\"colab-df-convert\" onclick=\"convertToInteractive('df-a0a4110d-cc62-4531-a35a-d63c62c10dfb')\"\n",
              "              title=\"Convert this dataframe to an interactive table.\"\n",
              "              style=\"display:none;\">\n",
              "        \n",
              "  <svg xmlns=\"http://www.w3.org/2000/svg\" height=\"24px\"viewBox=\"0 0 24 24\"\n",
              "       width=\"24px\">\n",
              "    <path d=\"M0 0h24v24H0V0z\" fill=\"none\"/>\n",
              "    <path d=\"M18.56 5.44l.94 2.06.94-2.06 2.06-.94-2.06-.94-.94-2.06-.94 2.06-2.06.94zm-11 1L8.5 8.5l.94-2.06 2.06-.94-2.06-.94L8.5 2.5l-.94 2.06-2.06.94zm10 10l.94 2.06.94-2.06 2.06-.94-2.06-.94-.94-2.06-.94 2.06-2.06.94z\"/><path d=\"M17.41 7.96l-1.37-1.37c-.4-.4-.92-.59-1.43-.59-.52 0-1.04.2-1.43.59L10.3 9.45l-7.72 7.72c-.78.78-.78 2.05 0 2.83L4 21.41c.39.39.9.59 1.41.59.51 0 1.02-.2 1.41-.59l7.78-7.78 2.81-2.81c.8-.78.8-2.07 0-2.86zM5.41 20L4 18.59l7.72-7.72 1.47 1.35L5.41 20z\"/>\n",
              "  </svg>\n",
              "      </button>\n",
              "      \n",
              "  <style>\n",
              "    .colab-df-container {\n",
              "      display:flex;\n",
              "      flex-wrap:wrap;\n",
              "      gap: 12px;\n",
              "    }\n",
              "\n",
              "    .colab-df-convert {\n",
              "      background-color: #E8F0FE;\n",
              "      border: none;\n",
              "      border-radius: 50%;\n",
              "      cursor: pointer;\n",
              "      display: none;\n",
              "      fill: #1967D2;\n",
              "      height: 32px;\n",
              "      padding: 0 0 0 0;\n",
              "      width: 32px;\n",
              "    }\n",
              "\n",
              "    .colab-df-convert:hover {\n",
              "      background-color: #E2EBFA;\n",
              "      box-shadow: 0px 1px 2px rgba(60, 64, 67, 0.3), 0px 1px 3px 1px rgba(60, 64, 67, 0.15);\n",
              "      fill: #174EA6;\n",
              "    }\n",
              "\n",
              "    [theme=dark] .colab-df-convert {\n",
              "      background-color: #3B4455;\n",
              "      fill: #D2E3FC;\n",
              "    }\n",
              "\n",
              "    [theme=dark] .colab-df-convert:hover {\n",
              "      background-color: #434B5C;\n",
              "      box-shadow: 0px 1px 3px 1px rgba(0, 0, 0, 0.15);\n",
              "      filter: drop-shadow(0px 1px 2px rgba(0, 0, 0, 0.3));\n",
              "      fill: #FFFFFF;\n",
              "    }\n",
              "  </style>\n",
              "\n",
              "      <script>\n",
              "        const buttonEl =\n",
              "          document.querySelector('#df-a0a4110d-cc62-4531-a35a-d63c62c10dfb button.colab-df-convert');\n",
              "        buttonEl.style.display =\n",
              "          google.colab.kernel.accessAllowed ? 'block' : 'none';\n",
              "\n",
              "        async function convertToInteractive(key) {\n",
              "          const element = document.querySelector('#df-a0a4110d-cc62-4531-a35a-d63c62c10dfb');\n",
              "          const dataTable =\n",
              "            await google.colab.kernel.invokeFunction('convertToInteractive',\n",
              "                                                     [key], {});\n",
              "          if (!dataTable) return;\n",
              "\n",
              "          const docLinkHtml = 'Like what you see? Visit the ' +\n",
              "            '<a target=\"_blank\" href=https://colab.research.google.com/notebooks/data_table.ipynb>data table notebook</a>'\n",
              "            + ' to learn more about interactive tables.';\n",
              "          element.innerHTML = '';\n",
              "          dataTable['output_type'] = 'display_data';\n",
              "          await google.colab.output.renderOutput(dataTable, element);\n",
              "          const docLink = document.createElement('div');\n",
              "          docLink.innerHTML = docLinkHtml;\n",
              "          element.appendChild(docLink);\n",
              "        }\n",
              "      </script>\n",
              "    </div>\n",
              "  </div>\n",
              "  "
            ]
          },
          "metadata": {},
          "execution_count": 10
        }
      ]
    },
    {
      "cell_type": "code",
      "metadata": {
        "id": "M5je0CyVN4DN",
        "colab": {
          "base_uri": "https://localhost:8080/",
          "height": 206
        },
        "outputId": "c2076149-bd84-4eda-98b2-6fde32e184ca"
      },
      "source": [
        "#Get metadata dataframe for the 1,999 genes (columns of the matrix)\n",
        "\n",
        "meta_gene = pd.read_csv('var.csv',index_col = 0)\n",
        "meta_gene.head()\n"
      ],
      "execution_count": 11,
      "outputs": [
        {
          "output_type": "execute_result",
          "data": {
            "text/plain": [
              "                   gene_name\n",
              "Gm1992                Gm1992\n",
              "Lypla1                Lypla1\n",
              "Npbwr1                Npbwr1\n",
              "Sntg1                  Sntg1\n",
              "1700034P13Rik  1700034P13Rik"
            ],
            "text/html": [
              "\n",
              "  <div id=\"df-cf663b56-c25f-4642-ac0f-d7c26d4aa3b3\">\n",
              "    <div class=\"colab-df-container\">\n",
              "      <div>\n",
              "<style scoped>\n",
              "    .dataframe tbody tr th:only-of-type {\n",
              "        vertical-align: middle;\n",
              "    }\n",
              "\n",
              "    .dataframe tbody tr th {\n",
              "        vertical-align: top;\n",
              "    }\n",
              "\n",
              "    .dataframe thead th {\n",
              "        text-align: right;\n",
              "    }\n",
              "</style>\n",
              "<table border=\"1\" class=\"dataframe\">\n",
              "  <thead>\n",
              "    <tr style=\"text-align: right;\">\n",
              "      <th></th>\n",
              "      <th>gene_name</th>\n",
              "    </tr>\n",
              "  </thead>\n",
              "  <tbody>\n",
              "    <tr>\n",
              "      <th>Gm1992</th>\n",
              "      <td>Gm1992</td>\n",
              "    </tr>\n",
              "    <tr>\n",
              "      <th>Lypla1</th>\n",
              "      <td>Lypla1</td>\n",
              "    </tr>\n",
              "    <tr>\n",
              "      <th>Npbwr1</th>\n",
              "      <td>Npbwr1</td>\n",
              "    </tr>\n",
              "    <tr>\n",
              "      <th>Sntg1</th>\n",
              "      <td>Sntg1</td>\n",
              "    </tr>\n",
              "    <tr>\n",
              "      <th>1700034P13Rik</th>\n",
              "      <td>1700034P13Rik</td>\n",
              "    </tr>\n",
              "  </tbody>\n",
              "</table>\n",
              "</div>\n",
              "      <button class=\"colab-df-convert\" onclick=\"convertToInteractive('df-cf663b56-c25f-4642-ac0f-d7c26d4aa3b3')\"\n",
              "              title=\"Convert this dataframe to an interactive table.\"\n",
              "              style=\"display:none;\">\n",
              "        \n",
              "  <svg xmlns=\"http://www.w3.org/2000/svg\" height=\"24px\"viewBox=\"0 0 24 24\"\n",
              "       width=\"24px\">\n",
              "    <path d=\"M0 0h24v24H0V0z\" fill=\"none\"/>\n",
              "    <path d=\"M18.56 5.44l.94 2.06.94-2.06 2.06-.94-2.06-.94-.94-2.06-.94 2.06-2.06.94zm-11 1L8.5 8.5l.94-2.06 2.06-.94-2.06-.94L8.5 2.5l-.94 2.06-2.06.94zm10 10l.94 2.06.94-2.06 2.06-.94-2.06-.94-.94-2.06-.94 2.06-2.06.94z\"/><path d=\"M17.41 7.96l-1.37-1.37c-.4-.4-.92-.59-1.43-.59-.52 0-1.04.2-1.43.59L10.3 9.45l-7.72 7.72c-.78.78-.78 2.05 0 2.83L4 21.41c.39.39.9.59 1.41.59.51 0 1.02-.2 1.41-.59l7.78-7.78 2.81-2.81c.8-.78.8-2.07 0-2.86zM5.41 20L4 18.59l7.72-7.72 1.47 1.35L5.41 20z\"/>\n",
              "  </svg>\n",
              "      </button>\n",
              "      \n",
              "  <style>\n",
              "    .colab-df-container {\n",
              "      display:flex;\n",
              "      flex-wrap:wrap;\n",
              "      gap: 12px;\n",
              "    }\n",
              "\n",
              "    .colab-df-convert {\n",
              "      background-color: #E8F0FE;\n",
              "      border: none;\n",
              "      border-radius: 50%;\n",
              "      cursor: pointer;\n",
              "      display: none;\n",
              "      fill: #1967D2;\n",
              "      height: 32px;\n",
              "      padding: 0 0 0 0;\n",
              "      width: 32px;\n",
              "    }\n",
              "\n",
              "    .colab-df-convert:hover {\n",
              "      background-color: #E2EBFA;\n",
              "      box-shadow: 0px 1px 2px rgba(60, 64, 67, 0.3), 0px 1px 3px 1px rgba(60, 64, 67, 0.15);\n",
              "      fill: #174EA6;\n",
              "    }\n",
              "\n",
              "    [theme=dark] .colab-df-convert {\n",
              "      background-color: #3B4455;\n",
              "      fill: #D2E3FC;\n",
              "    }\n",
              "\n",
              "    [theme=dark] .colab-df-convert:hover {\n",
              "      background-color: #434B5C;\n",
              "      box-shadow: 0px 1px 3px 1px rgba(0, 0, 0, 0.15);\n",
              "      filter: drop-shadow(0px 1px 2px rgba(0, 0, 0, 0.3));\n",
              "      fill: #FFFFFF;\n",
              "    }\n",
              "  </style>\n",
              "\n",
              "      <script>\n",
              "        const buttonEl =\n",
              "          document.querySelector('#df-cf663b56-c25f-4642-ac0f-d7c26d4aa3b3 button.colab-df-convert');\n",
              "        buttonEl.style.display =\n",
              "          google.colab.kernel.accessAllowed ? 'block' : 'none';\n",
              "\n",
              "        async function convertToInteractive(key) {\n",
              "          const element = document.querySelector('#df-cf663b56-c25f-4642-ac0f-d7c26d4aa3b3');\n",
              "          const dataTable =\n",
              "            await google.colab.kernel.invokeFunction('convertToInteractive',\n",
              "                                                     [key], {});\n",
              "          if (!dataTable) return;\n",
              "\n",
              "          const docLinkHtml = 'Like what you see? Visit the ' +\n",
              "            '<a target=\"_blank\" href=https://colab.research.google.com/notebooks/data_table.ipynb>data table notebook</a>'\n",
              "            + ' to learn more about interactive tables.';\n",
              "          element.innerHTML = '';\n",
              "          dataTable['output_type'] = 'display_data';\n",
              "          await google.colab.output.renderOutput(dataTable, element);\n",
              "          const docLink = document.createElement('div');\n",
              "          docLink.innerHTML = docLinkHtml;\n",
              "          element.appendChild(docLink);\n",
              "        }\n",
              "      </script>\n",
              "    </div>\n",
              "  </div>\n",
              "  "
            ]
          },
          "metadata": {},
          "execution_count": 11
        }
      ]
    },
    {
      "cell_type": "code",
      "metadata": {
        "id": "xzz-5cVyCsS4",
        "colab": {
          "base_uri": "https://localhost:8080/"
        },
        "outputId": "e8b3b97f-4b57-4141-fc8e-148d41fb0c14"
      },
      "source": [
        "#Access the list in each column by meta['name_of_col']\n",
        "cell_types = meta['cell_type']\n",
        "cell_types[0:5]"
      ],
      "execution_count": 12,
      "outputs": [
        {
          "output_type": "execute_result",
          "data": {
            "text/plain": [
              "0        Nr5a1_4\n",
              "1    Tsix_Esr1_1\n",
              "2         Dlk1_3\n",
              "3    Tsix_Esr1_1\n",
              "4           Scgn\n",
              "Name: cell_type, dtype: object"
            ]
          },
          "metadata": {},
          "execution_count": 12
        }
      ]
    },
    {
      "cell_type": "code",
      "metadata": {
        "id": "plqTILR-DdnC",
        "colab": {
          "base_uri": "https://localhost:8080/"
        },
        "outputId": "cdee486f-f59f-49fb-e17c-1f8725cd6b9a"
      },
      "source": [
        "#See all the cell type categories\n",
        "np.unique(meta['cell_type']) #Cell populations are marked by the genes they express (as comparec to other cell populations)"
      ],
      "execution_count": 13,
      "outputs": [
        {
          "output_type": "execute_result",
          "data": {
            "text/plain": [
              "array(['Dlk1_1', 'Dlk1_2', 'Dlk1_3', 'Dlk1_4', 'Dlk1_5', 'Dlk1_6',\n",
              "       'Esr1_1', 'Esr1_2', 'Esr1_3', 'Esr1_4', 'Esr1_5', 'Esr1_6',\n",
              "       'Nr5a1_1', 'Nr5a1_10', 'Nr5a1_2', 'Nr5a1_3', 'Nr5a1_4', 'Nr5a1_5',\n",
              "       'Nr5a1_6', 'Nr5a1_7', 'Nr5a1_8', 'Nr5a1_9', 'Nr5a1_Foxp2_1',\n",
              "       'Nr5a1_Foxp2_2', 'Nup62cl', 'Satb2_1', 'Satb2_2', 'Satb2_3',\n",
              "       'Scgn', 'Tsix_Esr1_1'], dtype=object)"
            ]
          },
          "metadata": {},
          "execution_count": 13
        }
      ]
    },
    {
      "cell_type": "code",
      "metadata": {
        "id": "-kcBQFk_p3bC",
        "colab": {
          "base_uri": "https://localhost:8080/"
        },
        "outputId": "bd106a36-d773-46a4-c1d7-95a416affbe2"
      },
      "source": [
        "#Filter the count matrix for a particular cell type (across all genes)\n",
        "\n",
        "#Remember! Cells are ROWS and Genes are COLUMNS\n",
        "\n",
        "indices = meta['cell_type'].isin(['Tsix_Esr1_1']) #Get indices for where the cell_type is Tsix_Esr1_1 only\n",
        "\n",
        "count_sub = count_mat[indices,:] #Filter rows (cells) of matrix\n",
        "count_sub.shape"
      ],
      "execution_count": 14,
      "outputs": [
        {
          "output_type": "execute_result",
          "data": {
            "text/plain": [
              "(1659, 1999)"
            ]
          },
          "metadata": {},
          "execution_count": 14
        }
      ]
    },
    {
      "cell_type": "code",
      "metadata": {
        "id": "xRCYW1VVErG1",
        "colab": {
          "base_uri": "https://localhost:8080/"
        },
        "outputId": "f676095f-9e04-4d13-fb62-6685fa662db3"
      },
      "source": [
        "#The sexes\n",
        "np.unique(meta['sex_label'])"
      ],
      "execution_count": 15,
      "outputs": [
        {
          "output_type": "execute_result",
          "data": {
            "text/plain": [
              "array(['F', 'M'], dtype=object)"
            ]
          },
          "metadata": {},
          "execution_count": 15
        }
      ]
    },
    {
      "cell_type": "markdown",
      "source": [
        "## **Problem 4 (28 points)**\n",
        "Here we will explore how to use (1) linear regression to model gene count relationships, and investigate the assumptions these models will make.\n",
        "\n",
        "Given the multiple categories of metadata we have for these cells, we will also utilize (2) partial correlations to remove the influence of possibly confounding variables from our calculations of correlation between genes and their expression profiles."
      ],
      "metadata": {
        "id": "vOCNwfTzRn6M"
      }
    },
    {
      "cell_type": "markdown",
      "source": [
        "***Linear Regression***"
      ],
      "metadata": {
        "id": "5CsRl1eaXI91"
      }
    },
    {
      "cell_type": "markdown",
      "source": [
        "How to use linear regression functions from sklearn:\n",
        "https://scikit-learn.org/stable/modules/generated/sklearn.linear_model.LinearRegression.html \n",
        "```\n",
        ">>> import numpy as np\n",
        ">>> from sklearn.linear_model import LinearRegression\n",
        ">>> X = np.array([[1, 1], [1, 2], [2, 2], [2, 3]])\n",
        ">>> # y = 1 * x_0 + 2 * x_1 + 3\n",
        ">>> y = np.dot(X, np.array([1, 2])) + 3\n",
        ">>> reg = LinearRegression().fit(X, y)\n",
        ">>> reg.score(X, y)\n",
        "1.0\n",
        ">>> reg.coef_\n",
        "array([1., 2.])\n",
        ">>> reg.intercept_\n",
        "3.0...\n",
        "```\n",
        "\n"
      ],
      "metadata": {
        "id": "_0S8CxwBQoCO"
      }
    },
    {
      "cell_type": "markdown",
      "source": [
        "### **a) Find x ~ y and y ~ x regression model coefficients for a pair of genes and plot x versus y in each case. ( 4 points)** \n",
        "\n",
        "By regressing y (gene 2) on x (gene 1) written as y ~ x, or vice versa, we are modeling how gene 2's expression changes as a function of gene 1. Specifically, the $\\beta$ parameter from the fit $y = \\alpha + \\beta x$ represents the change in the value of dependent variable (y here) corresponding to unit change in the value of independent variable (x here). \n",
        "\n",
        "**Using the given gene pair (below), report the intercept and coefficient values for each of the two models.**"
      ],
      "metadata": {
        "id": "Rsc39i5zRr0Q"
      }
    },
    {
      "cell_type": "code",
      "source": [
        "#Set genes\n",
        "gene1 = 'Nr4a3' # Steroid-thyroid hormone-retinoid receptor\n",
        "gene2 = 'Gm31363' # Non-coding RNA \n",
        "\n",
        "#Do regression x ~ y and y ~ x\n",
        "#grab the indicies of gene 1 and 2\n",
        "g1_index = meta_gene['gene_name'].tolist().index(gene1)\n",
        "g2_index = meta_gene['gene_name'].tolist().index(gene2)\n",
        "\n",
        "#Now lets grab the values out of the gene expression matrix\n",
        "#which we will use for the regression\n",
        "g1e = count_mat[:,g1_index]\n",
        "g2e = count_mat[:,g2_index]\n",
        "X = np.array([[g1e],[g2e]])\n",
        "#Finally, lets compute our regressions\n",
        "#g1~g2\n",
        "from scipy import stats\n",
        "slope12, intercept12, r, p, std_err = stats.linregress(g1e, g2e)\n",
        "slope21, intercept21, r, p, std_err = stats.linregress(g2e, g1e)\n",
        "\n",
        "#Print coefficients and intercepts\n",
        "print(\"for the gene1~gene2 model, the intercept is\",intercept12,\"and the beta (slope) is\",slope12)\n",
        "print(\"for the gene2~gene1 model, the intercept is\",intercept21,\"and the beta (slope) is\",slope21)"
      ],
      "metadata": {
        "id": "bAaRsWVlwvDV",
        "outputId": "a05d718a-0d84-41aa-9090-0b327e1d3294",
        "colab": {
          "base_uri": "https://localhost:8080/"
        }
      },
      "execution_count": 34,
      "outputs": [
        {
          "output_type": "stream",
          "name": "stdout",
          "text": [
            "for the gene1~gene2 model, the intercept is 0.14618994842969854 and the beta (slope) is 0.44563656227709675\n",
            "for the gene2~gene1 model, the intercept is 0.1346884776752651 and the beta (slope) is 0.4252132836143467\n"
          ]
        }
      ]
    },
    {
      "cell_type": "markdown",
      "source": [
        "### **b) Calculate the $R^2$ and the Pearson correlation coefficient for the gene pair, given each regression model ( 4 points)** \n",
        "\n",
        "The  $R^2$ coefficient of determination is defined as 1 - (sum of squares of the residuals)/(sum of total squares). Here the numerator represents deviation from the model predictions, and the denominator represents the variance of the given dataset (observations). $R^2 = 1 - \\frac{SS_{res}}{SS_{tot}} = 1 - \\frac{\\sum_i (y_i - y_{pred})^2}{\\sum_i (y_i - \\bar{y})^2} $ (where $\\bar{y}$ is the mean). This measures the proportion of the variation in y that is predictable from x.\n"
      ],
      "metadata": {
        "id": "5S1p_kUJSMuH"
      }
    },
    {
      "cell_type": "markdown",
      "source": [
        "Pearson correlation (Pearson's r) is defined as $\\frac{\\sum_i (x_i - \\bar{x})(y_i - \\bar{y})}{\\sqrt{\\sum_i (x_i - \\bar{x})^2\\sum_i (y_i - \\bar{y})^2}}$. This represents the covariance of two variables divided by the product of their standard deviations i.e. a normalized representation of covariance to measure the linear correlation between the variables.\n",
        "\n"
      ],
      "metadata": {
        "id": "RMCHl3ZFR54F"
      }
    },
    {
      "cell_type": "markdown",
      "source": [
        "**Report the $R^2$ for each model and the Pearson correlation calculations (you will only need to calculate one Pearson correlation value). Calculate these values directly using the formulas given. Additionally, print the 'score' for each regression model and check that this matches your $R^2$ calculation.**"
      ],
      "metadata": {
        "id": "bOf45te0TlDj"
      }
    },
    {
      "cell_type": "code",
      "source": [
        "#Report values\n",
        "\n"
      ],
      "metadata": {
        "id": "5orzxAEESLyV"
      },
      "execution_count": 18,
      "outputs": []
    },
    {
      "cell_type": "code",
      "source": [],
      "metadata": {
        "id": "dB_tWBmZSn_S"
      },
      "execution_count": 18,
      "outputs": []
    },
    {
      "cell_type": "markdown",
      "source": [
        "### **c) Show that if the data is mean-centered and scaled, then $r = \\beta$ ($r$ is Pearson's r, and $\\beta$ is the coefficient or slope of the model). ( 4 points)** \n",
        "\n",
        "The slope of the regression line (for y ~ x) can be written as $\\beta = \\frac{\\sum_i (x_i - \\bar{x})(y_i - \\bar{y})}{\\sum_i (x_i - \\bar{x})^2}$ or equivalently $r\\frac{\\sigma_y}{\\sigma_x}$ where $r$ is Pearson's r. $\\sigma$ represents standard deviation. \n",
        "\n",
        "If x and y are standardized, $x_{std} = \\frac{x - \\bar{x}}{\\sigma_x}$ and $y_{std} = \\frac{y - \\bar{y}}{\\sigma_x}$, to have a 0 mean and a standard deviation of 1, the regression fit is $\\hat{y} = \\beta x$ ($\\alpha = 0$) and $\\beta = r$.\n",
        "\n",
        "**Report the Pearson's r value and the $\\beta$ coefficient for the two models after data standardization.**\n"
      ],
      "metadata": {
        "id": "sukY82uxilBX"
      }
    },
    {
      "cell_type": "code",
      "source": [],
      "metadata": {
        "id": "5Voa3tzfrx8z"
      },
      "execution_count": 18,
      "outputs": []
    },
    {
      "cell_type": "code",
      "source": [],
      "metadata": {
        "id": "2XyY68hPryAg"
      },
      "execution_count": 18,
      "outputs": []
    },
    {
      "cell_type": "markdown",
      "source": [
        "### **d) Plot model residuals to check homoscedascity assumption for the gene pair ( 4 points)**\n",
        "\n",
        "OLS (ordinary least squares) assumes that the error term (“noise” in the relationship between the independent and the dependent variable) is the same across all values of the independent variable. If this is true for our dataset, we would expect a random distribution of residuals (deviations from the prediction) about the zero line.\n",
        "\n",
        "**Plot the residuals (predicted - observed) values for each model. The plots will have the residuals on the y-axis versus the independent (input) variable values (x). Report if you think the homoscedascity assumption is met.**"
      ],
      "metadata": {
        "id": "_K5_xbs1Rlfo"
      }
    },
    {
      "cell_type": "code",
      "source": [
        "#Example for uing matplotlib to plot\n",
        "import numpy as np\n",
        "import matplotlib.pyplot as plt \n",
        "\n",
        "xs = np.random.randint(100, size=10)\n",
        "ys = xs*3 + 2\n",
        "plt.scatter(xs,ys)"
      ],
      "metadata": {
        "colab": {
          "base_uri": "https://localhost:8080/",
          "height": 282
        },
        "id": "6klRDuJh7Ipg",
        "outputId": "583c7bae-3c84-4abe-a14f-0f8c20ffd783"
      },
      "execution_count": 19,
      "outputs": [
        {
          "output_type": "execute_result",
          "data": {
            "text/plain": [
              "<matplotlib.collections.PathCollection at 0x7fa62bb35220>"
            ]
          },
          "metadata": {},
          "execution_count": 19
        },
        {
          "output_type": "display_data",
          "data": {
            "text/plain": [
              "<Figure size 432x288 with 1 Axes>"
            ],
            "image/png": "[encoded data removed]"
          },
          "metadata": {
            "needs_background": "light"
          }
        }
      ]
    },
    {
      "cell_type": "code",
      "source": [
        "#Plot residuals for the predicted y's (for both models) and describe if you believe the assumption holds\n",
        "\n",
        "\n"
      ],
      "metadata": {
        "id": "Gk9wztnr6Bh1"
      },
      "execution_count": 20,
      "outputs": []
    },
    {
      "cell_type": "markdown",
      "source": [
        "--- Your comments here ---"
      ],
      "metadata": {
        "id": "A2vF36K4-OmD"
      }
    },
    {
      "cell_type": "markdown",
      "source": [
        "***Partial Correlations***"
      ],
      "metadata": {
        "id": "5baFDcEWXdz5"
      }
    },
    {
      "cell_type": "markdown",
      "source": [
        "Partial correlation is a measure of association between two variables, after controlling for the effect of a third random variable. As a general example, one may want to measure correlation between age and memory performance, but may want to remove the effect of education level from this correlation.\n",
        "\n",
        "Partial correlation can be framed as correlation of the residuals from two regression problems: (1) X ~ Z and (2) Y ~ Z. The partial correlation between X and Y is then the pearson correlation of the residuals of (1) and (2).\n",
        "\n",
        "Below we will go through the steps of calculating the partial correlation for the gene pair in parts a-d."
      ],
      "metadata": {
        "id": "Dc2eAWytRfO-"
      }
    },
    {
      "cell_type": "markdown",
      "source": [
        "### **e) Find linear regression fits of each gene's expression profile (for the gene pair in a-d) against the sex of cells. Report the coefficient and intercept for each model. ( 4 points)**\n",
        "\n",
        "Fit linear regression models of (1) gene 1 expression against sex (binary 0 or 1 for Male or Female) and (2) gene 2 expression against sex (binary 0 or 1 for Male or Female). This is done across all cells (the count matrix with both sexes and all cell types). Convert the 'M' and 'F' to binary values, (0 or 1), for the regression models.\n"
      ],
      "metadata": {
        "id": "QTrI3Q8YThtj"
      }
    },
    {
      "cell_type": "code",
      "source": [
        "#Set up regression models\n",
        "\n",
        "\n",
        "#Print coefficients and intercepts\n"
      ],
      "metadata": {
        "id": "TF6Q3qD99ydp"
      },
      "execution_count": 21,
      "outputs": []
    },
    {
      "cell_type": "markdown",
      "source": [
        "### **f) Report the residuals from each regression fit ( 4 points)**\n",
        "Residuals are defined as predicted - observed values, for each model.\n",
        "\n",
        "**Report the first 5 residual values for each model.**"
      ],
      "metadata": {
        "id": "XTjolzJ1UoR2"
      }
    },
    {
      "cell_type": "code",
      "source": [
        "#Get residuals\n"
      ],
      "metadata": {
        "id": "FgwkxqywUtJG"
      },
      "execution_count": 22,
      "outputs": []
    },
    {
      "cell_type": "markdown",
      "source": [
        "### **g) Now find and report the partial correlation between the genes in pair. This is the Pearson correlation coefficient, as defined in b, between the residuals. ( 4 points)**"
      ],
      "metadata": {
        "id": "T3gBo2a3Ut07"
      }
    },
    {
      "cell_type": "code",
      "source": [
        "#Get correlation\n"
      ],
      "metadata": {
        "id": "bhN_g33uU06j"
      },
      "execution_count": 23,
      "outputs": []
    },
    {
      "cell_type": "code",
      "source": [],
      "metadata": {
        "id": "g0mj0r7NdGXD"
      },
      "execution_count": 23,
      "outputs": []
    }
  ]
}