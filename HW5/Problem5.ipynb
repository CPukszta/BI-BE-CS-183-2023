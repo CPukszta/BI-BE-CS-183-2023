{
  "nbformat": 4,
  "nbformat_minor": 0,
  "metadata": {
    "colab": {
      "provenance": [],
      "include_colab_link": true
    },
    "kernelspec": {
      "name": "python3",
      "display_name": "Python 3"
    },
    "language_info": {
      "name": "python"
    },
    "widgets": {
      "application/vnd.jupyter.widget-state+json": {
        "d36f169e530f4607a04344c879eee7b4": {
          "model_module": "@jupyter-widgets/controls",
          "model_name": "HBoxModel",
          "model_module_version": "1.5.0",
          "state": {
            "_dom_classes": [],
            "_model_module": "@jupyter-widgets/controls",
            "_model_module_version": "1.5.0",
            "_model_name": "HBoxModel",
            "_view_count": null,
            "_view_module": "@jupyter-widgets/controls",
            "_view_module_version": "1.5.0",
            "_view_name": "HBoxView",
            "box_style": "",
            "children": [
              "IPY_MODEL_9cb62a5e15b14ba5bdfda0272d4c3fc7",
              "IPY_MODEL_2a6e453cc53a454b92c9b7c17ef17ec4",
              "IPY_MODEL_04b2e54ca1ac4d1aab2ddb0b162276a3"
            ],
            "layout": "IPY_MODEL_150948eef4084ad9984dd1a2518d77b5"
          }
        },
        "9cb62a5e15b14ba5bdfda0272d4c3fc7": {
          "model_module": "@jupyter-widgets/controls",
          "model_name": "HTMLModel",
          "model_module_version": "1.5.0",
          "state": {
            "_dom_classes": [],
            "_model_module": "@jupyter-widgets/controls",
            "_model_module_version": "1.5.0",
            "_model_name": "HTMLModel",
            "_view_count": null,
            "_view_module": "@jupyter-widgets/controls",
            "_view_module_version": "1.5.0",
            "_view_name": "HTMLView",
            "description": "",
            "description_tooltip": null,
            "layout": "IPY_MODEL_bd6054654b134bb1a350c98006f982f1",
            "placeholder": "​",
            "style": "IPY_MODEL_0e5ba50c0378455881af915ceee82e38",
            "value": ""
          }
        },
        "2a6e453cc53a454b92c9b7c17ef17ec4": {
          "model_module": "@jupyter-widgets/controls",
          "model_name": "FloatProgressModel",
          "model_module_version": "1.5.0",
          "state": {
            "_dom_classes": [],
            "_model_module": "@jupyter-widgets/controls",
            "_model_module_version": "1.5.0",
            "_model_name": "FloatProgressModel",
            "_view_count": null,
            "_view_module": "@jupyter-widgets/controls",
            "_view_module_version": "1.5.0",
            "_view_name": "ProgressView",
            "bar_style": "",
            "description": "",
            "description_tooltip": null,
            "layout": "IPY_MODEL_9e615ffea26a48b3be29443b7f5a9e88",
            "max": 19383,
            "min": 0,
            "orientation": "horizontal",
            "style": "IPY_MODEL_8c8fe4b2dc0f4ed2a920c58b74fb8e48",
            "value": 19383
          }
        },
        "04b2e54ca1ac4d1aab2ddb0b162276a3": {
          "model_module": "@jupyter-widgets/controls",
          "model_name": "HTMLModel",
          "model_module_version": "1.5.0",
          "state": {
            "_dom_classes": [],
            "_model_module": "@jupyter-widgets/controls",
            "_model_module_version": "1.5.0",
            "_model_name": "HTMLModel",
            "_view_count": null,
            "_view_module": "@jupyter-widgets/controls",
            "_view_module_version": "1.5.0",
            "_view_name": "HTMLView",
            "description": "",
            "description_tooltip": null,
            "layout": "IPY_MODEL_ae440643368e477b8aeae26e7536a981",
            "placeholder": "​",
            "style": "IPY_MODEL_7f2d6d9ea22d42589457c008d09ee165",
            "value": " 19384/? [00:20&lt;00:00, 20691.93B/s]"
          }
        },
        "150948eef4084ad9984dd1a2518d77b5": {
          "model_module": "@jupyter-widgets/base",
          "model_name": "LayoutModel",
          "model_module_version": "1.2.0",
          "state": {
            "_model_module": "@jupyter-widgets/base",
            "_model_module_version": "1.2.0",
            "_model_name": "LayoutModel",
            "_view_count": null,
            "_view_module": "@jupyter-widgets/base",
            "_view_module_version": "1.2.0",
            "_view_name": "LayoutView",
            "align_content": null,
            "align_items": null,
            "align_self": null,
            "border": null,
            "bottom": null,
            "display": null,
            "flex": null,
            "flex_flow": null,
            "grid_area": null,
            "grid_auto_columns": null,
            "grid_auto_flow": null,
            "grid_auto_rows": null,
            "grid_column": null,
            "grid_gap": null,
            "grid_row": null,
            "grid_template_areas": null,
            "grid_template_columns": null,
            "grid_template_rows": null,
            "height": null,
            "justify_content": null,
            "justify_items": null,
            "left": null,
            "margin": null,
            "max_height": null,
            "max_width": null,
            "min_height": null,
            "min_width": null,
            "object_fit": null,
            "object_position": null,
            "order": null,
            "overflow": null,
            "overflow_x": null,
            "overflow_y": null,
            "padding": null,
            "right": null,
            "top": null,
            "visibility": null,
            "width": null
          }
        },
        "bd6054654b134bb1a350c98006f982f1": {
          "model_module": "@jupyter-widgets/base",
          "model_name": "LayoutModel",
          "model_module_version": "1.2.0",
          "state": {
            "_model_module": "@jupyter-widgets/base",
            "_model_module_version": "1.2.0",
            "_model_name": "LayoutModel",
            "_view_count": null,
            "_view_module": "@jupyter-widgets/base",
            "_view_module_version": "1.2.0",
            "_view_name": "LayoutView",
            "align_content": null,
            "align_items": null,
            "align_self": null,
            "border": null,
            "bottom": null,
            "display": null,
            "flex": null,
            "flex_flow": null,
            "grid_area": null,
            "grid_auto_columns": null,
            "grid_auto_flow": null,
            "grid_auto_rows": null,
            "grid_column": null,
            "grid_gap": null,
            "grid_row": null,
            "grid_template_areas": null,
            "grid_template_columns": null,
            "grid_template_rows": null,
            "height": null,
            "justify_content": null,
            "justify_items": null,
            "left": null,
            "margin": null,
            "max_height": null,
            "max_width": null,
            "min_height": null,
            "min_width": null,
            "object_fit": null,
            "object_position": null,
            "order": null,
            "overflow": null,
            "overflow_x": null,
            "overflow_y": null,
            "padding": null,
            "right": null,
            "top": null,
            "visibility": null,
            "width": null
          }
        },
        "0e5ba50c0378455881af915ceee82e38": {
          "model_module": "@jupyter-widgets/controls",
          "model_name": "DescriptionStyleModel",
          "model_module_version": "1.5.0",
          "state": {
            "_model_module": "@jupyter-widgets/controls",
            "_model_module_version": "1.5.0",
            "_model_name": "DescriptionStyleModel",
            "_view_count": null,
            "_view_module": "@jupyter-widgets/base",
            "_view_module_version": "1.2.0",
            "_view_name": "StyleView",
            "description_width": ""
          }
        },
        "9e615ffea26a48b3be29443b7f5a9e88": {
          "model_module": "@jupyter-widgets/base",
          "model_name": "LayoutModel",
          "model_module_version": "1.2.0",
          "state": {
            "_model_module": "@jupyter-widgets/base",
            "_model_module_version": "1.2.0",
            "_model_name": "LayoutModel",
            "_view_count": null,
            "_view_module": "@jupyter-widgets/base",
            "_view_module_version": "1.2.0",
            "_view_name": "LayoutView",
            "align_content": null,
            "align_items": null,
            "align_self": null,
            "border": null,
            "bottom": null,
            "display": null,
            "flex": null,
            "flex_flow": null,
            "grid_area": null,
            "grid_auto_columns": null,
            "grid_auto_flow": null,
            "grid_auto_rows": null,
            "grid_column": null,
            "grid_gap": null,
            "grid_row": null,
            "grid_template_areas": null,
            "grid_template_columns": null,
            "grid_template_rows": null,
            "height": null,
            "justify_content": null,
            "justify_items": null,
            "left": null,
            "margin": null,
            "max_height": null,
            "max_width": null,
            "min_height": null,
            "min_width": null,
            "object_fit": null,
            "object_position": null,
            "order": null,
            "overflow": null,
            "overflow_x": null,
            "overflow_y": null,
            "padding": null,
            "right": null,
            "top": null,
            "visibility": null,
            "width": null
          }
        },
        "8c8fe4b2dc0f4ed2a920c58b74fb8e48": {
          "model_module": "@jupyter-widgets/controls",
          "model_name": "ProgressStyleModel",
          "model_module_version": "1.5.0",
          "state": {
            "_model_module": "@jupyter-widgets/controls",
            "_model_module_version": "1.5.0",
            "_model_name": "ProgressStyleModel",
            "_view_count": null,
            "_view_module": "@jupyter-widgets/base",
            "_view_module_version": "1.2.0",
            "_view_name": "StyleView",
            "bar_color": null,
            "description_width": ""
          }
        },
        "ae440643368e477b8aeae26e7536a981": {
          "model_module": "@jupyter-widgets/base",
          "model_name": "LayoutModel",
          "model_module_version": "1.2.0",
          "state": {
            "_model_module": "@jupyter-widgets/base",
            "_model_module_version": "1.2.0",
            "_model_name": "LayoutModel",
            "_view_count": null,
            "_view_module": "@jupyter-widgets/base",
            "_view_module_version": "1.2.0",
            "_view_name": "LayoutView",
            "align_content": null,
            "align_items": null,
            "align_self": null,
            "border": null,
            "bottom": null,
            "display": null,
            "flex": null,
            "flex_flow": null,
            "grid_area": null,
            "grid_auto_columns": null,
            "grid_auto_flow": null,
            "grid_auto_rows": null,
            "grid_column": null,
            "grid_gap": null,
            "grid_row": null,
            "grid_template_areas": null,
            "grid_template_columns": null,
            "grid_template_rows": null,
            "height": null,
            "justify_content": null,
            "justify_items": null,
            "left": null,
            "margin": null,
            "max_height": null,
            "max_width": null,
            "min_height": null,
            "min_width": null,
            "object_fit": null,
            "object_position": null,
            "order": null,
            "overflow": null,
            "overflow_x": null,
            "overflow_y": null,
            "padding": null,
            "right": null,
            "top": null,
            "visibility": null,
            "width": null
          }
        },
        "7f2d6d9ea22d42589457c008d09ee165": {
          "model_module": "@jupyter-widgets/controls",
          "model_name": "DescriptionStyleModel",
          "model_module_version": "1.5.0",
          "state": {
            "_model_module": "@jupyter-widgets/controls",
            "_model_module_version": "1.5.0",
            "_model_name": "DescriptionStyleModel",
            "_view_count": null,
            "_view_module": "@jupyter-widgets/base",
            "_view_module_version": "1.2.0",
            "_view_name": "StyleView",
            "description_width": ""
          }
        }
      }
    }
  },
  "cells": [
    {
      "cell_type": "markdown",
      "metadata": {
        "id": "view-in-github",
        "colab_type": "text"
      },
      "source": [
        "<a href=\"https://colab.research.google.com/github/CPukszta/BI-BE-CS-183-2023/blob/main/HW5/Problem5.ipynb\" target=\"_parent\"><img src=\"https://colab.research.google.com/assets/colab-badge.svg\" alt=\"Open In Colab\"/></a>"
      ]
    },
    {
      "cell_type": "markdown",
      "source": [
        "Bi/Be/Cs 183 2022-2023: Intro to Computational Biology\n",
        "TAs: Meichen Fang, Tara Chari, Zitong (Jerry) Wang\n",
        "\n",
        "**Submit your notebooks by sharing a clickable link with Viewer access. Link must be accessible from submitted assignment document.**\n",
        "\n",
        "Make sure Runtime $\\rightarrow$ Restart and run all works without error"
      ],
      "metadata": {
        "id": "JPUswnzT0EZG"
      }
    },
    {
      "cell_type": "markdown",
      "source": [
        "**HW 5 (Midterm) Problem 5**\n",
        "\n",
        "For this problem you will be exploring various models which can be used to describe count data i.e. the gene-count matrices we use in single-cell.\n",
        "\n",
        "Single-cell gene counts, which describe stochastically sampled, discrete measurements of UMI counts, are often modeled as being generated from a negative binomial (or Gamma-Poisson) distribution. However, there is a common assumption that droplet-based methods for single-cell RNA seq incur an overabundance of zeros (more zero counts) than would be predicted by random sampling. Thus it is also common to see single-cell data modeled with zero-inflated negative binomials (the ZINB distribution, with an extra parameter for the probability of zero counts).\n",
        "\n",
        "You will explore how these assumptions and models fit to real datasets."
      ],
      "metadata": {
        "id": "VthQpDn4tt96"
      }
    },
    {
      "cell_type": "code",
      "metadata": {
        "id": "_tty4AYi77ys"
      },
      "source": [
        "#To run a code cell, select the cell and hit Command/Ctrl+Enter or click the run/play symbol\n",
        "#Click Insert --> Code Cell or the '+ Code' option to insert a new code cell"
      ],
      "execution_count": null,
      "outputs": []
    },
    {
      "cell_type": "code",
      "metadata": {
        "id": "BAjFr_0y8Sxb"
      },
      "source": [
        "#Click Insert --> Text Cell or the '+ Text' option to insert a cell for text as below"
      ],
      "execution_count": null,
      "outputs": []
    },
    {
      "cell_type": "code",
      "source": [
        "# This is  used to time the running of the notebook\n",
        "import time\n",
        "start_time = time.time()"
      ],
      "metadata": {
        "id": "Nj7fi7kx05Mu"
      },
      "execution_count": null,
      "outputs": []
    },
    {
      "cell_type": "markdown",
      "metadata": {
        "id": "MozW3XxY8ezr"
      },
      "source": [
        "Text here for descriptions, explanations, etc"
      ]
    },
    {
      "cell_type": "markdown",
      "metadata": {
        "id": "5oPRpu328neb"
      },
      "source": [
        "##**Import data and install packages**"
      ]
    },
    {
      "cell_type": "code",
      "source": [
        "!pip --quiet install anndata"
      ],
      "metadata": {
        "id": "VFXhrQPZ1DxC",
        "outputId": "cf93b506-857f-42e1-90bc-3e5dad507202",
        "colab": {
          "base_uri": "https://localhost:8080/"
        }
      },
      "execution_count": null,
      "outputs": [
        {
          "output_type": "stream",
          "name": "stdout",
          "text": [
            "\u001b[?25l     \u001b[90m━━━━━━━━━━━━━━━━━━━━━━━━━━━━━━━━━━━━━━━━\u001b[0m \u001b[32m0.0/96.1 KB\u001b[0m \u001b[31m?\u001b[0m eta \u001b[36m-:--:--\u001b[0m\r\u001b[2K     \u001b[91m━━━━━━━━━━━━━━━━━━━━━━━━━━━━━━━━━━━━━━\u001b[0m\u001b[90m╺\u001b[0m\u001b[90m━\u001b[0m \u001b[32m92.2/96.1 KB\u001b[0m \u001b[31m5.5 MB/s\u001b[0m eta \u001b[36m0:00:01\u001b[0m\r\u001b[2K     \u001b[90m━━━━━━━━━━━━━━━━━━━━━━━━━━━━━━━━━━━━━━━━\u001b[0m \u001b[32m96.1/96.1 KB\u001b[0m \u001b[31m2.3 MB/s\u001b[0m eta \u001b[36m0:00:00\u001b[0m\n",
            "\u001b[?25h"
          ]
        }
      ]
    },
    {
      "cell_type": "code",
      "metadata": {
        "id": "vYTZEjs9AqwV"
      },
      "source": [
        "import numpy as np\n",
        "import scipy.io as sio\n",
        "import pandas as pd\n",
        "import matplotlib.pyplot as plt #Can use other plotting packages like seaborn\n",
        "\n",
        "import anndata\n",
        "\n",
        "from scipy import optimize\n",
        "from scipy.special import gammaln\n",
        "from scipy.special import psi\n",
        "from scipy.special import factorial\n",
        "from scipy.optimize import fmin_l_bfgs_b as optim"
      ],
      "execution_count": null,
      "outputs": []
    },
    {
      "cell_type": "code",
      "metadata": {
        "id": "kNFuUFJ78cN5"
      },
      "source": [
        "# ! allows you to run commands in the command line, as you would in your normal terminal/command line interface"
      ],
      "execution_count": null,
      "outputs": []
    },
    {
      "cell_type": "code",
      "metadata": {
        "id": "yH-EpSmB9Y_x",
        "colab": {
          "base_uri": "https://localhost:8080/",
          "height": 103,
          "referenced_widgets": [
            "d36f169e530f4607a04344c879eee7b4",
            "9cb62a5e15b14ba5bdfda0272d4c3fc7",
            "2a6e453cc53a454b92c9b7c17ef17ec4",
            "04b2e54ca1ac4d1aab2ddb0b162276a3",
            "150948eef4084ad9984dd1a2518d77b5",
            "bd6054654b134bb1a350c98006f982f1",
            "0e5ba50c0378455881af915ceee82e38",
            "9e615ffea26a48b3be29443b7f5a9e88",
            "8c8fe4b2dc0f4ed2a920c58b74fb8e48",
            "ae440643368e477b8aeae26e7536a981",
            "7f2d6d9ea22d42589457c008d09ee165"
          ]
        },
        "outputId": "f33150bd-8449-4cb9-91dc-e4e63ae67316"
      },
      "source": [
        "# Download control sample from indrops platform\n",
        "# File format is h5ad\n",
        "\n",
        "import requests\n",
        "from tqdm import tnrange, tqdm_notebook\n",
        "def download_file(doi,ext):\n",
        "    url = 'https://api.datacite.org/dois/'+doi+'/media'\n",
        "    r = requests.get(url).json()\n",
        "    netcdf_url = r['data'][0]['attributes']['url']\n",
        "    r = requests.get(netcdf_url,stream=True)\n",
        "    #Set file name\n",
        "    fname = doi.split('/')[-1]+ext\n",
        "    #Download file with progress bar\n",
        "    if r.status_code == 403:\n",
        "        print(\"File Unavailable\")\n",
        "    if 'content-length' not in r.headers:\n",
        "        print(\"Did not get file\")\n",
        "    else:\n",
        "        with open(fname, 'wb') as f:\n",
        "            total_length = int(r.headers.get('content-length'))\n",
        "            pbar = tnrange(int(total_length/1024), unit=\"B\")\n",
        "            for chunk in r.iter_content(chunk_size=1024):\n",
        "                if chunk:\n",
        "                    pbar.update()\n",
        "                    f.write(chunk)\n",
        "        return fname\n",
        "\n",
        "download_file('10.22002/xsret-sb590','.gz')\n"
      ],
      "execution_count": null,
      "outputs": [
        {
          "output_type": "stream",
          "name": "stderr",
          "text": [
            "<ipython-input-5-7f798eea865f>:21: TqdmDeprecationWarning: Please use `tqdm.notebook.trange` instead of `tqdm.tnrange`\n",
            "  pbar = tnrange(int(total_length/1024), unit=\"B\")\n"
          ]
        },
        {
          "output_type": "display_data",
          "data": {
            "text/plain": [
              "  0%|          | 0/19383 [00:00<?, ?B/s]"
            ],
            "application/vnd.jupyter.widget-view+json": {
              "version_major": 2,
              "version_minor": 0,
              "model_id": "d36f169e530f4607a04344c879eee7b4"
            }
          },
          "metadata": {}
        },
        {
          "output_type": "execute_result",
          "data": {
            "text/plain": [
              "'xsret-sb590.gz'"
            ],
            "application/vnd.google.colaboratory.intrinsic+json": {
              "type": "string"
            }
          },
          "metadata": {},
          "execution_count": 5
        }
      ]
    },
    {
      "cell_type": "code",
      "source": [
        "!gunzip *.gz\n",
        "!mv xsret-sb590 Klein.h5ad\n"
      ],
      "metadata": {
        "id": "ZOplDaexqXx-"
      },
      "execution_count": null,
      "outputs": []
    },
    {
      "cell_type": "code",
      "metadata": {
        "id": "lBDp8sjR_fsQ"
      },
      "source": [
        "indrops = anndata.read('Klein.h5ad')"
      ],
      "execution_count": null,
      "outputs": []
    },
    {
      "cell_type": "code",
      "metadata": {
        "id": "khusZj08PuxC",
        "colab": {
          "base_uri": "https://localhost:8080/"
        },
        "outputId": "15934f6b-0789-4c46-918e-5642abc94579"
      },
      "source": [
        "indrops"
      ],
      "execution_count": null,
      "outputs": [
        {
          "output_type": "execute_result",
          "data": {
            "text/plain": [
              "AnnData object with n_obs × n_vars = 953 × 25435\n",
              "    obs: 'total_counts'\n",
              "    var: 'empirical_mean', 'empirical_variance', 'empirical_zero_fraction', 'ml_mean', 'genewise_dispersion', 'global_zero_fraction', 'genewise_zero_fraction', 'scaled_count_mean', 'poisson_zero_fraction'\n",
              "    uns: 'global_dispersion', 'name'"
            ]
          },
          "metadata": {},
          "execution_count": 8
        }
      ]
    },
    {
      "cell_type": "markdown",
      "source": [
        "Use the function below for b). \n"
      ],
      "metadata": {
        "id": "nbz7Qx0Rmk2z"
      }
    },
    {
      "cell_type": "code",
      "metadata": {
        "id": "xrGNmEHwAKAF"
      },
      "source": [
        "# X = numpy array of the data (e.g. 1D array with all the counts for one gene)\n",
        "# initial params is a numpy array representing the initial values of\n",
        "# size and prob parameters\n",
        "# Returns: Dict with 'r' and 'p' fits\n",
        "def fit_nbinom(X, initial_params=None):\n",
        "    ''' This code is adapted from https://github.com/gokceneraslan/fit_nbinom\n",
        "    '''\n",
        "    infinitesimal = np.finfo(np.float).eps\n",
        "\n",
        "    def log_likelihood(params, *args):\n",
        "        r, p = params\n",
        "        X = args[0]\n",
        "        N = X.size\n",
        "\n",
        "        # MLE estimate based on the formula on Wikipedia:\n",
        "        # http://en.wikipedia.org/wiki/Negative_binomial_distribution#Maximum_likelihood_estimation\n",
        "        result = np.sum(gammaln(X + r)) \\\n",
        "            - np.sum(np.log(factorial(X))) \\\n",
        "            - N * (gammaln(r)) \\\n",
        "            + N * r * np.log(p) \\\n",
        "            + np.sum(X * np.log(1 - (p if p < 1 else 1 - infinitesimal)))\n",
        "\n",
        "        return -result\n",
        "\n",
        "    if initial_params is None:\n",
        "        # reasonable initial values (from fitdistr function in R)\n",
        "        m = np.mean(X)\n",
        "        v = np.var(X)\n",
        "        size = (m ** 2) / (v-m) if v > m else 10\n",
        "\n",
        "        # convert mu/size parameterization to prob/size\n",
        "        p0 = size / ((size + m) if size + m != 0 else 1)\n",
        "        r0 = size\n",
        "        initial_params = np.array([r0, p0])\n",
        "\n",
        "    bounds = [(infinitesimal, None), (infinitesimal, 1)]\n",
        "    optimres = optim(log_likelihood,\n",
        "                     x0=initial_params,\n",
        "                     args=(X,),\n",
        "                     approx_grad=1,\n",
        "                     bounds=bounds)\n",
        "\n",
        "    params = optimres[0]\n",
        "    return {'r': params[0], 'p': params[1]}"
      ],
      "execution_count": null,
      "outputs": []
    },
    {
      "cell_type": "markdown",
      "metadata": {
        "id": "PPv4FIlm8rtQ"
      },
      "source": [
        "## **Read in data for analysis**"
      ]
    },
    {
      "cell_type": "markdown",
      "metadata": {
        "id": "bldcPDtroHZ_"
      },
      "source": [
        "**The dataset**\n",
        "\n",
        "Following an analysis perfomed in [Svensson et al. 2020](https://www.nature.com/articles/s41587-019-0379-5)  we will be analyzing negative control data made by the indrops platform. This negative control was made by adding RNA directly to fluid of microfluidic devices, so that each droplet generated has identical RNA content. Thus we can get a more rigorous sense of the zero counts of genes per droplet (and by proxy per cell) by this single-cell technology. This also allows for analysis of whether zero counts of genes are due to technical limitations or biological variation in cells."
      ]
    },
    {
      "cell_type": "markdown",
      "metadata": {
        "id": "2qq9TO5V97Vr"
      },
      "source": [
        "**The Count matrix**\n",
        "\n",
        "This matrix is 953 droplets by 25,435 genes, from [Klein et al. 2015](https://www.sciencedirect.com/science/article/pii/S0092867415005000?via%3Dihub). Total RNA (to mimic the amount of RNA in a cell, per droplet) and RNA samples at known concentrations are spiked-in to the microfluidic fluid, encapsulated by each droplet.\n",
        "\n",
        "<center><img src=\"https://drive.google.com/uc?export=view&id=1mem7kVfkkIw0RmF8uc6ez7Flz1MEL8-t\" alt=\"EMFigure\" width=\"300\" height=\"300\"><center>\n",
        "\n",
        " \n"
      ]
    },
    {
      "cell_type": "code",
      "metadata": {
        "id": "tZ1h_dME8vJb",
        "colab": {
          "base_uri": "https://localhost:8080/"
        },
        "outputId": "ef4c2eec-9102-4fb6-9a20-5c12940efa11"
      },
      "source": [
        "#Get gene count matrix\n",
        "X = indrops.X.todense()\n",
        "X.shape"
      ],
      "execution_count": null,
      "outputs": [
        {
          "output_type": "execute_result",
          "data": {
            "text/plain": [
              "(953, 25435)"
            ]
          },
          "metadata": {},
          "execution_count": 10
        }
      ]
    },
    {
      "cell_type": "markdown",
      "metadata": {
        "id": "gPKnb4VNEJE9"
      },
      "source": [
        "## **Problem 5 (40 points)** \n",
        "\n",
        "The Poisson distribution expresses the probability of some $x$ number of events occurring in a fixed interval of time/space, with these events occuring at a known constant mean rate $\\lambda$ (and independently of time since the last event).\n",
        "\n",
        "The Poisson model is\n",
        "\\begin{align}\n",
        "f(x; \\lambda)= \\Pr(X{=}x)= \\frac{\\lambda^x e^{-\\lambda}}{x!}.\n",
        "\\end{align}"
      ]
    },
    {
      "cell_type": "markdown",
      "source": [
        "The negative binomial (NB) distribution describes the probability of seeing $x$ failures until some $r$ successes have occurred, with $p$ denoting the probability of success. 'Successes' can be thought of read counts here i.e the event that a read is a count for a given gene.\n",
        "\n",
        "The NB model ($\\text{NB}\n",
        "(r,p)$) is\n",
        "\\begin{align}\n",
        "f(x;r,p)\\equiv \\Pr(X=x)={\\binom {x+r-1}{r-1}}(1-p)^{x}p^{r}\n",
        "\\end{align}\n",
        "\n",
        "The Poisson distribution can be written as special case of the NB where $ \\operatorname {Poisson} (\\lambda )=\\lim _{r\\to \\infty }\\operatorname {NB} \\left(r,{\\frac {\\lambda }{r+\\lambda }}\\right)$, with $p ={\\frac {\\lambda }{r+\\lambda }}$.\n"
      ],
      "metadata": {
        "id": "vpkRGRf1WRzx"
      }
    },
    {
      "cell_type": "markdown",
      "source": [
        "Note: We can also denote $r,p$ as $\\mu,\\phi$ where $\\mu$ represent the mean and $\\phi$ represents the dispersion parameter. Here $p = \\dfrac{r}{r + \\mu}$ and $r = \\dfrac{1}{\\phi}$.\n",
        "This convention is also common in the single-cell literature."
      ],
      "metadata": {
        "id": "Gj9moHV9WR3f"
      }
    },
    {
      "cell_type": "markdown",
      "source": [
        "### **a) Plot mean versus variance of expression for all genes (across all cells) and comment on what trends you notice between the two (e.g. overdispersion etc). (5 points)**"
      ],
      "metadata": {
        "id": "wwu93eEd8ZhZ"
      }
    },
    {
      "cell_type": "code",
      "source": [],
      "metadata": {
        "id": "QlxWeEZg8aQX"
      },
      "execution_count": null,
      "outputs": []
    },
    {
      "cell_type": "code",
      "source": [],
      "metadata": {
        "id": "GUQeR6hh8aSk"
      },
      "execution_count": null,
      "outputs": []
    },
    {
      "cell_type": "markdown",
      "source": [
        "### **b) Fit Poisson and NB models for the first 100 genes. (10 points)**\n",
        "\n",
        "Fit and save the parameters for these two models for the first 100 genes $g$.\n",
        "\n",
        "For the Poisson models we can use the MLE estimate for $\\lambda$ which is $\\dfrac{1}{n}\\sum_{i=1}^n x_{i,g}$.\n",
        "\n",
        "For the NB $r \\text{ and } p$ cannot (concurrently) be derived analytically. You can use the **fit_nbinom(X)** function defined above to obtain $r \\text{ and } p$ fits for each gene.\n",
        "\n",
        "**Report the parameter fits for the first 10 genes.**"
      ],
      "metadata": {
        "id": "vCOnx5fu8ZnW"
      }
    },
    {
      "cell_type": "code",
      "source": [],
      "metadata": {
        "id": "RMgtJ9Lz8atZ"
      },
      "execution_count": null,
      "outputs": []
    },
    {
      "cell_type": "code",
      "source": [],
      "metadata": {
        "id": "qeWIc6uQ8awK"
      },
      "execution_count": null,
      "outputs": []
    },
    {
      "cell_type": "markdown",
      "source": [
        "### **c) Perform a likelihood ratio test, and calculate the resulting p-value, between these two models (for a single gene), and comment on the implications of these outputs.**\n",
        "\n",
        "We will be testing whether the added parameters of the NB improve the fit of the model to the data versus the Poisson model (which is a nested version of the NB), or not (if both models are equal i.e. $H_0$). Thus the test is  \n",
        "\\begin{align}\n",
        "H_0 : r = ∞ \\\\\n",
        "H_1: r < ∞.\n",
        "\\end{align}\n",
        "\n",
        "For some gene $g$ we can calculate the log-likelihood for both models given parameter fits, and take the ratio of those likelihoods (which is the difference between the log-likelihoods).\n",
        "\n",
        "\n"
      ],
      "metadata": {
        "id": "N8T-gW8E8Zsn"
      }
    },
    {
      "cell_type": "markdown",
      "source": [
        "The log-likelihood ratio value $2log(\\dfrac{L_{NB}}{L_{Poisson}})$ (denoted `ratio' in the text) asymptotically approaches the chi-squared $χ^2$ distribution (in this case for a degree of freedom (df) of 1, the difference in the dfs of the models) if the null hypothesis ($H_0$) is true. Thus the cdf of the $χ^2$ distribution can be used to calculate a p-value given this ratio term (using [stats.chi2.cdf](https://docs.scipy.org/doc/scipy/reference/generated/scipy.stats.chi2.html)). \n",
        "\n",
        "A cdf() function evaluated as some value $x$ (i.e. cdf($x$)) is the probability that variable $X$ will be $\\leq$ the value $x$. A p-value is 1-cdf($x$), or the probability of observing a value as or more extreme than the one observed ($x$).\n",
        "\n",
        "**1 - cdf(ratio) will produce the p-value, where cdf() is the $χ^2$ cumulative distribution function.**"
      ],
      "metadata": {
        "id": "ZsghHZExaVF_"
      }
    },
    {
      "cell_type": "markdown",
      "source": [
        "For the NB model the likelihood (for gene $g$) is:\n",
        "\\begin{align}\n",
        "L^{(g)}(r,p)=\\prod _{i=1}^{N}f(x_{i,g};r,p)\n",
        "\\end{align}\n",
        "\n",
        "And the log-likelihood:\n",
        "\\begin{align}\n",
        "\\ell^{(g)} (r,p)=\\sum _{i=1}^{N}\\ln(\\Gamma (x_{i,g}+r))-\\sum _{i=1}^{N}\\ln(x_{i,g}!)-N\\ln(\\Gamma (r))+\\sum _{i=1}^{N}x_{i,g}\\ln(1-p)+Nr\\ln(p).\n",
        "\\end{align} where $ln(\\Gamma)$ can be calculated with [gammaln](https://docs.scipy.org/doc/scipy/reference/generated/scipy.special.gammaln.html).\n"
      ],
      "metadata": {
        "id": "qf4WzVTpRVZk"
      }
    },
    {
      "cell_type": "markdown",
      "source": [
        "For the Poisson model the likelihood (for gene $g$) is:\n",
        "\\begin{align}\n",
        "L^{(g)}(\\lambda ) =\\prod _{i=1}^{n}f(x_{i,g}\\mid \\lambda ).\n",
        "\\end{align}\n",
        "\n",
        "And the log-likelihood:\n",
        "\\begin{align}\n",
        "\\ell^{(g)} (\\lambda )= -n\\lambda +\\left(\\sum _{i=1}^{n}x_{i,g}\\right)\\ln(\\lambda )-\\sum _{i=1}^{n}\\ln(x_{i,g}!).\n",
        "\\end{align}\n"
      ],
      "metadata": {
        "id": "qLaTnfssRVeA"
      }
    },
    {
      "cell_type": "markdown",
      "source": [
        "**Explicitly calculate and report the log-likelihood ratio for the *seventh gene only (python index 6)*. Additionally report the p-value for this ratio (using the chi-squared cdf) and comment on what this value means in terms of the null and the alternative hypothesis.**\n",
        "\n",
        "Note: It is common practice to treat p-values less than .05 as significant (we can reject the null hypothesis). This cutoff is the likelihood of rejecting the null when it’s actually true i.e. how much error you are willing to tolerate."
      ],
      "metadata": {
        "id": "nOnOivN2o4nZ"
      }
    },
    {
      "cell_type": "code",
      "source": [],
      "metadata": {
        "id": "JhjlP4dJ8bRQ"
      },
      "execution_count": null,
      "outputs": []
    },
    {
      "cell_type": "code",
      "source": [],
      "metadata": {
        "id": "F8EoAcks8bTw"
      },
      "execution_count": null,
      "outputs": []
    },
    {
      "cell_type": "markdown",
      "source": [
        "### **d) Derive the expression for the probability of zero counts (given an NB model), and calculate the expected zero-fraction (zero probability) for the first 100 genes. (10 points)**\n",
        "\n",
        "Show that $P(0|\\mu,\\phi) = (\\dfrac{\\phi^{-1}}{\\mu+\\phi^{-1}})^{\\phi^{-1}} $ (with P representing the NB distribution). Use the definitions of $\\mu,\\phi$ given in the main Problem 5 description. Then calculate these probabilities (i.e. zero-fractions) for the first 100 genes."
      ],
      "metadata": {
        "id": "HU89bwjg8Zxo"
      }
    },
    {
      "cell_type": "markdown",
      "source": [
        "**In the code cell or in an uploaded image show your work to derive $P(0|\\mu,\\phi)$. Then report the zero-fractions for the first 10 genes.**"
      ],
      "metadata": {
        "id": "gV85pqapTKi4"
      }
    },
    {
      "cell_type": "code",
      "source": [],
      "metadata": {
        "id": "JczLk8QP8buu"
      },
      "execution_count": null,
      "outputs": []
    },
    {
      "cell_type": "code",
      "source": [],
      "metadata": {
        "id": "DcUEx4pH8byY"
      },
      "execution_count": null,
      "outputs": []
    },
    {
      "cell_type": "markdown",
      "source": [
        "### **e) Generate a residual plot of the (Observed - Expected) zero-fractions versus mean expression per gene, and qualitatively comment on how similar or different the predicted values are. (5 points)**\n",
        "\n",
        "Compare the probabilities in d) to the actual fraction of droplets with zero counts per gene (the observed zero-fractions).\n",
        "\n",
        "\n",
        "**Generate the residual plot with all 100 genes.**"
      ],
      "metadata": {
        "id": "1H5AWqFu84b9"
      }
    },
    {
      "cell_type": "code",
      "source": [],
      "metadata": {
        "id": "AEji1KWs9ADL"
      },
      "execution_count": null,
      "outputs": []
    }
  ]
}