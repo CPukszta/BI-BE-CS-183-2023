{
  "nbformat": 4,
  "nbformat_minor": 0,
  "metadata": {
    "colab": {
      "name": "Problem2.ipynb",
      "provenance": [],
      "include_colab_link": true
    },
    "kernelspec": {
      "name": "python3",
      "display_name": "Python 3"
    },
    "language_info": {
      "name": "python"
    }
  },
  "cells": [
    {
      "cell_type": "markdown",
      "metadata": {
        "id": "view-in-github",
        "colab_type": "text"
      },
      "source": [
        "<a href=\"https://colab.research.google.com/github/CPukszta/BI-BE-CS-183-2023/blob/main/HW1/Problem2.ipynb\" target=\"_parent\"><img src=\"https://colab.research.google.com/assets/colab-badge.svg\" alt=\"Open In Colab\"/></a>"
      ]
    },
    {
      "cell_type": "code",
      "source": [
        "# This is  used to time the running of the notebook\n",
        "import time\n",
        "start_time = time.time()"
      ],
      "metadata": {
        "id": "aRNLZMXg2vzS"
      },
      "execution_count": 7,
      "outputs": []
    },
    {
      "cell_type": "code",
      "metadata": {
        "id": "qy_Is21USn3O"
      },
      "source": [
        "#import packages\n",
        "import numpy as np"
      ],
      "execution_count": 8,
      "outputs": []
    },
    {
      "cell_type": "code",
      "source": [
        "#gene expression matrix\n",
        "G = np.array([[1,2,3,3],[3,1,9,4],[1,4,3,5]])"
      ],
      "metadata": {
        "id": "_t4GCkrVQtEH"
      },
      "execution_count": 9,
      "outputs": []
    },
    {
      "cell_type": "code",
      "source": [
        "def C(x,y):\n",
        "  num = np.sum(x*y)\n",
        "  denom = np.sqrt(np.sum(x**2))*np.sqrt(np.sum(y**2))\n",
        "  L = num/denom\n",
        "  return L"
      ],
      "metadata": {
        "id": "-VmcDaUeQb2g"
      },
      "execution_count": 10,
      "outputs": []
    },
    {
      "cell_type": "code",
      "source": [
        "print(C(G[0,:],G[1,:]))\n",
        "print(C(G[0,:],G[2,:]))\n",
        "print(C(G[1,:],G[2,:]))\n",
        "\n",
        "print(C(G[1,:],G[1,:]))"
      ],
      "metadata": {
        "id": "Xui110RBQcVt",
        "outputId": "5cf7bb41-05c2-4e84-9bd6-7fbf5fab1013",
        "colab": {
          "base_uri": "https://localhost:8080/"
        }
      },
      "execution_count": 11,
      "outputs": [
        {
          "output_type": "stream",
          "name": "stdout",
          "text": [
            "0.886945367268181\n",
            "0.9635293180817432\n",
            "0.7309990001414547\n",
            "0.9999999999999999\n"
          ]
        }
      ]
    },
    {
      "cell_type": "code",
      "metadata": {
        "id": "mrIBjeB1SzTs"
      },
      "source": [
        "#gene expression matrix\n",
        "G = np.array([[1,2,3,3],[3,1,9,4],[1,4,3,5]])"
      ],
      "execution_count": 12,
      "outputs": []
    },
    {
      "cell_type": "code",
      "metadata": {
        "id": "WnUa5E-DS81y",
        "colab": {
          "base_uri": "https://localhost:8080/"
        },
        "outputId": "ac13d2ad-052b-49fc-ef05-1b4eb9517594"
      },
      "source": [
        "# Running time of the notebook\n",
        "print(\"{:.2f} minutes\".format((time.time()-start_time)/60))"
      ],
      "execution_count": 13,
      "outputs": [
        {
          "output_type": "stream",
          "name": "stdout",
          "text": [
            "0.01 minutes\n"
          ]
        }
      ]
    }
  ]
}