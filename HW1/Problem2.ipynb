{
  "nbformat": 4,
  "nbformat_minor": 0,
  "metadata": {
    "colab": {
      "name": "Problem2.ipynb",
      "provenance": []
    },
    "kernelspec": {
      "name": "python3",
      "display_name": "Python 3"
    },
    "language_info": {
      "name": "python"
    }
  },
  "cells": [
    {
      "cell_type": "code",
      "source": [
        "# This is  used to time the running of the notebook\n",
        "import time\n",
        "start_time = time.time()"
      ],
      "metadata": {
        "id": "aRNLZMXg2vzS"
      },
      "execution_count": 1,
      "outputs": []
    },
    {
      "cell_type": "code",
      "metadata": {
        "id": "qy_Is21USn3O"
      },
      "source": [
        "#import packages\n",
        "import numpy as np"
      ],
      "execution_count": 2,
      "outputs": []
    },
    {
      "cell_type": "code",
      "metadata": {
        "id": "mrIBjeB1SzTs"
      },
      "source": [
        "#gene expression matrix\n",
        "G = np.array([[1,2,3,3],[3,1,9,4],[1,4,3,5]])"
      ],
      "execution_count": 3,
      "outputs": []
    },
    {
      "cell_type": "markdown",
      "source": [
        "L1 calculations"
      ],
      "metadata": {
        "id": "kT_gd7nbitvV"
      }
    },
    {
      "cell_type": "code",
      "source": [
        "def L1(x,y):\n",
        "  num = np.sum(x*y)\n",
        "  denom = np.sqrt(np.sum(x**2))*np.sqrt(np.sum(y**2))\n",
        "  L = num/denom\n",
        "  return L"
      ],
      "metadata": {
        "id": "7DHgf8pTitKD"
      },
      "execution_count": 21,
      "outputs": []
    },
    {
      "cell_type": "code",
      "source": [
        "print(L1(G[0,:],G[1,:]))\n",
        "print(L1(G[0,:],G[2,:]))\n",
        "print(L1(G[1,:],G[2,:]))"
      ],
      "metadata": {
        "id": "n4ZoJueHjuY6",
        "outputId": "826ee35a-c385-4435-b608-6a0696c17fde",
        "colab": {
          "base_uri": "https://localhost:8080/"
        }
      },
      "execution_count": 22,
      "outputs": [
        {
          "output_type": "stream",
          "name": "stdout",
          "text": [
            "0.886945367268181\n",
            "0.9635293180817432\n",
            "0.7309990001414547\n"
          ]
        }
      ]
    },
    {
      "cell_type": "code",
      "source": [
        "np.sqrt(np.sum((G[0,:]-G[1,:])**2))"
      ],
      "metadata": {
        "id": "ZbU68bUhlJBh",
        "outputId": "7bea02db-94f9-413a-fb4c-bb7fd151f73b",
        "colab": {
          "base_uri": "https://localhost:8080/"
        }
      },
      "execution_count": 18,
      "outputs": [
        {
          "output_type": "execute_result",
          "data": {
            "text/plain": [
              "6.48074069840786"
            ]
          },
          "metadata": {},
          "execution_count": 18
        }
      ]
    },
    {
      "cell_type": "code",
      "metadata": {
        "id": "WnUa5E-DS81y",
        "colab": {
          "base_uri": "https://localhost:8080/"
        },
        "outputId": "e43f8dfc-193d-44ba-f771-50f8270424e5"
      },
      "source": [
        "# Running time of the notebook\n",
        "print(\"{:.2f} minutes\".format((time.time()-start_time)/60))"
      ],
      "execution_count": null,
      "outputs": [
        {
          "output_type": "stream",
          "name": "stdout",
          "text": [
            "0.00 minutes\n"
          ]
        }
      ]
    }
  ]
}