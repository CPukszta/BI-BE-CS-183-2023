{
  "nbformat": 4,
  "nbformat_minor": 0,
  "metadata": {
    "colab": {
      "provenance": [],
      "include_colab_link": true
    },
    "kernelspec": {
      "name": "python3",
      "display_name": "Python 3"
    },
    "language_info": {
      "name": "python"
    },
    "widgets": {
      "application/vnd.jupyter.widget-state+json": {
        "333479297d03494c8b349389330695db": {
          "model_module": "@jupyter-widgets/controls",
          "model_name": "HBoxModel",
          "model_module_version": "1.5.0",
          "state": {
            "_dom_classes": [],
            "_model_module": "@jupyter-widgets/controls",
            "_model_module_version": "1.5.0",
            "_model_name": "HBoxModel",
            "_view_count": null,
            "_view_module": "@jupyter-widgets/controls",
            "_view_module_version": "1.5.0",
            "_view_name": "HBoxView",
            "box_style": "",
            "children": [
              "IPY_MODEL_95b6091e7bc849b6b09b1f5b616edaa1",
              "IPY_MODEL_3f49d87abe204f75983add1b6e87c479",
              "IPY_MODEL_3a44351f896d41a1936b516d804ccf30"
            ],
            "layout": "IPY_MODEL_33c0ac4f5cce47eaad4c99865a549ce2"
          }
        },
        "95b6091e7bc849b6b09b1f5b616edaa1": {
          "model_module": "@jupyter-widgets/controls",
          "model_name": "HTMLModel",
          "model_module_version": "1.5.0",
          "state": {
            "_dom_classes": [],
            "_model_module": "@jupyter-widgets/controls",
            "_model_module_version": "1.5.0",
            "_model_name": "HTMLModel",
            "_view_count": null,
            "_view_module": "@jupyter-widgets/controls",
            "_view_module_version": "1.5.0",
            "_view_name": "HTMLView",
            "description": "",
            "description_tooltip": null,
            "layout": "IPY_MODEL_df1258430c014c85acf969e0a7ec44fd",
            "placeholder": "​",
            "style": "IPY_MODEL_de1ea6ab2a4e47feb755650e6754a1f9",
            "value": ""
          }
        },
        "3f49d87abe204f75983add1b6e87c479": {
          "model_module": "@jupyter-widgets/controls",
          "model_name": "FloatProgressModel",
          "model_module_version": "1.5.0",
          "state": {
            "_dom_classes": [],
            "_model_module": "@jupyter-widgets/controls",
            "_model_module_version": "1.5.0",
            "_model_name": "FloatProgressModel",
            "_view_count": null,
            "_view_module": "@jupyter-widgets/controls",
            "_view_module_version": "1.5.0",
            "_view_name": "ProgressView",
            "bar_style": "success",
            "description": "",
            "description_tooltip": null,
            "layout": "IPY_MODEL_f414c05e597e41ac91e1725b1f188a7f",
            "max": 94578,
            "min": 0,
            "orientation": "horizontal",
            "style": "IPY_MODEL_ce94d8e5ac514f588a89fb39850ef633",
            "value": 94578
          }
        },
        "3a44351f896d41a1936b516d804ccf30": {
          "model_module": "@jupyter-widgets/controls",
          "model_name": "HTMLModel",
          "model_module_version": "1.5.0",
          "state": {
            "_dom_classes": [],
            "_model_module": "@jupyter-widgets/controls",
            "_model_module_version": "1.5.0",
            "_model_name": "HTMLModel",
            "_view_count": null,
            "_view_module": "@jupyter-widgets/controls",
            "_view_module_version": "1.5.0",
            "_view_name": "HTMLView",
            "description": "",
            "description_tooltip": null,
            "layout": "IPY_MODEL_fdd66bd8fd154621a561b562cd83e3fe",
            "placeholder": "​",
            "style": "IPY_MODEL_a788a2832b7a4c7fb2004c360ea99d2b",
            "value": " 94579/? [09:45&lt;00:00, 14125.34B/s]"
          }
        },
        "33c0ac4f5cce47eaad4c99865a549ce2": {
          "model_module": "@jupyter-widgets/base",
          "model_name": "LayoutModel",
          "model_module_version": "1.2.0",
          "state": {
            "_model_module": "@jupyter-widgets/base",
            "_model_module_version": "1.2.0",
            "_model_name": "LayoutModel",
            "_view_count": null,
            "_view_module": "@jupyter-widgets/base",
            "_view_module_version": "1.2.0",
            "_view_name": "LayoutView",
            "align_content": null,
            "align_items": null,
            "align_self": null,
            "border": null,
            "bottom": null,
            "display": null,
            "flex": null,
            "flex_flow": null,
            "grid_area": null,
            "grid_auto_columns": null,
            "grid_auto_flow": null,
            "grid_auto_rows": null,
            "grid_column": null,
            "grid_gap": null,
            "grid_row": null,
            "grid_template_areas": null,
            "grid_template_columns": null,
            "grid_template_rows": null,
            "height": null,
            "justify_content": null,
            "justify_items": null,
            "left": null,
            "margin": null,
            "max_height": null,
            "max_width": null,
            "min_height": null,
            "min_width": null,
            "object_fit": null,
            "object_position": null,
            "order": null,
            "overflow": null,
            "overflow_x": null,
            "overflow_y": null,
            "padding": null,
            "right": null,
            "top": null,
            "visibility": null,
            "width": null
          }
        },
        "df1258430c014c85acf969e0a7ec44fd": {
          "model_module": "@jupyter-widgets/base",
          "model_name": "LayoutModel",
          "model_module_version": "1.2.0",
          "state": {
            "_model_module": "@jupyter-widgets/base",
            "_model_module_version": "1.2.0",
            "_model_name": "LayoutModel",
            "_view_count": null,
            "_view_module": "@jupyter-widgets/base",
            "_view_module_version": "1.2.0",
            "_view_name": "LayoutView",
            "align_content": null,
            "align_items": null,
            "align_self": null,
            "border": null,
            "bottom": null,
            "display": null,
            "flex": null,
            "flex_flow": null,
            "grid_area": null,
            "grid_auto_columns": null,
            "grid_auto_flow": null,
            "grid_auto_rows": null,
            "grid_column": null,
            "grid_gap": null,
            "grid_row": null,
            "grid_template_areas": null,
            "grid_template_columns": null,
            "grid_template_rows": null,
            "height": null,
            "justify_content": null,
            "justify_items": null,
            "left": null,
            "margin": null,
            "max_height": null,
            "max_width": null,
            "min_height": null,
            "min_width": null,
            "object_fit": null,
            "object_position": null,
            "order": null,
            "overflow": null,
            "overflow_x": null,
            "overflow_y": null,
            "padding": null,
            "right": null,
            "top": null,
            "visibility": null,
            "width": null
          }
        },
        "de1ea6ab2a4e47feb755650e6754a1f9": {
          "model_module": "@jupyter-widgets/controls",
          "model_name": "DescriptionStyleModel",
          "model_module_version": "1.5.0",
          "state": {
            "_model_module": "@jupyter-widgets/controls",
            "_model_module_version": "1.5.0",
            "_model_name": "DescriptionStyleModel",
            "_view_count": null,
            "_view_module": "@jupyter-widgets/base",
            "_view_module_version": "1.2.0",
            "_view_name": "StyleView",
            "description_width": ""
          }
        },
        "f414c05e597e41ac91e1725b1f188a7f": {
          "model_module": "@jupyter-widgets/base",
          "model_name": "LayoutModel",
          "model_module_version": "1.2.0",
          "state": {
            "_model_module": "@jupyter-widgets/base",
            "_model_module_version": "1.2.0",
            "_model_name": "LayoutModel",
            "_view_count": null,
            "_view_module": "@jupyter-widgets/base",
            "_view_module_version": "1.2.0",
            "_view_name": "LayoutView",
            "align_content": null,
            "align_items": null,
            "align_self": null,
            "border": null,
            "bottom": null,
            "display": null,
            "flex": null,
            "flex_flow": null,
            "grid_area": null,
            "grid_auto_columns": null,
            "grid_auto_flow": null,
            "grid_auto_rows": null,
            "grid_column": null,
            "grid_gap": null,
            "grid_row": null,
            "grid_template_areas": null,
            "grid_template_columns": null,
            "grid_template_rows": null,
            "height": null,
            "justify_content": null,
            "justify_items": null,
            "left": null,
            "margin": null,
            "max_height": null,
            "max_width": null,
            "min_height": null,
            "min_width": null,
            "object_fit": null,
            "object_position": null,
            "order": null,
            "overflow": null,
            "overflow_x": null,
            "overflow_y": null,
            "padding": null,
            "right": null,
            "top": null,
            "visibility": null,
            "width": null
          }
        },
        "ce94d8e5ac514f588a89fb39850ef633": {
          "model_module": "@jupyter-widgets/controls",
          "model_name": "ProgressStyleModel",
          "model_module_version": "1.5.0",
          "state": {
            "_model_module": "@jupyter-widgets/controls",
            "_model_module_version": "1.5.0",
            "_model_name": "ProgressStyleModel",
            "_view_count": null,
            "_view_module": "@jupyter-widgets/base",
            "_view_module_version": "1.2.0",
            "_view_name": "StyleView",
            "bar_color": null,
            "description_width": ""
          }
        },
        "fdd66bd8fd154621a561b562cd83e3fe": {
          "model_module": "@jupyter-widgets/base",
          "model_name": "LayoutModel",
          "model_module_version": "1.2.0",
          "state": {
            "_model_module": "@jupyter-widgets/base",
            "_model_module_version": "1.2.0",
            "_model_name": "LayoutModel",
            "_view_count": null,
            "_view_module": "@jupyter-widgets/base",
            "_view_module_version": "1.2.0",
            "_view_name": "LayoutView",
            "align_content": null,
            "align_items": null,
            "align_self": null,
            "border": null,
            "bottom": null,
            "display": null,
            "flex": null,
            "flex_flow": null,
            "grid_area": null,
            "grid_auto_columns": null,
            "grid_auto_flow": null,
            "grid_auto_rows": null,
            "grid_column": null,
            "grid_gap": null,
            "grid_row": null,
            "grid_template_areas": null,
            "grid_template_columns": null,
            "grid_template_rows": null,
            "height": null,
            "justify_content": null,
            "justify_items": null,
            "left": null,
            "margin": null,
            "max_height": null,
            "max_width": null,
            "min_height": null,
            "min_width": null,
            "object_fit": null,
            "object_position": null,
            "order": null,
            "overflow": null,
            "overflow_x": null,
            "overflow_y": null,
            "padding": null,
            "right": null,
            "top": null,
            "visibility": null,
            "width": null
          }
        },
        "a788a2832b7a4c7fb2004c360ea99d2b": {
          "model_module": "@jupyter-widgets/controls",
          "model_name": "DescriptionStyleModel",
          "model_module_version": "1.5.0",
          "state": {
            "_model_module": "@jupyter-widgets/controls",
            "_model_module_version": "1.5.0",
            "_model_name": "DescriptionStyleModel",
            "_view_count": null,
            "_view_module": "@jupyter-widgets/base",
            "_view_module_version": "1.2.0",
            "_view_name": "StyleView",
            "description_width": ""
          }
        }
      }
    }
  },
  "cells": [
    {
      "cell_type": "markdown",
      "metadata": {
        "id": "view-in-github",
        "colab_type": "text"
      },
      "source": [
        "<a href=\"https://colab.research.google.com/github/CPukszta/BI-BE-CS-183-2023/blob/main/HW4/Problem3.ipynb\" target=\"_parent\"><img src=\"https://colab.research.google.com/assets/colab-badge.svg\" alt=\"Open In Colab\"/></a>"
      ]
    },
    {
      "cell_type": "markdown",
      "metadata": {
        "id": "MozW3XxY8ezr"
      },
      "source": [
        "Bi/Be/Cs 183 2022-2023: Intro to Computational Biology\n",
        "TAs: Meichen Fang, Tara Chari, Zitong (Jerry) Wang\n",
        "\n",
        "**Submit your notebooks by sharing a clickable link with Viewer access. Link must be accessible from submitted assignment document.**\n",
        "\n",
        "Make sure Runtime $\\rightarrow$ Restart and run all works without error"
      ]
    },
    {
      "cell_type": "markdown",
      "source": [
        "**HW 4 Problem 3**\n",
        "\n",
        "In this problem you will develop code for running the EM algorithm to fit a Gaussian Mixture Model (GMM). You will learn the mixture weights for a set of (multivariate) Gaussian distributions, which describe the input, single-cell data. This is a common approach to determine clusters within a dataset.\n"
      ],
      "metadata": {
        "id": "Mu4obGyqS8fh"
      }
    },
    {
      "cell_type": "markdown",
      "source": [
        "##**Import data and install packages**"
      ],
      "metadata": {
        "id": "fJ8J92ntz2rk"
      }
    },
    {
      "cell_type": "code",
      "execution_count": 1,
      "metadata": {
        "id": "rjy8W5hly24q"
      },
      "outputs": [],
      "source": [
        "import numpy as np\n",
        "import scipy.io as sio\n",
        "import pandas as pd\n",
        "import matplotlib.pyplot as plt #Can use other plotting packages like seaborn\n",
        "\n",
        "import bokeh.io\n",
        "import bokeh.plotting\n",
        "\n",
        "bokeh.io.output_notebook()"
      ]
    },
    {
      "cell_type": "code",
      "metadata": {
        "id": "yH-EpSmB9Y_x",
        "colab": {
          "base_uri": "https://localhost:8080/",
          "height": 102,
          "referenced_widgets": [
            "333479297d03494c8b349389330695db",
            "95b6091e7bc849b6b09b1f5b616edaa1",
            "3f49d87abe204f75983add1b6e87c479",
            "3a44351f896d41a1936b516d804ccf30",
            "33c0ac4f5cce47eaad4c99865a549ce2",
            "df1258430c014c85acf969e0a7ec44fd",
            "de1ea6ab2a4e47feb755650e6754a1f9",
            "f414c05e597e41ac91e1725b1f188a7f",
            "ce94d8e5ac514f588a89fb39850ef633",
            "fdd66bd8fd154621a561b562cd83e3fe",
            "a788a2832b7a4c7fb2004c360ea99d2b"
          ]
        },
        "outputId": "e10230ec-383c-445b-8431-9796e1bd472b"
      },
      "source": [
        "#Download count matrix of cell by gene counts and metadata files, DOI: 10.22002/D1.2315\n",
        "#tar.gz file which has:\n",
        "#(1) count matrix \n",
        "#(2) metadata for cells (cell type, date of experimental run) \n",
        "#(3) metadata for genes (gene names)\n",
        "\n",
        "import requests\n",
        "from tqdm import tnrange, tqdm_notebook\n",
        "def download_file(doi,ext):\n",
        "    url = 'https://api.datacite.org/dois/'+doi+'/media'\n",
        "    r = requests.get(url).json()\n",
        "    netcdf_url = r['data'][0]['attributes']['url']\n",
        "    r = requests.get(netcdf_url,stream=True)\n",
        "    #Set file name\n",
        "    fname = doi.split('/')[-1]+ext\n",
        "    #Download file with progress bar\n",
        "    if r.status_code == 403:\n",
        "        print(\"File Unavailable\")\n",
        "    if 'content-length' not in r.headers:\n",
        "        print(\"Did not get file\")\n",
        "    else:\n",
        "        with open(fname, 'wb') as f:\n",
        "            total_length = int(r.headers.get('content-length'))\n",
        "            pbar = tnrange(int(total_length/1024), unit=\"B\")\n",
        "            for chunk in r.iter_content(chunk_size=1024):\n",
        "                if chunk:\n",
        "                    pbar.update()\n",
        "                    f.write(chunk)\n",
        "        return fname\n",
        "\n",
        "download_file('10.22002/D1.2315','.gz')\n"
      ],
      "execution_count": 2,
      "outputs": [
        {
          "output_type": "stream",
          "name": "stderr",
          "text": [
            "<ipython-input-2-6c7d4cfd6c14>:24: TqdmDeprecationWarning: Please use `tqdm.notebook.trange` instead of `tqdm.tnrange`\n",
            "  pbar = tnrange(int(total_length/1024), unit=\"B\")\n"
          ]
        },
        {
          "output_type": "display_data",
          "data": {
            "text/plain": [
              "  0%|          | 0/94578 [00:00<?, ?B/s]"
            ],
            "application/vnd.jupyter.widget-view+json": {
              "version_major": 2,
              "version_minor": 0,
              "model_id": "333479297d03494c8b349389330695db"
            }
          },
          "metadata": {}
        },
        {
          "output_type": "execute_result",
          "data": {
            "text/plain": [
              "'D1.2315.gz'"
            ],
            "application/vnd.google.colaboratory.intrinsic+json": {
              "type": "string"
            }
          },
          "metadata": {},
          "execution_count": 2
        }
      ]
    },
    {
      "cell_type": "code",
      "source": [
        "!mv D1.2315.gz biccn.tar.gz\n",
        "!tar -xvf biccn.tar.gz"
      ],
      "metadata": {
        "id": "0nQzPlDyndlY",
        "outputId": "ce008903-d323-4081-bbd5-4e81b193a944",
        "colab": {
          "base_uri": "https://localhost:8080/",
          "height": 69
        }
      },
      "execution_count": 3,
      "outputs": [
        {
          "output_type": "stream",
          "name": "stdout",
          "text": [
            "biccnGeneMeta.csv\n",
            "biccnMeta.csv\n",
            "biccn.mtx\n"
          ]
        }
      ]
    },
    {
      "cell_type": "markdown",
      "source": [
        "## **Read in data for analysis**"
      ],
      "metadata": {
        "id": "PpeuucqgiDPx"
      }
    },
    {
      "cell_type": "markdown",
      "source": [
        "**The dataset**"
      ],
      "metadata": {
        "id": "swY2nSDukmXg"
      }
    },
    {
      "cell_type": "markdown",
      "source": [
        "This dataset maps the cells in the mouse primary cortex (MOp), including neuronal and non-neuronal cell types, for a total of 10 cell types ([Yao et al., 2021](https://www.nature.com/articles/s41586-021-03500-8)). We will be dealing with the 10x sequenced data only.\n"
      ],
      "metadata": {
        "id": "NKSN3bu8cQ3O"
      }
    },
    {
      "cell_type": "markdown",
      "source": [
        "**The count matrix**\n",
        "\n",
        "This matrix is 18,744 cells by 5,000 genes. The full dataset contains 71,365 cells, however we will work with a randomly subsetted version to facilitate calculations within the Colab environment.\n",
        "\n",
        "1.   For each cell, gene counts were normalized to have the same number of total counts (usually 1e5 or 1e6), with cell-gene counts thus scaled accordingly.\n",
        "\n",
        "2.   Counts were then log-normalized, using the log(1+x), where x is each cell's gene count. The 1 accounts for 0 count genes. \n",
        "\n",
        "3. The ~5000 genes were selected for those that displayed large variance in expression amongst the cells ('highly variable genes').\n",
        "\n"
      ],
      "metadata": {
        "id": "58nQkH9eko4-"
      }
    },
    {
      "cell_type": "code",
      "metadata": {
        "id": "tZ1h_dME8vJb",
        "colab": {
          "base_uri": "https://localhost:8080/"
        },
        "outputId": "5bb9479a-a401-4b3e-cf2f-4d8811f4e069"
      },
      "source": [
        "#Get gene count matrix\n",
        "count_mat = sio.mmread('biccn.mtx')\n",
        "\n",
        "count_mat = count_mat.todense() #Make dense since most functions we'll use don't work with sparse matrices\n",
        "count_mat.shape"
      ],
      "execution_count": 15,
      "outputs": [
        {
          "output_type": "execute_result",
          "data": {
            "text/plain": [
              "(18744, 5000)"
            ]
          },
          "metadata": {},
          "execution_count": 15
        }
      ]
    },
    {
      "cell_type": "code",
      "metadata": {
        "id": "NFissu8VB92P",
        "colab": {
          "base_uri": "https://localhost:8080/",
          "height": 238
        },
        "outputId": "7af2128b-6cfa-4087-a64f-09c8449c7ee8"
      },
      "source": [
        "#Get metadata dataframe for the 18,744 cells (rows of the matrix)\n",
        "meta = pd.read_csv('biccnMeta.csv',index_col = 0)\n",
        "meta.head()"
      ],
      "execution_count": 5,
      "outputs": [
        {
          "output_type": "execute_result",
          "data": {
            "text/plain": [
              "                                         cell_type\n",
              "barcode                                           \n",
              "AAACGAAGTGGATTTC-3L8TX_181211_01_A01       L2/3 IT\n",
              "AAACGCTCAATGCTCA-3L8TX_181211_01_A01       L2/3 IT\n",
              "AAAGTCCGTGTATCCA-3L8TX_181211_01_A01  L6 CT Cpa6_1\n",
              "AAAGTGAGTCGCCACA-3L8TX_181211_01_A01       L2/3 IT\n",
              "AAAGTGATCGTCTACC-3L8TX_181211_01_A01       L2/3 IT"
            ],
            "text/html": [
              "\n",
              "  <div id=\"df-f99cbb0f-b1f2-4b60-baad-c71b3fcdfa2d\">\n",
              "    <div class=\"colab-df-container\">\n",
              "      <div>\n",
              "<style scoped>\n",
              "    .dataframe tbody tr th:only-of-type {\n",
              "        vertical-align: middle;\n",
              "    }\n",
              "\n",
              "    .dataframe tbody tr th {\n",
              "        vertical-align: top;\n",
              "    }\n",
              "\n",
              "    .dataframe thead th {\n",
              "        text-align: right;\n",
              "    }\n",
              "</style>\n",
              "<table border=\"1\" class=\"dataframe\">\n",
              "  <thead>\n",
              "    <tr style=\"text-align: right;\">\n",
              "      <th></th>\n",
              "      <th>cell_type</th>\n",
              "    </tr>\n",
              "    <tr>\n",
              "      <th>barcode</th>\n",
              "      <th></th>\n",
              "    </tr>\n",
              "  </thead>\n",
              "  <tbody>\n",
              "    <tr>\n",
              "      <th>AAACGAAGTGGATTTC-3L8TX_181211_01_A01</th>\n",
              "      <td>L2/3 IT</td>\n",
              "    </tr>\n",
              "    <tr>\n",
              "      <th>AAACGCTCAATGCTCA-3L8TX_181211_01_A01</th>\n",
              "      <td>L2/3 IT</td>\n",
              "    </tr>\n",
              "    <tr>\n",
              "      <th>AAAGTCCGTGTATCCA-3L8TX_181211_01_A01</th>\n",
              "      <td>L6 CT Cpa6_1</td>\n",
              "    </tr>\n",
              "    <tr>\n",
              "      <th>AAAGTGAGTCGCCACA-3L8TX_181211_01_A01</th>\n",
              "      <td>L2/3 IT</td>\n",
              "    </tr>\n",
              "    <tr>\n",
              "      <th>AAAGTGATCGTCTACC-3L8TX_181211_01_A01</th>\n",
              "      <td>L2/3 IT</td>\n",
              "    </tr>\n",
              "  </tbody>\n",
              "</table>\n",
              "</div>\n",
              "      <button class=\"colab-df-convert\" onclick=\"convertToInteractive('df-f99cbb0f-b1f2-4b60-baad-c71b3fcdfa2d')\"\n",
              "              title=\"Convert this dataframe to an interactive table.\"\n",
              "              style=\"display:none;\">\n",
              "        \n",
              "  <svg xmlns=\"http://www.w3.org/2000/svg\" height=\"24px\"viewBox=\"0 0 24 24\"\n",
              "       width=\"24px\">\n",
              "    <path d=\"M0 0h24v24H0V0z\" fill=\"none\"/>\n",
              "    <path d=\"M18.56 5.44l.94 2.06.94-2.06 2.06-.94-2.06-.94-.94-2.06-.94 2.06-2.06.94zm-11 1L8.5 8.5l.94-2.06 2.06-.94-2.06-.94L8.5 2.5l-.94 2.06-2.06.94zm10 10l.94 2.06.94-2.06 2.06-.94-2.06-.94-.94-2.06-.94 2.06-2.06.94z\"/><path d=\"M17.41 7.96l-1.37-1.37c-.4-.4-.92-.59-1.43-.59-.52 0-1.04.2-1.43.59L10.3 9.45l-7.72 7.72c-.78.78-.78 2.05 0 2.83L4 21.41c.39.39.9.59 1.41.59.51 0 1.02-.2 1.41-.59l7.78-7.78 2.81-2.81c.8-.78.8-2.07 0-2.86zM5.41 20L4 18.59l7.72-7.72 1.47 1.35L5.41 20z\"/>\n",
              "  </svg>\n",
              "      </button>\n",
              "      \n",
              "  <style>\n",
              "    .colab-df-container {\n",
              "      display:flex;\n",
              "      flex-wrap:wrap;\n",
              "      gap: 12px;\n",
              "    }\n",
              "\n",
              "    .colab-df-convert {\n",
              "      background-color: #E8F0FE;\n",
              "      border: none;\n",
              "      border-radius: 50%;\n",
              "      cursor: pointer;\n",
              "      display: none;\n",
              "      fill: #1967D2;\n",
              "      height: 32px;\n",
              "      padding: 0 0 0 0;\n",
              "      width: 32px;\n",
              "    }\n",
              "\n",
              "    .colab-df-convert:hover {\n",
              "      background-color: #E2EBFA;\n",
              "      box-shadow: 0px 1px 2px rgba(60, 64, 67, 0.3), 0px 1px 3px 1px rgba(60, 64, 67, 0.15);\n",
              "      fill: #174EA6;\n",
              "    }\n",
              "\n",
              "    [theme=dark] .colab-df-convert {\n",
              "      background-color: #3B4455;\n",
              "      fill: #D2E3FC;\n",
              "    }\n",
              "\n",
              "    [theme=dark] .colab-df-convert:hover {\n",
              "      background-color: #434B5C;\n",
              "      box-shadow: 0px 1px 3px 1px rgba(0, 0, 0, 0.15);\n",
              "      filter: drop-shadow(0px 1px 2px rgba(0, 0, 0, 0.3));\n",
              "      fill: #FFFFFF;\n",
              "    }\n",
              "  </style>\n",
              "\n",
              "      <script>\n",
              "        const buttonEl =\n",
              "          document.querySelector('#df-f99cbb0f-b1f2-4b60-baad-c71b3fcdfa2d button.colab-df-convert');\n",
              "        buttonEl.style.display =\n",
              "          google.colab.kernel.accessAllowed ? 'block' : 'none';\n",
              "\n",
              "        async function convertToInteractive(key) {\n",
              "          const element = document.querySelector('#df-f99cbb0f-b1f2-4b60-baad-c71b3fcdfa2d');\n",
              "          const dataTable =\n",
              "            await google.colab.kernel.invokeFunction('convertToInteractive',\n",
              "                                                     [key], {});\n",
              "          if (!dataTable) return;\n",
              "\n",
              "          const docLinkHtml = 'Like what you see? Visit the ' +\n",
              "            '<a target=\"_blank\" href=https://colab.research.google.com/notebooks/data_table.ipynb>data table notebook</a>'\n",
              "            + ' to learn more about interactive tables.';\n",
              "          element.innerHTML = '';\n",
              "          dataTable['output_type'] = 'display_data';\n",
              "          await google.colab.output.renderOutput(dataTable, element);\n",
              "          const docLink = document.createElement('div');\n",
              "          docLink.innerHTML = docLinkHtml;\n",
              "          element.appendChild(docLink);\n",
              "        }\n",
              "      </script>\n",
              "    </div>\n",
              "  </div>\n",
              "  "
            ]
          },
          "metadata": {},
          "execution_count": 5
        }
      ]
    },
    {
      "cell_type": "code",
      "metadata": {
        "id": "M5je0CyVN4DN",
        "colab": {
          "base_uri": "https://localhost:8080/",
          "height": 206
        },
        "outputId": "0c22452c-137b-49a9-a04d-57957fbdc447"
      },
      "source": [
        "#Get metadata dataframe for the 5,000 genes (columns of the matrix)\n",
        "\n",
        "meta_gene = pd.read_csv('biccnGeneMeta.csv',index_col = 0)\n",
        "meta_gene.head()\n"
      ],
      "execution_count": 6,
      "outputs": [
        {
          "output_type": "execute_result",
          "data": {
            "text/plain": [
              "                                         gene_name\n",
              "Rp1_ENSMUSG00000025900      Rp1_ENSMUSG00000025900\n",
              "Sox17_ENSMUSG00000025902  Sox17_ENSMUSG00000025902\n",
              "Oprk1_ENSMUSG00000025905  Oprk1_ENSMUSG00000025905\n",
              "St18_ENSMUSG00000033740    St18_ENSMUSG00000033740\n",
              "Sntg1_ENSMUSG00000025909  Sntg1_ENSMUSG00000025909"
            ],
            "text/html": [
              "\n",
              "  <div id=\"df-d82ad67d-ed2e-4f69-822c-6ae3089d875d\">\n",
              "    <div class=\"colab-df-container\">\n",
              "      <div>\n",
              "<style scoped>\n",
              "    .dataframe tbody tr th:only-of-type {\n",
              "        vertical-align: middle;\n",
              "    }\n",
              "\n",
              "    .dataframe tbody tr th {\n",
              "        vertical-align: top;\n",
              "    }\n",
              "\n",
              "    .dataframe thead th {\n",
              "        text-align: right;\n",
              "    }\n",
              "</style>\n",
              "<table border=\"1\" class=\"dataframe\">\n",
              "  <thead>\n",
              "    <tr style=\"text-align: right;\">\n",
              "      <th></th>\n",
              "      <th>gene_name</th>\n",
              "    </tr>\n",
              "  </thead>\n",
              "  <tbody>\n",
              "    <tr>\n",
              "      <th>Rp1_ENSMUSG00000025900</th>\n",
              "      <td>Rp1_ENSMUSG00000025900</td>\n",
              "    </tr>\n",
              "    <tr>\n",
              "      <th>Sox17_ENSMUSG00000025902</th>\n",
              "      <td>Sox17_ENSMUSG00000025902</td>\n",
              "    </tr>\n",
              "    <tr>\n",
              "      <th>Oprk1_ENSMUSG00000025905</th>\n",
              "      <td>Oprk1_ENSMUSG00000025905</td>\n",
              "    </tr>\n",
              "    <tr>\n",
              "      <th>St18_ENSMUSG00000033740</th>\n",
              "      <td>St18_ENSMUSG00000033740</td>\n",
              "    </tr>\n",
              "    <tr>\n",
              "      <th>Sntg1_ENSMUSG00000025909</th>\n",
              "      <td>Sntg1_ENSMUSG00000025909</td>\n",
              "    </tr>\n",
              "  </tbody>\n",
              "</table>\n",
              "</div>\n",
              "      <button class=\"colab-df-convert\" onclick=\"convertToInteractive('df-d82ad67d-ed2e-4f69-822c-6ae3089d875d')\"\n",
              "              title=\"Convert this dataframe to an interactive table.\"\n",
              "              style=\"display:none;\">\n",
              "        \n",
              "  <svg xmlns=\"http://www.w3.org/2000/svg\" height=\"24px\"viewBox=\"0 0 24 24\"\n",
              "       width=\"24px\">\n",
              "    <path d=\"M0 0h24v24H0V0z\" fill=\"none\"/>\n",
              "    <path d=\"M18.56 5.44l.94 2.06.94-2.06 2.06-.94-2.06-.94-.94-2.06-.94 2.06-2.06.94zm-11 1L8.5 8.5l.94-2.06 2.06-.94-2.06-.94L8.5 2.5l-.94 2.06-2.06.94zm10 10l.94 2.06.94-2.06 2.06-.94-2.06-.94-.94-2.06-.94 2.06-2.06.94z\"/><path d=\"M17.41 7.96l-1.37-1.37c-.4-.4-.92-.59-1.43-.59-.52 0-1.04.2-1.43.59L10.3 9.45l-7.72 7.72c-.78.78-.78 2.05 0 2.83L4 21.41c.39.39.9.59 1.41.59.51 0 1.02-.2 1.41-.59l7.78-7.78 2.81-2.81c.8-.78.8-2.07 0-2.86zM5.41 20L4 18.59l7.72-7.72 1.47 1.35L5.41 20z\"/>\n",
              "  </svg>\n",
              "      </button>\n",
              "      \n",
              "  <style>\n",
              "    .colab-df-container {\n",
              "      display:flex;\n",
              "      flex-wrap:wrap;\n",
              "      gap: 12px;\n",
              "    }\n",
              "\n",
              "    .colab-df-convert {\n",
              "      background-color: #E8F0FE;\n",
              "      border: none;\n",
              "      border-radius: 50%;\n",
              "      cursor: pointer;\n",
              "      display: none;\n",
              "      fill: #1967D2;\n",
              "      height: 32px;\n",
              "      padding: 0 0 0 0;\n",
              "      width: 32px;\n",
              "    }\n",
              "\n",
              "    .colab-df-convert:hover {\n",
              "      background-color: #E2EBFA;\n",
              "      box-shadow: 0px 1px 2px rgba(60, 64, 67, 0.3), 0px 1px 3px 1px rgba(60, 64, 67, 0.15);\n",
              "      fill: #174EA6;\n",
              "    }\n",
              "\n",
              "    [theme=dark] .colab-df-convert {\n",
              "      background-color: #3B4455;\n",
              "      fill: #D2E3FC;\n",
              "    }\n",
              "\n",
              "    [theme=dark] .colab-df-convert:hover {\n",
              "      background-color: #434B5C;\n",
              "      box-shadow: 0px 1px 3px 1px rgba(0, 0, 0, 0.15);\n",
              "      filter: drop-shadow(0px 1px 2px rgba(0, 0, 0, 0.3));\n",
              "      fill: #FFFFFF;\n",
              "    }\n",
              "  </style>\n",
              "\n",
              "      <script>\n",
              "        const buttonEl =\n",
              "          document.querySelector('#df-d82ad67d-ed2e-4f69-822c-6ae3089d875d button.colab-df-convert');\n",
              "        buttonEl.style.display =\n",
              "          google.colab.kernel.accessAllowed ? 'block' : 'none';\n",
              "\n",
              "        async function convertToInteractive(key) {\n",
              "          const element = document.querySelector('#df-d82ad67d-ed2e-4f69-822c-6ae3089d875d');\n",
              "          const dataTable =\n",
              "            await google.colab.kernel.invokeFunction('convertToInteractive',\n",
              "                                                     [key], {});\n",
              "          if (!dataTable) return;\n",
              "\n",
              "          const docLinkHtml = 'Like what you see? Visit the ' +\n",
              "            '<a target=\"_blank\" href=https://colab.research.google.com/notebooks/data_table.ipynb>data table notebook</a>'\n",
              "            + ' to learn more about interactive tables.';\n",
              "          element.innerHTML = '';\n",
              "          dataTable['output_type'] = 'display_data';\n",
              "          await google.colab.output.renderOutput(dataTable, element);\n",
              "          const docLink = document.createElement('div');\n",
              "          docLink.innerHTML = docLinkHtml;\n",
              "          element.appendChild(docLink);\n",
              "        }\n",
              "      </script>\n",
              "    </div>\n",
              "  </div>\n",
              "  "
            ]
          },
          "metadata": {},
          "execution_count": 6
        }
      ]
    },
    {
      "cell_type": "markdown",
      "source": [
        "## **Problem 3 (30 points)**"
      ],
      "metadata": {
        "id": "u2DFUfz9OGGd"
      }
    },
    {
      "cell_type": "markdown",
      "source": [
        "Gaussian mixture model (GMM) is as defined below:\n",
        "\n",
        "\\begin{align}\n",
        "f_{GMM}(\\mathbf{x})=\\sum_{j=1}^k \\phi_j f(\\mathbf {x};{\\boldsymbol{\\mu }}_{j},\\mathbf{\\Sigma}_{j})\n",
        "\\end{align}\n",
        "subject to $\\sum_{j=1}^k \\phi_j = 1$.\n",
        "\n",
        "$\\boldsymbol{\\phi}$ denotes the weights for each Gaussian pdf $f$, and together the GMM is defined as the weighted sum of these Gaussians. $\\boldsymbol{\\mu} \\text{ and } \\mathbf{\\Sigma}$ represent the mean (vector) and covariance (matrix) for each of the $k$ multivariate Gaussians. This model can then describe data with multiple modes/areas of high density i.e. $k$ cell types which shared distinct gene expression signatures."
      ],
      "metadata": {
        "id": "Jtx3LM4-Skv8"
      }
    },
    {
      "cell_type": "markdown",
      "source": [
        "Let $\\mathbf{x} = (\\mathbf{x}_1, \\mathbf{x}_2, \\ldots \\mathbf{x}_n)$ be $n$ independent observations (e.g. cells) which come from a mixture of Gaussians. They are $d$ dimensional, where $d$ is the number of gene measurements. We will define $\\mathbf{z} = (z_1, z_2, \\ldots z_n)$ as the latent variable which represents the mixture component (of the $k$ components) which a cell comes from. Thus $\\phi_j = P(Z = j)$."
      ],
      "metadata": {
        "id": "cuXYuplhT87h"
      }
    },
    {
      "cell_type": "markdown",
      "source": [
        "The parameters to be fit, $\\theta = (\\boldsymbol{\\mu}_1,\\ldots \\boldsymbol{\\mu}_k, \\mathbf{\\Sigma_1}, \\ldots \\mathbf{\\Sigma_k}, \\mathbf{\\phi}_1, \\ldots \\mathbf{\\phi}_k)$ (the parameters of the GMM)."
      ],
      "metadata": {
        "id": "O130zlbuVrjz"
      }
    },
    {
      "cell_type": "markdown",
      "source": [
        "The (complete) likelihood for maximization is defined as \n",
        "\\begin{align}\n",
        "p(\\mathbf {x},\\mathbf {z};\\theta) =\\prod _{i=1}^{n}\\prod _{j=1}^{k}\\ [f(\\mathbf {x} _{i};{\\boldsymbol{\\mu }}_{j},\\mathbf{\\Sigma}_{j})\\phi_{j}]^{\\mathbb {I} (z_{i}=j)}\n",
        "\\end{align}\n",
        "\n",
        "where $\\mathbb {I}$ is the indicator function.\n",
        "\n",
        "As described in Problem 1, we will use the $Q$ function to maximize, where \n",
        "\\begin{align}\n",
        "Q(\\theta|\\theta_t) = E_{\\mathbf {z}|\\mathbf {x},\\theta_t} [\\log(p(\\mathbf {x},\\mathbf {z};\\theta))].\n",
        "\\end{align}\n"
      ],
      "metadata": {
        "id": "1TE_28ohWNUh"
      }
    },
    {
      "cell_type": "markdown",
      "source": [
        "Dimensions of variables ($n$ cells, $d$ genes):\n",
        "\n",
        "$\\mathbf{X}: n\\times d$ matrix\n",
        "\n",
        "$\\boldsymbol{\\mu}: k \\times d$ matrix\n",
        "\n",
        "$\\boldsymbol{\\Sigma}: k\\times d \\times d$ matrix\n",
        "\n",
        "$\\boldsymbol{\\phi}:$ 1d array of length $k$"
      ],
      "metadata": {
        "id": "F5yfl4XG1KWh"
      }
    },
    {
      "cell_type": "markdown",
      "source": [
        "### **a) Often covariance matrices of single-cell datasets are singular (non-invertible). Subset the input matrix X to create a 'regularized'-non-singular matrix to use. (5 points)**"
      ],
      "metadata": {
        "id": "9X5uTrNgSrVU"
      }
    },
    {
      "cell_type": "markdown",
      "source": [
        "Remove the bottom half of genes based on variance i.e. calculate the variance of expression for *each* gene and remove any genes below the mean variance (from across all genes). In this sense we are further removing 'redundancy' from the matrix.\n",
        "\n",
        "Remember that the counts of the matrix are log1p() of the original counts.\n",
        "\n",
        "**Report how many genes remain after this subsetting, and use this subsetted matrix for all downstream calculations.**"
      ],
      "metadata": {
        "id": "S14pcM1aTAyt"
      }
    },
    {
      "cell_type": "code",
      "source": [
        "#Un-log transform the counts\n",
        "non_lg_count = np.exp(count_mat)-1\n",
        "\n",
        "#compute the variance for each gene\n",
        "var = np.var(non_lg_count,axis=0)\n",
        "\n",
        "#compute the mean variance \n",
        "mean_var = np.mean(var)\n",
        "\n",
        "#find the indicies of any genes below the variance and remove them from both the count matrix\n",
        "#and the gene meta data\n",
        "inds = np.where(var < mean_var)\n",
        "\n",
        "count_mat_sub = np.delete(count_mat, inds[1], axis = 1)\n",
        "\n",
        "print(\"after subsetting, there are only\", np.shape(count_mat_sub)[1], \" genes remaining in the count matrix\")\n"
      ],
      "metadata": {
        "id": "h63VPYXeTARQ",
        "outputId": "2541f894-7f58-4ca4-a530-9555d64b1692",
        "colab": {
          "base_uri": "https://localhost:8080/"
        }
      },
      "execution_count": 33,
      "outputs": [
        {
          "output_type": "stream",
          "name": "stdout",
          "text": [
            "after subsetting, there are only 97  genes remaining in the count matrix\n"
          ]
        }
      ]
    },
    {
      "cell_type": "markdown",
      "source": [
        "### **b) Implement the E step (5 points)**"
      ],
      "metadata": {
        "id": "y8oMK4OkOVGZ"
      }
    },
    {
      "cell_type": "markdown",
      "source": [
        "For the E step we assume a set of (randomly initialized) $\\theta_t$.\n",
        "Then:\n",
        "\\begin{align}\n",
        "Q(\\theta|\\theta_t) &= \\sum_{i=1}^{n} \\sum_{j=1}^{k} P(Z_i = j | X_i = \\mathbf{x}_i; \\theta_t) \\log(p(\\mathbf {x}_i,j;\\theta_j)) \\\\\n",
        " &= \\sum_{i=1}^{n} \\sum_{j=1}^{k} T_{i,j}^t[\\log \\phi _{j}-{\\tfrac {1}{2}}\\log |\\mathbf{\\Sigma} _{j}|-{\\tfrac {1}{2}}(\\mathbf {x} _{i}-{\\boldsymbol {\\mu }}_{j})^{\\top }\\mathbf{\\Sigma} _{j}^{-1}(\\mathbf {x} _{i}-{\\boldsymbol {\\mu }}_{j})-{\\tfrac {d}{2}}\\log(2\\pi )]\n",
        "\\end{align}\n",
        "\n",
        "\n"
      ],
      "metadata": {
        "id": "Plo-CevdOXeb"
      }
    },
    {
      "cell_type": "markdown",
      "source": [
        "$T_{i,j}^t$ represents $P(Z_i = j | X_i = \\mathbf{x}_i; \\theta_t)$ and $p(\\mathbf {x}_i,j;\\theta_j) = f(\\mathbf {x} _{i};{\\boldsymbol{\\mu }}_{j},\\mathbf{\\Sigma}_{j})\\phi_{j}$.\n",
        "\n",
        "$T_{i,j}^t$ needs to be calculated given the current $\\theta_t$ for every $\\mathbf{x}_i$ in the E step.\n",
        "\n",
        "Using Bayes theorem we can get that \n",
        "\\begin{align}\n",
        "T_{i,j}^t = \\frac {\\phi _{j}^{t}\\ f(\\mathbf {x} _{i};{\\boldsymbol {\\mu }}_{j}^{t},\\mathbf{\\Sigma} _{j}^{t})}{\\sum_{r=1}^k \\phi _{r}^{t}\\ f(\\mathbf {x} _{i};{\\boldsymbol {\\mu }}_{r}^{t},\\mathbf{\\Sigma} _{r}^{t})}\n",
        "\\end{align}\n",
        "\n"
      ],
      "metadata": {
        "id": "SeA2jtM-n_v9"
      }
    },
    {
      "cell_type": "markdown",
      "source": [
        "You can use [scipy.stats multivariate_normal.pdf](https://docs.scipy.org/doc/scipy/reference/generated/scipy.stats.multivariate_normal.html) to calculate $f$ and [numpy cov](https://numpy.org/doc/stable/reference/generated/numpy.cov.html) to calculate covariances."
      ],
      "metadata": {
        "id": "soHVlU_sRKAe"
      }
    },
    {
      "cell_type": "markdown",
      "source": [
        "**Fill in the e_step() function and calculate the matrix $\\mathbf{T}$ given inputs $\\mathbf{X}, \\boldsymbol{\\mu^t}, \\mathbf{\\Sigma^t}, \\textbf{ and } \\boldsymbol{\\phi^t}$. $\\mathbf{X}$  represents our cell x genes data matrix.**\n",
        "\n",
        "Note: You may need to add a small epsilon ($\\approx$ 1e-100) to $f$ values, to avoid divide by zero errors."
      ],
      "metadata": {
        "id": "FBdvGVNqsv-e"
      }
    },
    {
      "cell_type": "code",
      "source": [
        "def e_step():\n",
        "\n",
        "\n",
        "  return "
      ],
      "metadata": {
        "id": "HfisvYTyODwK"
      },
      "execution_count": 7,
      "outputs": []
    },
    {
      "cell_type": "code",
      "source": [],
      "metadata": {
        "id": "P5jZQrEROD6h"
      },
      "execution_count": 7,
      "outputs": []
    },
    {
      "cell_type": "markdown",
      "source": [],
      "metadata": {
        "id": "u1QLdU6rhB6A"
      }
    },
    {
      "cell_type": "markdown",
      "source": [
        "### **c) Implement the M step (5 points)**"
      ],
      "metadata": {
        "id": "4kqrqo5GOkEp"
      }
    },
    {
      "cell_type": "markdown",
      "source": [
        "In the maximization (M) step, we then (re-)calculate the MLE values for $\\theta$ or $(\\boldsymbol{\\mu}_1,\\ldots \\boldsymbol{\\mu}_k, \\mathbf{\\Sigma}_1, \\ldots \\mathbf{\\Sigma}_k, \\mathbf{\\phi}_1, \\ldots \\mathbf{\\phi}_k)$ at this $t+1$ step.\n",
        "\n",
        "Here $j$ is from 1 to k."
      ],
      "metadata": {
        "id": "JPme3tp7qRo4"
      }
    },
    {
      "cell_type": "markdown",
      "source": [
        "For $\\boldsymbol{\\phi}$\n",
        "\\begin{align}\n",
        "\\phi _{j} ={\\frac {1}{n}}\\sum _{i=1}^{n}T_{i,j}^{t}.\n",
        "\\end{align}\n",
        "\n",
        "\n",
        "For $\\boldsymbol{\\mu}$\n",
        "\\begin{align}\n",
        "\\boldsymbol{\\mu}_j = \\frac{\\sum_{i=1}^n T_{i,j}^{t} \\mathbf{x}_i}{\\sum_{i=1}^n T_{i,j}^{t}}.\n",
        "\\end{align}\n",
        "\n",
        "And for $\\boldsymbol{\\Sigma}$\n",
        "\\begin{align}\n",
        "\\mathbf{\\Sigma}_j = \\frac{\\sum_{i=1}^n T_{i,j}^{t} (\\mathbf{x}_i - \\boldsymbol{\\mu}_j)^\\top (\\mathbf{x}_i - \\boldsymbol{\\mu}_j) }{\\sum_{i=1}^n T_{i,j}^{t}}\n",
        "\\end{align}"
      ],
      "metadata": {
        "id": "bvVv0qwjqqqy"
      }
    },
    {
      "cell_type": "markdown",
      "source": [
        "**Fill in the m_step() function to calculate the updated $\\boldsymbol{\\mu}, \\mathbf{\\Sigma}, \\textbf{ and } \\boldsymbol{\\phi}$ values given $\\mathbf{T}$.**\n",
        "\n",
        "Note: To calculate the new covariance matrices you can use the aweights input option for [np.cov](https://numpy.org/doc/stable/reference/generated/numpy.cov.html), where the $T^t_{i,j}$ values are the weights."
      ],
      "metadata": {
        "id": "typSX-yJsyWw"
      }
    },
    {
      "cell_type": "code",
      "source": [
        "def m_step():\n",
        "\n",
        "\n",
        "  return"
      ],
      "metadata": {
        "id": "CyFM88e7Ok7J"
      },
      "execution_count": 8,
      "outputs": []
    },
    {
      "cell_type": "code",
      "source": [],
      "metadata": {
        "id": "YyRJYHzPsoN3"
      },
      "execution_count": 8,
      "outputs": []
    },
    {
      "cell_type": "markdown",
      "source": [
        "### **d) Run EM steps for 100 iterations, get mixture (cluster) assignments for the cells, at plot the Q function over the iterations. (10 points)**"
      ],
      "metadata": {
        "id": "HYJQW5CROmPC"
      }
    },
    {
      "cell_type": "markdown",
      "source": [
        "To initialize the EM process we will (1) let $k = 10$ (also the number of labeled cell types), (2) assume $\\boldsymbol{\\phi}$ has a uniform probability for each $k$, (3) choose random rows from the data to represent each of the $k$  $\\boldsymbol{\\mu}$s, and (4) use the covariance matrix for $\\mathbf{X}$ (the cell x genes matrix) to intialize the $k$ $\\mathbf{\\Sigma}$s.\n",
        "\n",
        "Run the EM algorithm for 100 iterations.\n",
        "\n",
        "** **"
      ],
      "metadata": {
        "id": "mjxCPu_6s28W"
      }
    },
    {
      "cell_type": "markdown",
      "source": [
        "Determine the final cluster assignment for each cell $i$ by finding which $k$ (mixture component) has the max $T_{i,j}$ value."
      ],
      "metadata": {
        "id": "1nT6tKWTvL_P"
      }
    },
    {
      "cell_type": "markdown",
      "source": [
        "**Plot Q over the iterations, and report $\\boldsymbol{\\phi}$ and the cluster (k) assignments for the first 10 cells after 100 iterations.**\n",
        "\n",
        "**You can use the initialization provided below.**"
      ],
      "metadata": {
        "id": "RV2NAmy3s6yM"
      }
    },
    {
      "cell_type": "code",
      "source": [
        "#Initialize which randon rows to select for mu\n",
        "n=count_mat.shape[0]\n",
        "k=10\n",
        "np.random.seed(2022)\n",
        "rand_rows=np.random.choice(n,k,replace=False)"
      ],
      "metadata": {
        "id": "8n5Nd3dMs2N2"
      },
      "execution_count": 9,
      "outputs": []
    },
    {
      "cell_type": "code",
      "source": [],
      "metadata": {
        "id": "cMgjqMV1PSlF"
      },
      "execution_count": 9,
      "outputs": []
    },
    {
      "cell_type": "markdown",
      "source": [
        "### **e) Calculate correspondence of generated clusters and given cell type labels. (5 points)**"
      ],
      "metadata": {
        "id": "s6YAyezbPTgp"
      }
    },
    {
      "cell_type": "markdown",
      "source": [
        "For each mixture componet/cluster of cells, find the majority cell type label and the percent of cells with that label.\n",
        "\n",
        "**Report the percent of cells with the majority label for each cluster and what that majority label is.**\n",
        "\n"
      ],
      "metadata": {
        "id": "IIr-6MaXUyLQ"
      }
    },
    {
      "cell_type": "code",
      "source": [],
      "metadata": {
        "id": "35m709X_QRre"
      },
      "execution_count": 9,
      "outputs": []
    }
  ]
}