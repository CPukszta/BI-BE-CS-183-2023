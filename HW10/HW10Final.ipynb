{
  "cells": [
    {
      "cell_type": "markdown",
      "metadata": {
        "id": "view-in-github",
        "colab_type": "text"
      },
      "source": [
        "<a href=\"https://colab.research.google.com/github/CPukszta/BI-BE-CS-183-2023/blob/main/HW10/HW10Final.ipynb\" target=\"_parent\"><img src=\"https://colab.research.google.com/assets/colab-badge.svg\" alt=\"Open In Colab\"/></a>"
      ]
    },
    {
      "cell_type": "markdown",
      "metadata": {
        "id": "MozW3XxY8ezr"
      },
      "source": [
        "Bi/Be/Cs 183 2022-2023: Intro to Computational Biology\n",
        "TAs: Meichen Fang, Tara Chari, Zitong (Jerry) Wang\n",
        "\n",
        "**Submit your notebooks by sharing a clickable link with Viewer access. Link must be accessible from submitted assignment document.**\n",
        "\n",
        "Make sure Runtime $\\rightarrow$ Restart and run all works without error"
      ]
    },
    {
      "cell_type": "markdown",
      "metadata": {
        "id": "Mu4obGyqS8fh"
      },
      "source": [
        "**HW 10 Final Problem**\n",
        "\n",
        "In this problem you will process a single-cell dataset from the raw fastqs (sequencing reads of the cDNA library) to produce the cell x gene count matrix we usually work with. Given this count matrix you will additionally investigate the impact of various normalization techniques and dimensionality reduction on clustering of the cells (i.e. looking for cell types). With the metadata for this dataset, the cell types and ages of the mice used, you will then compare the efficacy of logistic regression vs neural network based techniques for classifying the age of the mouse a cell came from.\n"
      ]
    },
    {
      "cell_type": "markdown",
      "metadata": {
        "id": "fJ8J92ntz2rk"
      },
      "source": [
        "##**Install packages**"
      ]
    },
    {
      "cell_type": "markdown",
      "metadata": {
        "id": "X5QduXCj1tLC"
      },
      "source": [
        "Install kb-python\n",
        "\n",
        "This package is used to do transcript quantification (as shown in HW 4 Problem 2), aligning sequencing reads to a provided transcriptome to estimate transcript abundances. This produces the gene count matrices we have been working with. kb takes in the raw FASTQ files (the cDNA sequences from the generated cDNA library), aligns the transcript sequences to a reference file for the organism (the kallisto index below), and generates a count matrix of the transcripts (or genes) per cell."
      ]
    },
    {
      "cell_type": "code",
      "execution_count": null,
      "metadata": {
        "colab": {
          "base_uri": "https://localhost:8080/"
        },
        "id": "uwDBoJ3Q1ss8",
        "outputId": "91b37e3e-97c4-4171-f7ae-3ef171569622"
      },
      "outputs": [
        {
          "output_type": "stream",
          "name": "stdout",
          "text": [
            "Looking in indexes: https://pypi.org/simple, https://us-python.pkg.dev/colab-wheels/public/simple/\n",
            "Collecting kb-python\n",
            "  Downloading kb_python-0.27.3.tar.gz (7.5 MB)\n",
            "\u001b[2K     \u001b[90m━━━━━━━━━━━━━━━━━━━━━━━━━━━━━━━━━━━━━━━━\u001b[0m \u001b[32m7.5/7.5 MB\u001b[0m \u001b[31m45.9 MB/s\u001b[0m eta \u001b[36m0:00:00\u001b[0m\n",
            "\u001b[?25h  Preparing metadata (setup.py) ... \u001b[?25l\u001b[?25hdone\n",
            "Collecting anndata>=0.6.22.post1\n",
            "  Downloading anndata-0.8.0-py3-none-any.whl (96 kB)\n",
            "\u001b[2K     \u001b[90m━━━━━━━━━━━━━━━━━━━━━━━━━━━━━━━━━━━━━━━━\u001b[0m \u001b[32m96.1/96.1 KB\u001b[0m \u001b[31m3.7 MB/s\u001b[0m eta \u001b[36m0:00:00\u001b[0m\n",
            "\u001b[?25hRequirement already satisfied: h5py>=2.10.0 in /usr/local/lib/python3.9/dist-packages (from kb-python) (3.1.0)\n",
            "Requirement already satisfied: Jinja2>2.10.1 in /usr/local/lib/python3.9/dist-packages (from kb-python) (3.1.2)\n",
            "Collecting loompy>=3.0.6\n",
            "  Downloading loompy-3.0.7.tar.gz (4.8 MB)\n",
            "\u001b[2K     \u001b[90m━━━━━━━━━━━━━━━━━━━━━━━━━━━━━━━━━━━━━━━━\u001b[0m \u001b[32m4.8/4.8 MB\u001b[0m \u001b[31m26.8 MB/s\u001b[0m eta \u001b[36m0:00:00\u001b[0m\n",
            "\u001b[?25h  Preparing metadata (setup.py) ... \u001b[?25l\u001b[?25hdone\n",
            "Requirement already satisfied: nbconvert>=5.6.0 in /usr/local/lib/python3.9/dist-packages (from kb-python) (6.5.4)\n",
            "Requirement already satisfied: nbformat>=4.4.0 in /usr/local/lib/python3.9/dist-packages (from kb-python) (5.7.3)\n",
            "Collecting ngs-tools>=1.7.3\n",
            "  Downloading ngs-tools-1.8.3.tar.gz (45.2 MB)\n",
            "\u001b[2K     \u001b[90m━━━━━━━━━━━━━━━━━━━━━━━━━━━━━━━━━━━━━━━━\u001b[0m \u001b[32m45.2/45.2 MB\u001b[0m \u001b[31m10.3 MB/s\u001b[0m eta \u001b[36m0:00:00\u001b[0m\n",
            "\u001b[?25h  Preparing metadata (setup.py) ... \u001b[?25l\u001b[?25hdone\n",
            "Requirement already satisfied: numpy>=1.17.2 in /usr/local/lib/python3.9/dist-packages (from kb-python) (1.22.4)\n",
            "Requirement already satisfied: pandas>=1.0.0 in /usr/local/lib/python3.9/dist-packages (from kb-python) (1.3.5)\n",
            "Requirement already satisfied: plotly>=4.5.0 in /usr/local/lib/python3.9/dist-packages (from kb-python) (5.5.0)\n",
            "Requirement already satisfied: requests>=2.22.0 in /usr/local/lib/python3.9/dist-packages (from kb-python) (2.25.1)\n",
            "Collecting scanpy>=1.4.4.post1\n",
            "  Downloading scanpy-1.9.3-py3-none-any.whl (2.0 MB)\n",
            "\u001b[2K     \u001b[90m━━━━━━━━━━━━━━━━━━━━━━━━━━━━━━━━━━━━━━━━\u001b[0m \u001b[32m2.0/2.0 MB\u001b[0m \u001b[31m30.5 MB/s\u001b[0m eta \u001b[36m0:00:00\u001b[0m\n",
            "\u001b[?25hRequirement already satisfied: scikit-learn>=0.21.3 in /usr/local/lib/python3.9/dist-packages (from kb-python) (1.2.1)\n",
            "Requirement already satisfied: typing-extensions>=3.7.4 in /usr/local/lib/python3.9/dist-packages (from kb-python) (4.5.0)\n",
            "Requirement already satisfied: scipy>1.4 in /usr/local/lib/python3.9/dist-packages (from anndata>=0.6.22.post1->kb-python) (1.10.1)\n",
            "Requirement already satisfied: packaging>=20 in /usr/local/lib/python3.9/dist-packages (from anndata>=0.6.22.post1->kb-python) (23.0)\n",
            "Requirement already satisfied: natsort in /usr/local/lib/python3.9/dist-packages (from anndata>=0.6.22.post1->kb-python) (5.5.0)\n",
            "Requirement already satisfied: MarkupSafe>=2.0 in /usr/local/lib/python3.9/dist-packages (from Jinja2>2.10.1->kb-python) (2.1.2)\n",
            "Requirement already satisfied: setuptools in /usr/local/lib/python3.9/dist-packages (from loompy>=3.0.6->kb-python) (57.4.0)\n",
            "Requirement already satisfied: numba in /usr/local/lib/python3.9/dist-packages (from loompy>=3.0.6->kb-python) (0.56.4)\n",
            "Requirement already satisfied: click in /usr/local/lib/python3.9/dist-packages (from loompy>=3.0.6->kb-python) (8.1.3)\n",
            "Collecting numpy-groupies\n",
            "  Downloading numpy_groupies-0.9.20-py3-none-any.whl (25 kB)\n",
            "Requirement already satisfied: defusedxml in /usr/local/lib/python3.9/dist-packages (from nbconvert>=5.6.0->kb-python) (0.7.1)\n",
            "Requirement already satisfied: beautifulsoup4 in /usr/local/lib/python3.9/dist-packages (from nbconvert>=5.6.0->kb-python) (4.6.3)\n",
            "Requirement already satisfied: entrypoints>=0.2.2 in /usr/local/lib/python3.9/dist-packages (from nbconvert>=5.6.0->kb-python) (0.4)\n",
            "Requirement already satisfied: mistune<2,>=0.8.1 in /usr/local/lib/python3.9/dist-packages (from nbconvert>=5.6.0->kb-python) (0.8.4)\n",
            "Requirement already satisfied: nbclient>=0.5.0 in /usr/local/lib/python3.9/dist-packages (from nbconvert>=5.6.0->kb-python) (0.7.2)\n",
            "Requirement already satisfied: traitlets>=5.0 in /usr/local/lib/python3.9/dist-packages (from nbconvert>=5.6.0->kb-python) (5.7.1)\n",
            "Requirement already satisfied: bleach in /usr/local/lib/python3.9/dist-packages (from nbconvert>=5.6.0->kb-python) (6.0.0)\n",
            "Requirement already satisfied: lxml in /usr/local/lib/python3.9/dist-packages (from nbconvert>=5.6.0->kb-python) (4.9.2)\n",
            "Requirement already satisfied: jupyterlab-pygments in /usr/local/lib/python3.9/dist-packages (from nbconvert>=5.6.0->kb-python) (0.2.2)\n",
            "Requirement already satisfied: pandocfilters>=1.4.1 in /usr/local/lib/python3.9/dist-packages (from nbconvert>=5.6.0->kb-python) (1.5.0)\n",
            "Requirement already satisfied: pygments>=2.4.1 in /usr/local/lib/python3.9/dist-packages (from nbconvert>=5.6.0->kb-python) (2.6.1)\n",
            "Requirement already satisfied: jupyter-core>=4.7 in /usr/local/lib/python3.9/dist-packages (from nbconvert>=5.6.0->kb-python) (5.2.0)\n",
            "Requirement already satisfied: tinycss2 in /usr/local/lib/python3.9/dist-packages (from nbconvert>=5.6.0->kb-python) (1.2.1)\n",
            "Requirement already satisfied: jsonschema>=2.6 in /usr/local/lib/python3.9/dist-packages (from nbformat>=4.4.0->kb-python) (4.3.3)\n",
            "Requirement already satisfied: fastjsonschema in /usr/local/lib/python3.9/dist-packages (from nbformat>=4.4.0->kb-python) (2.16.3)\n",
            "Requirement already satisfied: joblib>=1.0.1 in /usr/local/lib/python3.9/dist-packages (from ngs-tools>=1.7.3->kb-python) (1.2.0)\n",
            "Collecting pysam>=0.16.0.1\n",
            "  Downloading pysam-0.20.0-cp39-cp39-manylinux_2_24_x86_64.whl (15.6 MB)\n",
            "\u001b[2K     \u001b[90m━━━━━━━━━━━━━━━━━━━━━━━━━━━━━━━━━━━━━━━━\u001b[0m \u001b[32m15.6/15.6 MB\u001b[0m \u001b[31m11.1 MB/s\u001b[0m eta \u001b[36m0:00:00\u001b[0m\n",
            "\u001b[?25hCollecting shortuuid>=1.0.1\n",
            "  Downloading shortuuid-1.0.11-py3-none-any.whl (10 kB)\n",
            "Requirement already satisfied: tqdm>=4.50.0 in /usr/local/lib/python3.9/dist-packages (from ngs-tools>=1.7.3->kb-python) (4.65.0)\n",
            "Requirement already satisfied: python-dateutil>=2.7.3 in /usr/local/lib/python3.9/dist-packages (from pandas>=1.0.0->kb-python) (2.8.2)\n",
            "Requirement already satisfied: pytz>=2017.3 in /usr/local/lib/python3.9/dist-packages (from pandas>=1.0.0->kb-python) (2022.7.1)\n",
            "Requirement already satisfied: tenacity>=6.2.0 in /usr/local/lib/python3.9/dist-packages (from plotly>=4.5.0->kb-python) (8.2.2)\n",
            "Requirement already satisfied: six in /usr/local/lib/python3.9/dist-packages (from plotly>=4.5.0->kb-python) (1.15.0)\n",
            "Requirement already satisfied: chardet<5,>=3.0.2 in /usr/local/lib/python3.9/dist-packages (from requests>=2.22.0->kb-python) (4.0.0)\n",
            "Requirement already satisfied: certifi>=2017.4.17 in /usr/local/lib/python3.9/dist-packages (from requests>=2.22.0->kb-python) (2022.12.7)\n",
            "Requirement already satisfied: idna<3,>=2.5 in /usr/local/lib/python3.9/dist-packages (from requests>=2.22.0->kb-python) (2.10)\n",
            "Requirement already satisfied: urllib3<1.27,>=1.21.1 in /usr/local/lib/python3.9/dist-packages (from requests>=2.22.0->kb-python) (1.26.14)\n",
            "Requirement already satisfied: networkx>=2.3 in /usr/local/lib/python3.9/dist-packages (from scanpy>=1.4.4.post1->kb-python) (3.0)\n",
            "Collecting session-info\n",
            "  Downloading session_info-1.0.0.tar.gz (24 kB)\n",
            "  Preparing metadata (setup.py) ... \u001b[?25l\u001b[?25hdone\n",
            "Requirement already satisfied: seaborn in /usr/local/lib/python3.9/dist-packages (from scanpy>=1.4.4.post1->kb-python) (0.11.2)\n",
            "Requirement already satisfied: statsmodels>=0.10.0rc2 in /usr/local/lib/python3.9/dist-packages (from scanpy>=1.4.4.post1->kb-python) (0.13.5)\n",
            "Requirement already satisfied: patsy in /usr/local/lib/python3.9/dist-packages (from scanpy>=1.4.4.post1->kb-python) (0.5.3)\n",
            "Requirement already satisfied: matplotlib>=3.4 in /usr/local/lib/python3.9/dist-packages (from scanpy>=1.4.4.post1->kb-python) (3.5.3)\n",
            "Collecting umap-learn>=0.3.10\n",
            "  Downloading umap-learn-0.5.3.tar.gz (88 kB)\n",
            "\u001b[2K     \u001b[90m━━━━━━━━━━━━━━━━━━━━━━━━━━━━━━━━━━━━━━━━\u001b[0m \u001b[32m88.2/88.2 KB\u001b[0m \u001b[31m3.6 MB/s\u001b[0m eta \u001b[36m0:00:00\u001b[0m\n",
            "\u001b[?25h  Preparing metadata (setup.py) ... \u001b[?25l\u001b[?25hdone\n",
            "Requirement already satisfied: threadpoolctl>=2.0.0 in /usr/local/lib/python3.9/dist-packages (from scikit-learn>=0.21.3->kb-python) (3.1.0)\n",
            "Requirement already satisfied: pyrsistent!=0.17.0,!=0.17.1,!=0.17.2,>=0.14.0 in /usr/local/lib/python3.9/dist-packages (from jsonschema>=2.6->nbformat>=4.4.0->kb-python) (0.19.3)\n",
            "Requirement already satisfied: attrs>=17.4.0 in /usr/local/lib/python3.9/dist-packages (from jsonschema>=2.6->nbformat>=4.4.0->kb-python) (22.2.0)\n",
            "Requirement already satisfied: platformdirs>=2.5 in /usr/local/lib/python3.9/dist-packages (from jupyter-core>=4.7->nbconvert>=5.6.0->kb-python) (3.1.0)\n",
            "Requirement already satisfied: fonttools>=4.22.0 in /usr/local/lib/python3.9/dist-packages (from matplotlib>=3.4->scanpy>=1.4.4.post1->kb-python) (4.39.0)\n",
            "Requirement already satisfied: pillow>=6.2.0 in /usr/local/lib/python3.9/dist-packages (from matplotlib>=3.4->scanpy>=1.4.4.post1->kb-python) (8.4.0)\n",
            "Requirement already satisfied: cycler>=0.10 in /usr/local/lib/python3.9/dist-packages (from matplotlib>=3.4->scanpy>=1.4.4.post1->kb-python) (0.11.0)\n",
            "Requirement already satisfied: kiwisolver>=1.0.1 in /usr/local/lib/python3.9/dist-packages (from matplotlib>=3.4->scanpy>=1.4.4.post1->kb-python) (1.4.4)\n",
            "Requirement already satisfied: pyparsing>=2.2.1 in /usr/local/lib/python3.9/dist-packages (from matplotlib>=3.4->scanpy>=1.4.4.post1->kb-python) (3.0.9)\n",
            "Requirement already satisfied: jupyter-client>=6.1.12 in /usr/local/lib/python3.9/dist-packages (from nbclient>=0.5.0->nbconvert>=5.6.0->kb-python) (6.1.12)\n",
            "Requirement already satisfied: llvmlite<0.40,>=0.39.0dev0 in /usr/local/lib/python3.9/dist-packages (from numba->loompy>=3.0.6->kb-python) (0.39.1)\n",
            "Collecting pynndescent>=0.5\n",
            "  Downloading pynndescent-0.5.8.tar.gz (1.1 MB)\n",
            "\u001b[2K     \u001b[90m━━━━━━━━━━━━━━━━━━━━━━━━━━━━━━━━━━━━━━━━\u001b[0m \u001b[32m1.1/1.1 MB\u001b[0m \u001b[31m10.8 MB/s\u001b[0m eta \u001b[36m0:00:00\u001b[0m\n",
            "\u001b[?25h  Preparing metadata (setup.py) ... \u001b[?25l\u001b[?25hdone\n",
            "Requirement already satisfied: webencodings in /usr/local/lib/python3.9/dist-packages (from bleach->nbconvert>=5.6.0->kb-python) (0.5.1)\n",
            "Collecting stdlib_list\n",
            "  Downloading stdlib_list-0.8.0-py3-none-any.whl (63 kB)\n",
            "\u001b[2K     \u001b[90m━━━━━━━━━━━━━━━━━━━━━━━━━━━━━━━━━━━━━━━━\u001b[0m \u001b[32m63.5/63.5 KB\u001b[0m \u001b[31m3.7 MB/s\u001b[0m eta \u001b[36m0:00:00\u001b[0m\n",
            "\u001b[?25hRequirement already satisfied: tornado>=4.1 in /usr/local/lib/python3.9/dist-packages (from jupyter-client>=6.1.12->nbclient>=0.5.0->nbconvert>=5.6.0->kb-python) (6.2)\n",
            "Requirement already satisfied: pyzmq>=13 in /usr/local/lib/python3.9/dist-packages (from jupyter-client>=6.1.12->nbclient>=0.5.0->nbconvert>=5.6.0->kb-python) (23.2.1)\n",
            "Building wheels for collected packages: kb-python, loompy, ngs-tools, umap-learn, session-info, pynndescent\n",
            "  Building wheel for kb-python (setup.py) ... \u001b[?25l\u001b[?25hdone\n",
            "  Created wheel for kb-python: filename=kb_python-0.27.3-py3-none-any.whl size=7543276 sha256=6919b4d3e184f817b8483f38bb823cc5dfd91cf89b57e1bd414fda82d04b9087\n",
            "  Stored in directory: /root/.cache/pip/wheels/cd/b6/e0/4ad2d814ada70c6837917c73149ca675ac8adbc8a0d18a046c\n",
            "  Building wheel for loompy (setup.py) ... \u001b[?25l\u001b[?25hdone\n",
            "  Created wheel for loompy: filename=loompy-3.0.7-py3-none-any.whl size=52040 sha256=044808dd80bb081dbb08667c8abf6603ed2de3c95801507cd8efce22111297f0\n",
            "  Stored in directory: /root/.cache/pip/wheels/d9/b5/43/cab70cefd40f17c3c39ba18d115ee28b76c6a076dee5abda6e\n",
            "  Building wheel for ngs-tools (setup.py) ... \u001b[?25l\u001b[?25hdone\n",
            "  Created wheel for ngs-tools: filename=ngs_tools-1.8.3-py3-none-any.whl size=45158524 sha256=54e230a2578e05612b9f19c7e832efee41da98002c2bc517b93cd0cc1b9abb12\n",
            "  Stored in directory: /root/.cache/pip/wheels/ed/54/5c/3803b2f7e7e535980f0c09176d9d3ee91311d7ed942bdf0868\n",
            "  Building wheel for umap-learn (setup.py) ... \u001b[?25l\u001b[?25hdone\n",
            "  Created wheel for umap-learn: filename=umap_learn-0.5.3-py3-none-any.whl size=82829 sha256=6613ee39a122e8c2b526d3a9d77ecdaf764a9e2219c2dbe95c94d0339065501c\n",
            "  Stored in directory: /root/.cache/pip/wheels/f4/3e/1c/596d0a463d17475af648688443fa4846fef624d1390339e7e9\n",
            "  Building wheel for session-info (setup.py) ... \u001b[?25l\u001b[?25hdone\n",
            "  Created wheel for session-info: filename=session_info-1.0.0-py3-none-any.whl size=8046 sha256=5cac8a617d20b24bbd155f321300b7f160c1d67e796acaf83aa59eeaf5f3f8cc\n",
            "  Stored in directory: /root/.cache/pip/wheels/d4/fc/2e/00ca60bac7954b84907efd41baa9b4853500eaeec4228410c6\n",
            "  Building wheel for pynndescent (setup.py) ... \u001b[?25l\u001b[?25hdone\n",
            "  Created wheel for pynndescent: filename=pynndescent-0.5.8-py3-none-any.whl size=55513 sha256=2b1b43be29df78ebe06269e00531b9dfb5ca797b2d386e21686c5905eb9e6a2a\n",
            "  Stored in directory: /root/.cache/pip/wheels/b9/89/cc/59ab91ef5b21dc2ab3635528d7d227f49dfc9169905dcb959d\n",
            "Successfully built kb-python loompy ngs-tools umap-learn session-info pynndescent\n",
            "Installing collected packages: stdlib_list, pysam, shortuuid, session-info, numpy-groupies, ngs-tools, loompy, pynndescent, anndata, umap-learn, scanpy, kb-python\n",
            "Successfully installed anndata-0.8.0 kb-python-0.27.3 loompy-3.0.7 ngs-tools-1.8.3 numpy-groupies-0.9.20 pynndescent-0.5.8 pysam-0.20.0 scanpy-1.9.3 session-info-1.0.0 shortuuid-1.0.11 stdlib_list-0.8.0 umap-learn-0.5.3\n"
          ]
        }
      ],
      "source": [
        "# Install kb. This package runs kallisto and bustools. \n",
        "# These are programs used to process the single-cell RNA-seq reads to produce count matrices.\n",
        "!pip3 install kb-python "
      ]
    },
    {
      "cell_type": "code",
      "execution_count": null,
      "metadata": {
        "colab": {
          "base_uri": "https://localhost:8080/"
        },
        "id": "IgmwCBzctnDD",
        "outputId": "1882526f-db2e-429b-b4d1-6169d2d15472"
      },
      "outputs": [
        {
          "output_type": "stream",
          "name": "stdout",
          "text": [
            "\u001b[2K     \u001b[90m━━━━━━━━━━━━━━━━━━━━━━━━━━━━━━━━━━━━━━━━\u001b[0m \u001b[32m10.2/10.2 MB\u001b[0m \u001b[31m5.5 MB/s\u001b[0m eta \u001b[36m0:00:00\u001b[0m\n",
            "\u001b[2K     \u001b[90m━━━━━━━━━━━━━━━━━━━━━━━━━━━━━━━━━━━━━━━━\u001b[0m \u001b[32m69.9/69.9 KB\u001b[0m \u001b[31m3.3 MB/s\u001b[0m eta \u001b[36m0:00:00\u001b[0m\n",
            "\u001b[?25h  Preparing metadata (setup.py) ... \u001b[?25l\u001b[?25hdone\n",
            "  Preparing metadata (setup.py) ... \u001b[?25l\u001b[?25hdone\n",
            "  Building wheel for umap-learn (setup.py) ... \u001b[?25l\u001b[?25hdone\n",
            "  Building wheel for sinfo (setup.py) ... \u001b[?25l\u001b[?25hdone\n"
          ]
        }
      ],
      "source": [
        "!pip3 install --quiet anndata\n",
        "!pip install --quiet scanpy==1.7.0rc1"
      ]
    },
    {
      "cell_type": "code",
      "execution_count": null,
      "metadata": {
        "id": "rjy8W5hly24q"
      },
      "outputs": [],
      "source": [
        "import numpy as np\n",
        "import scipy.io as sio\n",
        "import pandas as pd\n",
        "import matplotlib.pyplot as plt #Can use other plotting packages like seaborn\n",
        "\n",
        "import bokeh.io\n",
        "import bokeh.plotting\n",
        "\n",
        "bokeh.io.output_notebook()\n",
        "\n",
        "import anndata\n",
        "import scanpy as sc"
      ]
    },
    {
      "cell_type": "code",
      "execution_count": null,
      "metadata": {
        "id": "0Ep8gQNCNLHr"
      },
      "outputs": [],
      "source": [
        "import time\n",
        "t=time.time()"
      ]
    },
    {
      "cell_type": "markdown",
      "metadata": {
        "id": "PpeuucqgiDPx"
      },
      "source": [
        "## **Read in data for Part a) analysis**\n",
        "#### Running the code for data downloading and count matrix generation may take ~20mins total."
      ]
    },
    {
      "cell_type": "code",
      "execution_count": null,
      "metadata": {
        "colab": {
          "base_uri": "https://localhost:8080/"
        },
        "id": "IUWXJ6GJ2ZbY",
        "outputId": "532b859c-d49a-497a-ce39-f8807426088c"
      },
      "outputs": [
        {
          "output_type": "stream",
          "name": "stdout",
          "text": [
            "--2023-03-09 20:11:28--  ftp://ftp.sra.ebi.ac.uk/vol1/fastq/SRR842/002/SRR8426372/SRR8426372_1.fastq.gz\n",
            "           => ‘SRR8426372_1.fastq.gz’\n",
            "Resolving ftp.sra.ebi.ac.uk (ftp.sra.ebi.ac.uk)... 193.62.193.138\n",
            "Connecting to ftp.sra.ebi.ac.uk (ftp.sra.ebi.ac.uk)|193.62.193.138|:21... connected.\n",
            "Logging in as anonymous ... Logged in!\n",
            "==> SYST ... done.    ==> PWD ... done.\n",
            "==> TYPE I ... done.  ==> CWD (1) /vol1/fastq/SRR842/002/SRR8426372 ... done.\n",
            "==> SIZE SRR8426372_1.fastq.gz ... 2389120304\n",
            "==> PASV ... done.    ==> RETR SRR8426372_1.fastq.gz ... done.\n",
            "Length: 2389120304 (2.2G) (unauthoritative)\n",
            "\n",
            "SRR8426372_1.fastq. 100%[===================>]   2.22G  36.0MB/s    in 65s     \n",
            "\n",
            "2023-03-09 20:12:35 (35.2 MB/s) - ‘SRR8426372_1.fastq.gz’ saved [2389120304]\n",
            "\n",
            "--2023-03-09 20:12:35--  ftp://ftp.sra.ebi.ac.uk/vol1/fastq/SRR842/002/SRR8426372/SRR8426372_2.fastq.gz\n",
            "           => ‘SRR8426372_2.fastq.gz’\n",
            "Resolving ftp.sra.ebi.ac.uk (ftp.sra.ebi.ac.uk)... 193.62.193.138\n",
            "Connecting to ftp.sra.ebi.ac.uk (ftp.sra.ebi.ac.uk)|193.62.193.138|:21... connected.\n",
            "Logging in as anonymous ... Logged in!\n",
            "==> SYST ... done.    ==> PWD ... done.\n",
            "==> TYPE I ... done.  ==> CWD (1) /vol1/fastq/SRR842/002/SRR8426372 ... done.\n",
            "==> SIZE SRR8426372_2.fastq.gz ... 3208503807\n",
            "==> PASV ... done.    ==> RETR SRR8426372_2.fastq.gz ... done.\n",
            "Length: 3208503807 (3.0G) (unauthoritative)\n",
            "\n",
            "SRR8426372_2.fastq. 100%[===================>]   2.99G  36.3MB/s    in 2m 51s  \n",
            "\n",
            "2023-03-09 20:15:27 (17.9 MB/s) - ‘SRR8426372_2.fastq.gz’ saved [3208503807]\n",
            "\n"
          ]
        }
      ],
      "source": [
        "# Download the data from the ENA for a 3-month mouse\n",
        "# This step should take 5-10mins\n",
        "!wget --continue ftp://ftp.sra.ebi.ac.uk/vol1/fastq/SRR842/002/SRR8426372/SRR8426372_1.fastq.gz\n",
        "!wget --continue ftp://ftp.sra.ebi.ac.uk/vol1/fastq/SRR842/002/SRR8426372/SRR8426372_2.fastq.gz"
      ]
    },
    {
      "cell_type": "markdown",
      "metadata": {
        "id": "48o3Q_8v2o72"
      },
      "source": [
        "Download a kallisto index \n"
      ]
    },
    {
      "cell_type": "code",
      "execution_count": null,
      "metadata": {
        "colab": {
          "base_uri": "https://localhost:8080/"
        },
        "id": "HDmVMTbs3BSV",
        "outputId": "1e2db385-78b3-4868-f108-fc039f9d6f8a"
      },
      "outputs": [
        {
          "output_type": "stream",
          "name": "stdout",
          "text": [
            "[2023-03-09 20:15:30,983]    INFO [download] Downloading files for mouse from https://caltech.box.com/shared/static/vcaz6cujop0xuapdmz0pplp3aoqc41si.gz to tmp/vcaz6cujop0xuapdmz0pplp3aoqc41si.gz\n",
            "100% 1.89G/1.89G [03:27<00:00, 9.78MB/s]\n",
            "[2023-03-09 20:18:58,452]    INFO [download] Extracting files from tmp/vcaz6cujop0xuapdmz0pplp3aoqc41si.gz\n"
          ]
        }
      ],
      "source": [
        "!kb ref -d mouse -i index.idx -g t2g.txt -f1 transcriptome.fasta"
      ]
    },
    {
      "cell_type": "markdown",
      "metadata": {
        "id": "Yoezewx53Os4"
      },
      "source": [
        "Generate the cell x gene count matrix"
      ]
    },
    {
      "cell_type": "code",
      "execution_count": null,
      "metadata": {
        "colab": {
          "base_uri": "https://localhost:8080/"
        },
        "id": "RtJ_aet53CE8",
        "outputId": "1882825e-c78b-439e-f84d-8ee88e1f8336"
      },
      "outputs": [
        {
          "output_type": "stream",
          "name": "stdout",
          "text": [
            "[2023-03-09 20:19:39,755]    INFO [count] Using index index.idx to generate BUS file to output from\n",
            "[2023-03-09 20:19:39,755]    INFO [count]         SRR8426372_1.fastq.gz\n",
            "[2023-03-09 20:19:39,755]    INFO [count]         SRR8426372_2.fastq.gz\n",
            "[2023-03-09 20:28:05,778]    INFO [count] Sorting BUS file output/output.bus to output/tmp/output.s.bus\n",
            "[2023-03-09 20:28:22,553]    INFO [count] Whitelist not provided\n",
            "[2023-03-09 20:28:22,553]    INFO [count] Generating whitelist output/whitelist.txt from BUS file output/tmp/output.s.bus\n",
            "[2023-03-09 20:28:23,664]    INFO [count] Inspecting BUS file output/tmp/output.s.bus\n",
            "[2023-03-09 20:28:24,974]    INFO [count] Correcting BUS records in output/tmp/output.s.bus to output/tmp/output.s.c.bus with whitelist output/whitelist.txt\n",
            "[2023-03-09 20:28:28,098]    INFO [count] Sorting BUS file output/tmp/output.s.c.bus to output/output.unfiltered.bus\n",
            "[2023-03-09 20:28:34,174]    INFO [count] Generating count matrix output/counts_unfiltered/cells_x_genes from BUS file output/output.unfiltered.bus\n",
            "[2023-03-09 20:28:38,247]    INFO [count] Reading matrix output/counts_unfiltered/cells_x_genes.mtx\n",
            "[2023-03-09 20:28:39,434]    INFO [count] Writing matrix to h5ad output/counts_unfiltered/adata.h5ad\n",
            "[2023-03-09 20:28:39,542]    INFO [count] Filtering with bustools\n",
            "[2023-03-09 20:28:39,542]    INFO [count] Generating whitelist output/filter_barcodes.txt from BUS file output/output.unfiltered.bus\n",
            "[2023-03-09 20:28:40,654]    INFO [count] Correcting BUS records in output/output.unfiltered.bus to output/tmp/output.unfiltered.c.bus with whitelist output/filter_barcodes.txt\n",
            "[2023-03-09 20:28:43,207]    INFO [count] Sorting BUS file output/tmp/output.unfiltered.c.bus to output/output.filtered.bus\n",
            "[2023-03-09 20:28:48,645]    INFO [count] Generating count matrix output/counts_filtered/cells_x_genes from BUS file output/output.filtered.bus\n",
            "[2023-03-09 20:28:52,212]    INFO [count] Reading matrix output/counts_filtered/cells_x_genes.mtx\n",
            "[2023-03-09 20:28:53,661]    INFO [count] Writing matrix to h5ad output/counts_filtered/adata.h5ad\n",
            "CPU times: user 3.28 s, sys: 494 ms, total: 3.77 s\n",
            "Wall time: 9min 20s\n"
          ]
        }
      ],
      "source": [
        "# This command processes previously downloaded data\n",
        "# This step should take ~11mins\n",
        "%%time\n",
        "!kb count --h5ad -i index.idx -g t2g.txt -x Dropseq -o output --filter bustools -t 2 \\\n",
        "SRR8426372_1.fastq.gz \\\n",
        "SRR8426372_2.fastq.gz\n"
      ]
    },
    {
      "cell_type": "markdown",
      "metadata": {
        "id": "swY2nSDukmXg"
      },
      "source": [
        "**The dataset**"
      ]
    },
    {
      "cell_type": "markdown",
      "metadata": {
        "id": "NKSN3bu8cQ3O"
      },
      "source": [
        "This is a Drop-seq based single-cell RNA-seq dataset produced from tissue extracted from the whole mouse lung, published by [Ilias Angelidis, Lukas M. Simon et al. 2019](https://www.nature.com/articles/s41467-019-08831-9). In the study single-cell suspensions were generated from eight 3-month old mice and seven 24-month old mice and looked for cell type specific effects of aging between the mice i.e. to create a single-cell atlas of the aging lung. \n",
        "\n",
        "For Part a we will only be working with one sample from a 3-month old mouse (though in Parts b-d you will work with the full dataset across both ages and all mice)."
      ]
    },
    {
      "cell_type": "markdown",
      "metadata": {
        "id": "Q1E4wbXtSsJN"
      },
      "source": [
        "<center><img src=\"https://drive.google.com/uc?export=view&id=1O_x3hmDDes7foQVVLcoZVasrVED1L0Al\" alt=\"EMFigure\" width=\"900\" height=\"150\"><center>"
      ]
    },
    {
      "cell_type": "markdown",
      "metadata": {
        "id": "58nQkH9eko4-"
      },
      "source": [
        "**The count matrix**\n",
        "\n",
        "This matrix is 3,839 cells by 55,421 genes for one lung sample from a 3-month old mouse.\n",
        "\n",
        "\n"
      ]
    },
    {
      "cell_type": "code",
      "execution_count": null,
      "metadata": {
        "id": "3_s_MyJp3dj9"
      },
      "outputs": [],
      "source": [
        "# load the raw cell x gene count matrix\n",
        "adata = anndata.read_h5ad(\"output/counts_unfiltered/adata.h5ad\") #This is the output from kb\n",
        "adata.var[\"gene_id\"] = adata.var.index.values\n",
        "\n",
        "t2g = pd.read_csv(\"t2g.txt\", header=None, names=[\"tid\", \"gene_id\", \"gene_name\"], sep=\"\\t\") #Load the transcipt-to-gene name mapping (t2g)\n",
        "t2g.index = t2g.gene_id\n",
        "t2g = t2g.loc[~t2g.index.duplicated(keep='first')]\n",
        "\n",
        "adata.var[\"gene_name\"] = adata.var.gene_id.map(t2g[\"gene_name\"])\n",
        "adata.var.index = adata.var[\"gene_name\"]"
      ]
    },
    {
      "cell_type": "code",
      "execution_count": null,
      "metadata": {
        "colab": {
          "base_uri": "https://localhost:8080/"
        },
        "id": "5tLkEyK3z0GX",
        "outputId": "8fdc790d-1de2-4041-9aab-8dbb7a0cef62"
      },
      "outputs": [
        {
          "output_type": "execute_result",
          "data": {
            "text/plain": [
              "AnnData object with n_obs × n_vars = 3839 × 55421\n",
              "    var: 'gene_name', 'gene_id'"
            ]
          },
          "metadata": {},
          "execution_count": 9
        }
      ],
      "source": [
        "adata"
      ]
    },
    {
      "cell_type": "code",
      "execution_count": null,
      "metadata": {
        "colab": {
          "base_uri": "https://localhost:8080/"
        },
        "id": "tegjqi-7rsoq",
        "outputId": "82f38d00-b2c1-4522-b6ba-a624cd7eaf41"
      },
      "outputs": [
        {
          "output_type": "execute_result",
          "data": {
            "text/plain": [
              "(3839, 55421)"
            ]
          },
          "metadata": {},
          "execution_count": 10
        }
      ],
      "source": [
        "count_mat = adata.X #Get the count matrix from this anndata object\n",
        "count_mat.shape"
      ]
    },
    {
      "cell_type": "markdown",
      "metadata": {
        "id": "beHUeEQ0PYnj"
      },
      "source": [
        "**Use this count_mat for Part a.**"
      ]
    },
    {
      "cell_type": "markdown",
      "metadata": {
        "id": "ICnf8oOmNTOy"
      },
      "source": [
        "# **a) Pre-processing: Select real/valid cells i.e. cells that pass a UMI count threshold based on the commonly used 'Knee plot'. (10 points)**"
      ]
    },
    {
      "cell_type": "markdown",
      "metadata": {
        "id": "HTIoUbKGN5UD"
      },
      "source": [
        "Knee plots (described below) are commonly used to filter out cell barcodes that likely correspond to empty droplets that were captured or noisy samples that may be just random transcripts that were picked up in the droplet. We want to only keep cell barcodes that seem to have high enough UMI counts (i.e. molecules detected) which suggest that a real cell was captured in that droplet."
      ]
    },
    {
      "cell_type": "markdown",
      "metadata": {
        "id": "ufFe0UnuOZt9"
      },
      "source": [
        "**To construct a knee plot** we (1) rank cells in *descending* order of their total UMI counts (UMI counts summed across genes). The cell rankings are plotted on the x axis (1 to n cells). On the y-axis we (2) plot the total UMI count of each cell. Thus as we move across the x-axis from left to right, the right end of the plot displays cells with very few UMI counts (noisy/empty droplets to possibly remove from analysis). Often the x and y axis are plotted in a log-log plot."
      ]
    },
    {
      "cell_type": "markdown",
      "metadata": {
        "id": "iQgUATd4O2dT"
      },
      "source": [
        "The inflection point of the graph denotes a separation/drop between the lefthand side of the plot where cell barcodes have high UMI counts and the righthand side where cell barcodes have low associated UMI counts (and are thus considered to have had failure in capture and/or to be too noisy for further analysis.)"
      ]
    },
    {
      "cell_type": "markdown",
      "metadata": {
        "id": "ffP0IA4wQKYQ"
      },
      "source": [
        "**(1) Make one knee plot for the 3,839 cells (which are the cell barcodes) and their total UMI counts across the 55,421 genes (in a log-log plot). (2) Describe what UMI threshold you might use to filter out noisy cell barcodes based on the plot.**"
      ]
    },
    {
      "cell_type": "code",
      "execution_count": null,
      "metadata": {
        "id": "wjOR_hLaPqyx"
      },
      "outputs": [],
      "source": []
    },
    {
      "cell_type": "code",
      "execution_count": null,
      "metadata": {
        "id": "mKX2DOqkTnWh"
      },
      "outputs": [],
      "source": []
    },
    {
      "cell_type": "markdown",
      "metadata": {
        "id": "OQDAIuPCQze5"
      },
      "source": [
        "# **Read in data for Parts b-d analysis**"
      ]
    },
    {
      "cell_type": "markdown",
      "metadata": {
        "id": "XGPCUCKaTt0R"
      },
      "source": [
        "For Parts b-d you will be using the full gene count matrix across the 3-month and 24-month mouse cells combined, as provided in the original paper, which is 14,813 cells × 21,969 genes. We will filter for the top 2000 highly variable genes, so that you can use this matrix within the Colab environment. (Downloaded below)"
      ]
    },
    {
      "cell_type": "code",
      "execution_count": null,
      "metadata": {
        "colab": {
          "base_uri": "https://localhost:8080/"
        },
        "id": "luQCozWsMUVI",
        "outputId": "af3d1c3d-c2a6-4eb7-f52f-4fda03d4d01b"
      },
      "outputs": [
        {
          "output_type": "stream",
          "name": "stdout",
          "text": [
            "--2023-03-09 20:28:55--  https://ftp.ncbi.nlm.nih.gov/geo/series/GSE124nnn/GSE124872/suppl/GSE124872_raw_counts_single_cell.mtx.gz\n",
            "Resolving ftp.ncbi.nlm.nih.gov (ftp.ncbi.nlm.nih.gov)... 130.14.250.13, 130.14.250.11, 2607:f220:41f:250::230, ...\n",
            "Connecting to ftp.ncbi.nlm.nih.gov (ftp.ncbi.nlm.nih.gov)|130.14.250.13|:443... connected.\n",
            "HTTP request sent, awaiting response... 200 OK\n",
            "Length: 20074662 (19M) [application/x-gzip]\n",
            "Saving to: ‘GSE124872_raw_counts_single_cell.mtx.gz’\n",
            "\n",
            "GSE124872_raw_count 100%[===================>]  19.14M  29.4MB/s    in 0.7s    \n",
            "\n",
            "2023-03-09 20:28:56 (29.4 MB/s) - ‘GSE124872_raw_counts_single_cell.mtx.gz’ saved [20074662/20074662]\n",
            "\n"
          ]
        }
      ],
      "source": [
        "#Read in full cell x gene count matrix for 3 and 24 month old mice lung samples\n",
        "!wget --content-disposition https://ftp.ncbi.nlm.nih.gov/geo/series/GSE124nnn/GSE124872/suppl/GSE124872_raw_counts_single_cell.mtx.gz"
      ]
    },
    {
      "cell_type": "code",
      "execution_count": null,
      "metadata": {
        "colab": {
          "base_uri": "https://localhost:8080/"
        },
        "id": "PQsw10rIMUVI",
        "outputId": "b57007e2-bc1f-4121-ad79-eb20fb4498b3"
      },
      "outputs": [
        {
          "output_type": "stream",
          "name": "stdout",
          "text": [
            "--2023-03-09 20:28:56--  https://ftp.ncbi.nlm.nih.gov/geo/series/GSE124nnn/GSE124872/suppl/GSE124872_Angelidis_2018_metadata.csv.gz\n",
            "Resolving ftp.ncbi.nlm.nih.gov (ftp.ncbi.nlm.nih.gov)... 130.14.250.13, 130.14.250.11, 2607:f220:41f:250::230, ...\n",
            "Connecting to ftp.ncbi.nlm.nih.gov (ftp.ncbi.nlm.nih.gov)|130.14.250.13|:443... connected.\n",
            "HTTP request sent, awaiting response... 200 OK\n",
            "Length: 188271 (184K) [application/x-gzip]\n",
            "Saving to: ‘GSE124872_Angelidis_2018_metadata.csv.gz’\n",
            "\n",
            "\r          GSE124872   0%[                    ]       0  --.-KB/s               \rGSE124872_Angelidis 100%[===================>] 183.86K  --.-KB/s    in 0.01s   \n",
            "\n",
            "2023-03-09 20:28:56 (17.4 MB/s) - ‘GSE124872_Angelidis_2018_metadata.csv.gz’ saved [188271/188271]\n",
            "\n"
          ]
        }
      ],
      "source": [
        "#Read in cell metadata\n",
        "!wget --content-disposition https://ftp.ncbi.nlm.nih.gov/geo/series/GSE124nnn/GSE124872/suppl/GSE124872_Angelidis_2018_metadata.csv.gz"
      ]
    },
    {
      "cell_type": "code",
      "execution_count": null,
      "metadata": {
        "id": "X0H4GbBIMUVJ"
      },
      "outputs": [],
      "source": [
        "!gunzip GSE124872_Angelidis_2018_metadata.csv.gz\n",
        "!gunzip GSE124872_raw_counts_single_cell.mtx.gz"
      ]
    },
    {
      "cell_type": "markdown",
      "metadata": {
        "id": "6XidblsX0BcX"
      },
      "source": [
        "Read in metadata of cells: \"grouping\" denotes the age (3m - 3 month, 24m - 24 month) and \"celltype\" denotes the cell type e.g. Plasma_cells"
      ]
    },
    {
      "cell_type": "code",
      "execution_count": null,
      "metadata": {
        "colab": {
          "base_uri": "https://localhost:8080/",
          "height": 270
        },
        "id": "00wWx2nxqZat",
        "outputId": "2dd213a7-1994-4c37-a706-3ce02e2a0308"
      },
      "outputs": [
        {
          "output_type": "execute_result",
          "data": {
            "text/plain": [
              "                     Unnamed: 0  nGene   nUMI orig.ident identifier  res.2  \\\n",
              "0  muc3838:muc3838:TTCCGTGCCCCT   4255  10691     merged    muc3838      2   \n",
              "1  muc3838:muc3838:TTGCCCAATTAA   3178   6860     merged    muc3838      2   \n",
              "2  muc3838:muc3838:AAGCCCAGCTAT   1470   6127     merged    muc3838     24   \n",
              "3  muc3838:muc3838:GCACTTTAGAAT   2348   4359     merged    muc3838      2   \n",
              "4  muc3838:muc3838:TCCTGCTCCCTT   2439   5293     merged    muc3838      2   \n",
              "\n",
              "  identifier.1  name grouping batch  cells    cluster        celltype  \n",
              "0      muc3838   NaN      24m  good    800   cluster2  Ciliated_cells  \n",
              "1      muc3838   NaN      24m  good    800   cluster2  Ciliated_cells  \n",
              "2      muc3838   NaN      24m  good    800  cluster24    Plasma_cells  \n",
              "3      muc3838   NaN      24m  good    800   cluster2  Ciliated_cells  \n",
              "4      muc3838   NaN      24m  good    800   cluster2  Ciliated_cells  "
            ],
            "text/html": [
              "\n",
              "  <div id=\"df-f4eaf4b1-f7ff-4621-b313-c5af61b47afd\">\n",
              "    <div class=\"colab-df-container\">\n",
              "      <div>\n",
              "<style scoped>\n",
              "    .dataframe tbody tr th:only-of-type {\n",
              "        vertical-align: middle;\n",
              "    }\n",
              "\n",
              "    .dataframe tbody tr th {\n",
              "        vertical-align: top;\n",
              "    }\n",
              "\n",
              "    .dataframe thead th {\n",
              "        text-align: right;\n",
              "    }\n",
              "</style>\n",
              "<table border=\"1\" class=\"dataframe\">\n",
              "  <thead>\n",
              "    <tr style=\"text-align: right;\">\n",
              "      <th></th>\n",
              "      <th>Unnamed: 0</th>\n",
              "      <th>nGene</th>\n",
              "      <th>nUMI</th>\n",
              "      <th>orig.ident</th>\n",
              "      <th>identifier</th>\n",
              "      <th>res.2</th>\n",
              "      <th>identifier.1</th>\n",
              "      <th>name</th>\n",
              "      <th>grouping</th>\n",
              "      <th>batch</th>\n",
              "      <th>cells</th>\n",
              "      <th>cluster</th>\n",
              "      <th>celltype</th>\n",
              "    </tr>\n",
              "  </thead>\n",
              "  <tbody>\n",
              "    <tr>\n",
              "      <th>0</th>\n",
              "      <td>muc3838:muc3838:TTCCGTGCCCCT</td>\n",
              "      <td>4255</td>\n",
              "      <td>10691</td>\n",
              "      <td>merged</td>\n",
              "      <td>muc3838</td>\n",
              "      <td>2</td>\n",
              "      <td>muc3838</td>\n",
              "      <td>NaN</td>\n",
              "      <td>24m</td>\n",
              "      <td>good</td>\n",
              "      <td>800</td>\n",
              "      <td>cluster2</td>\n",
              "      <td>Ciliated_cells</td>\n",
              "    </tr>\n",
              "    <tr>\n",
              "      <th>1</th>\n",
              "      <td>muc3838:muc3838:TTGCCCAATTAA</td>\n",
              "      <td>3178</td>\n",
              "      <td>6860</td>\n",
              "      <td>merged</td>\n",
              "      <td>muc3838</td>\n",
              "      <td>2</td>\n",
              "      <td>muc3838</td>\n",
              "      <td>NaN</td>\n",
              "      <td>24m</td>\n",
              "      <td>good</td>\n",
              "      <td>800</td>\n",
              "      <td>cluster2</td>\n",
              "      <td>Ciliated_cells</td>\n",
              "    </tr>\n",
              "    <tr>\n",
              "      <th>2</th>\n",
              "      <td>muc3838:muc3838:AAGCCCAGCTAT</td>\n",
              "      <td>1470</td>\n",
              "      <td>6127</td>\n",
              "      <td>merged</td>\n",
              "      <td>muc3838</td>\n",
              "      <td>24</td>\n",
              "      <td>muc3838</td>\n",
              "      <td>NaN</td>\n",
              "      <td>24m</td>\n",
              "      <td>good</td>\n",
              "      <td>800</td>\n",
              "      <td>cluster24</td>\n",
              "      <td>Plasma_cells</td>\n",
              "    </tr>\n",
              "    <tr>\n",
              "      <th>3</th>\n",
              "      <td>muc3838:muc3838:GCACTTTAGAAT</td>\n",
              "      <td>2348</td>\n",
              "      <td>4359</td>\n",
              "      <td>merged</td>\n",
              "      <td>muc3838</td>\n",
              "      <td>2</td>\n",
              "      <td>muc3838</td>\n",
              "      <td>NaN</td>\n",
              "      <td>24m</td>\n",
              "      <td>good</td>\n",
              "      <td>800</td>\n",
              "      <td>cluster2</td>\n",
              "      <td>Ciliated_cells</td>\n",
              "    </tr>\n",
              "    <tr>\n",
              "      <th>4</th>\n",
              "      <td>muc3838:muc3838:TCCTGCTCCCTT</td>\n",
              "      <td>2439</td>\n",
              "      <td>5293</td>\n",
              "      <td>merged</td>\n",
              "      <td>muc3838</td>\n",
              "      <td>2</td>\n",
              "      <td>muc3838</td>\n",
              "      <td>NaN</td>\n",
              "      <td>24m</td>\n",
              "      <td>good</td>\n",
              "      <td>800</td>\n",
              "      <td>cluster2</td>\n",
              "      <td>Ciliated_cells</td>\n",
              "    </tr>\n",
              "  </tbody>\n",
              "</table>\n",
              "</div>\n",
              "      <button class=\"colab-df-convert\" onclick=\"convertToInteractive('df-f4eaf4b1-f7ff-4621-b313-c5af61b47afd')\"\n",
              "              title=\"Convert this dataframe to an interactive table.\"\n",
              "              style=\"display:none;\">\n",
              "        \n",
              "  <svg xmlns=\"http://www.w3.org/2000/svg\" height=\"24px\"viewBox=\"0 0 24 24\"\n",
              "       width=\"24px\">\n",
              "    <path d=\"M0 0h24v24H0V0z\" fill=\"none\"/>\n",
              "    <path d=\"M18.56 5.44l.94 2.06.94-2.06 2.06-.94-2.06-.94-.94-2.06-.94 2.06-2.06.94zm-11 1L8.5 8.5l.94-2.06 2.06-.94-2.06-.94L8.5 2.5l-.94 2.06-2.06.94zm10 10l.94 2.06.94-2.06 2.06-.94-2.06-.94-.94-2.06-.94 2.06-2.06.94z\"/><path d=\"M17.41 7.96l-1.37-1.37c-.4-.4-.92-.59-1.43-.59-.52 0-1.04.2-1.43.59L10.3 9.45l-7.72 7.72c-.78.78-.78 2.05 0 2.83L4 21.41c.39.39.9.59 1.41.59.51 0 1.02-.2 1.41-.59l7.78-7.78 2.81-2.81c.8-.78.8-2.07 0-2.86zM5.41 20L4 18.59l7.72-7.72 1.47 1.35L5.41 20z\"/>\n",
              "  </svg>\n",
              "      </button>\n",
              "      \n",
              "  <style>\n",
              "    .colab-df-container {\n",
              "      display:flex;\n",
              "      flex-wrap:wrap;\n",
              "      gap: 12px;\n",
              "    }\n",
              "\n",
              "    .colab-df-convert {\n",
              "      background-color: #E8F0FE;\n",
              "      border: none;\n",
              "      border-radius: 50%;\n",
              "      cursor: pointer;\n",
              "      display: none;\n",
              "      fill: #1967D2;\n",
              "      height: 32px;\n",
              "      padding: 0 0 0 0;\n",
              "      width: 32px;\n",
              "    }\n",
              "\n",
              "    .colab-df-convert:hover {\n",
              "      background-color: #E2EBFA;\n",
              "      box-shadow: 0px 1px 2px rgba(60, 64, 67, 0.3), 0px 1px 3px 1px rgba(60, 64, 67, 0.15);\n",
              "      fill: #174EA6;\n",
              "    }\n",
              "\n",
              "    [theme=dark] .colab-df-convert {\n",
              "      background-color: #3B4455;\n",
              "      fill: #D2E3FC;\n",
              "    }\n",
              "\n",
              "    [theme=dark] .colab-df-convert:hover {\n",
              "      background-color: #434B5C;\n",
              "      box-shadow: 0px 1px 3px 1px rgba(0, 0, 0, 0.15);\n",
              "      filter: drop-shadow(0px 1px 2px rgba(0, 0, 0, 0.3));\n",
              "      fill: #FFFFFF;\n",
              "    }\n",
              "  </style>\n",
              "\n",
              "      <script>\n",
              "        const buttonEl =\n",
              "          document.querySelector('#df-f4eaf4b1-f7ff-4621-b313-c5af61b47afd button.colab-df-convert');\n",
              "        buttonEl.style.display =\n",
              "          google.colab.kernel.accessAllowed ? 'block' : 'none';\n",
              "\n",
              "        async function convertToInteractive(key) {\n",
              "          const element = document.querySelector('#df-f4eaf4b1-f7ff-4621-b313-c5af61b47afd');\n",
              "          const dataTable =\n",
              "            await google.colab.kernel.invokeFunction('convertToInteractive',\n",
              "                                                     [key], {});\n",
              "          if (!dataTable) return;\n",
              "\n",
              "          const docLinkHtml = 'Like what you see? Visit the ' +\n",
              "            '<a target=\"_blank\" href=https://colab.research.google.com/notebooks/data_table.ipynb>data table notebook</a>'\n",
              "            + ' to learn more about interactive tables.';\n",
              "          element.innerHTML = '';\n",
              "          dataTable['output_type'] = 'display_data';\n",
              "          await google.colab.output.renderOutput(dataTable, element);\n",
              "          const docLink = document.createElement('div');\n",
              "          docLink.innerHTML = docLinkHtml;\n",
              "          element.appendChild(docLink);\n",
              "        }\n",
              "      </script>\n",
              "    </div>\n",
              "  </div>\n",
              "  "
            ]
          },
          "metadata": {},
          "execution_count": 14
        }
      ],
      "source": [
        "meta = pd.read_csv('GSE124872_Angelidis_2018_metadata.csv')\n",
        "meta.head()"
      ]
    },
    {
      "cell_type": "markdown",
      "metadata": {
        "id": "t1yZZZYuMiEO"
      },
      "source": [
        "**The dataset**"
      ]
    },
    {
      "cell_type": "markdown",
      "metadata": {
        "id": "zZ59i_izMiEO"
      },
      "source": [
        "This is a Drop-seq based single-cell RNA-seq dataset produced from tissue extracted from the whole mouse lung, published by [Ilias Angelidis, Lukas M. Simon et al. 2019](https://www.nature.com/articles/s41467-019-08831-9). In the study single-cell suspensions were generated from eight 3-month old mice and seven 24-month old mice and looked for cell type specific effects of aging between the mice i.e. to create a single-cell atlas of the aging lung. \n",
        "\n",
        "For Parts b-c we will only be working with the full dataset across both ages and all mice."
      ]
    },
    {
      "cell_type": "markdown",
      "metadata": {
        "id": "WGSuxY1SMiEP"
      },
      "source": [
        "<center><img src=\"https://drive.google.com/uc?export=view&id=1O_x3hmDDes7foQVVLcoZVasrVED1L0Al\" alt=\"EMFigure\" width=\"900\" height=\"150\"><center>"
      ]
    },
    {
      "cell_type": "markdown",
      "metadata": {
        "id": "nAzghRuSMiEP"
      },
      "source": [
        "**The count matrix**\n",
        "\n",
        "This matrix is 14,813 cells by 21,969 genes across all mouse lung samples as provided in Ilias Angelidis, Lukas M. Simon et al. 2019.\n",
        "\n",
        "\n"
      ]
    },
    {
      "cell_type": "markdown",
      "metadata": {
        "id": "9SGWfbirV8ne"
      },
      "source": [
        "Read in count matrix"
      ]
    },
    {
      "cell_type": "code",
      "execution_count": null,
      "metadata": {
        "colab": {
          "base_uri": "https://localhost:8080/"
        },
        "id": "h3NQrR1zWFqp",
        "outputId": "d49a6df6-1638-449d-e825-65e112645bae"
      },
      "outputs": [
        {
          "output_type": "execute_result",
          "data": {
            "text/plain": [
              "(14813, 21969)"
            ]
          },
          "metadata": {},
          "execution_count": 15
        }
      ],
      "source": [
        "import scipy.io as sio\n",
        "count_mat = sio.mmread('GSE124872_raw_counts_single_cell.mtx')\n",
        "count_mat = count_mat.todense().T\n",
        "count_mat.shape"
      ]
    },
    {
      "cell_type": "code",
      "execution_count": null,
      "metadata": {
        "id": "2iimKfnAgxYo"
      },
      "outputs": [],
      "source": []
    },
    {
      "cell_type": "markdown",
      "metadata": {
        "id": "I_De9ShHWJo-"
      },
      "source": [
        "Select for top 2000 highly variable genes"
      ]
    },
    {
      "cell_type": "code",
      "execution_count": null,
      "metadata": {
        "colab": {
          "base_uri": "https://localhost:8080/"
        },
        "id": "dpOyRjceWMOd",
        "outputId": "4ffeb88a-36a3-4452-c7d8-969a85c0ea4a"
      },
      "outputs": [
        {
          "output_type": "stream",
          "name": "stderr",
          "text": [
            "<ipython-input-16-38e5e6fbe268>:2: FutureWarning: X.dtype being converted to np.float32 from int64. In the next version of anndata (0.9) conversion will not be automatic. Pass dtype explicitly to avoid this warning. Pass `AnnData(X, dtype=X.dtype, ...)` to get the future behavour.\n",
            "  adata = anndata.AnnData(X = count_mat)\n"
          ]
        },
        {
          "output_type": "execute_result",
          "data": {
            "text/plain": [
              "AnnData object with n_obs × n_vars = 14813 × 21969"
            ]
          },
          "metadata": {},
          "execution_count": 16
        }
      ],
      "source": [
        "#Anndata is a common data type for processing and storing single-cell count matrices\n",
        "adata = anndata.AnnData(X = count_mat)\n",
        "adata"
      ]
    },
    {
      "cell_type": "code",
      "execution_count": null,
      "metadata": {
        "id": "uxZCUq45i_NJ"
      },
      "outputs": [],
      "source": [
        "#Select the 'highly variable' genes in the matrix so we don't use 21k genes\n",
        "sc.pp.filter_cells(adata, min_counts=0)\n",
        "sc.pp.filter_genes(adata, min_counts=0)\n",
        "\n",
        "sc.pp.normalize_per_cell(adata, counts_per_cell_after=1e4) #Cell-size normalization\n",
        "sc.pp.log1p(adata) #log-variance stabilization\n",
        "\n",
        "sc.pp.highly_variable_genes(adata,n_top_genes=2000)\n",
        "\n",
        "genesToKeep = adata.var['highly_variable']"
      ]
    },
    {
      "cell_type": "code",
      "execution_count": null,
      "metadata": {
        "colab": {
          "base_uri": "https://localhost:8080/"
        },
        "id": "SkQSSLeoWMUm",
        "outputId": "31d9879f-afaf-475b-cc06-e2cf126d8dbe"
      },
      "outputs": [
        {
          "output_type": "execute_result",
          "data": {
            "text/plain": [
              "(14813, 2000)"
            ]
          },
          "metadata": {},
          "execution_count": 18
        }
      ],
      "source": [
        "#Subset original count matrix\n",
        "count_mat = count_mat[:,genesToKeep]\n",
        "count_mat.shape"
      ]
    },
    {
      "cell_type": "markdown",
      "metadata": {
        "id": "fq77aUyOlNds"
      },
      "source": [
        "**Use this 14813 × 2000 count_mat matrix as your count matrix for parts b-d**"
      ]
    },
    {
      "cell_type": "code",
      "execution_count": null,
      "metadata": {
        "id": "b5cWWScjWVUP"
      },
      "outputs": [],
      "source": []
    },
    {
      "cell_type": "markdown",
      "metadata": {
        "id": "SxubBCf6NROW"
      },
      "source": [
        "# **b) Normalization (10 points)**"
      ]
    },
    {
      "cell_type": "markdown",
      "metadata": {
        "id": "9M9Gi7mki9bF"
      },
      "source": [
        "Note that we use cell size normalization and then log1p to transform data before selecting highly variable genes, and then we use the indices to subset the raw count matrix. Therefore, the count_mat matrix here is the raw count matrix. \n",
        "\n",
        "In this part, you will do size-normalization and log1p transformations yourself. For size-normalization, normalize the data matrix to 10,000 reads per cell.\n",
        "\n",
        "**Report both the raw count matrix and the normalized matrix (that is size-normalized and then log1p transformed).**"
      ]
    },
    {
      "cell_type": "code",
      "source": [
        "raw = "
      ],
      "metadata": {
        "id": "D7Mudn5AQ647"
      },
      "execution_count": null,
      "outputs": []
    },
    {
      "cell_type": "code",
      "source": [
        "normalize = "
      ],
      "metadata": {
        "id": "7mBQgJlyQ9ry"
      },
      "execution_count": null,
      "outputs": []
    },
    {
      "cell_type": "markdown",
      "metadata": {
        "id": "Fef1K_WBMmQ4"
      },
      "source": [
        "# **c) Clustering (20 points)**"
      ]
    },
    {
      "cell_type": "markdown",
      "source": [
        "In this part, we will do K-means clustering on 4 different count matrices:\n",
        "1. Raw count matix\n",
        "2. Raw count matrix transformed by the first 15 principal components\n",
        "3. Normalized count matix\n",
        "4. Normalized count matix transformed by the first 15 principal components"
      ],
      "metadata": {
        "id": "rHv-fvOcVcD9"
      }
    },
    {
      "cell_type": "markdown",
      "source": [
        "You will use sklearn for PCA and [KMeans](https://scikit-learn.org/stable/modules/generated/sklearn.cluster.KMeans.html#sklearn.cluster.KMeans.fit_predict) clustering. **Set the cluster number k to 10 and random_state to 0 when using KMeans.**\n",
        "\n",
        "Below is an example from sklearn"
      ],
      "metadata": {
        "id": "nkSjyzITVzTf"
      }
    },
    {
      "cell_type": "code",
      "source": [
        "from sklearn.cluster import KMeans\n",
        "from sklearn.decomposition import PCA\n",
        "\n",
        "X = np.array([[1, 2], [1, 4], [1, 0],\n",
        "               [10, 2], [10, 4], [10, \n",
        "                                  0]])\n",
        "kmeans = KMeans(n_clusters=2, random_state=0).fit(X)\n",
        "kmeans.labels_"
      ],
      "metadata": {
        "colab": {
          "base_uri": "https://localhost:8080/"
        },
        "id": "SVDZrPjVVjH1",
        "outputId": "18d03ca4-3534-4eb6-9aac-7250615eacf9"
      },
      "execution_count": null,
      "outputs": [
        {
          "output_type": "stream",
          "name": "stderr",
          "text": [
            "/usr/local/lib/python3.9/dist-packages/sklearn/cluster/_kmeans.py:870: FutureWarning: The default value of `n_init` will change from 10 to 'auto' in 1.4. Set the value of `n_init` explicitly to suppress the warning\n",
            "  warnings.warn(\n"
          ]
        },
        {
          "output_type": "execute_result",
          "data": {
            "text/plain": [
              "array([1, 1, 1, 0, 0, 0], dtype=int32)"
            ]
          },
          "metadata": {},
          "execution_count": 19
        }
      ]
    },
    {
      "cell_type": "markdown",
      "source": [
        "**For each of the four clustering results, compare the k-means cluster assignments to the given cell types in meta data. Report the majority, 'true' cell type in each k-means cluster, and the proportion of cells that are that majority in each k-means cluster.**\n",
        "\n",
        "**For the two clusterings done in 15 dimensional PCA space, also plot the transformed data in 2D (only the first 2 transformed coordinates) colored by corresponding k-means clusters (which was done in the 15D PCA-space). Comment on the differences between the two plots.**"
      ],
      "metadata": {
        "id": "2WLLcEtmhyf0"
      }
    },
    {
      "cell_type": "markdown",
      "metadata": {
        "id": "4luzBqqrMElW"
      },
      "source": [
        "# **d) Age prediction (60 points)**\n",
        "\n",
        "In their work, [Ilias Angelidis, Lukas M. Simon et al.](https://www.nature.com/articles/s41467-019-08831-9) found that the gene expression pattern for some cell types were different between the two age groups (3 months and 24 months), as shown in the figure below. In the figure below, the x-axis represent different genes and the y-axis represent different cell types, with each color bar representing the logarithm of the fold change in expression level between old and young cells for a particular genes in a particular cell type. Inspired by this result, we will build classification models (using normalized counts) and test how well they can predict the age of a mouse based on the gene expression profile of a single cell.\n",
        "\n",
        "<center><img src=\"https://drive.google.com/uc?export=view&id=17gt0rkWzJmh11GPw6ipehM6miiGTD86e\" alt=\"EMFigure\" width=\"550\" height=\"500\"><center>"
      ]
    },
    {
      "cell_type": "markdown",
      "source": [
        "We will compare the predictive power of two different classes of models: (1) logistic regression and (2) neural network. For each class, we will fit a model using gene expression data from a single cell type to predict the age (3m or 24m) of the mouse from which the cell was taken."
      ],
      "metadata": {
        "id": "jZVB11fIt-3P"
      }
    },
    {
      "cell_type": "markdown",
      "metadata": {
        "id": "5dqq9VguaP-J"
      },
      "source": [
        "**i) From the given information, what cell type would you choose to build a predictive model of mouse age? Explain your reasoning (10 points)**"
      ]
    },
    {
      "cell_type": "markdown",
      "source": [
        "**Your Answer Here:** \n",
        "\n",
        "\n",
        "\n"
      ],
      "metadata": {
        "id": "9qHuBsWy4xhb"
      }
    },
    {
      "cell_type": "markdown",
      "source": [
        "To standardize the workflow, we will consider just two cell types: \n",
        "\n",
        "(1) 'Alveolar_macrophage' (AM)\n",
        "\n",
        "(2) 'Type_2_pneumocytes' (T2P) \n",
        "\n",
        "For the rest of the question, you will build a total of **4** models: \n",
        "\n",
        "1.   logistic regression using alveolar macrophage \n",
        "2.   logistic regression using type II pneumocytes \n",
        "3.   neural network using alveolar macrophage\n",
        "4.   neural network using type II pneumocytes"
      ],
      "metadata": {
        "id": "p42bDqN0uCvA"
      }
    },
    {
      "cell_type": "markdown",
      "source": [
        "We first subset our **normalized count matrix** to get out count data for alveolar macrophages (AM) and type II pneumocytes (T2P) sampled from 3 months and 24 months mouse, as well as the corresponding age/label for each cell. AM_3m represents alveolar macrophages from a 3 months old mouse, T2P_24m represents type II pneumocytes from a 24 months old mouse. *Note that we are representing the age class '3m' using the integer 0 and the age class '24m' using the integer 1.*"
      ],
      "metadata": {
        "id": "-kY83NdUuGMg"
      }
    },
    {
      "cell_type": "code",
      "source": [
        "typename = 'Alveolar_macrophage'\n",
        "youngIndex = meta.grouping.isin(['3m'])*meta.celltype.isin([typename])\n",
        "oldIndex = meta.grouping.isin(['24m'])*meta.celltype.isin([typename])\n",
        "\n",
        "# we will assign the number 0 to the age class '3m' and 1 to the age class '24m'\n",
        "AM_3m = normalize[youngIndex,:]\n",
        "AM_3m_label = np.zeros(np.size(AM_3m,0))\n",
        "AM_24m = normalize[oldIndex,:]\n",
        "AM_24m_label = np.ones(np.size(AM_24m,0))\n",
        "\n",
        "typename = 'Type_2_pneumocytes'\n",
        "youngIndex = meta.grouping.isin(['3m'])*meta.celltype.isin([typename])\n",
        "oldIndex = meta.grouping.isin(['24m'])*meta.celltype.isin([typename])\n",
        "\n",
        "T2P_3m = normalize[youngIndex,:]\n",
        "T2P_3m_label = np.zeros(np.size(T2P_3m,0))\n",
        "T2P_24m = normalize[oldIndex,:]\n",
        "T2P_24m_label = np.ones(np.size(T2P_24m,0))"
      ],
      "metadata": {
        "id": "2174-TmsuIyg"
      },
      "execution_count": null,
      "outputs": []
    },
    {
      "cell_type": "markdown",
      "source": [
        "Next, we will split our data evenly into a training set and test set. To allow for a fair comparison between the two cell types, we will use the same number of cells for alveolar macrophage as type II pneumocytes. **Use the code block below to split the data for each cell type into a train set and a test set, make sure you split both the gene expression counts and the corresponding labels.** For both cell types, the training set will consist of the first 550 cells of the 3 month old mouse and the first 250 cells of the 24 month old, the test set will consist of the subsequent 550 cells of the 3 month old mouse and the subsequent 250 cells of the 24 month old mouse."
      ],
      "metadata": {
        "id": "tWvojPpluJ9c"
      }
    },
    {
      "cell_type": "code",
      "source": [
        "#properly subset the data and labels into these variables\n",
        "AM_train = # ENTER CODE HERE\n",
        "AM_trainlabel = # ENTER CODE HERE\n",
        "AM_test = # ENTER CODE HERE\n",
        "AM_testlabel = # ENTER CODE HERE\n",
        "\n",
        "T2P_train = # ENTER CODE HERE\n",
        "T2P_trainlabel = # ENTER CODE HERE\n",
        "T2P_test = # ENTER CODE HERE\n",
        "T2P_testlabel = # ENTER CODE HERE"
      ],
      "metadata": {
        "id": "HHLcYdstuNR-"
      },
      "execution_count": null,
      "outputs": []
    },
    {
      "cell_type": "markdown",
      "metadata": {
        "id": "22fr_rZvMJJA"
      },
      "source": [
        " **ii) Logistic regression models (10 points)**\n",
        "\n",
        " In this section, you will build a logistic regression model to classify mouse age and use it to predict the age of the mouse from the gene expression profile of a cell. Recall that with logistic regression we model a categorical variable (e.g. mouse age - 3m vs 24m) as a continuous value (i.e. the probability of being in the category). In our case, the independent variable will be the collection of count data across all 2000 genes and the dependent variable will be a binary variable, 0 or 1, representing whether the cell was from the 24 month old mouse."
      ]
    },
    {
      "cell_type": "markdown",
      "source": [
        "**For each cell type (AM and T2P), complete the code block below where you will need to:**\n",
        "\n",
        "1) fit a logistic regression model using the training set you created above (hint: you may need to change certain hyperparameter to get convergence)\n",
        "\n",
        "3) evaluating your logistic regression model on the corresponding test set (make sure to use the same cell type as you used to fit the model)\n",
        "\n",
        "4) report the test accuracy of your model as the percent of cells where the age of the mouse was correctly predicted by the model"
      ],
      "metadata": {
        "id": "3MSYvT0yuTjQ"
      }
    },
    {
      "cell_type": "code",
      "execution_count": null,
      "metadata": {
        "id": "4JZ-4qWDbsNz"
      },
      "outputs": [],
      "source": [
        "#Set up model for AM \n",
        "# ENTER CODE HERE\n",
        "\n",
        "#Evaluate logistic regression model on the AM test set\n",
        "# ENTER CODE HERE\n",
        "\n",
        "#Report test accuracy of AM model\n",
        "# ENTER CODE HERE\n",
        "ncorrect = \n",
        "ntotal = \n",
        "print('Test Accuracy: %2.2f %%' % ((100.0 * ncorrect) / ntotal))"
      ]
    },
    {
      "cell_type": "code",
      "source": [
        "#Set up model for T2P\n",
        "# ENTER CODE HERE\n",
        "\n",
        "#Evaluate logistic regression model on the T2P test set\n",
        "# ENTER CODE HERE\n",
        "\n",
        "#Report test accuracy of T2P model\n",
        "# ENTER CODE HERE\n",
        "ncorrect = \n",
        "ntotal =\n",
        "print('Test Accuracy: %2.2f %%' % ((100.0 * ncorrect) / ntotal))"
      ],
      "metadata": {
        "id": "EcNP2PfguWZL"
      },
      "execution_count": null,
      "outputs": []
    },
    {
      "cell_type": "markdown",
      "metadata": {
        "id": "TY6RN5qlMQ2B"
      },
      "source": [
        "**iii) Neural network models - use the code/function below (30 points)**\n",
        "\n",
        "In this section, we will try to predict mouse age by building a Multi-Layer Perceptron (MLP) Model using [Pytorch](https://pytorch.org/docs/stable/index.html). Our MLP will take as input the expression level of the 2000 highly variable genes for a given cell and produce a pair of values corresponding to the probability of the cell being obtain from a 3 months vs. 24 months mouse. Specifically, we will train two separate neural networks using different cell types, one using **alveolar macrophages** and another using **type II pneumocytes**"
      ]
    },
    {
      "cell_type": "markdown",
      "metadata": {
        "id": "U8X4-8_RWzkg"
      },
      "source": [
        "We will start by first importing packages and initialize the random number generator to a fixed constant to ensure reproducibility."
      ]
    },
    {
      "cell_type": "code",
      "execution_count": null,
      "metadata": {
        "colab": {
          "base_uri": "https://localhost:8080/"
        },
        "id": "j7YMofxdbq_o",
        "outputId": "50b71d54-c3f9-46f8-a1a2-5b920f45c0a0"
      },
      "outputs": [
        {
          "output_type": "execute_result",
          "data": {
            "text/plain": [
              "<torch._C.Generator at 0x7f23cfce6cb0>"
            ]
          },
          "metadata": {},
          "execution_count": 20
        }
      ],
      "source": [
        "import torch\n",
        "import torch.nn.functional as F\n",
        "from torch import nn\n",
        "from torch import optim\n",
        "from torch.utils.data import Dataset, DataLoader\n",
        "\n",
        "seed = 183\n",
        "torch.manual_seed(seed)"
      ]
    },
    {
      "cell_type": "markdown",
      "source": [
        "#### We will first construct our **neural network model for alveolar macrophages**"
      ],
      "metadata": {
        "id": "F__TdIbQ7jnx"
      }
    },
    {
      "cell_type": "markdown",
      "metadata": {
        "id": "5vnkRThppxDC"
      },
      "source": [
        "When we train and evaluate our model, we will require batches of data to be provided. The Dataloader class can automatically provide batches of data fetched from a `Dataset` objects (which is defined for you as a `CountDataset` class). **Complete the code block below by converting counts and labels into tensors of the appropriate type.** In order for training to run properly, you need to make sure to convert count data to [`tensor` objects](https://pytorch.org/docs/stable/tensors.html#torch.Tensor) of type Float and the labels (age) should also be `tensor` objects of type Integer. **Furthermore, set an appropriate batch size, nbatch.** The batch size represents the number of samples passed through our neural network before an error gradient is computed and the network parameters are updated."
      ]
    },
    {
      "cell_type": "code",
      "execution_count": null,
      "metadata": {
        "id": "8WUUnh30ZH7P"
      },
      "outputs": [],
      "source": [
        "#create a custom dataset object so we can use dataloader for shuffling the data\n",
        "class CountDataset(Dataset):\n",
        "    def __init__(self, count, labels):\n",
        "        self.labels = labels\n",
        "        self.count = count\n",
        "    def __len__(self):\n",
        "        return len(self.labels)\n",
        "    def __getitem__(self, idx):\n",
        "        label = self.labels[idx]\n",
        "        count = self.count[idx]\n",
        "        sample = [count, label]\n",
        "        return sample\n",
        "\n",
        "# convert counts/label into tensors of the appropriate type\n",
        "traindata = # ENTER CODE HERE\n",
        "trainlabel = # ENTER CODE HERE\n",
        "testdata = # ENTER CODE HERE\n",
        "testlabel = # ENTER CODE HERE\n",
        "\n",
        "trainset = CountDataset(count=traindata, labels=trainlabel)\n",
        "testset = CountDataset(count=testdata, labels=testlabel)\n",
        "\n",
        "# create data loaders\n",
        "nbatch = # ENTER CODE HERE\n",
        "trainloader = DataLoader(trainset, batch_size=nbatch, shuffle=True)\n",
        "testloader = DataLoader(testset, batch_size=nbatch, shuffle=True)"
      ]
    },
    {
      "cell_type": "markdown",
      "metadata": {
        "id": "pRNdKS0Qkyjs"
      },
      "source": [
        "We are now ready to create our simple neural network model. We will define our model in a class that extends nn.Module. nn.Module subclasses must do a minimum of one thing: implement the forward method which takes a batch of data and performs the forward-pass. PyTorch's autograd system computes the gradients of the forward pass for us. In the code below we'll also make use of the constructor of our model to instantiate the hidden and output layers.The model is a simple neural network with one hidden layer. A rectifier linear unit (ReLU) activation function is used for the neurons in the hidden layer. The nn.Module class defines a instance variable called training that is set to True when the model is being trained and False when it is being evaluated after being trained. Since we would like our output to represent probabilities of the cell being from either of the two age groups (outputs are between 0 and 1, and sum up to 1), we can use the [softmax activation function](https://pytorch.org/docs/stable/generated/torch.nn.functional.softmax.html#torch.nn.functional.softmax) on our output layer to turn the outputs into probability-like values. **Complete the code below by implementing the softmax function on the output when the model is not being trained.** We do this because we will use PyTorch's implementation of Cross Entropy Loss (nn.CrossEntropyLoss) during training which implicitly adds a softmax before a logarithmic loss."
      ]
    },
    {
      "cell_type": "code",
      "source": [
        "# define MLP model\n",
        "class MLPmodel(nn.Module):\n",
        "    def __init__(self, input_size, hidden_size, num_classes):\n",
        "        super(MLPmodel, self).__init__()\n",
        "        self.fc1 = nn.Linear(input_size, hidden_size) \n",
        "        self.fc2 = nn.Linear(hidden_size, num_classes)  \n",
        "    \n",
        "    def forward(self, x):\n",
        "        out = self.fc1(x)\n",
        "        out = F.relu(out)\n",
        "        out = self.fc2(out)\n",
        "        if not self.training:\n",
        "          # ENTER CODE HERE\n",
        "        return out"
      ],
      "metadata": {
        "id": "oPNaLY6duzaN"
      },
      "execution_count": null,
      "outputs": []
    },
    {
      "cell_type": "markdown",
      "source": [
        "We can now fit and evaluate the model. **In the code below, complete the implementation of the training loop by**\n",
        "\n",
        "(1) Initialize an instance of our MLPmodel class using appropriate choices of the input_size, hidden_size, and num_classes.\n",
        "\n",
        "(2) Define the variables named loss_function and optimiser, we will use the [cross entropy loss](https://pytorch.org/docs/stable/generated/torch.nn.CrossEntropyLoss.html#torch.nn.CrossEntropyLoss) and the [ADAM optimiser](https://pytorch.org/docs/stable/optim.html).\n",
        "\n",
        "(3) Pick an appropriate number of epoch to train for.\n",
        "\n",
        "(4) Make a line plot showing the loss across all training epochs."
      ],
      "metadata": {
        "id": "iI2hmsDYu1jS"
      }
    },
    {
      "cell_type": "code",
      "execution_count": null,
      "metadata": {
        "id": "FpXJARJceXM6"
      },
      "outputs": [],
      "source": [
        "# build the model \n",
        "input_size = # ENTER CODE HERE\n",
        "hidden_size = # ENTER CODE HERE\n",
        "num_classes = # ENTER CODE HERE\n",
        "model = MLPmodel(input_size, hidden_size, num_classes)\n",
        "\n",
        "# define the loss function and the optimiser\n",
        "loss_function =# ENTER CODE HERE\n",
        "optimiser = # ENTER CODE HERE\n",
        "\n",
        "# define number of epochs to train for\n",
        "nepoch =# ENTER CODE HERE\n",
        "\n",
        "# the epoch loop\n",
        "for epoch in range(nepoch):\n",
        "    running_loss = 0.0\n",
        "    for data in trainloader:\n",
        "        # get the inputs\n",
        "        inputs, labels = data\n",
        "\n",
        "        # zero the parameter gradients\n",
        "        optimiser.zero_grad()\n",
        "\n",
        "        # forward + loss + backward + optimise (update weights)\n",
        "        outputs = model(inputs)\n",
        "        loss = loss_function(outputs, labels)\n",
        "        loss.backward()\n",
        "        optimiser.step()\n",
        "\n",
        "        # keep track of the loss this epoch\n",
        "        running_loss += loss.item()\n",
        "\n",
        "# plot epoch vs loss\n",
        "# ENTER CODE HERE\n"
      ]
    },
    {
      "cell_type": "markdown",
      "source": [
        "Let's evaluate the overall accuracy of our trained network on our test set. Use the following code block to finish implementation of the accuracy computation. Report the test accuracy as the percent of cells where the age of the mouse was correctly predicted by the trained MLP model. Note that before the code you need to implement we've made a call to model.eval() - this sets the model into evaluation mode and supresses non-training things (gradients, dropout being applied/computed, etc.)."
      ],
      "metadata": {
        "id": "sw_W4qN8vNT4"
      }
    },
    {
      "cell_type": "code",
      "source": [
        "model.eval()\n",
        "\n",
        "# Compute the model accuracy on the test set\n",
        "# ENTER CODE HERE\n",
        "ncorrect = \n",
        "ntotal = \n",
        "\n",
        "print('Test Accuracy: %2.2f %%' % ((100.0 * ncorrect) / ntotal))"
      ],
      "metadata": {
        "id": "LHgzcmiHvNsP"
      },
      "execution_count": null,
      "outputs": []
    },
    {
      "cell_type": "markdown",
      "source": [
        "**Repeat the steps above for type II pneumocytes. Use the exact same set of hyperparameters you set for training on alveolar macrophages.**\n",
        "\n",
        "**Show all your code and report the following**:\n",
        "\n",
        "(1) A loss curve showing the loss value for each epoch\n",
        "\n",
        "(2) Test accuracy on the T2P test set"
      ],
      "metadata": {
        "id": "asURYZdRvRu-"
      }
    },
    {
      "cell_type": "code",
      "source": [
        "# train the same MLP model used above for T2P\n",
        "# ENTER CODE HERE\n",
        "\n",
        "# plot loss across epoch\n",
        "# ENTER CODE HERE\n",
        "\n",
        "# report model accuracy on T2P test set\n",
        "# ENTER CODE HERE"
      ],
      "metadata": {
        "id": "j9NsbYcNvVRx"
      },
      "execution_count": null,
      "outputs": []
    },
    {
      "cell_type": "markdown",
      "source": [
        "**iv) Make a bar plot showing the test accuracy across all four models that you built. (10 points)**\n",
        "\n",
        "You can use https://matplotlib.org/stable/api/_as_gen/matplotlib.pyplot.bar.html \n",
        "\n",
        "1.   logistic regression using alveolar macrophage \n",
        "2.   logistic regression using type II pneumocytes \n",
        "3.   neural network using alveolar macrophage\n",
        "4.   neural network using type II pneumocytes"
      ],
      "metadata": {
        "id": "RTqgz0nNvVlU"
      }
    },
    {
      "cell_type": "code",
      "source": [
        "# make bar plot\n",
        "# ENTER CODE HERE\n"
      ],
      "metadata": {
        "id": "qjnqOknNvV9z"
      },
      "execution_count": null,
      "outputs": []
    }
  ],
  "metadata": {
    "colab": {
      "provenance": [],
      "include_colab_link": true
    },
    "kernelspec": {
      "display_name": "Python 3",
      "name": "python3"
    },
    "language_info": {
      "name": "python"
    }
  },
  "nbformat": 4,
  "nbformat_minor": 0
}