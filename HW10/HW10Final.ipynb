{
  "cells": [
    {
      "cell_type": "markdown",
      "metadata": {
        "id": "view-in-github",
        "colab_type": "text"
      },
      "source": [
        "<a href=\"https://colab.research.google.com/github/CPukszta/BI-BE-CS-183-2023/blob/main/HW10/HW10Final.ipynb\" target=\"_parent\"><img src=\"https://colab.research.google.com/assets/colab-badge.svg\" alt=\"Open In Colab\"/></a>"
      ]
    },
    {
      "cell_type": "markdown",
      "metadata": {
        "id": "MozW3XxY8ezr"
      },
      "source": [
        "Bi/Be/Cs 183 2022-2023: Intro to Computational Biology\n",
        "TAs: Meichen Fang, Tara Chari, Zitong (Jerry) Wang\n",
        "\n",
        "**Submit your notebooks by sharing a clickable link with Viewer access. Link must be accessible from submitted assignment document.**\n",
        "\n",
        "Make sure Runtime $\\rightarrow$ Restart and run all works without error"
      ]
    },
    {
      "cell_type": "markdown",
      "metadata": {
        "id": "Mu4obGyqS8fh"
      },
      "source": [
        "**HW 10 Final Problem**\n",
        "\n",
        "In this problem you will process a single-cell dataset from the raw fastqs (sequencing reads of the cDNA library) to produce the cell x gene count matrix we usually work with. Given this count matrix you will additionally investigate the impact of various normalization techniques and dimensionality reduction on clustering of the cells (i.e. looking for cell types). With the metadata for this dataset, the cell types and ages of the mice used, you will then compare the efficacy of logistic regression vs neural network based techniques for classifying the age of the mouse a cell came from.\n"
      ]
    },
    {
      "cell_type": "markdown",
      "metadata": {
        "id": "fJ8J92ntz2rk"
      },
      "source": [
        "##**Install packages**"
      ]
    },
    {
      "cell_type": "markdown",
      "metadata": {
        "id": "X5QduXCj1tLC"
      },
      "source": [
        "Install kb-python\n",
        "\n",
        "This package is used to do transcript quantification (as shown in HW 4 Problem 2), aligning sequencing reads to a provided transcriptome to estimate transcript abundances. This produces the gene count matrices we have been working with. kb takes in the raw FASTQ files (the cDNA sequences from the generated cDNA library), aligns the transcript sequences to a reference file for the organism (the kallisto index below), and generates a count matrix of the transcripts (or genes) per cell."
      ]
    },
    {
      "cell_type": "code",
      "execution_count": 1,
      "metadata": {
        "colab": {
          "base_uri": "https://localhost:8080/"
        },
        "id": "uwDBoJ3Q1ss8",
        "outputId": "81a4ce32-e684-4d25-e78c-2c1fa5140fc4"
      },
      "outputs": [
        {
          "output_type": "stream",
          "name": "stdout",
          "text": [
            "Looking in indexes: https://pypi.org/simple, https://us-python.pkg.dev/colab-wheels/public/simple/\n",
            "Collecting kb-python\n",
            "  Downloading kb_python-0.27.3.tar.gz (7.5 MB)\n",
            "\u001b[2K     \u001b[90m━━━━━━━━━━━━━━━━━━━━━━━━━━━━━━━━━━━━━━━━\u001b[0m \u001b[32m7.5/7.5 MB\u001b[0m \u001b[31m34.7 MB/s\u001b[0m eta \u001b[36m0:00:00\u001b[0m\n",
            "\u001b[?25h  Preparing metadata (setup.py) ... \u001b[?25l\u001b[?25hdone\n",
            "Collecting anndata>=0.6.22.post1\n",
            "  Downloading anndata-0.8.0-py3-none-any.whl (96 kB)\n",
            "\u001b[2K     \u001b[90m━━━━━━━━━━━━━━━━━━━━━━━━━━━━━━━━━━━━━━━━\u001b[0m \u001b[32m96.1/96.1 KB\u001b[0m \u001b[31m6.6 MB/s\u001b[0m eta \u001b[36m0:00:00\u001b[0m\n",
            "\u001b[?25hRequirement already satisfied: h5py>=2.10.0 in /usr/local/lib/python3.9/dist-packages (from kb-python) (3.1.0)\n",
            "Requirement already satisfied: Jinja2>2.10.1 in /usr/local/lib/python3.9/dist-packages (from kb-python) (3.1.2)\n",
            "Collecting loompy>=3.0.6\n",
            "  Downloading loompy-3.0.7.tar.gz (4.8 MB)\n",
            "\u001b[2K     \u001b[90m━━━━━━━━━━━━━━━━━━━━━━━━━━━━━━━━━━━━━━━━\u001b[0m \u001b[32m4.8/4.8 MB\u001b[0m \u001b[31m41.8 MB/s\u001b[0m eta \u001b[36m0:00:00\u001b[0m\n",
            "\u001b[?25h  Preparing metadata (setup.py) ... \u001b[?25l\u001b[?25hdone\n",
            "Requirement already satisfied: nbconvert>=5.6.0 in /usr/local/lib/python3.9/dist-packages (from kb-python) (6.5.4)\n",
            "Requirement already satisfied: nbformat>=4.4.0 in /usr/local/lib/python3.9/dist-packages (from kb-python) (5.7.3)\n",
            "Collecting ngs-tools>=1.7.3\n",
            "  Downloading ngs-tools-1.8.3.tar.gz (45.2 MB)\n",
            "\u001b[2K     \u001b[90m━━━━━━━━━━━━━━━━━━━━━━━━━━━━━━━━━━━━━━━━\u001b[0m \u001b[32m45.2/45.2 MB\u001b[0m \u001b[31m9.7 MB/s\u001b[0m eta \u001b[36m0:00:00\u001b[0m\n",
            "\u001b[?25h  Preparing metadata (setup.py) ... \u001b[?25l\u001b[?25hdone\n",
            "Requirement already satisfied: numpy>=1.17.2 in /usr/local/lib/python3.9/dist-packages (from kb-python) (1.22.4)\n",
            "Requirement already satisfied: pandas>=1.0.0 in /usr/local/lib/python3.9/dist-packages (from kb-python) (1.3.5)\n",
            "Requirement already satisfied: plotly>=4.5.0 in /usr/local/lib/python3.9/dist-packages (from kb-python) (5.5.0)\n",
            "Requirement already satisfied: requests>=2.22.0 in /usr/local/lib/python3.9/dist-packages (from kb-python) (2.25.1)\n",
            "Collecting scanpy>=1.4.4.post1\n",
            "  Downloading scanpy-1.9.3-py3-none-any.whl (2.0 MB)\n",
            "\u001b[2K     \u001b[90m━━━━━━━━━━━━━━━━━━━━━━━━━━━━━━━━━━━━━━━━\u001b[0m \u001b[32m2.0/2.0 MB\u001b[0m \u001b[31m76.9 MB/s\u001b[0m eta \u001b[36m0:00:00\u001b[0m\n",
            "\u001b[?25hRequirement already satisfied: scikit-learn>=0.21.3 in /usr/local/lib/python3.9/dist-packages (from kb-python) (1.2.1)\n",
            "Requirement already satisfied: typing-extensions>=3.7.4 in /usr/local/lib/python3.9/dist-packages (from kb-python) (4.5.0)\n",
            "Requirement already satisfied: scipy>1.4 in /usr/local/lib/python3.9/dist-packages (from anndata>=0.6.22.post1->kb-python) (1.10.1)\n",
            "Requirement already satisfied: natsort in /usr/local/lib/python3.9/dist-packages (from anndata>=0.6.22.post1->kb-python) (5.5.0)\n",
            "Requirement already satisfied: packaging>=20 in /usr/local/lib/python3.9/dist-packages (from anndata>=0.6.22.post1->kb-python) (23.0)\n",
            "Requirement already satisfied: MarkupSafe>=2.0 in /usr/local/lib/python3.9/dist-packages (from Jinja2>2.10.1->kb-python) (2.1.2)\n",
            "Requirement already satisfied: setuptools in /usr/local/lib/python3.9/dist-packages (from loompy>=3.0.6->kb-python) (57.4.0)\n",
            "Requirement already satisfied: numba in /usr/local/lib/python3.9/dist-packages (from loompy>=3.0.6->kb-python) (0.56.4)\n",
            "Requirement already satisfied: click in /usr/local/lib/python3.9/dist-packages (from loompy>=3.0.6->kb-python) (8.1.3)\n",
            "Collecting numpy-groupies\n",
            "  Downloading numpy_groupies-0.9.20-py3-none-any.whl (25 kB)\n",
            "Requirement already satisfied: defusedxml in /usr/local/lib/python3.9/dist-packages (from nbconvert>=5.6.0->kb-python) (0.7.1)\n",
            "Requirement already satisfied: pandocfilters>=1.4.1 in /usr/local/lib/python3.9/dist-packages (from nbconvert>=5.6.0->kb-python) (1.5.0)\n",
            "Requirement already satisfied: jupyterlab-pygments in /usr/local/lib/python3.9/dist-packages (from nbconvert>=5.6.0->kb-python) (0.2.2)\n",
            "Requirement already satisfied: lxml in /usr/local/lib/python3.9/dist-packages (from nbconvert>=5.6.0->kb-python) (4.9.2)\n",
            "Requirement already satisfied: beautifulsoup4 in /usr/local/lib/python3.9/dist-packages (from nbconvert>=5.6.0->kb-python) (4.6.3)\n",
            "Requirement already satisfied: bleach in /usr/local/lib/python3.9/dist-packages (from nbconvert>=5.6.0->kb-python) (6.0.0)\n",
            "Requirement already satisfied: nbclient>=0.5.0 in /usr/local/lib/python3.9/dist-packages (from nbconvert>=5.6.0->kb-python) (0.7.2)\n",
            "Requirement already satisfied: entrypoints>=0.2.2 in /usr/local/lib/python3.9/dist-packages (from nbconvert>=5.6.0->kb-python) (0.4)\n",
            "Requirement already satisfied: pygments>=2.4.1 in /usr/local/lib/python3.9/dist-packages (from nbconvert>=5.6.0->kb-python) (2.6.1)\n",
            "Requirement already satisfied: tinycss2 in /usr/local/lib/python3.9/dist-packages (from nbconvert>=5.6.0->kb-python) (1.2.1)\n",
            "Requirement already satisfied: jupyter-core>=4.7 in /usr/local/lib/python3.9/dist-packages (from nbconvert>=5.6.0->kb-python) (5.2.0)\n",
            "Requirement already satisfied: traitlets>=5.0 in /usr/local/lib/python3.9/dist-packages (from nbconvert>=5.6.0->kb-python) (5.7.1)\n",
            "Requirement already satisfied: mistune<2,>=0.8.1 in /usr/local/lib/python3.9/dist-packages (from nbconvert>=5.6.0->kb-python) (0.8.4)\n",
            "Requirement already satisfied: fastjsonschema in /usr/local/lib/python3.9/dist-packages (from nbformat>=4.4.0->kb-python) (2.16.3)\n",
            "Requirement already satisfied: jsonschema>=2.6 in /usr/local/lib/python3.9/dist-packages (from nbformat>=4.4.0->kb-python) (4.3.3)\n",
            "Requirement already satisfied: joblib>=1.0.1 in /usr/local/lib/python3.9/dist-packages (from ngs-tools>=1.7.3->kb-python) (1.2.0)\n",
            "Collecting pysam>=0.16.0.1\n",
            "  Downloading pysam-0.20.0-cp39-cp39-manylinux_2_24_x86_64.whl (15.6 MB)\n",
            "\u001b[2K     \u001b[90m━━━━━━━━━━━━━━━━━━━━━━━━━━━━━━━━━━━━━━━━\u001b[0m \u001b[32m15.6/15.6 MB\u001b[0m \u001b[31m47.5 MB/s\u001b[0m eta \u001b[36m0:00:00\u001b[0m\n",
            "\u001b[?25hCollecting shortuuid>=1.0.1\n",
            "  Downloading shortuuid-1.0.11-py3-none-any.whl (10 kB)\n",
            "Requirement already satisfied: tqdm>=4.50.0 in /usr/local/lib/python3.9/dist-packages (from ngs-tools>=1.7.3->kb-python) (4.65.0)\n",
            "Requirement already satisfied: python-dateutil>=2.7.3 in /usr/local/lib/python3.9/dist-packages (from pandas>=1.0.0->kb-python) (2.8.2)\n",
            "Requirement already satisfied: pytz>=2017.3 in /usr/local/lib/python3.9/dist-packages (from pandas>=1.0.0->kb-python) (2022.7.1)\n",
            "Requirement already satisfied: tenacity>=6.2.0 in /usr/local/lib/python3.9/dist-packages (from plotly>=4.5.0->kb-python) (8.2.2)\n",
            "Requirement already satisfied: six in /usr/local/lib/python3.9/dist-packages (from plotly>=4.5.0->kb-python) (1.15.0)\n",
            "Requirement already satisfied: idna<3,>=2.5 in /usr/local/lib/python3.9/dist-packages (from requests>=2.22.0->kb-python) (2.10)\n",
            "Requirement already satisfied: urllib3<1.27,>=1.21.1 in /usr/local/lib/python3.9/dist-packages (from requests>=2.22.0->kb-python) (1.26.14)\n",
            "Requirement already satisfied: chardet<5,>=3.0.2 in /usr/local/lib/python3.9/dist-packages (from requests>=2.22.0->kb-python) (4.0.0)\n",
            "Requirement already satisfied: certifi>=2017.4.17 in /usr/local/lib/python3.9/dist-packages (from requests>=2.22.0->kb-python) (2022.12.7)\n",
            "Requirement already satisfied: seaborn in /usr/local/lib/python3.9/dist-packages (from scanpy>=1.4.4.post1->kb-python) (0.11.2)\n",
            "Requirement already satisfied: statsmodels>=0.10.0rc2 in /usr/local/lib/python3.9/dist-packages (from scanpy>=1.4.4.post1->kb-python) (0.13.5)\n",
            "Collecting session-info\n",
            "  Downloading session_info-1.0.0.tar.gz (24 kB)\n",
            "  Preparing metadata (setup.py) ... \u001b[?25l\u001b[?25hdone\n",
            "Requirement already satisfied: patsy in /usr/local/lib/python3.9/dist-packages (from scanpy>=1.4.4.post1->kb-python) (0.5.3)\n",
            "Collecting umap-learn>=0.3.10\n",
            "  Downloading umap-learn-0.5.3.tar.gz (88 kB)\n",
            "\u001b[2K     \u001b[90m━━━━━━━━━━━━━━━━━━━━━━━━━━━━━━━━━━━━━━━━\u001b[0m \u001b[32m88.2/88.2 KB\u001b[0m \u001b[31m11.9 MB/s\u001b[0m eta \u001b[36m0:00:00\u001b[0m\n",
            "\u001b[?25h  Preparing metadata (setup.py) ... \u001b[?25l\u001b[?25hdone\n",
            "Requirement already satisfied: matplotlib>=3.4 in /usr/local/lib/python3.9/dist-packages (from scanpy>=1.4.4.post1->kb-python) (3.5.3)\n",
            "Requirement already satisfied: networkx>=2.3 in /usr/local/lib/python3.9/dist-packages (from scanpy>=1.4.4.post1->kb-python) (3.0)\n",
            "Requirement already satisfied: threadpoolctl>=2.0.0 in /usr/local/lib/python3.9/dist-packages (from scikit-learn>=0.21.3->kb-python) (3.1.0)\n",
            "Requirement already satisfied: attrs>=17.4.0 in /usr/local/lib/python3.9/dist-packages (from jsonschema>=2.6->nbformat>=4.4.0->kb-python) (22.2.0)\n",
            "Requirement already satisfied: pyrsistent!=0.17.0,!=0.17.1,!=0.17.2,>=0.14.0 in /usr/local/lib/python3.9/dist-packages (from jsonschema>=2.6->nbformat>=4.4.0->kb-python) (0.19.3)\n",
            "Requirement already satisfied: platformdirs>=2.5 in /usr/local/lib/python3.9/dist-packages (from jupyter-core>=4.7->nbconvert>=5.6.0->kb-python) (3.1.0)\n",
            "Requirement already satisfied: cycler>=0.10 in /usr/local/lib/python3.9/dist-packages (from matplotlib>=3.4->scanpy>=1.4.4.post1->kb-python) (0.11.0)\n",
            "Requirement already satisfied: fonttools>=4.22.0 in /usr/local/lib/python3.9/dist-packages (from matplotlib>=3.4->scanpy>=1.4.4.post1->kb-python) (4.39.0)\n",
            "Requirement already satisfied: kiwisolver>=1.0.1 in /usr/local/lib/python3.9/dist-packages (from matplotlib>=3.4->scanpy>=1.4.4.post1->kb-python) (1.4.4)\n",
            "Requirement already satisfied: pillow>=6.2.0 in /usr/local/lib/python3.9/dist-packages (from matplotlib>=3.4->scanpy>=1.4.4.post1->kb-python) (8.4.0)\n",
            "Requirement already satisfied: pyparsing>=2.2.1 in /usr/local/lib/python3.9/dist-packages (from matplotlib>=3.4->scanpy>=1.4.4.post1->kb-python) (3.0.9)\n",
            "Requirement already satisfied: jupyter-client>=6.1.12 in /usr/local/lib/python3.9/dist-packages (from nbclient>=0.5.0->nbconvert>=5.6.0->kb-python) (6.1.12)\n",
            "Requirement already satisfied: llvmlite<0.40,>=0.39.0dev0 in /usr/local/lib/python3.9/dist-packages (from numba->loompy>=3.0.6->kb-python) (0.39.1)\n",
            "Collecting pynndescent>=0.5\n",
            "  Downloading pynndescent-0.5.8.tar.gz (1.1 MB)\n",
            "\u001b[2K     \u001b[90m━━━━━━━━━━━━━━━━━━━━━━━━━━━━━━━━━━━━━━━━\u001b[0m \u001b[32m1.1/1.1 MB\u001b[0m \u001b[31m10.9 MB/s\u001b[0m eta \u001b[36m0:00:00\u001b[0m\n",
            "\u001b[?25h  Preparing metadata (setup.py) ... \u001b[?25l\u001b[?25hdone\n",
            "Requirement already satisfied: webencodings in /usr/local/lib/python3.9/dist-packages (from bleach->nbconvert>=5.6.0->kb-python) (0.5.1)\n",
            "Collecting stdlib_list\n",
            "  Downloading stdlib_list-0.8.0-py3-none-any.whl (63 kB)\n",
            "\u001b[2K     \u001b[90m━━━━━━━━━━━━━━━━━━━━━━━━━━━━━━━━━━━━━━━━\u001b[0m \u001b[32m63.5/63.5 KB\u001b[0m \u001b[31m4.0 MB/s\u001b[0m eta \u001b[36m0:00:00\u001b[0m\n",
            "\u001b[?25hRequirement already satisfied: pyzmq>=13 in /usr/local/lib/python3.9/dist-packages (from jupyter-client>=6.1.12->nbclient>=0.5.0->nbconvert>=5.6.0->kb-python) (23.2.1)\n",
            "Requirement already satisfied: tornado>=4.1 in /usr/local/lib/python3.9/dist-packages (from jupyter-client>=6.1.12->nbclient>=0.5.0->nbconvert>=5.6.0->kb-python) (6.2)\n",
            "Building wheels for collected packages: kb-python, loompy, ngs-tools, umap-learn, session-info, pynndescent\n",
            "  Building wheel for kb-python (setup.py) ... \u001b[?25l\u001b[?25hdone\n",
            "  Created wheel for kb-python: filename=kb_python-0.27.3-py3-none-any.whl size=7543276 sha256=a94a31ca51362a0dd7a6557230410ff7ccd3556c37a71c52d6d0c63be2af2539\n",
            "  Stored in directory: /root/.cache/pip/wheels/cd/b6/e0/4ad2d814ada70c6837917c73149ca675ac8adbc8a0d18a046c\n",
            "  Building wheel for loompy (setup.py) ... \u001b[?25l\u001b[?25hdone\n",
            "  Created wheel for loompy: filename=loompy-3.0.7-py3-none-any.whl size=52040 sha256=68e4777840c80457199f3fedc726ed7d6e8d2cde2bbcec380b8513b53854512d\n",
            "  Stored in directory: /root/.cache/pip/wheels/d9/b5/43/cab70cefd40f17c3c39ba18d115ee28b76c6a076dee5abda6e\n",
            "  Building wheel for ngs-tools (setup.py) ... \u001b[?25l\u001b[?25hdone\n",
            "  Created wheel for ngs-tools: filename=ngs_tools-1.8.3-py3-none-any.whl size=45158524 sha256=774f3ac2cfbfa2be1e5d0dcc98e6a68c61a6216b953a7fa0d71bbbd5ed0eac17\n",
            "  Stored in directory: /root/.cache/pip/wheels/ed/54/5c/3803b2f7e7e535980f0c09176d9d3ee91311d7ed942bdf0868\n",
            "  Building wheel for umap-learn (setup.py) ... \u001b[?25l\u001b[?25hdone\n",
            "  Created wheel for umap-learn: filename=umap_learn-0.5.3-py3-none-any.whl size=82829 sha256=6ff13a50acf928ecf2de69d502f6c4941322f9c6584c218fe7d311843cbcb15a\n",
            "  Stored in directory: /root/.cache/pip/wheels/f4/3e/1c/596d0a463d17475af648688443fa4846fef624d1390339e7e9\n",
            "  Building wheel for session-info (setup.py) ... \u001b[?25l\u001b[?25hdone\n",
            "  Created wheel for session-info: filename=session_info-1.0.0-py3-none-any.whl size=8046 sha256=074dfdcce8954ba2557da043ea281ef86d228f1c400d6f466bae073e3ba6f083\n",
            "  Stored in directory: /root/.cache/pip/wheels/d4/fc/2e/00ca60bac7954b84907efd41baa9b4853500eaeec4228410c6\n",
            "  Building wheel for pynndescent (setup.py) ... \u001b[?25l\u001b[?25hdone\n",
            "  Created wheel for pynndescent: filename=pynndescent-0.5.8-py3-none-any.whl size=55513 sha256=19f42b685f70f14200d27aec316afdf1c8a7b5a94819287e8b2808af750a5ab7\n",
            "  Stored in directory: /root/.cache/pip/wheels/b9/89/cc/59ab91ef5b21dc2ab3635528d7d227f49dfc9169905dcb959d\n",
            "Successfully built kb-python loompy ngs-tools umap-learn session-info pynndescent\n",
            "Installing collected packages: stdlib_list, pysam, shortuuid, session-info, numpy-groupies, ngs-tools, loompy, pynndescent, anndata, umap-learn, scanpy, kb-python\n",
            "Successfully installed anndata-0.8.0 kb-python-0.27.3 loompy-3.0.7 ngs-tools-1.8.3 numpy-groupies-0.9.20 pynndescent-0.5.8 pysam-0.20.0 scanpy-1.9.3 session-info-1.0.0 shortuuid-1.0.11 stdlib_list-0.8.0 umap-learn-0.5.3\n"
          ]
        }
      ],
      "source": [
        "# Install kb. This package runs kallisto and bustools. \n",
        "# These are programs used to process the single-cell RNA-seq reads to produce count matrices.\n",
        "!pip3 install kb-python "
      ]
    },
    {
      "cell_type": "code",
      "execution_count": 2,
      "metadata": {
        "colab": {
          "base_uri": "https://localhost:8080/"
        },
        "id": "IgmwCBzctnDD",
        "outputId": "6f7cd23a-600b-4a6b-8d0e-66819b408243"
      },
      "outputs": [
        {
          "output_type": "stream",
          "name": "stdout",
          "text": [
            "\u001b[2K     \u001b[90m━━━━━━━━━━━━━━━━━━━━━━━━━━━━━━━━━━━━━━━━\u001b[0m \u001b[32m10.2/10.2 MB\u001b[0m \u001b[31m28.9 MB/s\u001b[0m eta \u001b[36m0:00:00\u001b[0m\n",
            "\u001b[2K     \u001b[90m━━━━━━━━━━━━━━━━━━━━━━━━━━━━━━━━━━━━━━━━\u001b[0m \u001b[32m69.9/69.9 KB\u001b[0m \u001b[31m3.5 MB/s\u001b[0m eta \u001b[36m0:00:00\u001b[0m\n",
            "\u001b[?25h  Preparing metadata (setup.py) ... \u001b[?25l\u001b[?25hdone\n",
            "  Preparing metadata (setup.py) ... \u001b[?25l\u001b[?25hdone\n",
            "  Building wheel for umap-learn (setup.py) ... \u001b[?25l\u001b[?25hdone\n",
            "  Building wheel for sinfo (setup.py) ... \u001b[?25l\u001b[?25hdone\n"
          ]
        }
      ],
      "source": [
        "!pip3 install --quiet anndata\n",
        "!pip install --quiet scanpy==1.7.0rc1"
      ]
    },
    {
      "cell_type": "code",
      "execution_count": 98,
      "metadata": {
        "id": "rjy8W5hly24q"
      },
      "outputs": [],
      "source": [
        "import numpy as np\n",
        "import scipy.io as sio\n",
        "import pandas as pd\n",
        "import matplotlib.pyplot as plt #Can use other plotting packages like seaborn\n",
        "\n",
        "import bokeh.io\n",
        "import bokeh.plotting\n",
        "\n",
        "bokeh.io.output_notebook()\n",
        "\n",
        "import anndata\n",
        "import scanpy as sc"
      ]
    },
    {
      "cell_type": "code",
      "execution_count": 4,
      "metadata": {
        "id": "0Ep8gQNCNLHr"
      },
      "outputs": [],
      "source": [
        "import time\n",
        "t=time.time()"
      ]
    },
    {
      "cell_type": "markdown",
      "metadata": {
        "id": "PpeuucqgiDPx"
      },
      "source": [
        "## **Read in data for Part a) analysis**\n",
        "#### Running the code for data downloading and count matrix generation may take ~20mins total."
      ]
    },
    {
      "cell_type": "code",
      "execution_count": 5,
      "metadata": {
        "colab": {
          "base_uri": "https://localhost:8080/"
        },
        "id": "IUWXJ6GJ2ZbY",
        "outputId": "92f1dfc9-3ff5-41da-d78c-b1cacd33e648"
      },
      "outputs": [
        {
          "output_type": "stream",
          "name": "stdout",
          "text": [
            "--2023-03-12 23:16:13--  ftp://ftp.sra.ebi.ac.uk/vol1/fastq/SRR842/002/SRR8426372/SRR8426372_1.fastq.gz\n",
            "           => ‘SRR8426372_1.fastq.gz’\n",
            "Resolving ftp.sra.ebi.ac.uk (ftp.sra.ebi.ac.uk)... 193.62.193.138\n",
            "Connecting to ftp.sra.ebi.ac.uk (ftp.sra.ebi.ac.uk)|193.62.193.138|:21... connected.\n",
            "Logging in as anonymous ... Logged in!\n",
            "==> SYST ... done.    ==> PWD ... done.\n",
            "==> TYPE I ... done.  ==> CWD (1) /vol1/fastq/SRR842/002/SRR8426372 ... done.\n",
            "==> SIZE SRR8426372_1.fastq.gz ... 2389120304\n",
            "==> PASV ... done.    ==> RETR SRR8426372_1.fastq.gz ... done.\n",
            "Length: 2389120304 (2.2G) (unauthoritative)\n",
            "\n",
            "SRR8426372_1.fastq. 100%[===================>]   2.22G  36.0MB/s    in 65s     \n",
            "\n",
            "2023-03-12 23:17:19 (35.2 MB/s) - ‘SRR8426372_1.fastq.gz’ saved [2389120304]\n",
            "\n",
            "--2023-03-12 23:17:20--  ftp://ftp.sra.ebi.ac.uk/vol1/fastq/SRR842/002/SRR8426372/SRR8426372_2.fastq.gz\n",
            "           => ‘SRR8426372_2.fastq.gz’\n",
            "Resolving ftp.sra.ebi.ac.uk (ftp.sra.ebi.ac.uk)... 193.62.193.138\n",
            "Connecting to ftp.sra.ebi.ac.uk (ftp.sra.ebi.ac.uk)|193.62.193.138|:21... connected.\n",
            "Logging in as anonymous ... Logged in!\n",
            "==> SYST ... done.    ==> PWD ... done.\n",
            "==> TYPE I ... done.  ==> CWD (1) /vol1/fastq/SRR842/002/SRR8426372 ... done.\n",
            "==> SIZE SRR8426372_2.fastq.gz ... 3208503807\n",
            "==> PASV ... done.    ==> RETR SRR8426372_2.fastq.gz ... done.\n",
            "Length: 3208503807 (3.0G) (unauthoritative)\n",
            "\n",
            "SRR8426372_2.fastq. 100%[===================>]   2.99G  36.1MB/s    in 88s     \n",
            "\n",
            "2023-03-12 23:18:49 (34.9 MB/s) - ‘SRR8426372_2.fastq.gz’ saved [3208503807]\n",
            "\n"
          ]
        }
      ],
      "source": [
        "# Download the data from the ENA for a 3-month mouse\n",
        "# This step should take 5-10mins\n",
        "!wget --continue ftp://ftp.sra.ebi.ac.uk/vol1/fastq/SRR842/002/SRR8426372/SRR8426372_1.fastq.gz\n",
        "!wget --continue ftp://ftp.sra.ebi.ac.uk/vol1/fastq/SRR842/002/SRR8426372/SRR8426372_2.fastq.gz"
      ]
    },
    {
      "cell_type": "markdown",
      "metadata": {
        "id": "48o3Q_8v2o72"
      },
      "source": [
        "Download a kallisto index \n"
      ]
    },
    {
      "cell_type": "code",
      "execution_count": 6,
      "metadata": {
        "colab": {
          "base_uri": "https://localhost:8080/"
        },
        "id": "HDmVMTbs3BSV",
        "outputId": "bc9788c4-52de-47b7-a6df-a2f97bdab26f"
      },
      "outputs": [
        {
          "output_type": "stream",
          "name": "stdout",
          "text": [
            "[2023-03-12 23:18:52,741]    INFO [download] Downloading files for mouse from https://caltech.box.com/shared/static/vcaz6cujop0xuapdmz0pplp3aoqc41si.gz to tmp/vcaz6cujop0xuapdmz0pplp3aoqc41si.gz\n",
            "100% 1.89G/1.89G [02:18<00:00, 14.6MB/s]\n",
            "[2023-03-12 23:21:11,338]    INFO [download] Extracting files from tmp/vcaz6cujop0xuapdmz0pplp3aoqc41si.gz\n"
          ]
        }
      ],
      "source": [
        "!kb ref -d mouse -i index.idx -g t2g.txt -f1 transcriptome.fasta"
      ]
    },
    {
      "cell_type": "markdown",
      "metadata": {
        "id": "Yoezewx53Os4"
      },
      "source": [
        "Generate the cell x gene count matrix"
      ]
    },
    {
      "cell_type": "code",
      "execution_count": 10,
      "metadata": {
        "colab": {
          "base_uri": "https://localhost:8080/"
        },
        "id": "RtJ_aet53CE8",
        "outputId": "8a2cbfb5-732f-4181-9f75-786543542e4d"
      },
      "outputs": [
        {
          "output_type": "stream",
          "name": "stdout",
          "text": [
            "[2023-03-12 23:32:37,676]    INFO [count] Using index index.idx to generate BUS file to output from\n",
            "[2023-03-12 23:32:37,680]    INFO [count]         SRR8426372_1.fastq.gz\n",
            "[2023-03-12 23:32:37,684]    INFO [count]         SRR8426372_2.fastq.gz\n",
            "[2023-03-12 23:43:44,049]    INFO [count] Sorting BUS file output/output.bus to output/tmp/output.s.bus\n",
            "[2023-03-12 23:44:08,487]    INFO [count] Whitelist not provided\n",
            "[2023-03-12 23:44:08,488]    INFO [count] Generating whitelist output/whitelist.txt from BUS file output/tmp/output.s.bus\n",
            "[2023-03-12 23:44:09,599]    INFO [count] Inspecting BUS file output/tmp/output.s.bus\n",
            "[2023-03-12 23:44:11,025]    INFO [count] Correcting BUS records in output/tmp/output.s.bus to output/tmp/output.s.c.bus with whitelist output/whitelist.txt\n",
            "[2023-03-12 23:44:14,753]    INFO [count] Sorting BUS file output/tmp/output.s.c.bus to output/output.unfiltered.bus\n",
            "[2023-03-12 23:44:21,044]    INFO [count] Generating count matrix output/counts_unfiltered/cells_x_genes from BUS file output/output.unfiltered.bus\n",
            "[2023-03-12 23:44:26,255]    INFO [count] Reading matrix output/counts_unfiltered/cells_x_genes.mtx\n",
            "[2023-03-12 23:44:27,822]    INFO [count] Writing matrix to h5ad output/counts_unfiltered/adata.h5ad\n",
            "[2023-03-12 23:44:27,967]    INFO [count] Filtering with bustools\n",
            "[2023-03-12 23:44:27,967]    INFO [count] Generating whitelist output/filter_barcodes.txt from BUS file output/output.unfiltered.bus\n",
            "[2023-03-12 23:44:29,106]    INFO [count] Correcting BUS records in output/output.unfiltered.bus to output/tmp/output.unfiltered.c.bus with whitelist output/filter_barcodes.txt\n",
            "[2023-03-12 23:44:31,680]    INFO [count] Sorting BUS file output/tmp/output.unfiltered.c.bus to output/output.filtered.bus\n",
            "[2023-03-12 23:44:39,690]    INFO [count] Generating count matrix output/counts_filtered/cells_x_genes from BUS file output/output.filtered.bus\n",
            "[2023-03-12 23:44:49,081]    INFO [count] Reading matrix output/counts_filtered/cells_x_genes.mtx\n",
            "[2023-03-12 23:44:50,084]    INFO [count] Writing matrix to h5ad output/counts_filtered/adata.h5ad\n",
            "CPU times: user 5.49 s, sys: 773 ms, total: 6.26 s\n",
            "Wall time: 12min 19s\n"
          ]
        }
      ],
      "source": [
        "# This command processes previously downloaded data\n",
        "# This step should take ~11mins\n",
        "%%time\n",
        "!kb count --h5ad -i index.idx -g t2g.txt -x Dropseq -o output --filter bustools -t 2 \\\n",
        "SRR8426372_1.fastq.gz \\\n",
        "SRR8426372_2.fastq.gz\n"
      ]
    },
    {
      "cell_type": "markdown",
      "metadata": {
        "id": "swY2nSDukmXg"
      },
      "source": [
        "**The dataset**"
      ]
    },
    {
      "cell_type": "markdown",
      "metadata": {
        "id": "NKSN3bu8cQ3O"
      },
      "source": [
        "This is a Drop-seq based single-cell RNA-seq dataset produced from tissue extracted from the whole mouse lung, published by [Ilias Angelidis, Lukas M. Simon et al. 2019](https://www.nature.com/articles/s41467-019-08831-9). In the study single-cell suspensions were generated from eight 3-month old mice and seven 24-month old mice and looked for cell type specific effects of aging between the mice i.e. to create a single-cell atlas of the aging lung. \n",
        "\n",
        "For Part a we will only be working with one sample from a 3-month old mouse (though in Parts b-d you will work with the full dataset across both ages and all mice)."
      ]
    },
    {
      "cell_type": "markdown",
      "metadata": {
        "id": "Q1E4wbXtSsJN"
      },
      "source": [
        "<center><img src=\"https://drive.google.com/uc?export=view&id=1O_x3hmDDes7foQVVLcoZVasrVED1L0Al\" alt=\"EMFigure\" width=\"900\" height=\"150\"><center>"
      ]
    },
    {
      "cell_type": "markdown",
      "metadata": {
        "id": "58nQkH9eko4-"
      },
      "source": [
        "**The count matrix**\n",
        "\n",
        "This matrix is 3,839 cells by 55,421 genes for one lung sample from a 3-month old mouse.\n",
        "\n",
        "\n"
      ]
    },
    {
      "cell_type": "code",
      "execution_count": 12,
      "metadata": {
        "id": "3_s_MyJp3dj9"
      },
      "outputs": [],
      "source": [
        "# load the raw cell x gene count matrix\n",
        "adata = anndata.read_h5ad(\"output/counts_unfiltered/adata.h5ad\") #This is the output from kb\n",
        "adata.var[\"gene_id\"] = adata.var.index.values\n",
        "\n",
        "t2g = pd.read_csv(\"t2g.txt\", header=None, names=[\"tid\", \"gene_id\", \"gene_name\"], sep=\"\\t\") #Load the transcipt-to-gene name mapping (t2g)\n",
        "t2g.index = t2g.gene_id\n",
        "t2g = t2g.loc[~t2g.index.duplicated(keep='first')]\n",
        "\n",
        "adata.var[\"gene_name\"] = adata.var.gene_id.map(t2g[\"gene_name\"])\n",
        "adata.var.index = adata.var[\"gene_name\"]"
      ]
    },
    {
      "cell_type": "code",
      "execution_count": 13,
      "metadata": {
        "colab": {
          "base_uri": "https://localhost:8080/"
        },
        "id": "5tLkEyK3z0GX",
        "outputId": "8a83ad82-b708-4bbd-f701-842398cc070b"
      },
      "outputs": [
        {
          "output_type": "execute_result",
          "data": {
            "text/plain": [
              "AnnData object with n_obs × n_vars = 3839 × 55421\n",
              "    var: 'gene_name', 'gene_id'"
            ]
          },
          "metadata": {},
          "execution_count": 13
        }
      ],
      "source": [
        "adata"
      ]
    },
    {
      "cell_type": "code",
      "execution_count": 56,
      "metadata": {
        "colab": {
          "base_uri": "https://localhost:8080/"
        },
        "id": "tegjqi-7rsoq",
        "outputId": "01fa57ad-8cd2-493e-9c0f-e5e7438406b1"
      },
      "outputs": [
        {
          "output_type": "execute_result",
          "data": {
            "text/plain": [
              "(3839, 55421)"
            ]
          },
          "metadata": {},
          "execution_count": 56
        }
      ],
      "source": [
        "count_mat = adata.X #Get the count matrix from this anndata object\n",
        "count_mat.shape"
      ]
    },
    {
      "cell_type": "markdown",
      "metadata": {
        "id": "beHUeEQ0PYnj"
      },
      "source": [
        "**Use this count_mat for Part a.**"
      ]
    },
    {
      "cell_type": "markdown",
      "metadata": {
        "id": "ICnf8oOmNTOy"
      },
      "source": [
        "# **a) Pre-processing: Select real/valid cells i.e. cells that pass a UMI count threshold based on the commonly used 'Knee plot'. (10 points)**"
      ]
    },
    {
      "cell_type": "markdown",
      "metadata": {
        "id": "HTIoUbKGN5UD"
      },
      "source": [
        "Knee plots (described below) are commonly used to filter out cell barcodes that likely correspond to empty droplets that were captured or noisy samples that may be just random transcripts that were picked up in the droplet. We want to only keep cell barcodes that seem to have high enough UMI counts (i.e. molecules detected) which suggest that a real cell was captured in that droplet."
      ]
    },
    {
      "cell_type": "markdown",
      "metadata": {
        "id": "ufFe0UnuOZt9"
      },
      "source": [
        "**To construct a knee plot** we (1) rank cells in *descending* order of their total UMI counts (UMI counts summed across genes). The cell rankings are plotted on the x axis (1 to n cells). On the y-axis we (2) plot the total UMI count of each cell. Thus as we move across the x-axis from left to right, the right end of the plot displays cells with very few UMI counts (noisy/empty droplets to possibly remove from analysis). Often the x and y axis are plotted in a log-log plot."
      ]
    },
    {
      "cell_type": "markdown",
      "metadata": {
        "id": "iQgUATd4O2dT"
      },
      "source": [
        "The inflection point of the graph denotes a separation/drop between the lefthand side of the plot where cell barcodes have high UMI counts and the righthand side where cell barcodes have low associated UMI counts (and are thus considered to have had failure in capture and/or to be too noisy for further analysis.)"
      ]
    },
    {
      "cell_type": "markdown",
      "metadata": {
        "id": "ffP0IA4wQKYQ"
      },
      "source": [
        "**(1) Make one knee plot for the 3,839 cells (which are the cell barcodes) and their total UMI counts across the 55,421 genes (in a log-log plot). (2) Describe what UMI threshold you might use to filter out noisy cell barcodes based on the plot.**"
      ]
    },
    {
      "cell_type": "code",
      "execution_count": 118,
      "metadata": {
        "id": "wjOR_hLaPqyx",
        "colab": {
          "base_uri": "https://localhost:8080/",
          "height": 467
        },
        "outputId": "e5fcb086-3585-4eb5-b929-5dd8d8e91cd3"
      },
      "outputs": [
        {
          "output_type": "display_data",
          "data": {
            "application/javascript": [
              "(function(root) {\n",
              "  function now() {\n",
              "    return new Date();\n",
              "  }\n",
              "\n",
              "  const force = true;\n",
              "\n",
              "  if (typeof root._bokeh_onload_callbacks === \"undefined\" || force === true) {\n",
              "    root._bokeh_onload_callbacks = [];\n",
              "    root._bokeh_is_loading = undefined;\n",
              "  }\n",
              "\n",
              "const JS_MIME_TYPE = 'application/javascript';\n",
              "  const HTML_MIME_TYPE = 'text/html';\n",
              "  const EXEC_MIME_TYPE = 'application/vnd.bokehjs_exec.v0+json';\n",
              "  const CLASS_NAME = 'output_bokeh rendered_html';\n",
              "\n",
              "  /**\n",
              "   * Render data to the DOM node\n",
              "   */\n",
              "  function render(props, node) {\n",
              "    const script = document.createElement(\"script\");\n",
              "    node.appendChild(script);\n",
              "  }\n",
              "\n",
              "  /**\n",
              "   * Handle when an output is cleared or removed\n",
              "   */\n",
              "  function handleClearOutput(event, handle) {\n",
              "    const cell = handle.cell;\n",
              "\n",
              "    const id = cell.output_area._bokeh_element_id;\n",
              "    const server_id = cell.output_area._bokeh_server_id;\n",
              "    // Clean up Bokeh references\n",
              "    if (id != null && id in Bokeh.index) {\n",
              "      Bokeh.index[id].model.document.clear();\n",
              "      delete Bokeh.index[id];\n",
              "    }\n",
              "\n",
              "    if (server_id !== undefined) {\n",
              "      // Clean up Bokeh references\n",
              "      const cmd_clean = \"from bokeh.io.state import curstate; print(curstate().uuid_to_server['\" + server_id + \"'].get_sessions()[0].document.roots[0]._id)\";\n",
              "      cell.notebook.kernel.execute(cmd_clean, {\n",
              "        iopub: {\n",
              "          output: function(msg) {\n",
              "            const id = msg.content.text.trim();\n",
              "            if (id in Bokeh.index) {\n",
              "              Bokeh.index[id].model.document.clear();\n",
              "              delete Bokeh.index[id];\n",
              "            }\n",
              "          }\n",
              "        }\n",
              "      });\n",
              "      // Destroy server and session\n",
              "      const cmd_destroy = \"import bokeh.io.notebook as ion; ion.destroy_server('\" + server_id + \"')\";\n",
              "      cell.notebook.kernel.execute(cmd_destroy);\n",
              "    }\n",
              "  }\n",
              "\n",
              "  /**\n",
              "   * Handle when a new output is added\n",
              "   */\n",
              "  function handleAddOutput(event, handle) {\n",
              "    const output_area = handle.output_area;\n",
              "    const output = handle.output;\n",
              "\n",
              "    // limit handleAddOutput to display_data with EXEC_MIME_TYPE content only\n",
              "    if ((output.output_type != \"display_data\") || (!Object.prototype.hasOwnProperty.call(output.data, EXEC_MIME_TYPE))) {\n",
              "      return\n",
              "    }\n",
              "\n",
              "    const toinsert = output_area.element.find(\".\" + CLASS_NAME.split(' ')[0]);\n",
              "\n",
              "    if (output.metadata[EXEC_MIME_TYPE][\"id\"] !== undefined) {\n",
              "      toinsert[toinsert.length - 1].firstChild.textContent = output.data[JS_MIME_TYPE];\n",
              "      // store reference to embed id on output_area\n",
              "      output_area._bokeh_element_id = output.metadata[EXEC_MIME_TYPE][\"id\"];\n",
              "    }\n",
              "    if (output.metadata[EXEC_MIME_TYPE][\"server_id\"] !== undefined) {\n",
              "      const bk_div = document.createElement(\"div\");\n",
              "      bk_div.innerHTML = output.data[HTML_MIME_TYPE];\n",
              "      const script_attrs = bk_div.children[0].attributes;\n",
              "      for (let i = 0; i < script_attrs.length; i++) {\n",
              "        toinsert[toinsert.length - 1].firstChild.setAttribute(script_attrs[i].name, script_attrs[i].value);\n",
              "        toinsert[toinsert.length - 1].firstChild.textContent = bk_div.children[0].textContent\n",
              "      }\n",
              "      // store reference to server id on output_area\n",
              "      output_area._bokeh_server_id = output.metadata[EXEC_MIME_TYPE][\"server_id\"];\n",
              "    }\n",
              "  }\n",
              "\n",
              "  function register_renderer(events, OutputArea) {\n",
              "\n",
              "    function append_mime(data, metadata, element) {\n",
              "      // create a DOM node to render to\n",
              "      const toinsert = this.create_output_subarea(\n",
              "        metadata,\n",
              "        CLASS_NAME,\n",
              "        EXEC_MIME_TYPE\n",
              "      );\n",
              "      this.keyboard_manager.register_events(toinsert);\n",
              "      // Render to node\n",
              "      const props = {data: data, metadata: metadata[EXEC_MIME_TYPE]};\n",
              "      render(props, toinsert[toinsert.length - 1]);\n",
              "      element.append(toinsert);\n",
              "      return toinsert\n",
              "    }\n",
              "\n",
              "    /* Handle when an output is cleared or removed */\n",
              "    events.on('clear_output.CodeCell', handleClearOutput);\n",
              "    events.on('delete.Cell', handleClearOutput);\n",
              "\n",
              "    /* Handle when a new output is added */\n",
              "    events.on('output_added.OutputArea', handleAddOutput);\n",
              "\n",
              "    /**\n",
              "     * Register the mime type and append_mime function with output_area\n",
              "     */\n",
              "    OutputArea.prototype.register_mime_type(EXEC_MIME_TYPE, append_mime, {\n",
              "      /* Is output safe? */\n",
              "      safe: true,\n",
              "      /* Index of renderer in `output_area.display_order` */\n",
              "      index: 0\n",
              "    });\n",
              "  }\n",
              "\n",
              "  // register the mime type if in Jupyter Notebook environment and previously unregistered\n",
              "  if (root.Jupyter !== undefined) {\n",
              "    const events = require('base/js/events');\n",
              "    const OutputArea = require('notebook/js/outputarea').OutputArea;\n",
              "\n",
              "    if (OutputArea.prototype.mime_types().indexOf(EXEC_MIME_TYPE) == -1) {\n",
              "      register_renderer(events, OutputArea);\n",
              "    }\n",
              "  }\n",
              "  if (typeof (root._bokeh_timeout) === \"undefined\" || force === true) {\n",
              "    root._bokeh_timeout = Date.now() + 5000;\n",
              "    root._bokeh_failed_load = false;\n",
              "  }\n",
              "\n",
              "  const NB_LOAD_WARNING = {'data': {'text/html':\n",
              "     \"<div style='background-color: #fdd'>\\n\"+\n",
              "     \"<p>\\n\"+\n",
              "     \"BokehJS does not appear to have successfully loaded. If loading BokehJS from CDN, this \\n\"+\n",
              "     \"may be due to a slow or bad network connection. Possible fixes:\\n\"+\n",
              "     \"</p>\\n\"+\n",
              "     \"<ul>\\n\"+\n",
              "     \"<li>re-rerun `output_notebook()` to attempt to load from CDN again, or</li>\\n\"+\n",
              "     \"<li>use INLINE resources instead, as so:</li>\\n\"+\n",
              "     \"</ul>\\n\"+\n",
              "     \"<code>\\n\"+\n",
              "     \"from bokeh.resources import INLINE\\n\"+\n",
              "     \"output_notebook(resources=INLINE)\\n\"+\n",
              "     \"</code>\\n\"+\n",
              "     \"</div>\"}};\n",
              "\n",
              "  function display_loaded() {\n",
              "    const el = document.getElementById(null);\n",
              "    if (el != null) {\n",
              "      el.textContent = \"BokehJS is loading...\";\n",
              "    }\n",
              "    if (root.Bokeh !== undefined) {\n",
              "      if (el != null) {\n",
              "        el.textContent = \"BokehJS \" + root.Bokeh.version + \" successfully loaded.\";\n",
              "      }\n",
              "    } else if (Date.now() < root._bokeh_timeout) {\n",
              "      setTimeout(display_loaded, 100)\n",
              "    }\n",
              "  }\n",
              "\n",
              "  function run_callbacks() {\n",
              "    try {\n",
              "      root._bokeh_onload_callbacks.forEach(function(callback) {\n",
              "        if (callback != null)\n",
              "          callback();\n",
              "      });\n",
              "    } finally {\n",
              "      delete root._bokeh_onload_callbacks\n",
              "    }\n",
              "    console.debug(\"Bokeh: all callbacks have finished\");\n",
              "  }\n",
              "\n",
              "  function load_libs(css_urls, js_urls, callback) {\n",
              "    if (css_urls == null) css_urls = [];\n",
              "    if (js_urls == null) js_urls = [];\n",
              "\n",
              "    root._bokeh_onload_callbacks.push(callback);\n",
              "    if (root._bokeh_is_loading > 0) {\n",
              "      console.debug(\"Bokeh: BokehJS is being loaded, scheduling callback at\", now());\n",
              "      return null;\n",
              "    }\n",
              "    if (js_urls == null || js_urls.length === 0) {\n",
              "      run_callbacks();\n",
              "      return null;\n",
              "    }\n",
              "    console.debug(\"Bokeh: BokehJS not loaded, scheduling load and callback at\", now());\n",
              "    root._bokeh_is_loading = css_urls.length + js_urls.length;\n",
              "\n",
              "    function on_load() {\n",
              "      root._bokeh_is_loading--;\n",
              "      if (root._bokeh_is_loading === 0) {\n",
              "        console.debug(\"Bokeh: all BokehJS libraries/stylesheets loaded\");\n",
              "        run_callbacks()\n",
              "      }\n",
              "    }\n",
              "\n",
              "    function on_error(url) {\n",
              "      console.error(\"failed to load \" + url);\n",
              "    }\n",
              "\n",
              "    for (let i = 0; i < css_urls.length; i++) {\n",
              "      const url = css_urls[i];\n",
              "      const element = document.createElement(\"link\");\n",
              "      element.onload = on_load;\n",
              "      element.onerror = on_error.bind(null, url);\n",
              "      element.rel = \"stylesheet\";\n",
              "      element.type = \"text/css\";\n",
              "      element.href = url;\n",
              "      console.debug(\"Bokeh: injecting link tag for BokehJS stylesheet: \", url);\n",
              "      document.body.appendChild(element);\n",
              "    }\n",
              "\n",
              "    for (let i = 0; i < js_urls.length; i++) {\n",
              "      const url = js_urls[i];\n",
              "      const element = document.createElement('script');\n",
              "      element.onload = on_load;\n",
              "      element.onerror = on_error.bind(null, url);\n",
              "      element.async = false;\n",
              "      element.src = url;\n",
              "      console.debug(\"Bokeh: injecting script tag for BokehJS library: \", url);\n",
              "      document.head.appendChild(element);\n",
              "    }\n",
              "  };\n",
              "\n",
              "  function inject_raw_css(css) {\n",
              "    const element = document.createElement(\"style\");\n",
              "    element.appendChild(document.createTextNode(css));\n",
              "    document.body.appendChild(element);\n",
              "  }\n",
              "\n",
              "  const js_urls = [\"https://cdn.bokeh.org/bokeh/release/bokeh-2.4.3.min.js\", \"https://cdn.bokeh.org/bokeh/release/bokeh-gl-2.4.3.min.js\", \"https://cdn.bokeh.org/bokeh/release/bokeh-widgets-2.4.3.min.js\", \"https://cdn.bokeh.org/bokeh/release/bokeh-tables-2.4.3.min.js\", \"https://cdn.bokeh.org/bokeh/release/bokeh-mathjax-2.4.3.min.js\"];\n",
              "  const css_urls = [];\n",
              "\n",
              "  const inline_js = [    function(Bokeh) {\n",
              "      Bokeh.set_log_level(\"info\");\n",
              "    },\n",
              "function(Bokeh) {\n",
              "    }\n",
              "  ];\n",
              "\n",
              "  function run_inline_js() {\n",
              "    if (root.Bokeh !== undefined || force === true) {\n",
              "          for (let i = 0; i < inline_js.length; i++) {\n",
              "      inline_js[i].call(root, root.Bokeh);\n",
              "    }\n",
              "} else if (Date.now() < root._bokeh_timeout) {\n",
              "      setTimeout(run_inline_js, 100);\n",
              "    } else if (!root._bokeh_failed_load) {\n",
              "      console.log(\"Bokeh: BokehJS failed to load within specified timeout.\");\n",
              "      root._bokeh_failed_load = true;\n",
              "    } else if (force !== true) {\n",
              "      const cell = $(document.getElementById(null)).parents('.cell').data().cell;\n",
              "      cell.output_area.append_execute_result(NB_LOAD_WARNING)\n",
              "    }\n",
              "  }\n",
              "\n",
              "  if (root._bokeh_is_loading === 0) {\n",
              "    console.debug(\"Bokeh: BokehJS loaded, going straight to plotting\");\n",
              "    run_inline_js();\n",
              "  } else {\n",
              "    load_libs(css_urls, js_urls, function() {\n",
              "      console.debug(\"Bokeh: BokehJS plotting callback run at\", now());\n",
              "      run_inline_js();\n",
              "    });\n",
              "  }\n",
              "}(window));"
            ],
            "application/vnd.bokehjs_load.v0+json": "(function(root) {\n  function now() {\n    return new Date();\n  }\n\n  const force = true;\n\n  if (typeof root._bokeh_onload_callbacks === \"undefined\" || force === true) {\n    root._bokeh_onload_callbacks = [];\n    root._bokeh_is_loading = undefined;\n  }\n\n\n  if (typeof (root._bokeh_timeout) === \"undefined\" || force === true) {\n    root._bokeh_timeout = Date.now() + 5000;\n    root._bokeh_failed_load = false;\n  }\n\n  const NB_LOAD_WARNING = {'data': {'text/html':\n     \"<div style='background-color: #fdd'>\\n\"+\n     \"<p>\\n\"+\n     \"BokehJS does not appear to have successfully loaded. If loading BokehJS from CDN, this \\n\"+\n     \"may be due to a slow or bad network connection. Possible fixes:\\n\"+\n     \"</p>\\n\"+\n     \"<ul>\\n\"+\n     \"<li>re-rerun `output_notebook()` to attempt to load from CDN again, or</li>\\n\"+\n     \"<li>use INLINE resources instead, as so:</li>\\n\"+\n     \"</ul>\\n\"+\n     \"<code>\\n\"+\n     \"from bokeh.resources import INLINE\\n\"+\n     \"output_notebook(resources=INLINE)\\n\"+\n     \"</code>\\n\"+\n     \"</div>\"}};\n\n  function display_loaded() {\n    const el = document.getElementById(null);\n    if (el != null) {\n      el.textContent = \"BokehJS is loading...\";\n    }\n    if (root.Bokeh !== undefined) {\n      if (el != null) {\n        el.textContent = \"BokehJS \" + root.Bokeh.version + \" successfully loaded.\";\n      }\n    } else if (Date.now() < root._bokeh_timeout) {\n      setTimeout(display_loaded, 100)\n    }\n  }\n\n  function run_callbacks() {\n    try {\n      root._bokeh_onload_callbacks.forEach(function(callback) {\n        if (callback != null)\n          callback();\n      });\n    } finally {\n      delete root._bokeh_onload_callbacks\n    }\n    console.debug(\"Bokeh: all callbacks have finished\");\n  }\n\n  function load_libs(css_urls, js_urls, callback) {\n    if (css_urls == null) css_urls = [];\n    if (js_urls == null) js_urls = [];\n\n    root._bokeh_onload_callbacks.push(callback);\n    if (root._bokeh_is_loading > 0) {\n      console.debug(\"Bokeh: BokehJS is being loaded, scheduling callback at\", now());\n      return null;\n    }\n    if (js_urls == null || js_urls.length === 0) {\n      run_callbacks();\n      return null;\n    }\n    console.debug(\"Bokeh: BokehJS not loaded, scheduling load and callback at\", now());\n    root._bokeh_is_loading = css_urls.length + js_urls.length;\n\n    function on_load() {\n      root._bokeh_is_loading--;\n      if (root._bokeh_is_loading === 0) {\n        console.debug(\"Bokeh: all BokehJS libraries/stylesheets loaded\");\n        run_callbacks()\n      }\n    }\n\n    function on_error(url) {\n      console.error(\"failed to load \" + url);\n    }\n\n    for (let i = 0; i < css_urls.length; i++) {\n      const url = css_urls[i];\n      const element = document.createElement(\"link\");\n      element.onload = on_load;\n      element.onerror = on_error.bind(null, url);\n      element.rel = \"stylesheet\";\n      element.type = \"text/css\";\n      element.href = url;\n      console.debug(\"Bokeh: injecting link tag for BokehJS stylesheet: \", url);\n      document.body.appendChild(element);\n    }\n\n    for (let i = 0; i < js_urls.length; i++) {\n      const url = js_urls[i];\n      const element = document.createElement('script');\n      element.onload = on_load;\n      element.onerror = on_error.bind(null, url);\n      element.async = false;\n      element.src = url;\n      console.debug(\"Bokeh: injecting script tag for BokehJS library: \", url);\n      document.head.appendChild(element);\n    }\n  };\n\n  function inject_raw_css(css) {\n    const element = document.createElement(\"style\");\n    element.appendChild(document.createTextNode(css));\n    document.body.appendChild(element);\n  }\n\n  const js_urls = [\"https://cdn.bokeh.org/bokeh/release/bokeh-2.4.3.min.js\", \"https://cdn.bokeh.org/bokeh/release/bokeh-gl-2.4.3.min.js\", \"https://cdn.bokeh.org/bokeh/release/bokeh-widgets-2.4.3.min.js\", \"https://cdn.bokeh.org/bokeh/release/bokeh-tables-2.4.3.min.js\", \"https://cdn.bokeh.org/bokeh/release/bokeh-mathjax-2.4.3.min.js\"];\n  const css_urls = [];\n\n  const inline_js = [    function(Bokeh) {\n      Bokeh.set_log_level(\"info\");\n    },\nfunction(Bokeh) {\n    }\n  ];\n\n  function run_inline_js() {\n    if (root.Bokeh !== undefined || force === true) {\n          for (let i = 0; i < inline_js.length; i++) {\n      inline_js[i].call(root, root.Bokeh);\n    }\n} else if (Date.now() < root._bokeh_timeout) {\n      setTimeout(run_inline_js, 100);\n    } else if (!root._bokeh_failed_load) {\n      console.log(\"Bokeh: BokehJS failed to load within specified timeout.\");\n      root._bokeh_failed_load = true;\n    } else if (force !== true) {\n      const cell = $(document.getElementById(null)).parents('.cell').data().cell;\n      cell.output_area.append_execute_result(NB_LOAD_WARNING)\n    }\n  }\n\n  if (root._bokeh_is_loading === 0) {\n    console.debug(\"Bokeh: BokehJS loaded, going straight to plotting\");\n    run_inline_js();\n  } else {\n    load_libs(css_urls, js_urls, function() {\n      console.debug(\"Bokeh: BokehJS plotting callback run at\", now());\n      run_inline_js();\n    });\n  }\n}(window));"
          },
          "metadata": {}
        },
        {
          "output_type": "display_data",
          "data": {
            "text/html": [
              "\n",
              "  <div class=\"bk-root\" id=\"5966f76c-5982-4864-88c4-cf352004c85b\" data-root-id=\"2945\"></div>\n"
            ]
          },
          "metadata": {}
        },
        {
          "output_type": "display_data",
          "data": {
            "application/javascript": [
              "(function(root) {\n",
              "  function embed_document(root) {\n",
              "  const docs_json = {\"da22d488-9100-46d7-a31a-7d06af95c612\":{\"defs\":[],\"roots\":{\"references\":[{\"attributes\":{\"below\":[{\"id\":\"2956\"}],\"center\":[{\"id\":\"2959\"},{\"id\":\"2963\"}],\"height\":450,\"left\":[{\"id\":\"2960\"}],\"renderers\":[{\"id\":\"2982\"}],\"title\":{\"id\":\"2946\"},\"toolbar\":{\"id\":\"2971\"},\"width\":400,\"x_range\":{\"id\":\"2948\"},\"x_scale\":{\"id\":\"2952\"},\"y_range\":{\"id\":\"2950\"},\"y_scale\":{\"id\":\"2954\"}},\"id\":\"2945\",\"subtype\":\"Figure\",\"type\":\"Plot\"},{\"attributes\":{},\"id\":\"3099\",\"type\":\"BasicTickFormatter\"},{\"attributes\":{\"tools\":[{\"id\":\"2964\"},{\"id\":\"2965\"},{\"id\":\"2966\"},{\"id\":\"2967\"},{\"id\":\"2968\"},{\"id\":\"2969\"}]},\"id\":\"2971\",\"type\":\"Toolbar\"},{\"attributes\":{},\"id\":\"3100\",\"type\":\"AllLabels\"},{\"attributes\":{},\"id\":\"2948\",\"type\":\"DataRange1d\"},{\"attributes\":{},\"id\":\"3101\",\"type\":\"UnionRenderers\"},{\"attributes\":{\"source\":{\"id\":\"2978\"}},\"id\":\"2983\",\"type\":\"CDSView\"},{\"attributes\":{\"fill_color\":{\"value\":\"#1f77b4\"},\"line_color\":{\"value\":\"#1f77b4\"},\"x\":{\"field\":\"x\"},\"y\":{\"field\":\"y\"}},\"id\":\"2979\",\"type\":\"Circle\"},{\"attributes\":{},\"id\":\"2952\",\"type\":\"LinearScale\"},{\"attributes\":{\"data\":{\"x\":{\"__ndarray__\":\"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\",\"dtype\":\"float64\",\"order\":\"little\",\"shape\":[3839]},\"y\":{\"__ndarray__\":\"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\",\"dtype\":\"float32\",\"order\":\"little\",\"shape\":[3839]}},\"selected\":{\"id\":\"3102\"},\"selection_policy\":{\"id\":\"3101\"}},\"id\":\"2978\",\"type\":\"ColumnDataSource\"},{\"attributes\":{},\"id\":\"3102\",\"type\":\"Selection\"},{\"attributes\":{},\"id\":\"2969\",\"type\":\"HelpTool\"},{\"attributes\":{},\"id\":\"2950\",\"type\":\"DataRange1d\"},{\"attributes\":{\"overlay\":{\"id\":\"2970\"}},\"id\":\"2966\",\"type\":\"BoxZoomTool\"},{\"attributes\":{},\"id\":\"2967\",\"type\":\"SaveTool\"},{\"attributes\":{},\"id\":\"2968\",\"type\":\"ResetTool\"},{\"attributes\":{\"axis_label\":\"UMI Sum\",\"coordinates\":null,\"formatter\":{\"id\":\"3096\"},\"group\":null,\"major_label_policy\":{\"id\":\"3097\"},\"ticker\":{\"id\":\"2961\"}},\"id\":\"2960\",\"type\":\"LogAxis\"},{\"attributes\":{},\"id\":\"2954\",\"type\":\"LogScale\"},{\"attributes\":{\"bottom_units\":\"screen\",\"coordinates\":null,\"fill_alpha\":0.5,\"fill_color\":\"lightgrey\",\"group\":null,\"left_units\":\"screen\",\"level\":\"overlay\",\"line_alpha\":1.0,\"line_color\":\"black\",\"line_dash\":[4,4],\"line_width\":2,\"right_units\":\"screen\",\"syncable\":false,\"top_units\":\"screen\"},\"id\":\"2970\",\"type\":\"BoxAnnotation\"},{\"attributes\":{\"ticker\":null},\"id\":\"3096\",\"type\":\"LogTickFormatter\"},{\"attributes\":{\"axis_label\":\"Cell Number\",\"coordinates\":null,\"formatter\":{\"id\":\"3099\"},\"group\":null,\"major_label_policy\":{\"id\":\"3100\"},\"ticker\":{\"id\":\"2957\"}},\"id\":\"2956\",\"type\":\"LinearAxis\"},{\"attributes\":{\"fill_alpha\":{\"value\":0.1},\"fill_color\":{\"value\":\"#1f77b4\"},\"hatch_alpha\":{\"value\":0.1},\"line_alpha\":{\"value\":0.1},\"line_color\":{\"value\":\"#1f77b4\"},\"x\":{\"field\":\"x\"},\"y\":{\"field\":\"y\"}},\"id\":\"2980\",\"type\":\"Circle\"},{\"attributes\":{\"coordinates\":null,\"group\":null,\"text\":\"Knee Plot\"},\"id\":\"2946\",\"type\":\"Title\"},{\"attributes\":{},\"id\":\"3097\",\"type\":\"AllLabels\"},{\"attributes\":{},\"id\":\"2965\",\"type\":\"WheelZoomTool\"},{\"attributes\":{},\"id\":\"2964\",\"type\":\"PanTool\"},{\"attributes\":{},\"id\":\"2957\",\"type\":\"BasicTicker\"},{\"attributes\":{\"coordinates\":null,\"data_source\":{\"id\":\"2978\"},\"glyph\":{\"id\":\"2979\"},\"group\":null,\"hover_glyph\":null,\"muted_glyph\":{\"id\":\"2981\"},\"nonselection_glyph\":{\"id\":\"2980\"},\"view\":{\"id\":\"2983\"}},\"id\":\"2982\",\"type\":\"GlyphRenderer\"},{\"attributes\":{\"axis\":{\"id\":\"2956\"},\"coordinates\":null,\"group\":null,\"ticker\":null},\"id\":\"2959\",\"type\":\"Grid\"},{\"attributes\":{\"axis\":{\"id\":\"2960\"},\"coordinates\":null,\"dimension\":1,\"group\":null,\"ticker\":null},\"id\":\"2963\",\"type\":\"Grid\"},{\"attributes\":{\"fill_alpha\":{\"value\":0.2},\"fill_color\":{\"value\":\"#1f77b4\"},\"hatch_alpha\":{\"value\":0.2},\"line_alpha\":{\"value\":0.2},\"line_color\":{\"value\":\"#1f77b4\"},\"x\":{\"field\":\"x\"},\"y\":{\"field\":\"y\"}},\"id\":\"2981\",\"type\":\"Circle\"},{\"attributes\":{\"num_minor_ticks\":10},\"id\":\"2961\",\"type\":\"LogTicker\"}],\"root_ids\":[\"2945\"]},\"title\":\"Bokeh Application\",\"version\":\"2.4.3\"}};\n",
              "  const render_items = [{\"docid\":\"da22d488-9100-46d7-a31a-7d06af95c612\",\"root_ids\":[\"2945\"],\"roots\":{\"2945\":\"5966f76c-5982-4864-88c4-cf352004c85b\"}}];\n",
              "  root.Bokeh.embed.embed_items_notebook(docs_json, render_items);\n",
              "  }\n",
              "  if (root.Bokeh !== undefined) {\n",
              "    embed_document(root);\n",
              "  } else {\n",
              "    let attempts = 0;\n",
              "    const timer = setInterval(function(root) {\n",
              "      if (root.Bokeh !== undefined) {\n",
              "        clearInterval(timer);\n",
              "        embed_document(root);\n",
              "      } else {\n",
              "        attempts++;\n",
              "        if (attempts > 100) {\n",
              "          clearInterval(timer);\n",
              "          console.log(\"Bokeh: ERROR: Unable to run BokehJS code because BokehJS library is missing\");\n",
              "        }\n",
              "      }\n",
              "    }, 10, root)\n",
              "  }\n",
              "})(window);"
            ],
            "application/vnd.bokehjs_exec.v0+json": ""
          },
          "metadata": {
            "application/vnd.bokehjs_exec.v0+json": {
              "id": "2945"
            }
          }
        }
      ],
      "source": [
        "#lets start by rearranging the count matrix in order of highest to lowest UMI counts \n",
        "UMI_sum_Sorted = np.flip(np.sort(count_mat.sum(axis=1),axis=0))\n",
        "\n",
        "knee = bokeh.plotting.figure(width = 400, height = 450,\n",
        "                          title = \"Knee Plot\",\n",
        "                          x_axis_label = \"Cell Number\", y_axis_label=\"UMI Sum\",y_axis_type=\"log\")\n",
        "x = np.linspace(1,np.shape(count_mat)[0],np.shape(count_mat)[0])\n",
        "knee.circle(x,np.array(UMI_sum_Sorted.T)[0])\n",
        "\n",
        "bokeh.io.show(knee)"
      ]
    },
    {
      "cell_type": "markdown",
      "source": [
        "It looks like we should keep the top 3600 cells of the cells sorted by UMI count. This is because the inflection point occurs around this point meaning the cells after this point are most likely empty droplets with noise. "
      ],
      "metadata": {
        "id": "SDd7HEhJKAFc"
      }
    },
    {
      "cell_type": "markdown",
      "metadata": {
        "id": "OQDAIuPCQze5"
      },
      "source": [
        "# **Read in data for Parts b-d analysis**"
      ]
    },
    {
      "cell_type": "markdown",
      "metadata": {
        "id": "XGPCUCKaTt0R"
      },
      "source": [
        "For Parts b-d you will be using the full gene count matrix across the 3-month and 24-month mouse cells combined, as provided in the original paper, which is 14,813 cells × 21,969 genes. We will filter for the top 2000 highly variable genes, so that you can use this matrix within the Colab environment. (Downloaded below)"
      ]
    },
    {
      "cell_type": "code",
      "execution_count": 142,
      "metadata": {
        "colab": {
          "base_uri": "https://localhost:8080/"
        },
        "id": "luQCozWsMUVI",
        "outputId": "ebaacb35-e4ba-4538-c62e-6f05e32cfac7"
      },
      "outputs": [
        {
          "output_type": "stream",
          "name": "stdout",
          "text": [
            "--2023-03-13 01:24:30--  https://ftp.ncbi.nlm.nih.gov/geo/series/GSE124nnn/GSE124872/suppl/GSE124872_raw_counts_single_cell.mtx.gz\n",
            "Resolving ftp.ncbi.nlm.nih.gov (ftp.ncbi.nlm.nih.gov)... 130.14.250.7, 130.14.250.10, 2607:f220:41e:250::13, ...\n",
            "Connecting to ftp.ncbi.nlm.nih.gov (ftp.ncbi.nlm.nih.gov)|130.14.250.7|:443... connected.\n",
            "HTTP request sent, awaiting response... 200 OK\n",
            "Length: 20074662 (19M) [application/x-gzip]\n",
            "Saving to: ‘GSE124872_raw_counts_single_cell.mtx.gz’\n",
            "\n",
            "GSE124872_raw_count 100%[===================>]  19.14M  47.7MB/s    in 0.4s    \n",
            "\n",
            "2023-03-13 01:24:30 (47.7 MB/s) - ‘GSE124872_raw_counts_single_cell.mtx.gz’ saved [20074662/20074662]\n",
            "\n"
          ]
        }
      ],
      "source": [
        "#Read in full cell x gene count matrix for 3 and 24 month old mice lung samples\n",
        "!wget --content-disposition https://ftp.ncbi.nlm.nih.gov/geo/series/GSE124nnn/GSE124872/suppl/GSE124872_raw_counts_single_cell.mtx.gz"
      ]
    },
    {
      "cell_type": "code",
      "execution_count": 143,
      "metadata": {
        "colab": {
          "base_uri": "https://localhost:8080/"
        },
        "id": "PQsw10rIMUVI",
        "outputId": "0966af67-1057-415d-c5ae-97ed09e72ff0"
      },
      "outputs": [
        {
          "output_type": "stream",
          "name": "stdout",
          "text": [
            "--2023-03-13 01:24:31--  https://ftp.ncbi.nlm.nih.gov/geo/series/GSE124nnn/GSE124872/suppl/GSE124872_Angelidis_2018_metadata.csv.gz\n",
            "Resolving ftp.ncbi.nlm.nih.gov (ftp.ncbi.nlm.nih.gov)... 130.14.250.7, 130.14.250.10, 2607:f220:41e:250::13, ...\n",
            "Connecting to ftp.ncbi.nlm.nih.gov (ftp.ncbi.nlm.nih.gov)|130.14.250.7|:443... connected.\n",
            "HTTP request sent, awaiting response... 200 OK\n",
            "Length: 188271 (184K) [application/x-gzip]\n",
            "Saving to: ‘GSE124872_Angelidis_2018_metadata.csv.gz’\n",
            "\n",
            "\r          GSE124872   0%[                    ]       0  --.-KB/s               \rGSE124872_Angelidis 100%[===================>] 183.86K  --.-KB/s    in 0.02s   \n",
            "\n",
            "2023-03-13 01:24:31 (9.52 MB/s) - ‘GSE124872_Angelidis_2018_metadata.csv.gz’ saved [188271/188271]\n",
            "\n"
          ]
        }
      ],
      "source": [
        "#Read in cell metadata\n",
        "!wget --content-disposition https://ftp.ncbi.nlm.nih.gov/geo/series/GSE124nnn/GSE124872/suppl/GSE124872_Angelidis_2018_metadata.csv.gz"
      ]
    },
    {
      "cell_type": "code",
      "execution_count": 144,
      "metadata": {
        "id": "X0H4GbBIMUVJ"
      },
      "outputs": [],
      "source": [
        "!gunzip GSE124872_Angelidis_2018_metadata.csv.gz\n",
        "!gunzip GSE124872_raw_counts_single_cell.mtx.gz"
      ]
    },
    {
      "cell_type": "markdown",
      "metadata": {
        "id": "6XidblsX0BcX"
      },
      "source": [
        "Read in metadata of cells: \"grouping\" denotes the age (3m - 3 month, 24m - 24 month) and \"celltype\" denotes the cell type e.g. Plasma_cells"
      ]
    },
    {
      "cell_type": "code",
      "execution_count": 145,
      "metadata": {
        "colab": {
          "base_uri": "https://localhost:8080/",
          "height": 206
        },
        "id": "00wWx2nxqZat",
        "outputId": "82e23089-84d3-412d-965e-2e1f59601b65"
      },
      "outputs": [
        {
          "output_type": "execute_result",
          "data": {
            "text/plain": [
              "                     Unnamed: 0  nGene   nUMI orig.ident identifier  res.2  \\\n",
              "0  muc3838:muc3838:TTCCGTGCCCCT   4255  10691     merged    muc3838      2   \n",
              "1  muc3838:muc3838:TTGCCCAATTAA   3178   6860     merged    muc3838      2   \n",
              "2  muc3838:muc3838:AAGCCCAGCTAT   1470   6127     merged    muc3838     24   \n",
              "3  muc3838:muc3838:GCACTTTAGAAT   2348   4359     merged    muc3838      2   \n",
              "4  muc3838:muc3838:TCCTGCTCCCTT   2439   5293     merged    muc3838      2   \n",
              "\n",
              "  identifier.1  name grouping batch  cells    cluster        celltype  \n",
              "0      muc3838   NaN      24m  good    800   cluster2  Ciliated_cells  \n",
              "1      muc3838   NaN      24m  good    800   cluster2  Ciliated_cells  \n",
              "2      muc3838   NaN      24m  good    800  cluster24    Plasma_cells  \n",
              "3      muc3838   NaN      24m  good    800   cluster2  Ciliated_cells  \n",
              "4      muc3838   NaN      24m  good    800   cluster2  Ciliated_cells  "
            ],
            "text/html": [
              "\n",
              "  <div id=\"df-cfbb840e-5752-4dca-b1b2-37d7bbf8961b\">\n",
              "    <div class=\"colab-df-container\">\n",
              "      <div>\n",
              "<style scoped>\n",
              "    .dataframe tbody tr th:only-of-type {\n",
              "        vertical-align: middle;\n",
              "    }\n",
              "\n",
              "    .dataframe tbody tr th {\n",
              "        vertical-align: top;\n",
              "    }\n",
              "\n",
              "    .dataframe thead th {\n",
              "        text-align: right;\n",
              "    }\n",
              "</style>\n",
              "<table border=\"1\" class=\"dataframe\">\n",
              "  <thead>\n",
              "    <tr style=\"text-align: right;\">\n",
              "      <th></th>\n",
              "      <th>Unnamed: 0</th>\n",
              "      <th>nGene</th>\n",
              "      <th>nUMI</th>\n",
              "      <th>orig.ident</th>\n",
              "      <th>identifier</th>\n",
              "      <th>res.2</th>\n",
              "      <th>identifier.1</th>\n",
              "      <th>name</th>\n",
              "      <th>grouping</th>\n",
              "      <th>batch</th>\n",
              "      <th>cells</th>\n",
              "      <th>cluster</th>\n",
              "      <th>celltype</th>\n",
              "    </tr>\n",
              "  </thead>\n",
              "  <tbody>\n",
              "    <tr>\n",
              "      <th>0</th>\n",
              "      <td>muc3838:muc3838:TTCCGTGCCCCT</td>\n",
              "      <td>4255</td>\n",
              "      <td>10691</td>\n",
              "      <td>merged</td>\n",
              "      <td>muc3838</td>\n",
              "      <td>2</td>\n",
              "      <td>muc3838</td>\n",
              "      <td>NaN</td>\n",
              "      <td>24m</td>\n",
              "      <td>good</td>\n",
              "      <td>800</td>\n",
              "      <td>cluster2</td>\n",
              "      <td>Ciliated_cells</td>\n",
              "    </tr>\n",
              "    <tr>\n",
              "      <th>1</th>\n",
              "      <td>muc3838:muc3838:TTGCCCAATTAA</td>\n",
              "      <td>3178</td>\n",
              "      <td>6860</td>\n",
              "      <td>merged</td>\n",
              "      <td>muc3838</td>\n",
              "      <td>2</td>\n",
              "      <td>muc3838</td>\n",
              "      <td>NaN</td>\n",
              "      <td>24m</td>\n",
              "      <td>good</td>\n",
              "      <td>800</td>\n",
              "      <td>cluster2</td>\n",
              "      <td>Ciliated_cells</td>\n",
              "    </tr>\n",
              "    <tr>\n",
              "      <th>2</th>\n",
              "      <td>muc3838:muc3838:AAGCCCAGCTAT</td>\n",
              "      <td>1470</td>\n",
              "      <td>6127</td>\n",
              "      <td>merged</td>\n",
              "      <td>muc3838</td>\n",
              "      <td>24</td>\n",
              "      <td>muc3838</td>\n",
              "      <td>NaN</td>\n",
              "      <td>24m</td>\n",
              "      <td>good</td>\n",
              "      <td>800</td>\n",
              "      <td>cluster24</td>\n",
              "      <td>Plasma_cells</td>\n",
              "    </tr>\n",
              "    <tr>\n",
              "      <th>3</th>\n",
              "      <td>muc3838:muc3838:GCACTTTAGAAT</td>\n",
              "      <td>2348</td>\n",
              "      <td>4359</td>\n",
              "      <td>merged</td>\n",
              "      <td>muc3838</td>\n",
              "      <td>2</td>\n",
              "      <td>muc3838</td>\n",
              "      <td>NaN</td>\n",
              "      <td>24m</td>\n",
              "      <td>good</td>\n",
              "      <td>800</td>\n",
              "      <td>cluster2</td>\n",
              "      <td>Ciliated_cells</td>\n",
              "    </tr>\n",
              "    <tr>\n",
              "      <th>4</th>\n",
              "      <td>muc3838:muc3838:TCCTGCTCCCTT</td>\n",
              "      <td>2439</td>\n",
              "      <td>5293</td>\n",
              "      <td>merged</td>\n",
              "      <td>muc3838</td>\n",
              "      <td>2</td>\n",
              "      <td>muc3838</td>\n",
              "      <td>NaN</td>\n",
              "      <td>24m</td>\n",
              "      <td>good</td>\n",
              "      <td>800</td>\n",
              "      <td>cluster2</td>\n",
              "      <td>Ciliated_cells</td>\n",
              "    </tr>\n",
              "  </tbody>\n",
              "</table>\n",
              "</div>\n",
              "      <button class=\"colab-df-convert\" onclick=\"convertToInteractive('df-cfbb840e-5752-4dca-b1b2-37d7bbf8961b')\"\n",
              "              title=\"Convert this dataframe to an interactive table.\"\n",
              "              style=\"display:none;\">\n",
              "        \n",
              "  <svg xmlns=\"http://www.w3.org/2000/svg\" height=\"24px\"viewBox=\"0 0 24 24\"\n",
              "       width=\"24px\">\n",
              "    <path d=\"M0 0h24v24H0V0z\" fill=\"none\"/>\n",
              "    <path d=\"M18.56 5.44l.94 2.06.94-2.06 2.06-.94-2.06-.94-.94-2.06-.94 2.06-2.06.94zm-11 1L8.5 8.5l.94-2.06 2.06-.94-2.06-.94L8.5 2.5l-.94 2.06-2.06.94zm10 10l.94 2.06.94-2.06 2.06-.94-2.06-.94-.94-2.06-.94 2.06-2.06.94z\"/><path d=\"M17.41 7.96l-1.37-1.37c-.4-.4-.92-.59-1.43-.59-.52 0-1.04.2-1.43.59L10.3 9.45l-7.72 7.72c-.78.78-.78 2.05 0 2.83L4 21.41c.39.39.9.59 1.41.59.51 0 1.02-.2 1.41-.59l7.78-7.78 2.81-2.81c.8-.78.8-2.07 0-2.86zM5.41 20L4 18.59l7.72-7.72 1.47 1.35L5.41 20z\"/>\n",
              "  </svg>\n",
              "      </button>\n",
              "      \n",
              "  <style>\n",
              "    .colab-df-container {\n",
              "      display:flex;\n",
              "      flex-wrap:wrap;\n",
              "      gap: 12px;\n",
              "    }\n",
              "\n",
              "    .colab-df-convert {\n",
              "      background-color: #E8F0FE;\n",
              "      border: none;\n",
              "      border-radius: 50%;\n",
              "      cursor: pointer;\n",
              "      display: none;\n",
              "      fill: #1967D2;\n",
              "      height: 32px;\n",
              "      padding: 0 0 0 0;\n",
              "      width: 32px;\n",
              "    }\n",
              "\n",
              "    .colab-df-convert:hover {\n",
              "      background-color: #E2EBFA;\n",
              "      box-shadow: 0px 1px 2px rgba(60, 64, 67, 0.3), 0px 1px 3px 1px rgba(60, 64, 67, 0.15);\n",
              "      fill: #174EA6;\n",
              "    }\n",
              "\n",
              "    [theme=dark] .colab-df-convert {\n",
              "      background-color: #3B4455;\n",
              "      fill: #D2E3FC;\n",
              "    }\n",
              "\n",
              "    [theme=dark] .colab-df-convert:hover {\n",
              "      background-color: #434B5C;\n",
              "      box-shadow: 0px 1px 3px 1px rgba(0, 0, 0, 0.15);\n",
              "      filter: drop-shadow(0px 1px 2px rgba(0, 0, 0, 0.3));\n",
              "      fill: #FFFFFF;\n",
              "    }\n",
              "  </style>\n",
              "\n",
              "      <script>\n",
              "        const buttonEl =\n",
              "          document.querySelector('#df-cfbb840e-5752-4dca-b1b2-37d7bbf8961b button.colab-df-convert');\n",
              "        buttonEl.style.display =\n",
              "          google.colab.kernel.accessAllowed ? 'block' : 'none';\n",
              "\n",
              "        async function convertToInteractive(key) {\n",
              "          const element = document.querySelector('#df-cfbb840e-5752-4dca-b1b2-37d7bbf8961b');\n",
              "          const dataTable =\n",
              "            await google.colab.kernel.invokeFunction('convertToInteractive',\n",
              "                                                     [key], {});\n",
              "          if (!dataTable) return;\n",
              "\n",
              "          const docLinkHtml = 'Like what you see? Visit the ' +\n",
              "            '<a target=\"_blank\" href=https://colab.research.google.com/notebooks/data_table.ipynb>data table notebook</a>'\n",
              "            + ' to learn more about interactive tables.';\n",
              "          element.innerHTML = '';\n",
              "          dataTable['output_type'] = 'display_data';\n",
              "          await google.colab.output.renderOutput(dataTable, element);\n",
              "          const docLink = document.createElement('div');\n",
              "          docLink.innerHTML = docLinkHtml;\n",
              "          element.appendChild(docLink);\n",
              "        }\n",
              "      </script>\n",
              "    </div>\n",
              "  </div>\n",
              "  "
            ]
          },
          "metadata": {},
          "execution_count": 145
        }
      ],
      "source": [
        "meta = pd.read_csv('GSE124872_Angelidis_2018_metadata.csv')\n",
        "meta.head()"
      ]
    },
    {
      "cell_type": "markdown",
      "metadata": {
        "id": "t1yZZZYuMiEO"
      },
      "source": [
        "**The dataset**"
      ]
    },
    {
      "cell_type": "markdown",
      "metadata": {
        "id": "zZ59i_izMiEO"
      },
      "source": [
        "This is a Drop-seq based single-cell RNA-seq dataset produced from tissue extracted from the whole mouse lung, published by [Ilias Angelidis, Lukas M. Simon et al. 2019](https://www.nature.com/articles/s41467-019-08831-9). In the study single-cell suspensions were generated from eight 3-month old mice and seven 24-month old mice and looked for cell type specific effects of aging between the mice i.e. to create a single-cell atlas of the aging lung. \n",
        "\n",
        "For Parts b-c we will only be working with the full dataset across both ages and all mice."
      ]
    },
    {
      "cell_type": "markdown",
      "metadata": {
        "id": "WGSuxY1SMiEP"
      },
      "source": [
        "<center><img src=\"https://drive.google.com/uc?export=view&id=1O_x3hmDDes7foQVVLcoZVasrVED1L0Al\" alt=\"EMFigure\" width=\"900\" height=\"150\"><center>"
      ]
    },
    {
      "cell_type": "markdown",
      "metadata": {
        "id": "nAzghRuSMiEP"
      },
      "source": [
        "**The count matrix**\n",
        "\n",
        "This matrix is 14,813 cells by 21,969 genes across all mouse lung samples as provided in Ilias Angelidis, Lukas M. Simon et al. 2019.\n",
        "\n",
        "\n"
      ]
    },
    {
      "cell_type": "markdown",
      "metadata": {
        "id": "9SGWfbirV8ne"
      },
      "source": [
        "Read in count matrix"
      ]
    },
    {
      "cell_type": "code",
      "execution_count": 147,
      "metadata": {
        "colab": {
          "base_uri": "https://localhost:8080/"
        },
        "id": "h3NQrR1zWFqp",
        "outputId": "7b7f2c39-67ec-430e-bc00-21e504a327fd"
      },
      "outputs": [
        {
          "output_type": "execute_result",
          "data": {
            "text/plain": [
              "(14813, 21969)"
            ]
          },
          "metadata": {},
          "execution_count": 147
        }
      ],
      "source": [
        "import scipy.io as sio\n",
        "count_mat = sio.mmread('GSE124872_raw_counts_single_cell.mtx')\n",
        "count_mat = count_mat.todense().T\n",
        "count_mat.shape"
      ]
    },
    {
      "cell_type": "code",
      "execution_count": null,
      "metadata": {
        "id": "2iimKfnAgxYo"
      },
      "outputs": [],
      "source": []
    },
    {
      "cell_type": "markdown",
      "metadata": {
        "id": "I_De9ShHWJo-"
      },
      "source": [
        "Select for top 2000 highly variable genes"
      ]
    },
    {
      "cell_type": "code",
      "execution_count": 148,
      "metadata": {
        "colab": {
          "base_uri": "https://localhost:8080/"
        },
        "id": "dpOyRjceWMOd",
        "outputId": "10d9669a-e2bc-4020-8eea-36fd9250d450"
      },
      "outputs": [
        {
          "output_type": "stream",
          "name": "stderr",
          "text": [
            "<ipython-input-148-38e5e6fbe268>:2: FutureWarning: X.dtype being converted to np.float32 from int64. In the next version of anndata (0.9) conversion will not be automatic. Pass dtype explicitly to avoid this warning. Pass `AnnData(X, dtype=X.dtype, ...)` to get the future behavour.\n",
            "  adata = anndata.AnnData(X = count_mat)\n"
          ]
        },
        {
          "output_type": "execute_result",
          "data": {
            "text/plain": [
              "AnnData object with n_obs × n_vars = 14813 × 21969"
            ]
          },
          "metadata": {},
          "execution_count": 148
        }
      ],
      "source": [
        "#Anndata is a common data type for processing and storing single-cell count matrices\n",
        "adata = anndata.AnnData(X = count_mat)\n",
        "adata"
      ]
    },
    {
      "cell_type": "code",
      "execution_count": 149,
      "metadata": {
        "id": "uxZCUq45i_NJ"
      },
      "outputs": [],
      "source": [
        "#Select the 'highly variable' genes in the matrix so we don't use 21k genes\n",
        "sc.pp.filter_cells(adata, min_counts=0)\n",
        "sc.pp.filter_genes(adata, min_counts=0)\n",
        "\n",
        "sc.pp.normalize_per_cell(adata, counts_per_cell_after=1e4) #Cell-size normalization\n",
        "sc.pp.log1p(adata) #log-variance stabilization\n",
        "\n",
        "sc.pp.highly_variable_genes(adata,n_top_genes=2000)\n",
        "\n",
        "genesToKeep = adata.var['highly_variable']"
      ]
    },
    {
      "cell_type": "code",
      "execution_count": 150,
      "metadata": {
        "colab": {
          "base_uri": "https://localhost:8080/",
          "height": 244
        },
        "id": "SkQSSLeoWMUm",
        "outputId": "c66d1635-cae1-480d-f229-8738d799430d"
      },
      "outputs": [
        {
          "output_type": "error",
          "ename": "AttributeError",
          "evalue": "ignored",
          "traceback": [
            "\u001b[0;31m---------------------------------------------------------------------------\u001b[0m",
            "\u001b[0;31mAttributeError\u001b[0m                            Traceback (most recent call last)",
            "\u001b[0;32m<ipython-input-150-10d344bcfb28>\u001b[0m in \u001b[0;36m<module>\u001b[0;34m\u001b[0m\n\u001b[1;32m      1\u001b[0m \u001b[0;31m#Subset original count matrix\u001b[0m\u001b[0;34m\u001b[0m\u001b[0;34m\u001b[0m\u001b[0m\n\u001b[1;32m      2\u001b[0m \u001b[0mcount_mat\u001b[0m \u001b[0;34m=\u001b[0m \u001b[0mcount_mat\u001b[0m\u001b[0;34m[\u001b[0m\u001b[0;34m:\u001b[0m\u001b[0;34m,\u001b[0m\u001b[0mgenesToKeep\u001b[0m\u001b[0;34m]\u001b[0m\u001b[0;34m\u001b[0m\u001b[0;34m\u001b[0m\u001b[0m\n\u001b[0;32m----> 3\u001b[0;31m \u001b[0mcount_mat\u001b[0m \u001b[0;34m=\u001b[0m \u001b[0mcount_mat\u001b[0m\u001b[0;34m.\u001b[0m\u001b[0mtoarray\u001b[0m\u001b[0;34m(\u001b[0m\u001b[0;34m)\u001b[0m\u001b[0;34m\u001b[0m\u001b[0;34m\u001b[0m\u001b[0m\n\u001b[0m\u001b[1;32m      4\u001b[0m \u001b[0;34m\u001b[0m\u001b[0m\n\u001b[1;32m      5\u001b[0m \u001b[0mcount_mat\u001b[0m\u001b[0;34m.\u001b[0m\u001b[0mshape\u001b[0m\u001b[0;34m\u001b[0m\u001b[0;34m\u001b[0m\u001b[0m\n",
            "\u001b[0;31mAttributeError\u001b[0m: 'matrix' object has no attribute 'toarray'"
          ]
        }
      ],
      "source": [
        "#Subset original count matrix\n",
        "count_mat = count_mat[:,genesToKeep]\n",
        "count_mat = count_mat.toarray()\n",
        "\n",
        "count_mat.shape"
      ]
    },
    {
      "cell_type": "markdown",
      "metadata": {
        "id": "fq77aUyOlNds"
      },
      "source": [
        "**Use this 14813 × 2000 count_mat matrix as your count matrix for parts b-d**"
      ]
    },
    {
      "cell_type": "markdown",
      "metadata": {
        "id": "SxubBCf6NROW"
      },
      "source": [
        "# **b) Normalization (10 points)**"
      ]
    },
    {
      "cell_type": "markdown",
      "metadata": {
        "id": "9M9Gi7mki9bF"
      },
      "source": [
        "Note that we use cell size normalization and then log1p to transform data before selecting highly variable genes, and then we use the indices to subset the raw count matrix. Therefore, the count_mat matrix here is the raw count matrix. \n",
        "\n",
        "In this part, you will do size-normalization and log1p transformations yourself. For size-normalization, normalize the data matrix to 10,000 reads per cell.\n",
        "\n",
        "**Report both the raw count matrix and the normalized matrix (that is size-normalized and then log1p transformed).**"
      ]
    },
    {
      "cell_type": "code",
      "source": [
        "raw = count_mat\n",
        "\n",
        "raw_df = pd.DataFrame(raw)\n",
        "raw_df"
      ],
      "metadata": {
        "id": "D7Mudn5AQ647",
        "colab": {
          "base_uri": "https://localhost:8080/",
          "height": 423
        },
        "outputId": "9e500a99-3932-44ea-feaa-d645ef897f48"
      },
      "execution_count": 152,
      "outputs": [
        {
          "output_type": "execute_result",
          "data": {
            "text/plain": [
              "       0     1     2     3     4     5     6     7     8     9     ...  1990  \\\n",
              "0         0     0     8     9     0     0     0     0     0     0  ...     0   \n",
              "1         0     0     6     2     0     0     0     0     2     0  ...     0   \n",
              "2         0     0     0     0     0     0     0     0     0     0  ...     0   \n",
              "3         0     0     2     4     0     0     0     0     1     0  ...     0   \n",
              "4         0     0     2     2     0     0     0     0     0     0  ...     0   \n",
              "...     ...   ...   ...   ...   ...   ...   ...   ...   ...   ...  ...   ...   \n",
              "14808     0     0     0     0     0     0     0     0     0     0  ...     0   \n",
              "14809     0     0     2     0     0     0     0     0     0     0  ...     0   \n",
              "14810     0     0     0     0     0     0     0     0     0     0  ...     0   \n",
              "14811     0     0     0     0     0     0     0     0     0     0  ...     0   \n",
              "14812     0     0     4     1     0     0     0     0     0     0  ...     0   \n",
              "\n",
              "       1991  1992  1993  1994  1995  1996  1997  1998  1999  \n",
              "0         0     0     0     0     0     0     0     0     0  \n",
              "1         0     0     0     0     0     0     0     0     0  \n",
              "2         0     0     0     0     0     0     0     0     0  \n",
              "3         0     0     0     0     0     0     0     0     0  \n",
              "4         0     0     0     0     0     0     0     0     0  \n",
              "...     ...   ...   ...   ...   ...   ...   ...   ...   ...  \n",
              "14808     0     0     0     0     0     0     0     0     0  \n",
              "14809     0     0     0     0     0     0     0     0     0  \n",
              "14810     0     0     0     0     0     0     0     0     0  \n",
              "14811     0     0     0     0     0     0     0     0     0  \n",
              "14812     0     0     0     0     0     0     0     0     0  \n",
              "\n",
              "[14813 rows x 2000 columns]"
            ],
            "text/html": [
              "\n",
              "  <div id=\"df-e32809f7-4fc1-4f89-a0f6-1128a919ff6b\">\n",
              "    <div class=\"colab-df-container\">\n",
              "      <div>\n",
              "<style scoped>\n",
              "    .dataframe tbody tr th:only-of-type {\n",
              "        vertical-align: middle;\n",
              "    }\n",
              "\n",
              "    .dataframe tbody tr th {\n",
              "        vertical-align: top;\n",
              "    }\n",
              "\n",
              "    .dataframe thead th {\n",
              "        text-align: right;\n",
              "    }\n",
              "</style>\n",
              "<table border=\"1\" class=\"dataframe\">\n",
              "  <thead>\n",
              "    <tr style=\"text-align: right;\">\n",
              "      <th></th>\n",
              "      <th>0</th>\n",
              "      <th>1</th>\n",
              "      <th>2</th>\n",
              "      <th>3</th>\n",
              "      <th>4</th>\n",
              "      <th>5</th>\n",
              "      <th>6</th>\n",
              "      <th>7</th>\n",
              "      <th>8</th>\n",
              "      <th>9</th>\n",
              "      <th>...</th>\n",
              "      <th>1990</th>\n",
              "      <th>1991</th>\n",
              "      <th>1992</th>\n",
              "      <th>1993</th>\n",
              "      <th>1994</th>\n",
              "      <th>1995</th>\n",
              "      <th>1996</th>\n",
              "      <th>1997</th>\n",
              "      <th>1998</th>\n",
              "      <th>1999</th>\n",
              "    </tr>\n",
              "  </thead>\n",
              "  <tbody>\n",
              "    <tr>\n",
              "      <th>0</th>\n",
              "      <td>0</td>\n",
              "      <td>0</td>\n",
              "      <td>8</td>\n",
              "      <td>9</td>\n",
              "      <td>0</td>\n",
              "      <td>0</td>\n",
              "      <td>0</td>\n",
              "      <td>0</td>\n",
              "      <td>0</td>\n",
              "      <td>0</td>\n",
              "      <td>...</td>\n",
              "      <td>0</td>\n",
              "      <td>0</td>\n",
              "      <td>0</td>\n",
              "      <td>0</td>\n",
              "      <td>0</td>\n",
              "      <td>0</td>\n",
              "      <td>0</td>\n",
              "      <td>0</td>\n",
              "      <td>0</td>\n",
              "      <td>0</td>\n",
              "    </tr>\n",
              "    <tr>\n",
              "      <th>1</th>\n",
              "      <td>0</td>\n",
              "      <td>0</td>\n",
              "      <td>6</td>\n",
              "      <td>2</td>\n",
              "      <td>0</td>\n",
              "      <td>0</td>\n",
              "      <td>0</td>\n",
              "      <td>0</td>\n",
              "      <td>2</td>\n",
              "      <td>0</td>\n",
              "      <td>...</td>\n",
              "      <td>0</td>\n",
              "      <td>0</td>\n",
              "      <td>0</td>\n",
              "      <td>0</td>\n",
              "      <td>0</td>\n",
              "      <td>0</td>\n",
              "      <td>0</td>\n",
              "      <td>0</td>\n",
              "      <td>0</td>\n",
              "      <td>0</td>\n",
              "    </tr>\n",
              "    <tr>\n",
              "      <th>2</th>\n",
              "      <td>0</td>\n",
              "      <td>0</td>\n",
              "      <td>0</td>\n",
              "      <td>0</td>\n",
              "      <td>0</td>\n",
              "      <td>0</td>\n",
              "      <td>0</td>\n",
              "      <td>0</td>\n",
              "      <td>0</td>\n",
              "      <td>0</td>\n",
              "      <td>...</td>\n",
              "      <td>0</td>\n",
              "      <td>0</td>\n",
              "      <td>0</td>\n",
              "      <td>0</td>\n",
              "      <td>0</td>\n",
              "      <td>0</td>\n",
              "      <td>0</td>\n",
              "      <td>0</td>\n",
              "      <td>0</td>\n",
              "      <td>0</td>\n",
              "    </tr>\n",
              "    <tr>\n",
              "      <th>3</th>\n",
              "      <td>0</td>\n",
              "      <td>0</td>\n",
              "      <td>2</td>\n",
              "      <td>4</td>\n",
              "      <td>0</td>\n",
              "      <td>0</td>\n",
              "      <td>0</td>\n",
              "      <td>0</td>\n",
              "      <td>1</td>\n",
              "      <td>0</td>\n",
              "      <td>...</td>\n",
              "      <td>0</td>\n",
              "      <td>0</td>\n",
              "      <td>0</td>\n",
              "      <td>0</td>\n",
              "      <td>0</td>\n",
              "      <td>0</td>\n",
              "      <td>0</td>\n",
              "      <td>0</td>\n",
              "      <td>0</td>\n",
              "      <td>0</td>\n",
              "    </tr>\n",
              "    <tr>\n",
              "      <th>4</th>\n",
              "      <td>0</td>\n",
              "      <td>0</td>\n",
              "      <td>2</td>\n",
              "      <td>2</td>\n",
              "      <td>0</td>\n",
              "      <td>0</td>\n",
              "      <td>0</td>\n",
              "      <td>0</td>\n",
              "      <td>0</td>\n",
              "      <td>0</td>\n",
              "      <td>...</td>\n",
              "      <td>0</td>\n",
              "      <td>0</td>\n",
              "      <td>0</td>\n",
              "      <td>0</td>\n",
              "      <td>0</td>\n",
              "      <td>0</td>\n",
              "      <td>0</td>\n",
              "      <td>0</td>\n",
              "      <td>0</td>\n",
              "      <td>0</td>\n",
              "    </tr>\n",
              "    <tr>\n",
              "      <th>...</th>\n",
              "      <td>...</td>\n",
              "      <td>...</td>\n",
              "      <td>...</td>\n",
              "      <td>...</td>\n",
              "      <td>...</td>\n",
              "      <td>...</td>\n",
              "      <td>...</td>\n",
              "      <td>...</td>\n",
              "      <td>...</td>\n",
              "      <td>...</td>\n",
              "      <td>...</td>\n",
              "      <td>...</td>\n",
              "      <td>...</td>\n",
              "      <td>...</td>\n",
              "      <td>...</td>\n",
              "      <td>...</td>\n",
              "      <td>...</td>\n",
              "      <td>...</td>\n",
              "      <td>...</td>\n",
              "      <td>...</td>\n",
              "      <td>...</td>\n",
              "    </tr>\n",
              "    <tr>\n",
              "      <th>14808</th>\n",
              "      <td>0</td>\n",
              "      <td>0</td>\n",
              "      <td>0</td>\n",
              "      <td>0</td>\n",
              "      <td>0</td>\n",
              "      <td>0</td>\n",
              "      <td>0</td>\n",
              "      <td>0</td>\n",
              "      <td>0</td>\n",
              "      <td>0</td>\n",
              "      <td>...</td>\n",
              "      <td>0</td>\n",
              "      <td>0</td>\n",
              "      <td>0</td>\n",
              "      <td>0</td>\n",
              "      <td>0</td>\n",
              "      <td>0</td>\n",
              "      <td>0</td>\n",
              "      <td>0</td>\n",
              "      <td>0</td>\n",
              "      <td>0</td>\n",
              "    </tr>\n",
              "    <tr>\n",
              "      <th>14809</th>\n",
              "      <td>0</td>\n",
              "      <td>0</td>\n",
              "      <td>2</td>\n",
              "      <td>0</td>\n",
              "      <td>0</td>\n",
              "      <td>0</td>\n",
              "      <td>0</td>\n",
              "      <td>0</td>\n",
              "      <td>0</td>\n",
              "      <td>0</td>\n",
              "      <td>...</td>\n",
              "      <td>0</td>\n",
              "      <td>0</td>\n",
              "      <td>0</td>\n",
              "      <td>0</td>\n",
              "      <td>0</td>\n",
              "      <td>0</td>\n",
              "      <td>0</td>\n",
              "      <td>0</td>\n",
              "      <td>0</td>\n",
              "      <td>0</td>\n",
              "    </tr>\n",
              "    <tr>\n",
              "      <th>14810</th>\n",
              "      <td>0</td>\n",
              "      <td>0</td>\n",
              "      <td>0</td>\n",
              "      <td>0</td>\n",
              "      <td>0</td>\n",
              "      <td>0</td>\n",
              "      <td>0</td>\n",
              "      <td>0</td>\n",
              "      <td>0</td>\n",
              "      <td>0</td>\n",
              "      <td>...</td>\n",
              "      <td>0</td>\n",
              "      <td>0</td>\n",
              "      <td>0</td>\n",
              "      <td>0</td>\n",
              "      <td>0</td>\n",
              "      <td>0</td>\n",
              "      <td>0</td>\n",
              "      <td>0</td>\n",
              "      <td>0</td>\n",
              "      <td>0</td>\n",
              "    </tr>\n",
              "    <tr>\n",
              "      <th>14811</th>\n",
              "      <td>0</td>\n",
              "      <td>0</td>\n",
              "      <td>0</td>\n",
              "      <td>0</td>\n",
              "      <td>0</td>\n",
              "      <td>0</td>\n",
              "      <td>0</td>\n",
              "      <td>0</td>\n",
              "      <td>0</td>\n",
              "      <td>0</td>\n",
              "      <td>...</td>\n",
              "      <td>0</td>\n",
              "      <td>0</td>\n",
              "      <td>0</td>\n",
              "      <td>0</td>\n",
              "      <td>0</td>\n",
              "      <td>0</td>\n",
              "      <td>0</td>\n",
              "      <td>0</td>\n",
              "      <td>0</td>\n",
              "      <td>0</td>\n",
              "    </tr>\n",
              "    <tr>\n",
              "      <th>14812</th>\n",
              "      <td>0</td>\n",
              "      <td>0</td>\n",
              "      <td>4</td>\n",
              "      <td>1</td>\n",
              "      <td>0</td>\n",
              "      <td>0</td>\n",
              "      <td>0</td>\n",
              "      <td>0</td>\n",
              "      <td>0</td>\n",
              "      <td>0</td>\n",
              "      <td>...</td>\n",
              "      <td>0</td>\n",
              "      <td>0</td>\n",
              "      <td>0</td>\n",
              "      <td>0</td>\n",
              "      <td>0</td>\n",
              "      <td>0</td>\n",
              "      <td>0</td>\n",
              "      <td>0</td>\n",
              "      <td>0</td>\n",
              "      <td>0</td>\n",
              "    </tr>\n",
              "  </tbody>\n",
              "</table>\n",
              "<p>14813 rows × 2000 columns</p>\n",
              "</div>\n",
              "      <button class=\"colab-df-convert\" onclick=\"convertToInteractive('df-e32809f7-4fc1-4f89-a0f6-1128a919ff6b')\"\n",
              "              title=\"Convert this dataframe to an interactive table.\"\n",
              "              style=\"display:none;\">\n",
              "        \n",
              "  <svg xmlns=\"http://www.w3.org/2000/svg\" height=\"24px\"viewBox=\"0 0 24 24\"\n",
              "       width=\"24px\">\n",
              "    <path d=\"M0 0h24v24H0V0z\" fill=\"none\"/>\n",
              "    <path d=\"M18.56 5.44l.94 2.06.94-2.06 2.06-.94-2.06-.94-.94-2.06-.94 2.06-2.06.94zm-11 1L8.5 8.5l.94-2.06 2.06-.94-2.06-.94L8.5 2.5l-.94 2.06-2.06.94zm10 10l.94 2.06.94-2.06 2.06-.94-2.06-.94-.94-2.06-.94 2.06-2.06.94z\"/><path d=\"M17.41 7.96l-1.37-1.37c-.4-.4-.92-.59-1.43-.59-.52 0-1.04.2-1.43.59L10.3 9.45l-7.72 7.72c-.78.78-.78 2.05 0 2.83L4 21.41c.39.39.9.59 1.41.59.51 0 1.02-.2 1.41-.59l7.78-7.78 2.81-2.81c.8-.78.8-2.07 0-2.86zM5.41 20L4 18.59l7.72-7.72 1.47 1.35L5.41 20z\"/>\n",
              "  </svg>\n",
              "      </button>\n",
              "      \n",
              "  <style>\n",
              "    .colab-df-container {\n",
              "      display:flex;\n",
              "      flex-wrap:wrap;\n",
              "      gap: 12px;\n",
              "    }\n",
              "\n",
              "    .colab-df-convert {\n",
              "      background-color: #E8F0FE;\n",
              "      border: none;\n",
              "      border-radius: 50%;\n",
              "      cursor: pointer;\n",
              "      display: none;\n",
              "      fill: #1967D2;\n",
              "      height: 32px;\n",
              "      padding: 0 0 0 0;\n",
              "      width: 32px;\n",
              "    }\n",
              "\n",
              "    .colab-df-convert:hover {\n",
              "      background-color: #E2EBFA;\n",
              "      box-shadow: 0px 1px 2px rgba(60, 64, 67, 0.3), 0px 1px 3px 1px rgba(60, 64, 67, 0.15);\n",
              "      fill: #174EA6;\n",
              "    }\n",
              "\n",
              "    [theme=dark] .colab-df-convert {\n",
              "      background-color: #3B4455;\n",
              "      fill: #D2E3FC;\n",
              "    }\n",
              "\n",
              "    [theme=dark] .colab-df-convert:hover {\n",
              "      background-color: #434B5C;\n",
              "      box-shadow: 0px 1px 3px 1px rgba(0, 0, 0, 0.15);\n",
              "      filter: drop-shadow(0px 1px 2px rgba(0, 0, 0, 0.3));\n",
              "      fill: #FFFFFF;\n",
              "    }\n",
              "  </style>\n",
              "\n",
              "      <script>\n",
              "        const buttonEl =\n",
              "          document.querySelector('#df-e32809f7-4fc1-4f89-a0f6-1128a919ff6b button.colab-df-convert');\n",
              "        buttonEl.style.display =\n",
              "          google.colab.kernel.accessAllowed ? 'block' : 'none';\n",
              "\n",
              "        async function convertToInteractive(key) {\n",
              "          const element = document.querySelector('#df-e32809f7-4fc1-4f89-a0f6-1128a919ff6b');\n",
              "          const dataTable =\n",
              "            await google.colab.kernel.invokeFunction('convertToInteractive',\n",
              "                                                     [key], {});\n",
              "          if (!dataTable) return;\n",
              "\n",
              "          const docLinkHtml = 'Like what you see? Visit the ' +\n",
              "            '<a target=\"_blank\" href=https://colab.research.google.com/notebooks/data_table.ipynb>data table notebook</a>'\n",
              "            + ' to learn more about interactive tables.';\n",
              "          element.innerHTML = '';\n",
              "          dataTable['output_type'] = 'display_data';\n",
              "          await google.colab.output.renderOutput(dataTable, element);\n",
              "          const docLink = document.createElement('div');\n",
              "          docLink.innerHTML = docLinkHtml;\n",
              "          element.appendChild(docLink);\n",
              "        }\n",
              "      </script>\n",
              "    </div>\n",
              "  </div>\n",
              "  "
            ]
          },
          "metadata": {},
          "execution_count": 152
        }
      ]
    },
    {
      "cell_type": "code",
      "source": [
        "norm = 10000\n",
        "cell_totals = np.sum(count_mat,axis=1)\n",
        "normalize = norm*count_mat/(cell_totals)\n",
        "normalize = np.log1p(normalize)\n",
        "\n",
        "normalize_df = pd.DataFrame(normalize)\n",
        "normalize_df"
      ],
      "metadata": {
        "id": "7mBQgJlyQ9ry",
        "colab": {
          "base_uri": "https://localhost:8080/",
          "height": 423
        },
        "outputId": "6fd950d2-3251-4879-b5a2-98e1c2fc82b4"
      },
      "execution_count": 158,
      "outputs": [
        {
          "output_type": "execute_result",
          "data": {
            "text/plain": [
              "       0     1         2         3     4     5     6     7         8     9     \\\n",
              "0       0.0   0.0  4.421487  4.537934   0.0   0.0   0.0   0.0  0.000000   0.0   \n",
              "1       0.0   0.0  4.455584  3.379933   0.0   0.0   0.0   0.0  3.379933   0.0   \n",
              "2       0.0   0.0  0.000000  0.000000   0.0   0.0   0.0   0.0  0.000000   0.0   \n",
              "3       0.0   0.0  3.827419  4.509624   0.0   0.0   0.0   0.0  3.155804   0.0   \n",
              "4       0.0   0.0  3.816491  3.816491   0.0   0.0   0.0   0.0  0.000000   0.0   \n",
              "...     ...   ...       ...       ...   ...   ...   ...   ...       ...   ...   \n",
              "14808   0.0   0.0  0.000000  0.000000   0.0   0.0   0.0   0.0  0.000000   0.0   \n",
              "14809   0.0   0.0  6.860015  0.000000   0.0   0.0   0.0   0.0  0.000000   0.0   \n",
              "14810   0.0   0.0  0.000000  0.000000   0.0   0.0   0.0   0.0  0.000000   0.0   \n",
              "14811   0.0   0.0  0.000000  0.000000   0.0   0.0   0.0   0.0  0.000000   0.0   \n",
              "14812   0.0   0.0  3.996448  2.663829   0.0   0.0   0.0   0.0  0.000000   0.0   \n",
              "\n",
              "       ...  1990  1991  1992  1993  1994  1995  1996  1997  1998  1999  \n",
              "0      ...   0.0   0.0   0.0   0.0   0.0   0.0   0.0   0.0   0.0   0.0  \n",
              "1      ...   0.0   0.0   0.0   0.0   0.0   0.0   0.0   0.0   0.0   0.0  \n",
              "2      ...   0.0   0.0   0.0   0.0   0.0   0.0   0.0   0.0   0.0   0.0  \n",
              "3      ...   0.0   0.0   0.0   0.0   0.0   0.0   0.0   0.0   0.0   0.0  \n",
              "4      ...   0.0   0.0   0.0   0.0   0.0   0.0   0.0   0.0   0.0   0.0  \n",
              "...    ...   ...   ...   ...   ...   ...   ...   ...   ...   ...   ...  \n",
              "14808  ...   0.0   0.0   0.0   0.0   0.0   0.0   0.0   0.0   0.0   0.0  \n",
              "14809  ...   0.0   0.0   0.0   0.0   0.0   0.0   0.0   0.0   0.0   0.0  \n",
              "14810  ...   0.0   0.0   0.0   0.0   0.0   0.0   0.0   0.0   0.0   0.0  \n",
              "14811  ...   0.0   0.0   0.0   0.0   0.0   0.0   0.0   0.0   0.0   0.0  \n",
              "14812  ...   0.0   0.0   0.0   0.0   0.0   0.0   0.0   0.0   0.0   0.0  \n",
              "\n",
              "[14813 rows x 2000 columns]"
            ],
            "text/html": [
              "\n",
              "  <div id=\"df-1454e4e9-e2f8-4fab-8a98-ddf4ad2e6b0a\">\n",
              "    <div class=\"colab-df-container\">\n",
              "      <div>\n",
              "<style scoped>\n",
              "    .dataframe tbody tr th:only-of-type {\n",
              "        vertical-align: middle;\n",
              "    }\n",
              "\n",
              "    .dataframe tbody tr th {\n",
              "        vertical-align: top;\n",
              "    }\n",
              "\n",
              "    .dataframe thead th {\n",
              "        text-align: right;\n",
              "    }\n",
              "</style>\n",
              "<table border=\"1\" class=\"dataframe\">\n",
              "  <thead>\n",
              "    <tr style=\"text-align: right;\">\n",
              "      <th></th>\n",
              "      <th>0</th>\n",
              "      <th>1</th>\n",
              "      <th>2</th>\n",
              "      <th>3</th>\n",
              "      <th>4</th>\n",
              "      <th>5</th>\n",
              "      <th>6</th>\n",
              "      <th>7</th>\n",
              "      <th>8</th>\n",
              "      <th>9</th>\n",
              "      <th>...</th>\n",
              "      <th>1990</th>\n",
              "      <th>1991</th>\n",
              "      <th>1992</th>\n",
              "      <th>1993</th>\n",
              "      <th>1994</th>\n",
              "      <th>1995</th>\n",
              "      <th>1996</th>\n",
              "      <th>1997</th>\n",
              "      <th>1998</th>\n",
              "      <th>1999</th>\n",
              "    </tr>\n",
              "  </thead>\n",
              "  <tbody>\n",
              "    <tr>\n",
              "      <th>0</th>\n",
              "      <td>0.0</td>\n",
              "      <td>0.0</td>\n",
              "      <td>4.421487</td>\n",
              "      <td>4.537934</td>\n",
              "      <td>0.0</td>\n",
              "      <td>0.0</td>\n",
              "      <td>0.0</td>\n",
              "      <td>0.0</td>\n",
              "      <td>0.000000</td>\n",
              "      <td>0.0</td>\n",
              "      <td>...</td>\n",
              "      <td>0.0</td>\n",
              "      <td>0.0</td>\n",
              "      <td>0.0</td>\n",
              "      <td>0.0</td>\n",
              "      <td>0.0</td>\n",
              "      <td>0.0</td>\n",
              "      <td>0.0</td>\n",
              "      <td>0.0</td>\n",
              "      <td>0.0</td>\n",
              "      <td>0.0</td>\n",
              "    </tr>\n",
              "    <tr>\n",
              "      <th>1</th>\n",
              "      <td>0.0</td>\n",
              "      <td>0.0</td>\n",
              "      <td>4.455584</td>\n",
              "      <td>3.379933</td>\n",
              "      <td>0.0</td>\n",
              "      <td>0.0</td>\n",
              "      <td>0.0</td>\n",
              "      <td>0.0</td>\n",
              "      <td>3.379933</td>\n",
              "      <td>0.0</td>\n",
              "      <td>...</td>\n",
              "      <td>0.0</td>\n",
              "      <td>0.0</td>\n",
              "      <td>0.0</td>\n",
              "      <td>0.0</td>\n",
              "      <td>0.0</td>\n",
              "      <td>0.0</td>\n",
              "      <td>0.0</td>\n",
              "      <td>0.0</td>\n",
              "      <td>0.0</td>\n",
              "      <td>0.0</td>\n",
              "    </tr>\n",
              "    <tr>\n",
              "      <th>2</th>\n",
              "      <td>0.0</td>\n",
              "      <td>0.0</td>\n",
              "      <td>0.000000</td>\n",
              "      <td>0.000000</td>\n",
              "      <td>0.0</td>\n",
              "      <td>0.0</td>\n",
              "      <td>0.0</td>\n",
              "      <td>0.0</td>\n",
              "      <td>0.000000</td>\n",
              "      <td>0.0</td>\n",
              "      <td>...</td>\n",
              "      <td>0.0</td>\n",
              "      <td>0.0</td>\n",
              "      <td>0.0</td>\n",
              "      <td>0.0</td>\n",
              "      <td>0.0</td>\n",
              "      <td>0.0</td>\n",
              "      <td>0.0</td>\n",
              "      <td>0.0</td>\n",
              "      <td>0.0</td>\n",
              "      <td>0.0</td>\n",
              "    </tr>\n",
              "    <tr>\n",
              "      <th>3</th>\n",
              "      <td>0.0</td>\n",
              "      <td>0.0</td>\n",
              "      <td>3.827419</td>\n",
              "      <td>4.509624</td>\n",
              "      <td>0.0</td>\n",
              "      <td>0.0</td>\n",
              "      <td>0.0</td>\n",
              "      <td>0.0</td>\n",
              "      <td>3.155804</td>\n",
              "      <td>0.0</td>\n",
              "      <td>...</td>\n",
              "      <td>0.0</td>\n",
              "      <td>0.0</td>\n",
              "      <td>0.0</td>\n",
              "      <td>0.0</td>\n",
              "      <td>0.0</td>\n",
              "      <td>0.0</td>\n",
              "      <td>0.0</td>\n",
              "      <td>0.0</td>\n",
              "      <td>0.0</td>\n",
              "      <td>0.0</td>\n",
              "    </tr>\n",
              "    <tr>\n",
              "      <th>4</th>\n",
              "      <td>0.0</td>\n",
              "      <td>0.0</td>\n",
              "      <td>3.816491</td>\n",
              "      <td>3.816491</td>\n",
              "      <td>0.0</td>\n",
              "      <td>0.0</td>\n",
              "      <td>0.0</td>\n",
              "      <td>0.0</td>\n",
              "      <td>0.000000</td>\n",
              "      <td>0.0</td>\n",
              "      <td>...</td>\n",
              "      <td>0.0</td>\n",
              "      <td>0.0</td>\n",
              "      <td>0.0</td>\n",
              "      <td>0.0</td>\n",
              "      <td>0.0</td>\n",
              "      <td>0.0</td>\n",
              "      <td>0.0</td>\n",
              "      <td>0.0</td>\n",
              "      <td>0.0</td>\n",
              "      <td>0.0</td>\n",
              "    </tr>\n",
              "    <tr>\n",
              "      <th>...</th>\n",
              "      <td>...</td>\n",
              "      <td>...</td>\n",
              "      <td>...</td>\n",
              "      <td>...</td>\n",
              "      <td>...</td>\n",
              "      <td>...</td>\n",
              "      <td>...</td>\n",
              "      <td>...</td>\n",
              "      <td>...</td>\n",
              "      <td>...</td>\n",
              "      <td>...</td>\n",
              "      <td>...</td>\n",
              "      <td>...</td>\n",
              "      <td>...</td>\n",
              "      <td>...</td>\n",
              "      <td>...</td>\n",
              "      <td>...</td>\n",
              "      <td>...</td>\n",
              "      <td>...</td>\n",
              "      <td>...</td>\n",
              "      <td>...</td>\n",
              "    </tr>\n",
              "    <tr>\n",
              "      <th>14808</th>\n",
              "      <td>0.0</td>\n",
              "      <td>0.0</td>\n",
              "      <td>0.000000</td>\n",
              "      <td>0.000000</td>\n",
              "      <td>0.0</td>\n",
              "      <td>0.0</td>\n",
              "      <td>0.0</td>\n",
              "      <td>0.0</td>\n",
              "      <td>0.000000</td>\n",
              "      <td>0.0</td>\n",
              "      <td>...</td>\n",
              "      <td>0.0</td>\n",
              "      <td>0.0</td>\n",
              "      <td>0.0</td>\n",
              "      <td>0.0</td>\n",
              "      <td>0.0</td>\n",
              "      <td>0.0</td>\n",
              "      <td>0.0</td>\n",
              "      <td>0.0</td>\n",
              "      <td>0.0</td>\n",
              "      <td>0.0</td>\n",
              "    </tr>\n",
              "    <tr>\n",
              "      <th>14809</th>\n",
              "      <td>0.0</td>\n",
              "      <td>0.0</td>\n",
              "      <td>6.860015</td>\n",
              "      <td>0.000000</td>\n",
              "      <td>0.0</td>\n",
              "      <td>0.0</td>\n",
              "      <td>0.0</td>\n",
              "      <td>0.0</td>\n",
              "      <td>0.000000</td>\n",
              "      <td>0.0</td>\n",
              "      <td>...</td>\n",
              "      <td>0.0</td>\n",
              "      <td>0.0</td>\n",
              "      <td>0.0</td>\n",
              "      <td>0.0</td>\n",
              "      <td>0.0</td>\n",
              "      <td>0.0</td>\n",
              "      <td>0.0</td>\n",
              "      <td>0.0</td>\n",
              "      <td>0.0</td>\n",
              "      <td>0.0</td>\n",
              "    </tr>\n",
              "    <tr>\n",
              "      <th>14810</th>\n",
              "      <td>0.0</td>\n",
              "      <td>0.0</td>\n",
              "      <td>0.000000</td>\n",
              "      <td>0.000000</td>\n",
              "      <td>0.0</td>\n",
              "      <td>0.0</td>\n",
              "      <td>0.0</td>\n",
              "      <td>0.0</td>\n",
              "      <td>0.000000</td>\n",
              "      <td>0.0</td>\n",
              "      <td>...</td>\n",
              "      <td>0.0</td>\n",
              "      <td>0.0</td>\n",
              "      <td>0.0</td>\n",
              "      <td>0.0</td>\n",
              "      <td>0.0</td>\n",
              "      <td>0.0</td>\n",
              "      <td>0.0</td>\n",
              "      <td>0.0</td>\n",
              "      <td>0.0</td>\n",
              "      <td>0.0</td>\n",
              "    </tr>\n",
              "    <tr>\n",
              "      <th>14811</th>\n",
              "      <td>0.0</td>\n",
              "      <td>0.0</td>\n",
              "      <td>0.000000</td>\n",
              "      <td>0.000000</td>\n",
              "      <td>0.0</td>\n",
              "      <td>0.0</td>\n",
              "      <td>0.0</td>\n",
              "      <td>0.0</td>\n",
              "      <td>0.000000</td>\n",
              "      <td>0.0</td>\n",
              "      <td>...</td>\n",
              "      <td>0.0</td>\n",
              "      <td>0.0</td>\n",
              "      <td>0.0</td>\n",
              "      <td>0.0</td>\n",
              "      <td>0.0</td>\n",
              "      <td>0.0</td>\n",
              "      <td>0.0</td>\n",
              "      <td>0.0</td>\n",
              "      <td>0.0</td>\n",
              "      <td>0.0</td>\n",
              "    </tr>\n",
              "    <tr>\n",
              "      <th>14812</th>\n",
              "      <td>0.0</td>\n",
              "      <td>0.0</td>\n",
              "      <td>3.996448</td>\n",
              "      <td>2.663829</td>\n",
              "      <td>0.0</td>\n",
              "      <td>0.0</td>\n",
              "      <td>0.0</td>\n",
              "      <td>0.0</td>\n",
              "      <td>0.000000</td>\n",
              "      <td>0.0</td>\n",
              "      <td>...</td>\n",
              "      <td>0.0</td>\n",
              "      <td>0.0</td>\n",
              "      <td>0.0</td>\n",
              "      <td>0.0</td>\n",
              "      <td>0.0</td>\n",
              "      <td>0.0</td>\n",
              "      <td>0.0</td>\n",
              "      <td>0.0</td>\n",
              "      <td>0.0</td>\n",
              "      <td>0.0</td>\n",
              "    </tr>\n",
              "  </tbody>\n",
              "</table>\n",
              "<p>14813 rows × 2000 columns</p>\n",
              "</div>\n",
              "      <button class=\"colab-df-convert\" onclick=\"convertToInteractive('df-1454e4e9-e2f8-4fab-8a98-ddf4ad2e6b0a')\"\n",
              "              title=\"Convert this dataframe to an interactive table.\"\n",
              "              style=\"display:none;\">\n",
              "        \n",
              "  <svg xmlns=\"http://www.w3.org/2000/svg\" height=\"24px\"viewBox=\"0 0 24 24\"\n",
              "       width=\"24px\">\n",
              "    <path d=\"M0 0h24v24H0V0z\" fill=\"none\"/>\n",
              "    <path d=\"M18.56 5.44l.94 2.06.94-2.06 2.06-.94-2.06-.94-.94-2.06-.94 2.06-2.06.94zm-11 1L8.5 8.5l.94-2.06 2.06-.94-2.06-.94L8.5 2.5l-.94 2.06-2.06.94zm10 10l.94 2.06.94-2.06 2.06-.94-2.06-.94-.94-2.06-.94 2.06-2.06.94z\"/><path d=\"M17.41 7.96l-1.37-1.37c-.4-.4-.92-.59-1.43-.59-.52 0-1.04.2-1.43.59L10.3 9.45l-7.72 7.72c-.78.78-.78 2.05 0 2.83L4 21.41c.39.39.9.59 1.41.59.51 0 1.02-.2 1.41-.59l7.78-7.78 2.81-2.81c.8-.78.8-2.07 0-2.86zM5.41 20L4 18.59l7.72-7.72 1.47 1.35L5.41 20z\"/>\n",
              "  </svg>\n",
              "      </button>\n",
              "      \n",
              "  <style>\n",
              "    .colab-df-container {\n",
              "      display:flex;\n",
              "      flex-wrap:wrap;\n",
              "      gap: 12px;\n",
              "    }\n",
              "\n",
              "    .colab-df-convert {\n",
              "      background-color: #E8F0FE;\n",
              "      border: none;\n",
              "      border-radius: 50%;\n",
              "      cursor: pointer;\n",
              "      display: none;\n",
              "      fill: #1967D2;\n",
              "      height: 32px;\n",
              "      padding: 0 0 0 0;\n",
              "      width: 32px;\n",
              "    }\n",
              "\n",
              "    .colab-df-convert:hover {\n",
              "      background-color: #E2EBFA;\n",
              "      box-shadow: 0px 1px 2px rgba(60, 64, 67, 0.3), 0px 1px 3px 1px rgba(60, 64, 67, 0.15);\n",
              "      fill: #174EA6;\n",
              "    }\n",
              "\n",
              "    [theme=dark] .colab-df-convert {\n",
              "      background-color: #3B4455;\n",
              "      fill: #D2E3FC;\n",
              "    }\n",
              "\n",
              "    [theme=dark] .colab-df-convert:hover {\n",
              "      background-color: #434B5C;\n",
              "      box-shadow: 0px 1px 3px 1px rgba(0, 0, 0, 0.15);\n",
              "      filter: drop-shadow(0px 1px 2px rgba(0, 0, 0, 0.3));\n",
              "      fill: #FFFFFF;\n",
              "    }\n",
              "  </style>\n",
              "\n",
              "      <script>\n",
              "        const buttonEl =\n",
              "          document.querySelector('#df-1454e4e9-e2f8-4fab-8a98-ddf4ad2e6b0a button.colab-df-convert');\n",
              "        buttonEl.style.display =\n",
              "          google.colab.kernel.accessAllowed ? 'block' : 'none';\n",
              "\n",
              "        async function convertToInteractive(key) {\n",
              "          const element = document.querySelector('#df-1454e4e9-e2f8-4fab-8a98-ddf4ad2e6b0a');\n",
              "          const dataTable =\n",
              "            await google.colab.kernel.invokeFunction('convertToInteractive',\n",
              "                                                     [key], {});\n",
              "          if (!dataTable) return;\n",
              "\n",
              "          const docLinkHtml = 'Like what you see? Visit the ' +\n",
              "            '<a target=\"_blank\" href=https://colab.research.google.com/notebooks/data_table.ipynb>data table notebook</a>'\n",
              "            + ' to learn more about interactive tables.';\n",
              "          element.innerHTML = '';\n",
              "          dataTable['output_type'] = 'display_data';\n",
              "          await google.colab.output.renderOutput(dataTable, element);\n",
              "          const docLink = document.createElement('div');\n",
              "          docLink.innerHTML = docLinkHtml;\n",
              "          element.appendChild(docLink);\n",
              "        }\n",
              "      </script>\n",
              "    </div>\n",
              "  </div>\n",
              "  "
            ]
          },
          "metadata": {},
          "execution_count": 158
        }
      ]
    },
    {
      "cell_type": "markdown",
      "metadata": {
        "id": "Fef1K_WBMmQ4"
      },
      "source": [
        "# **c) Clustering (20 points)**"
      ]
    },
    {
      "cell_type": "markdown",
      "source": [
        "In this part, we will do K-means clustering on 4 different count matrices:\n",
        "1. Raw count matix\n",
        "2. Raw count matrix transformed by the first 15 principal components\n",
        "3. Normalized count matix\n",
        "4. Normalized count matix transformed by the first 15 principal components"
      ],
      "metadata": {
        "id": "rHv-fvOcVcD9"
      }
    },
    {
      "cell_type": "markdown",
      "source": [
        "You will use sklearn for PCA and [KMeans](https://scikit-learn.org/stable/modules/generated/sklearn.cluster.KMeans.html#sklearn.cluster.KMeans.fit_predict) clustering. **Set the cluster number k to 10 and random_state to 0 when using KMeans.**\n",
        "\n",
        "Below is an example from sklearn"
      ],
      "metadata": {
        "id": "nkSjyzITVzTf"
      }
    },
    {
      "cell_type": "code",
      "source": [
        "from sklearn.cluster import KMeans\n",
        "from sklearn.decomposition import PCA\n",
        "\n",
        "X = np.array([[1, 2], [1, 4], [1, 0],\n",
        "               [10, 2], [10, 4], [10, \n",
        "                                  0]])\n",
        "kmeans = KMeans(n_clusters=2, random_state=0).fit(X)\n",
        "kmeans.labels_"
      ],
      "metadata": {
        "id": "SVDZrPjVVjH1"
      },
      "execution_count": null,
      "outputs": []
    },
    {
      "cell_type": "code",
      "source": [
        "import sklearn\n",
        "from sklearn.decomposition import PCA\n",
        "\n",
        "components = np.shape(count_mat)[1]\n",
        "pca = PCA(n_components = components, svd_solver='full')\n",
        "pca.fit(count_mat)"
      ],
      "metadata": {
        "id": "FLWhBW5TOD6t"
      },
      "execution_count": null,
      "outputs": []
    },
    {
      "cell_type": "code",
      "source": [
        "#set random state and cluster #\n",
        "rs = 0\n",
        "k= 10\n",
        "\n",
        "kmeans_raw = KMeans(n_clusters=k, random_state=rs).fit(raw)\n",
        "kmeans_rawpc = KMeans(n_clusters=k, random_state=rs).fit(raw_pca)\n",
        "kmeans_norm = KMeans(n_clusters=k, random_state=rs).fit(normalize)\n",
        "kmeans_normpcKMeans = KMeans(n_clusters=k, random_state=rs).fit(normalize_pca)"
      ],
      "metadata": {
        "id": "SDRztiAWNNP-"
      },
      "execution_count": null,
      "outputs": []
    },
    {
      "cell_type": "markdown",
      "source": [
        "**For each of the four clustering results, compare the k-means cluster assignments to the given cell types in meta data. Report the majority, 'true' cell type in each k-means cluster, and the proportion of cells that are that majority in each k-means cluster.**\n",
        "\n",
        "**For the two clusterings done in 15 dimensional PCA space, also plot the transformed data in 2D (only the first 2 transformed coordinates) colored by corresponding k-means clusters (which was done in the 15D PCA-space). Comment on the differences between the two plots.**"
      ],
      "metadata": {
        "id": "2WLLcEtmhyf0"
      }
    },
    {
      "cell_type": "markdown",
      "metadata": {
        "id": "4luzBqqrMElW"
      },
      "source": [
        "# **d) Age prediction (60 points)**\n",
        "\n",
        "In their work, [Ilias Angelidis, Lukas M. Simon et al.](https://www.nature.com/articles/s41467-019-08831-9) found that the gene expression pattern for some cell types were different between the two age groups (3 months and 24 months), as shown in the figure below. In the figure below, the x-axis represent different genes and the y-axis represent different cell types, with each color bar representing the logarithm of the fold change in expression level between old and young cells for a particular genes in a particular cell type. Inspired by this result, we will build classification models (using normalized counts) and test how well they can predict the age of a mouse based on the gene expression profile of a single cell.\n",
        "\n",
        "<center><img src=\"https://drive.google.com/uc?export=view&id=17gt0rkWzJmh11GPw6ipehM6miiGTD86e\" alt=\"EMFigure\" width=\"550\" height=\"500\"><center>"
      ]
    },
    {
      "cell_type": "markdown",
      "source": [
        "We will compare the predictive power of two different classes of models: (1) logistic regression and (2) neural network. For each class, we will fit a model using gene expression data from a single cell type to predict the age (3m or 24m) of the mouse from which the cell was taken."
      ],
      "metadata": {
        "id": "jZVB11fIt-3P"
      }
    },
    {
      "cell_type": "markdown",
      "metadata": {
        "id": "5dqq9VguaP-J"
      },
      "source": [
        "**i) From the given information, what cell type would you choose to build a predictive model of mouse age? Explain your reasoning (10 points)**"
      ]
    },
    {
      "cell_type": "markdown",
      "source": [
        "**Your Answer Here:** \n",
        "\n",
        "\n",
        "\n"
      ],
      "metadata": {
        "id": "9qHuBsWy4xhb"
      }
    },
    {
      "cell_type": "markdown",
      "source": [
        "To standardize the workflow, we will consider just two cell types: \n",
        "\n",
        "(1) 'Alveolar_macrophage' (AM)\n",
        "\n",
        "(2) 'Type_2_pneumocytes' (T2P) \n",
        "\n",
        "For the rest of the question, you will build a total of **4** models: \n",
        "\n",
        "1.   logistic regression using alveolar macrophage \n",
        "2.   logistic regression using type II pneumocytes \n",
        "3.   neural network using alveolar macrophage\n",
        "4.   neural network using type II pneumocytes"
      ],
      "metadata": {
        "id": "p42bDqN0uCvA"
      }
    },
    {
      "cell_type": "markdown",
      "source": [
        "We first subset our **normalized count matrix** to get out count data for alveolar macrophages (AM) and type II pneumocytes (T2P) sampled from 3 months and 24 months mouse, as well as the corresponding age/label for each cell. AM_3m represents alveolar macrophages from a 3 months old mouse, T2P_24m represents type II pneumocytes from a 24 months old mouse. *Note that we are representing the age class '3m' using the integer 0 and the age class '24m' using the integer 1.*"
      ],
      "metadata": {
        "id": "-kY83NdUuGMg"
      }
    },
    {
      "cell_type": "code",
      "source": [
        "typename = 'Alveolar_macrophage'\n",
        "youngIndex = meta.grouping.isin(['3m'])*meta.celltype.isin([typename])\n",
        "oldIndex = meta.grouping.isin(['24m'])*meta.celltype.isin([typename])\n",
        "\n",
        "# we will assign the number 0 to the age class '3m' and 1 to the age class '24m'\n",
        "AM_3m = normalize[youngIndex,:]\n",
        "AM_3m_label = np.zeros(np.size(AM_3m,0))\n",
        "AM_24m = normalize[oldIndex,:]\n",
        "AM_24m_label = np.ones(np.size(AM_24m,0))\n",
        "\n",
        "typename = 'Type_2_pneumocytes'\n",
        "youngIndex = meta.grouping.isin(['3m'])*meta.celltype.isin([typename])\n",
        "oldIndex = meta.grouping.isin(['24m'])*meta.celltype.isin([typename])\n",
        "\n",
        "T2P_3m = normalize[youngIndex,:]\n",
        "T2P_3m_label = np.zeros(np.size(T2P_3m,0))\n",
        "T2P_24m = normalize[oldIndex,:]\n",
        "T2P_24m_label = np.ones(np.size(T2P_24m,0))"
      ],
      "metadata": {
        "id": "2174-TmsuIyg"
      },
      "execution_count": null,
      "outputs": []
    },
    {
      "cell_type": "markdown",
      "source": [
        "Next, we will split our data evenly into a training set and test set. To allow for a fair comparison between the two cell types, we will use the same number of cells for alveolar macrophage as type II pneumocytes. **Use the code block below to split the data for each cell type into a train set and a test set, make sure you split both the gene expression counts and the corresponding labels.** For both cell types, the training set will consist of the first 550 cells of the 3 month old mouse and the first 250 cells of the 24 month old, the test set will consist of the subsequent 550 cells of the 3 month old mouse and the subsequent 250 cells of the 24 month old mouse."
      ],
      "metadata": {
        "id": "tWvojPpluJ9c"
      }
    },
    {
      "cell_type": "code",
      "source": [
        "#properly subset the data and labels into these variables\n",
        "AM_train = # ENTER CODE HERE\n",
        "AM_trainlabel = # ENTER CODE HERE\n",
        "AM_test = # ENTER CODE HERE\n",
        "AM_testlabel = # ENTER CODE HERE\n",
        "\n",
        "T2P_train = # ENTER CODE HERE\n",
        "T2P_trainlabel = # ENTER CODE HERE\n",
        "T2P_test = # ENTER CODE HERE\n",
        "T2P_testlabel = # ENTER CODE HERE"
      ],
      "metadata": {
        "id": "HHLcYdstuNR-"
      },
      "execution_count": null,
      "outputs": []
    },
    {
      "cell_type": "markdown",
      "metadata": {
        "id": "22fr_rZvMJJA"
      },
      "source": [
        " **ii) Logistic regression models (10 points)**\n",
        "\n",
        " In this section, you will build a logistic regression model to classify mouse age and use it to predict the age of the mouse from the gene expression profile of a cell. Recall that with logistic regression we model a categorical variable (e.g. mouse age - 3m vs 24m) as a continuous value (i.e. the probability of being in the category). In our case, the independent variable will be the collection of count data across all 2000 genes and the dependent variable will be a binary variable, 0 or 1, representing whether the cell was from the 24 month old mouse."
      ]
    },
    {
      "cell_type": "markdown",
      "source": [
        "**For each cell type (AM and T2P), complete the code block below where you will need to:**\n",
        "\n",
        "1) fit a logistic regression model using the training set you created above (hint: you may need to change certain hyperparameter to get convergence)\n",
        "\n",
        "3) evaluating your logistic regression model on the corresponding test set (make sure to use the same cell type as you used to fit the model)\n",
        "\n",
        "4) report the test accuracy of your model as the percent of cells where the age of the mouse was correctly predicted by the model"
      ],
      "metadata": {
        "id": "3MSYvT0yuTjQ"
      }
    },
    {
      "cell_type": "code",
      "execution_count": null,
      "metadata": {
        "id": "4JZ-4qWDbsNz"
      },
      "outputs": [],
      "source": [
        "#Set up model for AM \n",
        "# ENTER CODE HERE\n",
        "\n",
        "#Evaluate logistic regression model on the AM test set\n",
        "# ENTER CODE HERE\n",
        "\n",
        "#Report test accuracy of AM model\n",
        "# ENTER CODE HERE\n",
        "ncorrect = \n",
        "ntotal = \n",
        "print('Test Accuracy: %2.2f %%' % ((100.0 * ncorrect) / ntotal))"
      ]
    },
    {
      "cell_type": "code",
      "source": [
        "#Set up model for T2P\n",
        "# ENTER CODE HERE\n",
        "\n",
        "#Evaluate logistic regression model on the T2P test set\n",
        "# ENTER CODE HERE\n",
        "\n",
        "#Report test accuracy of T2P model\n",
        "# ENTER CODE HERE\n",
        "ncorrect = \n",
        "ntotal =\n",
        "print('Test Accuracy: %2.2f %%' % ((100.0 * ncorrect) / ntotal))"
      ],
      "metadata": {
        "id": "EcNP2PfguWZL"
      },
      "execution_count": null,
      "outputs": []
    },
    {
      "cell_type": "markdown",
      "metadata": {
        "id": "TY6RN5qlMQ2B"
      },
      "source": [
        "**iii) Neural network models - use the code/function below (30 points)**\n",
        "\n",
        "In this section, we will try to predict mouse age by building a Multi-Layer Perceptron (MLP) Model using [Pytorch](https://pytorch.org/docs/stable/index.html). Our MLP will take as input the expression level of the 2000 highly variable genes for a given cell and produce a pair of values corresponding to the probability of the cell being obtain from a 3 months vs. 24 months mouse. Specifically, we will train two separate neural networks using different cell types, one using **alveolar macrophages** and another using **type II pneumocytes**"
      ]
    },
    {
      "cell_type": "markdown",
      "metadata": {
        "id": "U8X4-8_RWzkg"
      },
      "source": [
        "We will start by first importing packages and initialize the random number generator to a fixed constant to ensure reproducibility."
      ]
    },
    {
      "cell_type": "code",
      "execution_count": null,
      "metadata": {
        "id": "j7YMofxdbq_o"
      },
      "outputs": [],
      "source": [
        "import torch\n",
        "import torch.nn.functional as F\n",
        "from torch import nn\n",
        "from torch import optim\n",
        "from torch.utils.data import Dataset, DataLoader\n",
        "\n",
        "seed = 183\n",
        "torch.manual_seed(seed)"
      ]
    },
    {
      "cell_type": "markdown",
      "source": [
        "#### We will first construct our **neural network model for alveolar macrophages**"
      ],
      "metadata": {
        "id": "F__TdIbQ7jnx"
      }
    },
    {
      "cell_type": "markdown",
      "metadata": {
        "id": "5vnkRThppxDC"
      },
      "source": [
        "When we train and evaluate our model, we will require batches of data to be provided. The Dataloader class can automatically provide batches of data fetched from a `Dataset` objects (which is defined for you as a `CountDataset` class). **Complete the code block below by converting counts and labels into tensors of the appropriate type.** In order for training to run properly, you need to make sure to convert count data to [`tensor` objects](https://pytorch.org/docs/stable/tensors.html#torch.Tensor) of type Float and the labels (age) should also be `tensor` objects of type Integer. **Furthermore, set an appropriate batch size, nbatch.** The batch size represents the number of samples passed through our neural network before an error gradient is computed and the network parameters are updated."
      ]
    },
    {
      "cell_type": "code",
      "execution_count": null,
      "metadata": {
        "id": "8WUUnh30ZH7P"
      },
      "outputs": [],
      "source": [
        "#create a custom dataset object so we can use dataloader for shuffling the data\n",
        "class CountDataset(Dataset):\n",
        "    def __init__(self, count, labels):\n",
        "        self.labels = labels\n",
        "        self.count = count\n",
        "    def __len__(self):\n",
        "        return len(self.labels)\n",
        "    def __getitem__(self, idx):\n",
        "        label = self.labels[idx]\n",
        "        count = self.count[idx]\n",
        "        sample = [count, label]\n",
        "        return sample\n",
        "\n",
        "# convert counts/label into tensors of the appropriate type\n",
        "traindata = # ENTER CODE HERE\n",
        "trainlabel = # ENTER CODE HERE\n",
        "testdata = # ENTER CODE HERE\n",
        "testlabel = # ENTER CODE HERE\n",
        "\n",
        "trainset = CountDataset(count=traindata, labels=trainlabel)\n",
        "testset = CountDataset(count=testdata, labels=testlabel)\n",
        "\n",
        "# create data loaders\n",
        "nbatch = # ENTER CODE HERE\n",
        "trainloader = DataLoader(trainset, batch_size=nbatch, shuffle=True)\n",
        "testloader = DataLoader(testset, batch_size=nbatch, shuffle=True)"
      ]
    },
    {
      "cell_type": "markdown",
      "metadata": {
        "id": "pRNdKS0Qkyjs"
      },
      "source": [
        "We are now ready to create our simple neural network model. We will define our model in a class that extends nn.Module. nn.Module subclasses must do a minimum of one thing: implement the forward method which takes a batch of data and performs the forward-pass. PyTorch's autograd system computes the gradients of the forward pass for us. In the code below we'll also make use of the constructor of our model to instantiate the hidden and output layers.The model is a simple neural network with one hidden layer. A rectifier linear unit (ReLU) activation function is used for the neurons in the hidden layer. The nn.Module class defines a instance variable called training that is set to True when the model is being trained and False when it is being evaluated after being trained. Since we would like our output to represent probabilities of the cell being from either of the two age groups (outputs are between 0 and 1, and sum up to 1), we can use the [softmax activation function](https://pytorch.org/docs/stable/generated/torch.nn.functional.softmax.html#torch.nn.functional.softmax) on our output layer to turn the outputs into probability-like values. **Complete the code below by implementing the softmax function on the output when the model is not being trained.** We do this because we will use PyTorch's implementation of Cross Entropy Loss (nn.CrossEntropyLoss) during training which implicitly adds a softmax before a logarithmic loss."
      ]
    },
    {
      "cell_type": "code",
      "source": [
        "# define MLP model\n",
        "class MLPmodel(nn.Module):\n",
        "    def __init__(self, input_size, hidden_size, num_classes):\n",
        "        super(MLPmodel, self).__init__()\n",
        "        self.fc1 = nn.Linear(input_size, hidden_size) \n",
        "        self.fc2 = nn.Linear(hidden_size, num_classes)  \n",
        "    \n",
        "    def forward(self, x):\n",
        "        out = self.fc1(x)\n",
        "        out = F.relu(out)\n",
        "        out = self.fc2(out)\n",
        "        if not self.training:\n",
        "          # ENTER CODE HERE\n",
        "        return out"
      ],
      "metadata": {
        "id": "oPNaLY6duzaN"
      },
      "execution_count": null,
      "outputs": []
    },
    {
      "cell_type": "markdown",
      "source": [
        "We can now fit and evaluate the model. **In the code below, complete the implementation of the training loop by**\n",
        "\n",
        "(1) Initialize an instance of our MLPmodel class using appropriate choices of the input_size, hidden_size, and num_classes.\n",
        "\n",
        "(2) Define the variables named loss_function and optimiser, we will use the [cross entropy loss](https://pytorch.org/docs/stable/generated/torch.nn.CrossEntropyLoss.html#torch.nn.CrossEntropyLoss) and the [ADAM optimiser](https://pytorch.org/docs/stable/optim.html).\n",
        "\n",
        "(3) Pick an appropriate number of epoch to train for.\n",
        "\n",
        "(4) Make a line plot showing the loss across all training epochs."
      ],
      "metadata": {
        "id": "iI2hmsDYu1jS"
      }
    },
    {
      "cell_type": "code",
      "execution_count": null,
      "metadata": {
        "id": "FpXJARJceXM6"
      },
      "outputs": [],
      "source": [
        "# build the model \n",
        "input_size = # ENTER CODE HERE\n",
        "hidden_size = # ENTER CODE HERE\n",
        "num_classes = # ENTER CODE HERE\n",
        "model = MLPmodel(input_size, hidden_size, num_classes)\n",
        "\n",
        "# define the loss function and the optimiser\n",
        "loss_function =# ENTER CODE HERE\n",
        "optimiser = # ENTER CODE HERE\n",
        "\n",
        "# define number of epochs to train for\n",
        "nepoch =# ENTER CODE HERE\n",
        "\n",
        "# the epoch loop\n",
        "for epoch in range(nepoch):\n",
        "    running_loss = 0.0\n",
        "    for data in trainloader:\n",
        "        # get the inputs\n",
        "        inputs, labels = data\n",
        "\n",
        "        # zero the parameter gradients\n",
        "        optimiser.zero_grad()\n",
        "\n",
        "        # forward + loss + backward + optimise (update weights)\n",
        "        outputs = model(inputs)\n",
        "        loss = loss_function(outputs, labels)\n",
        "        loss.backward()\n",
        "        optimiser.step()\n",
        "\n",
        "        # keep track of the loss this epoch\n",
        "        running_loss += loss.item()\n",
        "\n",
        "# plot epoch vs loss\n",
        "# ENTER CODE HERE\n"
      ]
    },
    {
      "cell_type": "markdown",
      "source": [
        "Let's evaluate the overall accuracy of our trained network on our test set. Use the following code block to finish implementation of the accuracy computation. Report the test accuracy as the percent of cells where the age of the mouse was correctly predicted by the trained MLP model. Note that before the code you need to implement we've made a call to model.eval() - this sets the model into evaluation mode and supresses non-training things (gradients, dropout being applied/computed, etc.)."
      ],
      "metadata": {
        "id": "sw_W4qN8vNT4"
      }
    },
    {
      "cell_type": "code",
      "source": [
        "model.eval()\n",
        "\n",
        "# Compute the model accuracy on the test set\n",
        "# ENTER CODE HERE\n",
        "ncorrect = \n",
        "ntotal = \n",
        "\n",
        "print('Test Accuracy: %2.2f %%' % ((100.0 * ncorrect) / ntotal))"
      ],
      "metadata": {
        "id": "LHgzcmiHvNsP"
      },
      "execution_count": null,
      "outputs": []
    },
    {
      "cell_type": "markdown",
      "source": [
        "**Repeat the steps above for type II pneumocytes. Use the exact same set of hyperparameters you set for training on alveolar macrophages.**\n",
        "\n",
        "**Show all your code and report the following**:\n",
        "\n",
        "(1) A loss curve showing the loss value for each epoch\n",
        "\n",
        "(2) Test accuracy on the T2P test set"
      ],
      "metadata": {
        "id": "asURYZdRvRu-"
      }
    },
    {
      "cell_type": "code",
      "source": [
        "# train the same MLP model used above for T2P\n",
        "# ENTER CODE HERE\n",
        "\n",
        "# plot loss across epoch\n",
        "# ENTER CODE HERE\n",
        "\n",
        "# report model accuracy on T2P test set\n",
        "# ENTER CODE HERE"
      ],
      "metadata": {
        "id": "j9NsbYcNvVRx"
      },
      "execution_count": null,
      "outputs": []
    },
    {
      "cell_type": "markdown",
      "source": [
        "**iv) Make a bar plot showing the test accuracy across all four models that you built. (10 points)**\n",
        "\n",
        "You can use https://matplotlib.org/stable/api/_as_gen/matplotlib.pyplot.bar.html \n",
        "\n",
        "1.   logistic regression using alveolar macrophage \n",
        "2.   logistic regression using type II pneumocytes \n",
        "3.   neural network using alveolar macrophage\n",
        "4.   neural network using type II pneumocytes"
      ],
      "metadata": {
        "id": "RTqgz0nNvVlU"
      }
    },
    {
      "cell_type": "code",
      "source": [
        "# make bar plot\n",
        "# ENTER CODE HERE\n"
      ],
      "metadata": {
        "id": "qjnqOknNvV9z"
      },
      "execution_count": null,
      "outputs": []
    }
  ],
  "metadata": {
    "colab": {
      "provenance": [],
      "include_colab_link": true
    },
    "kernelspec": {
      "display_name": "Python 3",
      "name": "python3"
    },
    "language_info": {
      "name": "python"
    }
  },
  "nbformat": 4,
  "nbformat_minor": 0
}